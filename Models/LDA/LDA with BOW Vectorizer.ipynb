{
  "nbformat": 4,
  "nbformat_minor": 0,
  "metadata": {
    "colab": {
      "provenance": []
    },
    "kernelspec": {
      "name": "python3",
      "display_name": "Python 3"
    },
    "language_info": {
      "name": "python"
    }
  },
  "cells": [
    {
      "cell_type": "markdown",
      "source": [
        "### Import Modules"
      ],
      "metadata": {
        "id": "xZ4pH6EB-xzn"
      }
    },
    {
      "cell_type": "code",
      "source": [
        "from google.colab import drive\n",
        "drive.mount('/content/drive')"
      ],
      "metadata": {
        "colab": {
          "base_uri": "https://localhost:8080/"
        },
        "id": "LJBmXrt8-y2J",
        "outputId": "5a43c772-19a6-41f6-becc-f84f8aa1f7f7"
      },
      "execution_count": null,
      "outputs": [
        {
          "output_type": "stream",
          "name": "stdout",
          "text": [
            "Mounted at /content/drive\n"
          ]
        }
      ]
    },
    {
      "cell_type": "code",
      "execution_count": null,
      "metadata": {
        "id": "2QpdYRku8OXI"
      },
      "outputs": [],
      "source": [
        "import pandas as pd\n",
        "import numpy as np\n",
        "import seaborn as sns\n",
        "import matplotlib.pyplot as plt"
      ]
    },
    {
      "cell_type": "code",
      "source": [
        "pd.set_option('display.max_rows', 500)\n",
        "pd.set_option('display.max_columns', 500)\n",
        "pd.set_option('display.width', 1000)"
      ],
      "metadata": {
        "id": "PkDHMEFe9HTV"
      },
      "execution_count": null,
      "outputs": []
    },
    {
      "cell_type": "code",
      "source": [
        "coursedata = pd.read_csv(\"/content/drive/MyDrive/coursera_data_course_level.csv\") \n",
        "coursedata.head()"
      ],
      "metadata": {
        "colab": {
          "base_uri": "https://localhost:8080/",
          "height": 337
        },
        "id": "aog0h36L8Z-O",
        "outputId": "7584ffa8-b68c-4bd7-b61c-7ffa0067cc36"
      },
      "execution_count": null,
      "outputs": [
        {
          "output_type": "execute_result",
          "data": {
            "text/plain": [
              "                                      course_title difficulty_level                      duration                                             skills                       instructors                                        description      rating                                  offered_by language                                   syllabus_heading                                   syllabus_details\n",
              "0                 Cloud Computing Concepts, Part 1   Beginner Level  Approx. 23 hours to complete  ['Distributed Algorithm', 'Distributed Computi...                ['Indranil Gupta']  Cloud computing systems today, whether open-so...  4.4\\nstars  University of Illinois at Urbana-Champaign  English  ['Week 1: Orientation, Introduction to Clouds,...  ['This course is oriented towards learners wit...\n",
              "1                  The Challenges of Global Health   Beginner Level  Approx. 20 hours to complete                                                 []                ['Dr. David Boyd']  What are the world’s major health challenges? ...  4.8\\nstars                             Duke University  English  ['Getting Started', 'Basic Concepts in Global ...  ['Start here! ', 'This module covers some of t...\n",
              "2            Digital Marketing Analytics in Theory   Beginner Level  Approx. 20 hours to complete  ['Digital Marketing', 'Data Collection', 'Anal...                 ['Kevin Hartman']  Successfully marketing brands today requires a...  4.5\\nstars  University of Illinois at Urbana-Champaign  English  ['Course Overview and The Day The Geeks Took O...  ['In the orientation, you will become familiar...\n",
              "3  Digital Product Management: Modern Fundamentals   Beginner Level  Approx. 11 hours to complete  ['Product/Market Fit', 'Product Management', '...                    ['Alex Cowan']  Not so long ago, the job of product manager wa...  4.7\\nstars                      University of Virginia  English  ['Achieving Focus and #Winning', \"Using Today'...  ['As a product manager, you and your team will...\n",
              "4                             The Nature of Genius   Beginner Level  Approx. 28 hours to complete  ['Creativity', 'Art', 'History', 'Psychology',...  ['Craig Wright\\nTOP INSTRUCTOR']  Today \"genius\" is all around us. Celebrities, ...         NaN                             Yale University  English  ['Genius Defined,   Genius Denied ,  Genius an...  ['In Section 1 of Module 1 we determine, jokin..."
            ],
            "text/html": [
              "\n",
              "  <div id=\"df-ba7a18b4-5651-47e1-840a-232bf9d95c4b\">\n",
              "    <div class=\"colab-df-container\">\n",
              "      <div>\n",
              "<style scoped>\n",
              "    .dataframe tbody tr th:only-of-type {\n",
              "        vertical-align: middle;\n",
              "    }\n",
              "\n",
              "    .dataframe tbody tr th {\n",
              "        vertical-align: top;\n",
              "    }\n",
              "\n",
              "    .dataframe thead th {\n",
              "        text-align: right;\n",
              "    }\n",
              "</style>\n",
              "<table border=\"1\" class=\"dataframe\">\n",
              "  <thead>\n",
              "    <tr style=\"text-align: right;\">\n",
              "      <th></th>\n",
              "      <th>course_title</th>\n",
              "      <th>difficulty_level</th>\n",
              "      <th>duration</th>\n",
              "      <th>skills</th>\n",
              "      <th>instructors</th>\n",
              "      <th>description</th>\n",
              "      <th>rating</th>\n",
              "      <th>offered_by</th>\n",
              "      <th>language</th>\n",
              "      <th>syllabus_heading</th>\n",
              "      <th>syllabus_details</th>\n",
              "    </tr>\n",
              "  </thead>\n",
              "  <tbody>\n",
              "    <tr>\n",
              "      <th>0</th>\n",
              "      <td>Cloud Computing Concepts, Part 1</td>\n",
              "      <td>Beginner Level</td>\n",
              "      <td>Approx. 23 hours to complete</td>\n",
              "      <td>['Distributed Algorithm', 'Distributed Computi...</td>\n",
              "      <td>['Indranil Gupta']</td>\n",
              "      <td>Cloud computing systems today, whether open-so...</td>\n",
              "      <td>4.4\\nstars</td>\n",
              "      <td>University of Illinois at Urbana-Champaign</td>\n",
              "      <td>English</td>\n",
              "      <td>['Week 1: Orientation, Introduction to Clouds,...</td>\n",
              "      <td>['This course is oriented towards learners wit...</td>\n",
              "    </tr>\n",
              "    <tr>\n",
              "      <th>1</th>\n",
              "      <td>The Challenges of Global Health</td>\n",
              "      <td>Beginner Level</td>\n",
              "      <td>Approx. 20 hours to complete</td>\n",
              "      <td>[]</td>\n",
              "      <td>['Dr. David Boyd']</td>\n",
              "      <td>What are the world’s major health challenges? ...</td>\n",
              "      <td>4.8\\nstars</td>\n",
              "      <td>Duke University</td>\n",
              "      <td>English</td>\n",
              "      <td>['Getting Started', 'Basic Concepts in Global ...</td>\n",
              "      <td>['Start here! ', 'This module covers some of t...</td>\n",
              "    </tr>\n",
              "    <tr>\n",
              "      <th>2</th>\n",
              "      <td>Digital Marketing Analytics in Theory</td>\n",
              "      <td>Beginner Level</td>\n",
              "      <td>Approx. 20 hours to complete</td>\n",
              "      <td>['Digital Marketing', 'Data Collection', 'Anal...</td>\n",
              "      <td>['Kevin Hartman']</td>\n",
              "      <td>Successfully marketing brands today requires a...</td>\n",
              "      <td>4.5\\nstars</td>\n",
              "      <td>University of Illinois at Urbana-Champaign</td>\n",
              "      <td>English</td>\n",
              "      <td>['Course Overview and The Day The Geeks Took O...</td>\n",
              "      <td>['In the orientation, you will become familiar...</td>\n",
              "    </tr>\n",
              "    <tr>\n",
              "      <th>3</th>\n",
              "      <td>Digital Product Management: Modern Fundamentals</td>\n",
              "      <td>Beginner Level</td>\n",
              "      <td>Approx. 11 hours to complete</td>\n",
              "      <td>['Product/Market Fit', 'Product Management', '...</td>\n",
              "      <td>['Alex Cowan']</td>\n",
              "      <td>Not so long ago, the job of product manager wa...</td>\n",
              "      <td>4.7\\nstars</td>\n",
              "      <td>University of Virginia</td>\n",
              "      <td>English</td>\n",
              "      <td>['Achieving Focus and #Winning', \"Using Today'...</td>\n",
              "      <td>['As a product manager, you and your team will...</td>\n",
              "    </tr>\n",
              "    <tr>\n",
              "      <th>4</th>\n",
              "      <td>The Nature of Genius</td>\n",
              "      <td>Beginner Level</td>\n",
              "      <td>Approx. 28 hours to complete</td>\n",
              "      <td>['Creativity', 'Art', 'History', 'Psychology',...</td>\n",
              "      <td>['Craig Wright\\nTOP INSTRUCTOR']</td>\n",
              "      <td>Today \"genius\" is all around us. Celebrities, ...</td>\n",
              "      <td>NaN</td>\n",
              "      <td>Yale University</td>\n",
              "      <td>English</td>\n",
              "      <td>['Genius Defined,   Genius Denied ,  Genius an...</td>\n",
              "      <td>['In Section 1 of Module 1 we determine, jokin...</td>\n",
              "    </tr>\n",
              "  </tbody>\n",
              "</table>\n",
              "</div>\n",
              "      <button class=\"colab-df-convert\" onclick=\"convertToInteractive('df-ba7a18b4-5651-47e1-840a-232bf9d95c4b')\"\n",
              "              title=\"Convert this dataframe to an interactive table.\"\n",
              "              style=\"display:none;\">\n",
              "        \n",
              "  <svg xmlns=\"http://www.w3.org/2000/svg\" height=\"24px\"viewBox=\"0 0 24 24\"\n",
              "       width=\"24px\">\n",
              "    <path d=\"M0 0h24v24H0V0z\" fill=\"none\"/>\n",
              "    <path d=\"M18.56 5.44l.94 2.06.94-2.06 2.06-.94-2.06-.94-.94-2.06-.94 2.06-2.06.94zm-11 1L8.5 8.5l.94-2.06 2.06-.94-2.06-.94L8.5 2.5l-.94 2.06-2.06.94zm10 10l.94 2.06.94-2.06 2.06-.94-2.06-.94-.94-2.06-.94 2.06-2.06.94z\"/><path d=\"M17.41 7.96l-1.37-1.37c-.4-.4-.92-.59-1.43-.59-.52 0-1.04.2-1.43.59L10.3 9.45l-7.72 7.72c-.78.78-.78 2.05 0 2.83L4 21.41c.39.39.9.59 1.41.59.51 0 1.02-.2 1.41-.59l7.78-7.78 2.81-2.81c.8-.78.8-2.07 0-2.86zM5.41 20L4 18.59l7.72-7.72 1.47 1.35L5.41 20z\"/>\n",
              "  </svg>\n",
              "      </button>\n",
              "      \n",
              "  <style>\n",
              "    .colab-df-container {\n",
              "      display:flex;\n",
              "      flex-wrap:wrap;\n",
              "      gap: 12px;\n",
              "    }\n",
              "\n",
              "    .colab-df-convert {\n",
              "      background-color: #E8F0FE;\n",
              "      border: none;\n",
              "      border-radius: 50%;\n",
              "      cursor: pointer;\n",
              "      display: none;\n",
              "      fill: #1967D2;\n",
              "      height: 32px;\n",
              "      padding: 0 0 0 0;\n",
              "      width: 32px;\n",
              "    }\n",
              "\n",
              "    .colab-df-convert:hover {\n",
              "      background-color: #E2EBFA;\n",
              "      box-shadow: 0px 1px 2px rgba(60, 64, 67, 0.3), 0px 1px 3px 1px rgba(60, 64, 67, 0.15);\n",
              "      fill: #174EA6;\n",
              "    }\n",
              "\n",
              "    [theme=dark] .colab-df-convert {\n",
              "      background-color: #3B4455;\n",
              "      fill: #D2E3FC;\n",
              "    }\n",
              "\n",
              "    [theme=dark] .colab-df-convert:hover {\n",
              "      background-color: #434B5C;\n",
              "      box-shadow: 0px 1px 3px 1px rgba(0, 0, 0, 0.15);\n",
              "      filter: drop-shadow(0px 1px 2px rgba(0, 0, 0, 0.3));\n",
              "      fill: #FFFFFF;\n",
              "    }\n",
              "  </style>\n",
              "\n",
              "      <script>\n",
              "        const buttonEl =\n",
              "          document.querySelector('#df-ba7a18b4-5651-47e1-840a-232bf9d95c4b button.colab-df-convert');\n",
              "        buttonEl.style.display =\n",
              "          google.colab.kernel.accessAllowed ? 'block' : 'none';\n",
              "\n",
              "        async function convertToInteractive(key) {\n",
              "          const element = document.querySelector('#df-ba7a18b4-5651-47e1-840a-232bf9d95c4b');\n",
              "          const dataTable =\n",
              "            await google.colab.kernel.invokeFunction('convertToInteractive',\n",
              "                                                     [key], {});\n",
              "          if (!dataTable) return;\n",
              "\n",
              "          const docLinkHtml = 'Like what you see? Visit the ' +\n",
              "            '<a target=\"_blank\" href=https://colab.research.google.com/notebooks/data_table.ipynb>data table notebook</a>'\n",
              "            + ' to learn more about interactive tables.';\n",
              "          element.innerHTML = '';\n",
              "          dataTable['output_type'] = 'display_data';\n",
              "          await google.colab.output.renderOutput(dataTable, element);\n",
              "          const docLink = document.createElement('div');\n",
              "          docLink.innerHTML = docLinkHtml;\n",
              "          element.appendChild(docLink);\n",
              "        }\n",
              "      </script>\n",
              "    </div>\n",
              "  </div>\n",
              "  "
            ]
          },
          "metadata": {},
          "execution_count": 4
        }
      ]
    },
    {
      "cell_type": "markdown",
      "source": [
        "### Data Summary\n"
      ],
      "metadata": {
        "id": "RouBIQcA_JpD"
      }
    },
    {
      "cell_type": "code",
      "source": [
        "coursedata.info()"
      ],
      "metadata": {
        "colab": {
          "base_uri": "https://localhost:8080/"
        },
        "id": "o5RnFfw19VG4",
        "outputId": "c9f0e14b-7ecf-4290-9747-c7d156e53c87"
      },
      "execution_count": null,
      "outputs": [
        {
          "output_type": "stream",
          "name": "stdout",
          "text": [
            "<class 'pandas.core.frame.DataFrame'>\n",
            "RangeIndex: 6636 entries, 0 to 6635\n",
            "Data columns (total 11 columns):\n",
            " #   Column            Non-Null Count  Dtype \n",
            "---  ------            --------------  ----- \n",
            " 0   course_title      6134 non-null   object\n",
            " 1   difficulty_level  4736 non-null   object\n",
            " 2   duration          6096 non-null   object\n",
            " 3   skills            6636 non-null   object\n",
            " 4   instructors       6636 non-null   object\n",
            " 5   description       6635 non-null   object\n",
            " 6   rating            4651 non-null   object\n",
            " 7   offered_by        6636 non-null   object\n",
            " 8   language          6636 non-null   object\n",
            " 9   syllabus_heading  6636 non-null   object\n",
            " 10  syllabus_details  6636 non-null   object\n",
            "dtypes: object(11)\n",
            "memory usage: 570.4+ KB\n"
          ]
        }
      ]
    },
    {
      "cell_type": "code",
      "source": [
        "coursedata.describe()"
      ],
      "metadata": {
        "colab": {
          "base_uri": "https://localhost:8080/",
          "height": 175
        },
        "id": "TmFfnQY681dq",
        "outputId": "6e7d79c3-b0cc-47b0-d902-dddef55620dc"
      },
      "execution_count": null,
      "outputs": [
        {
          "output_type": "execute_result",
          "data": {
            "text/plain": [
              "       course_title difficulty_level                      duration skills instructors                                        description      rating    offered_by language syllabus_heading syllabus_details\n",
              "count          6134             4736                          6096   6636        6636                                               6635        4651          6636     6636             6636             6636\n",
              "unique         6117                3                            85   2990        3159                                               6126          21           261       21             5943             5440\n",
              "top      Leadership   Beginner Level  Approx. 12 hours to complete     []          []  We help millions of organizations empower thei...  4.8\\nstars  Google Cloud  English               []               []\n",
              "freq              3             3057                           330   3437         504                                                502        1186           739     4824              540              539"
            ],
            "text/html": [
              "\n",
              "  <div id=\"df-72d99198-137b-4b8c-bb72-436530fd240c\">\n",
              "    <div class=\"colab-df-container\">\n",
              "      <div>\n",
              "<style scoped>\n",
              "    .dataframe tbody tr th:only-of-type {\n",
              "        vertical-align: middle;\n",
              "    }\n",
              "\n",
              "    .dataframe tbody tr th {\n",
              "        vertical-align: top;\n",
              "    }\n",
              "\n",
              "    .dataframe thead th {\n",
              "        text-align: right;\n",
              "    }\n",
              "</style>\n",
              "<table border=\"1\" class=\"dataframe\">\n",
              "  <thead>\n",
              "    <tr style=\"text-align: right;\">\n",
              "      <th></th>\n",
              "      <th>course_title</th>\n",
              "      <th>difficulty_level</th>\n",
              "      <th>duration</th>\n",
              "      <th>skills</th>\n",
              "      <th>instructors</th>\n",
              "      <th>description</th>\n",
              "      <th>rating</th>\n",
              "      <th>offered_by</th>\n",
              "      <th>language</th>\n",
              "      <th>syllabus_heading</th>\n",
              "      <th>syllabus_details</th>\n",
              "    </tr>\n",
              "  </thead>\n",
              "  <tbody>\n",
              "    <tr>\n",
              "      <th>count</th>\n",
              "      <td>6134</td>\n",
              "      <td>4736</td>\n",
              "      <td>6096</td>\n",
              "      <td>6636</td>\n",
              "      <td>6636</td>\n",
              "      <td>6635</td>\n",
              "      <td>4651</td>\n",
              "      <td>6636</td>\n",
              "      <td>6636</td>\n",
              "      <td>6636</td>\n",
              "      <td>6636</td>\n",
              "    </tr>\n",
              "    <tr>\n",
              "      <th>unique</th>\n",
              "      <td>6117</td>\n",
              "      <td>3</td>\n",
              "      <td>85</td>\n",
              "      <td>2990</td>\n",
              "      <td>3159</td>\n",
              "      <td>6126</td>\n",
              "      <td>21</td>\n",
              "      <td>261</td>\n",
              "      <td>21</td>\n",
              "      <td>5943</td>\n",
              "      <td>5440</td>\n",
              "    </tr>\n",
              "    <tr>\n",
              "      <th>top</th>\n",
              "      <td>Leadership</td>\n",
              "      <td>Beginner Level</td>\n",
              "      <td>Approx. 12 hours to complete</td>\n",
              "      <td>[]</td>\n",
              "      <td>[]</td>\n",
              "      <td>We help millions of organizations empower thei...</td>\n",
              "      <td>4.8\\nstars</td>\n",
              "      <td>Google Cloud</td>\n",
              "      <td>English</td>\n",
              "      <td>[]</td>\n",
              "      <td>[]</td>\n",
              "    </tr>\n",
              "    <tr>\n",
              "      <th>freq</th>\n",
              "      <td>3</td>\n",
              "      <td>3057</td>\n",
              "      <td>330</td>\n",
              "      <td>3437</td>\n",
              "      <td>504</td>\n",
              "      <td>502</td>\n",
              "      <td>1186</td>\n",
              "      <td>739</td>\n",
              "      <td>4824</td>\n",
              "      <td>540</td>\n",
              "      <td>539</td>\n",
              "    </tr>\n",
              "  </tbody>\n",
              "</table>\n",
              "</div>\n",
              "      <button class=\"colab-df-convert\" onclick=\"convertToInteractive('df-72d99198-137b-4b8c-bb72-436530fd240c')\"\n",
              "              title=\"Convert this dataframe to an interactive table.\"\n",
              "              style=\"display:none;\">\n",
              "        \n",
              "  <svg xmlns=\"http://www.w3.org/2000/svg\" height=\"24px\"viewBox=\"0 0 24 24\"\n",
              "       width=\"24px\">\n",
              "    <path d=\"M0 0h24v24H0V0z\" fill=\"none\"/>\n",
              "    <path d=\"M18.56 5.44l.94 2.06.94-2.06 2.06-.94-2.06-.94-.94-2.06-.94 2.06-2.06.94zm-11 1L8.5 8.5l.94-2.06 2.06-.94-2.06-.94L8.5 2.5l-.94 2.06-2.06.94zm10 10l.94 2.06.94-2.06 2.06-.94-2.06-.94-.94-2.06-.94 2.06-2.06.94z\"/><path d=\"M17.41 7.96l-1.37-1.37c-.4-.4-.92-.59-1.43-.59-.52 0-1.04.2-1.43.59L10.3 9.45l-7.72 7.72c-.78.78-.78 2.05 0 2.83L4 21.41c.39.39.9.59 1.41.59.51 0 1.02-.2 1.41-.59l7.78-7.78 2.81-2.81c.8-.78.8-2.07 0-2.86zM5.41 20L4 18.59l7.72-7.72 1.47 1.35L5.41 20z\"/>\n",
              "  </svg>\n",
              "      </button>\n",
              "      \n",
              "  <style>\n",
              "    .colab-df-container {\n",
              "      display:flex;\n",
              "      flex-wrap:wrap;\n",
              "      gap: 12px;\n",
              "    }\n",
              "\n",
              "    .colab-df-convert {\n",
              "      background-color: #E8F0FE;\n",
              "      border: none;\n",
              "      border-radius: 50%;\n",
              "      cursor: pointer;\n",
              "      display: none;\n",
              "      fill: #1967D2;\n",
              "      height: 32px;\n",
              "      padding: 0 0 0 0;\n",
              "      width: 32px;\n",
              "    }\n",
              "\n",
              "    .colab-df-convert:hover {\n",
              "      background-color: #E2EBFA;\n",
              "      box-shadow: 0px 1px 2px rgba(60, 64, 67, 0.3), 0px 1px 3px 1px rgba(60, 64, 67, 0.15);\n",
              "      fill: #174EA6;\n",
              "    }\n",
              "\n",
              "    [theme=dark] .colab-df-convert {\n",
              "      background-color: #3B4455;\n",
              "      fill: #D2E3FC;\n",
              "    }\n",
              "\n",
              "    [theme=dark] .colab-df-convert:hover {\n",
              "      background-color: #434B5C;\n",
              "      box-shadow: 0px 1px 3px 1px rgba(0, 0, 0, 0.15);\n",
              "      filter: drop-shadow(0px 1px 2px rgba(0, 0, 0, 0.3));\n",
              "      fill: #FFFFFF;\n",
              "    }\n",
              "  </style>\n",
              "\n",
              "      <script>\n",
              "        const buttonEl =\n",
              "          document.querySelector('#df-72d99198-137b-4b8c-bb72-436530fd240c button.colab-df-convert');\n",
              "        buttonEl.style.display =\n",
              "          google.colab.kernel.accessAllowed ? 'block' : 'none';\n",
              "\n",
              "        async function convertToInteractive(key) {\n",
              "          const element = document.querySelector('#df-72d99198-137b-4b8c-bb72-436530fd240c');\n",
              "          const dataTable =\n",
              "            await google.colab.kernel.invokeFunction('convertToInteractive',\n",
              "                                                     [key], {});\n",
              "          if (!dataTable) return;\n",
              "\n",
              "          const docLinkHtml = 'Like what you see? Visit the ' +\n",
              "            '<a target=\"_blank\" href=https://colab.research.google.com/notebooks/data_table.ipynb>data table notebook</a>'\n",
              "            + ' to learn more about interactive tables.';\n",
              "          element.innerHTML = '';\n",
              "          dataTable['output_type'] = 'display_data';\n",
              "          await google.colab.output.renderOutput(dataTable, element);\n",
              "          const docLink = document.createElement('div');\n",
              "          docLink.innerHTML = docLinkHtml;\n",
              "          element.appendChild(docLink);\n",
              "        }\n",
              "      </script>\n",
              "    </div>\n",
              "  </div>\n",
              "  "
            ]
          },
          "metadata": {},
          "execution_count": 6
        }
      ]
    },
    {
      "cell_type": "code",
      "source": [
        "coursedata.columns"
      ],
      "metadata": {
        "colab": {
          "base_uri": "https://localhost:8080/"
        },
        "id": "-ARVaq8W-qok",
        "outputId": "d5eaaf28-3600-449d-d976-e38cc7f7d281"
      },
      "execution_count": null,
      "outputs": [
        {
          "output_type": "execute_result",
          "data": {
            "text/plain": [
              "Index(['course_title', 'difficulty_level', 'duration', 'skills', 'instructors', 'description', 'rating', 'offered_by', 'language', 'syllabus_heading', 'syllabus_details'], dtype='object')"
            ]
          },
          "metadata": {},
          "execution_count": 7
        }
      ]
    },
    {
      "cell_type": "code",
      "source": [
        "coursedata.dtypes"
      ],
      "metadata": {
        "colab": {
          "base_uri": "https://localhost:8080/"
        },
        "id": "wX_iQkqH-s7H",
        "outputId": "2efafc95-8d3f-4aa3-b37e-c8ec77b09914"
      },
      "execution_count": null,
      "outputs": [
        {
          "output_type": "execute_result",
          "data": {
            "text/plain": [
              "course_title        object\n",
              "difficulty_level    object\n",
              "duration            object\n",
              "skills              object\n",
              "instructors         object\n",
              "description         object\n",
              "rating              object\n",
              "offered_by          object\n",
              "language            object\n",
              "syllabus_heading    object\n",
              "syllabus_details    object\n",
              "dtype: object"
            ]
          },
          "metadata": {},
          "execution_count": 8
        }
      ]
    },
    {
      "cell_type": "markdown",
      "source": [
        "### Data Preprocessing"
      ],
      "metadata": {
        "id": "uzC7Ab-7--kd"
      }
    },
    {
      "cell_type": "code",
      "source": [
        "coursedata['difficulty_level'].value_counts()"
      ],
      "metadata": {
        "colab": {
          "base_uri": "https://localhost:8080/"
        },
        "id": "aSE0HHGy9azp",
        "outputId": "a8c6e1a2-d167-47ba-b4dd-2dc5adbfdc51"
      },
      "execution_count": null,
      "outputs": [
        {
          "output_type": "execute_result",
          "data": {
            "text/plain": [
              "Beginner Level        3057\n",
              "Intermediate Level    1489\n",
              "Advanced Level         190\n",
              "Name: difficulty_level, dtype: int64"
            ]
          },
          "metadata": {},
          "execution_count": 9
        }
      ]
    },
    {
      "cell_type": "code",
      "source": [
        "coursedata.shape"
      ],
      "metadata": {
        "colab": {
          "base_uri": "https://localhost:8080/"
        },
        "id": "gThmZHX6_vgT",
        "outputId": "6f157614-b66e-4d1a-cb8b-75de64b44684"
      },
      "execution_count": null,
      "outputs": [
        {
          "output_type": "execute_result",
          "data": {
            "text/plain": [
              "(6636, 11)"
            ]
          },
          "metadata": {},
          "execution_count": 10
        }
      ]
    },
    {
      "cell_type": "code",
      "source": [
        "#Replace NAN values intially with \"0\"\n",
        "#Extracting hours \n",
        "#Replaces \"0\" with median value\n",
        "coursedata['duration'].fillna(\"0\",inplace=True)\n",
        "coursedata['duration'].value_counts().sum()"
      ],
      "metadata": {
        "colab": {
          "base_uri": "https://localhost:8080/"
        },
        "id": "qQLqoxoSAFVI",
        "outputId": "dd6c8841-8e5f-43fa-871a-aba6985e4e84"
      },
      "execution_count": null,
      "outputs": [
        {
          "output_type": "execute_result",
          "data": {
            "text/plain": [
              "6636"
            ]
          },
          "metadata": {},
          "execution_count": 11
        }
      ]
    },
    {
      "cell_type": "code",
      "source": [
        "hours = coursedata['duration'].astype('str').str.extractall('(\\d+)').unstack().sum(axis=1).astype(int)\n",
        "coursedata['duration'] = hours\n",
        "coursedata.head()"
      ],
      "metadata": {
        "colab": {
          "base_uri": "https://localhost:8080/",
          "height": 337
        },
        "id": "EOYD0e0u9tL6",
        "outputId": "a6804f3a-2b8a-4fa1-a650-bb58a01e7840"
      },
      "execution_count": null,
      "outputs": [
        {
          "output_type": "execute_result",
          "data": {
            "text/plain": [
              "                                      course_title difficulty_level  duration                                             skills                       instructors                                        description      rating                                  offered_by language                                   syllabus_heading                                   syllabus_details\n",
              "0                 Cloud Computing Concepts, Part 1   Beginner Level        23  ['Distributed Algorithm', 'Distributed Computi...                ['Indranil Gupta']  Cloud computing systems today, whether open-so...  4.4\\nstars  University of Illinois at Urbana-Champaign  English  ['Week 1: Orientation, Introduction to Clouds,...  ['This course is oriented towards learners wit...\n",
              "1                  The Challenges of Global Health   Beginner Level        20                                                 []                ['Dr. David Boyd']  What are the world’s major health challenges? ...  4.8\\nstars                             Duke University  English  ['Getting Started', 'Basic Concepts in Global ...  ['Start here! ', 'This module covers some of t...\n",
              "2            Digital Marketing Analytics in Theory   Beginner Level        20  ['Digital Marketing', 'Data Collection', 'Anal...                 ['Kevin Hartman']  Successfully marketing brands today requires a...  4.5\\nstars  University of Illinois at Urbana-Champaign  English  ['Course Overview and The Day The Geeks Took O...  ['In the orientation, you will become familiar...\n",
              "3  Digital Product Management: Modern Fundamentals   Beginner Level        11  ['Product/Market Fit', 'Product Management', '...                    ['Alex Cowan']  Not so long ago, the job of product manager wa...  4.7\\nstars                      University of Virginia  English  ['Achieving Focus and #Winning', \"Using Today'...  ['As a product manager, you and your team will...\n",
              "4                             The Nature of Genius   Beginner Level        28  ['Creativity', 'Art', 'History', 'Psychology',...  ['Craig Wright\\nTOP INSTRUCTOR']  Today \"genius\" is all around us. Celebrities, ...         NaN                             Yale University  English  ['Genius Defined,   Genius Denied ,  Genius an...  ['In Section 1 of Module 1 we determine, jokin..."
            ],
            "text/html": [
              "\n",
              "  <div id=\"df-ba66292c-b8c2-4719-a9c1-879bbb8eb55d\">\n",
              "    <div class=\"colab-df-container\">\n",
              "      <div>\n",
              "<style scoped>\n",
              "    .dataframe tbody tr th:only-of-type {\n",
              "        vertical-align: middle;\n",
              "    }\n",
              "\n",
              "    .dataframe tbody tr th {\n",
              "        vertical-align: top;\n",
              "    }\n",
              "\n",
              "    .dataframe thead th {\n",
              "        text-align: right;\n",
              "    }\n",
              "</style>\n",
              "<table border=\"1\" class=\"dataframe\">\n",
              "  <thead>\n",
              "    <tr style=\"text-align: right;\">\n",
              "      <th></th>\n",
              "      <th>course_title</th>\n",
              "      <th>difficulty_level</th>\n",
              "      <th>duration</th>\n",
              "      <th>skills</th>\n",
              "      <th>instructors</th>\n",
              "      <th>description</th>\n",
              "      <th>rating</th>\n",
              "      <th>offered_by</th>\n",
              "      <th>language</th>\n",
              "      <th>syllabus_heading</th>\n",
              "      <th>syllabus_details</th>\n",
              "    </tr>\n",
              "  </thead>\n",
              "  <tbody>\n",
              "    <tr>\n",
              "      <th>0</th>\n",
              "      <td>Cloud Computing Concepts, Part 1</td>\n",
              "      <td>Beginner Level</td>\n",
              "      <td>23</td>\n",
              "      <td>['Distributed Algorithm', 'Distributed Computi...</td>\n",
              "      <td>['Indranil Gupta']</td>\n",
              "      <td>Cloud computing systems today, whether open-so...</td>\n",
              "      <td>4.4\\nstars</td>\n",
              "      <td>University of Illinois at Urbana-Champaign</td>\n",
              "      <td>English</td>\n",
              "      <td>['Week 1: Orientation, Introduction to Clouds,...</td>\n",
              "      <td>['This course is oriented towards learners wit...</td>\n",
              "    </tr>\n",
              "    <tr>\n",
              "      <th>1</th>\n",
              "      <td>The Challenges of Global Health</td>\n",
              "      <td>Beginner Level</td>\n",
              "      <td>20</td>\n",
              "      <td>[]</td>\n",
              "      <td>['Dr. David Boyd']</td>\n",
              "      <td>What are the world’s major health challenges? ...</td>\n",
              "      <td>4.8\\nstars</td>\n",
              "      <td>Duke University</td>\n",
              "      <td>English</td>\n",
              "      <td>['Getting Started', 'Basic Concepts in Global ...</td>\n",
              "      <td>['Start here! ', 'This module covers some of t...</td>\n",
              "    </tr>\n",
              "    <tr>\n",
              "      <th>2</th>\n",
              "      <td>Digital Marketing Analytics in Theory</td>\n",
              "      <td>Beginner Level</td>\n",
              "      <td>20</td>\n",
              "      <td>['Digital Marketing', 'Data Collection', 'Anal...</td>\n",
              "      <td>['Kevin Hartman']</td>\n",
              "      <td>Successfully marketing brands today requires a...</td>\n",
              "      <td>4.5\\nstars</td>\n",
              "      <td>University of Illinois at Urbana-Champaign</td>\n",
              "      <td>English</td>\n",
              "      <td>['Course Overview and The Day The Geeks Took O...</td>\n",
              "      <td>['In the orientation, you will become familiar...</td>\n",
              "    </tr>\n",
              "    <tr>\n",
              "      <th>3</th>\n",
              "      <td>Digital Product Management: Modern Fundamentals</td>\n",
              "      <td>Beginner Level</td>\n",
              "      <td>11</td>\n",
              "      <td>['Product/Market Fit', 'Product Management', '...</td>\n",
              "      <td>['Alex Cowan']</td>\n",
              "      <td>Not so long ago, the job of product manager wa...</td>\n",
              "      <td>4.7\\nstars</td>\n",
              "      <td>University of Virginia</td>\n",
              "      <td>English</td>\n",
              "      <td>['Achieving Focus and #Winning', \"Using Today'...</td>\n",
              "      <td>['As a product manager, you and your team will...</td>\n",
              "    </tr>\n",
              "    <tr>\n",
              "      <th>4</th>\n",
              "      <td>The Nature of Genius</td>\n",
              "      <td>Beginner Level</td>\n",
              "      <td>28</td>\n",
              "      <td>['Creativity', 'Art', 'History', 'Psychology',...</td>\n",
              "      <td>['Craig Wright\\nTOP INSTRUCTOR']</td>\n",
              "      <td>Today \"genius\" is all around us. Celebrities, ...</td>\n",
              "      <td>NaN</td>\n",
              "      <td>Yale University</td>\n",
              "      <td>English</td>\n",
              "      <td>['Genius Defined,   Genius Denied ,  Genius an...</td>\n",
              "      <td>['In Section 1 of Module 1 we determine, jokin...</td>\n",
              "    </tr>\n",
              "  </tbody>\n",
              "</table>\n",
              "</div>\n",
              "      <button class=\"colab-df-convert\" onclick=\"convertToInteractive('df-ba66292c-b8c2-4719-a9c1-879bbb8eb55d')\"\n",
              "              title=\"Convert this dataframe to an interactive table.\"\n",
              "              style=\"display:none;\">\n",
              "        \n",
              "  <svg xmlns=\"http://www.w3.org/2000/svg\" height=\"24px\"viewBox=\"0 0 24 24\"\n",
              "       width=\"24px\">\n",
              "    <path d=\"M0 0h24v24H0V0z\" fill=\"none\"/>\n",
              "    <path d=\"M18.56 5.44l.94 2.06.94-2.06 2.06-.94-2.06-.94-.94-2.06-.94 2.06-2.06.94zm-11 1L8.5 8.5l.94-2.06 2.06-.94-2.06-.94L8.5 2.5l-.94 2.06-2.06.94zm10 10l.94 2.06.94-2.06 2.06-.94-2.06-.94-.94-2.06-.94 2.06-2.06.94z\"/><path d=\"M17.41 7.96l-1.37-1.37c-.4-.4-.92-.59-1.43-.59-.52 0-1.04.2-1.43.59L10.3 9.45l-7.72 7.72c-.78.78-.78 2.05 0 2.83L4 21.41c.39.39.9.59 1.41.59.51 0 1.02-.2 1.41-.59l7.78-7.78 2.81-2.81c.8-.78.8-2.07 0-2.86zM5.41 20L4 18.59l7.72-7.72 1.47 1.35L5.41 20z\"/>\n",
              "  </svg>\n",
              "      </button>\n",
              "      \n",
              "  <style>\n",
              "    .colab-df-container {\n",
              "      display:flex;\n",
              "      flex-wrap:wrap;\n",
              "      gap: 12px;\n",
              "    }\n",
              "\n",
              "    .colab-df-convert {\n",
              "      background-color: #E8F0FE;\n",
              "      border: none;\n",
              "      border-radius: 50%;\n",
              "      cursor: pointer;\n",
              "      display: none;\n",
              "      fill: #1967D2;\n",
              "      height: 32px;\n",
              "      padding: 0 0 0 0;\n",
              "      width: 32px;\n",
              "    }\n",
              "\n",
              "    .colab-df-convert:hover {\n",
              "      background-color: #E2EBFA;\n",
              "      box-shadow: 0px 1px 2px rgba(60, 64, 67, 0.3), 0px 1px 3px 1px rgba(60, 64, 67, 0.15);\n",
              "      fill: #174EA6;\n",
              "    }\n",
              "\n",
              "    [theme=dark] .colab-df-convert {\n",
              "      background-color: #3B4455;\n",
              "      fill: #D2E3FC;\n",
              "    }\n",
              "\n",
              "    [theme=dark] .colab-df-convert:hover {\n",
              "      background-color: #434B5C;\n",
              "      box-shadow: 0px 1px 3px 1px rgba(0, 0, 0, 0.15);\n",
              "      filter: drop-shadow(0px 1px 2px rgba(0, 0, 0, 0.3));\n",
              "      fill: #FFFFFF;\n",
              "    }\n",
              "  </style>\n",
              "\n",
              "      <script>\n",
              "        const buttonEl =\n",
              "          document.querySelector('#df-ba66292c-b8c2-4719-a9c1-879bbb8eb55d button.colab-df-convert');\n",
              "        buttonEl.style.display =\n",
              "          google.colab.kernel.accessAllowed ? 'block' : 'none';\n",
              "\n",
              "        async function convertToInteractive(key) {\n",
              "          const element = document.querySelector('#df-ba66292c-b8c2-4719-a9c1-879bbb8eb55d');\n",
              "          const dataTable =\n",
              "            await google.colab.kernel.invokeFunction('convertToInteractive',\n",
              "                                                     [key], {});\n",
              "          if (!dataTable) return;\n",
              "\n",
              "          const docLinkHtml = 'Like what you see? Visit the ' +\n",
              "            '<a target=\"_blank\" href=https://colab.research.google.com/notebooks/data_table.ipynb>data table notebook</a>'\n",
              "            + ' to learn more about interactive tables.';\n",
              "          element.innerHTML = '';\n",
              "          dataTable['output_type'] = 'display_data';\n",
              "          await google.colab.output.renderOutput(dataTable, element);\n",
              "          const docLink = document.createElement('div');\n",
              "          docLink.innerHTML = docLinkHtml;\n",
              "          element.appendChild(docLink);\n",
              "        }\n",
              "      </script>\n",
              "    </div>\n",
              "  </div>\n",
              "  "
            ]
          },
          "metadata": {},
          "execution_count": 12
        }
      ]
    },
    {
      "cell_type": "code",
      "source": [
        "coursedata['duration'].shape"
      ],
      "metadata": {
        "colab": {
          "base_uri": "https://localhost:8080/"
        },
        "id": "lXox962TFr5K",
        "outputId": "15b488d4-3c6e-4b41-e433-31dc414afb25"
      },
      "execution_count": null,
      "outputs": [
        {
          "output_type": "execute_result",
          "data": {
            "text/plain": [
              "(6636,)"
            ]
          },
          "metadata": {},
          "execution_count": 13
        }
      ]
    },
    {
      "cell_type": "code",
      "source": [
        "print(coursedata['duration'].median())"
      ],
      "metadata": {
        "colab": {
          "base_uri": "https://localhost:8080/"
        },
        "id": "XwZoIylF_sxP",
        "outputId": "f6f81ad7-0516-473a-b5ba-e9a41382a7f7"
      },
      "execution_count": null,
      "outputs": [
        {
          "output_type": "stream",
          "name": "stdout",
          "text": [
            "13.0\n"
          ]
        }
      ]
    },
    {
      "cell_type": "code",
      "source": [
        "# coursedata['duration'].value_counts()"
      ],
      "metadata": {
        "id": "P80nLbkGB_jj"
      },
      "execution_count": null,
      "outputs": []
    },
    {
      "cell_type": "code",
      "source": [
        "\n",
        "coursedata['duration']=coursedata['duration'].replace(0,int(coursedata['duration'].median()))\n",
        "coursedata.head()"
      ],
      "metadata": {
        "colab": {
          "base_uri": "https://localhost:8080/",
          "height": 337
        },
        "id": "w1-6uvr3BazM",
        "outputId": "926958d5-a6e9-48d1-8d5c-bb57034118c9"
      },
      "execution_count": null,
      "outputs": [
        {
          "output_type": "execute_result",
          "data": {
            "text/plain": [
              "                                      course_title difficulty_level  duration                                             skills                       instructors                                        description      rating                                  offered_by language                                   syllabus_heading                                   syllabus_details\n",
              "0                 Cloud Computing Concepts, Part 1   Beginner Level        23  ['Distributed Algorithm', 'Distributed Computi...                ['Indranil Gupta']  Cloud computing systems today, whether open-so...  4.4\\nstars  University of Illinois at Urbana-Champaign  English  ['Week 1: Orientation, Introduction to Clouds,...  ['This course is oriented towards learners wit...\n",
              "1                  The Challenges of Global Health   Beginner Level        20                                                 []                ['Dr. David Boyd']  What are the world’s major health challenges? ...  4.8\\nstars                             Duke University  English  ['Getting Started', 'Basic Concepts in Global ...  ['Start here! ', 'This module covers some of t...\n",
              "2            Digital Marketing Analytics in Theory   Beginner Level        20  ['Digital Marketing', 'Data Collection', 'Anal...                 ['Kevin Hartman']  Successfully marketing brands today requires a...  4.5\\nstars  University of Illinois at Urbana-Champaign  English  ['Course Overview and The Day The Geeks Took O...  ['In the orientation, you will become familiar...\n",
              "3  Digital Product Management: Modern Fundamentals   Beginner Level        11  ['Product/Market Fit', 'Product Management', '...                    ['Alex Cowan']  Not so long ago, the job of product manager wa...  4.7\\nstars                      University of Virginia  English  ['Achieving Focus and #Winning', \"Using Today'...  ['As a product manager, you and your team will...\n",
              "4                             The Nature of Genius   Beginner Level        28  ['Creativity', 'Art', 'History', 'Psychology',...  ['Craig Wright\\nTOP INSTRUCTOR']  Today \"genius\" is all around us. Celebrities, ...         NaN                             Yale University  English  ['Genius Defined,   Genius Denied ,  Genius an...  ['In Section 1 of Module 1 we determine, jokin..."
            ],
            "text/html": [
              "\n",
              "  <div id=\"df-014f163b-a19d-4f8d-b365-e24569d7a75b\">\n",
              "    <div class=\"colab-df-container\">\n",
              "      <div>\n",
              "<style scoped>\n",
              "    .dataframe tbody tr th:only-of-type {\n",
              "        vertical-align: middle;\n",
              "    }\n",
              "\n",
              "    .dataframe tbody tr th {\n",
              "        vertical-align: top;\n",
              "    }\n",
              "\n",
              "    .dataframe thead th {\n",
              "        text-align: right;\n",
              "    }\n",
              "</style>\n",
              "<table border=\"1\" class=\"dataframe\">\n",
              "  <thead>\n",
              "    <tr style=\"text-align: right;\">\n",
              "      <th></th>\n",
              "      <th>course_title</th>\n",
              "      <th>difficulty_level</th>\n",
              "      <th>duration</th>\n",
              "      <th>skills</th>\n",
              "      <th>instructors</th>\n",
              "      <th>description</th>\n",
              "      <th>rating</th>\n",
              "      <th>offered_by</th>\n",
              "      <th>language</th>\n",
              "      <th>syllabus_heading</th>\n",
              "      <th>syllabus_details</th>\n",
              "    </tr>\n",
              "  </thead>\n",
              "  <tbody>\n",
              "    <tr>\n",
              "      <th>0</th>\n",
              "      <td>Cloud Computing Concepts, Part 1</td>\n",
              "      <td>Beginner Level</td>\n",
              "      <td>23</td>\n",
              "      <td>['Distributed Algorithm', 'Distributed Computi...</td>\n",
              "      <td>['Indranil Gupta']</td>\n",
              "      <td>Cloud computing systems today, whether open-so...</td>\n",
              "      <td>4.4\\nstars</td>\n",
              "      <td>University of Illinois at Urbana-Champaign</td>\n",
              "      <td>English</td>\n",
              "      <td>['Week 1: Orientation, Introduction to Clouds,...</td>\n",
              "      <td>['This course is oriented towards learners wit...</td>\n",
              "    </tr>\n",
              "    <tr>\n",
              "      <th>1</th>\n",
              "      <td>The Challenges of Global Health</td>\n",
              "      <td>Beginner Level</td>\n",
              "      <td>20</td>\n",
              "      <td>[]</td>\n",
              "      <td>['Dr. David Boyd']</td>\n",
              "      <td>What are the world’s major health challenges? ...</td>\n",
              "      <td>4.8\\nstars</td>\n",
              "      <td>Duke University</td>\n",
              "      <td>English</td>\n",
              "      <td>['Getting Started', 'Basic Concepts in Global ...</td>\n",
              "      <td>['Start here! ', 'This module covers some of t...</td>\n",
              "    </tr>\n",
              "    <tr>\n",
              "      <th>2</th>\n",
              "      <td>Digital Marketing Analytics in Theory</td>\n",
              "      <td>Beginner Level</td>\n",
              "      <td>20</td>\n",
              "      <td>['Digital Marketing', 'Data Collection', 'Anal...</td>\n",
              "      <td>['Kevin Hartman']</td>\n",
              "      <td>Successfully marketing brands today requires a...</td>\n",
              "      <td>4.5\\nstars</td>\n",
              "      <td>University of Illinois at Urbana-Champaign</td>\n",
              "      <td>English</td>\n",
              "      <td>['Course Overview and The Day The Geeks Took O...</td>\n",
              "      <td>['In the orientation, you will become familiar...</td>\n",
              "    </tr>\n",
              "    <tr>\n",
              "      <th>3</th>\n",
              "      <td>Digital Product Management: Modern Fundamentals</td>\n",
              "      <td>Beginner Level</td>\n",
              "      <td>11</td>\n",
              "      <td>['Product/Market Fit', 'Product Management', '...</td>\n",
              "      <td>['Alex Cowan']</td>\n",
              "      <td>Not so long ago, the job of product manager wa...</td>\n",
              "      <td>4.7\\nstars</td>\n",
              "      <td>University of Virginia</td>\n",
              "      <td>English</td>\n",
              "      <td>['Achieving Focus and #Winning', \"Using Today'...</td>\n",
              "      <td>['As a product manager, you and your team will...</td>\n",
              "    </tr>\n",
              "    <tr>\n",
              "      <th>4</th>\n",
              "      <td>The Nature of Genius</td>\n",
              "      <td>Beginner Level</td>\n",
              "      <td>28</td>\n",
              "      <td>['Creativity', 'Art', 'History', 'Psychology',...</td>\n",
              "      <td>['Craig Wright\\nTOP INSTRUCTOR']</td>\n",
              "      <td>Today \"genius\" is all around us. Celebrities, ...</td>\n",
              "      <td>NaN</td>\n",
              "      <td>Yale University</td>\n",
              "      <td>English</td>\n",
              "      <td>['Genius Defined,   Genius Denied ,  Genius an...</td>\n",
              "      <td>['In Section 1 of Module 1 we determine, jokin...</td>\n",
              "    </tr>\n",
              "  </tbody>\n",
              "</table>\n",
              "</div>\n",
              "      <button class=\"colab-df-convert\" onclick=\"convertToInteractive('df-014f163b-a19d-4f8d-b365-e24569d7a75b')\"\n",
              "              title=\"Convert this dataframe to an interactive table.\"\n",
              "              style=\"display:none;\">\n",
              "        \n",
              "  <svg xmlns=\"http://www.w3.org/2000/svg\" height=\"24px\"viewBox=\"0 0 24 24\"\n",
              "       width=\"24px\">\n",
              "    <path d=\"M0 0h24v24H0V0z\" fill=\"none\"/>\n",
              "    <path d=\"M18.56 5.44l.94 2.06.94-2.06 2.06-.94-2.06-.94-.94-2.06-.94 2.06-2.06.94zm-11 1L8.5 8.5l.94-2.06 2.06-.94-2.06-.94L8.5 2.5l-.94 2.06-2.06.94zm10 10l.94 2.06.94-2.06 2.06-.94-2.06-.94-.94-2.06-.94 2.06-2.06.94z\"/><path d=\"M17.41 7.96l-1.37-1.37c-.4-.4-.92-.59-1.43-.59-.52 0-1.04.2-1.43.59L10.3 9.45l-7.72 7.72c-.78.78-.78 2.05 0 2.83L4 21.41c.39.39.9.59 1.41.59.51 0 1.02-.2 1.41-.59l7.78-7.78 2.81-2.81c.8-.78.8-2.07 0-2.86zM5.41 20L4 18.59l7.72-7.72 1.47 1.35L5.41 20z\"/>\n",
              "  </svg>\n",
              "      </button>\n",
              "      \n",
              "  <style>\n",
              "    .colab-df-container {\n",
              "      display:flex;\n",
              "      flex-wrap:wrap;\n",
              "      gap: 12px;\n",
              "    }\n",
              "\n",
              "    .colab-df-convert {\n",
              "      background-color: #E8F0FE;\n",
              "      border: none;\n",
              "      border-radius: 50%;\n",
              "      cursor: pointer;\n",
              "      display: none;\n",
              "      fill: #1967D2;\n",
              "      height: 32px;\n",
              "      padding: 0 0 0 0;\n",
              "      width: 32px;\n",
              "    }\n",
              "\n",
              "    .colab-df-convert:hover {\n",
              "      background-color: #E2EBFA;\n",
              "      box-shadow: 0px 1px 2px rgba(60, 64, 67, 0.3), 0px 1px 3px 1px rgba(60, 64, 67, 0.15);\n",
              "      fill: #174EA6;\n",
              "    }\n",
              "\n",
              "    [theme=dark] .colab-df-convert {\n",
              "      background-color: #3B4455;\n",
              "      fill: #D2E3FC;\n",
              "    }\n",
              "\n",
              "    [theme=dark] .colab-df-convert:hover {\n",
              "      background-color: #434B5C;\n",
              "      box-shadow: 0px 1px 3px 1px rgba(0, 0, 0, 0.15);\n",
              "      filter: drop-shadow(0px 1px 2px rgba(0, 0, 0, 0.3));\n",
              "      fill: #FFFFFF;\n",
              "    }\n",
              "  </style>\n",
              "\n",
              "      <script>\n",
              "        const buttonEl =\n",
              "          document.querySelector('#df-014f163b-a19d-4f8d-b365-e24569d7a75b button.colab-df-convert');\n",
              "        buttonEl.style.display =\n",
              "          google.colab.kernel.accessAllowed ? 'block' : 'none';\n",
              "\n",
              "        async function convertToInteractive(key) {\n",
              "          const element = document.querySelector('#df-014f163b-a19d-4f8d-b365-e24569d7a75b');\n",
              "          const dataTable =\n",
              "            await google.colab.kernel.invokeFunction('convertToInteractive',\n",
              "                                                     [key], {});\n",
              "          if (!dataTable) return;\n",
              "\n",
              "          const docLinkHtml = 'Like what you see? Visit the ' +\n",
              "            '<a target=\"_blank\" href=https://colab.research.google.com/notebooks/data_table.ipynb>data table notebook</a>'\n",
              "            + ' to learn more about interactive tables.';\n",
              "          element.innerHTML = '';\n",
              "          dataTable['output_type'] = 'display_data';\n",
              "          await google.colab.output.renderOutput(dataTable, element);\n",
              "          const docLink = document.createElement('div');\n",
              "          docLink.innerHTML = docLinkHtml;\n",
              "          element.appendChild(docLink);\n",
              "        }\n",
              "      </script>\n",
              "    </div>\n",
              "  </div>\n",
              "  "
            ]
          },
          "metadata": {},
          "execution_count": 16
        }
      ]
    },
    {
      "cell_type": "code",
      "source": [
        "coursedata['duration'].value_counts()"
      ],
      "metadata": {
        "colab": {
          "base_uri": "https://localhost:8080/"
        },
        "id": "X33t708QCE9y",
        "outputId": "dcc28af0-bcd3-4530-e477-70ea922063c3"
      },
      "execution_count": null,
      "outputs": [
        {
          "output_type": "execute_result",
          "data": {
            "text/plain": [
              "13     859\n",
              "12     330\n",
              "10     329\n",
              "9      314\n",
              "11     311\n",
              "15     297\n",
              "14     289\n",
              "8      277\n",
              "16     243\n",
              "7      236\n",
              "6      230\n",
              "18     230\n",
              "19     212\n",
              "17     209\n",
              "20     202\n",
              "22     161\n",
              "5      158\n",
              "21     147\n",
              "2      141\n",
              "4      138\n",
              "23     125\n",
              "25     114\n",
              "24     100\n",
              "27      96\n",
              "3       96\n",
              "26      94\n",
              "28      76\n",
              "29      63\n",
              "33      54\n",
              "31      51\n",
              "32      47\n",
              "30      47\n",
              "35      34\n",
              "1       30\n",
              "34      27\n",
              "40      27\n",
              "38      25\n",
              "37      21\n",
              "47      17\n",
              "42      15\n",
              "36      15\n",
              "46      12\n",
              "41      10\n",
              "39      10\n",
              "44       9\n",
              "43       9\n",
              "45       9\n",
              "54       7\n",
              "49       7\n",
              "66       6\n",
              "53       5\n",
              "60       5\n",
              "55       4\n",
              "56       4\n",
              "71       4\n",
              "48       3\n",
              "59       3\n",
              "65       3\n",
              "50       3\n",
              "93       2\n",
              "69       2\n",
              "51       2\n",
              "72       2\n",
              "57       2\n",
              "73       2\n",
              "63       2\n",
              "61       2\n",
              "67       2\n",
              "76       2\n",
              "81       1\n",
              "58       1\n",
              "96       1\n",
              "104      1\n",
              "80       1\n",
              "68       1\n",
              "90       1\n",
              "64       1\n",
              "78       1\n",
              "106      1\n",
              "85       1\n",
              "88       1\n",
              "310      1\n",
              "62       1\n",
              "70       1\n",
              "127      1\n",
              "Name: duration, dtype: int64"
            ]
          },
          "metadata": {},
          "execution_count": 17
        }
      ]
    },
    {
      "cell_type": "code",
      "source": [
        "coursedata['difficulty_level'].isnull().sum()"
      ],
      "metadata": {
        "colab": {
          "base_uri": "https://localhost:8080/"
        },
        "id": "XtdTsF0WNuz0",
        "outputId": "08c2259f-8470-48ee-ae0a-33f731fd0c64"
      },
      "execution_count": null,
      "outputs": [
        {
          "output_type": "execute_result",
          "data": {
            "text/plain": [
              "1900"
            ]
          },
          "metadata": {},
          "execution_count": 18
        }
      ]
    },
    {
      "cell_type": "code",
      "source": [
        "#@title\n",
        "#Replacing blank values of difficulty level with Unknown \n",
        "coursedata[\"difficulty_level\"].fillna(\"Unknown\", inplace = True)\n",
        "coursedata[\"difficulty_level\"].value_counts()"
      ],
      "metadata": {
        "colab": {
          "base_uri": "https://localhost:8080/"
        },
        "id": "2W1wPhoJPKxG",
        "outputId": "66464353-9203-4c08-dd39-1e489d834bfd"
      },
      "execution_count": null,
      "outputs": [
        {
          "output_type": "execute_result",
          "data": {
            "text/plain": [
              "Beginner Level        3057\n",
              "Unknown               1900\n",
              "Intermediate Level    1489\n",
              "Advanced Level         190\n",
              "Name: difficulty_level, dtype: int64"
            ]
          },
          "metadata": {},
          "execution_count": 19
        }
      ]
    },
    {
      "cell_type": "code",
      "source": [
        "diff_lvl_dict = {'Beginner Level':1 , 'Intermediate Level':2, 'Advanced Level':3, 'Unknown':0}\n",
        "coursedata['numeric_difficulty_lvl'] = coursedata.difficulty_level.map(diff_lvl_dict)\n",
        "coursedata['numeric_difficulty_lvl'].value_counts()"
      ],
      "metadata": {
        "colab": {
          "base_uri": "https://localhost:8080/"
        },
        "id": "Q5UoBh4bOr-t",
        "outputId": "9419cbb2-4572-4bf9-e87f-4305d3bde62e"
      },
      "execution_count": null,
      "outputs": [
        {
          "output_type": "execute_result",
          "data": {
            "text/plain": [
              "1    3057\n",
              "0    1900\n",
              "2    1489\n",
              "3     190\n",
              "Name: numeric_difficulty_lvl, dtype: int64"
            ]
          },
          "metadata": {},
          "execution_count": 20
        }
      ]
    },
    {
      "cell_type": "code",
      "source": [
        "coursedata.head()"
      ],
      "metadata": {
        "colab": {
          "base_uri": "https://localhost:8080/",
          "height": 389
        },
        "id": "B8RnYKyzPEEF",
        "outputId": "553d6d37-1c9a-4dcd-d847-2c7f6fde732a"
      },
      "execution_count": null,
      "outputs": [
        {
          "output_type": "execute_result",
          "data": {
            "text/plain": [
              "                                      course_title difficulty_level  duration                                             skills                       instructors                                        description      rating                                  offered_by language                                   syllabus_heading                                   syllabus_details  numeric_difficulty_lvl\n",
              "0                 Cloud Computing Concepts, Part 1   Beginner Level        23  ['Distributed Algorithm', 'Distributed Computi...                ['Indranil Gupta']  Cloud computing systems today, whether open-so...  4.4\\nstars  University of Illinois at Urbana-Champaign  English  ['Week 1: Orientation, Introduction to Clouds,...  ['This course is oriented towards learners wit...                       1\n",
              "1                  The Challenges of Global Health   Beginner Level        20                                                 []                ['Dr. David Boyd']  What are the world’s major health challenges? ...  4.8\\nstars                             Duke University  English  ['Getting Started', 'Basic Concepts in Global ...  ['Start here! ', 'This module covers some of t...                       1\n",
              "2            Digital Marketing Analytics in Theory   Beginner Level        20  ['Digital Marketing', 'Data Collection', 'Anal...                 ['Kevin Hartman']  Successfully marketing brands today requires a...  4.5\\nstars  University of Illinois at Urbana-Champaign  English  ['Course Overview and The Day The Geeks Took O...  ['In the orientation, you will become familiar...                       1\n",
              "3  Digital Product Management: Modern Fundamentals   Beginner Level        11  ['Product/Market Fit', 'Product Management', '...                    ['Alex Cowan']  Not so long ago, the job of product manager wa...  4.7\\nstars                      University of Virginia  English  ['Achieving Focus and #Winning', \"Using Today'...  ['As a product manager, you and your team will...                       1\n",
              "4                             The Nature of Genius   Beginner Level        28  ['Creativity', 'Art', 'History', 'Psychology',...  ['Craig Wright\\nTOP INSTRUCTOR']  Today \"genius\" is all around us. Celebrities, ...         NaN                             Yale University  English  ['Genius Defined,   Genius Denied ,  Genius an...  ['In Section 1 of Module 1 we determine, jokin...                       1"
            ],
            "text/html": [
              "\n",
              "  <div id=\"df-1103be6a-e60e-4a4a-8b3f-e94e478030a1\">\n",
              "    <div class=\"colab-df-container\">\n",
              "      <div>\n",
              "<style scoped>\n",
              "    .dataframe tbody tr th:only-of-type {\n",
              "        vertical-align: middle;\n",
              "    }\n",
              "\n",
              "    .dataframe tbody tr th {\n",
              "        vertical-align: top;\n",
              "    }\n",
              "\n",
              "    .dataframe thead th {\n",
              "        text-align: right;\n",
              "    }\n",
              "</style>\n",
              "<table border=\"1\" class=\"dataframe\">\n",
              "  <thead>\n",
              "    <tr style=\"text-align: right;\">\n",
              "      <th></th>\n",
              "      <th>course_title</th>\n",
              "      <th>difficulty_level</th>\n",
              "      <th>duration</th>\n",
              "      <th>skills</th>\n",
              "      <th>instructors</th>\n",
              "      <th>description</th>\n",
              "      <th>rating</th>\n",
              "      <th>offered_by</th>\n",
              "      <th>language</th>\n",
              "      <th>syllabus_heading</th>\n",
              "      <th>syllabus_details</th>\n",
              "      <th>numeric_difficulty_lvl</th>\n",
              "    </tr>\n",
              "  </thead>\n",
              "  <tbody>\n",
              "    <tr>\n",
              "      <th>0</th>\n",
              "      <td>Cloud Computing Concepts, Part 1</td>\n",
              "      <td>Beginner Level</td>\n",
              "      <td>23</td>\n",
              "      <td>['Distributed Algorithm', 'Distributed Computi...</td>\n",
              "      <td>['Indranil Gupta']</td>\n",
              "      <td>Cloud computing systems today, whether open-so...</td>\n",
              "      <td>4.4\\nstars</td>\n",
              "      <td>University of Illinois at Urbana-Champaign</td>\n",
              "      <td>English</td>\n",
              "      <td>['Week 1: Orientation, Introduction to Clouds,...</td>\n",
              "      <td>['This course is oriented towards learners wit...</td>\n",
              "      <td>1</td>\n",
              "    </tr>\n",
              "    <tr>\n",
              "      <th>1</th>\n",
              "      <td>The Challenges of Global Health</td>\n",
              "      <td>Beginner Level</td>\n",
              "      <td>20</td>\n",
              "      <td>[]</td>\n",
              "      <td>['Dr. David Boyd']</td>\n",
              "      <td>What are the world’s major health challenges? ...</td>\n",
              "      <td>4.8\\nstars</td>\n",
              "      <td>Duke University</td>\n",
              "      <td>English</td>\n",
              "      <td>['Getting Started', 'Basic Concepts in Global ...</td>\n",
              "      <td>['Start here! ', 'This module covers some of t...</td>\n",
              "      <td>1</td>\n",
              "    </tr>\n",
              "    <tr>\n",
              "      <th>2</th>\n",
              "      <td>Digital Marketing Analytics in Theory</td>\n",
              "      <td>Beginner Level</td>\n",
              "      <td>20</td>\n",
              "      <td>['Digital Marketing', 'Data Collection', 'Anal...</td>\n",
              "      <td>['Kevin Hartman']</td>\n",
              "      <td>Successfully marketing brands today requires a...</td>\n",
              "      <td>4.5\\nstars</td>\n",
              "      <td>University of Illinois at Urbana-Champaign</td>\n",
              "      <td>English</td>\n",
              "      <td>['Course Overview and The Day The Geeks Took O...</td>\n",
              "      <td>['In the orientation, you will become familiar...</td>\n",
              "      <td>1</td>\n",
              "    </tr>\n",
              "    <tr>\n",
              "      <th>3</th>\n",
              "      <td>Digital Product Management: Modern Fundamentals</td>\n",
              "      <td>Beginner Level</td>\n",
              "      <td>11</td>\n",
              "      <td>['Product/Market Fit', 'Product Management', '...</td>\n",
              "      <td>['Alex Cowan']</td>\n",
              "      <td>Not so long ago, the job of product manager wa...</td>\n",
              "      <td>4.7\\nstars</td>\n",
              "      <td>University of Virginia</td>\n",
              "      <td>English</td>\n",
              "      <td>['Achieving Focus and #Winning', \"Using Today'...</td>\n",
              "      <td>['As a product manager, you and your team will...</td>\n",
              "      <td>1</td>\n",
              "    </tr>\n",
              "    <tr>\n",
              "      <th>4</th>\n",
              "      <td>The Nature of Genius</td>\n",
              "      <td>Beginner Level</td>\n",
              "      <td>28</td>\n",
              "      <td>['Creativity', 'Art', 'History', 'Psychology',...</td>\n",
              "      <td>['Craig Wright\\nTOP INSTRUCTOR']</td>\n",
              "      <td>Today \"genius\" is all around us. Celebrities, ...</td>\n",
              "      <td>NaN</td>\n",
              "      <td>Yale University</td>\n",
              "      <td>English</td>\n",
              "      <td>['Genius Defined,   Genius Denied ,  Genius an...</td>\n",
              "      <td>['In Section 1 of Module 1 we determine, jokin...</td>\n",
              "      <td>1</td>\n",
              "    </tr>\n",
              "  </tbody>\n",
              "</table>\n",
              "</div>\n",
              "      <button class=\"colab-df-convert\" onclick=\"convertToInteractive('df-1103be6a-e60e-4a4a-8b3f-e94e478030a1')\"\n",
              "              title=\"Convert this dataframe to an interactive table.\"\n",
              "              style=\"display:none;\">\n",
              "        \n",
              "  <svg xmlns=\"http://www.w3.org/2000/svg\" height=\"24px\"viewBox=\"0 0 24 24\"\n",
              "       width=\"24px\">\n",
              "    <path d=\"M0 0h24v24H0V0z\" fill=\"none\"/>\n",
              "    <path d=\"M18.56 5.44l.94 2.06.94-2.06 2.06-.94-2.06-.94-.94-2.06-.94 2.06-2.06.94zm-11 1L8.5 8.5l.94-2.06 2.06-.94-2.06-.94L8.5 2.5l-.94 2.06-2.06.94zm10 10l.94 2.06.94-2.06 2.06-.94-2.06-.94-.94-2.06-.94 2.06-2.06.94z\"/><path d=\"M17.41 7.96l-1.37-1.37c-.4-.4-.92-.59-1.43-.59-.52 0-1.04.2-1.43.59L10.3 9.45l-7.72 7.72c-.78.78-.78 2.05 0 2.83L4 21.41c.39.39.9.59 1.41.59.51 0 1.02-.2 1.41-.59l7.78-7.78 2.81-2.81c.8-.78.8-2.07 0-2.86zM5.41 20L4 18.59l7.72-7.72 1.47 1.35L5.41 20z\"/>\n",
              "  </svg>\n",
              "      </button>\n",
              "      \n",
              "  <style>\n",
              "    .colab-df-container {\n",
              "      display:flex;\n",
              "      flex-wrap:wrap;\n",
              "      gap: 12px;\n",
              "    }\n",
              "\n",
              "    .colab-df-convert {\n",
              "      background-color: #E8F0FE;\n",
              "      border: none;\n",
              "      border-radius: 50%;\n",
              "      cursor: pointer;\n",
              "      display: none;\n",
              "      fill: #1967D2;\n",
              "      height: 32px;\n",
              "      padding: 0 0 0 0;\n",
              "      width: 32px;\n",
              "    }\n",
              "\n",
              "    .colab-df-convert:hover {\n",
              "      background-color: #E2EBFA;\n",
              "      box-shadow: 0px 1px 2px rgba(60, 64, 67, 0.3), 0px 1px 3px 1px rgba(60, 64, 67, 0.15);\n",
              "      fill: #174EA6;\n",
              "    }\n",
              "\n",
              "    [theme=dark] .colab-df-convert {\n",
              "      background-color: #3B4455;\n",
              "      fill: #D2E3FC;\n",
              "    }\n",
              "\n",
              "    [theme=dark] .colab-df-convert:hover {\n",
              "      background-color: #434B5C;\n",
              "      box-shadow: 0px 1px 3px 1px rgba(0, 0, 0, 0.15);\n",
              "      filter: drop-shadow(0px 1px 2px rgba(0, 0, 0, 0.3));\n",
              "      fill: #FFFFFF;\n",
              "    }\n",
              "  </style>\n",
              "\n",
              "      <script>\n",
              "        const buttonEl =\n",
              "          document.querySelector('#df-1103be6a-e60e-4a4a-8b3f-e94e478030a1 button.colab-df-convert');\n",
              "        buttonEl.style.display =\n",
              "          google.colab.kernel.accessAllowed ? 'block' : 'none';\n",
              "\n",
              "        async function convertToInteractive(key) {\n",
              "          const element = document.querySelector('#df-1103be6a-e60e-4a4a-8b3f-e94e478030a1');\n",
              "          const dataTable =\n",
              "            await google.colab.kernel.invokeFunction('convertToInteractive',\n",
              "                                                     [key], {});\n",
              "          if (!dataTable) return;\n",
              "\n",
              "          const docLinkHtml = 'Like what you see? Visit the ' +\n",
              "            '<a target=\"_blank\" href=https://colab.research.google.com/notebooks/data_table.ipynb>data table notebook</a>'\n",
              "            + ' to learn more about interactive tables.';\n",
              "          element.innerHTML = '';\n",
              "          dataTable['output_type'] = 'display_data';\n",
              "          await google.colab.output.renderOutput(dataTable, element);\n",
              "          const docLink = document.createElement('div');\n",
              "          docLink.innerHTML = docLinkHtml;\n",
              "          element.appendChild(docLink);\n",
              "        }\n",
              "      </script>\n",
              "    </div>\n",
              "  </div>\n",
              "  "
            ]
          },
          "metadata": {},
          "execution_count": 21
        }
      ]
    },
    {
      "cell_type": "code",
      "source": [
        "coursedata.info()"
      ],
      "metadata": {
        "id": "8Auxdln7PeU6",
        "colab": {
          "base_uri": "https://localhost:8080/"
        },
        "outputId": "697848d2-5a83-49bc-e478-250ff2da6d39"
      },
      "execution_count": null,
      "outputs": [
        {
          "output_type": "stream",
          "name": "stdout",
          "text": [
            "<class 'pandas.core.frame.DataFrame'>\n",
            "RangeIndex: 6636 entries, 0 to 6635\n",
            "Data columns (total 12 columns):\n",
            " #   Column                  Non-Null Count  Dtype \n",
            "---  ------                  --------------  ----- \n",
            " 0   course_title            6134 non-null   object\n",
            " 1   difficulty_level        6636 non-null   object\n",
            " 2   duration                6636 non-null   int64 \n",
            " 3   skills                  6636 non-null   object\n",
            " 4   instructors             6636 non-null   object\n",
            " 5   description             6635 non-null   object\n",
            " 6   rating                  4651 non-null   object\n",
            " 7   offered_by              6636 non-null   object\n",
            " 8   language                6636 non-null   object\n",
            " 9   syllabus_heading        6636 non-null   object\n",
            " 10  syllabus_details        6636 non-null   object\n",
            " 11  numeric_difficulty_lvl  6636 non-null   int64 \n",
            "dtypes: int64(2), object(10)\n",
            "memory usage: 622.2+ KB\n"
          ]
        }
      ]
    },
    {
      "cell_type": "code",
      "source": [
        "#Course Duration Distribution throughout the data\n",
        "#Rating Distribution throughout the data\n",
        "import seaborn as sns\n",
        "plt.figure(figsize=(15,10)) \n",
        "sns.countplot(x='duration', data=coursedata)\n",
        "plt.xlabel('Course Duration')\n",
        "plt.xticks(rotation=90)\n",
        "plt.ylabel('Number of Courses')\n",
        "plt.title('NUMBER OF COURSES FOR DIFFERENT DURATION')"
      ],
      "metadata": {
        "colab": {
          "base_uri": "https://localhost:8080/",
          "height": 648
        },
        "id": "IscUtU9ZAoSi",
        "outputId": "ecb5cfda-1001-43a7-9fe0-fcd59428d4b8"
      },
      "execution_count": null,
      "outputs": [
        {
          "output_type": "execute_result",
          "data": {
            "text/plain": [
              "Text(0.5, 1.0, 'NUMBER OF COURSES FOR DIFFERENT DURATION')"
            ]
          },
          "metadata": {},
          "execution_count": 23
        },
        {
          "output_type": "display_data",
          "data": {
            "text/plain": [
              "<Figure size 1080x720 with 1 Axes>"
            ],
            "image/png": "[encoded data removed]"
          },
          "metadata": {
            "needs_background": "light"
          }
        }
      ]
    },
    {
      "cell_type": "code",
      "source": [
        "def label_race (row):\n",
        "   if row['duration'] <= 10 :\n",
        "      return 'Short Course Duration'\n",
        "   if row['duration'] > 10 and row['duration'] <= 35 :\n",
        "      return 'Medium Course  Duration'\n",
        "   if row['duration'] >35 and row['duration'] <=70 :\n",
        "      return 'Long Course Duration'\n",
        "   if row['duration'] >70  :\n",
        "      return 'Very Long Course Duration'"
      ],
      "metadata": {
        "id": "BdUy517IBI_K"
      },
      "execution_count": null,
      "outputs": []
    },
    {
      "cell_type": "code",
      "source": [
        "coursedata['duration_label'] = coursedata.apply (lambda row: label_race(row), axis=1)"
      ],
      "metadata": {
        "id": "4rv4zZuTBSg_"
      },
      "execution_count": null,
      "outputs": []
    },
    {
      "cell_type": "code",
      "source": [
        "coursedata[\"duration_label\"].value_counts()"
      ],
      "metadata": {
        "colab": {
          "base_uri": "https://localhost:8080/"
        },
        "id": "6_PzqQitBa26",
        "outputId": "2c8fbee7-4739-40b3-a25b-1400d5817608"
      },
      "execution_count": null,
      "outputs": [
        {
          "output_type": "execute_result",
          "data": {
            "text/plain": [
              "Medium Course  Duration      4418\n",
              "Short Course Duration        1949\n",
              "Long Course Duration          246\n",
              "Very Long Course Duration      23\n",
              "Name: duration_label, dtype: int64"
            ]
          },
          "metadata": {},
          "execution_count": 26
        }
      ]
    },
    {
      "cell_type": "code",
      "source": [
        "coursedata.info()"
      ],
      "metadata": {
        "colab": {
          "base_uri": "https://localhost:8080/"
        },
        "id": "703laNEWBed5",
        "outputId": "2a2ace7f-1c10-4c23-f8ae-d6705a9d6b88"
      },
      "execution_count": null,
      "outputs": [
        {
          "output_type": "stream",
          "name": "stdout",
          "text": [
            "<class 'pandas.core.frame.DataFrame'>\n",
            "RangeIndex: 6636 entries, 0 to 6635\n",
            "Data columns (total 13 columns):\n",
            " #   Column                  Non-Null Count  Dtype \n",
            "---  ------                  --------------  ----- \n",
            " 0   course_title            6134 non-null   object\n",
            " 1   difficulty_level        6636 non-null   object\n",
            " 2   duration                6636 non-null   int64 \n",
            " 3   skills                  6636 non-null   object\n",
            " 4   instructors             6636 non-null   object\n",
            " 5   description             6635 non-null   object\n",
            " 6   rating                  4651 non-null   object\n",
            " 7   offered_by              6636 non-null   object\n",
            " 8   language                6636 non-null   object\n",
            " 9   syllabus_heading        6636 non-null   object\n",
            " 10  syllabus_details        6636 non-null   object\n",
            " 11  numeric_difficulty_lvl  6636 non-null   int64 \n",
            " 12  duration_label          6636 non-null   object\n",
            "dtypes: int64(2), object(11)\n",
            "memory usage: 674.1+ KB\n"
          ]
        }
      ]
    },
    {
      "cell_type": "code",
      "source": [
        "coursedata.head()"
      ],
      "metadata": {
        "colab": {
          "base_uri": "https://localhost:8080/",
          "height": 424
        },
        "id": "54zIl1jYBghG",
        "outputId": "e2e4d499-c5f8-47e7-fc08-5fbcf59cd2ea"
      },
      "execution_count": null,
      "outputs": [
        {
          "output_type": "execute_result",
          "data": {
            "text/plain": [
              "                                      course_title difficulty_level  duration                                             skills                       instructors                                        description      rating                                  offered_by language                                   syllabus_heading                                   syllabus_details  numeric_difficulty_lvl           duration_label\n",
              "0                 Cloud Computing Concepts, Part 1   Beginner Level        23  ['Distributed Algorithm', 'Distributed Computi...                ['Indranil Gupta']  Cloud computing systems today, whether open-so...  4.4\\nstars  University of Illinois at Urbana-Champaign  English  ['Week 1: Orientation, Introduction to Clouds,...  ['This course is oriented towards learners wit...                       1  Medium Course  Duration\n",
              "1                  The Challenges of Global Health   Beginner Level        20                                                 []                ['Dr. David Boyd']  What are the world’s major health challenges? ...  4.8\\nstars                             Duke University  English  ['Getting Started', 'Basic Concepts in Global ...  ['Start here! ', 'This module covers some of t...                       1  Medium Course  Duration\n",
              "2            Digital Marketing Analytics in Theory   Beginner Level        20  ['Digital Marketing', 'Data Collection', 'Anal...                 ['Kevin Hartman']  Successfully marketing brands today requires a...  4.5\\nstars  University of Illinois at Urbana-Champaign  English  ['Course Overview and The Day The Geeks Took O...  ['In the orientation, you will become familiar...                       1  Medium Course  Duration\n",
              "3  Digital Product Management: Modern Fundamentals   Beginner Level        11  ['Product/Market Fit', 'Product Management', '...                    ['Alex Cowan']  Not so long ago, the job of product manager wa...  4.7\\nstars                      University of Virginia  English  ['Achieving Focus and #Winning', \"Using Today'...  ['As a product manager, you and your team will...                       1  Medium Course  Duration\n",
              "4                             The Nature of Genius   Beginner Level        28  ['Creativity', 'Art', 'History', 'Psychology',...  ['Craig Wright\\nTOP INSTRUCTOR']  Today \"genius\" is all around us. Celebrities, ...         NaN                             Yale University  English  ['Genius Defined,   Genius Denied ,  Genius an...  ['In Section 1 of Module 1 we determine, jokin...                       1  Medium Course  Duration"
            ],
            "text/html": [
              "\n",
              "  <div id=\"df-246e9c10-f306-48c8-97d6-816ae11cf573\">\n",
              "    <div class=\"colab-df-container\">\n",
              "      <div>\n",
              "<style scoped>\n",
              "    .dataframe tbody tr th:only-of-type {\n",
              "        vertical-align: middle;\n",
              "    }\n",
              "\n",
              "    .dataframe tbody tr th {\n",
              "        vertical-align: top;\n",
              "    }\n",
              "\n",
              "    .dataframe thead th {\n",
              "        text-align: right;\n",
              "    }\n",
              "</style>\n",
              "<table border=\"1\" class=\"dataframe\">\n",
              "  <thead>\n",
              "    <tr style=\"text-align: right;\">\n",
              "      <th></th>\n",
              "      <th>course_title</th>\n",
              "      <th>difficulty_level</th>\n",
              "      <th>duration</th>\n",
              "      <th>skills</th>\n",
              "      <th>instructors</th>\n",
              "      <th>description</th>\n",
              "      <th>rating</th>\n",
              "      <th>offered_by</th>\n",
              "      <th>language</th>\n",
              "      <th>syllabus_heading</th>\n",
              "      <th>syllabus_details</th>\n",
              "      <th>numeric_difficulty_lvl</th>\n",
              "      <th>duration_label</th>\n",
              "    </tr>\n",
              "  </thead>\n",
              "  <tbody>\n",
              "    <tr>\n",
              "      <th>0</th>\n",
              "      <td>Cloud Computing Concepts, Part 1</td>\n",
              "      <td>Beginner Level</td>\n",
              "      <td>23</td>\n",
              "      <td>['Distributed Algorithm', 'Distributed Computi...</td>\n",
              "      <td>['Indranil Gupta']</td>\n",
              "      <td>Cloud computing systems today, whether open-so...</td>\n",
              "      <td>4.4\\nstars</td>\n",
              "      <td>University of Illinois at Urbana-Champaign</td>\n",
              "      <td>English</td>\n",
              "      <td>['Week 1: Orientation, Introduction to Clouds,...</td>\n",
              "      <td>['This course is oriented towards learners wit...</td>\n",
              "      <td>1</td>\n",
              "      <td>Medium Course  Duration</td>\n",
              "    </tr>\n",
              "    <tr>\n",
              "      <th>1</th>\n",
              "      <td>The Challenges of Global Health</td>\n",
              "      <td>Beginner Level</td>\n",
              "      <td>20</td>\n",
              "      <td>[]</td>\n",
              "      <td>['Dr. David Boyd']</td>\n",
              "      <td>What are the world’s major health challenges? ...</td>\n",
              "      <td>4.8\\nstars</td>\n",
              "      <td>Duke University</td>\n",
              "      <td>English</td>\n",
              "      <td>['Getting Started', 'Basic Concepts in Global ...</td>\n",
              "      <td>['Start here! ', 'This module covers some of t...</td>\n",
              "      <td>1</td>\n",
              "      <td>Medium Course  Duration</td>\n",
              "    </tr>\n",
              "    <tr>\n",
              "      <th>2</th>\n",
              "      <td>Digital Marketing Analytics in Theory</td>\n",
              "      <td>Beginner Level</td>\n",
              "      <td>20</td>\n",
              "      <td>['Digital Marketing', 'Data Collection', 'Anal...</td>\n",
              "      <td>['Kevin Hartman']</td>\n",
              "      <td>Successfully marketing brands today requires a...</td>\n",
              "      <td>4.5\\nstars</td>\n",
              "      <td>University of Illinois at Urbana-Champaign</td>\n",
              "      <td>English</td>\n",
              "      <td>['Course Overview and The Day The Geeks Took O...</td>\n",
              "      <td>['In the orientation, you will become familiar...</td>\n",
              "      <td>1</td>\n",
              "      <td>Medium Course  Duration</td>\n",
              "    </tr>\n",
              "    <tr>\n",
              "      <th>3</th>\n",
              "      <td>Digital Product Management: Modern Fundamentals</td>\n",
              "      <td>Beginner Level</td>\n",
              "      <td>11</td>\n",
              "      <td>['Product/Market Fit', 'Product Management', '...</td>\n",
              "      <td>['Alex Cowan']</td>\n",
              "      <td>Not so long ago, the job of product manager wa...</td>\n",
              "      <td>4.7\\nstars</td>\n",
              "      <td>University of Virginia</td>\n",
              "      <td>English</td>\n",
              "      <td>['Achieving Focus and #Winning', \"Using Today'...</td>\n",
              "      <td>['As a product manager, you and your team will...</td>\n",
              "      <td>1</td>\n",
              "      <td>Medium Course  Duration</td>\n",
              "    </tr>\n",
              "    <tr>\n",
              "      <th>4</th>\n",
              "      <td>The Nature of Genius</td>\n",
              "      <td>Beginner Level</td>\n",
              "      <td>28</td>\n",
              "      <td>['Creativity', 'Art', 'History', 'Psychology',...</td>\n",
              "      <td>['Craig Wright\\nTOP INSTRUCTOR']</td>\n",
              "      <td>Today \"genius\" is all around us. Celebrities, ...</td>\n",
              "      <td>NaN</td>\n",
              "      <td>Yale University</td>\n",
              "      <td>English</td>\n",
              "      <td>['Genius Defined,   Genius Denied ,  Genius an...</td>\n",
              "      <td>['In Section 1 of Module 1 we determine, jokin...</td>\n",
              "      <td>1</td>\n",
              "      <td>Medium Course  Duration</td>\n",
              "    </tr>\n",
              "  </tbody>\n",
              "</table>\n",
              "</div>\n",
              "      <button class=\"colab-df-convert\" onclick=\"convertToInteractive('df-246e9c10-f306-48c8-97d6-816ae11cf573')\"\n",
              "              title=\"Convert this dataframe to an interactive table.\"\n",
              "              style=\"display:none;\">\n",
              "        \n",
              "  <svg xmlns=\"http://www.w3.org/2000/svg\" height=\"24px\"viewBox=\"0 0 24 24\"\n",
              "       width=\"24px\">\n",
              "    <path d=\"M0 0h24v24H0V0z\" fill=\"none\"/>\n",
              "    <path d=\"M18.56 5.44l.94 2.06.94-2.06 2.06-.94-2.06-.94-.94-2.06-.94 2.06-2.06.94zm-11 1L8.5 8.5l.94-2.06 2.06-.94-2.06-.94L8.5 2.5l-.94 2.06-2.06.94zm10 10l.94 2.06.94-2.06 2.06-.94-2.06-.94-.94-2.06-.94 2.06-2.06.94z\"/><path d=\"M17.41 7.96l-1.37-1.37c-.4-.4-.92-.59-1.43-.59-.52 0-1.04.2-1.43.59L10.3 9.45l-7.72 7.72c-.78.78-.78 2.05 0 2.83L4 21.41c.39.39.9.59 1.41.59.51 0 1.02-.2 1.41-.59l7.78-7.78 2.81-2.81c.8-.78.8-2.07 0-2.86zM5.41 20L4 18.59l7.72-7.72 1.47 1.35L5.41 20z\"/>\n",
              "  </svg>\n",
              "      </button>\n",
              "      \n",
              "  <style>\n",
              "    .colab-df-container {\n",
              "      display:flex;\n",
              "      flex-wrap:wrap;\n",
              "      gap: 12px;\n",
              "    }\n",
              "\n",
              "    .colab-df-convert {\n",
              "      background-color: #E8F0FE;\n",
              "      border: none;\n",
              "      border-radius: 50%;\n",
              "      cursor: pointer;\n",
              "      display: none;\n",
              "      fill: #1967D2;\n",
              "      height: 32px;\n",
              "      padding: 0 0 0 0;\n",
              "      width: 32px;\n",
              "    }\n",
              "\n",
              "    .colab-df-convert:hover {\n",
              "      background-color: #E2EBFA;\n",
              "      box-shadow: 0px 1px 2px rgba(60, 64, 67, 0.3), 0px 1px 3px 1px rgba(60, 64, 67, 0.15);\n",
              "      fill: #174EA6;\n",
              "    }\n",
              "\n",
              "    [theme=dark] .colab-df-convert {\n",
              "      background-color: #3B4455;\n",
              "      fill: #D2E3FC;\n",
              "    }\n",
              "\n",
              "    [theme=dark] .colab-df-convert:hover {\n",
              "      background-color: #434B5C;\n",
              "      box-shadow: 0px 1px 3px 1px rgba(0, 0, 0, 0.15);\n",
              "      filter: drop-shadow(0px 1px 2px rgba(0, 0, 0, 0.3));\n",
              "      fill: #FFFFFF;\n",
              "    }\n",
              "  </style>\n",
              "\n",
              "      <script>\n",
              "        const buttonEl =\n",
              "          document.querySelector('#df-246e9c10-f306-48c8-97d6-816ae11cf573 button.colab-df-convert');\n",
              "        buttonEl.style.display =\n",
              "          google.colab.kernel.accessAllowed ? 'block' : 'none';\n",
              "\n",
              "        async function convertToInteractive(key) {\n",
              "          const element = document.querySelector('#df-246e9c10-f306-48c8-97d6-816ae11cf573');\n",
              "          const dataTable =\n",
              "            await google.colab.kernel.invokeFunction('convertToInteractive',\n",
              "                                                     [key], {});\n",
              "          if (!dataTable) return;\n",
              "\n",
              "          const docLinkHtml = 'Like what you see? Visit the ' +\n",
              "            '<a target=\"_blank\" href=https://colab.research.google.com/notebooks/data_table.ipynb>data table notebook</a>'\n",
              "            + ' to learn more about interactive tables.';\n",
              "          element.innerHTML = '';\n",
              "          dataTable['output_type'] = 'display_data';\n",
              "          await google.colab.output.renderOutput(dataTable, element);\n",
              "          const docLink = document.createElement('div');\n",
              "          docLink.innerHTML = docLinkHtml;\n",
              "          element.appendChild(docLink);\n",
              "        }\n",
              "      </script>\n",
              "    </div>\n",
              "  </div>\n",
              "  "
            ]
          },
          "metadata": {},
          "execution_count": 28
        }
      ]
    },
    {
      "cell_type": "code",
      "source": [
        "import nltk\n",
        "nltk.download('words')"
      ],
      "metadata": {
        "colab": {
          "base_uri": "https://localhost:8080/"
        },
        "id": "lu2jt7EQMi6W",
        "outputId": "734a7da8-a23d-40be-8607-0e2afbde7cfb"
      },
      "execution_count": null,
      "outputs": [
        {
          "output_type": "stream",
          "name": "stderr",
          "text": [
            "[nltk_data] Downloading package words to /root/nltk_data...\n",
            "[nltk_data]   Unzipping corpora/words.zip.\n"
          ]
        },
        {
          "output_type": "execute_result",
          "data": {
            "text/plain": [
              "True"
            ]
          },
          "metadata": {},
          "execution_count": 29
        }
      ]
    },
    {
      "cell_type": "code",
      "source": [
        "coursedata['combined_text'] = \" CaliRollB \" + coursedata[\"course_title\"] + \" CaliRollA \" + coursedata[\"difficulty_level\"] +  coursedata[\"skills\"] +  coursedata[\"instructors\"] +  \\\n",
        "                              coursedata[\"description\"] +  coursedata[\"offered_by\"] +  coursedata[\"language\"] +  coursedata[\"syllabus_heading\"] +  \\\n",
        "                              coursedata[\"syllabus_details\"] +  coursedata[\"duration_label\"]\n",
        "coursedata['combined_text'][0]"
      ],
      "metadata": {
        "colab": {
          "base_uri": "https://localhost:8080/",
          "height": 105
        },
        "id": "0P8k4bhvBifX",
        "outputId": "727cecc4-09e5-4d3b-f7c4-77443831e815"
      },
      "execution_count": null,
      "outputs": [
        {
          "output_type": "execute_result",
          "data": {
            "text/plain": [
              "' CaliRollB Cloud Computing Concepts, Part 1 CaliRollA Beginner Level[\\'Distributed Algorithm\\', \\'Distributed Computing\\', \\'C++\\', \\'Cloud Computing\\'][\\'Indranil Gupta\\']Cloud computing systems today, whether open-source or used inside companies, are built using a common set of core techniques, algorithms, and design philosophies – all centered around distributed systems. Learn about such fundamental distributed computing \"concepts\" for cloud computing. Some of these concepts include: clouds, MapReduce, key-value/NoSQL stores, classical distributed algorithms, widely-used distributed algorithms, scalability, trending areas, and much, much more! \\n \\nKnow how these systems work from the inside out. Get your hands dirty using these concepts with provided homework exercises. In the programming assignments, implement some of these concepts in template code (programs) provided in the C++ programming language. Prior experience with C++ is required.\\n \\nThe course also features interviews with leading researchers and managers, from both industry and academia. The University of Illinois at Urbana-Champaign is a world leader in research, teaching and public engagement, distinguished by the breadth of its programs, broad academic excellence, and internationally renowned faculty and alumni. Illinois serves the world by creating knowledge, preparing students for lives of impact, and finding solutions to critical societal needs. This course is oriented towards learners with similar backgrounds as juniors and seniors in a CS undergraduate curriculum. Since learners come from various backgrounds, it is critical you view this lecture AND pass the prerequisite test. This will ensure you have many of the assumed prerequisite pieces of knowledge required to enjoy this course. Lesson 1: This module teaches how the multicast problem is solved by using epidemic/gossip protocols. It also teaches analysis of such protocols. Lesson 2: This module covers the design of failure detectors, a key component in any distributed system. Membership protocols, which use failure detectors as components, are also covered. Lesson 3: This module covers Grid computing, an important precursor to cloud computing. P2P systems: This module teaches the detailed design of two classes of peer to peer systems: (a) popular ones including Napster, Gnutella, FastTrack, and BitTorrent; and (b) efficient ones including distributed hash tables (Chord, Pastry, and Kelips). Besides focusing on design, the module also analyzes these systems in detail. Lesson 1: This module motivates and teaches the design of key-value/NoSQL storage/database systems. We cover the design of two major industry systems: Apache Cassandra and HBase. We also cover the famous CAP theorem. Lesson 2: Distributed systems are asynchronous, which makes clocks at different machines hard to synchronize. This module first covers various clock synchronization algorithms, and then covers ways of tagging events with causal timestamps that avoid synchronizing clocks. These classical algorithms were invented decades ago, yet are used widely in today’s cloud systems.  The Cloud Computing Specialization takes you on a tour through cloud computing systems. We start in in the middle layer with Cloud Computing Concepts covering core distributed systems concepts used inside clouds, move to the upper layer of Cloud Applications and finally to the lower layer of Cloud Networking. We conclude with a project that allows you to apply the skills you\\'ve learned throughout the courses. University of Illinois at Urbana-ChampaignEnglish[\\'Week 1: Orientation, Introduction to Clouds, MapReduce \\', \\'Week 2: Gossip, Membership, and Grids\\', \\'Week 3: P2P Systems\\', \\'Week 4: Key-Value Stores, Time, and Ordering\\', \\'Week 5: Classical Distributed Algorithms\\'][\\'This course is oriented towards learners with similar backgrounds as juniors and seniors in a CS undergraduate curriculum. Since learners come from various backgrounds, it is critical you view this lecture AND pass the prerequisite test. This will ensure you have many of the assumed prerequisite pieces of knowledge required to enjoy this course. \\', \\'Lesson 1: This module teaches how the multicast problem is solved by using epidemic/gossip protocols. It also teaches analysis of such protocols. Lesson 2: This module covers the design of failure detectors, a key component in any distributed system. Membership protocols, which use failure detectors as components, are also covered. Lesson 3: This module covers Grid computing, an important precursor to cloud computing.\\', \\'P2P systems: This module teaches the detailed design of two classes of peer to peer systems: (a) popular ones including Napster, Gnutella, FastTrack, and BitTorrent; and (b) efficient ones including distributed hash tables (Chord, Pastry, and Kelips). Besides focusing on design, the module also analyzes these systems in detail.\\', \\'Lesson 1: This module motivates and teaches the design of key-value/NoSQL storage/database systems. We cover the design of two major industry systems: Apache Cassandra and HBase. We also cover the famous CAP theorem.  Lesson 2: Distributed systems are asynchronous, which makes clocks at different machines hard to synchronize. This module first covers various clock synchronization algorithms, and then covers ways of tagging events with causal timestamps that avoid synchronizing clocks. These classical algorithms were invented decades ago, yet are used widely in today’s cloud systems.\\', \\'Lesson 1: This module covers how to calculate a distributed snapshot, leveraging causality again to circumvent the synchronization problem. Lesson 2: This lecture teaches how to order multicasts in any distributed system. Algorithms for assigning timestamp tags to multicasts using various flavors of ordering – FIFO, Causal, and Total – are covered. The module also covers virtual synchrony, a paradigm that combines reliable multicasts with membership views.  Lesson 3: Consensus is one of the most important problems in a distributed system, enabling multiple machines to agree. This module uses Paxos, one of the most popular consensus solutions used in the industry today. Paxos is not perfect because consensus cannot be solved completely – an optional lecture presents the famous FLP proof of impossibility of consensus. \\']Medium Course  Duration'"
            ],
            "application/vnd.google.colaboratory.intrinsic+json": {
              "type": "string"
            }
          },
          "metadata": {},
          "execution_count": 30
        }
      ]
    },
    {
      "cell_type": "code",
      "source": [
        "coursedata['combined_text'][0]"
      ],
      "metadata": {
        "colab": {
          "base_uri": "https://localhost:8080/",
          "height": 105
        },
        "id": "ntaOOzTyKBcX",
        "outputId": "1b61f646-5314-4f2f-d61b-1662e43af606"
      },
      "execution_count": null,
      "outputs": [
        {
          "output_type": "execute_result",
          "data": {
            "text/plain": [
              "' CaliRollB Cloud Computing Concepts, Part 1 CaliRollA Beginner Level[\\'Distributed Algorithm\\', \\'Distributed Computing\\', \\'C++\\', \\'Cloud Computing\\'][\\'Indranil Gupta\\']Cloud computing systems today, whether open-source or used inside companies, are built using a common set of core techniques, algorithms, and design philosophies – all centered around distributed systems. Learn about such fundamental distributed computing \"concepts\" for cloud computing. Some of these concepts include: clouds, MapReduce, key-value/NoSQL stores, classical distributed algorithms, widely-used distributed algorithms, scalability, trending areas, and much, much more! \\n \\nKnow how these systems work from the inside out. Get your hands dirty using these concepts with provided homework exercises. In the programming assignments, implement some of these concepts in template code (programs) provided in the C++ programming language. Prior experience with C++ is required.\\n \\nThe course also features interviews with leading researchers and managers, from both industry and academia. The University of Illinois at Urbana-Champaign is a world leader in research, teaching and public engagement, distinguished by the breadth of its programs, broad academic excellence, and internationally renowned faculty and alumni. Illinois serves the world by creating knowledge, preparing students for lives of impact, and finding solutions to critical societal needs. This course is oriented towards learners with similar backgrounds as juniors and seniors in a CS undergraduate curriculum. Since learners come from various backgrounds, it is critical you view this lecture AND pass the prerequisite test. This will ensure you have many of the assumed prerequisite pieces of knowledge required to enjoy this course. Lesson 1: This module teaches how the multicast problem is solved by using epidemic/gossip protocols. It also teaches analysis of such protocols. Lesson 2: This module covers the design of failure detectors, a key component in any distributed system. Membership protocols, which use failure detectors as components, are also covered. Lesson 3: This module covers Grid computing, an important precursor to cloud computing. P2P systems: This module teaches the detailed design of two classes of peer to peer systems: (a) popular ones including Napster, Gnutella, FastTrack, and BitTorrent; and (b) efficient ones including distributed hash tables (Chord, Pastry, and Kelips). Besides focusing on design, the module also analyzes these systems in detail. Lesson 1: This module motivates and teaches the design of key-value/NoSQL storage/database systems. We cover the design of two major industry systems: Apache Cassandra and HBase. We also cover the famous CAP theorem. Lesson 2: Distributed systems are asynchronous, which makes clocks at different machines hard to synchronize. This module first covers various clock synchronization algorithms, and then covers ways of tagging events with causal timestamps that avoid synchronizing clocks. These classical algorithms were invented decades ago, yet are used widely in today’s cloud systems.  The Cloud Computing Specialization takes you on a tour through cloud computing systems. We start in in the middle layer with Cloud Computing Concepts covering core distributed systems concepts used inside clouds, move to the upper layer of Cloud Applications and finally to the lower layer of Cloud Networking. We conclude with a project that allows you to apply the skills you\\'ve learned throughout the courses. University of Illinois at Urbana-ChampaignEnglish[\\'Week 1: Orientation, Introduction to Clouds, MapReduce \\', \\'Week 2: Gossip, Membership, and Grids\\', \\'Week 3: P2P Systems\\', \\'Week 4: Key-Value Stores, Time, and Ordering\\', \\'Week 5: Classical Distributed Algorithms\\'][\\'This course is oriented towards learners with similar backgrounds as juniors and seniors in a CS undergraduate curriculum. Since learners come from various backgrounds, it is critical you view this lecture AND pass the prerequisite test. This will ensure you have many of the assumed prerequisite pieces of knowledge required to enjoy this course. \\', \\'Lesson 1: This module teaches how the multicast problem is solved by using epidemic/gossip protocols. It also teaches analysis of such protocols. Lesson 2: This module covers the design of failure detectors, a key component in any distributed system. Membership protocols, which use failure detectors as components, are also covered. Lesson 3: This module covers Grid computing, an important precursor to cloud computing.\\', \\'P2P systems: This module teaches the detailed design of two classes of peer to peer systems: (a) popular ones including Napster, Gnutella, FastTrack, and BitTorrent; and (b) efficient ones including distributed hash tables (Chord, Pastry, and Kelips). Besides focusing on design, the module also analyzes these systems in detail.\\', \\'Lesson 1: This module motivates and teaches the design of key-value/NoSQL storage/database systems. We cover the design of two major industry systems: Apache Cassandra and HBase. We also cover the famous CAP theorem.  Lesson 2: Distributed systems are asynchronous, which makes clocks at different machines hard to synchronize. This module first covers various clock synchronization algorithms, and then covers ways of tagging events with causal timestamps that avoid synchronizing clocks. These classical algorithms were invented decades ago, yet are used widely in today’s cloud systems.\\', \\'Lesson 1: This module covers how to calculate a distributed snapshot, leveraging causality again to circumvent the synchronization problem. Lesson 2: This lecture teaches how to order multicasts in any distributed system. Algorithms for assigning timestamp tags to multicasts using various flavors of ordering – FIFO, Causal, and Total – are covered. The module also covers virtual synchrony, a paradigm that combines reliable multicasts with membership views.  Lesson 3: Consensus is one of the most important problems in a distributed system, enabling multiple machines to agree. This module uses Paxos, one of the most popular consensus solutions used in the industry today. Paxos is not perfect because consensus cannot be solved completely – an optional lecture presents the famous FLP proof of impossibility of consensus. \\']Medium Course  Duration'"
            ],
            "application/vnd.google.colaboratory.intrinsic+json": {
              "type": "string"
            }
          },
          "metadata": {},
          "execution_count": 31
        }
      ]
    },
    {
      "cell_type": "markdown",
      "source": [
        "#Data Cleaning"
      ],
      "metadata": {
        "id": "FzxvMlIHSUN-"
      }
    },
    {
      "cell_type": "code",
      "source": [
        "#Importing Necessary Libraries for Text Processing\n",
        "import nltk\n",
        "from nltk.corpus import stopwords\n",
        "from nltk.stem.porter import PorterStemmer\n",
        "#from wordcloud import WordCloud,STOPWORDS\n",
        "from nltk.stem import WordNetLemmatizer\n",
        "from nltk.tokenize import word_tokenize\n",
        "import re,string\n",
        "from keras.preprocessing import text, sequence\n",
        "from sklearn.metrics import classification_report,confusion_matrix,accuracy_score\n",
        "from sklearn.model_selection import train_test_split\n",
        "from string import punctuation\n",
        "import keras\n",
        "from keras.models import Sequential\n",
        "import tensorflow as tf\n",
        "from tensorflow.keras.preprocessing.text import Tokenizer\n",
        "from tensorflow.keras.preprocessing.sequence import pad_sequences"
      ],
      "metadata": {
        "id": "5YQIisaiDpcP"
      },
      "execution_count": null,
      "outputs": []
    },
    {
      "cell_type": "code",
      "source": [
        "#Downloading Stopwords\n",
        "nltk.download('stopwords')"
      ],
      "metadata": {
        "colab": {
          "base_uri": "https://localhost:8080/"
        },
        "id": "b565dRCTFKZa",
        "outputId": "363d8029-3983-4ca4-a0c0-8c9344b55354"
      },
      "execution_count": null,
      "outputs": [
        {
          "output_type": "stream",
          "name": "stderr",
          "text": [
            "[nltk_data] Downloading package stopwords to /root/nltk_data...\n",
            "[nltk_data]   Unzipping corpora/stopwords.zip.\n"
          ]
        },
        {
          "output_type": "execute_result",
          "data": {
            "text/plain": [
              "True"
            ]
          },
          "metadata": {},
          "execution_count": 33
        }
      ]
    },
    {
      "cell_type": "code",
      "source": [
        "#Load English Stop Words\n",
        "stopword = stopwords.words('english')\n",
        "print(\"Stopwords:\",stopword)"
      ],
      "metadata": {
        "colab": {
          "base_uri": "https://localhost:8080/"
        },
        "id": "68rvEog5FOt5",
        "outputId": "cf78092b-2911-450e-ecc7-4779beeeb016"
      },
      "execution_count": null,
      "outputs": [
        {
          "output_type": "stream",
          "name": "stdout",
          "text": [
            "Stopwords: ['i', 'me', 'my', 'myself', 'we', 'our', 'ours', 'ourselves', 'you', \"you're\", \"you've\", \"you'll\", \"you'd\", 'your', 'yours', 'yourself', 'yourselves', 'he', 'him', 'his', 'himself', 'she', \"she's\", 'her', 'hers', 'herself', 'it', \"it's\", 'its', 'itself', 'they', 'them', 'their', 'theirs', 'themselves', 'what', 'which', 'who', 'whom', 'this', 'that', \"that'll\", 'these', 'those', 'am', 'is', 'are', 'was', 'were', 'be', 'been', 'being', 'have', 'has', 'had', 'having', 'do', 'does', 'did', 'doing', 'a', 'an', 'the', 'and', 'but', 'if', 'or', 'because', 'as', 'until', 'while', 'of', 'at', 'by', 'for', 'with', 'about', 'against', 'between', 'into', 'through', 'during', 'before', 'after', 'above', 'below', 'to', 'from', 'up', 'down', 'in', 'out', 'on', 'off', 'over', 'under', 'again', 'further', 'then', 'once', 'here', 'there', 'when', 'where', 'why', 'how', 'all', 'any', 'both', 'each', 'few', 'more', 'most', 'other', 'some', 'such', 'no', 'nor', 'not', 'only', 'own', 'same', 'so', 'than', 'too', 'very', 's', 't', 'can', 'will', 'just', 'don', \"don't\", 'should', \"should've\", 'now', 'd', 'll', 'm', 'o', 're', 've', 'y', 'ain', 'aren', \"aren't\", 'couldn', \"couldn't\", 'didn', \"didn't\", 'doesn', \"doesn't\", 'hadn', \"hadn't\", 'hasn', \"hasn't\", 'haven', \"haven't\", 'isn', \"isn't\", 'ma', 'mightn', \"mightn't\", 'mustn', \"mustn't\", 'needn', \"needn't\", 'shan', \"shan't\", 'shouldn', \"shouldn't\", 'wasn', \"wasn't\", 'weren', \"weren't\", 'won', \"won't\", 'wouldn', \"wouldn't\"]\n"
          ]
        }
      ]
    },
    {
      "cell_type": "code",
      "source": [
        "#Clean Function\n",
        "def clean_text(twee):\n",
        "    #Remove URL\n",
        "    twee = re.sub(r'https?://\\S+|www\\.\\S+', \" \", twee)\n",
        "\n",
        "    #Remove Mentions\n",
        "    twee = re.sub(r'@\\w+',' ',twee)\n",
        "\n",
        "    #Remove Punctuation\n",
        "    twee= re.sub(r'[^\\w\\s\\d\\$]',' ',twee)\n",
        "\n",
        "    #Remove Digits\n",
        "    twee = re.sub(r'\\d+', ' ', twee)\n",
        "\n",
        "    #Remove HTML tags\n",
        "    twee = re.sub('r<.*?>',' ', twee)\n",
        "\n",
        "    #Remove Hastags\n",
        "    twee = re.sub(r'#\\w+', ' ', twee)\n",
        "\n",
        "    #Remove Stop Words \n",
        "    twee = twee.split()\n",
        "    #twee = \" \".join(twee)\n",
        "    \n",
        "    twee = \" \".join([word for word in twee if not word in stopword])\n",
        "\n",
        "    return twee"
      ],
      "metadata": {
        "id": "6OgRNZbIFR-v"
      },
      "execution_count": null,
      "outputs": []
    },
    {
      "cell_type": "code",
      "source": [
        "#Applying Tweet Clean Function to Both Files\n",
        "coursedata['clean_combined_text'] = coursedata['combined_text'].astype(str).apply(lambda x: clean_text(x))"
      ],
      "metadata": {
        "id": "ZpxdxiWkFXJ2"
      },
      "execution_count": null,
      "outputs": []
    },
    {
      "cell_type": "code",
      "source": [
        "coursedata['combined_text'][0]"
      ],
      "metadata": {
        "colab": {
          "base_uri": "https://localhost:8080/",
          "height": 105
        },
        "id": "HnTIgp8fFnZb",
        "outputId": "129c6609-521b-461a-b554-ce863a00c248"
      },
      "execution_count": null,
      "outputs": [
        {
          "output_type": "execute_result",
          "data": {
            "text/plain": [
              "' CaliRollB Cloud Computing Concepts, Part 1 CaliRollA Beginner Level[\\'Distributed Algorithm\\', \\'Distributed Computing\\', \\'C++\\', \\'Cloud Computing\\'][\\'Indranil Gupta\\']Cloud computing systems today, whether open-source or used inside companies, are built using a common set of core techniques, algorithms, and design philosophies – all centered around distributed systems. Learn about such fundamental distributed computing \"concepts\" for cloud computing. Some of these concepts include: clouds, MapReduce, key-value/NoSQL stores, classical distributed algorithms, widely-used distributed algorithms, scalability, trending areas, and much, much more! \\n \\nKnow how these systems work from the inside out. Get your hands dirty using these concepts with provided homework exercises. In the programming assignments, implement some of these concepts in template code (programs) provided in the C++ programming language. Prior experience with C++ is required.\\n \\nThe course also features interviews with leading researchers and managers, from both industry and academia. The University of Illinois at Urbana-Champaign is a world leader in research, teaching and public engagement, distinguished by the breadth of its programs, broad academic excellence, and internationally renowned faculty and alumni. Illinois serves the world by creating knowledge, preparing students for lives of impact, and finding solutions to critical societal needs. This course is oriented towards learners with similar backgrounds as juniors and seniors in a CS undergraduate curriculum. Since learners come from various backgrounds, it is critical you view this lecture AND pass the prerequisite test. This will ensure you have many of the assumed prerequisite pieces of knowledge required to enjoy this course. Lesson 1: This module teaches how the multicast problem is solved by using epidemic/gossip protocols. It also teaches analysis of such protocols. Lesson 2: This module covers the design of failure detectors, a key component in any distributed system. Membership protocols, which use failure detectors as components, are also covered. Lesson 3: This module covers Grid computing, an important precursor to cloud computing. P2P systems: This module teaches the detailed design of two classes of peer to peer systems: (a) popular ones including Napster, Gnutella, FastTrack, and BitTorrent; and (b) efficient ones including distributed hash tables (Chord, Pastry, and Kelips). Besides focusing on design, the module also analyzes these systems in detail. Lesson 1: This module motivates and teaches the design of key-value/NoSQL storage/database systems. We cover the design of two major industry systems: Apache Cassandra and HBase. We also cover the famous CAP theorem. Lesson 2: Distributed systems are asynchronous, which makes clocks at different machines hard to synchronize. This module first covers various clock synchronization algorithms, and then covers ways of tagging events with causal timestamps that avoid synchronizing clocks. These classical algorithms were invented decades ago, yet are used widely in today’s cloud systems.  The Cloud Computing Specialization takes you on a tour through cloud computing systems. We start in in the middle layer with Cloud Computing Concepts covering core distributed systems concepts used inside clouds, move to the upper layer of Cloud Applications and finally to the lower layer of Cloud Networking. We conclude with a project that allows you to apply the skills you\\'ve learned throughout the courses. University of Illinois at Urbana-ChampaignEnglish[\\'Week 1: Orientation, Introduction to Clouds, MapReduce \\', \\'Week 2: Gossip, Membership, and Grids\\', \\'Week 3: P2P Systems\\', \\'Week 4: Key-Value Stores, Time, and Ordering\\', \\'Week 5: Classical Distributed Algorithms\\'][\\'This course is oriented towards learners with similar backgrounds as juniors and seniors in a CS undergraduate curriculum. Since learners come from various backgrounds, it is critical you view this lecture AND pass the prerequisite test. This will ensure you have many of the assumed prerequisite pieces of knowledge required to enjoy this course. \\', \\'Lesson 1: This module teaches how the multicast problem is solved by using epidemic/gossip protocols. It also teaches analysis of such protocols. Lesson 2: This module covers the design of failure detectors, a key component in any distributed system. Membership protocols, which use failure detectors as components, are also covered. Lesson 3: This module covers Grid computing, an important precursor to cloud computing.\\', \\'P2P systems: This module teaches the detailed design of two classes of peer to peer systems: (a) popular ones including Napster, Gnutella, FastTrack, and BitTorrent; and (b) efficient ones including distributed hash tables (Chord, Pastry, and Kelips). Besides focusing on design, the module also analyzes these systems in detail.\\', \\'Lesson 1: This module motivates and teaches the design of key-value/NoSQL storage/database systems. We cover the design of two major industry systems: Apache Cassandra and HBase. We also cover the famous CAP theorem.  Lesson 2: Distributed systems are asynchronous, which makes clocks at different machines hard to synchronize. This module first covers various clock synchronization algorithms, and then covers ways of tagging events with causal timestamps that avoid synchronizing clocks. These classical algorithms were invented decades ago, yet are used widely in today’s cloud systems.\\', \\'Lesson 1: This module covers how to calculate a distributed snapshot, leveraging causality again to circumvent the synchronization problem. Lesson 2: This lecture teaches how to order multicasts in any distributed system. Algorithms for assigning timestamp tags to multicasts using various flavors of ordering – FIFO, Causal, and Total – are covered. The module also covers virtual synchrony, a paradigm that combines reliable multicasts with membership views.  Lesson 3: Consensus is one of the most important problems in a distributed system, enabling multiple machines to agree. This module uses Paxos, one of the most popular consensus solutions used in the industry today. Paxos is not perfect because consensus cannot be solved completely – an optional lecture presents the famous FLP proof of impossibility of consensus. \\']Medium Course  Duration'"
            ],
            "application/vnd.google.colaboratory.intrinsic+json": {
              "type": "string"
            }
          },
          "metadata": {},
          "execution_count": 37
        }
      ]
    },
    {
      "cell_type": "code",
      "source": [
        "coursedata['clean_combined_text'][0]"
      ],
      "metadata": {
        "colab": {
          "base_uri": "https://localhost:8080/",
          "height": 105
        },
        "id": "oNnI70_vGD2M",
        "outputId": "861004d5-0a06-43d9-c089-0f007367be8d"
      },
      "execution_count": null,
      "outputs": [
        {
          "output_type": "execute_result",
          "data": {
            "text/plain": [
              "'CaliRollB Cloud Computing Concepts Part CaliRollA Beginner Level Distributed Algorithm Distributed Computing C Cloud Computing Indranil Gupta Cloud computing systems today whether open source used inside companies built using common set core techniques algorithms design philosophies centered around distributed systems Learn fundamental distributed computing concepts cloud computing Some concepts include clouds MapReduce key value NoSQL stores classical distributed algorithms widely used distributed algorithms scalability trending areas much much Know systems work inside Get hands dirty using concepts provided homework exercises In programming assignments implement concepts template code programs provided C programming language Prior experience C required The course also features interviews leading researchers managers industry academia The University Illinois Urbana Champaign world leader research teaching public engagement distinguished breadth programs broad academic excellence internationally renowned faculty alumni Illinois serves world creating knowledge preparing students lives impact finding solutions critical societal needs This course oriented towards learners similar backgrounds juniors seniors CS undergraduate curriculum Since learners come various backgrounds critical view lecture AND pass prerequisite test This ensure many assumed prerequisite pieces knowledge required enjoy course Lesson This module teaches multicast problem solved using epidemic gossip protocols It also teaches analysis protocols Lesson This module covers design failure detectors key component distributed system Membership protocols use failure detectors components also covered Lesson This module covers Grid computing important precursor cloud computing P P systems This module teaches detailed design two classes peer peer systems popular ones including Napster Gnutella FastTrack BitTorrent b efficient ones including distributed hash tables Chord Pastry Kelips Besides focusing design module also analyzes systems detail Lesson This module motivates teaches design key value NoSQL storage database systems We cover design two major industry systems Apache Cassandra HBase We also cover famous CAP theorem Lesson Distributed systems asynchronous makes clocks different machines hard synchronize This module first covers various clock synchronization algorithms covers ways tagging events causal timestamps avoid synchronizing clocks These classical algorithms invented decades ago yet used widely today cloud systems The Cloud Computing Specialization takes tour cloud computing systems We start middle layer Cloud Computing Concepts covering core distributed systems concepts used inside clouds move upper layer Cloud Applications finally lower layer Cloud Networking We conclude project allows apply skills learned throughout courses University Illinois Urbana ChampaignEnglish Week Orientation Introduction Clouds MapReduce Week Gossip Membership Grids Week P P Systems Week Key Value Stores Time Ordering Week Classical Distributed Algorithms This course oriented towards learners similar backgrounds juniors seniors CS undergraduate curriculum Since learners come various backgrounds critical view lecture AND pass prerequisite test This ensure many assumed prerequisite pieces knowledge required enjoy course Lesson This module teaches multicast problem solved using epidemic gossip protocols It also teaches analysis protocols Lesson This module covers design failure detectors key component distributed system Membership protocols use failure detectors components also covered Lesson This module covers Grid computing important precursor cloud computing P P systems This module teaches detailed design two classes peer peer systems popular ones including Napster Gnutella FastTrack BitTorrent b efficient ones including distributed hash tables Chord Pastry Kelips Besides focusing design module also analyzes systems detail Lesson This module motivates teaches design key value NoSQL storage database systems We cover design two major industry systems Apache Cassandra HBase We also cover famous CAP theorem Lesson Distributed systems asynchronous makes clocks different machines hard synchronize This module first covers various clock synchronization algorithms covers ways tagging events causal timestamps avoid synchronizing clocks These classical algorithms invented decades ago yet used widely today cloud systems Lesson This module covers calculate distributed snapshot leveraging causality circumvent synchronization problem Lesson This lecture teaches order multicasts distributed system Algorithms assigning timestamp tags multicasts using various flavors ordering FIFO Causal Total covered The module also covers virtual synchrony paradigm combines reliable multicasts membership views Lesson Consensus one important problems distributed system enabling multiple machines agree This module uses Paxos one popular consensus solutions used industry today Paxos perfect consensus cannot solved completely optional lecture presents famous FLP proof impossibility consensus Medium Course Duration'"
            ],
            "application/vnd.google.colaboratory.intrinsic+json": {
              "type": "string"
            }
          },
          "metadata": {},
          "execution_count": 38
        }
      ]
    },
    {
      "cell_type": "code",
      "source": [
        "coursedata2 = coursedata[coursedata.clean_combined_text.map(lambda x: x.isascii())]"
      ],
      "metadata": {
        "id": "mXUoKuM4HGf7"
      },
      "execution_count": null,
      "outputs": []
    },
    {
      "cell_type": "code",
      "source": [
        "coursedata2['clean_combined_text'][0]"
      ],
      "metadata": {
        "id": "q-pQMrUiGHDZ",
        "colab": {
          "base_uri": "https://localhost:8080/",
          "height": 105
        },
        "outputId": "5a4b149c-6f4e-4846-dde6-1e63a91ce7ef"
      },
      "execution_count": null,
      "outputs": [
        {
          "output_type": "execute_result",
          "data": {
            "text/plain": [
              "'CaliRollB Cloud Computing Concepts Part CaliRollA Beginner Level Distributed Algorithm Distributed Computing C Cloud Computing Indranil Gupta Cloud computing systems today whether open source used inside companies built using common set core techniques algorithms design philosophies centered around distributed systems Learn fundamental distributed computing concepts cloud computing Some concepts include clouds MapReduce key value NoSQL stores classical distributed algorithms widely used distributed algorithms scalability trending areas much much Know systems work inside Get hands dirty using concepts provided homework exercises In programming assignments implement concepts template code programs provided C programming language Prior experience C required The course also features interviews leading researchers managers industry academia The University Illinois Urbana Champaign world leader research teaching public engagement distinguished breadth programs broad academic excellence internationally renowned faculty alumni Illinois serves world creating knowledge preparing students lives impact finding solutions critical societal needs This course oriented towards learners similar backgrounds juniors seniors CS undergraduate curriculum Since learners come various backgrounds critical view lecture AND pass prerequisite test This ensure many assumed prerequisite pieces knowledge required enjoy course Lesson This module teaches multicast problem solved using epidemic gossip protocols It also teaches analysis protocols Lesson This module covers design failure detectors key component distributed system Membership protocols use failure detectors components also covered Lesson This module covers Grid computing important precursor cloud computing P P systems This module teaches detailed design two classes peer peer systems popular ones including Napster Gnutella FastTrack BitTorrent b efficient ones including distributed hash tables Chord Pastry Kelips Besides focusing design module also analyzes systems detail Lesson This module motivates teaches design key value NoSQL storage database systems We cover design two major industry systems Apache Cassandra HBase We also cover famous CAP theorem Lesson Distributed systems asynchronous makes clocks different machines hard synchronize This module first covers various clock synchronization algorithms covers ways tagging events causal timestamps avoid synchronizing clocks These classical algorithms invented decades ago yet used widely today cloud systems The Cloud Computing Specialization takes tour cloud computing systems We start middle layer Cloud Computing Concepts covering core distributed systems concepts used inside clouds move upper layer Cloud Applications finally lower layer Cloud Networking We conclude project allows apply skills learned throughout courses University Illinois Urbana ChampaignEnglish Week Orientation Introduction Clouds MapReduce Week Gossip Membership Grids Week P P Systems Week Key Value Stores Time Ordering Week Classical Distributed Algorithms This course oriented towards learners similar backgrounds juniors seniors CS undergraduate curriculum Since learners come various backgrounds critical view lecture AND pass prerequisite test This ensure many assumed prerequisite pieces knowledge required enjoy course Lesson This module teaches multicast problem solved using epidemic gossip protocols It also teaches analysis protocols Lesson This module covers design failure detectors key component distributed system Membership protocols use failure detectors components also covered Lesson This module covers Grid computing important precursor cloud computing P P systems This module teaches detailed design two classes peer peer systems popular ones including Napster Gnutella FastTrack BitTorrent b efficient ones including distributed hash tables Chord Pastry Kelips Besides focusing design module also analyzes systems detail Lesson This module motivates teaches design key value NoSQL storage database systems We cover design two major industry systems Apache Cassandra HBase We also cover famous CAP theorem Lesson Distributed systems asynchronous makes clocks different machines hard synchronize This module first covers various clock synchronization algorithms covers ways tagging events causal timestamps avoid synchronizing clocks These classical algorithms invented decades ago yet used widely today cloud systems Lesson This module covers calculate distributed snapshot leveraging causality circumvent synchronization problem Lesson This lecture teaches order multicasts distributed system Algorithms assigning timestamp tags multicasts using various flavors ordering FIFO Causal Total covered The module also covers virtual synchrony paradigm combines reliable multicasts membership views Lesson Consensus one important problems distributed system enabling multiple machines agree This module uses Paxos one popular consensus solutions used industry today Paxos perfect consensus cannot solved completely optional lecture presents famous FLP proof impossibility consensus Medium Course Duration'"
            ],
            "application/vnd.google.colaboratory.intrinsic+json": {
              "type": "string"
            }
          },
          "metadata": {},
          "execution_count": 40
        }
      ]
    },
    {
      "cell_type": "code",
      "source": [
        "#coursedata2.to_csv('coursedata2.csv')"
      ],
      "metadata": {
        "id": "PY884VFHfwM-"
      },
      "execution_count": null,
      "outputs": []
    },
    {
      "cell_type": "code",
      "source": [
        "coursedata2 = coursedata2.dropna()"
      ],
      "metadata": {
        "id": "wciQ3MJaHWj5"
      },
      "execution_count": null,
      "outputs": []
    },
    {
      "cell_type": "code",
      "source": [
        "course_text = coursedata2[['clean_combined_text']]\n",
        "course_text['index'] = course_text.index\n",
        "documents = course_text"
      ],
      "metadata": {
        "colab": {
          "base_uri": "https://localhost:8080/"
        },
        "id": "R07hxCavGeQ-",
        "outputId": "ccd49ebd-225d-4d56-a2e3-ccc3e829f869"
      },
      "execution_count": null,
      "outputs": [
        {
          "output_type": "stream",
          "name": "stderr",
          "text": [
            "/usr/local/lib/python3.7/dist-packages/ipykernel_launcher.py:2: SettingWithCopyWarning: \n",
            "A value is trying to be set on a copy of a slice from a DataFrame.\n",
            "Try using .loc[row_indexer,col_indexer] = value instead\n",
            "\n",
            "See the caveats in the documentation: https://pandas.pydata.org/pandas-docs/stable/user_guide/indexing.html#returning-a-view-versus-a-copy\n",
            "  \n"
          ]
        }
      ]
    },
    {
      "cell_type": "code",
      "source": [
        "documents"
      ],
      "metadata": {
        "colab": {
          "base_uri": "https://localhost:8080/",
          "height": 424
        },
        "id": "gBGQnLKHiBKG",
        "outputId": "a9ea3824-0b8e-4b84-98b1-7700805716d8"
      },
      "execution_count": null,
      "outputs": [
        {
          "output_type": "execute_result",
          "data": {
            "text/plain": [
              "                                    clean_combined_text  index\n",
              "0     CaliRollB Cloud Computing Concepts Part CaliRo...      0\n",
              "1     CaliRollB The Challenges Global Health CaliRol...      1\n",
              "2     CaliRollB Digital Marketing Analytics Theory C...      2\n",
              "3     CaliRollB Digital Product Management Modern Fu...      3\n",
              "7     CaliRollB Grow Your Business Goldman Sachs Wom...      7\n",
              "...                                                 ...    ...\n",
              "6611  CaliRollB Introduction XR VR AR MR Foundations...   6611\n",
              "6616  CaliRollB Global Adolescent Health CaliRollA B...   6616\n",
              "6617  CaliRollB The Science Training Young Athletes ...   6617\n",
              "6622  CaliRollB Getting Started Mainframe z OS Comma...   6622\n",
              "6634  CaliRollB IBM z OS Rexx Programming CaliRollA ...   6634\n",
              "\n",
              "[3190 rows x 2 columns]"
            ],
            "text/html": [
              "\n",
              "  <div id=\"df-6c2104c5-e083-463e-b1a3-9cfd7fccf7f7\">\n",
              "    <div class=\"colab-df-container\">\n",
              "      <div>\n",
              "<style scoped>\n",
              "    .dataframe tbody tr th:only-of-type {\n",
              "        vertical-align: middle;\n",
              "    }\n",
              "\n",
              "    .dataframe tbody tr th {\n",
              "        vertical-align: top;\n",
              "    }\n",
              "\n",
              "    .dataframe thead th {\n",
              "        text-align: right;\n",
              "    }\n",
              "</style>\n",
              "<table border=\"1\" class=\"dataframe\">\n",
              "  <thead>\n",
              "    <tr style=\"text-align: right;\">\n",
              "      <th></th>\n",
              "      <th>clean_combined_text</th>\n",
              "      <th>index</th>\n",
              "    </tr>\n",
              "  </thead>\n",
              "  <tbody>\n",
              "    <tr>\n",
              "      <th>0</th>\n",
              "      <td>CaliRollB Cloud Computing Concepts Part CaliRo...</td>\n",
              "      <td>0</td>\n",
              "    </tr>\n",
              "    <tr>\n",
              "      <th>1</th>\n",
              "      <td>CaliRollB The Challenges Global Health CaliRol...</td>\n",
              "      <td>1</td>\n",
              "    </tr>\n",
              "    <tr>\n",
              "      <th>2</th>\n",
              "      <td>CaliRollB Digital Marketing Analytics Theory C...</td>\n",
              "      <td>2</td>\n",
              "    </tr>\n",
              "    <tr>\n",
              "      <th>3</th>\n",
              "      <td>CaliRollB Digital Product Management Modern Fu...</td>\n",
              "      <td>3</td>\n",
              "    </tr>\n",
              "    <tr>\n",
              "      <th>7</th>\n",
              "      <td>CaliRollB Grow Your Business Goldman Sachs Wom...</td>\n",
              "      <td>7</td>\n",
              "    </tr>\n",
              "    <tr>\n",
              "      <th>...</th>\n",
              "      <td>...</td>\n",
              "      <td>...</td>\n",
              "    </tr>\n",
              "    <tr>\n",
              "      <th>6611</th>\n",
              "      <td>CaliRollB Introduction XR VR AR MR Foundations...</td>\n",
              "      <td>6611</td>\n",
              "    </tr>\n",
              "    <tr>\n",
              "      <th>6616</th>\n",
              "      <td>CaliRollB Global Adolescent Health CaliRollA B...</td>\n",
              "      <td>6616</td>\n",
              "    </tr>\n",
              "    <tr>\n",
              "      <th>6617</th>\n",
              "      <td>CaliRollB The Science Training Young Athletes ...</td>\n",
              "      <td>6617</td>\n",
              "    </tr>\n",
              "    <tr>\n",
              "      <th>6622</th>\n",
              "      <td>CaliRollB Getting Started Mainframe z OS Comma...</td>\n",
              "      <td>6622</td>\n",
              "    </tr>\n",
              "    <tr>\n",
              "      <th>6634</th>\n",
              "      <td>CaliRollB IBM z OS Rexx Programming CaliRollA ...</td>\n",
              "      <td>6634</td>\n",
              "    </tr>\n",
              "  </tbody>\n",
              "</table>\n",
              "<p>3190 rows × 2 columns</p>\n",
              "</div>\n",
              "      <button class=\"colab-df-convert\" onclick=\"convertToInteractive('df-6c2104c5-e083-463e-b1a3-9cfd7fccf7f7')\"\n",
              "              title=\"Convert this dataframe to an interactive table.\"\n",
              "              style=\"display:none;\">\n",
              "        \n",
              "  <svg xmlns=\"http://www.w3.org/2000/svg\" height=\"24px\"viewBox=\"0 0 24 24\"\n",
              "       width=\"24px\">\n",
              "    <path d=\"M0 0h24v24H0V0z\" fill=\"none\"/>\n",
              "    <path d=\"M18.56 5.44l.94 2.06.94-2.06 2.06-.94-2.06-.94-.94-2.06-.94 2.06-2.06.94zm-11 1L8.5 8.5l.94-2.06 2.06-.94-2.06-.94L8.5 2.5l-.94 2.06-2.06.94zm10 10l.94 2.06.94-2.06 2.06-.94-2.06-.94-.94-2.06-.94 2.06-2.06.94z\"/><path d=\"M17.41 7.96l-1.37-1.37c-.4-.4-.92-.59-1.43-.59-.52 0-1.04.2-1.43.59L10.3 9.45l-7.72 7.72c-.78.78-.78 2.05 0 2.83L4 21.41c.39.39.9.59 1.41.59.51 0 1.02-.2 1.41-.59l7.78-7.78 2.81-2.81c.8-.78.8-2.07 0-2.86zM5.41 20L4 18.59l7.72-7.72 1.47 1.35L5.41 20z\"/>\n",
              "  </svg>\n",
              "      </button>\n",
              "      \n",
              "  <style>\n",
              "    .colab-df-container {\n",
              "      display:flex;\n",
              "      flex-wrap:wrap;\n",
              "      gap: 12px;\n",
              "    }\n",
              "\n",
              "    .colab-df-convert {\n",
              "      background-color: #E8F0FE;\n",
              "      border: none;\n",
              "      border-radius: 50%;\n",
              "      cursor: pointer;\n",
              "      display: none;\n",
              "      fill: #1967D2;\n",
              "      height: 32px;\n",
              "      padding: 0 0 0 0;\n",
              "      width: 32px;\n",
              "    }\n",
              "\n",
              "    .colab-df-convert:hover {\n",
              "      background-color: #E2EBFA;\n",
              "      box-shadow: 0px 1px 2px rgba(60, 64, 67, 0.3), 0px 1px 3px 1px rgba(60, 64, 67, 0.15);\n",
              "      fill: #174EA6;\n",
              "    }\n",
              "\n",
              "    [theme=dark] .colab-df-convert {\n",
              "      background-color: #3B4455;\n",
              "      fill: #D2E3FC;\n",
              "    }\n",
              "\n",
              "    [theme=dark] .colab-df-convert:hover {\n",
              "      background-color: #434B5C;\n",
              "      box-shadow: 0px 1px 3px 1px rgba(0, 0, 0, 0.15);\n",
              "      filter: drop-shadow(0px 1px 2px rgba(0, 0, 0, 0.3));\n",
              "      fill: #FFFFFF;\n",
              "    }\n",
              "  </style>\n",
              "\n",
              "      <script>\n",
              "        const buttonEl =\n",
              "          document.querySelector('#df-6c2104c5-e083-463e-b1a3-9cfd7fccf7f7 button.colab-df-convert');\n",
              "        buttonEl.style.display =\n",
              "          google.colab.kernel.accessAllowed ? 'block' : 'none';\n",
              "\n",
              "        async function convertToInteractive(key) {\n",
              "          const element = document.querySelector('#df-6c2104c5-e083-463e-b1a3-9cfd7fccf7f7');\n",
              "          const dataTable =\n",
              "            await google.colab.kernel.invokeFunction('convertToInteractive',\n",
              "                                                     [key], {});\n",
              "          if (!dataTable) return;\n",
              "\n",
              "          const docLinkHtml = 'Like what you see? Visit the ' +\n",
              "            '<a target=\"_blank\" href=https://colab.research.google.com/notebooks/data_table.ipynb>data table notebook</a>'\n",
              "            + ' to learn more about interactive tables.';\n",
              "          element.innerHTML = '';\n",
              "          dataTable['output_type'] = 'display_data';\n",
              "          await google.colab.output.renderOutput(dataTable, element);\n",
              "          const docLink = document.createElement('div');\n",
              "          docLink.innerHTML = docLinkHtml;\n",
              "          element.appendChild(docLink);\n",
              "        }\n",
              "      </script>\n",
              "    </div>\n",
              "  </div>\n",
              "  "
            ]
          },
          "metadata": {},
          "execution_count": 44
        }
      ]
    },
    {
      "cell_type": "code",
      "source": [
        "course_clean_1 = documents['clean_combined_text'].reset_index(drop=True)"
      ],
      "metadata": {
        "id": "3OJrYmeoGeX9"
      },
      "execution_count": null,
      "outputs": []
    },
    {
      "cell_type": "code",
      "source": [
        "course_clean_1"
      ],
      "metadata": {
        "colab": {
          "base_uri": "https://localhost:8080/"
        },
        "id": "QJg_v7eliELC",
        "outputId": "343d208a-37b5-45d0-97b9-8f8fa94d3340"
      },
      "execution_count": null,
      "outputs": [
        {
          "output_type": "execute_result",
          "data": {
            "text/plain": [
              "0       CaliRollB Cloud Computing Concepts Part CaliRo...\n",
              "1       CaliRollB The Challenges Global Health CaliRol...\n",
              "2       CaliRollB Digital Marketing Analytics Theory C...\n",
              "3       CaliRollB Digital Product Management Modern Fu...\n",
              "4       CaliRollB Grow Your Business Goldman Sachs Wom...\n",
              "                              ...                        \n",
              "3185    CaliRollB Introduction XR VR AR MR Foundations...\n",
              "3186    CaliRollB Global Adolescent Health CaliRollA B...\n",
              "3187    CaliRollB The Science Training Young Athletes ...\n",
              "3188    CaliRollB Getting Started Mainframe z OS Comma...\n",
              "3189    CaliRollB IBM z OS Rexx Programming CaliRollA ...\n",
              "Name: clean_combined_text, Length: 3190, dtype: object"
            ]
          },
          "metadata": {},
          "execution_count": 46
        }
      ]
    },
    {
      "cell_type": "code",
      "source": [
        "course_clean = course_clean_1"
      ],
      "metadata": {
        "id": "b1B5QV72iRnl"
      },
      "execution_count": null,
      "outputs": []
    },
    {
      "cell_type": "code",
      "source": [
        "#def text_one_liner(books_list):\n",
        "#    for x in range(len(books_list)):\n",
        "#        books_list[x] = books_list[x].replace('\\n', ' ')\n",
        "#    return books_list\n",
        "\n",
        "#course_clean = text_one_liner(course_clean_1)"
      ],
      "metadata": {
        "id": "SYOBImKxQ4DS"
      },
      "execution_count": null,
      "outputs": []
    },
    {
      "cell_type": "code",
      "source": [
        "len(course_clean)"
      ],
      "metadata": {
        "colab": {
          "base_uri": "https://localhost:8080/"
        },
        "id": "TZd1mqXGQEX0",
        "outputId": "1dd44c65-6fea-4d74-9168-0620a98c63fd"
      },
      "execution_count": null,
      "outputs": [
        {
          "output_type": "execute_result",
          "data": {
            "text/plain": [
              "3190"
            ]
          },
          "metadata": {},
          "execution_count": 48
        }
      ]
    },
    {
      "cell_type": "code",
      "source": [
        "#documents['clean_combined_text']"
      ],
      "metadata": {
        "id": "iUObvUljo0OW"
      },
      "execution_count": null,
      "outputs": []
    },
    {
      "cell_type": "code",
      "source": [
        "import gensim\n",
        "from gensim.utils import simple_preprocess\n",
        "from gensim.parsing.preprocessing import STOPWORDS\n",
        "from nltk.stem import WordNetLemmatizer, SnowballStemmer\n",
        "from nltk.stem.porter import *\n",
        "import numpy as np\n",
        "np.random.seed(2018)\n",
        "import nltk\n",
        "nltk.download('wordnet')"
      ],
      "metadata": {
        "colab": {
          "base_uri": "https://localhost:8080/"
        },
        "id": "rofzmBFcGeci",
        "outputId": "3cd07ea0-fdd1-4ce1-f15c-2761f52056b6"
      },
      "execution_count": null,
      "outputs": [
        {
          "output_type": "stream",
          "name": "stderr",
          "text": [
            "[nltk_data] Downloading package wordnet to /root/nltk_data...\n"
          ]
        },
        {
          "output_type": "execute_result",
          "data": {
            "text/plain": [
              "True"
            ]
          },
          "metadata": {},
          "execution_count": 49
        }
      ]
    },
    {
      "cell_type": "code",
      "source": [
        "import nltk\n",
        "nltk.download('omw-1.4')"
      ],
      "metadata": {
        "colab": {
          "base_uri": "https://localhost:8080/"
        },
        "id": "tcOApavdI7sw",
        "outputId": "6db6f218-4930-477a-a65a-daf0f6221378"
      },
      "execution_count": null,
      "outputs": [
        {
          "output_type": "stream",
          "name": "stderr",
          "text": [
            "[nltk_data] Downloading package omw-1.4 to /root/nltk_data...\n"
          ]
        },
        {
          "output_type": "execute_result",
          "data": {
            "text/plain": [
              "True"
            ]
          },
          "metadata": {},
          "execution_count": 50
        }
      ]
    },
    {
      "cell_type": "code",
      "source": [
        "def lemmatize_stemming(text):\n",
        "    return text #stemmer.stem(WordNetLemmatizer().lemmatize(text, pos='v'))\n",
        "def preprocess(text):\n",
        "    result = []\n",
        "    for token in gensim.utils.simple_preprocess(text):\n",
        "        if token not in gensim.parsing.preprocessing.STOPWORDS and len(token) > 3:\n",
        "            result.append(lemmatize_stemming(token))\n",
        "    return result"
      ],
      "metadata": {
        "id": "rW4L2Mb2Gegq"
      },
      "execution_count": null,
      "outputs": []
    },
    {
      "cell_type": "code",
      "source": [
        "processed_docs = course_clean.map(preprocess)\n",
        "processed_docs[:10]"
      ],
      "metadata": {
        "colab": {
          "base_uri": "https://localhost:8080/"
        },
        "id": "6z3hInPKGekv",
        "outputId": "ecce5407-f7ce-4d2b-bd2a-81b538a6ce47"
      },
      "execution_count": null,
      "outputs": [
        {
          "output_type": "execute_result",
          "data": {
            "text/plain": [
              "0    [calirollb, cloud, computing, concepts, caliro...\n",
              "1    [calirollb, challenges, global, health, caliro...\n",
              "2    [calirollb, digital, marketing, analytics, the...\n",
              "3    [calirollb, digital, product, management, mode...\n",
              "4    [calirollb, grow, business, goldman, sachs, wo...\n",
              "5    [calirollb, fundamentals, negotiation, goldman...\n",
              "6    [calirollb, fundamentals, business, finance, g...\n",
              "7    [calirollb, fundamentals, leadership, goldman,...\n",
              "8    [calirollb, fundamentals, customers, competiti...\n",
              "9    [calirollb, fundamentals, financial, planning,...\n",
              "Name: clean_combined_text, dtype: object"
            ]
          },
          "metadata": {},
          "execution_count": 52
        }
      ]
    },
    {
      "cell_type": "markdown",
      "source": [
        "#Bag of Words\n",
        "Create a dictionary from ‘processed_docs’ containing the number of times a word appears in the training set."
      ],
      "metadata": {
        "id": "rpAKgcbfS_Yp"
      }
    },
    {
      "cell_type": "code",
      "source": [
        "dictionary = gensim.corpora.Dictionary(processed_docs)\n",
        "count = 0\n",
        "for k, v in dictionary.iteritems():\n",
        "    print(k, v)\n",
        "    count += 1\n",
        "    if count > 10:\n",
        "        break"
      ],
      "metadata": {
        "colab": {
          "base_uri": "https://localhost:8080/"
        },
        "id": "S9tYTKvGI2n3",
        "outputId": "ec48016a-0213-48d0-f699-fab8a4b0a76a"
      },
      "execution_count": null,
      "outputs": [
        {
          "output_type": "stream",
          "name": "stdout",
          "text": [
            "0 academia\n",
            "1 academic\n",
            "2 agree\n",
            "3 algorithm\n",
            "4 algorithms\n",
            "5 allows\n",
            "6 alumni\n",
            "7 analysis\n",
            "8 analyzes\n",
            "9 apache\n",
            "10 applications\n"
          ]
        }
      ]
    },
    {
      "cell_type": "markdown",
      "source": [
        "Filter out tokens that appear in\n",
        "\n",
        "*   Less than 15 documents (absolute number) or\n",
        "*   more than 0.5 documents (fraction of total corpus size, not absolute number)\n",
        "*   after the above two steps, keep only the first 100000 most frequent tokens."
      ],
      "metadata": {
        "id": "v9JTx1n1TQNn"
      }
    },
    {
      "cell_type": "code",
      "source": [
        "#dictionary.filter_extremes(no_below=2, no_above=0.5, keep_n=100000)"
      ],
      "metadata": {
        "id": "IwbNOoWfKb7M"
      },
      "execution_count": null,
      "outputs": []
    },
    {
      "cell_type": "code",
      "source": [
        "bow_corpus = [dictionary.doc2bow(doc) for doc in processed_docs]\n",
        "bow_corpus[3000]"
      ],
      "metadata": {
        "colab": {
          "base_uri": "https://localhost:8080/"
        },
        "id": "lfP-kSn8Ki7p",
        "outputId": "7b0865bd-57b0-4f94-9194-9f3d6cd2ad24"
      },
      "execution_count": null,
      "outputs": [
        {
          "output_type": "execute_result",
          "data": {
            "text/plain": [
              "[(19, 1),\n",
              " (25, 1),\n",
              " (26, 1),\n",
              " (49, 1),\n",
              " (53, 4),\n",
              " (58, 1),\n",
              " (71, 1),\n",
              " (79, 1),\n",
              " (92, 1),\n",
              " (115, 1),\n",
              " (124, 1),\n",
              " (130, 1),\n",
              " (139, 1),\n",
              " (153, 1),\n",
              " (173, 1),\n",
              " (184, 1),\n",
              " (216, 3),\n",
              " (224, 2),\n",
              " (236, 1),\n",
              " (301, 1),\n",
              " (316, 1),\n",
              " (317, 2),\n",
              " (319, 1),\n",
              " (348, 1),\n",
              " (384, 1),\n",
              " (396, 1),\n",
              " (405, 1),\n",
              " (420, 2),\n",
              " (429, 1),\n",
              " (446, 2),\n",
              " (449, 1),\n",
              " (454, 4),\n",
              " (524, 2),\n",
              " (575, 1),\n",
              " (625, 1),\n",
              " (648, 1),\n",
              " (668, 1),\n",
              " (827, 1),\n",
              " (943, 1),\n",
              " (962, 1),\n",
              " (963, 1),\n",
              " (981, 1),\n",
              " (1004, 1),\n",
              " (1143, 1),\n",
              " (1167, 1),\n",
              " (1171, 1),\n",
              " (1198, 1),\n",
              " (1261, 2),\n",
              " (1269, 3),\n",
              " (1275, 1),\n",
              " (1309, 1),\n",
              " (1500, 4),\n",
              " (1653, 1),\n",
              " (1665, 1),\n",
              " (1670, 1),\n",
              " (1695, 1),\n",
              " (1802, 1),\n",
              " (1902, 2),\n",
              " (2110, 1),\n",
              " (2120, 1),\n",
              " (2313, 1),\n",
              " (2382, 1),\n",
              " (2733, 1),\n",
              " (2766, 1),\n",
              " (2788, 2),\n",
              " (2797, 1),\n",
              " (2854, 1),\n",
              " (3459, 1),\n",
              " (3653, 1),\n",
              " (3817, 1),\n",
              " (3892, 1),\n",
              " (4020, 1),\n",
              " (4052, 1),\n",
              " (4057, 1),\n",
              " (4069, 1),\n",
              " (4232, 2),\n",
              " (4402, 1),\n",
              " (4694, 1),\n",
              " (5484, 1),\n",
              " (6073, 1),\n",
              " (6074, 1),\n",
              " (6177, 3),\n",
              " (6187, 1),\n",
              " (6648, 1),\n",
              " (6655, 1),\n",
              " (6658, 1),\n",
              " (7037, 1),\n",
              " (7051, 1),\n",
              " (7944, 1),\n",
              " (8059, 9),\n",
              " (8073, 1),\n",
              " (8091, 1),\n",
              " (8669, 1),\n",
              " (9812, 3),\n",
              " (14970, 1),\n",
              " (16347, 1),\n",
              " (23770, 1),\n",
              " (27165, 1)]"
            ]
          },
          "metadata": {},
          "execution_count": 56
        }
      ]
    },
    {
      "cell_type": "code",
      "source": [
        "bow_doc_4310 = bow_corpus[3000]\n",
        "for i in range(len(bow_doc_4310)):\n",
        "    print(\"Word {} (\\\"{}\\\") appears {} time.\".format(bow_doc_4310[i][0], \n",
        "                                               dictionary[bow_doc_4310[i][0]], \n",
        "bow_doc_4310[i][1]))"
      ],
      "metadata": {
        "colab": {
          "base_uri": "https://localhost:8080/"
        },
        "id": "bMls-wBaKmkR",
        "outputId": "8d0c6cb5-29be-4de4-c872-b9d7983bb755"
      },
      "execution_count": null,
      "outputs": [
        {
          "output_type": "stream",
          "name": "stdout",
          "text": [
            "Word 19 (\"beginner\") appears 1 time.\n",
            "Word 25 (\"calirolla\") appears 1 time.\n",
            "Word 26 (\"calirollb\") appears 1 time.\n",
            "Word 49 (\"concepts\") appears 1 time.\n",
            "Word 53 (\"course\") appears 4 time.\n",
            "Word 58 (\"covers\") appears 1 time.\n",
            "Word 71 (\"duration\") appears 1 time.\n",
            "Word 79 (\"excellence\") appears 1 time.\n",
            "Word 92 (\"fundamental\") appears 1 time.\n",
            "Word 115 (\"introduction\") appears 1 time.\n",
            "Word 124 (\"leading\") appears 1 time.\n",
            "Word 130 (\"level\") appears 1 time.\n",
            "Word 139 (\"medium\") appears 1 time.\n",
            "Word 153 (\"optional\") appears 1 time.\n",
            "Word 173 (\"problems\") appears 1 time.\n",
            "Word 184 (\"research\") appears 1 time.\n",
            "Word 216 (\"time\") appears 3 time.\n",
            "Word 224 (\"university\") appears 2 time.\n",
            "Word 236 (\"world\") appears 1 time.\n",
            "Word 301 (\"provide\") appears 1 time.\n",
            "Word 316 (\"understand\") appears 1 time.\n",
            "Word 317 (\"understanding\") appears 2 time.\n",
            "Word 319 (\"videos\") appears 1 time.\n",
            "Word 348 (\"complementary\") appears 1 time.\n",
            "Word 384 (\"framework\") appears 1 time.\n",
            "Word 396 (\"information\") appears 1 time.\n",
            "Word 405 (\"learning\") appears 1 time.\n",
            "Word 420 (\"modern\") appears 2 time.\n",
            "Word 429 (\"overview\") appears 1 time.\n",
            "Word 446 (\"science\") appears 2 time.\n",
            "Word 449 (\"series\") appears 1 time.\n",
            "Word 454 (\"space\") appears 4 time.\n",
            "Word 524 (\"general\") appears 2 time.\n",
            "Word 575 (\"note\") appears 1 time.\n",
            "Word 625 (\"thinking\") appears 1 time.\n",
            "Word 648 (\"choose\") appears 1 time.\n",
            "Word 668 (\"free\") appears 1 time.\n",
            "Word 827 (\"feel\") appears 1 time.\n",
            "Word 943 (\"construction\") appears 1 time.\n",
            "Word 962 (\"generation\") appears 1 time.\n",
            "Word 963 (\"geometry\") appears 1 time.\n",
            "Word 981 (\"past\") appears 1 time.\n",
            "Word 1004 (\"technology\") appears 1 time.\n",
            "Word 1143 (\"result\") appears 1 time.\n",
            "Word 1167 (\"years\") appears 1 time.\n",
            "Word 1171 (\"assignment\") appears 1 time.\n",
            "Word 1198 (\"international\") appears 1 time.\n",
            "Word 1261 (\"matter\") appears 2 time.\n",
            "Word 1269 (\"physics\") appears 3 time.\n",
            "Word 1275 (\"questions\") appears 1 time.\n",
            "Word 1309 (\"deeper\") appears 1 time.\n",
            "Word 1500 (\"special\") appears 4 time.\n",
            "Word 1653 (\"known\") appears 1 time.\n",
            "Word 1665 (\"pursuit\") appears 1 time.\n",
            "Word 1670 (\"relative\") appears 1 time.\n",
            "Word 1695 (\"evolution\") appears 1 time.\n",
            "Word 1802 (\"response\") appears 1 time.\n",
            "Word 1902 (\"century\") appears 2 time.\n",
            "Word 2110 (\"related\") appears 1 time.\n",
            "Word 2120 (\"watch\") appears 1 time.\n",
            "Word 2313 (\"mechanics\") appears 1 time.\n",
            "Word 2382 (\"origin\") appears 1 time.\n",
            "Word 2733 (\"length\") appears 1 time.\n",
            "Word 2766 (\"wang\") appears 1 time.\n",
            "Word 2788 (\"energy\") appears 2 time.\n",
            "Word 2797 (\"levels\") appears 1 time.\n",
            "Word 2854 (\"educating\") appears 1 time.\n",
            "Word 3459 (\"dynamic\") appears 1 time.\n",
            "Word 3653 (\"transformation\") appears 1 time.\n",
            "Word 3817 (\"asia\") appears 1 time.\n",
            "Word 3892 (\"advance\") appears 1 time.\n",
            "Word 4020 (\"paradigms\") appears 1 time.\n",
            "Word 4052 (\"hong\") appears 1 time.\n",
            "Word 4057 (\"kong\") appears 1 time.\n",
            "Word 4069 (\"objective\") appears 1 time.\n",
            "Word 4232 (\"universe\") appears 2 time.\n",
            "Word 4402 (\"momentum\") appears 1 time.\n",
            "Word 4694 (\"understood\") appears 1 time.\n",
            "Word 5484 (\"particles\") appears 1 time.\n",
            "Word 6073 (\"emerge\") appears 1 time.\n",
            "Word 6074 (\"entropy\") appears 1 time.\n",
            "Word 6177 (\"cosmology\") appears 3 time.\n",
            "Word 6187 (\"gravity\") appears 1 time.\n",
            "Word 6648 (\"hkust\") appears 1 time.\n",
            "Word 6655 (\"relentless\") appears 1 time.\n",
            "Word 6658 (\"runners\") appears 1 time.\n",
            "Word 7037 (\"curves\") appears 1 time.\n",
            "Word 7051 (\"unified\") appears 1 time.\n",
            "Word 7944 (\"absolute\") appears 1 time.\n",
            "Word 8059 (\"relativity\") appears 9 time.\n",
            "Word 8073 (\"emerged\") appears 1 time.\n",
            "Word 8091 (\"fate\") appears 1 time.\n",
            "Word 8669 (\"quantum\") appears 1 time.\n",
            "Word 9812 (\"spacetime\") appears 3 time.\n",
            "Word 14970 (\"curvature\") appears 1 time.\n",
            "Word 16347 (\"lorentz\") appears 1 time.\n",
            "Word 23770 (\"observers\") appears 1 time.\n",
            "Word 27165 (\"simultaneity\") appears 1 time.\n"
          ]
        }
      ]
    },
    {
      "cell_type": "markdown",
      "source": [
        "#Topic Number"
      ],
      "metadata": {
        "id": "wHjzbIX2JUaG"
      }
    },
    {
      "cell_type": "code",
      "source": [
        "from gensim import corpora, models, similarities\n",
        "import random\n",
        "import os\n",
        "from gensim.models import CoherenceModel\n",
        "coherence_val = []\n",
        "topicnums = [1,5,10,15,20,25,30,35,40,45,50,55,60,65,70]\n",
        "project_folder = os.getcwd()\n",
        "\n",
        "ldamodels_bow = {}\n",
        "for i in topicnums:\n",
        "    random.seed(42)\n",
        "    if not os.path.exists(project_folder+'/drive/MyDrive/LDA Notebooks with Coherence/lda_models_col/ldamodels_bow_'+str(i)+'.lda'):\n",
        "        %time ldamodels_bow[i] = models.LdaModel(bow_corpus, num_topics=i, random_state=42, update_every=1, passes=10, id2word=dictionary)\n",
        "        ldamodels_bow[i].save(project_folder+'/drive/MyDrive/LDA Notebooks with Coherence/lda_models_col/ldamodels_bow_'+str(i)+'.lda')\n",
        "        print('ldamodels_bow_{}.lda created.'.format(i))\n",
        "        coherence_model_lda = CoherenceModel(model=ldamodels_bow[i], texts=processed_docs, dictionary=dictionary, coherence='c_v')\n",
        "        coherence_lda = coherence_model_lda.get_coherence()\n",
        "        print('Coherence Score: ', coherence_lda)\n",
        "        coherence_val.append(coherence_lda)\n",
        "    else: \n",
        "        print('ldamodels_bow_{}.lda already exists.'.format(i))"
      ],
      "metadata": {
        "colab": {
          "base_uri": "https://localhost:8080/"
        },
        "id": "BKk3aMclJYx0",
        "outputId": "365600dd-0355-4d9e-c165-9d47bdaf6f1f"
      },
      "execution_count": null,
      "outputs": [
        {
          "output_type": "stream",
          "name": "stdout",
          "text": [
            "CPU times: user 14.2 s, sys: 117 ms, total: 14.3 s\n",
            "Wall time: 14.2 s\n",
            "ldamodels_bow_1.lda created.\n",
            "Coherence Score:  0.33154806306597806\n",
            "CPU times: user 42.6 s, sys: 290 ms, total: 42.9 s\n",
            "Wall time: 42.9 s\n",
            "ldamodels_bow_5.lda created.\n",
            "Coherence Score:  0.3782455582518339\n",
            "CPU times: user 42.8 s, sys: 295 ms, total: 43.1 s\n",
            "Wall time: 43 s\n",
            "ldamodels_bow_10.lda created.\n",
            "Coherence Score:  0.3807397736121928\n",
            "CPU times: user 48.2 s, sys: 2.34 s, total: 50.5 s\n",
            "Wall time: 48.2 s\n",
            "ldamodels_bow_15.lda created.\n",
            "Coherence Score:  0.39567519302099463\n",
            "CPU times: user 55.1 s, sys: 14.2 s, total: 1min 9s\n",
            "Wall time: 54.4 s\n",
            "ldamodels_bow_20.lda created.\n",
            "Coherence Score:  0.41872378270731964\n",
            "CPU times: user 1min 13s, sys: 42.3 s, total: 1min 56s\n",
            "Wall time: 1min 9s\n",
            "ldamodels_bow_25.lda created.\n",
            "Coherence Score:  0.40742145778454963\n",
            "CPU times: user 1min 28s, sys: 1min 2s, total: 2min 31s\n",
            "Wall time: 1min 22s\n",
            "ldamodels_bow_30.lda created.\n",
            "Coherence Score:  0.4399491805082882\n",
            "CPU times: user 1min 41s, sys: 1min 16s, total: 2min 57s\n",
            "Wall time: 1min 34s\n",
            "ldamodels_bow_35.lda created.\n",
            "Coherence Score:  0.4364822755618616\n",
            "CPU times: user 1min 56s, sys: 1min 28s, total: 3min 25s\n",
            "Wall time: 1min 48s\n",
            "ldamodels_bow_40.lda created.\n",
            "Coherence Score:  0.43277472426470204\n",
            "CPU times: user 2min 17s, sys: 1min 40s, total: 3min 58s\n",
            "Wall time: 2min 5s\n",
            "ldamodels_bow_45.lda created.\n",
            "Coherence Score:  0.4443917639405443\n",
            "CPU times: user 2min 4s, sys: 1min 30s, total: 3min 34s\n",
            "Wall time: 1min 54s\n",
            "ldamodels_bow_50.lda created.\n",
            "Coherence Score:  0.4254990038332898\n",
            "CPU times: user 2min 14s, sys: 1min 35s, total: 3min 49s\n",
            "Wall time: 2min 1s\n",
            "ldamodels_bow_55.lda created.\n",
            "Coherence Score:  0.44404542360923477\n",
            "CPU times: user 2min 16s, sys: 1min 36s, total: 3min 52s\n",
            "Wall time: 2min 3s\n",
            "ldamodels_bow_60.lda created.\n",
            "Coherence Score:  0.43690138126678274\n",
            "CPU times: user 2min 22s, sys: 1min 38s, total: 4min\n",
            "Wall time: 2min 7s\n",
            "ldamodels_bow_65.lda created.\n",
            "Coherence Score:  0.4425697122343801\n",
            "CPU times: user 2min 52s, sys: 1min 47s, total: 4min 40s\n",
            "Wall time: 2min 28s\n",
            "ldamodels_bow_70.lda created.\n",
            "Coherence Score:  0.43355401156855333\n"
          ]
        }
      ]
    },
    {
      "cell_type": "code",
      "source": [
        "import pickle\n",
        "lda_topics = {}\n",
        "for i in topicnums:\n",
        "    lda_model = models.LdaModel.load(project_folder+'/drive/MyDrive/LDA Notebooks with Coherence/lda_models_col/ldamodels_bow_'+str(i)+'.lda')\n",
        "    lda_topics_string = lda_model.show_topics(i)\n",
        "    lda_topics[i] = [\"\".join([c if c.isalpha() else \" \" for c in topic[1]]).split() for topic in lda_topics_string]\n",
        "\n",
        "pickle.dump(lda_topics,open(project_folder+'/drive/MyDrive/LDA Notebooks with Coherence/lda_models_col/pub_lda_bow_topics.pkl','wb'))"
      ],
      "metadata": {
        "id": "IsxBI09uJY1V"
      },
      "execution_count": null,
      "outputs": []
    },
    {
      "cell_type": "code",
      "source": [
        "len(topicnums)"
      ],
      "metadata": {
        "colab": {
          "base_uri": "https://localhost:8080/"
        },
        "id": "-4WyuoaSH7J2",
        "outputId": "76e68e2b-1df0-4099-8daa-dbda227c48bb"
      },
      "execution_count": null,
      "outputs": [
        {
          "output_type": "execute_result",
          "data": {
            "text/plain": [
              "15"
            ]
          },
          "metadata": {},
          "execution_count": 61
        }
      ]
    },
    {
      "cell_type": "code",
      "source": [
        "coherence_val"
      ],
      "metadata": {
        "id": "6Ymm7Hx8oGP6",
        "outputId": "b6d9013b-2559-4cbb-8f15-3ad6bd38361e",
        "colab": {
          "base_uri": "https://localhost:8080/"
        }
      },
      "execution_count": null,
      "outputs": [
        {
          "output_type": "execute_result",
          "data": {
            "text/plain": [
              "[0.33154806306597806,\n",
              " 0.3782455582518339,\n",
              " 0.3807397736121928,\n",
              " 0.39567519302099463,\n",
              " 0.41872378270731964,\n",
              " 0.40742145778454963,\n",
              " 0.4399491805082882,\n",
              " 0.4364822755618616,\n",
              " 0.43277472426470204,\n",
              " 0.4443917639405443,\n",
              " 0.4254990038332898,\n",
              " 0.44404542360923477,\n",
              " 0.43690138126678274,\n",
              " 0.4425697122343801,\n",
              " 0.43355401156855333]"
            ]
          },
          "metadata": {},
          "execution_count": 62
        }
      ]
    },
    {
      "cell_type": "code",
      "source": [
        "import matplotlib.pyplot as plt\n",
        "#coherence_val, topicnums\n",
        "plt.scatter(topicnums, coherence_val)\n",
        "plt.show()"
      ],
      "metadata": {
        "colab": {
          "base_uri": "https://localhost:8080/",
          "height": 265
        },
        "id": "kqrJHm21HUfX",
        "outputId": "fcb6f5a2-ce13-43a9-b1f2-b774bcdc9a62"
      },
      "execution_count": null,
      "outputs": [
        {
          "output_type": "display_data",
          "data": {
            "text/plain": [
              "<Figure size 432x288 with 1 Axes>"
            ],
            "image/png": "[encoded data removed]"
          },
          "metadata": {
            "needs_background": "light"
          }
        }
      ]
    },
    {
      "cell_type": "markdown",
      "source": [
        "#Optimal Model"
      ],
      "metadata": {
        "id": "jqwbqJvfUXor"
      }
    },
    {
      "cell_type": "code",
      "source": [
        "num_topics = 45\n",
        "lda_model_final = models.LdaModel.load(project_folder+'/drive/MyDrive/LDA Notebooks with Coherence/lda_models_col/ldamodels_bow_'+str(num_topics)+'.lda')"
      ],
      "metadata": {
        "id": "vvVb3qf8OrGS"
      },
      "execution_count": null,
      "outputs": []
    },
    {
      "cell_type": "code",
      "source": [
        "from pprint import pprint\n",
        "top_topics = lda_model_final.top_topics(bow_corpus, topn=10)\n",
        "\n",
        "avg_topic_coherence = sum([t[1] for t in top_topics]) / num_topics\n",
        "print('Average topic coherence: %.4f.' % avg_topic_coherence)\n",
        "\n",
        "counter = 0\n",
        "for topic in top_topics:\n",
        "    print('Topic {}:'.format(counter))\n",
        "    counter += 1\n",
        "    pprint(topic)\n",
        "    \n",
        "pickle.dump(lda_topics,open(project_folder+'/drive/MyDrive/LDA Notebooks with Coherence/lda_models_col/pub_lda_bow_topics.pkl','wb'))"
      ],
      "metadata": {
        "id": "n1B48pDDOrKS",
        "colab": {
          "base_uri": "https://localhost:8080/"
        },
        "outputId": "1e759729-e410-4a98-a143-6959e51a06fe"
      },
      "execution_count": null,
      "outputs": [
        {
          "output_type": "stream",
          "name": "stdout",
          "text": [
            "Average topic coherence: -2.1453.\n",
            "Topic 0:\n",
            "([(0.04522517, 'akan'),\n",
            "  (0.040877413, 'anda'),\n",
            "  (0.030969437, 'yang'),\n",
            "  (0.027132986, 'data'),\n",
            "  (0.025854742, 'untuk'),\n",
            "  (0.016966669, 'kita'),\n",
            "  (0.01606226, 'cara'),\n",
            "  (0.015298541, 'materi'),\n",
            "  (0.013109847, 'pada'),\n",
            "  (0.012970918, 'dalam')],\n",
            " -0.8350599815116103)\n",
            "Topic 1:\n",
            "([(0.030081067, 'week'),\n",
            "  (0.016932297, 'learning'),\n",
            "  (0.01397089, 'course'),\n",
            "  (0.011852781, 'teaching'),\n",
            "  (0.011795102, 'communication'),\n",
            "  (0.00864731, 'effective'),\n",
            "  (0.007810255, 'learn'),\n",
            "  (0.0077710003, 'students'),\n",
            "  (0.007526891, 'education'),\n",
            "  (0.006691501, 'help')],\n",
            " -0.9252036485011108)\n",
            "Topic 2:\n",
            "([(0.08102719, 'able'),\n",
            "  (0.01761118, 'research'),\n",
            "  (0.01541251, 'module'),\n",
            "  (0.013215872, 'identify'),\n",
            "  (0.012043446, 'science'),\n",
            "  (0.011172989, 'discuss'),\n",
            "  (0.009962311, 'explain'),\n",
            "  (0.008749807, 'systems'),\n",
            "  (0.007279713, 'technology'),\n",
            "  (0.007246377, 'course')],\n",
            " -1.014895382445638)\n",
            "Topic 3:\n",
            "([(0.033894055, 'project'),\n",
            "  (0.029798314, 'business'),\n",
            "  (0.022556234, 'week'),\n",
            "  (0.022215681, 'course'),\n",
            "  (0.018485751, 'capstone'),\n",
            "  (0.014439398, 'final'),\n",
            "  (0.013797433, 'review'),\n",
            "  (0.011656596, 'plan'),\n",
            "  (0.010606396, 'specialization'),\n",
            "  (0.010284265, 'create')],\n",
            " -1.0205412302820007)\n",
            "Topic 4:\n",
            "([(0.035001922, 'data'),\n",
            "  (0.029775131, 'module'),\n",
            "  (0.022327892, 'analytics'),\n",
            "  (0.010746161, 'business'),\n",
            "  (0.009708514, 'learn'),\n",
            "  (0.009584205, 'course'),\n",
            "  (0.0094147865, 'techniques'),\n",
            "  (0.008994812, 'based'),\n",
            "  (0.008917176, 'analysis'),\n",
            "  (0.008834118, 'problem')],\n",
            " -1.037207163736377)\n",
            "Topic 5:\n",
            "([(0.04387041, 'marketing'),\n",
            "  (0.026484678, 'strategy'),\n",
            "  (0.02265098, 'business'),\n",
            "  (0.020487277, 'digital'),\n",
            "  (0.016475366, 'customer'),\n",
            "  (0.01643655, 'module'),\n",
            "  (0.012869605, 'market'),\n",
            "  (0.011810334, 'product'),\n",
            "  (0.011510967, 'course'),\n",
            "  (0.009622798, 'social')],\n",
            " -1.0424316591627225)\n",
            "Topic 6:\n",
            "([(0.016796554, 'learn'),\n",
            "  (0.013126787, 'module'),\n",
            "  (0.011264415, 'people'),\n",
            "  (0.010192766, 'work'),\n",
            "  (0.010116424, 'course'),\n",
            "  (0.009379762, 'skills'),\n",
            "  (0.008465062, 'leadership'),\n",
            "  (0.007913974, 'team'),\n",
            "  (0.006031982, 'explore'),\n",
            "  (0.0059453617, 'help')],\n",
            " -1.0524271551212399)\n",
            "Topic 7:\n",
            "([(0.06930427, 'design'),\n",
            "  (0.02151259, 'software'),\n",
            "  (0.015004782, 'module'),\n",
            "  (0.013579238, 'user'),\n",
            "  (0.012669686, 'course'),\n",
            "  (0.010805678, 'development'),\n",
            "  (0.010670271, 'process'),\n",
            "  (0.0093326345, 'learn'),\n",
            "  (0.0078010573, 'requirements'),\n",
            "  (0.0058369325, 'tools')],\n",
            " -1.055379658224614)\n",
            "Topic 8:\n",
            "([(0.028281612, 'module'),\n",
            "  (0.024166083, 'course'),\n",
            "  (0.014747999, 'learning'),\n",
            "  (0.012735817, 'students'),\n",
            "  (0.012422118, 'university'),\n",
            "  (0.011477146, 'research'),\n",
            "  (0.008994989, 'science'),\n",
            "  (0.008744313, 'online'),\n",
            "  (0.008729838, 'teaching'),\n",
            "  (0.00618616, 'learners')],\n",
            " -1.065389350348289)\n",
            "Topic 9:\n",
            "([(0.04912613, 'cloud'),\n",
            "  (0.034489263, 'services'),\n",
            "  (0.020935966, 'service'),\n",
            "  (0.019652652, 'applications'),\n",
            "  (0.019616919, 'learn'),\n",
            "  (0.01864918, 'application'),\n",
            "  (0.013646989, 'computing'),\n",
            "  (0.013356152, 'amazon'),\n",
            "  (0.01122397, 'course'),\n",
            "  (0.0094152205, 'week')],\n",
            " -1.179185974536627)\n",
            "Topic 10:\n",
            "([(0.028001845, 'change'),\n",
            "  (0.02313927, 'social'),\n",
            "  (0.014087123, 'climate'),\n",
            "  (0.010377694, 'course'),\n",
            "  (0.010343356, 'sustainable'),\n",
            "  (0.009948361, 'sustainability'),\n",
            "  (0.009482165, 'health'),\n",
            "  (0.009190815, 'future'),\n",
            "  (0.0085862195, 'impact'),\n",
            "  (0.008557797, 'module')],\n",
            " -1.2064224616023222)\n",
            "Topic 11:\n",
            "([(0.049621638, 'data'),\n",
            "  (0.034421314, 'python'),\n",
            "  (0.026887612, 'learn'),\n",
            "  (0.016694944, 'course'),\n",
            "  (0.01346104, 'programming'),\n",
            "  (0.012299394, 'week'),\n",
            "  (0.011612987, 'module'),\n",
            "  (0.011587811, 'functions'),\n",
            "  (0.009487704, 'excel'),\n",
            "  (0.00684242, 'basic')],\n",
            " -1.3403462926728837)\n",
            "Topic 12:\n",
            "([(0.024088923, 'model'),\n",
            "  (0.023216425, 'regression'),\n",
            "  (0.020046853, 'models'),\n",
            "  (0.01804186, 'analysis'),\n",
            "  (0.012697882, 'course'),\n",
            "  (0.012479105, 'module'),\n",
            "  (0.011210732, 'variables'),\n",
            "  (0.011097943, 'linear'),\n",
            "  (0.010857197, 'statistical'),\n",
            "  (0.010844874, 'modeling')],\n",
            " -1.351625424889207)\n",
            "Topic 13:\n",
            "([(0.04494046, 'test'),\n",
            "  (0.028722636, 'questions'),\n",
            "  (0.018349303, 'informatics'),\n",
            "  (0.017098416, 'nursing'),\n",
            "  (0.016278371, 'question'),\n",
            "  (0.014127672, 'learn'),\n",
            "  (0.011276263, 'practice'),\n",
            "  (0.010453144, 'answer'),\n",
            "  (0.010426136, 'research'),\n",
            "  (0.010340714, 'module')],\n",
            " -1.3744520834578455)\n",
            "Topic 14:\n",
            "([(0.044104595, 'security'),\n",
            "  (0.028915629, 'module'),\n",
            "  (0.017135072, 'cybersecurity'),\n",
            "  (0.0149445785, 'course'),\n",
            "  (0.012475296, 'risk'),\n",
            "  (0.012236499, 'management'),\n",
            "  (0.0115054045, 'learn'),\n",
            "  (0.011297752, 'information'),\n",
            "  (0.010103753, 'systems'),\n",
            "  (0.008999669, 'privacy')],\n",
            " -1.3807940417293623)\n",
            "Topic 15:\n",
            "([(0.04766016, 'health'),\n",
            "  (0.019134648, 'module'),\n",
            "  (0.018511847, 'healthcare'),\n",
            "  (0.017292459, 'research'),\n",
            "  (0.016150698, 'care'),\n",
            "  (0.013276767, 'course'),\n",
            "  (0.011526979, 'public'),\n",
            "  (0.010489295, 'quality'),\n",
            "  (0.008438648, 'patient'),\n",
            "  (0.008123739, 'medical')],\n",
            " -1.3957217010892617)\n",
            "Topic 16:\n",
            "([(0.033753756, 'module'),\n",
            "  (0.019424992, 'training'),\n",
            "  (0.01776266, 'course'),\n",
            "  (0.017198758, 'classes'),\n",
            "  (0.015989037, 'look'),\n",
            "  (0.015123112, 'testing'),\n",
            "  (0.014075024, 'test'),\n",
            "  (0.011349045, 'need'),\n",
            "  (0.010546439, 'industry'),\n",
            "  (0.009251682, 'development')],\n",
            " -1.3980145540305318)\n",
            "Topic 17:\n",
            "([(0.11817576, 'data'),\n",
            "  (0.021416124, 'module'),\n",
            "  (0.018265257, 'learn'),\n",
            "  (0.01462943, 'course'),\n",
            "  (0.012633616, 'analysis'),\n",
            "  (0.010990654, 'azure'),\n",
            "  (0.010128377, 'science'),\n",
            "  (0.0091702035, 'analytics'),\n",
            "  (0.0072082095, 'learning'),\n",
            "  (0.006192486, 'model')],\n",
            " -1.422738781143564)\n",
            "Topic 18:\n",
            "([(0.036938544, 'learn'),\n",
            "  (0.02469395, 'english'),\n",
            "  (0.023517903, 'week'),\n",
            "  (0.015952095, 'course'),\n",
            "  (0.012598884, 'california'),\n",
            "  (0.011794781, 'university'),\n",
            "  (0.010401035, 'practice'),\n",
            "  (0.010388831, 'grammar'),\n",
            "  (0.008473922, 'present'),\n",
            "  (0.007632877, 'skills')],\n",
            " -1.4607829427089203)\n",
            "Topic 19:\n",
            "([(0.028345043, 'financial'),\n",
            "  (0.020811027, 'module'),\n",
            "  (0.013116661, 'course'),\n",
            "  (0.012039804, 'learn'),\n",
            "  (0.011587875, 'risk'),\n",
            "  (0.009800883, 'accounting'),\n",
            "  (0.00943737, 'finance'),\n",
            "  (0.009262917, 'value'),\n",
            "  (0.008702573, 'business'),\n",
            "  (0.008056133, 'investment')],\n",
            " -1.5004199908206024)\n",
            "Topic 20:\n",
            "([(0.019411227, 'week'),\n",
            "  (0.015212245, 'course'),\n",
            "  (0.009261071, 'university'),\n",
            "  (0.008938725, 'international'),\n",
            "  (0.007382732, 'world'),\n",
            "  (0.0061245863, 'module'),\n",
            "  (0.0056406874, 'history'),\n",
            "  (0.0051992633, 'conflict'),\n",
            "  (0.004886419, 'discuss'),\n",
            "  (0.004848124, 'human')],\n",
            " -1.5689098343966088)\n",
            "Topic 21:\n",
            "([(0.027040862, 'digital'),\n",
            "  (0.016972385, 'education'),\n",
            "  (0.013597101, 'course'),\n",
            "  (0.012218574, 'innovation'),\n",
            "  (0.011327182, 'privacy'),\n",
            "  (0.007747035, 'european'),\n",
            "  (0.007653047, 'systems'),\n",
            "  (0.0073171514, 'world'),\n",
            "  (0.0072734356, 'entrepreneurial'),\n",
            "  (0.0072260923, 'online')],\n",
            " -1.6003509130073066)\n",
            "Topic 22:\n",
            "([(0.027623089, 'network'),\n",
            "  (0.024226433, 'technology'),\n",
            "  (0.023960114, 'blockchain'),\n",
            "  (0.01540191, 'networks'),\n",
            "  (0.014480431, 'module'),\n",
            "  (0.01192121, 'technologies'),\n",
            "  (0.01050299, 'internet'),\n",
            "  (0.008077072, 'course'),\n",
            "  (0.0060668453, 'distributed'),\n",
            "  (0.005995489, 'computing')],\n",
            " -1.6119866949894923)\n",
            "Topic 23:\n",
            "([(0.085239545, 'learning'),\n",
            "  (0.050147712, 'machine'),\n",
            "  (0.017294478, 'models'),\n",
            "  (0.014765948, 'deep'),\n",
            "  (0.014157032, 'model'),\n",
            "  (0.012265056, 'neural'),\n",
            "  (0.010578213, 'networks'),\n",
            "  (0.010324925, 'learn'),\n",
            "  (0.010026406, 'tensorflow'),\n",
            "  (0.009817429, 'image')],\n",
            " -1.6617075022476946)\n",
            "Topic 24:\n",
            "([(0.018016936, 'fintech'),\n",
            "  (0.009333607, 'module'),\n",
            "  (0.00859217, 'services'),\n",
            "  (0.008485213, 'understanding'),\n",
            "  (0.008436762, 'product'),\n",
            "  (0.007490693, 'course'),\n",
            "  (0.0072097774, 'learn'),\n",
            "  (0.0068431846, 'interview'),\n",
            "  (0.006801574, 'amazon'),\n",
            "  (0.006400473, 'real')],\n",
            " -1.6655103947676813)\n",
            "Topic 25:\n",
            "([(0.017239703, 'module'),\n",
            "  (0.017165864, 'course'),\n",
            "  (0.011307975, 'functions'),\n",
            "  (0.009768957, 'body'),\n",
            "  (0.008739193, 'properties'),\n",
            "  (0.0077230325, 'function'),\n",
            "  (0.0076445043, 'week'),\n",
            "  (0.0072784666, 'basic'),\n",
            "  (0.0072174547, 'students'),\n",
            "  (0.0069829, 'section')],\n",
            " -1.6802740826964673)\n",
            "Topic 26:\n",
            "([(0.025830485, 'week'),\n",
            "  (0.025496602, 'course'),\n",
            "  (0.016044427, 'exam'),\n",
            "  (0.011376186, 'questions'),\n",
            "  (0.010274399, 'help'),\n",
            "  (0.009375959, 'governance'),\n",
            "  (0.008548913, 'review'),\n",
            "  (0.008278539, 'board'),\n",
            "  (0.008167751, 'important'),\n",
            "  (0.0070091076, 'welcome')],\n",
            " -1.7252228087931747)\n",
            "Topic 27:\n",
            "([(0.051896095, 'cloud'),\n",
            "  (0.030518096, 'google'),\n",
            "  (0.02229731, 'course'),\n",
            "  (0.018220002, 'module'),\n",
            "  (0.014507452, 'learn'),\n",
            "  (0.013758887, 'salesforce'),\n",
            "  (0.012787542, 'sales'),\n",
            "  (0.009984041, 'platform'),\n",
            "  (0.008521702, 'week'),\n",
            "  (0.008112425, 'security')],\n",
            " -1.7896441159921048)\n",
            "Topic 28:\n",
            "([(0.038475275, 'project'),\n",
            "  (0.017842464, 'module'),\n",
            "  (0.014999555, 'learn'),\n",
            "  (0.014516304, 'course'),\n",
            "  (0.013081407, 'management'),\n",
            "  (0.012521034, 'sigma'),\n",
            "  (0.012483014, 'projects'),\n",
            "  (0.0075085675, 'help'),\n",
            "  (0.007152196, 'tools'),\n",
            "  (0.006958014, 'lean')],\n",
            " -1.8269557934480942)\n",
            "Topic 29:\n",
            "([(0.060022146, 'database'),\n",
            "  (0.03027257, 'databases'),\n",
            "  (0.029825343, 'data'),\n",
            "  (0.021365257, 'relational'),\n",
            "  (0.018260838, 'learn'),\n",
            "  (0.014152807, 'michigan'),\n",
            "  (0.014036297, 'oracle'),\n",
            "  (0.013469977, 'query'),\n",
            "  (0.012794304, 'course'),\n",
            "  (0.012280016, 'create')],\n",
            " -1.8647972579758059)\n",
            "Topic 30:\n",
            "([(0.0225845, 'learn'),\n",
            "  (0.018001774, 'course'),\n",
            "  (0.015297217, 'module'),\n",
            "  (0.015252831, 'systems'),\n",
            "  (0.0125431465, 'linux'),\n",
            "  (0.011384231, 'software'),\n",
            "  (0.007516616, 'operating'),\n",
            "  (0.007439376, 'file'),\n",
            "  (0.006628179, 'windows'),\n",
            "  (0.006310311, 'work')],\n",
            " -1.984480421979858)\n",
            "Topic 31:\n",
            "([(0.041781392, 'music'),\n",
            "  (0.039870758, 'lesson'),\n",
            "  (0.015884079, 'course'),\n",
            "  (0.009467763, 'learn'),\n",
            "  (0.008298822, 'sound'),\n",
            "  (0.007380095, 'berklee'),\n",
            "  (0.006951739, 'college'),\n",
            "  (0.006317109, 'musical'),\n",
            "  (0.005993325, 'practice'),\n",
            "  (0.005732451, 'chord')],\n",
            " -2.048127296627931)\n",
            "Topic 32:\n",
            "([(0.036042944, 'programming'),\n",
            "  (0.017898105, 'learn'),\n",
            "  (0.017757542, 'module'),\n",
            "  (0.017117377, 'course'),\n",
            "  (0.01707453, 'code'),\n",
            "  (0.01440215, 'java'),\n",
            "  (0.013487136, 'javascript'),\n",
            "  (0.009671548, 'object'),\n",
            "  (0.00909455, 'language'),\n",
            "  (0.008409078, 'html')],\n",
            " -2.0823292212216336)\n",
            "Topic 33:\n",
            "([(0.014404918, 'property'),\n",
            "  (0.011320831, 'course'),\n",
            "  (0.0112106325, 'rights'),\n",
            "  (0.010968198, 'intellectual'),\n",
            "  (0.010147322, 'university'),\n",
            "  (0.009935865, 'copyright'),\n",
            "  (0.009589844, 'earth'),\n",
            "  (0.0093187, 'unit'),\n",
            "  (0.009223303, 'states'),\n",
            "  (0.009081113, 'united')],\n",
            " -2.1931299275675418)\n",
            "Topic 34:\n",
            "([(0.029688347, 'writing'),\n",
            "  (0.014482887, 'learn'),\n",
            "  (0.010251279, 'course'),\n",
            "  (0.008220246, 'write'),\n",
            "  (0.007949298, 'robot'),\n",
            "  (0.0077217403, 'vector'),\n",
            "  (0.0077204807, 'university'),\n",
            "  (0.007347517, 'module'),\n",
            "  (0.0072336057, 'motion'),\n",
            "  (0.007072522, 'students')],\n",
            " -2.2509040644466998)\n",
            "Topic 35:\n",
            "([(0.02484945, 'module'),\n",
            "  (0.021811267, 'management'),\n",
            "  (0.021039259, 'business'),\n",
            "  (0.020234045, 'supply'),\n",
            "  (0.017359845, 'chain'),\n",
            "  (0.01356402, 'course'),\n",
            "  (0.010984551, 'learn'),\n",
            "  (0.0099648675, 'innovation'),\n",
            "  (0.009202375, 'strategic'),\n",
            "  (0.008735741, 'agile')],\n",
            " -2.296542935003717)\n",
            "Topic 36:\n",
            "([(0.04428929, 'energy'),\n",
            "  (0.018511368, 'module'),\n",
            "  (0.016037093, 'solar'),\n",
            "  (0.014756918, 'systems'),\n",
            "  (0.014618906, 'prestigious'),\n",
            "  (0.0138231795, 'lecture'),\n",
            "  (0.013767693, 'learners'),\n",
            "  (0.012801884, 'academic'),\n",
            "  (0.0127373515, 'spatial'),\n",
            "  (0.012442501, 'renewable')],\n",
            " -2.87867715257849)\n",
            "Topic 37:\n",
            "([(0.022920392, 'care'),\n",
            "  (0.020547435, 'disease'),\n",
            "  (0.019330518, 'module'),\n",
            "  (0.015634015, 'health'),\n",
            "  (0.014712745, 'course'),\n",
            "  (0.014424958, 'stanford'),\n",
            "  (0.013533047, 'diseases'),\n",
            "  (0.009921227, 'mindfulness'),\n",
            "  (0.009747254, 'patients'),\n",
            "  (0.008908951, 'cancer')],\n",
            " -3.230095647200301)\n",
            "Topic 38:\n",
            "([(0.009896389, 'arctic'),\n",
            "  (0.008618005, 'religion'),\n",
            "  (0.008538844, 'century'),\n",
            "  (0.008402788, 'course'),\n",
            "  (0.007249748, 'history'),\n",
            "  (0.0068925302, 'world'),\n",
            "  (0.0063136383, 'israel'),\n",
            "  (0.005905437, 'religious'),\n",
            "  (0.0052321926, 'module'),\n",
            "  (0.005225573, 'city')],\n",
            " -3.4741396902054955)\n",
            "Topic 39:\n",
            "([(0.026347658, 'food'),\n",
            "  (0.012357668, 'module'),\n",
            "  (0.008843034, 'course'),\n",
            "  (0.00864211, 'newborn'),\n",
            "  (0.008252867, 'animal'),\n",
            "  (0.007507152, 'university'),\n",
            "  (0.007306952, 'life'),\n",
            "  (0.006857702, 'health'),\n",
            "  (0.0065966123, 'healthy'),\n",
            "  (0.0060296715, 'virtual')],\n",
            " -4.317596083286869)\n",
            "Topic 40:\n",
            "([(0.019707112, 'gene'),\n",
            "  (0.014233225, 'biology'),\n",
            "  (0.01165525, 'analysis'),\n",
            "  (0.011482841, 'tools'),\n",
            "  (0.010828014, 'genome'),\n",
            "  (0.010369262, 'genes'),\n",
            "  (0.010067197, 'protein'),\n",
            "  (0.009850758, 'plant'),\n",
            "  (0.009642302, 'space'),\n",
            "  (0.00930125, 'violence')],\n",
            " -5.273114362368159)\n",
            "Topic 41:\n",
            "([(0.035855662, 'social'),\n",
            "  (0.022901693, 'media'),\n",
            "  (0.020522675, 'learn'),\n",
            "  (0.01779766, 'module'),\n",
            "  (0.014215542, 'sensors'),\n",
            "  (0.011598383, 'china'),\n",
            "  (0.010418685, 'chinese'),\n",
            "  (0.008327584, 'performance'),\n",
            "  (0.0080384, 'motor'),\n",
            "  (0.008023718, 'sensor')],\n",
            " -5.361423150497032)\n",
            "Topic 42:\n",
            "([(0.034466542, 'week'),\n",
            "  (0.030902952, 'game'),\n",
            "  (0.018008832, 'games'),\n",
            "  (0.012540255, 'course'),\n",
            "  (0.009926932, 'learn'),\n",
            "  (0.008974971, 'sales'),\n",
            "  (0.008716504, 'chapter'),\n",
            "  (0.0061938213, 'semiconductor'),\n",
            "  (0.0058201263, 'specialization'),\n",
            "  (0.005791826, 'novel')],\n",
            " -5.377692527670833)\n",
            "Topic 43:\n",
            "([(0.03360312, 'career'),\n",
            "  (0.014841637, 'sports'),\n",
            "  (0.0142553365, 'professional'),\n",
            "  (0.013019239, 'brand'),\n",
            "  (0.012059151, 'course'),\n",
            "  (0.010474703, 'cells'),\n",
            "  (0.008902326, 'development'),\n",
            "  (0.008839694, 'tech'),\n",
            "  (0.008329895, 'cancer'),\n",
            "  (0.008028138, 'branding')],\n",
            " -5.926794203990283)\n",
            "Topic 44:\n",
            "([(0.021425476, 'fashion'),\n",
            "  (0.01859026, 'school'),\n",
            "  (0.013628092, 'creative'),\n",
            "  (0.01117422, 'course'),\n",
            "  (0.009406124, 'artists'),\n",
            "  (0.009157658, 'creativity'),\n",
            "  (0.0088449605, 'modern'),\n",
            "  (0.008491018, 'ideas'),\n",
            "  (0.0069634514, 'rock'),\n",
            "  (0.005947378, 'unreal')],\n",
            " -6.789769970802076)\n"
          ]
        }
      ]
    },
    {
      "cell_type": "code",
      "source": [
        "corpus_lda_model = lda_model_final[bow_corpus]\n",
        "for article in corpus_lda_model[0]:\n",
        "    print(article)"
      ],
      "metadata": {
        "id": "fUdx_sWcOrOY",
        "colab": {
          "base_uri": "https://localhost:8080/"
        },
        "outputId": "b2cbfa94-5e3c-4d3d-a221-2c1fb952e5e6"
      },
      "execution_count": null,
      "outputs": [
        {
          "output_type": "stream",
          "name": "stdout",
          "text": [
            "(0, 0.038457368)\n",
            "(9, 0.0221332)\n",
            "(15, 0.068325415)\n",
            "(21, 0.32658845)\n",
            "(27, 0.32103017)\n",
            "(35, 0.028807579)\n",
            "(36, 0.033302646)\n",
            "(37, 0.026183983)\n",
            "(40, 0.07276688)\n",
            "(43, 0.035797153)\n"
          ]
        }
      ]
    },
    {
      "cell_type": "code",
      "source": [
        "#Recommendet System"
      ],
      "metadata": {
        "id": "M8_5qwDsOrRt"
      },
      "execution_count": null,
      "outputs": []
    },
    {
      "cell_type": "code",
      "source": [
        "index = similarities.MatrixSimilarity(lda_model_final[bow_corpus])"
      ],
      "metadata": {
        "id": "hI_58gf9VSTo",
        "colab": {
          "base_uri": "https://localhost:8080/"
        },
        "outputId": "c8693505-7fca-42b5-ccec-0a9b9ff09436"
      },
      "execution_count": null,
      "outputs": [
        {
          "output_type": "stream",
          "name": "stderr",
          "text": [
            "WARNING:gensim.similarities.docsim:scanning corpus to determine the number of features (consider setting `num_features` explicitly)\n"
          ]
        }
      ]
    },
    {
      "cell_type": "code",
      "source": [
        "with open('index_lda_bow.pkl','wb') as file:\n",
        "  pickle.dump(index,file)"
      ],
      "metadata": {
        "id": "7NY33PMpZqUl"
      },
      "execution_count": null,
      "outputs": []
    },
    {
      "cell_type": "code",
      "source": [
        "#course_recommender(\"Digital marketing courses\")"
      ],
      "metadata": {
        "id": "T6mXVI-uxBYP"
      },
      "execution_count": null,
      "outputs": []
    },
    {
      "cell_type": "code",
      "source": [
        "unseen_document = 'Machine Learning'\n",
        "bow_vector = dictionary.doc2bow(preprocess(unseen_document))\n",
        "bow_vector_ordered = sorted(bow_vector, key=lambda x: x[1], reverse=True)\n",
        "print(bow_vector_ordered[:10])"
      ],
      "metadata": {
        "id": "4T4RahS3eFAs",
        "colab": {
          "base_uri": "https://localhost:8080/"
        },
        "outputId": "7bd82110-ddbb-4554-a075-31115671ce6b"
      },
      "execution_count": null,
      "outputs": [
        {
          "output_type": "stream",
          "name": "stdout",
          "text": [
            "[(405, 1), (2561, 1)]\n"
          ]
        }
      ]
    },
    {
      "cell_type": "code",
      "source": [
        "lda_vector_other = lda_model_final[bow_vector_ordered]\n",
        "print(lda_vector_other)"
      ],
      "metadata": {
        "id": "7nkK0MtBeFDy",
        "colab": {
          "base_uri": "https://localhost:8080/"
        },
        "outputId": "e17a9a80-3e90-4f2c-f18e-6183419e02a4"
      },
      "execution_count": null,
      "outputs": [
        {
          "output_type": "stream",
          "name": "stdout",
          "text": [
            "[(34, 0.6740741)]\n"
          ]
        }
      ]
    },
    {
      "cell_type": "code",
      "source": [
        "sims = index[lda_vector_other]\n",
        "sims = list(enumerate(sims))\n",
        "recommendation_scores_1 = []\n",
        "\n"
      ],
      "metadata": {
        "id": "932aS00wn125"
      },
      "execution_count": null,
      "outputs": []
    },
    {
      "cell_type": "code",
      "source": [
        "len(sims)"
      ],
      "metadata": {
        "id": "AF4oNaEsn2rs",
        "colab": {
          "base_uri": "https://localhost:8080/"
        },
        "outputId": "4e83dca4-d762-419e-ab0c-b966bb7ea341"
      },
      "execution_count": null,
      "outputs": [
        {
          "output_type": "execute_result",
          "data": {
            "text/plain": [
              "3190"
            ]
          },
          "metadata": {},
          "execution_count": 72
        }
      ]
    },
    {
      "cell_type": "code",
      "source": [
        "len(course_clean)"
      ],
      "metadata": {
        "id": "yk-j7gR1oGYH",
        "colab": {
          "base_uri": "https://localhost:8080/"
        },
        "outputId": "e0dc1b60-d6ac-472e-ed6c-b54308f273f3"
      },
      "execution_count": null,
      "outputs": [
        {
          "output_type": "execute_result",
          "data": {
            "text/plain": [
              "3190"
            ]
          },
          "metadata": {},
          "execution_count": 73
        }
      ]
    },
    {
      "cell_type": "code",
      "source": [
        "for sim in sims:\n",
        "    course_num = sim[0]\n",
        "    recommendation_score_1 = [course_clean[course_num], sim[1]]\n",
        "    recommendation_scores_1.append(recommendation_score_1)\n",
        "\n",
        "recommendation_2 = sorted(recommendation_scores_1, key=lambda x: x[1], reverse=True)\n",
        "\n",
        "print(\"Your book's most prominant topic is:\")\n",
        "print(lda_model_final.print_topic(max(lda_vector_other, key=lambda item: item[1])[0]))\n",
        "print('-----')\n",
        "print('Here are your recommendations for your book.')\n",
        "display(recommendation_2[:11])"
      ],
      "metadata": {
        "id": "HOLIWXZPeFGa",
        "colab": {
          "base_uri": "https://localhost:8080/",
          "height": 1000
        },
        "outputId": "9037cc3b-33d7-4f47-b6ee-b1b188673308"
      },
      "execution_count": null,
      "outputs": [
        {
          "output_type": "stream",
          "name": "stdout",
          "text": [
            "Your book's most prominant topic is:\n",
            "0.085*\"learning\" + 0.050*\"machine\" + 0.017*\"models\" + 0.015*\"deep\" + 0.014*\"model\" + 0.012*\"neural\" + 0.011*\"networks\" + 0.010*\"learn\" + 0.010*\"tensorflow\" + 0.010*\"image\"\n",
            "-----\n",
            "Here are your recommendations for your book.\n"
          ]
        },
        {
          "output_type": "display_data",
          "data": {
            "text/plain": [
              "[['CaliRollB Neural Networks Deep Learning CaliRollA Intermediate Level Deep Learning Artificial Neural Network Backpropagation Python Programming Neural Network Architecture Andrew Ng nTOP INSTRUCTOR Kian Katanforoosh nTOP INSTRUCTOR Younes Bensouda Mourri nTOP INSTRUCTOR In first course Deep Learning Specialization study foundational concept neural networks deep learning By end familiar significant technological trends driving rise deep learning build train apply fully connected deep neural networks implement efficient vectorized neural networks identify key parameters neural network architecture apply deep learning applications The Deep Learning Specialization foundational program help understand capabilities challenges consequences deep learning prepare participate development leading edge AI technology It provides pathway gain knowledge skills apply machine learning work level technical career take definitive step world AI DeepLearning AI education technology company develops global community AI talent DeepLearning AIs expert led educational experiences provide AI practitioners non technical professionals necessary tools go way foundational basics advanced application empowering build AI powered future Analyze major trends driving rise deep learning give examples applied today Set machine learning problem neural network mindset use vectorization speed models Build neural network one hidden layer using forward propagation backpropagation Analyze key computations underlying deep learning use build train deep neural networks computer vision tasks The Deep Learning Specialization foundational program help understand capabilities challenges consequences deep learning prepare participate development leading edge AI technology In Specialization build train neural network architectures Convolutional Neural Networks Recurrent Neural Networks LSTMs Transformers learn make better strategies Dropout BatchNorm Xavier He initialization Get ready master theoretical concepts industry applications using Python TensorFlow tackle real world cases speech recognition music synthesis chatbots machine translation natural language processing AI transforming many industries The Deep Learning Specialization provides pathway take definitive step world AI helping gain knowledge skills level career Along way also get career advice deep learning experts industry academia DeepLearning AIEnglish Introduction Deep Learning Neural Networks Basics Shallow Neural Networks Deep Neural Networks Analyze major trends driving rise deep learning give examples applied today Set machine learning problem neural network mindset use vectorization speed models Build neural network one hidden layer using forward propagation backpropagation Analyze key computations underlying deep learning use build train deep neural networks computer vision tasks Medium Course Duration',\n",
              "  1.0],\n",
              " ['CaliRollB Unsupervised Learning Recommenders Reinforcement Learning CaliRollA Beginner Level Collaborative Filtering Unsupervised Learning Recommender Systems Reinforcement Learning Anomaly Detection Andrew Ng nTOP INSTRUCTOR Eddy Shyu Aarti Bagul nTOP INSTRUCTOR Geoff Ladwig nTOP INSTRUCTOR In third course Machine Learning Specialization Use unsupervised learning techniques unsupervised learning including clustering anomaly detection Build recommender systems collaborative filtering approach content based deep learning method Build deep reinforcement learning model The Machine Learning Specialization foundational online program created collaboration DeepLearning AI Stanford Online In beginner friendly program learn fundamentals machine learning use techniques build real world AI applications This Specialization taught Andrew Ng AI visionary led critical research Stanford University groundbreaking work Google Brain Baidu Landing AI advance AI field This course Specialization updated expanded version Andrew pioneering Machine Learning course rated taken million learners since launched It provides broad introduction modern machine learning including supervised learning multiple linear regression logistic regression neural networks decision trees unsupervised learning clustering dimensionality reduction recommender systems best practices used Silicon Valley artificial intelligence machine learning innovation evaluating tuning models taking data centric approach improving performance By end Specialization mastered key concepts gained practical know quickly powerfully apply machine learning challenging real world problems If looking break AI build career machine learning new Machine Learning Specialization best place start DeepLearning AI education technology company develops global community AI talent DeepLearning AIs expert led educational experiences provide AI practitioners non technical professionals necessary tools go way foundational basics advanced application empowering build AI powered future The Leland Stanford Junior University commonly referred Stanford University Stanford American private research university located Stanford California acre ha campus near Palo Alto California United States This week learn two key unsupervised learning algorithms clustering anomaly detection This week learn reinforcement learning build deep Q learning neural network order land virtual lunar lander Mars The Machine Learning Specialization foundational online program created collaboration DeepLearning AI Stanford Online This beginner friendly program teach fundamentals machine learning use techniques build real world AI applications DeepLearning AIEnglish Unsupervised learning Recommender systems Reinforcement learning This week learn two key unsupervised learning algorithms clustering anomaly detection This week learn reinforcement learning build deep Q learning neural network order land virtual lunar lander Mars Medium Course Duration',\n",
              "  1.0],\n",
              " ['CaliRollB Convolutional Neural Networks CaliRollA Intermediate Level Deep Learning Facial Recognition System Convolutional Neural Network Tensorflow Object Detection Segmentation Andrew Ng nTOP INSTRUCTOR Kian Katanforoosh nTOP INSTRUCTOR Younes Bensouda Mourri nTOP INSTRUCTOR In fourth course Deep Learning Specialization understand computer vision evolved become familiar exciting applications autonomous driving face recognition reading radiology images By end able build convolutional neural network including recent variations residual networks apply convolutional networks visual detection recognition tasks use neural style transfer generate art apply algorithms variety image video D D data The Deep Learning Specialization foundational program help understand capabilities challenges consequences deep learning prepare participate development leading edge AI technology It provides pathway gain knowledge skills apply machine learning work level technical career take definitive step world AI DeepLearning AI education technology company develops global community AI talent DeepLearning AIs expert led educational experiences provide AI practitioners non technical professionals necessary tools go way foundational basics advanced application empowering build AI powered future Implement foundational layers CNNs pooling convolutions stack properly deep network solve multi class image classification problems Discover powerful practical tricks methods used deep CNNs straight research papers apply transfer learning deep CNN Apply new knowledge CNNs one hottest challenging fields computer vision object detection Explore CNNs applied multiple fields including art generation face recognition implement algorithm generate art recognize faces The Deep Learning Specialization foundational program help understand capabilities challenges consequences deep learning prepare participate development leading edge AI technology In Specialization build train neural network architectures Convolutional Neural Networks Recurrent Neural Networks LSTMs Transformers learn make better strategies Dropout BatchNorm Xavier He initialization Get ready master theoretical concepts industry applications using Python TensorFlow tackle real world cases speech recognition music synthesis chatbots machine translation natural language processing AI transforming many industries The Deep Learning Specialization provides pathway take definitive step world AI helping gain knowledge skills level career Along way also get career advice deep learning experts industry academia DeepLearning AIEnglish Foundations Convolutional Neural Networks Deep Convolutional Models Case Studies Object Detection Special Applications Face recognition Neural Style Transfer Implement foundational layers CNNs pooling convolutions stack properly deep network solve multi class image classification problems Discover powerful practical tricks methods used deep CNNs straight research papers apply transfer learning deep CNN Apply new knowledge CNNs one hottest challenging fields computer vision object detection Explore CNNs applied multiple fields including art generation face recognition implement algorithm generate art recognize faces Long Course Duration',\n",
              "  0.9996952],\n",
              " ['CaliRollB Sequence Models CaliRollA Intermediate Level Natural Language Processing Long Short Term Memory LSTM Gated Recurrent Unit GRU Recurrent Neural Network Attention Models Andrew Ng nTOP INSTRUCTOR Kian Katanforoosh nTOP INSTRUCTOR Younes Bensouda Mourri nTOP INSTRUCTOR In fifth course Deep Learning Specialization become familiar sequence models exciting applications speech recognition music synthesis chatbots machine translation natural language processing NLP By end able build train Recurrent Neural Networks RNNs commonly used variants GRUs LSTMs apply RNNs Character level Language Modeling gain experience natural language processing Word Embeddings use HuggingFace tokenizers transformer models solve different NLP tasks NER Question Answering The Deep Learning Specialization foundational program help understand capabilities challenges consequences deep learning prepare participate development leading edge AI technology It provides pathway take definitive step world AI helping gain knowledge skills level career DeepLearning AI education technology company develops global community AI talent DeepLearning AIs expert led educational experiences provide AI practitioners non technical professionals necessary tools go way foundational basics advanced application empowering build AI powered future Discover recurrent neural networks type model performs extremely well temporal data several variants including LSTMs GRUs Bidirectional RNNs Natural language processing deep learning powerful combination Using word vector representations embedding layers train recurrent neural networks outstanding performance across wide variety applications including sentiment analysis named entity recognition neural machine translation Augment sequence models using attention mechanism algorithm helps model decide focus attention given sequence inputs Then explore speech recognition deal audio data The Deep Learning Specialization foundational program help understand capabilities challenges consequences deep learning prepare participate development leading edge AI technology In Specialization build train neural network architectures Convolutional Neural Networks Recurrent Neural Networks LSTMs Transformers learn make better strategies Dropout BatchNorm Xavier He initialization Get ready master theoretical concepts industry applications using Python TensorFlow tackle real world cases speech recognition music synthesis chatbots machine translation natural language processing AI transforming many industries The Deep Learning Specialization provides pathway take definitive step world AI helping gain knowledge skills level career Along way also get career advice deep learning experts industry academia DeepLearning AIEnglish Recurrent Neural Networks Natural Language Processing Word Embeddings Sequence Models Attention Mechanism Transformer Network Discover recurrent neural networks type model performs extremely well temporal data several variants including LSTMs GRUs Bidirectional RNNs Natural language processing deep learning powerful combination Using word vector representations embedding layers train recurrent neural networks outstanding performance across wide variety applications including sentiment analysis named entity recognition neural machine translation Augment sequence models using attention mechanism algorithm helps model decide focus attention given sequence inputs Then explore speech recognition deal audio data Long Course Duration',\n",
              "  0.99969065],\n",
              " ['CaliRollB Advanced Learning Algorithms CaliRollA Beginner Level Artificial Neural Network Xgboost Tensorflow Tree Ensembles Advice Model Development Andrew Ng nTOP INSTRUCTOR Eddy Shyu Aarti Bagul nTOP INSTRUCTOR Geoff Ladwig nTOP INSTRUCTOR In second course Machine Learning Specialization Build train neural network TensorFlow perform multi class classification Apply best practices machine learning development models generalize data tasks real world Build use decision trees tree ensemble methods including random forests boosted trees The Machine Learning Specialization foundational online program created collaboration DeepLearning AI Stanford Online In beginner friendly program learn fundamentals machine learning use techniques build real world AI applications This Specialization taught Andrew Ng AI visionary led critical research Stanford University groundbreaking work Google Brain Baidu Landing AI advance AI field This course Specialization updated expanded version Andrew pioneering Machine Learning course rated taken million learners since launched It provides broad introduction modern machine learning including supervised learning multiple linear regression logistic regression neural networks decision trees unsupervised learning clustering dimensionality reduction recommender systems best practices used Silicon Valley artificial intelligence machine learning innovation evaluating tuning models taking data centric approach improving performance By end Specialization mastered key theoretical concepts gained practical know quickly powerfully apply machine learning challenging real world problems If looking break AI build career machine learning new Machine Learning Specialization best place start DeepLearning AI education technology company develops global community AI talent DeepLearning AIs expert led educational experiences provide AI practitioners non technical professionals necessary tools go way foundational basics advanced application empowering build AI powered future The Leland Stanford Junior University commonly referred Stanford University Stanford American private research university located Stanford California acre ha campus near Palo Alto California United States This week learn neural networks use classification tasks You use TensorFlow framework build neural network lines code Then dive deeper learning code neural network Python scratch Optionally learn neural network computations implemented efficiently using parallel processing vectorization This week learn train model TensorFlow also learn important activation functions besides sigmoid function use type neural network You also learn go beyond binary classification multiclass classification categories Multiclass classification introduce new activation function new loss function Optionally also learn difference multiclass classification multi label classification You learn Adam optimizer improvement upon regular gradient descent neural network training Finally get brief introduction layer types besides one seen thus far This week learn best practices training evaluating learning algorithms improve performance This cover wide range useful advice machine learning lifecycle tuning model also improving training data This week learn practical commonly used learning algorithm decision tree You also learn variations decision tree including random forests boosted trees XGBoost The Machine Learning Specialization foundational online program created collaboration DeepLearning AI Stanford Online This beginner friendly program teach fundamentals machine learning use techniques build real world AI applications DeepLearning AIEnglish Neural Networks Neural network training Advice applying machine learning Decision trees This week learn neural networks use classification tasks You use TensorFlow framework build neural network lines code Then dive deeper learning code neural network Python scratch Optionally learn neural network computations implemented efficiently using parallel processing vectorization This week learn train model TensorFlow also learn important activation functions besides sigmoid function use type neural network You also learn go beyond binary classification multiclass classification categories Multiclass classification introduce new activation function new loss function Optionally also learn difference multiclass classification multi label classification You learn Adam optimizer improvement upon regular gradient descent neural network training Finally get brief introduction layer types besides one seen thus far This week learn best practices training evaluating learning algorithms improve performance This cover wide range useful advice machine learning lifecycle tuning model also improving training data This week learn practical commonly used learning algorithm decision tree You also learn variations decision tree including random forests boosted trees XGBoost Medium Course Duration',\n",
              "  0.9994258],\n",
              " ['CaliRollB Structuring Machine Learning Projects CaliRollA Beginner Level Deep Learning Inductive Transfer Machine Learning Multi Task Learning Decision Making Andrew Ng nTOP INSTRUCTOR Younes Bensouda Mourri nTOP INSTRUCTOR Kian Katanforoosh nTOP INSTRUCTOR In third course Deep Learning Specialization learn build successful machine learning project get practice decision making machine learning project leader By end able diagnose errors machine learning system prioritize strategies reducing errors understand complex ML settings mismatched training test sets comparing surpassing human level performance apply end end learning transfer learning multi task learning This also standalone course learners basic machine learning knowledge This course draws Andrew Ng experience building shipping many deep learning products If aspire become technical leader set direction AI team course provides industry experience might otherwise get years ML work experience The Deep Learning Specialization foundational program help understand capabilities challenges consequences deep learning prepare participate development leading edge AI technology It provides pathway gain knowledge skills apply machine learning work level technical career take definitive step world AI DeepLearning AI education technology company develops global community AI talent DeepLearning AIs expert led educational experiences provide AI practitioners non technical professionals necessary tools go way foundational basics advanced application empowering build AI powered future Streamline optimize ML production workflow implementing strategic guidelines goal setting applying human level performance help define key priorities Develop time saving error analysis procedures evaluate worthwhile options pursue gain intuition split data use multi task transfer end end deep learning The Deep Learning Specialization foundational program help understand capabilities challenges consequences deep learning prepare participate development leading edge AI technology In Specialization build train neural network architectures Convolutional Neural Networks Recurrent Neural Networks LSTMs Transformers learn make better strategies Dropout BatchNorm Xavier He initialization Get ready master theoretical concepts industry applications using Python TensorFlow tackle real world cases speech recognition music synthesis chatbots machine translation natural language processing AI transforming many industries The Deep Learning Specialization provides pathway take definitive step world AI helping gain knowledge skills level career Along way also get career advice deep learning experts industry academia DeepLearning AIEnglish ML Strategy ML Strategy Streamline optimize ML production workflow implementing strategic guidelines goal setting applying human level performance help define key priorities Develop time saving error analysis procedures evaluate worthwhile options pursue gain intuition split data use multi task transfer end end deep learning Short Course Duration',\n",
              "  0.9980754],\n",
              " ['CaliRollB Supervised Machine Learning Regression Classification CaliRollA Beginner Level Regularization Avoid Overfitting Gradient Descent Supervised Learning Linear Regression Logistic Regression Classification Andrew Ng nTOP INSTRUCTOR Eddy Shyu Aarti Bagul nTOP INSTRUCTOR Geoff Ladwig nTOP INSTRUCTOR In first course Machine Learning Specialization Build machine learning models Python using popular machine learning libraries NumPy scikit learn Build train supervised machine learning models prediction binary classification tasks including linear regression logistic regression The Machine Learning Specialization foundational online program created collaboration DeepLearning AI Stanford Online In beginner friendly program learn fundamentals machine learning use techniques build real world AI applications This Specialization taught Andrew Ng AI visionary led critical research Stanford University groundbreaking work Google Brain Baidu Landing AI advance AI field This course Specialization updated expanded version Andrew pioneering Machine Learning course rated taken million learners since launched It provides broad introduction modern machine learning including supervised learning multiple linear regression logistic regression neural networks decision trees unsupervised learning clustering dimensionality reduction recommender systems best practices used Silicon Valley artificial intelligence machine learning innovation evaluating tuning models taking data centric approach improving performance By end Specialization mastered key concepts gained practical know quickly powerfully apply machine learning challenging real world problems If looking break AI build career machine learning new Machine Learning Specialization best place start DeepLearning AI education technology company develops global community AI talent DeepLearning AIs expert led educational experiences provide AI practitioners non technical professionals necessary tools go way foundational basics advanced application empowering build AI powered future The Leland Stanford Junior University commonly referred Stanford University Stanford American private research university located Stanford California acre ha campus near Palo Alto California United States Welcome Machine Learning Specialization You joining millions others taken either original course led founding Coursera helped millions learners like take look exciting world machine learning This week extend linear regression handle multiple input features You also learn methods improving model training performance vectorization feature scaling feature engineering polynomial regression At end week get practice implementing linear regression code This week learn type supervised learning classification You learn predict categories using logistic regression model You learn problem overfitting handle problem method called regularization You get practice implementing logistic regression regularization end week The Machine Learning Specialization foundational online program created collaboration DeepLearning AI Stanford Online This beginner friendly program teach fundamentals machine learning use techniques build real world AI applications DeepLearning AIEnglish Week Introduction Machine Learning Week Regression multiple input variables Week Classification Welcome Machine Learning Specialization You joining millions others taken either original course led founding Coursera helped millions learners like take look exciting world machine learning This week extend linear regression handle multiple input features You also learn methods improving model training performance vectorization feature scaling feature engineering polynomial regression At end week get practice implementing linear regression code This week learn type supervised learning classification You learn predict categories using logistic regression model You learn problem overfitting handle problem method called regularization You get practice implementing logistic regression regularization end week Medium Course Duration',\n",
              "  0.99806035],\n",
              " ['CaliRollB Improving Deep Neural Networks Hyperparameter Tuning Regularization Optimization CaliRollA Intermediate Level Tensorflow Deep Learning Mathematical Optimization hyperparameter tuning Andrew Ng nTOP INSTRUCTOR Kian Katanforoosh nTOP INSTRUCTOR Younes Bensouda Mourri nTOP INSTRUCTOR In second course Deep Learning Specialization open deep learning black box understand processes drive performance generate good results systematically By end learn best practices train develop test sets analyze bias variance building deep learning applications able use standard neural network techniques initialization L dropout regularization hyperparameter tuning batch normalization gradient checking implement apply variety optimization algorithms mini batch gradient descent Momentum RMSprop Adam check convergence implement neural network TensorFlow The Deep Learning Specialization foundational program help understand capabilities challenges consequences deep learning prepare participate development leading edge AI technology It provides pathway gain knowledge skills apply machine learning work level technical career take definitive step world AI DeepLearning AI education technology company develops global community AI talent DeepLearning AIs expert led educational experiences provide AI practitioners non technical professionals necessary tools go way foundational basics advanced application empowering build AI powered future Discover experiment variety different initialization methods apply L regularization dropout avoid model overfitting apply gradient checking identify errors fraud detection model Develop deep learning toolbox adding advanced optimizations random minibatching learning rate decay scheduling speed models Explore TensorFlow deep learning framework allows build neural networks quickly easily train neural network TensorFlow dataset The Deep Learning Specialization foundational program help understand capabilities challenges consequences deep learning prepare participate development leading edge AI technology In Specialization build train neural network architectures Convolutional Neural Networks Recurrent Neural Networks LSTMs Transformers learn make better strategies Dropout BatchNorm Xavier He initialization Get ready master theoretical concepts industry applications using Python TensorFlow tackle real world cases speech recognition music synthesis chatbots machine translation natural language processing AI transforming many industries The Deep Learning Specialization provides pathway take definitive step world AI helping gain knowledge skills level career Along way also get career advice deep learning experts industry academia DeepLearning AIEnglish Practical Aspects Deep Learning Optimization Algorithms Hyperparameter Tuning Batch Normalization Programming Frameworks Discover experiment variety different initialization methods apply L regularization dropout avoid model overfitting apply gradient checking identify errors fraud detection model Develop deep learning toolbox adding advanced optimizations random minibatching learning rate decay scheduling speed models Explore TensorFlow deep learning framework allows build neural networks quickly easily train neural network TensorFlow dataset Medium Course Duration',\n",
              "  0.9976522],\n",
              " ['CaliRollB Advanced Computer Vision TensorFlow CaliRollA Intermediate Level Salience Image Segmentation Model Interpretability Class Activation Maps TensorFlow Object Detection API Laurence Moroney Eddy Shyu In course Explore image classification image segmentation object localization object detection Apply transfer learning object localization detection b Apply object detection models regional CNN ResNet customize existing models build models detect localize label rubber duck images c Implement image segmentation using variations fully convolutional network FCN including U Net Mask RCNN identify detect numbers pets zombies Identify parts image used model make predictions using class activation maps saliency maps apply ML interpretation methods inspect improve design famous network AlexNet The DeepLearning AI TensorFlow Advanced Techniques Specialization introduces features TensorFlow provide learners control model architecture tools help create train advanced ML models This Specialization early mid career software machine learning engineers foundational understanding TensorFlow looking expand knowledge skill set learning advanced TensorFlow features build powerful models DeepLearning AI education technology company develops global community AI talent DeepLearning AIs expert led educational experiences provide AI practitioners non technical professionals necessary tools go way foundational basics advanced application empowering build AI powered future Get conceptual overview image classification object localization object detection image segmentation Also able describe multi label classification distinguish semantic segmentation instance segmentation In rest course apply TensorFlow build object detection image segmentation models This week get overview popular object detection models regional CNN ResNet You use object detection models retrieve TensorFlow Hub download models configure training also build models object detection By using transfer learning train model detect localize rubber duckies using five training examples You also get manually label rubber ducky images This week image segmentation using variations fully convolutional neural network With networks assign class labels pixel perform much detailed identification objects compared bounding boxes You build fully convolutional neural network U Net Mask R CNN week identify detect numbers pets even zombies This week learn importance model interpretability understanding model arrives decisions You also implement class activation maps saliency maps gradient weighted class activation maps identify parts image used model make predictions You also see example visualizing model intermediate layer activations help improve design famous network AlexNet About TensorFlow TensorFlow end end open source platform machine learning It comprehensive flexible ecosystem tools libraries community resources lets researchers push state art ML developers easily build deploy ML powered applications TensorFlow commonly used machine learning applications voice recognition detection Google Translate image recognition natural language processing About Specialization Expand knowledge Functional API build exotic non sequential model types Learn optimize training different environments multiple processors chip types get introduced advanced computer vision scenarios object detection image segmentation interpreting convolutions Explore generative deep learning including ways AIs create new content Style Transfer Auto Encoding VAEs GANs About This Specialization software machine learning engineers foundational understanding TensorFlow looking expand knowledge skill set learning advanced TensorFlow features build powerful models Looking place start Master foundational basics DeepLearning AI TensorFlow Developer Professional Certificate Ready deploy models world Learn go live TensorFlow Data Deployment Specialization DeepLearning AIEnglish Introduction Computer Vision Object Detection Image Segmentation Visualization Interpretability Get conceptual overview image classification object localization object detection image segmentation Also able describe multi label classification distinguish semantic segmentation instance segmentation In rest course apply TensorFlow build object detection image segmentation models This week get overview popular object detection models regional CNN ResNet You use object detection models retrieve TensorFlow Hub download models configure training also build models object detection By using transfer learning train model detect localize rubber duckies using five training examples You also get manually label rubber ducky images This week image segmentation using variations fully convolutional neural network With networks assign class labels pixel perform much detailed identification objects compared bounding boxes You build fully convolutional neural network U Net Mask R CNN week identify detect numbers pets even zombies This week learn importance model interpretability understanding model arrives decisions You also implement class activation maps saliency maps gradient weighted class activation maps identify parts image used model make predictions You also see example visualizing model intermediate layer activations help improve design famous network AlexNet Medium Course Duration',\n",
              "  0.9944349],\n",
              " ['CaliRollB Convolutional Neural Networks TensorFlow CaliRollA Intermediate Level Inductive Transfer Augmentation Dropouts Machine Learning Tensorflow Laurence Moroney If software developer wants build scalable AI powered algorithms need understand use tools build This course part upcoming Machine Learning Tensorflow Specialization teach best practices using TensorFlow popular open source framework machine learning In Course deeplearning ai TensorFlow Specialization learn advanced techniques improve computer vision model built Course You explore work real world images different shapes sizes visualize journey image convolutions understand computer sees information plot loss accuracy explore strategies prevent overfitting including augmentation dropout Finally Course introduce transfer learning learned features extracted models The Machine Learning course Deep Learning Specialization Andrew Ng teach important foundational principles Machine Learning Deep Learning This new deeplearning ai TensorFlow Specialization teaches use TensorFlow implement principles start building applying scalable models real world problems To develop deeper understanding neural networks work recommend take Deep Learning Specialization DeepLearning AI education technology company develops global community AI talent DeepLearning AIs expert led educational experiences provide AI practitioners non technical professionals necessary tools go way foundational basics advanced application empowering build AI powered future In first course specialization introduction TensorFlow high level APIs could basic image classification learned little bit Convolutional Neural Networks ConvNets In course go deeper using ConvNets real world data learn techniques use improve ConvNet performance particularly image classification In Week week get started looking much larger dataset using thus far The Cats Dogs dataset Kaggle Challenge image classification You heard term overfitting number times point Overfitting simply concept specialized training namely model good classifying trained good classifying things seen In order generalize model effectively course need greater breadth samples train That always possible nice potential shortcut Image Augmentation tweak training set potentially increase diversity subjects covers You learn week Building models great powerful But seen limited data hand Not everybody access massive datasets compute power needed train effectively Transfer learning help solve people models trained large datasets train either use directly use features learned apply scenario This Transfer learning look week You come long way Congratulations One thing move ConvNets next module go beyond binary classification Each examples done far involved classifying one thing another horse human cat dog When moving beyond binary Categorical classification coding considerations need take account You look week TensorFlow one demand popular open source deep learning frameworks available today The DeepLearning AI TensorFlow Developer Professional Certificate program teaches applied machine learning skills TensorFlow build train powerful models DeepLearning AIEnglish Exploring Larger Dataset Augmentation A technique avoid overfitting Transfer Learning Multiclass Classifications In first course specialization introduction TensorFlow high level APIs could basic image classification learned little bit Convolutional Neural Networks ConvNets In course go deeper using ConvNets real world data learn techniques use improve ConvNet performance particularly image classification In Week week get started looking much larger dataset using thus far The Cats Dogs dataset Kaggle Challenge image classification You heard term overfitting number times point Overfitting simply concept specialized training namely model good classifying trained good classifying things seen In order generalize model effectively course need greater breadth samples train That always possible nice potential shortcut Image Augmentation tweak training set potentially increase diversity subjects covers You learn week Building models great powerful But seen limited data hand Not everybody access massive datasets compute power needed train effectively Transfer learning help solve people models trained large datasets train either use directly use features learned apply scenario This Transfer learning look week You come long way Congratulations One thing move ConvNets next module go beyond binary classification Each examples done far involved classifying one thing another horse human cat dog When moving beyond binary Categorical classification coding considerations need take account You look week Medium Course Duration',\n",
              "  0.9885205],\n",
              " ['CaliRollB AI Medical Diagnosis CaliRollA Intermediate Level Deep Learning Image Segmentation Machine Learning model evaluation Multi class classification Pranav Rajpurkar Bora Uyumazturk Amirhossein Kiani Eddy Shyu AI transforming practice medicine It helping doctors diagnose patients accurately make predictions patients future health recommend better treatments As AI practitioner opportunity join transformation modern medicine If already familiar math coding behind AI algorithms eager develop skills tackle challenges healthcare industry specialization No prior medical expertise required DeepLearning AI education technology company develops global community AI talent DeepLearning AIs expert led educational experiences provide AI practitioners non technical professionals necessary tools go way foundational basics advanced application empowering build AI powered future By end week practice classifying diseases chest x rays using neural network By end week practice implementing standard evaluation metrics see well model performs diagnosing diseases By end week prepare D MRI data implement appropriate loss function image segmentation apply pre trained U net model segment tumor regions D brain MRI images AI transforming practice medicine It helping doctors diagnose patients accurately make predictions patients future health recommend better treatments This three course Specialization give practical experience applying machine learning concrete problems medicine DeepLearning AIEnglish Disease Detection Computer Vision Evaluating Models Image Segmentation MRI Images By end week practice classifying diseases chest x rays using neural network By end week practice implementing standard evaluation metrics see well model performs diagnosing diseases By end week prepare D MRI data implement appropriate loss function image segmentation apply pre trained U net model segment tumor regions D brain MRI images Medium Course Duration',\n",
              "  0.9884467]]"
            ]
          },
          "metadata": {}
        }
      ]
    },
    {
      "cell_type": "code",
      "source": [
        "len(recommendation_2)"
      ],
      "metadata": {
        "id": "Zy4L5bBO0OGH",
        "colab": {
          "base_uri": "https://localhost:8080/"
        },
        "outputId": "8ef60bf7-0f3d-4ac6-a03d-b7fdcfff02ca"
      },
      "execution_count": null,
      "outputs": [
        {
          "output_type": "execute_result",
          "data": {
            "text/plain": [
              "3190"
            ]
          },
          "metadata": {},
          "execution_count": 75
        }
      ]
    },
    {
      "cell_type": "code",
      "source": [
        "recommendation_2 = [x[0] for x in recommendation_2]"
      ],
      "metadata": {
        "id": "eWLzCxmyaYBi"
      },
      "execution_count": null,
      "outputs": []
    },
    {
      "cell_type": "code",
      "source": [
        "l=coursedata2[\"clean_combined_text\"]\n",
        "l"
      ],
      "metadata": {
        "colab": {
          "base_uri": "https://localhost:8080/"
        },
        "id": "0yCYnsZ4aZB1",
        "outputId": "f6c6906f-c689-475e-cf50-e564e597b1ed"
      },
      "execution_count": null,
      "outputs": [
        {
          "output_type": "execute_result",
          "data": {
            "text/plain": [
              "0       CaliRollB Cloud Computing Concepts Part CaliRo...\n",
              "1       CaliRollB The Challenges Global Health CaliRol...\n",
              "2       CaliRollB Digital Marketing Analytics Theory C...\n",
              "3       CaliRollB Digital Product Management Modern Fu...\n",
              "7       CaliRollB Grow Your Business Goldman Sachs Wom...\n",
              "                              ...                        \n",
              "6611    CaliRollB Introduction XR VR AR MR Foundations...\n",
              "6616    CaliRollB Global Adolescent Health CaliRollA B...\n",
              "6617    CaliRollB The Science Training Young Athletes ...\n",
              "6622    CaliRollB Getting Started Mainframe z OS Comma...\n",
              "6634    CaliRollB IBM z OS Rexx Programming CaliRollA ...\n",
              "Name: clean_combined_text, Length: 3190, dtype: object"
            ]
          },
          "metadata": {},
          "execution_count": 77
        }
      ]
    },
    {
      "cell_type": "code",
      "source": [
        "ids=[]\n",
        "for each in recommendation_2[:12]:\n",
        "  for key,value in enumerate(l):\n",
        "    if each==value:\n",
        "      ids.append(key)\n",
        "\n",
        "print(ids)"
      ],
      "metadata": {
        "colab": {
          "base_uri": "https://localhost:8080/"
        },
        "id": "XIBJs-jFaZFd",
        "outputId": "453473fa-6d9e-4bab-f42c-7ad566186d92"
      },
      "execution_count": null,
      "outputs": [
        {
          "output_type": "stream",
          "name": "stdout",
          "text": [
            "[2109, 3009, 622, 2124, 72, 1855, 1839, 831, 64, 623, 110, 1852]\n"
          ]
        }
      ]
    },
    {
      "cell_type": "code",
      "source": [
        "coursedata2.iloc[ids]"
      ],
      "metadata": {
        "colab": {
          "base_uri": "https://localhost:8080/",
          "height": 1000
        },
        "id": "vJ2ElHFNaZIY",
        "outputId": "d5cd3166-026d-40ba-ed1e-b8062de2daec"
      },
      "execution_count": null,
      "outputs": [
        {
          "output_type": "execute_result",
          "data": {
            "text/plain": [
              "                                           course_title    difficulty_level  duration                                             skills                                        instructors                                        description      rating       offered_by language                                   syllabus_heading                                   syllabus_details  numeric_difficulty_lvl           duration_label                                      combined_text                                clean_combined_text\n",
              "4606                  Neural Networks and Deep Learning  Intermediate Level        29  ['Deep Learning', 'Artificial Neural Network',...  ['Andrew Ng\\nTOP INSTRUCTOR', 'Kian Katanforoo...  In the first course of the Deep Learning Speci...  4.9\\nstars  DeepLearning.AI  English  ['Introduction to Deep Learning', 'Neural Netw...  ['Analyze the major trends driving the rise of...                       2  Medium Course  Duration   CaliRollB Neural Networks and Deep Learning C...  CaliRollB Neural Networks Deep Learning CaliRo...\n",
              "6309  Unsupervised Learning, Recommenders, Reinforce...      Beginner Level        26  ['Collaborative Filtering', 'Unsupervised Lear...  ['Andrew Ng\\nTOP INSTRUCTOR', 'Eddy Shyu', 'Aa...  In the third course of the Machine Learning Sp...  4.9\\nstars  DeepLearning.AI  English  ['Unsupervised learning', 'Recommender systems...  ['This week, you will learn two key unsupervis...                       1  Medium Course  Duration   CaliRollB Unsupervised Learning, Recommenders...  CaliRollB Unsupervised Learning Recommenders R...\n",
              "1301                      Convolutional Neural Networks  Intermediate Level        41  ['Deep Learning', 'Facial Recognition System',...  ['Andrew Ng\\nTOP INSTRUCTOR', 'Kian Katanforoo...  In the fourth course of the Deep Learning Spec...  4.9\\nstars  DeepLearning.AI  English  ['Foundations of Convolutional Neural Networks...  ['Implement the foundational layers of CNNs (p...                       2     Long Course Duration   CaliRollB Convolutional Neural Networks CaliR...  CaliRollB Convolutional Neural Networks CaliRo...\n",
              "4636                                    Sequence Models  Intermediate Level        42  ['Natural Language Processing', 'Long Short Te...  ['Andrew Ng\\nTOP INSTRUCTOR', 'Kian Katanforoo...  In the fifth course of the Deep Learning Speci...  4.8\\nstars  DeepLearning.AI  English  ['Recurrent Neural Networks', 'Natural Languag...  ['Discover recurrent neural networks, a type o...                       2     Long Course Duration   CaliRollB Sequence Models CaliRollA Intermedi...  CaliRollB Sequence Models CaliRollA Intermedia...\n",
              "178                        Advanced Learning Algorithms      Beginner Level        30  ['Artificial Neural Network', 'Xgboost', 'Tens...  ['Andrew Ng\\nTOP INSTRUCTOR', 'Eddy Shyu', 'Aa...  In the second course of the Machine Learning S...  4.9\\nstars  DeepLearning.AI  English  ['Neural Networks', 'Neural network training',...  ['This week, you\\'ll learn about neural networ...                       1  Medium Course  Duration   CaliRollB Advanced Learning Algorithms CaliRo...  CaliRollB Advanced Learning Algorithms CaliRol...\n",
              "4118              Structuring Machine Learning Projects      Beginner Level        10  ['Deep Learning', 'Inductive Transfer', 'Machi...  ['Andrew Ng\\nTOP INSTRUCTOR', 'Younes Bensouda...  In the third course of the Deep Learning Speci...  4.8\\nstars  DeepLearning.AI  English                   ['ML Strategy ', 'ML Strategy ']  ['Streamline and optimize your ML production w...                       1    Short Course Duration   CaliRollB Structuring Machine Learning Projec...  CaliRollB Structuring Machine Learning Project...\n",
              "4093  Supervised Machine Learning: Regression and Cl...      Beginner Level        33  ['Regularization to Avoid Overfitting', 'Gradi...  ['Andrew Ng\\nTOP INSTRUCTOR', 'Eddy Shyu', 'Aa...  In the first course of the Machine Learning Sp...  4.9\\nstars  DeepLearning.AI  English  ['Week 1: Introduction to Machine Learning', '...  [\"Welcome to the Machine Learning Specializati...                       1  Medium Course  Duration   CaliRollB Supervised Machine Learning: Regres...  CaliRollB Supervised Machine Learning Regressi...\n",
              "1651  Improving Deep Neural Networks: Hyperparameter...  Intermediate Level        27  ['Tensorflow', 'Deep Learning', 'Mathematical ...  ['Andrew Ng\\nTOP INSTRUCTOR', 'Kian Katanforoo...  In the second course of the Deep Learning Spec...  4.9\\nstars  DeepLearning.AI  English  ['Practical Aspects of Deep Learning', 'Optimi...  ['Discover and experiment with a variety of di...                       2  Medium Course  Duration   CaliRollB Improving Deep Neural Networks: Hyp...  CaliRollB Improving Deep Neural Networks Hyper...\n",
              "166            Advanced Computer Vision with TensorFlow  Intermediate Level        29  ['Salience', 'Image Segmentation', 'Model Inte...                  ['Laurence Moroney', 'Eddy Shyu']  In this course, you will: a) Explore image cla...  4.8\\nstars  DeepLearning.AI  English  ['Introduction to Computer Vision', 'Object De...  ['Get a conceptual overview of image classific...                       2  Medium Course  Duration   CaliRollB Advanced Computer Vision with Tenso...  CaliRollB Advanced Computer Vision TensorFlow ...\n",
              "1306        Convolutional Neural Networks in TensorFlow  Intermediate Level        18  ['Inductive Transfer', 'Augmentation', 'Dropou...                               ['Laurence Moroney']  If you are a software developer who wants to b...  4.7\\nstars  DeepLearning.AI  English  ['Exploring a Larger Dataset', 'Augmentation: ...  [\"In the first course in this specialization, ...                       2  Medium Course  Duration   CaliRollB Convolutional Neural Networks in Te...  CaliRollB Convolutional Neural Networks Tensor...\n",
              "246                            AI for Medical Diagnosis  Intermediate Level        21  ['Deep Learning', 'Image Segmentation', 'Machi...  ['Pranav Rajpurkar', 'Bora Uyumazturk', 'Amirh...  AI is transforming the practice of medicine. I...  4.7\\nstars  DeepLearning.AI  English  ['Disease Detection with Computer Vision', 'Ev...  ['By the end of this week, you will practice c...                       2  Medium Course  Duration   CaliRollB AI for Medical Diagnosis CaliRollA ...  CaliRollB AI Medical Diagnosis CaliRollA Inter...\n",
              "4112                  Practical Machine Learning on H2O  Intermediate Level        24                                                 []                                    ['Darren Cook']  In this course, we will learn all the core tec...  4.5\\nstars              H2O  English  ['H2O AND THE FUNDAMENTALS', 'Trees And Overfi...                           ['', '', '', '', '', '']                       2  Medium Course  Duration   CaliRollB Practical Machine Learning on H2O C...  CaliRollB Practical Machine Learning H O CaliR..."
            ],
            "text/html": [
              "\n",
              "  <div id=\"df-d37fbc9a-cf6a-4aa9-9072-025742b38494\">\n",
              "    <div class=\"colab-df-container\">\n",
              "      <div>\n",
              "<style scoped>\n",
              "    .dataframe tbody tr th:only-of-type {\n",
              "        vertical-align: middle;\n",
              "    }\n",
              "\n",
              "    .dataframe tbody tr th {\n",
              "        vertical-align: top;\n",
              "    }\n",
              "\n",
              "    .dataframe thead th {\n",
              "        text-align: right;\n",
              "    }\n",
              "</style>\n",
              "<table border=\"1\" class=\"dataframe\">\n",
              "  <thead>\n",
              "    <tr style=\"text-align: right;\">\n",
              "      <th></th>\n",
              "      <th>course_title</th>\n",
              "      <th>difficulty_level</th>\n",
              "      <th>duration</th>\n",
              "      <th>skills</th>\n",
              "      <th>instructors</th>\n",
              "      <th>description</th>\n",
              "      <th>rating</th>\n",
              "      <th>offered_by</th>\n",
              "      <th>language</th>\n",
              "      <th>syllabus_heading</th>\n",
              "      <th>syllabus_details</th>\n",
              "      <th>numeric_difficulty_lvl</th>\n",
              "      <th>duration_label</th>\n",
              "      <th>combined_text</th>\n",
              "      <th>clean_combined_text</th>\n",
              "    </tr>\n",
              "  </thead>\n",
              "  <tbody>\n",
              "    <tr>\n",
              "      <th>4606</th>\n",
              "      <td>Neural Networks and Deep Learning</td>\n",
              "      <td>Intermediate Level</td>\n",
              "      <td>29</td>\n",
              "      <td>['Deep Learning', 'Artificial Neural Network',...</td>\n",
              "      <td>['Andrew Ng\\nTOP INSTRUCTOR', 'Kian Katanforoo...</td>\n",
              "      <td>In the first course of the Deep Learning Speci...</td>\n",
              "      <td>4.9\\nstars</td>\n",
              "      <td>DeepLearning.AI</td>\n",
              "      <td>English</td>\n",
              "      <td>['Introduction to Deep Learning', 'Neural Netw...</td>\n",
              "      <td>['Analyze the major trends driving the rise of...</td>\n",
              "      <td>2</td>\n",
              "      <td>Medium Course  Duration</td>\n",
              "      <td>CaliRollB Neural Networks and Deep Learning C...</td>\n",
              "      <td>CaliRollB Neural Networks Deep Learning CaliRo...</td>\n",
              "    </tr>\n",
              "    <tr>\n",
              "      <th>6309</th>\n",
              "      <td>Unsupervised Learning, Recommenders, Reinforce...</td>\n",
              "      <td>Beginner Level</td>\n",
              "      <td>26</td>\n",
              "      <td>['Collaborative Filtering', 'Unsupervised Lear...</td>\n",
              "      <td>['Andrew Ng\\nTOP INSTRUCTOR', 'Eddy Shyu', 'Aa...</td>\n",
              "      <td>In the third course of the Machine Learning Sp...</td>\n",
              "      <td>4.9\\nstars</td>\n",
              "      <td>DeepLearning.AI</td>\n",
              "      <td>English</td>\n",
              "      <td>['Unsupervised learning', 'Recommender systems...</td>\n",
              "      <td>['This week, you will learn two key unsupervis...</td>\n",
              "      <td>1</td>\n",
              "      <td>Medium Course  Duration</td>\n",
              "      <td>CaliRollB Unsupervised Learning, Recommenders...</td>\n",
              "      <td>CaliRollB Unsupervised Learning Recommenders R...</td>\n",
              "    </tr>\n",
              "    <tr>\n",
              "      <th>1301</th>\n",
              "      <td>Convolutional Neural Networks</td>\n",
              "      <td>Intermediate Level</td>\n",
              "      <td>41</td>\n",
              "      <td>['Deep Learning', 'Facial Recognition System',...</td>\n",
              "      <td>['Andrew Ng\\nTOP INSTRUCTOR', 'Kian Katanforoo...</td>\n",
              "      <td>In the fourth course of the Deep Learning Spec...</td>\n",
              "      <td>4.9\\nstars</td>\n",
              "      <td>DeepLearning.AI</td>\n",
              "      <td>English</td>\n",
              "      <td>['Foundations of Convolutional Neural Networks...</td>\n",
              "      <td>['Implement the foundational layers of CNNs (p...</td>\n",
              "      <td>2</td>\n",
              "      <td>Long Course Duration</td>\n",
              "      <td>CaliRollB Convolutional Neural Networks CaliR...</td>\n",
              "      <td>CaliRollB Convolutional Neural Networks CaliRo...</td>\n",
              "    </tr>\n",
              "    <tr>\n",
              "      <th>4636</th>\n",
              "      <td>Sequence Models</td>\n",
              "      <td>Intermediate Level</td>\n",
              "      <td>42</td>\n",
              "      <td>['Natural Language Processing', 'Long Short Te...</td>\n",
              "      <td>['Andrew Ng\\nTOP INSTRUCTOR', 'Kian Katanforoo...</td>\n",
              "      <td>In the fifth course of the Deep Learning Speci...</td>\n",
              "      <td>4.8\\nstars</td>\n",
              "      <td>DeepLearning.AI</td>\n",
              "      <td>English</td>\n",
              "      <td>['Recurrent Neural Networks', 'Natural Languag...</td>\n",
              "      <td>['Discover recurrent neural networks, a type o...</td>\n",
              "      <td>2</td>\n",
              "      <td>Long Course Duration</td>\n",
              "      <td>CaliRollB Sequence Models CaliRollA Intermedi...</td>\n",
              "      <td>CaliRollB Sequence Models CaliRollA Intermedia...</td>\n",
              "    </tr>\n",
              "    <tr>\n",
              "      <th>178</th>\n",
              "      <td>Advanced Learning Algorithms</td>\n",
              "      <td>Beginner Level</td>\n",
              "      <td>30</td>\n",
              "      <td>['Artificial Neural Network', 'Xgboost', 'Tens...</td>\n",
              "      <td>['Andrew Ng\\nTOP INSTRUCTOR', 'Eddy Shyu', 'Aa...</td>\n",
              "      <td>In the second course of the Machine Learning S...</td>\n",
              "      <td>4.9\\nstars</td>\n",
              "      <td>DeepLearning.AI</td>\n",
              "      <td>English</td>\n",
              "      <td>['Neural Networks', 'Neural network training',...</td>\n",
              "      <td>['This week, you\\'ll learn about neural networ...</td>\n",
              "      <td>1</td>\n",
              "      <td>Medium Course  Duration</td>\n",
              "      <td>CaliRollB Advanced Learning Algorithms CaliRo...</td>\n",
              "      <td>CaliRollB Advanced Learning Algorithms CaliRol...</td>\n",
              "    </tr>\n",
              "    <tr>\n",
              "      <th>4118</th>\n",
              "      <td>Structuring Machine Learning Projects</td>\n",
              "      <td>Beginner Level</td>\n",
              "      <td>10</td>\n",
              "      <td>['Deep Learning', 'Inductive Transfer', 'Machi...</td>\n",
              "      <td>['Andrew Ng\\nTOP INSTRUCTOR', 'Younes Bensouda...</td>\n",
              "      <td>In the third course of the Deep Learning Speci...</td>\n",
              "      <td>4.8\\nstars</td>\n",
              "      <td>DeepLearning.AI</td>\n",
              "      <td>English</td>\n",
              "      <td>['ML Strategy ', 'ML Strategy ']</td>\n",
              "      <td>['Streamline and optimize your ML production w...</td>\n",
              "      <td>1</td>\n",
              "      <td>Short Course Duration</td>\n",
              "      <td>CaliRollB Structuring Machine Learning Projec...</td>\n",
              "      <td>CaliRollB Structuring Machine Learning Project...</td>\n",
              "    </tr>\n",
              "    <tr>\n",
              "      <th>4093</th>\n",
              "      <td>Supervised Machine Learning: Regression and Cl...</td>\n",
              "      <td>Beginner Level</td>\n",
              "      <td>33</td>\n",
              "      <td>['Regularization to Avoid Overfitting', 'Gradi...</td>\n",
              "      <td>['Andrew Ng\\nTOP INSTRUCTOR', 'Eddy Shyu', 'Aa...</td>\n",
              "      <td>In the first course of the Machine Learning Sp...</td>\n",
              "      <td>4.9\\nstars</td>\n",
              "      <td>DeepLearning.AI</td>\n",
              "      <td>English</td>\n",
              "      <td>['Week 1: Introduction to Machine Learning', '...</td>\n",
              "      <td>[\"Welcome to the Machine Learning Specializati...</td>\n",
              "      <td>1</td>\n",
              "      <td>Medium Course  Duration</td>\n",
              "      <td>CaliRollB Supervised Machine Learning: Regres...</td>\n",
              "      <td>CaliRollB Supervised Machine Learning Regressi...</td>\n",
              "    </tr>\n",
              "    <tr>\n",
              "      <th>1651</th>\n",
              "      <td>Improving Deep Neural Networks: Hyperparameter...</td>\n",
              "      <td>Intermediate Level</td>\n",
              "      <td>27</td>\n",
              "      <td>['Tensorflow', 'Deep Learning', 'Mathematical ...</td>\n",
              "      <td>['Andrew Ng\\nTOP INSTRUCTOR', 'Kian Katanforoo...</td>\n",
              "      <td>In the second course of the Deep Learning Spec...</td>\n",
              "      <td>4.9\\nstars</td>\n",
              "      <td>DeepLearning.AI</td>\n",
              "      <td>English</td>\n",
              "      <td>['Practical Aspects of Deep Learning', 'Optimi...</td>\n",
              "      <td>['Discover and experiment with a variety of di...</td>\n",
              "      <td>2</td>\n",
              "      <td>Medium Course  Duration</td>\n",
              "      <td>CaliRollB Improving Deep Neural Networks: Hyp...</td>\n",
              "      <td>CaliRollB Improving Deep Neural Networks Hyper...</td>\n",
              "    </tr>\n",
              "    <tr>\n",
              "      <th>166</th>\n",
              "      <td>Advanced Computer Vision with TensorFlow</td>\n",
              "      <td>Intermediate Level</td>\n",
              "      <td>29</td>\n",
              "      <td>['Salience', 'Image Segmentation', 'Model Inte...</td>\n",
              "      <td>['Laurence Moroney', 'Eddy Shyu']</td>\n",
              "      <td>In this course, you will: a) Explore image cla...</td>\n",
              "      <td>4.8\\nstars</td>\n",
              "      <td>DeepLearning.AI</td>\n",
              "      <td>English</td>\n",
              "      <td>['Introduction to Computer Vision', 'Object De...</td>\n",
              "      <td>['Get a conceptual overview of image classific...</td>\n",
              "      <td>2</td>\n",
              "      <td>Medium Course  Duration</td>\n",
              "      <td>CaliRollB Advanced Computer Vision with Tenso...</td>\n",
              "      <td>CaliRollB Advanced Computer Vision TensorFlow ...</td>\n",
              "    </tr>\n",
              "    <tr>\n",
              "      <th>1306</th>\n",
              "      <td>Convolutional Neural Networks in TensorFlow</td>\n",
              "      <td>Intermediate Level</td>\n",
              "      <td>18</td>\n",
              "      <td>['Inductive Transfer', 'Augmentation', 'Dropou...</td>\n",
              "      <td>['Laurence Moroney']</td>\n",
              "      <td>If you are a software developer who wants to b...</td>\n",
              "      <td>4.7\\nstars</td>\n",
              "      <td>DeepLearning.AI</td>\n",
              "      <td>English</td>\n",
              "      <td>['Exploring a Larger Dataset', 'Augmentation: ...</td>\n",
              "      <td>[\"In the first course in this specialization, ...</td>\n",
              "      <td>2</td>\n",
              "      <td>Medium Course  Duration</td>\n",
              "      <td>CaliRollB Convolutional Neural Networks in Te...</td>\n",
              "      <td>CaliRollB Convolutional Neural Networks Tensor...</td>\n",
              "    </tr>\n",
              "    <tr>\n",
              "      <th>246</th>\n",
              "      <td>AI for Medical Diagnosis</td>\n",
              "      <td>Intermediate Level</td>\n",
              "      <td>21</td>\n",
              "      <td>['Deep Learning', 'Image Segmentation', 'Machi...</td>\n",
              "      <td>['Pranav Rajpurkar', 'Bora Uyumazturk', 'Amirh...</td>\n",
              "      <td>AI is transforming the practice of medicine. I...</td>\n",
              "      <td>4.7\\nstars</td>\n",
              "      <td>DeepLearning.AI</td>\n",
              "      <td>English</td>\n",
              "      <td>['Disease Detection with Computer Vision', 'Ev...</td>\n",
              "      <td>['By the end of this week, you will practice c...</td>\n",
              "      <td>2</td>\n",
              "      <td>Medium Course  Duration</td>\n",
              "      <td>CaliRollB AI for Medical Diagnosis CaliRollA ...</td>\n",
              "      <td>CaliRollB AI Medical Diagnosis CaliRollA Inter...</td>\n",
              "    </tr>\n",
              "    <tr>\n",
              "      <th>4112</th>\n",
              "      <td>Practical Machine Learning on H2O</td>\n",
              "      <td>Intermediate Level</td>\n",
              "      <td>24</td>\n",
              "      <td>[]</td>\n",
              "      <td>['Darren Cook']</td>\n",
              "      <td>In this course, we will learn all the core tec...</td>\n",
              "      <td>4.5\\nstars</td>\n",
              "      <td>H2O</td>\n",
              "      <td>English</td>\n",
              "      <td>['H2O AND THE FUNDAMENTALS', 'Trees And Overfi...</td>\n",
              "      <td>['', '', '', '', '', '']</td>\n",
              "      <td>2</td>\n",
              "      <td>Medium Course  Duration</td>\n",
              "      <td>CaliRollB Practical Machine Learning on H2O C...</td>\n",
              "      <td>CaliRollB Practical Machine Learning H O CaliR...</td>\n",
              "    </tr>\n",
              "  </tbody>\n",
              "</table>\n",
              "</div>\n",
              "      <button class=\"colab-df-convert\" onclick=\"convertToInteractive('df-d37fbc9a-cf6a-4aa9-9072-025742b38494')\"\n",
              "              title=\"Convert this dataframe to an interactive table.\"\n",
              "              style=\"display:none;\">\n",
              "        \n",
              "  <svg xmlns=\"http://www.w3.org/2000/svg\" height=\"24px\"viewBox=\"0 0 24 24\"\n",
              "       width=\"24px\">\n",
              "    <path d=\"M0 0h24v24H0V0z\" fill=\"none\"/>\n",
              "    <path d=\"M18.56 5.44l.94 2.06.94-2.06 2.06-.94-2.06-.94-.94-2.06-.94 2.06-2.06.94zm-11 1L8.5 8.5l.94-2.06 2.06-.94-2.06-.94L8.5 2.5l-.94 2.06-2.06.94zm10 10l.94 2.06.94-2.06 2.06-.94-2.06-.94-.94-2.06-.94 2.06-2.06.94z\"/><path d=\"M17.41 7.96l-1.37-1.37c-.4-.4-.92-.59-1.43-.59-.52 0-1.04.2-1.43.59L10.3 9.45l-7.72 7.72c-.78.78-.78 2.05 0 2.83L4 21.41c.39.39.9.59 1.41.59.51 0 1.02-.2 1.41-.59l7.78-7.78 2.81-2.81c.8-.78.8-2.07 0-2.86zM5.41 20L4 18.59l7.72-7.72 1.47 1.35L5.41 20z\"/>\n",
              "  </svg>\n",
              "      </button>\n",
              "      \n",
              "  <style>\n",
              "    .colab-df-container {\n",
              "      display:flex;\n",
              "      flex-wrap:wrap;\n",
              "      gap: 12px;\n",
              "    }\n",
              "\n",
              "    .colab-df-convert {\n",
              "      background-color: #E8F0FE;\n",
              "      border: none;\n",
              "      border-radius: 50%;\n",
              "      cursor: pointer;\n",
              "      display: none;\n",
              "      fill: #1967D2;\n",
              "      height: 32px;\n",
              "      padding: 0 0 0 0;\n",
              "      width: 32px;\n",
              "    }\n",
              "\n",
              "    .colab-df-convert:hover {\n",
              "      background-color: #E2EBFA;\n",
              "      box-shadow: 0px 1px 2px rgba(60, 64, 67, 0.3), 0px 1px 3px 1px rgba(60, 64, 67, 0.15);\n",
              "      fill: #174EA6;\n",
              "    }\n",
              "\n",
              "    [theme=dark] .colab-df-convert {\n",
              "      background-color: #3B4455;\n",
              "      fill: #D2E3FC;\n",
              "    }\n",
              "\n",
              "    [theme=dark] .colab-df-convert:hover {\n",
              "      background-color: #434B5C;\n",
              "      box-shadow: 0px 1px 3px 1px rgba(0, 0, 0, 0.15);\n",
              "      filter: drop-shadow(0px 1px 2px rgba(0, 0, 0, 0.3));\n",
              "      fill: #FFFFFF;\n",
              "    }\n",
              "  </style>\n",
              "\n",
              "      <script>\n",
              "        const buttonEl =\n",
              "          document.querySelector('#df-d37fbc9a-cf6a-4aa9-9072-025742b38494 button.colab-df-convert');\n",
              "        buttonEl.style.display =\n",
              "          google.colab.kernel.accessAllowed ? 'block' : 'none';\n",
              "\n",
              "        async function convertToInteractive(key) {\n",
              "          const element = document.querySelector('#df-d37fbc9a-cf6a-4aa9-9072-025742b38494');\n",
              "          const dataTable =\n",
              "            await google.colab.kernel.invokeFunction('convertToInteractive',\n",
              "                                                     [key], {});\n",
              "          if (!dataTable) return;\n",
              "\n",
              "          const docLinkHtml = 'Like what you see? Visit the ' +\n",
              "            '<a target=\"_blank\" href=https://colab.research.google.com/notebooks/data_table.ipynb>data table notebook</a>'\n",
              "            + ' to learn more about interactive tables.';\n",
              "          element.innerHTML = '';\n",
              "          dataTable['output_type'] = 'display_data';\n",
              "          await google.colab.output.renderOutput(dataTable, element);\n",
              "          const docLink = document.createElement('div');\n",
              "          docLink.innerHTML = docLinkHtml;\n",
              "          element.appendChild(docLink);\n",
              "        }\n",
              "      </script>\n",
              "    </div>\n",
              "  </div>\n",
              "  "
            ]
          },
          "metadata": {},
          "execution_count": 79
        }
      ]
    },
    {
      "cell_type": "code",
      "source": [],
      "metadata": {
        "id": "79EE4dElaZLM"
      },
      "execution_count": null,
      "outputs": []
    },
    {
      "cell_type": "code",
      "source": [],
      "metadata": {
        "id": "7bO9mmKba4VE"
      },
      "execution_count": null,
      "outputs": []
    },
    {
      "cell_type": "code",
      "source": [],
      "metadata": {
        "id": "BDplyLXJa4bh"
      },
      "execution_count": null,
      "outputs": []
    },
    {
      "cell_type": "code",
      "source": [],
      "metadata": {
        "id": "rKNID7hfaZOV"
      },
      "execution_count": null,
      "outputs": []
    },
    {
      "cell_type": "code",
      "source": [
        "import pandas as pd\n",
        "recommendation_course_name = pd.DataFrame()\n",
        "recommendation_course_name['course_name'] =recommendation_2"
      ],
      "metadata": {
        "id": "pOMR4hHB0XAD"
      },
      "execution_count": null,
      "outputs": []
    },
    {
      "cell_type": "code",
      "source": [
        "recommendation_course_name"
      ],
      "metadata": {
        "id": "TTuj-6Yp0oTR",
        "colab": {
          "base_uri": "https://localhost:8080/",
          "height": 424
        },
        "outputId": "591f74e0-0f79-4750-bb36-04bf03bfc225"
      },
      "execution_count": null,
      "outputs": [
        {
          "output_type": "execute_result",
          "data": {
            "text/plain": [
              "                                            course_name\n",
              "0     [CaliRollB Introduction Machine Learning CaliR...\n",
              "1     [CaliRollB Introduction Deep Learning Neural N...\n",
              "2     [CaliRollB Whole genome sequencing bacterial g...\n",
              "3     [CaliRollB Deep Learning Reinforcement Learnin...\n",
              "4     [CaliRollB Introduction Deep Learning CaliRoll...\n",
              "...                                                 ...\n",
              "4364  [CaliRollB Global Adolescent Health CaliRollA ...\n",
              "4365  [CaliRollB The Science Training Young Athletes...\n",
              "4366  [CaliRollB Getting Started Mainframe z OS Comm...\n",
              "4367  [CaliRollB IBM z OS Rexx Programming CaliRollA...\n",
              "4368  [CaliRollB z OS System Services Structure Cali...\n",
              "\n",
              "[4369 rows x 1 columns]"
            ],
            "text/html": [
              "\n",
              "  <div id=\"df-c9500416-9f87-4bf3-a205-d3465193a82b\">\n",
              "    <div class=\"colab-df-container\">\n",
              "      <div>\n",
              "<style scoped>\n",
              "    .dataframe tbody tr th:only-of-type {\n",
              "        vertical-align: middle;\n",
              "    }\n",
              "\n",
              "    .dataframe tbody tr th {\n",
              "        vertical-align: top;\n",
              "    }\n",
              "\n",
              "    .dataframe thead th {\n",
              "        text-align: right;\n",
              "    }\n",
              "</style>\n",
              "<table border=\"1\" class=\"dataframe\">\n",
              "  <thead>\n",
              "    <tr style=\"text-align: right;\">\n",
              "      <th></th>\n",
              "      <th>course_name</th>\n",
              "    </tr>\n",
              "  </thead>\n",
              "  <tbody>\n",
              "    <tr>\n",
              "      <th>0</th>\n",
              "      <td>[CaliRollB Introduction Machine Learning CaliR...</td>\n",
              "    </tr>\n",
              "    <tr>\n",
              "      <th>1</th>\n",
              "      <td>[CaliRollB Introduction Deep Learning Neural N...</td>\n",
              "    </tr>\n",
              "    <tr>\n",
              "      <th>2</th>\n",
              "      <td>[CaliRollB Whole genome sequencing bacterial g...</td>\n",
              "    </tr>\n",
              "    <tr>\n",
              "      <th>3</th>\n",
              "      <td>[CaliRollB Deep Learning Reinforcement Learnin...</td>\n",
              "    </tr>\n",
              "    <tr>\n",
              "      <th>4</th>\n",
              "      <td>[CaliRollB Introduction Deep Learning CaliRoll...</td>\n",
              "    </tr>\n",
              "    <tr>\n",
              "      <th>...</th>\n",
              "      <td>...</td>\n",
              "    </tr>\n",
              "    <tr>\n",
              "      <th>4364</th>\n",
              "      <td>[CaliRollB Global Adolescent Health CaliRollA ...</td>\n",
              "    </tr>\n",
              "    <tr>\n",
              "      <th>4365</th>\n",
              "      <td>[CaliRollB The Science Training Young Athletes...</td>\n",
              "    </tr>\n",
              "    <tr>\n",
              "      <th>4366</th>\n",
              "      <td>[CaliRollB Getting Started Mainframe z OS Comm...</td>\n",
              "    </tr>\n",
              "    <tr>\n",
              "      <th>4367</th>\n",
              "      <td>[CaliRollB IBM z OS Rexx Programming CaliRollA...</td>\n",
              "    </tr>\n",
              "    <tr>\n",
              "      <th>4368</th>\n",
              "      <td>[CaliRollB z OS System Services Structure Cali...</td>\n",
              "    </tr>\n",
              "  </tbody>\n",
              "</table>\n",
              "<p>4369 rows × 1 columns</p>\n",
              "</div>\n",
              "      <button class=\"colab-df-convert\" onclick=\"convertToInteractive('df-c9500416-9f87-4bf3-a205-d3465193a82b')\"\n",
              "              title=\"Convert this dataframe to an interactive table.\"\n",
              "              style=\"display:none;\">\n",
              "        \n",
              "  <svg xmlns=\"http://www.w3.org/2000/svg\" height=\"24px\"viewBox=\"0 0 24 24\"\n",
              "       width=\"24px\">\n",
              "    <path d=\"M0 0h24v24H0V0z\" fill=\"none\"/>\n",
              "    <path d=\"M18.56 5.44l.94 2.06.94-2.06 2.06-.94-2.06-.94-.94-2.06-.94 2.06-2.06.94zm-11 1L8.5 8.5l.94-2.06 2.06-.94-2.06-.94L8.5 2.5l-.94 2.06-2.06.94zm10 10l.94 2.06.94-2.06 2.06-.94-2.06-.94-.94-2.06-.94 2.06-2.06.94z\"/><path d=\"M17.41 7.96l-1.37-1.37c-.4-.4-.92-.59-1.43-.59-.52 0-1.04.2-1.43.59L10.3 9.45l-7.72 7.72c-.78.78-.78 2.05 0 2.83L4 21.41c.39.39.9.59 1.41.59.51 0 1.02-.2 1.41-.59l7.78-7.78 2.81-2.81c.8-.78.8-2.07 0-2.86zM5.41 20L4 18.59l7.72-7.72 1.47 1.35L5.41 20z\"/>\n",
              "  </svg>\n",
              "      </button>\n",
              "      \n",
              "  <style>\n",
              "    .colab-df-container {\n",
              "      display:flex;\n",
              "      flex-wrap:wrap;\n",
              "      gap: 12px;\n",
              "    }\n",
              "\n",
              "    .colab-df-convert {\n",
              "      background-color: #E8F0FE;\n",
              "      border: none;\n",
              "      border-radius: 50%;\n",
              "      cursor: pointer;\n",
              "      display: none;\n",
              "      fill: #1967D2;\n",
              "      height: 32px;\n",
              "      padding: 0 0 0 0;\n",
              "      width: 32px;\n",
              "    }\n",
              "\n",
              "    .colab-df-convert:hover {\n",
              "      background-color: #E2EBFA;\n",
              "      box-shadow: 0px 1px 2px rgba(60, 64, 67, 0.3), 0px 1px 3px 1px rgba(60, 64, 67, 0.15);\n",
              "      fill: #174EA6;\n",
              "    }\n",
              "\n",
              "    [theme=dark] .colab-df-convert {\n",
              "      background-color: #3B4455;\n",
              "      fill: #D2E3FC;\n",
              "    }\n",
              "\n",
              "    [theme=dark] .colab-df-convert:hover {\n",
              "      background-color: #434B5C;\n",
              "      box-shadow: 0px 1px 3px 1px rgba(0, 0, 0, 0.15);\n",
              "      filter: drop-shadow(0px 1px 2px rgba(0, 0, 0, 0.3));\n",
              "      fill: #FFFFFF;\n",
              "    }\n",
              "  </style>\n",
              "\n",
              "      <script>\n",
              "        const buttonEl =\n",
              "          document.querySelector('#df-c9500416-9f87-4bf3-a205-d3465193a82b button.colab-df-convert');\n",
              "        buttonEl.style.display =\n",
              "          google.colab.kernel.accessAllowed ? 'block' : 'none';\n",
              "\n",
              "        async function convertToInteractive(key) {\n",
              "          const element = document.querySelector('#df-c9500416-9f87-4bf3-a205-d3465193a82b');\n",
              "          const dataTable =\n",
              "            await google.colab.kernel.invokeFunction('convertToInteractive',\n",
              "                                                     [key], {});\n",
              "          if (!dataTable) return;\n",
              "\n",
              "          const docLinkHtml = 'Like what you see? Visit the ' +\n",
              "            '<a target=\"_blank\" href=https://colab.research.google.com/notebooks/data_table.ipynb>data table notebook</a>'\n",
              "            + ' to learn more about interactive tables.';\n",
              "          element.innerHTML = '';\n",
              "          dataTable['output_type'] = 'display_data';\n",
              "          await google.colab.output.renderOutput(dataTable, element);\n",
              "          const docLink = document.createElement('div');\n",
              "          docLink.innerHTML = docLinkHtml;\n",
              "          element.appendChild(docLink);\n",
              "        }\n",
              "      </script>\n",
              "    </div>\n",
              "  </div>\n",
              "  "
            ]
          },
          "metadata": {},
          "execution_count": 78
        }
      ]
    },
    {
      "cell_type": "code",
      "source": [
        "recommendation_course_name['course_name'][:2]"
      ],
      "metadata": {
        "id": "kWimn2TL36GH",
        "colab": {
          "base_uri": "https://localhost:8080/"
        },
        "outputId": "0ffc97e4-bbcf-4656-f1a3-24875cedcfef"
      },
      "execution_count": null,
      "outputs": [
        {
          "output_type": "execute_result",
          "data": {
            "text/plain": [
              "0    [CaliRollB Introduction Machine Learning CaliR...\n",
              "1    [CaliRollB Introduction Deep Learning Neural N...\n",
              "Name: course_name, dtype: object"
            ]
          },
          "metadata": {},
          "execution_count": 79
        }
      ]
    },
    {
      "cell_type": "code",
      "source": [
        "import re\n",
        "try :\n",
        "    # here ; and / are our two markers \n",
        "    # in which string can be found. \n",
        "    marker1 = 'CaliRollB'\n",
        "    marker2 = 'CaliRollA'\n",
        "    regexPattern = marker1 + '(.+?)' + marker2\n",
        "    str_found = re.search(regexPattern, str(recommendation_course_name['course_name'][0])).group(1)\n",
        "except AttributeError:\n",
        "    # Attribute error is expected if string \n",
        "    # is not found between given markers\n",
        "    str_found = ' '\n",
        "print(str_found)"
      ],
      "metadata": {
        "id": "_lABl8vP30ww",
        "colab": {
          "base_uri": "https://localhost:8080/"
        },
        "outputId": "f7ef1915-a6d1-4d33-b151-13fd2a08dc0f"
      },
      "execution_count": null,
      "outputs": [
        {
          "output_type": "stream",
          "name": "stdout",
          "text": [
            " Introduction Machine Learning \n"
          ]
        }
      ]
    },
    {
      "cell_type": "code",
      "source": [
        "str_found_list = []\n",
        "for i in range(len(recommendation_course_name)):\n",
        "  try :\n",
        "    # here ; and / are our two markers \n",
        "    # in which string can be found. \n",
        "    marker1 = 'CaliRollB'\n",
        "    marker2 = 'CaliRollA'\n",
        "    regexPattern = marker1 + '(.+?)' + marker2\n",
        "    str_found = re.search(regexPattern, str(recommendation_course_name['course_name'][i])).group(1)\n",
        "  except AttributeError:\n",
        "    # Attribute error is expected if string \n",
        "    # is not found between given markers\n",
        "    str_found = ' '\n",
        "  str_found_list.append(str_found)\n"
      ],
      "metadata": {
        "id": "xvU9Afag06re"
      },
      "execution_count": null,
      "outputs": []
    },
    {
      "cell_type": "code",
      "source": [
        "str_found_list[:5]"
      ],
      "metadata": {
        "id": "P7VmrOZJ48_f",
        "colab": {
          "base_uri": "https://localhost:8080/"
        },
        "outputId": "02054430-90b1-43de-e3a4-b518e711ae06"
      },
      "execution_count": null,
      "outputs": [
        {
          "output_type": "execute_result",
          "data": {
            "text/plain": [
              "[' Introduction Machine Learning ',\n",
              " ' Introduction Deep Learning Neural Networks Keras ',\n",
              " ' Whole genome sequencing bacterial genomes tools applications ',\n",
              " ' Deep Learning Reinforcement Learning ',\n",
              " ' Introduction Deep Learning ']"
            ]
          },
          "metadata": {},
          "execution_count": 82
        }
      ]
    },
    {
      "cell_type": "code",
      "source": [
        "reco_course_list = pd.DataFrame()\n",
        "reco_course_list['course_name'] = str_found_list"
      ],
      "metadata": {
        "id": "7tNBaBjD4-im"
      },
      "execution_count": null,
      "outputs": []
    },
    {
      "cell_type": "code",
      "source": [
        "reco_course_list"
      ],
      "metadata": {
        "id": "cFuD9JTh5T4s",
        "colab": {
          "base_uri": "https://localhost:8080/",
          "height": 424
        },
        "outputId": "5ba079bc-a7a7-457c-eb85-4de5587365a8"
      },
      "execution_count": null,
      "outputs": [
        {
          "output_type": "execute_result",
          "data": {
            "text/plain": [
              "                                            course_name\n",
              "0                        Introduction Machine Learning \n",
              "1      Introduction Deep Learning Neural Networks Ke...\n",
              "2      Whole genome sequencing bacterial genomes too...\n",
              "3                 Deep Learning Reinforcement Learning \n",
              "4                           Introduction Deep Learning \n",
              "...                                                 ...\n",
              "4364                          Global Adolescent Health \n",
              "4365               The Science Training Young Athletes \n",
              "4366    Getting Started Mainframe z OS Commands Panels \n",
              "4367                         IBM z OS Rexx Programming \n",
              "4368                    z OS System Services Structure \n",
              "\n",
              "[4369 rows x 1 columns]"
            ],
            "text/html": [
              "\n",
              "  <div id=\"df-0abed81b-cd06-4b76-9ef5-7b2e333eefb5\">\n",
              "    <div class=\"colab-df-container\">\n",
              "      <div>\n",
              "<style scoped>\n",
              "    .dataframe tbody tr th:only-of-type {\n",
              "        vertical-align: middle;\n",
              "    }\n",
              "\n",
              "    .dataframe tbody tr th {\n",
              "        vertical-align: top;\n",
              "    }\n",
              "\n",
              "    .dataframe thead th {\n",
              "        text-align: right;\n",
              "    }\n",
              "</style>\n",
              "<table border=\"1\" class=\"dataframe\">\n",
              "  <thead>\n",
              "    <tr style=\"text-align: right;\">\n",
              "      <th></th>\n",
              "      <th>course_name</th>\n",
              "    </tr>\n",
              "  </thead>\n",
              "  <tbody>\n",
              "    <tr>\n",
              "      <th>0</th>\n",
              "      <td>Introduction Machine Learning</td>\n",
              "    </tr>\n",
              "    <tr>\n",
              "      <th>1</th>\n",
              "      <td>Introduction Deep Learning Neural Networks Ke...</td>\n",
              "    </tr>\n",
              "    <tr>\n",
              "      <th>2</th>\n",
              "      <td>Whole genome sequencing bacterial genomes too...</td>\n",
              "    </tr>\n",
              "    <tr>\n",
              "      <th>3</th>\n",
              "      <td>Deep Learning Reinforcement Learning</td>\n",
              "    </tr>\n",
              "    <tr>\n",
              "      <th>4</th>\n",
              "      <td>Introduction Deep Learning</td>\n",
              "    </tr>\n",
              "    <tr>\n",
              "      <th>...</th>\n",
              "      <td>...</td>\n",
              "    </tr>\n",
              "    <tr>\n",
              "      <th>4364</th>\n",
              "      <td>Global Adolescent Health</td>\n",
              "    </tr>\n",
              "    <tr>\n",
              "      <th>4365</th>\n",
              "      <td>The Science Training Young Athletes</td>\n",
              "    </tr>\n",
              "    <tr>\n",
              "      <th>4366</th>\n",
              "      <td>Getting Started Mainframe z OS Commands Panels</td>\n",
              "    </tr>\n",
              "    <tr>\n",
              "      <th>4367</th>\n",
              "      <td>IBM z OS Rexx Programming</td>\n",
              "    </tr>\n",
              "    <tr>\n",
              "      <th>4368</th>\n",
              "      <td>z OS System Services Structure</td>\n",
              "    </tr>\n",
              "  </tbody>\n",
              "</table>\n",
              "<p>4369 rows × 1 columns</p>\n",
              "</div>\n",
              "      <button class=\"colab-df-convert\" onclick=\"convertToInteractive('df-0abed81b-cd06-4b76-9ef5-7b2e333eefb5')\"\n",
              "              title=\"Convert this dataframe to an interactive table.\"\n",
              "              style=\"display:none;\">\n",
              "        \n",
              "  <svg xmlns=\"http://www.w3.org/2000/svg\" height=\"24px\"viewBox=\"0 0 24 24\"\n",
              "       width=\"24px\">\n",
              "    <path d=\"M0 0h24v24H0V0z\" fill=\"none\"/>\n",
              "    <path d=\"M18.56 5.44l.94 2.06.94-2.06 2.06-.94-2.06-.94-.94-2.06-.94 2.06-2.06.94zm-11 1L8.5 8.5l.94-2.06 2.06-.94-2.06-.94L8.5 2.5l-.94 2.06-2.06.94zm10 10l.94 2.06.94-2.06 2.06-.94-2.06-.94-.94-2.06-.94 2.06-2.06.94z\"/><path d=\"M17.41 7.96l-1.37-1.37c-.4-.4-.92-.59-1.43-.59-.52 0-1.04.2-1.43.59L10.3 9.45l-7.72 7.72c-.78.78-.78 2.05 0 2.83L4 21.41c.39.39.9.59 1.41.59.51 0 1.02-.2 1.41-.59l7.78-7.78 2.81-2.81c.8-.78.8-2.07 0-2.86zM5.41 20L4 18.59l7.72-7.72 1.47 1.35L5.41 20z\"/>\n",
              "  </svg>\n",
              "      </button>\n",
              "      \n",
              "  <style>\n",
              "    .colab-df-container {\n",
              "      display:flex;\n",
              "      flex-wrap:wrap;\n",
              "      gap: 12px;\n",
              "    }\n",
              "\n",
              "    .colab-df-convert {\n",
              "      background-color: #E8F0FE;\n",
              "      border: none;\n",
              "      border-radius: 50%;\n",
              "      cursor: pointer;\n",
              "      display: none;\n",
              "      fill: #1967D2;\n",
              "      height: 32px;\n",
              "      padding: 0 0 0 0;\n",
              "      width: 32px;\n",
              "    }\n",
              "\n",
              "    .colab-df-convert:hover {\n",
              "      background-color: #E2EBFA;\n",
              "      box-shadow: 0px 1px 2px rgba(60, 64, 67, 0.3), 0px 1px 3px 1px rgba(60, 64, 67, 0.15);\n",
              "      fill: #174EA6;\n",
              "    }\n",
              "\n",
              "    [theme=dark] .colab-df-convert {\n",
              "      background-color: #3B4455;\n",
              "      fill: #D2E3FC;\n",
              "    }\n",
              "\n",
              "    [theme=dark] .colab-df-convert:hover {\n",
              "      background-color: #434B5C;\n",
              "      box-shadow: 0px 1px 3px 1px rgba(0, 0, 0, 0.15);\n",
              "      filter: drop-shadow(0px 1px 2px rgba(0, 0, 0, 0.3));\n",
              "      fill: #FFFFFF;\n",
              "    }\n",
              "  </style>\n",
              "\n",
              "      <script>\n",
              "        const buttonEl =\n",
              "          document.querySelector('#df-0abed81b-cd06-4b76-9ef5-7b2e333eefb5 button.colab-df-convert');\n",
              "        buttonEl.style.display =\n",
              "          google.colab.kernel.accessAllowed ? 'block' : 'none';\n",
              "\n",
              "        async function convertToInteractive(key) {\n",
              "          const element = document.querySelector('#df-0abed81b-cd06-4b76-9ef5-7b2e333eefb5');\n",
              "          const dataTable =\n",
              "            await google.colab.kernel.invokeFunction('convertToInteractive',\n",
              "                                                     [key], {});\n",
              "          if (!dataTable) return;\n",
              "\n",
              "          const docLinkHtml = 'Like what you see? Visit the ' +\n",
              "            '<a target=\"_blank\" href=https://colab.research.google.com/notebooks/data_table.ipynb>data table notebook</a>'\n",
              "            + ' to learn more about interactive tables.';\n",
              "          element.innerHTML = '';\n",
              "          dataTable['output_type'] = 'display_data';\n",
              "          await google.colab.output.renderOutput(dataTable, element);\n",
              "          const docLink = document.createElement('div');\n",
              "          docLink.innerHTML = docLinkHtml;\n",
              "          element.appendChild(docLink);\n",
              "        }\n",
              "      </script>\n",
              "    </div>\n",
              "  </div>\n",
              "  "
            ]
          },
          "metadata": {},
          "execution_count": 84
        }
      ]
    },
    {
      "cell_type": "code",
      "source": [],
      "metadata": {
        "id": "k9H4Y_8S5WEM"
      },
      "execution_count": null,
      "outputs": []
    }
  ]
}