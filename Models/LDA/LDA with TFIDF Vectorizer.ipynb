{
  "nbformat": 4,
  "nbformat_minor": 0,
  "metadata": {
    "colab": {
      "provenance": []
    },
    "kernelspec": {
      "name": "python3",
      "display_name": "Python 3"
    },
    "language_info": {
      "name": "python"
    }
  },
  "cells": [
    {
      "cell_type": "markdown",
      "source": [
        "### Import Modules"
      ],
      "metadata": {
        "id": "xZ4pH6EB-xzn"
      }
    },
    {
      "cell_type": "code",
      "execution_count": null,
      "metadata": {
        "id": "2QpdYRku8OXI"
      },
      "outputs": [],
      "source": [
        "import pandas as pd\n",
        "import numpy as np\n",
        "import seaborn as sns\n",
        "import matplotlib.pyplot as plt"
      ]
    },
    {
      "cell_type": "code",
      "source": [
        "pd.set_option('display.max_rows', 500)\n",
        "pd.set_option('display.max_columns', 500)\n",
        "pd.set_option('display.width', 1000)"
      ],
      "metadata": {
        "id": "PkDHMEFe9HTV"
      },
      "execution_count": null,
      "outputs": []
    },
    {
      "cell_type": "code",
      "source": [
        "from google.colab import drive\n",
        "drive.mount('/content/drive')"
      ],
      "metadata": {
        "colab": {
          "base_uri": "https://localhost:8080/"
        },
        "id": "LJBmXrt8-y2J",
        "outputId": "11f271aa-2513-4166-b845-6b50f2335066"
      },
      "execution_count": null,
      "outputs": [
        {
          "output_type": "stream",
          "name": "stdout",
          "text": [
            "Mounted at /content/drive\n"
          ]
        }
      ]
    },
    {
      "cell_type": "code",
      "source": [
        "coursedata = pd.read_csv(\"/content/drive/MyDrive/DSCI:560 Project/Datasets/coursera_data_course_level.csv\")\n",
        "coursedata.head()"
      ],
      "metadata": {
        "colab": {
          "base_uri": "https://localhost:8080/",
          "height": 635
        },
        "id": "aog0h36L8Z-O",
        "outputId": "6d23e32c-ec1e-492f-b38b-3d9a7c1f44e2"
      },
      "execution_count": null,
      "outputs": [
        {
          "output_type": "execute_result",
          "data": {
            "text/plain": [
              "                                      course_title difficulty_level                      duration                                             skills                       instructors                                        description      rating                                  offered_by language                                   syllabus_heading                                   syllabus_details\n",
              "0                 Cloud Computing Concepts, Part 1   Beginner Level  Approx. 23 hours to complete  ['Distributed Algorithm', 'Distributed Computi...                ['Indranil Gupta']  Cloud computing systems today, whether open-so...  4.4\\nstars  University of Illinois at Urbana-Champaign  English  ['Week 1: Orientation, Introduction to Clouds,...  ['This course is oriented towards learners wit...\n",
              "1                  The Challenges of Global Health   Beginner Level  Approx. 20 hours to complete                                                 []                ['Dr. David Boyd']  What are the world’s major health challenges? ...  4.8\\nstars                             Duke University  English  ['Getting Started', 'Basic Concepts in Global ...  ['Start here! ', 'This module covers some of t...\n",
              "2            Digital Marketing Analytics in Theory   Beginner Level  Approx. 20 hours to complete  ['Digital Marketing', 'Data Collection', 'Anal...                 ['Kevin Hartman']  Successfully marketing brands today requires a...  4.5\\nstars  University of Illinois at Urbana-Champaign  English  ['Course Overview and The Day The Geeks Took O...  ['In the orientation, you will become familiar...\n",
              "3  Digital Product Management: Modern Fundamentals   Beginner Level  Approx. 11 hours to complete  ['Product/Market Fit', 'Product Management', '...                    ['Alex Cowan']  Not so long ago, the job of product manager wa...  4.7\\nstars                      University of Virginia  English  ['Achieving Focus and #Winning', \"Using Today'...  ['As a product manager, you and your team will...\n",
              "4                             The Nature of Genius   Beginner Level  Approx. 28 hours to complete  ['Creativity', 'Art', 'History', 'Psychology',...  ['Craig Wright\\nTOP INSTRUCTOR']  Today \"genius\" is all around us. Celebrities, ...         NaN                             Yale University  English  ['Genius Defined,   Genius Denied ,  Genius an...  ['In Section 1 of Module 1 we determine, jokin..."
            ],
            "text/html": [
              "\n",
              "  <div id=\"df-d73022d0-89b1-4a55-9a02-5e9d22bce33a\">\n",
              "    <div class=\"colab-df-container\">\n",
              "      <div>\n",
              "<style scoped>\n",
              "    .dataframe tbody tr th:only-of-type {\n",
              "        vertical-align: middle;\n",
              "    }\n",
              "\n",
              "    .dataframe tbody tr th {\n",
              "        vertical-align: top;\n",
              "    }\n",
              "\n",
              "    .dataframe thead th {\n",
              "        text-align: right;\n",
              "    }\n",
              "</style>\n",
              "<table border=\"1\" class=\"dataframe\">\n",
              "  <thead>\n",
              "    <tr style=\"text-align: right;\">\n",
              "      <th></th>\n",
              "      <th>course_title</th>\n",
              "      <th>difficulty_level</th>\n",
              "      <th>duration</th>\n",
              "      <th>skills</th>\n",
              "      <th>instructors</th>\n",
              "      <th>description</th>\n",
              "      <th>rating</th>\n",
              "      <th>offered_by</th>\n",
              "      <th>language</th>\n",
              "      <th>syllabus_heading</th>\n",
              "      <th>syllabus_details</th>\n",
              "    </tr>\n",
              "  </thead>\n",
              "  <tbody>\n",
              "    <tr>\n",
              "      <th>0</th>\n",
              "      <td>Cloud Computing Concepts, Part 1</td>\n",
              "      <td>Beginner Level</td>\n",
              "      <td>Approx. 23 hours to complete</td>\n",
              "      <td>['Distributed Algorithm', 'Distributed Computi...</td>\n",
              "      <td>['Indranil Gupta']</td>\n",
              "      <td>Cloud computing systems today, whether open-so...</td>\n",
              "      <td>4.4\\nstars</td>\n",
              "      <td>University of Illinois at Urbana-Champaign</td>\n",
              "      <td>English</td>\n",
              "      <td>['Week 1: Orientation, Introduction to Clouds,...</td>\n",
              "      <td>['This course is oriented towards learners wit...</td>\n",
              "    </tr>\n",
              "    <tr>\n",
              "      <th>1</th>\n",
              "      <td>The Challenges of Global Health</td>\n",
              "      <td>Beginner Level</td>\n",
              "      <td>Approx. 20 hours to complete</td>\n",
              "      <td>[]</td>\n",
              "      <td>['Dr. David Boyd']</td>\n",
              "      <td>What are the world’s major health challenges? ...</td>\n",
              "      <td>4.8\\nstars</td>\n",
              "      <td>Duke University</td>\n",
              "      <td>English</td>\n",
              "      <td>['Getting Started', 'Basic Concepts in Global ...</td>\n",
              "      <td>['Start here! ', 'This module covers some of t...</td>\n",
              "    </tr>\n",
              "    <tr>\n",
              "      <th>2</th>\n",
              "      <td>Digital Marketing Analytics in Theory</td>\n",
              "      <td>Beginner Level</td>\n",
              "      <td>Approx. 20 hours to complete</td>\n",
              "      <td>['Digital Marketing', 'Data Collection', 'Anal...</td>\n",
              "      <td>['Kevin Hartman']</td>\n",
              "      <td>Successfully marketing brands today requires a...</td>\n",
              "      <td>4.5\\nstars</td>\n",
              "      <td>University of Illinois at Urbana-Champaign</td>\n",
              "      <td>English</td>\n",
              "      <td>['Course Overview and The Day The Geeks Took O...</td>\n",
              "      <td>['In the orientation, you will become familiar...</td>\n",
              "    </tr>\n",
              "    <tr>\n",
              "      <th>3</th>\n",
              "      <td>Digital Product Management: Modern Fundamentals</td>\n",
              "      <td>Beginner Level</td>\n",
              "      <td>Approx. 11 hours to complete</td>\n",
              "      <td>['Product/Market Fit', 'Product Management', '...</td>\n",
              "      <td>['Alex Cowan']</td>\n",
              "      <td>Not so long ago, the job of product manager wa...</td>\n",
              "      <td>4.7\\nstars</td>\n",
              "      <td>University of Virginia</td>\n",
              "      <td>English</td>\n",
              "      <td>['Achieving Focus and #Winning', \"Using Today'...</td>\n",
              "      <td>['As a product manager, you and your team will...</td>\n",
              "    </tr>\n",
              "    <tr>\n",
              "      <th>4</th>\n",
              "      <td>The Nature of Genius</td>\n",
              "      <td>Beginner Level</td>\n",
              "      <td>Approx. 28 hours to complete</td>\n",
              "      <td>['Creativity', 'Art', 'History', 'Psychology',...</td>\n",
              "      <td>['Craig Wright\\nTOP INSTRUCTOR']</td>\n",
              "      <td>Today \"genius\" is all around us. Celebrities, ...</td>\n",
              "      <td>NaN</td>\n",
              "      <td>Yale University</td>\n",
              "      <td>English</td>\n",
              "      <td>['Genius Defined,   Genius Denied ,  Genius an...</td>\n",
              "      <td>['In Section 1 of Module 1 we determine, jokin...</td>\n",
              "    </tr>\n",
              "  </tbody>\n",
              "</table>\n",
              "</div>\n",
              "      <button class=\"colab-df-convert\" onclick=\"convertToInteractive('df-d73022d0-89b1-4a55-9a02-5e9d22bce33a')\"\n",
              "              title=\"Convert this dataframe to an interactive table.\"\n",
              "              style=\"display:none;\">\n",
              "        \n",
              "  <svg xmlns=\"http://www.w3.org/2000/svg\" height=\"24px\"viewBox=\"0 0 24 24\"\n",
              "       width=\"24px\">\n",
              "    <path d=\"M0 0h24v24H0V0z\" fill=\"none\"/>\n",
              "    <path d=\"M18.56 5.44l.94 2.06.94-2.06 2.06-.94-2.06-.94-.94-2.06-.94 2.06-2.06.94zm-11 1L8.5 8.5l.94-2.06 2.06-.94-2.06-.94L8.5 2.5l-.94 2.06-2.06.94zm10 10l.94 2.06.94-2.06 2.06-.94-2.06-.94-.94-2.06-.94 2.06-2.06.94z\"/><path d=\"M17.41 7.96l-1.37-1.37c-.4-.4-.92-.59-1.43-.59-.52 0-1.04.2-1.43.59L10.3 9.45l-7.72 7.72c-.78.78-.78 2.05 0 2.83L4 21.41c.39.39.9.59 1.41.59.51 0 1.02-.2 1.41-.59l7.78-7.78 2.81-2.81c.8-.78.8-2.07 0-2.86zM5.41 20L4 18.59l7.72-7.72 1.47 1.35L5.41 20z\"/>\n",
              "  </svg>\n",
              "      </button>\n",
              "      \n",
              "  <style>\n",
              "    .colab-df-container {\n",
              "      display:flex;\n",
              "      flex-wrap:wrap;\n",
              "      gap: 12px;\n",
              "    }\n",
              "\n",
              "    .colab-df-convert {\n",
              "      background-color: #E8F0FE;\n",
              "      border: none;\n",
              "      border-radius: 50%;\n",
              "      cursor: pointer;\n",
              "      display: none;\n",
              "      fill: #1967D2;\n",
              "      height: 32px;\n",
              "      padding: 0 0 0 0;\n",
              "      width: 32px;\n",
              "    }\n",
              "\n",
              "    .colab-df-convert:hover {\n",
              "      background-color: #E2EBFA;\n",
              "      box-shadow: 0px 1px 2px rgba(60, 64, 67, 0.3), 0px 1px 3px 1px rgba(60, 64, 67, 0.15);\n",
              "      fill: #174EA6;\n",
              "    }\n",
              "\n",
              "    [theme=dark] .colab-df-convert {\n",
              "      background-color: #3B4455;\n",
              "      fill: #D2E3FC;\n",
              "    }\n",
              "\n",
              "    [theme=dark] .colab-df-convert:hover {\n",
              "      background-color: #434B5C;\n",
              "      box-shadow: 0px 1px 3px 1px rgba(0, 0, 0, 0.15);\n",
              "      filter: drop-shadow(0px 1px 2px rgba(0, 0, 0, 0.3));\n",
              "      fill: #FFFFFF;\n",
              "    }\n",
              "  </style>\n",
              "\n",
              "      <script>\n",
              "        const buttonEl =\n",
              "          document.querySelector('#df-d73022d0-89b1-4a55-9a02-5e9d22bce33a button.colab-df-convert');\n",
              "        buttonEl.style.display =\n",
              "          google.colab.kernel.accessAllowed ? 'block' : 'none';\n",
              "\n",
              "        async function convertToInteractive(key) {\n",
              "          const element = document.querySelector('#df-d73022d0-89b1-4a55-9a02-5e9d22bce33a');\n",
              "          const dataTable =\n",
              "            await google.colab.kernel.invokeFunction('convertToInteractive',\n",
              "                                                     [key], {});\n",
              "          if (!dataTable) return;\n",
              "\n",
              "          const docLinkHtml = 'Like what you see? Visit the ' +\n",
              "            '<a target=\"_blank\" href=https://colab.research.google.com/notebooks/data_table.ipynb>data table notebook</a>'\n",
              "            + ' to learn more about interactive tables.';\n",
              "          element.innerHTML = '';\n",
              "          dataTable['output_type'] = 'display_data';\n",
              "          await google.colab.output.renderOutput(dataTable, element);\n",
              "          const docLink = document.createElement('div');\n",
              "          docLink.innerHTML = docLinkHtml;\n",
              "          element.appendChild(docLink);\n",
              "        }\n",
              "      </script>\n",
              "    </div>\n",
              "  </div>\n",
              "  "
            ]
          },
          "metadata": {},
          "execution_count": 4
        }
      ]
    },
    {
      "cell_type": "markdown",
      "source": [
        "### Data Summary\n"
      ],
      "metadata": {
        "id": "RouBIQcA_JpD"
      }
    },
    {
      "cell_type": "code",
      "source": [
        "coursedata.info()"
      ],
      "metadata": {
        "colab": {
          "base_uri": "https://localhost:8080/"
        },
        "id": "o5RnFfw19VG4",
        "outputId": "4decee87-87bd-4b63-9659-dcd2913414f2"
      },
      "execution_count": null,
      "outputs": [
        {
          "output_type": "stream",
          "name": "stdout",
          "text": [
            "<class 'pandas.core.frame.DataFrame'>\n",
            "RangeIndex: 6636 entries, 0 to 6635\n",
            "Data columns (total 11 columns):\n",
            " #   Column            Non-Null Count  Dtype \n",
            "---  ------            --------------  ----- \n",
            " 0   course_title      6134 non-null   object\n",
            " 1   difficulty_level  4736 non-null   object\n",
            " 2   duration          6096 non-null   object\n",
            " 3   skills            6636 non-null   object\n",
            " 4   instructors       6636 non-null   object\n",
            " 5   description       6635 non-null   object\n",
            " 6   rating            4651 non-null   object\n",
            " 7   offered_by        6636 non-null   object\n",
            " 8   language          6636 non-null   object\n",
            " 9   syllabus_heading  6636 non-null   object\n",
            " 10  syllabus_details  6636 non-null   object\n",
            "dtypes: object(11)\n",
            "memory usage: 570.4+ KB\n"
          ]
        }
      ]
    },
    {
      "cell_type": "code",
      "source": [
        "coursedata.describe()"
      ],
      "metadata": {
        "colab": {
          "base_uri": "https://localhost:8080/",
          "height": 308
        },
        "id": "TmFfnQY681dq",
        "outputId": "8103ac6e-950e-4e8f-ebd3-3bf791836dcf"
      },
      "execution_count": null,
      "outputs": [
        {
          "output_type": "execute_result",
          "data": {
            "text/plain": [
              "       course_title difficulty_level                      duration skills instructors                                        description      rating    offered_by language syllabus_heading syllabus_details\n",
              "count          6134             4736                          6096   6636        6636                                               6635        4651          6636     6636             6636             6636\n",
              "unique         6117                3                            85   2990        3159                                               6126          21           261       21             5943             5440\n",
              "top      Leadership   Beginner Level  Approx. 12 hours to complete     []          []  We help millions of organizations empower thei...  4.8\\nstars  Google Cloud  English               []               []\n",
              "freq              3             3057                           330   3437         504                                                502        1186           739     4824              540              539"
            ],
            "text/html": [
              "\n",
              "  <div id=\"df-8c82517b-47fb-4de5-b216-b0082a165583\">\n",
              "    <div class=\"colab-df-container\">\n",
              "      <div>\n",
              "<style scoped>\n",
              "    .dataframe tbody tr th:only-of-type {\n",
              "        vertical-align: middle;\n",
              "    }\n",
              "\n",
              "    .dataframe tbody tr th {\n",
              "        vertical-align: top;\n",
              "    }\n",
              "\n",
              "    .dataframe thead th {\n",
              "        text-align: right;\n",
              "    }\n",
              "</style>\n",
              "<table border=\"1\" class=\"dataframe\">\n",
              "  <thead>\n",
              "    <tr style=\"text-align: right;\">\n",
              "      <th></th>\n",
              "      <th>course_title</th>\n",
              "      <th>difficulty_level</th>\n",
              "      <th>duration</th>\n",
              "      <th>skills</th>\n",
              "      <th>instructors</th>\n",
              "      <th>description</th>\n",
              "      <th>rating</th>\n",
              "      <th>offered_by</th>\n",
              "      <th>language</th>\n",
              "      <th>syllabus_heading</th>\n",
              "      <th>syllabus_details</th>\n",
              "    </tr>\n",
              "  </thead>\n",
              "  <tbody>\n",
              "    <tr>\n",
              "      <th>count</th>\n",
              "      <td>6134</td>\n",
              "      <td>4736</td>\n",
              "      <td>6096</td>\n",
              "      <td>6636</td>\n",
              "      <td>6636</td>\n",
              "      <td>6635</td>\n",
              "      <td>4651</td>\n",
              "      <td>6636</td>\n",
              "      <td>6636</td>\n",
              "      <td>6636</td>\n",
              "      <td>6636</td>\n",
              "    </tr>\n",
              "    <tr>\n",
              "      <th>unique</th>\n",
              "      <td>6117</td>\n",
              "      <td>3</td>\n",
              "      <td>85</td>\n",
              "      <td>2990</td>\n",
              "      <td>3159</td>\n",
              "      <td>6126</td>\n",
              "      <td>21</td>\n",
              "      <td>261</td>\n",
              "      <td>21</td>\n",
              "      <td>5943</td>\n",
              "      <td>5440</td>\n",
              "    </tr>\n",
              "    <tr>\n",
              "      <th>top</th>\n",
              "      <td>Leadership</td>\n",
              "      <td>Beginner Level</td>\n",
              "      <td>Approx. 12 hours to complete</td>\n",
              "      <td>[]</td>\n",
              "      <td>[]</td>\n",
              "      <td>We help millions of organizations empower thei...</td>\n",
              "      <td>4.8\\nstars</td>\n",
              "      <td>Google Cloud</td>\n",
              "      <td>English</td>\n",
              "      <td>[]</td>\n",
              "      <td>[]</td>\n",
              "    </tr>\n",
              "    <tr>\n",
              "      <th>freq</th>\n",
              "      <td>3</td>\n",
              "      <td>3057</td>\n",
              "      <td>330</td>\n",
              "      <td>3437</td>\n",
              "      <td>504</td>\n",
              "      <td>502</td>\n",
              "      <td>1186</td>\n",
              "      <td>739</td>\n",
              "      <td>4824</td>\n",
              "      <td>540</td>\n",
              "      <td>539</td>\n",
              "    </tr>\n",
              "  </tbody>\n",
              "</table>\n",
              "</div>\n",
              "      <button class=\"colab-df-convert\" onclick=\"convertToInteractive('df-8c82517b-47fb-4de5-b216-b0082a165583')\"\n",
              "              title=\"Convert this dataframe to an interactive table.\"\n",
              "              style=\"display:none;\">\n",
              "        \n",
              "  <svg xmlns=\"http://www.w3.org/2000/svg\" height=\"24px\"viewBox=\"0 0 24 24\"\n",
              "       width=\"24px\">\n",
              "    <path d=\"M0 0h24v24H0V0z\" fill=\"none\"/>\n",
              "    <path d=\"M18.56 5.44l.94 2.06.94-2.06 2.06-.94-2.06-.94-.94-2.06-.94 2.06-2.06.94zm-11 1L8.5 8.5l.94-2.06 2.06-.94-2.06-.94L8.5 2.5l-.94 2.06-2.06.94zm10 10l.94 2.06.94-2.06 2.06-.94-2.06-.94-.94-2.06-.94 2.06-2.06.94z\"/><path d=\"M17.41 7.96l-1.37-1.37c-.4-.4-.92-.59-1.43-.59-.52 0-1.04.2-1.43.59L10.3 9.45l-7.72 7.72c-.78.78-.78 2.05 0 2.83L4 21.41c.39.39.9.59 1.41.59.51 0 1.02-.2 1.41-.59l7.78-7.78 2.81-2.81c.8-.78.8-2.07 0-2.86zM5.41 20L4 18.59l7.72-7.72 1.47 1.35L5.41 20z\"/>\n",
              "  </svg>\n",
              "      </button>\n",
              "      \n",
              "  <style>\n",
              "    .colab-df-container {\n",
              "      display:flex;\n",
              "      flex-wrap:wrap;\n",
              "      gap: 12px;\n",
              "    }\n",
              "\n",
              "    .colab-df-convert {\n",
              "      background-color: #E8F0FE;\n",
              "      border: none;\n",
              "      border-radius: 50%;\n",
              "      cursor: pointer;\n",
              "      display: none;\n",
              "      fill: #1967D2;\n",
              "      height: 32px;\n",
              "      padding: 0 0 0 0;\n",
              "      width: 32px;\n",
              "    }\n",
              "\n",
              "    .colab-df-convert:hover {\n",
              "      background-color: #E2EBFA;\n",
              "      box-shadow: 0px 1px 2px rgba(60, 64, 67, 0.3), 0px 1px 3px 1px rgba(60, 64, 67, 0.15);\n",
              "      fill: #174EA6;\n",
              "    }\n",
              "\n",
              "    [theme=dark] .colab-df-convert {\n",
              "      background-color: #3B4455;\n",
              "      fill: #D2E3FC;\n",
              "    }\n",
              "\n",
              "    [theme=dark] .colab-df-convert:hover {\n",
              "      background-color: #434B5C;\n",
              "      box-shadow: 0px 1px 3px 1px rgba(0, 0, 0, 0.15);\n",
              "      filter: drop-shadow(0px 1px 2px rgba(0, 0, 0, 0.3));\n",
              "      fill: #FFFFFF;\n",
              "    }\n",
              "  </style>\n",
              "\n",
              "      <script>\n",
              "        const buttonEl =\n",
              "          document.querySelector('#df-8c82517b-47fb-4de5-b216-b0082a165583 button.colab-df-convert');\n",
              "        buttonEl.style.display =\n",
              "          google.colab.kernel.accessAllowed ? 'block' : 'none';\n",
              "\n",
              "        async function convertToInteractive(key) {\n",
              "          const element = document.querySelector('#df-8c82517b-47fb-4de5-b216-b0082a165583');\n",
              "          const dataTable =\n",
              "            await google.colab.kernel.invokeFunction('convertToInteractive',\n",
              "                                                     [key], {});\n",
              "          if (!dataTable) return;\n",
              "\n",
              "          const docLinkHtml = 'Like what you see? Visit the ' +\n",
              "            '<a target=\"_blank\" href=https://colab.research.google.com/notebooks/data_table.ipynb>data table notebook</a>'\n",
              "            + ' to learn more about interactive tables.';\n",
              "          element.innerHTML = '';\n",
              "          dataTable['output_type'] = 'display_data';\n",
              "          await google.colab.output.renderOutput(dataTable, element);\n",
              "          const docLink = document.createElement('div');\n",
              "          docLink.innerHTML = docLinkHtml;\n",
              "          element.appendChild(docLink);\n",
              "        }\n",
              "      </script>\n",
              "    </div>\n",
              "  </div>\n",
              "  "
            ]
          },
          "metadata": {},
          "execution_count": 6
        }
      ]
    },
    {
      "cell_type": "code",
      "source": [
        "coursedata.columns"
      ],
      "metadata": {
        "colab": {
          "base_uri": "https://localhost:8080/"
        },
        "id": "-ARVaq8W-qok",
        "outputId": "6000ff8c-c35b-4018-a09d-eaf8c5e691ee"
      },
      "execution_count": null,
      "outputs": [
        {
          "output_type": "execute_result",
          "data": {
            "text/plain": [
              "Index(['course_title', 'difficulty_level', 'duration', 'skills', 'instructors', 'description', 'rating', 'offered_by', 'language', 'syllabus_heading', 'syllabus_details'], dtype='object')"
            ]
          },
          "metadata": {},
          "execution_count": 7
        }
      ]
    },
    {
      "cell_type": "code",
      "source": [
        "coursedata.dtypes"
      ],
      "metadata": {
        "colab": {
          "base_uri": "https://localhost:8080/"
        },
        "id": "wX_iQkqH-s7H",
        "outputId": "40057bc6-15ba-4793-fb4b-ea7730758082"
      },
      "execution_count": null,
      "outputs": [
        {
          "output_type": "execute_result",
          "data": {
            "text/plain": [
              "course_title        object\n",
              "difficulty_level    object\n",
              "duration            object\n",
              "skills              object\n",
              "instructors         object\n",
              "description         object\n",
              "rating              object\n",
              "offered_by          object\n",
              "language            object\n",
              "syllabus_heading    object\n",
              "syllabus_details    object\n",
              "dtype: object"
            ]
          },
          "metadata": {},
          "execution_count": 8
        }
      ]
    },
    {
      "cell_type": "markdown",
      "source": [
        "### Data Preprocessing"
      ],
      "metadata": {
        "id": "uzC7Ab-7--kd"
      }
    },
    {
      "cell_type": "code",
      "source": [
        "coursedata['difficulty_level'].value_counts()"
      ],
      "metadata": {
        "colab": {
          "base_uri": "https://localhost:8080/"
        },
        "id": "aSE0HHGy9azp",
        "outputId": "63886b35-e902-45a8-9881-a3b74148edab"
      },
      "execution_count": null,
      "outputs": [
        {
          "output_type": "execute_result",
          "data": {
            "text/plain": [
              "Beginner Level        3057\n",
              "Intermediate Level    1489\n",
              "Advanced Level         190\n",
              "Name: difficulty_level, dtype: int64"
            ]
          },
          "metadata": {},
          "execution_count": 9
        }
      ]
    },
    {
      "cell_type": "code",
      "source": [
        "coursedata.shape"
      ],
      "metadata": {
        "colab": {
          "base_uri": "https://localhost:8080/"
        },
        "id": "gThmZHX6_vgT",
        "outputId": "2fd21ec1-c8a1-4332-e9f8-993b5866fda1"
      },
      "execution_count": null,
      "outputs": [
        {
          "output_type": "execute_result",
          "data": {
            "text/plain": [
              "(6636, 11)"
            ]
          },
          "metadata": {},
          "execution_count": 10
        }
      ]
    },
    {
      "cell_type": "code",
      "source": [
        "#Replace NAN values intially with \"0\"\n",
        "#Extracting hours \n",
        "#Replaces \"0\" with median value\n",
        "coursedata['duration'].fillna(\"0\",inplace=True)\n",
        "coursedata['duration'].value_counts().sum()"
      ],
      "metadata": {
        "colab": {
          "base_uri": "https://localhost:8080/"
        },
        "id": "qQLqoxoSAFVI",
        "outputId": "c489a518-32b6-42e5-a776-2f0ce1078747"
      },
      "execution_count": null,
      "outputs": [
        {
          "output_type": "execute_result",
          "data": {
            "text/plain": [
              "6636"
            ]
          },
          "metadata": {},
          "execution_count": 11
        }
      ]
    },
    {
      "cell_type": "code",
      "source": [
        "hours = coursedata['duration'].astype('str').str.extractall('(\\d+)').unstack().sum(axis=1).astype(int)\n",
        "coursedata['duration'] = hours\n",
        "coursedata.head()"
      ],
      "metadata": {
        "colab": {
          "base_uri": "https://localhost:8080/",
          "height": 635
        },
        "id": "EOYD0e0u9tL6",
        "outputId": "41927a01-446e-4fcb-8f67-979fee19a838"
      },
      "execution_count": null,
      "outputs": [
        {
          "output_type": "execute_result",
          "data": {
            "text/plain": [
              "                                      course_title difficulty_level  duration                                             skills                       instructors                                        description      rating                                  offered_by language                                   syllabus_heading                                   syllabus_details\n",
              "0                 Cloud Computing Concepts, Part 1   Beginner Level        23  ['Distributed Algorithm', 'Distributed Computi...                ['Indranil Gupta']  Cloud computing systems today, whether open-so...  4.4\\nstars  University of Illinois at Urbana-Champaign  English  ['Week 1: Orientation, Introduction to Clouds,...  ['This course is oriented towards learners wit...\n",
              "1                  The Challenges of Global Health   Beginner Level        20                                                 []                ['Dr. David Boyd']  What are the world’s major health challenges? ...  4.8\\nstars                             Duke University  English  ['Getting Started', 'Basic Concepts in Global ...  ['Start here! ', 'This module covers some of t...\n",
              "2            Digital Marketing Analytics in Theory   Beginner Level        20  ['Digital Marketing', 'Data Collection', 'Anal...                 ['Kevin Hartman']  Successfully marketing brands today requires a...  4.5\\nstars  University of Illinois at Urbana-Champaign  English  ['Course Overview and The Day The Geeks Took O...  ['In the orientation, you will become familiar...\n",
              "3  Digital Product Management: Modern Fundamentals   Beginner Level        11  ['Product/Market Fit', 'Product Management', '...                    ['Alex Cowan']  Not so long ago, the job of product manager wa...  4.7\\nstars                      University of Virginia  English  ['Achieving Focus and #Winning', \"Using Today'...  ['As a product manager, you and your team will...\n",
              "4                             The Nature of Genius   Beginner Level        28  ['Creativity', 'Art', 'History', 'Psychology',...  ['Craig Wright\\nTOP INSTRUCTOR']  Today \"genius\" is all around us. Celebrities, ...         NaN                             Yale University  English  ['Genius Defined,   Genius Denied ,  Genius an...  ['In Section 1 of Module 1 we determine, jokin..."
            ],
            "text/html": [
              "\n",
              "  <div id=\"df-49098f6b-cb81-4ef3-9f18-5aad7050f306\">\n",
              "    <div class=\"colab-df-container\">\n",
              "      <div>\n",
              "<style scoped>\n",
              "    .dataframe tbody tr th:only-of-type {\n",
              "        vertical-align: middle;\n",
              "    }\n",
              "\n",
              "    .dataframe tbody tr th {\n",
              "        vertical-align: top;\n",
              "    }\n",
              "\n",
              "    .dataframe thead th {\n",
              "        text-align: right;\n",
              "    }\n",
              "</style>\n",
              "<table border=\"1\" class=\"dataframe\">\n",
              "  <thead>\n",
              "    <tr style=\"text-align: right;\">\n",
              "      <th></th>\n",
              "      <th>course_title</th>\n",
              "      <th>difficulty_level</th>\n",
              "      <th>duration</th>\n",
              "      <th>skills</th>\n",
              "      <th>instructors</th>\n",
              "      <th>description</th>\n",
              "      <th>rating</th>\n",
              "      <th>offered_by</th>\n",
              "      <th>language</th>\n",
              "      <th>syllabus_heading</th>\n",
              "      <th>syllabus_details</th>\n",
              "    </tr>\n",
              "  </thead>\n",
              "  <tbody>\n",
              "    <tr>\n",
              "      <th>0</th>\n",
              "      <td>Cloud Computing Concepts, Part 1</td>\n",
              "      <td>Beginner Level</td>\n",
              "      <td>23</td>\n",
              "      <td>['Distributed Algorithm', 'Distributed Computi...</td>\n",
              "      <td>['Indranil Gupta']</td>\n",
              "      <td>Cloud computing systems today, whether open-so...</td>\n",
              "      <td>4.4\\nstars</td>\n",
              "      <td>University of Illinois at Urbana-Champaign</td>\n",
              "      <td>English</td>\n",
              "      <td>['Week 1: Orientation, Introduction to Clouds,...</td>\n",
              "      <td>['This course is oriented towards learners wit...</td>\n",
              "    </tr>\n",
              "    <tr>\n",
              "      <th>1</th>\n",
              "      <td>The Challenges of Global Health</td>\n",
              "      <td>Beginner Level</td>\n",
              "      <td>20</td>\n",
              "      <td>[]</td>\n",
              "      <td>['Dr. David Boyd']</td>\n",
              "      <td>What are the world’s major health challenges? ...</td>\n",
              "      <td>4.8\\nstars</td>\n",
              "      <td>Duke University</td>\n",
              "      <td>English</td>\n",
              "      <td>['Getting Started', 'Basic Concepts in Global ...</td>\n",
              "      <td>['Start here! ', 'This module covers some of t...</td>\n",
              "    </tr>\n",
              "    <tr>\n",
              "      <th>2</th>\n",
              "      <td>Digital Marketing Analytics in Theory</td>\n",
              "      <td>Beginner Level</td>\n",
              "      <td>20</td>\n",
              "      <td>['Digital Marketing', 'Data Collection', 'Anal...</td>\n",
              "      <td>['Kevin Hartman']</td>\n",
              "      <td>Successfully marketing brands today requires a...</td>\n",
              "      <td>4.5\\nstars</td>\n",
              "      <td>University of Illinois at Urbana-Champaign</td>\n",
              "      <td>English</td>\n",
              "      <td>['Course Overview and The Day The Geeks Took O...</td>\n",
              "      <td>['In the orientation, you will become familiar...</td>\n",
              "    </tr>\n",
              "    <tr>\n",
              "      <th>3</th>\n",
              "      <td>Digital Product Management: Modern Fundamentals</td>\n",
              "      <td>Beginner Level</td>\n",
              "      <td>11</td>\n",
              "      <td>['Product/Market Fit', 'Product Management', '...</td>\n",
              "      <td>['Alex Cowan']</td>\n",
              "      <td>Not so long ago, the job of product manager wa...</td>\n",
              "      <td>4.7\\nstars</td>\n",
              "      <td>University of Virginia</td>\n",
              "      <td>English</td>\n",
              "      <td>['Achieving Focus and #Winning', \"Using Today'...</td>\n",
              "      <td>['As a product manager, you and your team will...</td>\n",
              "    </tr>\n",
              "    <tr>\n",
              "      <th>4</th>\n",
              "      <td>The Nature of Genius</td>\n",
              "      <td>Beginner Level</td>\n",
              "      <td>28</td>\n",
              "      <td>['Creativity', 'Art', 'History', 'Psychology',...</td>\n",
              "      <td>['Craig Wright\\nTOP INSTRUCTOR']</td>\n",
              "      <td>Today \"genius\" is all around us. Celebrities, ...</td>\n",
              "      <td>NaN</td>\n",
              "      <td>Yale University</td>\n",
              "      <td>English</td>\n",
              "      <td>['Genius Defined,   Genius Denied ,  Genius an...</td>\n",
              "      <td>['In Section 1 of Module 1 we determine, jokin...</td>\n",
              "    </tr>\n",
              "  </tbody>\n",
              "</table>\n",
              "</div>\n",
              "      <button class=\"colab-df-convert\" onclick=\"convertToInteractive('df-49098f6b-cb81-4ef3-9f18-5aad7050f306')\"\n",
              "              title=\"Convert this dataframe to an interactive table.\"\n",
              "              style=\"display:none;\">\n",
              "        \n",
              "  <svg xmlns=\"http://www.w3.org/2000/svg\" height=\"24px\"viewBox=\"0 0 24 24\"\n",
              "       width=\"24px\">\n",
              "    <path d=\"M0 0h24v24H0V0z\" fill=\"none\"/>\n",
              "    <path d=\"M18.56 5.44l.94 2.06.94-2.06 2.06-.94-2.06-.94-.94-2.06-.94 2.06-2.06.94zm-11 1L8.5 8.5l.94-2.06 2.06-.94-2.06-.94L8.5 2.5l-.94 2.06-2.06.94zm10 10l.94 2.06.94-2.06 2.06-.94-2.06-.94-.94-2.06-.94 2.06-2.06.94z\"/><path d=\"M17.41 7.96l-1.37-1.37c-.4-.4-.92-.59-1.43-.59-.52 0-1.04.2-1.43.59L10.3 9.45l-7.72 7.72c-.78.78-.78 2.05 0 2.83L4 21.41c.39.39.9.59 1.41.59.51 0 1.02-.2 1.41-.59l7.78-7.78 2.81-2.81c.8-.78.8-2.07 0-2.86zM5.41 20L4 18.59l7.72-7.72 1.47 1.35L5.41 20z\"/>\n",
              "  </svg>\n",
              "      </button>\n",
              "      \n",
              "  <style>\n",
              "    .colab-df-container {\n",
              "      display:flex;\n",
              "      flex-wrap:wrap;\n",
              "      gap: 12px;\n",
              "    }\n",
              "\n",
              "    .colab-df-convert {\n",
              "      background-color: #E8F0FE;\n",
              "      border: none;\n",
              "      border-radius: 50%;\n",
              "      cursor: pointer;\n",
              "      display: none;\n",
              "      fill: #1967D2;\n",
              "      height: 32px;\n",
              "      padding: 0 0 0 0;\n",
              "      width: 32px;\n",
              "    }\n",
              "\n",
              "    .colab-df-convert:hover {\n",
              "      background-color: #E2EBFA;\n",
              "      box-shadow: 0px 1px 2px rgba(60, 64, 67, 0.3), 0px 1px 3px 1px rgba(60, 64, 67, 0.15);\n",
              "      fill: #174EA6;\n",
              "    }\n",
              "\n",
              "    [theme=dark] .colab-df-convert {\n",
              "      background-color: #3B4455;\n",
              "      fill: #D2E3FC;\n",
              "    }\n",
              "\n",
              "    [theme=dark] .colab-df-convert:hover {\n",
              "      background-color: #434B5C;\n",
              "      box-shadow: 0px 1px 3px 1px rgba(0, 0, 0, 0.15);\n",
              "      filter: drop-shadow(0px 1px 2px rgba(0, 0, 0, 0.3));\n",
              "      fill: #FFFFFF;\n",
              "    }\n",
              "  </style>\n",
              "\n",
              "      <script>\n",
              "        const buttonEl =\n",
              "          document.querySelector('#df-49098f6b-cb81-4ef3-9f18-5aad7050f306 button.colab-df-convert');\n",
              "        buttonEl.style.display =\n",
              "          google.colab.kernel.accessAllowed ? 'block' : 'none';\n",
              "\n",
              "        async function convertToInteractive(key) {\n",
              "          const element = document.querySelector('#df-49098f6b-cb81-4ef3-9f18-5aad7050f306');\n",
              "          const dataTable =\n",
              "            await google.colab.kernel.invokeFunction('convertToInteractive',\n",
              "                                                     [key], {});\n",
              "          if (!dataTable) return;\n",
              "\n",
              "          const docLinkHtml = 'Like what you see? Visit the ' +\n",
              "            '<a target=\"_blank\" href=https://colab.research.google.com/notebooks/data_table.ipynb>data table notebook</a>'\n",
              "            + ' to learn more about interactive tables.';\n",
              "          element.innerHTML = '';\n",
              "          dataTable['output_type'] = 'display_data';\n",
              "          await google.colab.output.renderOutput(dataTable, element);\n",
              "          const docLink = document.createElement('div');\n",
              "          docLink.innerHTML = docLinkHtml;\n",
              "          element.appendChild(docLink);\n",
              "        }\n",
              "      </script>\n",
              "    </div>\n",
              "  </div>\n",
              "  "
            ]
          },
          "metadata": {},
          "execution_count": 12
        }
      ]
    },
    {
      "cell_type": "code",
      "source": [
        "coursedata['duration'].shape"
      ],
      "metadata": {
        "colab": {
          "base_uri": "https://localhost:8080/"
        },
        "id": "lXox962TFr5K",
        "outputId": "0d52d93b-e83c-4973-ac74-cc625691d6fb"
      },
      "execution_count": null,
      "outputs": [
        {
          "output_type": "execute_result",
          "data": {
            "text/plain": [
              "(6636,)"
            ]
          },
          "metadata": {},
          "execution_count": 13
        }
      ]
    },
    {
      "cell_type": "code",
      "source": [
        "print(coursedata['duration'].median())"
      ],
      "metadata": {
        "colab": {
          "base_uri": "https://localhost:8080/"
        },
        "id": "XwZoIylF_sxP",
        "outputId": "a6c51382-20c4-457a-a6c2-e94a5b5744b0"
      },
      "execution_count": null,
      "outputs": [
        {
          "output_type": "stream",
          "name": "stdout",
          "text": [
            "13.0\n"
          ]
        }
      ]
    },
    {
      "cell_type": "code",
      "source": [
        "# coursedata['duration'].value_counts()"
      ],
      "metadata": {
        "id": "P80nLbkGB_jj"
      },
      "execution_count": null,
      "outputs": []
    },
    {
      "cell_type": "code",
      "source": [
        "\n",
        "coursedata['duration']=coursedata['duration'].replace(0,int(coursedata['duration'].median()))\n",
        "coursedata.head()"
      ],
      "metadata": {
        "colab": {
          "base_uri": "https://localhost:8080/",
          "height": 635
        },
        "id": "w1-6uvr3BazM",
        "outputId": "f8216bc1-a132-4770-f4d3-348cd4f245b3"
      },
      "execution_count": null,
      "outputs": [
        {
          "output_type": "execute_result",
          "data": {
            "text/plain": [
              "                                      course_title difficulty_level  duration                                             skills                       instructors                                        description      rating                                  offered_by language                                   syllabus_heading                                   syllabus_details\n",
              "0                 Cloud Computing Concepts, Part 1   Beginner Level        23  ['Distributed Algorithm', 'Distributed Computi...                ['Indranil Gupta']  Cloud computing systems today, whether open-so...  4.4\\nstars  University of Illinois at Urbana-Champaign  English  ['Week 1: Orientation, Introduction to Clouds,...  ['This course is oriented towards learners wit...\n",
              "1                  The Challenges of Global Health   Beginner Level        20                                                 []                ['Dr. David Boyd']  What are the world’s major health challenges? ...  4.8\\nstars                             Duke University  English  ['Getting Started', 'Basic Concepts in Global ...  ['Start here! ', 'This module covers some of t...\n",
              "2            Digital Marketing Analytics in Theory   Beginner Level        20  ['Digital Marketing', 'Data Collection', 'Anal...                 ['Kevin Hartman']  Successfully marketing brands today requires a...  4.5\\nstars  University of Illinois at Urbana-Champaign  English  ['Course Overview and The Day The Geeks Took O...  ['In the orientation, you will become familiar...\n",
              "3  Digital Product Management: Modern Fundamentals   Beginner Level        11  ['Product/Market Fit', 'Product Management', '...                    ['Alex Cowan']  Not so long ago, the job of product manager wa...  4.7\\nstars                      University of Virginia  English  ['Achieving Focus and #Winning', \"Using Today'...  ['As a product manager, you and your team will...\n",
              "4                             The Nature of Genius   Beginner Level        28  ['Creativity', 'Art', 'History', 'Psychology',...  ['Craig Wright\\nTOP INSTRUCTOR']  Today \"genius\" is all around us. Celebrities, ...         NaN                             Yale University  English  ['Genius Defined,   Genius Denied ,  Genius an...  ['In Section 1 of Module 1 we determine, jokin..."
            ],
            "text/html": [
              "\n",
              "  <div id=\"df-5e6edea0-f48c-4d10-aa04-65b08f2a65ea\">\n",
              "    <div class=\"colab-df-container\">\n",
              "      <div>\n",
              "<style scoped>\n",
              "    .dataframe tbody tr th:only-of-type {\n",
              "        vertical-align: middle;\n",
              "    }\n",
              "\n",
              "    .dataframe tbody tr th {\n",
              "        vertical-align: top;\n",
              "    }\n",
              "\n",
              "    .dataframe thead th {\n",
              "        text-align: right;\n",
              "    }\n",
              "</style>\n",
              "<table border=\"1\" class=\"dataframe\">\n",
              "  <thead>\n",
              "    <tr style=\"text-align: right;\">\n",
              "      <th></th>\n",
              "      <th>course_title</th>\n",
              "      <th>difficulty_level</th>\n",
              "      <th>duration</th>\n",
              "      <th>skills</th>\n",
              "      <th>instructors</th>\n",
              "      <th>description</th>\n",
              "      <th>rating</th>\n",
              "      <th>offered_by</th>\n",
              "      <th>language</th>\n",
              "      <th>syllabus_heading</th>\n",
              "      <th>syllabus_details</th>\n",
              "    </tr>\n",
              "  </thead>\n",
              "  <tbody>\n",
              "    <tr>\n",
              "      <th>0</th>\n",
              "      <td>Cloud Computing Concepts, Part 1</td>\n",
              "      <td>Beginner Level</td>\n",
              "      <td>23</td>\n",
              "      <td>['Distributed Algorithm', 'Distributed Computi...</td>\n",
              "      <td>['Indranil Gupta']</td>\n",
              "      <td>Cloud computing systems today, whether open-so...</td>\n",
              "      <td>4.4\\nstars</td>\n",
              "      <td>University of Illinois at Urbana-Champaign</td>\n",
              "      <td>English</td>\n",
              "      <td>['Week 1: Orientation, Introduction to Clouds,...</td>\n",
              "      <td>['This course is oriented towards learners wit...</td>\n",
              "    </tr>\n",
              "    <tr>\n",
              "      <th>1</th>\n",
              "      <td>The Challenges of Global Health</td>\n",
              "      <td>Beginner Level</td>\n",
              "      <td>20</td>\n",
              "      <td>[]</td>\n",
              "      <td>['Dr. David Boyd']</td>\n",
              "      <td>What are the world’s major health challenges? ...</td>\n",
              "      <td>4.8\\nstars</td>\n",
              "      <td>Duke University</td>\n",
              "      <td>English</td>\n",
              "      <td>['Getting Started', 'Basic Concepts in Global ...</td>\n",
              "      <td>['Start here! ', 'This module covers some of t...</td>\n",
              "    </tr>\n",
              "    <tr>\n",
              "      <th>2</th>\n",
              "      <td>Digital Marketing Analytics in Theory</td>\n",
              "      <td>Beginner Level</td>\n",
              "      <td>20</td>\n",
              "      <td>['Digital Marketing', 'Data Collection', 'Anal...</td>\n",
              "      <td>['Kevin Hartman']</td>\n",
              "      <td>Successfully marketing brands today requires a...</td>\n",
              "      <td>4.5\\nstars</td>\n",
              "      <td>University of Illinois at Urbana-Champaign</td>\n",
              "      <td>English</td>\n",
              "      <td>['Course Overview and The Day The Geeks Took O...</td>\n",
              "      <td>['In the orientation, you will become familiar...</td>\n",
              "    </tr>\n",
              "    <tr>\n",
              "      <th>3</th>\n",
              "      <td>Digital Product Management: Modern Fundamentals</td>\n",
              "      <td>Beginner Level</td>\n",
              "      <td>11</td>\n",
              "      <td>['Product/Market Fit', 'Product Management', '...</td>\n",
              "      <td>['Alex Cowan']</td>\n",
              "      <td>Not so long ago, the job of product manager wa...</td>\n",
              "      <td>4.7\\nstars</td>\n",
              "      <td>University of Virginia</td>\n",
              "      <td>English</td>\n",
              "      <td>['Achieving Focus and #Winning', \"Using Today'...</td>\n",
              "      <td>['As a product manager, you and your team will...</td>\n",
              "    </tr>\n",
              "    <tr>\n",
              "      <th>4</th>\n",
              "      <td>The Nature of Genius</td>\n",
              "      <td>Beginner Level</td>\n",
              "      <td>28</td>\n",
              "      <td>['Creativity', 'Art', 'History', 'Psychology',...</td>\n",
              "      <td>['Craig Wright\\nTOP INSTRUCTOR']</td>\n",
              "      <td>Today \"genius\" is all around us. Celebrities, ...</td>\n",
              "      <td>NaN</td>\n",
              "      <td>Yale University</td>\n",
              "      <td>English</td>\n",
              "      <td>['Genius Defined,   Genius Denied ,  Genius an...</td>\n",
              "      <td>['In Section 1 of Module 1 we determine, jokin...</td>\n",
              "    </tr>\n",
              "  </tbody>\n",
              "</table>\n",
              "</div>\n",
              "      <button class=\"colab-df-convert\" onclick=\"convertToInteractive('df-5e6edea0-f48c-4d10-aa04-65b08f2a65ea')\"\n",
              "              title=\"Convert this dataframe to an interactive table.\"\n",
              "              style=\"display:none;\">\n",
              "        \n",
              "  <svg xmlns=\"http://www.w3.org/2000/svg\" height=\"24px\"viewBox=\"0 0 24 24\"\n",
              "       width=\"24px\">\n",
              "    <path d=\"M0 0h24v24H0V0z\" fill=\"none\"/>\n",
              "    <path d=\"M18.56 5.44l.94 2.06.94-2.06 2.06-.94-2.06-.94-.94-2.06-.94 2.06-2.06.94zm-11 1L8.5 8.5l.94-2.06 2.06-.94-2.06-.94L8.5 2.5l-.94 2.06-2.06.94zm10 10l.94 2.06.94-2.06 2.06-.94-2.06-.94-.94-2.06-.94 2.06-2.06.94z\"/><path d=\"M17.41 7.96l-1.37-1.37c-.4-.4-.92-.59-1.43-.59-.52 0-1.04.2-1.43.59L10.3 9.45l-7.72 7.72c-.78.78-.78 2.05 0 2.83L4 21.41c.39.39.9.59 1.41.59.51 0 1.02-.2 1.41-.59l7.78-7.78 2.81-2.81c.8-.78.8-2.07 0-2.86zM5.41 20L4 18.59l7.72-7.72 1.47 1.35L5.41 20z\"/>\n",
              "  </svg>\n",
              "      </button>\n",
              "      \n",
              "  <style>\n",
              "    .colab-df-container {\n",
              "      display:flex;\n",
              "      flex-wrap:wrap;\n",
              "      gap: 12px;\n",
              "    }\n",
              "\n",
              "    .colab-df-convert {\n",
              "      background-color: #E8F0FE;\n",
              "      border: none;\n",
              "      border-radius: 50%;\n",
              "      cursor: pointer;\n",
              "      display: none;\n",
              "      fill: #1967D2;\n",
              "      height: 32px;\n",
              "      padding: 0 0 0 0;\n",
              "      width: 32px;\n",
              "    }\n",
              "\n",
              "    .colab-df-convert:hover {\n",
              "      background-color: #E2EBFA;\n",
              "      box-shadow: 0px 1px 2px rgba(60, 64, 67, 0.3), 0px 1px 3px 1px rgba(60, 64, 67, 0.15);\n",
              "      fill: #174EA6;\n",
              "    }\n",
              "\n",
              "    [theme=dark] .colab-df-convert {\n",
              "      background-color: #3B4455;\n",
              "      fill: #D2E3FC;\n",
              "    }\n",
              "\n",
              "    [theme=dark] .colab-df-convert:hover {\n",
              "      background-color: #434B5C;\n",
              "      box-shadow: 0px 1px 3px 1px rgba(0, 0, 0, 0.15);\n",
              "      filter: drop-shadow(0px 1px 2px rgba(0, 0, 0, 0.3));\n",
              "      fill: #FFFFFF;\n",
              "    }\n",
              "  </style>\n",
              "\n",
              "      <script>\n",
              "        const buttonEl =\n",
              "          document.querySelector('#df-5e6edea0-f48c-4d10-aa04-65b08f2a65ea button.colab-df-convert');\n",
              "        buttonEl.style.display =\n",
              "          google.colab.kernel.accessAllowed ? 'block' : 'none';\n",
              "\n",
              "        async function convertToInteractive(key) {\n",
              "          const element = document.querySelector('#df-5e6edea0-f48c-4d10-aa04-65b08f2a65ea');\n",
              "          const dataTable =\n",
              "            await google.colab.kernel.invokeFunction('convertToInteractive',\n",
              "                                                     [key], {});\n",
              "          if (!dataTable) return;\n",
              "\n",
              "          const docLinkHtml = 'Like what you see? Visit the ' +\n",
              "            '<a target=\"_blank\" href=https://colab.research.google.com/notebooks/data_table.ipynb>data table notebook</a>'\n",
              "            + ' to learn more about interactive tables.';\n",
              "          element.innerHTML = '';\n",
              "          dataTable['output_type'] = 'display_data';\n",
              "          await google.colab.output.renderOutput(dataTable, element);\n",
              "          const docLink = document.createElement('div');\n",
              "          docLink.innerHTML = docLinkHtml;\n",
              "          element.appendChild(docLink);\n",
              "        }\n",
              "      </script>\n",
              "    </div>\n",
              "  </div>\n",
              "  "
            ]
          },
          "metadata": {},
          "execution_count": 16
        }
      ]
    },
    {
      "cell_type": "code",
      "source": [
        "coursedata['duration'].value_counts()"
      ],
      "metadata": {
        "colab": {
          "base_uri": "https://localhost:8080/"
        },
        "id": "X33t708QCE9y",
        "outputId": "9cc59797-2e39-43c3-d86f-7e25dc4f0568"
      },
      "execution_count": null,
      "outputs": [
        {
          "output_type": "execute_result",
          "data": {
            "text/plain": [
              "13     859\n",
              "12     330\n",
              "10     329\n",
              "9      314\n",
              "11     311\n",
              "15     297\n",
              "14     289\n",
              "8      277\n",
              "16     243\n",
              "7      236\n",
              "6      230\n",
              "18     230\n",
              "19     212\n",
              "17     209\n",
              "20     202\n",
              "22     161\n",
              "5      158\n",
              "21     147\n",
              "2      141\n",
              "4      138\n",
              "23     125\n",
              "25     114\n",
              "24     100\n",
              "27      96\n",
              "3       96\n",
              "26      94\n",
              "28      76\n",
              "29      63\n",
              "33      54\n",
              "31      51\n",
              "32      47\n",
              "30      47\n",
              "35      34\n",
              "1       30\n",
              "34      27\n",
              "40      27\n",
              "38      25\n",
              "37      21\n",
              "47      17\n",
              "42      15\n",
              "36      15\n",
              "46      12\n",
              "41      10\n",
              "39      10\n",
              "44       9\n",
              "43       9\n",
              "45       9\n",
              "54       7\n",
              "49       7\n",
              "66       6\n",
              "53       5\n",
              "60       5\n",
              "55       4\n",
              "56       4\n",
              "71       4\n",
              "48       3\n",
              "59       3\n",
              "65       3\n",
              "50       3\n",
              "93       2\n",
              "69       2\n",
              "51       2\n",
              "72       2\n",
              "57       2\n",
              "73       2\n",
              "63       2\n",
              "61       2\n",
              "67       2\n",
              "76       2\n",
              "81       1\n",
              "58       1\n",
              "96       1\n",
              "104      1\n",
              "80       1\n",
              "68       1\n",
              "90       1\n",
              "64       1\n",
              "78       1\n",
              "106      1\n",
              "85       1\n",
              "88       1\n",
              "310      1\n",
              "62       1\n",
              "70       1\n",
              "127      1\n",
              "Name: duration, dtype: int64"
            ]
          },
          "metadata": {},
          "execution_count": 17
        }
      ]
    },
    {
      "cell_type": "code",
      "source": [
        "coursedata['difficulty_level'].isnull().sum()"
      ],
      "metadata": {
        "colab": {
          "base_uri": "https://localhost:8080/"
        },
        "id": "XtdTsF0WNuz0",
        "outputId": "45fd1d7d-b948-434b-a9f5-3879ca498f8d"
      },
      "execution_count": null,
      "outputs": [
        {
          "output_type": "execute_result",
          "data": {
            "text/plain": [
              "1900"
            ]
          },
          "metadata": {},
          "execution_count": 18
        }
      ]
    },
    {
      "cell_type": "code",
      "source": [
        "#@title\n",
        "#Replacing blank values of difficulty level with Unknown \n",
        "coursedata[\"difficulty_level\"].fillna(\"Unknown\", inplace = True)\n",
        "coursedata[\"difficulty_level\"].value_counts()"
      ],
      "metadata": {
        "colab": {
          "base_uri": "https://localhost:8080/"
        },
        "id": "2W1wPhoJPKxG",
        "outputId": "f432d120-16b6-4edc-f3a7-d3c56323671c"
      },
      "execution_count": null,
      "outputs": [
        {
          "output_type": "execute_result",
          "data": {
            "text/plain": [
              "Beginner Level        3057\n",
              "Unknown               1900\n",
              "Intermediate Level    1489\n",
              "Advanced Level         190\n",
              "Name: difficulty_level, dtype: int64"
            ]
          },
          "metadata": {},
          "execution_count": 19
        }
      ]
    },
    {
      "cell_type": "code",
      "source": [
        "diff_lvl_dict = {'Beginner Level':1 , 'Intermediate Level':2, 'Advanced Level':3, 'Unknown':0}\n",
        "coursedata['numeric_difficulty_lvl'] = coursedata.difficulty_level.map(diff_lvl_dict)\n",
        "coursedata['numeric_difficulty_lvl'].value_counts()"
      ],
      "metadata": {
        "colab": {
          "base_uri": "https://localhost:8080/"
        },
        "id": "Q5UoBh4bOr-t",
        "outputId": "ea557810-42c2-456b-a66a-9dfd5e6aa239"
      },
      "execution_count": null,
      "outputs": [
        {
          "output_type": "execute_result",
          "data": {
            "text/plain": [
              "1    3057\n",
              "0    1900\n",
              "2    1489\n",
              "3     190\n",
              "Name: numeric_difficulty_lvl, dtype: int64"
            ]
          },
          "metadata": {},
          "execution_count": 20
        }
      ]
    },
    {
      "cell_type": "code",
      "source": [
        "coursedata.head()"
      ],
      "metadata": {
        "colab": {
          "base_uri": "https://localhost:8080/",
          "height": 635
        },
        "id": "B8RnYKyzPEEF",
        "outputId": "ef7f4348-bb85-44b6-fb04-be7937891578"
      },
      "execution_count": null,
      "outputs": [
        {
          "output_type": "execute_result",
          "data": {
            "text/plain": [
              "                                      course_title difficulty_level  duration                                             skills                       instructors                                        description      rating                                  offered_by language                                   syllabus_heading                                   syllabus_details  numeric_difficulty_lvl\n",
              "0                 Cloud Computing Concepts, Part 1   Beginner Level        23  ['Distributed Algorithm', 'Distributed Computi...                ['Indranil Gupta']  Cloud computing systems today, whether open-so...  4.4\\nstars  University of Illinois at Urbana-Champaign  English  ['Week 1: Orientation, Introduction to Clouds,...  ['This course is oriented towards learners wit...                       1\n",
              "1                  The Challenges of Global Health   Beginner Level        20                                                 []                ['Dr. David Boyd']  What are the world’s major health challenges? ...  4.8\\nstars                             Duke University  English  ['Getting Started', 'Basic Concepts in Global ...  ['Start here! ', 'This module covers some of t...                       1\n",
              "2            Digital Marketing Analytics in Theory   Beginner Level        20  ['Digital Marketing', 'Data Collection', 'Anal...                 ['Kevin Hartman']  Successfully marketing brands today requires a...  4.5\\nstars  University of Illinois at Urbana-Champaign  English  ['Course Overview and The Day The Geeks Took O...  ['In the orientation, you will become familiar...                       1\n",
              "3  Digital Product Management: Modern Fundamentals   Beginner Level        11  ['Product/Market Fit', 'Product Management', '...                    ['Alex Cowan']  Not so long ago, the job of product manager wa...  4.7\\nstars                      University of Virginia  English  ['Achieving Focus and #Winning', \"Using Today'...  ['As a product manager, you and your team will...                       1\n",
              "4                             The Nature of Genius   Beginner Level        28  ['Creativity', 'Art', 'History', 'Psychology',...  ['Craig Wright\\nTOP INSTRUCTOR']  Today \"genius\" is all around us. Celebrities, ...         NaN                             Yale University  English  ['Genius Defined,   Genius Denied ,  Genius an...  ['In Section 1 of Module 1 we determine, jokin...                       1"
            ],
            "text/html": [
              "\n",
              "  <div id=\"df-a1dab53c-ecc5-435f-b1f9-254da12b514c\">\n",
              "    <div class=\"colab-df-container\">\n",
              "      <div>\n",
              "<style scoped>\n",
              "    .dataframe tbody tr th:only-of-type {\n",
              "        vertical-align: middle;\n",
              "    }\n",
              "\n",
              "    .dataframe tbody tr th {\n",
              "        vertical-align: top;\n",
              "    }\n",
              "\n",
              "    .dataframe thead th {\n",
              "        text-align: right;\n",
              "    }\n",
              "</style>\n",
              "<table border=\"1\" class=\"dataframe\">\n",
              "  <thead>\n",
              "    <tr style=\"text-align: right;\">\n",
              "      <th></th>\n",
              "      <th>course_title</th>\n",
              "      <th>difficulty_level</th>\n",
              "      <th>duration</th>\n",
              "      <th>skills</th>\n",
              "      <th>instructors</th>\n",
              "      <th>description</th>\n",
              "      <th>rating</th>\n",
              "      <th>offered_by</th>\n",
              "      <th>language</th>\n",
              "      <th>syllabus_heading</th>\n",
              "      <th>syllabus_details</th>\n",
              "      <th>numeric_difficulty_lvl</th>\n",
              "    </tr>\n",
              "  </thead>\n",
              "  <tbody>\n",
              "    <tr>\n",
              "      <th>0</th>\n",
              "      <td>Cloud Computing Concepts, Part 1</td>\n",
              "      <td>Beginner Level</td>\n",
              "      <td>23</td>\n",
              "      <td>['Distributed Algorithm', 'Distributed Computi...</td>\n",
              "      <td>['Indranil Gupta']</td>\n",
              "      <td>Cloud computing systems today, whether open-so...</td>\n",
              "      <td>4.4\\nstars</td>\n",
              "      <td>University of Illinois at Urbana-Champaign</td>\n",
              "      <td>English</td>\n",
              "      <td>['Week 1: Orientation, Introduction to Clouds,...</td>\n",
              "      <td>['This course is oriented towards learners wit...</td>\n",
              "      <td>1</td>\n",
              "    </tr>\n",
              "    <tr>\n",
              "      <th>1</th>\n",
              "      <td>The Challenges of Global Health</td>\n",
              "      <td>Beginner Level</td>\n",
              "      <td>20</td>\n",
              "      <td>[]</td>\n",
              "      <td>['Dr. David Boyd']</td>\n",
              "      <td>What are the world’s major health challenges? ...</td>\n",
              "      <td>4.8\\nstars</td>\n",
              "      <td>Duke University</td>\n",
              "      <td>English</td>\n",
              "      <td>['Getting Started', 'Basic Concepts in Global ...</td>\n",
              "      <td>['Start here! ', 'This module covers some of t...</td>\n",
              "      <td>1</td>\n",
              "    </tr>\n",
              "    <tr>\n",
              "      <th>2</th>\n",
              "      <td>Digital Marketing Analytics in Theory</td>\n",
              "      <td>Beginner Level</td>\n",
              "      <td>20</td>\n",
              "      <td>['Digital Marketing', 'Data Collection', 'Anal...</td>\n",
              "      <td>['Kevin Hartman']</td>\n",
              "      <td>Successfully marketing brands today requires a...</td>\n",
              "      <td>4.5\\nstars</td>\n",
              "      <td>University of Illinois at Urbana-Champaign</td>\n",
              "      <td>English</td>\n",
              "      <td>['Course Overview and The Day The Geeks Took O...</td>\n",
              "      <td>['In the orientation, you will become familiar...</td>\n",
              "      <td>1</td>\n",
              "    </tr>\n",
              "    <tr>\n",
              "      <th>3</th>\n",
              "      <td>Digital Product Management: Modern Fundamentals</td>\n",
              "      <td>Beginner Level</td>\n",
              "      <td>11</td>\n",
              "      <td>['Product/Market Fit', 'Product Management', '...</td>\n",
              "      <td>['Alex Cowan']</td>\n",
              "      <td>Not so long ago, the job of product manager wa...</td>\n",
              "      <td>4.7\\nstars</td>\n",
              "      <td>University of Virginia</td>\n",
              "      <td>English</td>\n",
              "      <td>['Achieving Focus and #Winning', \"Using Today'...</td>\n",
              "      <td>['As a product manager, you and your team will...</td>\n",
              "      <td>1</td>\n",
              "    </tr>\n",
              "    <tr>\n",
              "      <th>4</th>\n",
              "      <td>The Nature of Genius</td>\n",
              "      <td>Beginner Level</td>\n",
              "      <td>28</td>\n",
              "      <td>['Creativity', 'Art', 'History', 'Psychology',...</td>\n",
              "      <td>['Craig Wright\\nTOP INSTRUCTOR']</td>\n",
              "      <td>Today \"genius\" is all around us. Celebrities, ...</td>\n",
              "      <td>NaN</td>\n",
              "      <td>Yale University</td>\n",
              "      <td>English</td>\n",
              "      <td>['Genius Defined,   Genius Denied ,  Genius an...</td>\n",
              "      <td>['In Section 1 of Module 1 we determine, jokin...</td>\n",
              "      <td>1</td>\n",
              "    </tr>\n",
              "  </tbody>\n",
              "</table>\n",
              "</div>\n",
              "      <button class=\"colab-df-convert\" onclick=\"convertToInteractive('df-a1dab53c-ecc5-435f-b1f9-254da12b514c')\"\n",
              "              title=\"Convert this dataframe to an interactive table.\"\n",
              "              style=\"display:none;\">\n",
              "        \n",
              "  <svg xmlns=\"http://www.w3.org/2000/svg\" height=\"24px\"viewBox=\"0 0 24 24\"\n",
              "       width=\"24px\">\n",
              "    <path d=\"M0 0h24v24H0V0z\" fill=\"none\"/>\n",
              "    <path d=\"M18.56 5.44l.94 2.06.94-2.06 2.06-.94-2.06-.94-.94-2.06-.94 2.06-2.06.94zm-11 1L8.5 8.5l.94-2.06 2.06-.94-2.06-.94L8.5 2.5l-.94 2.06-2.06.94zm10 10l.94 2.06.94-2.06 2.06-.94-2.06-.94-.94-2.06-.94 2.06-2.06.94z\"/><path d=\"M17.41 7.96l-1.37-1.37c-.4-.4-.92-.59-1.43-.59-.52 0-1.04.2-1.43.59L10.3 9.45l-7.72 7.72c-.78.78-.78 2.05 0 2.83L4 21.41c.39.39.9.59 1.41.59.51 0 1.02-.2 1.41-.59l7.78-7.78 2.81-2.81c.8-.78.8-2.07 0-2.86zM5.41 20L4 18.59l7.72-7.72 1.47 1.35L5.41 20z\"/>\n",
              "  </svg>\n",
              "      </button>\n",
              "      \n",
              "  <style>\n",
              "    .colab-df-container {\n",
              "      display:flex;\n",
              "      flex-wrap:wrap;\n",
              "      gap: 12px;\n",
              "    }\n",
              "\n",
              "    .colab-df-convert {\n",
              "      background-color: #E8F0FE;\n",
              "      border: none;\n",
              "      border-radius: 50%;\n",
              "      cursor: pointer;\n",
              "      display: none;\n",
              "      fill: #1967D2;\n",
              "      height: 32px;\n",
              "      padding: 0 0 0 0;\n",
              "      width: 32px;\n",
              "    }\n",
              "\n",
              "    .colab-df-convert:hover {\n",
              "      background-color: #E2EBFA;\n",
              "      box-shadow: 0px 1px 2px rgba(60, 64, 67, 0.3), 0px 1px 3px 1px rgba(60, 64, 67, 0.15);\n",
              "      fill: #174EA6;\n",
              "    }\n",
              "\n",
              "    [theme=dark] .colab-df-convert {\n",
              "      background-color: #3B4455;\n",
              "      fill: #D2E3FC;\n",
              "    }\n",
              "\n",
              "    [theme=dark] .colab-df-convert:hover {\n",
              "      background-color: #434B5C;\n",
              "      box-shadow: 0px 1px 3px 1px rgba(0, 0, 0, 0.15);\n",
              "      filter: drop-shadow(0px 1px 2px rgba(0, 0, 0, 0.3));\n",
              "      fill: #FFFFFF;\n",
              "    }\n",
              "  </style>\n",
              "\n",
              "      <script>\n",
              "        const buttonEl =\n",
              "          document.querySelector('#df-a1dab53c-ecc5-435f-b1f9-254da12b514c button.colab-df-convert');\n",
              "        buttonEl.style.display =\n",
              "          google.colab.kernel.accessAllowed ? 'block' : 'none';\n",
              "\n",
              "        async function convertToInteractive(key) {\n",
              "          const element = document.querySelector('#df-a1dab53c-ecc5-435f-b1f9-254da12b514c');\n",
              "          const dataTable =\n",
              "            await google.colab.kernel.invokeFunction('convertToInteractive',\n",
              "                                                     [key], {});\n",
              "          if (!dataTable) return;\n",
              "\n",
              "          const docLinkHtml = 'Like what you see? Visit the ' +\n",
              "            '<a target=\"_blank\" href=https://colab.research.google.com/notebooks/data_table.ipynb>data table notebook</a>'\n",
              "            + ' to learn more about interactive tables.';\n",
              "          element.innerHTML = '';\n",
              "          dataTable['output_type'] = 'display_data';\n",
              "          await google.colab.output.renderOutput(dataTable, element);\n",
              "          const docLink = document.createElement('div');\n",
              "          docLink.innerHTML = docLinkHtml;\n",
              "          element.appendChild(docLink);\n",
              "        }\n",
              "      </script>\n",
              "    </div>\n",
              "  </div>\n",
              "  "
            ]
          },
          "metadata": {},
          "execution_count": 21
        }
      ]
    },
    {
      "cell_type": "code",
      "source": [
        "coursedata.info()"
      ],
      "metadata": {
        "id": "8Auxdln7PeU6",
        "colab": {
          "base_uri": "https://localhost:8080/"
        },
        "outputId": "3a4e38be-54b4-42ae-ddb3-7c49daa9b811"
      },
      "execution_count": null,
      "outputs": [
        {
          "output_type": "stream",
          "name": "stdout",
          "text": [
            "<class 'pandas.core.frame.DataFrame'>\n",
            "RangeIndex: 6636 entries, 0 to 6635\n",
            "Data columns (total 12 columns):\n",
            " #   Column                  Non-Null Count  Dtype \n",
            "---  ------                  --------------  ----- \n",
            " 0   course_title            6134 non-null   object\n",
            " 1   difficulty_level        6636 non-null   object\n",
            " 2   duration                6636 non-null   int64 \n",
            " 3   skills                  6636 non-null   object\n",
            " 4   instructors             6636 non-null   object\n",
            " 5   description             6635 non-null   object\n",
            " 6   rating                  4651 non-null   object\n",
            " 7   offered_by              6636 non-null   object\n",
            " 8   language                6636 non-null   object\n",
            " 9   syllabus_heading        6636 non-null   object\n",
            " 10  syllabus_details        6636 non-null   object\n",
            " 11  numeric_difficulty_lvl  6636 non-null   int64 \n",
            "dtypes: int64(2), object(10)\n",
            "memory usage: 622.2+ KB\n"
          ]
        }
      ]
    },
    {
      "cell_type": "code",
      "source": [
        "#Course Duration Distribution throughout the data\n",
        "#Rating Distribution throughout the data\n",
        "import seaborn as sns\n",
        "plt.figure(figsize=(15,10)) \n",
        "sns.countplot(x='duration', data=coursedata)\n",
        "plt.xlabel('Course Duration')\n",
        "plt.xticks(rotation=90)\n",
        "plt.ylabel('Number of Courses')\n",
        "plt.title('NUMBER OF COURSES FOR DIFFERENT DURATION')"
      ],
      "metadata": {
        "colab": {
          "base_uri": "https://localhost:8080/",
          "height": 625
        },
        "id": "IscUtU9ZAoSi",
        "outputId": "67c0481e-35f8-4cb0-a61b-42e0cf990d1c"
      },
      "execution_count": null,
      "outputs": [
        {
          "output_type": "execute_result",
          "data": {
            "text/plain": [
              "Text(0.5, 1.0, 'NUMBER OF COURSES FOR DIFFERENT DURATION')"
            ]
          },
          "metadata": {},
          "execution_count": 23
        },
        {
          "output_type": "display_data",
          "data": {
            "text/plain": [
              "<Figure size 1080x720 with 1 Axes>"
            ],
            "image/png": "[encoded data removed]"
          },
          "metadata": {
            "needs_background": "light"
          }
        }
      ]
    },
    {
      "cell_type": "code",
      "source": [
        "def label_race (row):\n",
        "   if row['duration'] <= 10 :\n",
        "      return 'Short Course Duration'\n",
        "   if row['duration'] > 10 and row['duration'] <= 35 :\n",
        "      return 'Medium Course  Duration'\n",
        "   if row['duration'] >35 and row['duration'] <=70 :\n",
        "      return 'Long Course Duration'\n",
        "   if row['duration'] >70  :\n",
        "      return 'Very Long Course Duration'"
      ],
      "metadata": {
        "id": "BdUy517IBI_K"
      },
      "execution_count": null,
      "outputs": []
    },
    {
      "cell_type": "code",
      "source": [
        "coursedata['duration_label'] = coursedata.apply (lambda row: label_race(row), axis=1)"
      ],
      "metadata": {
        "id": "4rv4zZuTBSg_"
      },
      "execution_count": null,
      "outputs": []
    },
    {
      "cell_type": "code",
      "source": [
        "coursedata[\"duration_label\"].value_counts()"
      ],
      "metadata": {
        "colab": {
          "base_uri": "https://localhost:8080/"
        },
        "id": "6_PzqQitBa26",
        "outputId": "80c53df2-1ec9-48d5-eec9-373b9241cdf7"
      },
      "execution_count": null,
      "outputs": [
        {
          "output_type": "execute_result",
          "data": {
            "text/plain": [
              "Medium Course  Duration      4418\n",
              "Short Course Duration        1949\n",
              "Long Course Duration          246\n",
              "Very Long Course Duration      23\n",
              "Name: duration_label, dtype: int64"
            ]
          },
          "metadata": {},
          "execution_count": 26
        }
      ]
    },
    {
      "cell_type": "code",
      "source": [
        "coursedata.info()"
      ],
      "metadata": {
        "colab": {
          "base_uri": "https://localhost:8080/"
        },
        "id": "703laNEWBed5",
        "outputId": "648fb0b9-1222-45f1-d2ab-cee10c0e2aa0"
      },
      "execution_count": null,
      "outputs": [
        {
          "output_type": "stream",
          "name": "stdout",
          "text": [
            "<class 'pandas.core.frame.DataFrame'>\n",
            "RangeIndex: 6636 entries, 0 to 6635\n",
            "Data columns (total 13 columns):\n",
            " #   Column                  Non-Null Count  Dtype \n",
            "---  ------                  --------------  ----- \n",
            " 0   course_title            6134 non-null   object\n",
            " 1   difficulty_level        6636 non-null   object\n",
            " 2   duration                6636 non-null   int64 \n",
            " 3   skills                  6636 non-null   object\n",
            " 4   instructors             6636 non-null   object\n",
            " 5   description             6635 non-null   object\n",
            " 6   rating                  4651 non-null   object\n",
            " 7   offered_by              6636 non-null   object\n",
            " 8   language                6636 non-null   object\n",
            " 9   syllabus_heading        6636 non-null   object\n",
            " 10  syllabus_details        6636 non-null   object\n",
            " 11  numeric_difficulty_lvl  6636 non-null   int64 \n",
            " 12  duration_label          6636 non-null   object\n",
            "dtypes: int64(2), object(11)\n",
            "memory usage: 674.1+ KB\n"
          ]
        }
      ]
    },
    {
      "cell_type": "code",
      "source": [
        "coursedata.head()"
      ],
      "metadata": {
        "colab": {
          "base_uri": "https://localhost:8080/",
          "height": 635
        },
        "id": "54zIl1jYBghG",
        "outputId": "0028c6e6-7a9b-4ad4-aaad-62dd8e7cb16a"
      },
      "execution_count": null,
      "outputs": [
        {
          "output_type": "execute_result",
          "data": {
            "text/plain": [
              "                                      course_title difficulty_level  duration                                             skills                       instructors                                        description      rating                                  offered_by language                                   syllabus_heading                                   syllabus_details  numeric_difficulty_lvl           duration_label\n",
              "0                 Cloud Computing Concepts, Part 1   Beginner Level        23  ['Distributed Algorithm', 'Distributed Computi...                ['Indranil Gupta']  Cloud computing systems today, whether open-so...  4.4\\nstars  University of Illinois at Urbana-Champaign  English  ['Week 1: Orientation, Introduction to Clouds,...  ['This course is oriented towards learners wit...                       1  Medium Course  Duration\n",
              "1                  The Challenges of Global Health   Beginner Level        20                                                 []                ['Dr. David Boyd']  What are the world’s major health challenges? ...  4.8\\nstars                             Duke University  English  ['Getting Started', 'Basic Concepts in Global ...  ['Start here! ', 'This module covers some of t...                       1  Medium Course  Duration\n",
              "2            Digital Marketing Analytics in Theory   Beginner Level        20  ['Digital Marketing', 'Data Collection', 'Anal...                 ['Kevin Hartman']  Successfully marketing brands today requires a...  4.5\\nstars  University of Illinois at Urbana-Champaign  English  ['Course Overview and The Day The Geeks Took O...  ['In the orientation, you will become familiar...                       1  Medium Course  Duration\n",
              "3  Digital Product Management: Modern Fundamentals   Beginner Level        11  ['Product/Market Fit', 'Product Management', '...                    ['Alex Cowan']  Not so long ago, the job of product manager wa...  4.7\\nstars                      University of Virginia  English  ['Achieving Focus and #Winning', \"Using Today'...  ['As a product manager, you and your team will...                       1  Medium Course  Duration\n",
              "4                             The Nature of Genius   Beginner Level        28  ['Creativity', 'Art', 'History', 'Psychology',...  ['Craig Wright\\nTOP INSTRUCTOR']  Today \"genius\" is all around us. Celebrities, ...         NaN                             Yale University  English  ['Genius Defined,   Genius Denied ,  Genius an...  ['In Section 1 of Module 1 we determine, jokin...                       1  Medium Course  Duration"
            ],
            "text/html": [
              "\n",
              "  <div id=\"df-8d5177ed-5a8a-4ce1-8a4a-d73c3512892e\">\n",
              "    <div class=\"colab-df-container\">\n",
              "      <div>\n",
              "<style scoped>\n",
              "    .dataframe tbody tr th:only-of-type {\n",
              "        vertical-align: middle;\n",
              "    }\n",
              "\n",
              "    .dataframe tbody tr th {\n",
              "        vertical-align: top;\n",
              "    }\n",
              "\n",
              "    .dataframe thead th {\n",
              "        text-align: right;\n",
              "    }\n",
              "</style>\n",
              "<table border=\"1\" class=\"dataframe\">\n",
              "  <thead>\n",
              "    <tr style=\"text-align: right;\">\n",
              "      <th></th>\n",
              "      <th>course_title</th>\n",
              "      <th>difficulty_level</th>\n",
              "      <th>duration</th>\n",
              "      <th>skills</th>\n",
              "      <th>instructors</th>\n",
              "      <th>description</th>\n",
              "      <th>rating</th>\n",
              "      <th>offered_by</th>\n",
              "      <th>language</th>\n",
              "      <th>syllabus_heading</th>\n",
              "      <th>syllabus_details</th>\n",
              "      <th>numeric_difficulty_lvl</th>\n",
              "      <th>duration_label</th>\n",
              "    </tr>\n",
              "  </thead>\n",
              "  <tbody>\n",
              "    <tr>\n",
              "      <th>0</th>\n",
              "      <td>Cloud Computing Concepts, Part 1</td>\n",
              "      <td>Beginner Level</td>\n",
              "      <td>23</td>\n",
              "      <td>['Distributed Algorithm', 'Distributed Computi...</td>\n",
              "      <td>['Indranil Gupta']</td>\n",
              "      <td>Cloud computing systems today, whether open-so...</td>\n",
              "      <td>4.4\\nstars</td>\n",
              "      <td>University of Illinois at Urbana-Champaign</td>\n",
              "      <td>English</td>\n",
              "      <td>['Week 1: Orientation, Introduction to Clouds,...</td>\n",
              "      <td>['This course is oriented towards learners wit...</td>\n",
              "      <td>1</td>\n",
              "      <td>Medium Course  Duration</td>\n",
              "    </tr>\n",
              "    <tr>\n",
              "      <th>1</th>\n",
              "      <td>The Challenges of Global Health</td>\n",
              "      <td>Beginner Level</td>\n",
              "      <td>20</td>\n",
              "      <td>[]</td>\n",
              "      <td>['Dr. David Boyd']</td>\n",
              "      <td>What are the world’s major health challenges? ...</td>\n",
              "      <td>4.8\\nstars</td>\n",
              "      <td>Duke University</td>\n",
              "      <td>English</td>\n",
              "      <td>['Getting Started', 'Basic Concepts in Global ...</td>\n",
              "      <td>['Start here! ', 'This module covers some of t...</td>\n",
              "      <td>1</td>\n",
              "      <td>Medium Course  Duration</td>\n",
              "    </tr>\n",
              "    <tr>\n",
              "      <th>2</th>\n",
              "      <td>Digital Marketing Analytics in Theory</td>\n",
              "      <td>Beginner Level</td>\n",
              "      <td>20</td>\n",
              "      <td>['Digital Marketing', 'Data Collection', 'Anal...</td>\n",
              "      <td>['Kevin Hartman']</td>\n",
              "      <td>Successfully marketing brands today requires a...</td>\n",
              "      <td>4.5\\nstars</td>\n",
              "      <td>University of Illinois at Urbana-Champaign</td>\n",
              "      <td>English</td>\n",
              "      <td>['Course Overview and The Day The Geeks Took O...</td>\n",
              "      <td>['In the orientation, you will become familiar...</td>\n",
              "      <td>1</td>\n",
              "      <td>Medium Course  Duration</td>\n",
              "    </tr>\n",
              "    <tr>\n",
              "      <th>3</th>\n",
              "      <td>Digital Product Management: Modern Fundamentals</td>\n",
              "      <td>Beginner Level</td>\n",
              "      <td>11</td>\n",
              "      <td>['Product/Market Fit', 'Product Management', '...</td>\n",
              "      <td>['Alex Cowan']</td>\n",
              "      <td>Not so long ago, the job of product manager wa...</td>\n",
              "      <td>4.7\\nstars</td>\n",
              "      <td>University of Virginia</td>\n",
              "      <td>English</td>\n",
              "      <td>['Achieving Focus and #Winning', \"Using Today'...</td>\n",
              "      <td>['As a product manager, you and your team will...</td>\n",
              "      <td>1</td>\n",
              "      <td>Medium Course  Duration</td>\n",
              "    </tr>\n",
              "    <tr>\n",
              "      <th>4</th>\n",
              "      <td>The Nature of Genius</td>\n",
              "      <td>Beginner Level</td>\n",
              "      <td>28</td>\n",
              "      <td>['Creativity', 'Art', 'History', 'Psychology',...</td>\n",
              "      <td>['Craig Wright\\nTOP INSTRUCTOR']</td>\n",
              "      <td>Today \"genius\" is all around us. Celebrities, ...</td>\n",
              "      <td>NaN</td>\n",
              "      <td>Yale University</td>\n",
              "      <td>English</td>\n",
              "      <td>['Genius Defined,   Genius Denied ,  Genius an...</td>\n",
              "      <td>['In Section 1 of Module 1 we determine, jokin...</td>\n",
              "      <td>1</td>\n",
              "      <td>Medium Course  Duration</td>\n",
              "    </tr>\n",
              "  </tbody>\n",
              "</table>\n",
              "</div>\n",
              "      <button class=\"colab-df-convert\" onclick=\"convertToInteractive('df-8d5177ed-5a8a-4ce1-8a4a-d73c3512892e')\"\n",
              "              title=\"Convert this dataframe to an interactive table.\"\n",
              "              style=\"display:none;\">\n",
              "        \n",
              "  <svg xmlns=\"http://www.w3.org/2000/svg\" height=\"24px\"viewBox=\"0 0 24 24\"\n",
              "       width=\"24px\">\n",
              "    <path d=\"M0 0h24v24H0V0z\" fill=\"none\"/>\n",
              "    <path d=\"M18.56 5.44l.94 2.06.94-2.06 2.06-.94-2.06-.94-.94-2.06-.94 2.06-2.06.94zm-11 1L8.5 8.5l.94-2.06 2.06-.94-2.06-.94L8.5 2.5l-.94 2.06-2.06.94zm10 10l.94 2.06.94-2.06 2.06-.94-2.06-.94-.94-2.06-.94 2.06-2.06.94z\"/><path d=\"M17.41 7.96l-1.37-1.37c-.4-.4-.92-.59-1.43-.59-.52 0-1.04.2-1.43.59L10.3 9.45l-7.72 7.72c-.78.78-.78 2.05 0 2.83L4 21.41c.39.39.9.59 1.41.59.51 0 1.02-.2 1.41-.59l7.78-7.78 2.81-2.81c.8-.78.8-2.07 0-2.86zM5.41 20L4 18.59l7.72-7.72 1.47 1.35L5.41 20z\"/>\n",
              "  </svg>\n",
              "      </button>\n",
              "      \n",
              "  <style>\n",
              "    .colab-df-container {\n",
              "      display:flex;\n",
              "      flex-wrap:wrap;\n",
              "      gap: 12px;\n",
              "    }\n",
              "\n",
              "    .colab-df-convert {\n",
              "      background-color: #E8F0FE;\n",
              "      border: none;\n",
              "      border-radius: 50%;\n",
              "      cursor: pointer;\n",
              "      display: none;\n",
              "      fill: #1967D2;\n",
              "      height: 32px;\n",
              "      padding: 0 0 0 0;\n",
              "      width: 32px;\n",
              "    }\n",
              "\n",
              "    .colab-df-convert:hover {\n",
              "      background-color: #E2EBFA;\n",
              "      box-shadow: 0px 1px 2px rgba(60, 64, 67, 0.3), 0px 1px 3px 1px rgba(60, 64, 67, 0.15);\n",
              "      fill: #174EA6;\n",
              "    }\n",
              "\n",
              "    [theme=dark] .colab-df-convert {\n",
              "      background-color: #3B4455;\n",
              "      fill: #D2E3FC;\n",
              "    }\n",
              "\n",
              "    [theme=dark] .colab-df-convert:hover {\n",
              "      background-color: #434B5C;\n",
              "      box-shadow: 0px 1px 3px 1px rgba(0, 0, 0, 0.15);\n",
              "      filter: drop-shadow(0px 1px 2px rgba(0, 0, 0, 0.3));\n",
              "      fill: #FFFFFF;\n",
              "    }\n",
              "  </style>\n",
              "\n",
              "      <script>\n",
              "        const buttonEl =\n",
              "          document.querySelector('#df-8d5177ed-5a8a-4ce1-8a4a-d73c3512892e button.colab-df-convert');\n",
              "        buttonEl.style.display =\n",
              "          google.colab.kernel.accessAllowed ? 'block' : 'none';\n",
              "\n",
              "        async function convertToInteractive(key) {\n",
              "          const element = document.querySelector('#df-8d5177ed-5a8a-4ce1-8a4a-d73c3512892e');\n",
              "          const dataTable =\n",
              "            await google.colab.kernel.invokeFunction('convertToInteractive',\n",
              "                                                     [key], {});\n",
              "          if (!dataTable) return;\n",
              "\n",
              "          const docLinkHtml = 'Like what you see? Visit the ' +\n",
              "            '<a target=\"_blank\" href=https://colab.research.google.com/notebooks/data_table.ipynb>data table notebook</a>'\n",
              "            + ' to learn more about interactive tables.';\n",
              "          element.innerHTML = '';\n",
              "          dataTable['output_type'] = 'display_data';\n",
              "          await google.colab.output.renderOutput(dataTable, element);\n",
              "          const docLink = document.createElement('div');\n",
              "          docLink.innerHTML = docLinkHtml;\n",
              "          element.appendChild(docLink);\n",
              "        }\n",
              "      </script>\n",
              "    </div>\n",
              "  </div>\n",
              "  "
            ]
          },
          "metadata": {},
          "execution_count": 28
        }
      ]
    },
    {
      "cell_type": "code",
      "source": [
        "import nltk\n",
        "nltk.download('words')"
      ],
      "metadata": {
        "colab": {
          "base_uri": "https://localhost:8080/"
        },
        "id": "lu2jt7EQMi6W",
        "outputId": "6692ca16-194f-4339-8672-ec90dc574132"
      },
      "execution_count": null,
      "outputs": [
        {
          "output_type": "stream",
          "name": "stderr",
          "text": [
            "[nltk_data] Downloading package words to /root/nltk_data...\n",
            "[nltk_data]   Unzipping corpora/words.zip.\n"
          ]
        },
        {
          "output_type": "execute_result",
          "data": {
            "text/plain": [
              "True"
            ]
          },
          "metadata": {},
          "execution_count": 29
        }
      ]
    },
    {
      "cell_type": "code",
      "source": [
        "coursedata['combined_text'] = \" CaliRollB \" + coursedata[\"course_title\"] + \" CaliRollA \" + coursedata[\"difficulty_level\"] +  coursedata[\"skills\"] +  coursedata[\"instructors\"] +  \\\n",
        "                              coursedata[\"description\"] +  coursedata[\"offered_by\"] +  coursedata[\"language\"] +  coursedata[\"syllabus_heading\"] +  \\\n",
        "                              coursedata[\"syllabus_details\"] +  coursedata[\"duration_label\"]\n",
        "coursedata['combined_text'][0]"
      ],
      "metadata": {
        "colab": {
          "base_uri": "https://localhost:8080/",
          "height": 192
        },
        "id": "0P8k4bhvBifX",
        "outputId": "79b60d7a-a29c-4671-8119-ebfe52a77eee"
      },
      "execution_count": null,
      "outputs": [
        {
          "output_type": "execute_result",
          "data": {
            "text/plain": [
              "' CaliRollB Cloud Computing Concepts, Part 1 CaliRollA Beginner Level[\\'Distributed Algorithm\\', \\'Distributed Computing\\', \\'C++\\', \\'Cloud Computing\\'][\\'Indranil Gupta\\']Cloud computing systems today, whether open-source or used inside companies, are built using a common set of core techniques, algorithms, and design philosophies – all centered around distributed systems. Learn about such fundamental distributed computing \"concepts\" for cloud computing. Some of these concepts include: clouds, MapReduce, key-value/NoSQL stores, classical distributed algorithms, widely-used distributed algorithms, scalability, trending areas, and much, much more! \\n \\nKnow how these systems work from the inside out. Get your hands dirty using these concepts with provided homework exercises. In the programming assignments, implement some of these concepts in template code (programs) provided in the C++ programming language. Prior experience with C++ is required.\\n \\nThe course also features interviews with leading researchers and managers, from both industry and academia. The University of Illinois at Urbana-Champaign is a world leader in research, teaching and public engagement, distinguished by the breadth of its programs, broad academic excellence, and internationally renowned faculty and alumni. Illinois serves the world by creating knowledge, preparing students for lives of impact, and finding solutions to critical societal needs. This course is oriented towards learners with similar backgrounds as juniors and seniors in a CS undergraduate curriculum. Since learners come from various backgrounds, it is critical you view this lecture AND pass the prerequisite test. This will ensure you have many of the assumed prerequisite pieces of knowledge required to enjoy this course. Lesson 1: This module teaches how the multicast problem is solved by using epidemic/gossip protocols. It also teaches analysis of such protocols. Lesson 2: This module covers the design of failure detectors, a key component in any distributed system. Membership protocols, which use failure detectors as components, are also covered. Lesson 3: This module covers Grid computing, an important precursor to cloud computing. P2P systems: This module teaches the detailed design of two classes of peer to peer systems: (a) popular ones including Napster, Gnutella, FastTrack, and BitTorrent; and (b) efficient ones including distributed hash tables (Chord, Pastry, and Kelips). Besides focusing on design, the module also analyzes these systems in detail. Lesson 1: This module motivates and teaches the design of key-value/NoSQL storage/database systems. We cover the design of two major industry systems: Apache Cassandra and HBase. We also cover the famous CAP theorem. Lesson 2: Distributed systems are asynchronous, which makes clocks at different machines hard to synchronize. This module first covers various clock synchronization algorithms, and then covers ways of tagging events with causal timestamps that avoid synchronizing clocks. These classical algorithms were invented decades ago, yet are used widely in today’s cloud systems.  The Cloud Computing Specialization takes you on a tour through cloud computing systems. We start in in the middle layer with Cloud Computing Concepts covering core distributed systems concepts used inside clouds, move to the upper layer of Cloud Applications and finally to the lower layer of Cloud Networking. We conclude with a project that allows you to apply the skills you\\'ve learned throughout the courses. University of Illinois at Urbana-ChampaignEnglish[\\'Week 1: Orientation, Introduction to Clouds, MapReduce \\', \\'Week 2: Gossip, Membership, and Grids\\', \\'Week 3: P2P Systems\\', \\'Week 4: Key-Value Stores, Time, and Ordering\\', \\'Week 5: Classical Distributed Algorithms\\'][\\'This course is oriented towards learners with similar backgrounds as juniors and seniors in a CS undergraduate curriculum. Since learners come from various backgrounds, it is critical you view this lecture AND pass the prerequisite test. This will ensure you have many of the assumed prerequisite pieces of knowledge required to enjoy this course. \\', \\'Lesson 1: This module teaches how the multicast problem is solved by using epidemic/gossip protocols. It also teaches analysis of such protocols. Lesson 2: This module covers the design of failure detectors, a key component in any distributed system. Membership protocols, which use failure detectors as components, are also covered. Lesson 3: This module covers Grid computing, an important precursor to cloud computing.\\', \\'P2P systems: This module teaches the detailed design of two classes of peer to peer systems: (a) popular ones including Napster, Gnutella, FastTrack, and BitTorrent; and (b) efficient ones including distributed hash tables (Chord, Pastry, and Kelips). Besides focusing on design, the module also analyzes these systems in detail.\\', \\'Lesson 1: This module motivates and teaches the design of key-value/NoSQL storage/database systems. We cover the design of two major industry systems: Apache Cassandra and HBase. We also cover the famous CAP theorem.  Lesson 2: Distributed systems are asynchronous, which makes clocks at different machines hard to synchronize. This module first covers various clock synchronization algorithms, and then covers ways of tagging events with causal timestamps that avoid synchronizing clocks. These classical algorithms were invented decades ago, yet are used widely in today’s cloud systems.\\', \\'Lesson 1: This module covers how to calculate a distributed snapshot, leveraging causality again to circumvent the synchronization problem. Lesson 2: This lecture teaches how to order multicasts in any distributed system. Algorithms for assigning timestamp tags to multicasts using various flavors of ordering – FIFO, Causal, and Total – are covered. The module also covers virtual synchrony, a paradigm that combines reliable multicasts with membership views.  Lesson 3: Consensus is one of the most important problems in a distributed system, enabling multiple machines to agree. This module uses Paxos, one of the most popular consensus solutions used in the industry today. Paxos is not perfect because consensus cannot be solved completely – an optional lecture presents the famous FLP proof of impossibility of consensus. \\']Medium Course  Duration'"
            ],
            "application/vnd.google.colaboratory.intrinsic+json": {
              "type": "string"
            }
          },
          "metadata": {},
          "execution_count": 30
        }
      ]
    },
    {
      "cell_type": "code",
      "source": [
        "coursedata['combined_text'][0]"
      ],
      "metadata": {
        "colab": {
          "base_uri": "https://localhost:8080/",
          "height": 192
        },
        "id": "ntaOOzTyKBcX",
        "outputId": "ec668535-1f6f-444a-a73b-db8e45647d9a"
      },
      "execution_count": null,
      "outputs": [
        {
          "output_type": "execute_result",
          "data": {
            "text/plain": [
              "' CaliRollB Cloud Computing Concepts, Part 1 CaliRollA Beginner Level[\\'Distributed Algorithm\\', \\'Distributed Computing\\', \\'C++\\', \\'Cloud Computing\\'][\\'Indranil Gupta\\']Cloud computing systems today, whether open-source or used inside companies, are built using a common set of core techniques, algorithms, and design philosophies – all centered around distributed systems. Learn about such fundamental distributed computing \"concepts\" for cloud computing. Some of these concepts include: clouds, MapReduce, key-value/NoSQL stores, classical distributed algorithms, widely-used distributed algorithms, scalability, trending areas, and much, much more! \\n \\nKnow how these systems work from the inside out. Get your hands dirty using these concepts with provided homework exercises. In the programming assignments, implement some of these concepts in template code (programs) provided in the C++ programming language. Prior experience with C++ is required.\\n \\nThe course also features interviews with leading researchers and managers, from both industry and academia. The University of Illinois at Urbana-Champaign is a world leader in research, teaching and public engagement, distinguished by the breadth of its programs, broad academic excellence, and internationally renowned faculty and alumni. Illinois serves the world by creating knowledge, preparing students for lives of impact, and finding solutions to critical societal needs. This course is oriented towards learners with similar backgrounds as juniors and seniors in a CS undergraduate curriculum. Since learners come from various backgrounds, it is critical you view this lecture AND pass the prerequisite test. This will ensure you have many of the assumed prerequisite pieces of knowledge required to enjoy this course. Lesson 1: This module teaches how the multicast problem is solved by using epidemic/gossip protocols. It also teaches analysis of such protocols. Lesson 2: This module covers the design of failure detectors, a key component in any distributed system. Membership protocols, which use failure detectors as components, are also covered. Lesson 3: This module covers Grid computing, an important precursor to cloud computing. P2P systems: This module teaches the detailed design of two classes of peer to peer systems: (a) popular ones including Napster, Gnutella, FastTrack, and BitTorrent; and (b) efficient ones including distributed hash tables (Chord, Pastry, and Kelips). Besides focusing on design, the module also analyzes these systems in detail. Lesson 1: This module motivates and teaches the design of key-value/NoSQL storage/database systems. We cover the design of two major industry systems: Apache Cassandra and HBase. We also cover the famous CAP theorem. Lesson 2: Distributed systems are asynchronous, which makes clocks at different machines hard to synchronize. This module first covers various clock synchronization algorithms, and then covers ways of tagging events with causal timestamps that avoid synchronizing clocks. These classical algorithms were invented decades ago, yet are used widely in today’s cloud systems.  The Cloud Computing Specialization takes you on a tour through cloud computing systems. We start in in the middle layer with Cloud Computing Concepts covering core distributed systems concepts used inside clouds, move to the upper layer of Cloud Applications and finally to the lower layer of Cloud Networking. We conclude with a project that allows you to apply the skills you\\'ve learned throughout the courses. University of Illinois at Urbana-ChampaignEnglish[\\'Week 1: Orientation, Introduction to Clouds, MapReduce \\', \\'Week 2: Gossip, Membership, and Grids\\', \\'Week 3: P2P Systems\\', \\'Week 4: Key-Value Stores, Time, and Ordering\\', \\'Week 5: Classical Distributed Algorithms\\'][\\'This course is oriented towards learners with similar backgrounds as juniors and seniors in a CS undergraduate curriculum. Since learners come from various backgrounds, it is critical you view this lecture AND pass the prerequisite test. This will ensure you have many of the assumed prerequisite pieces of knowledge required to enjoy this course. \\', \\'Lesson 1: This module teaches how the multicast problem is solved by using epidemic/gossip protocols. It also teaches analysis of such protocols. Lesson 2: This module covers the design of failure detectors, a key component in any distributed system. Membership protocols, which use failure detectors as components, are also covered. Lesson 3: This module covers Grid computing, an important precursor to cloud computing.\\', \\'P2P systems: This module teaches the detailed design of two classes of peer to peer systems: (a) popular ones including Napster, Gnutella, FastTrack, and BitTorrent; and (b) efficient ones including distributed hash tables (Chord, Pastry, and Kelips). Besides focusing on design, the module also analyzes these systems in detail.\\', \\'Lesson 1: This module motivates and teaches the design of key-value/NoSQL storage/database systems. We cover the design of two major industry systems: Apache Cassandra and HBase. We also cover the famous CAP theorem.  Lesson 2: Distributed systems are asynchronous, which makes clocks at different machines hard to synchronize. This module first covers various clock synchronization algorithms, and then covers ways of tagging events with causal timestamps that avoid synchronizing clocks. These classical algorithms were invented decades ago, yet are used widely in today’s cloud systems.\\', \\'Lesson 1: This module covers how to calculate a distributed snapshot, leveraging causality again to circumvent the synchronization problem. Lesson 2: This lecture teaches how to order multicasts in any distributed system. Algorithms for assigning timestamp tags to multicasts using various flavors of ordering – FIFO, Causal, and Total – are covered. The module also covers virtual synchrony, a paradigm that combines reliable multicasts with membership views.  Lesson 3: Consensus is one of the most important problems in a distributed system, enabling multiple machines to agree. This module uses Paxos, one of the most popular consensus solutions used in the industry today. Paxos is not perfect because consensus cannot be solved completely – an optional lecture presents the famous FLP proof of impossibility of consensus. \\']Medium Course  Duration'"
            ],
            "application/vnd.google.colaboratory.intrinsic+json": {
              "type": "string"
            }
          },
          "metadata": {},
          "execution_count": 31
        }
      ]
    },
    {
      "cell_type": "code",
      "source": [],
      "metadata": {
        "id": "_D37i8OFORMN"
      },
      "execution_count": null,
      "outputs": []
    },
    {
      "cell_type": "markdown",
      "source": [
        "#Data Cleaning"
      ],
      "metadata": {
        "id": "FzxvMlIHSUN-"
      }
    },
    {
      "cell_type": "code",
      "source": [
        "#Importing Necessary Libraries for Text Processing\n",
        "import nltk\n",
        "from nltk.corpus import stopwords\n",
        "from nltk.stem.porter import PorterStemmer\n",
        "#from wordcloud import WordCloud,STOPWORDS\n",
        "from nltk.stem import WordNetLemmatizer\n",
        "from nltk.tokenize import word_tokenize\n",
        "import re,string\n",
        "from keras.preprocessing import text, sequence\n",
        "from sklearn.metrics import classification_report,confusion_matrix,accuracy_score\n",
        "from sklearn.model_selection import train_test_split\n",
        "from string import punctuation\n",
        "import keras\n",
        "from keras.models import Sequential\n",
        "import tensorflow as tf\n",
        "from tensorflow.keras.preprocessing.text import Tokenizer\n",
        "from tensorflow.keras.preprocessing.sequence import pad_sequences"
      ],
      "metadata": {
        "id": "5YQIisaiDpcP"
      },
      "execution_count": null,
      "outputs": []
    },
    {
      "cell_type": "code",
      "source": [
        "#Downloading Stopwords\n",
        "nltk.download('stopwords')"
      ],
      "metadata": {
        "colab": {
          "base_uri": "https://localhost:8080/"
        },
        "id": "b565dRCTFKZa",
        "outputId": "250e5d88-7c61-4cb5-adcb-a44a70fbb97f"
      },
      "execution_count": null,
      "outputs": [
        {
          "output_type": "stream",
          "name": "stderr",
          "text": [
            "[nltk_data] Downloading package stopwords to /root/nltk_data...\n",
            "[nltk_data]   Unzipping corpora/stopwords.zip.\n"
          ]
        },
        {
          "output_type": "execute_result",
          "data": {
            "text/plain": [
              "True"
            ]
          },
          "metadata": {},
          "execution_count": 33
        }
      ]
    },
    {
      "cell_type": "code",
      "source": [
        "#Load English Stop Words\n",
        "stopword = stopwords.words('english')\n",
        "print(\"Stopwords:\",stopword)"
      ],
      "metadata": {
        "colab": {
          "base_uri": "https://localhost:8080/"
        },
        "id": "68rvEog5FOt5",
        "outputId": "17ad5d91-b455-4ecf-b4c2-f88709818219"
      },
      "execution_count": null,
      "outputs": [
        {
          "output_type": "stream",
          "name": "stdout",
          "text": [
            "Stopwords: ['i', 'me', 'my', 'myself', 'we', 'our', 'ours', 'ourselves', 'you', \"you're\", \"you've\", \"you'll\", \"you'd\", 'your', 'yours', 'yourself', 'yourselves', 'he', 'him', 'his', 'himself', 'she', \"she's\", 'her', 'hers', 'herself', 'it', \"it's\", 'its', 'itself', 'they', 'them', 'their', 'theirs', 'themselves', 'what', 'which', 'who', 'whom', 'this', 'that', \"that'll\", 'these', 'those', 'am', 'is', 'are', 'was', 'were', 'be', 'been', 'being', 'have', 'has', 'had', 'having', 'do', 'does', 'did', 'doing', 'a', 'an', 'the', 'and', 'but', 'if', 'or', 'because', 'as', 'until', 'while', 'of', 'at', 'by', 'for', 'with', 'about', 'against', 'between', 'into', 'through', 'during', 'before', 'after', 'above', 'below', 'to', 'from', 'up', 'down', 'in', 'out', 'on', 'off', 'over', 'under', 'again', 'further', 'then', 'once', 'here', 'there', 'when', 'where', 'why', 'how', 'all', 'any', 'both', 'each', 'few', 'more', 'most', 'other', 'some', 'such', 'no', 'nor', 'not', 'only', 'own', 'same', 'so', 'than', 'too', 'very', 's', 't', 'can', 'will', 'just', 'don', \"don't\", 'should', \"should've\", 'now', 'd', 'll', 'm', 'o', 're', 've', 'y', 'ain', 'aren', \"aren't\", 'couldn', \"couldn't\", 'didn', \"didn't\", 'doesn', \"doesn't\", 'hadn', \"hadn't\", 'hasn', \"hasn't\", 'haven', \"haven't\", 'isn', \"isn't\", 'ma', 'mightn', \"mightn't\", 'mustn', \"mustn't\", 'needn', \"needn't\", 'shan', \"shan't\", 'shouldn', \"shouldn't\", 'wasn', \"wasn't\", 'weren', \"weren't\", 'won', \"won't\", 'wouldn', \"wouldn't\"]\n"
          ]
        }
      ]
    },
    {
      "cell_type": "code",
      "source": [
        "#Clean Function\n",
        "def clean_text(twee):\n",
        "    #Remove URL\n",
        "    twee = re.sub(r'https?://\\S+|www\\.\\S+', \" \", twee)\n",
        "\n",
        "    #Remove Mentions\n",
        "    twee = re.sub(r'@\\w+',' ',twee)\n",
        "\n",
        "    #Remove Punctuation\n",
        "    twee= re.sub(r'[^\\w\\s\\d\\$]',' ',twee)\n",
        "\n",
        "    #Remove Digits\n",
        "    twee = re.sub(r'\\d+', ' ', twee)\n",
        "\n",
        "    #Remove HTML tags\n",
        "    twee = re.sub('r<.*?>',' ', twee)\n",
        "\n",
        "    #Remove Hastags\n",
        "    twee = re.sub(r'#\\w+', ' ', twee)\n",
        "\n",
        "    #Remove Stop Words \n",
        "    twee = twee.split()\n",
        "    #twee = \" \".join(twee)\n",
        "    \n",
        "    twee = \" \".join([word for word in twee if not word in stopword])\n",
        "\n",
        "    return twee"
      ],
      "metadata": {
        "id": "6OgRNZbIFR-v"
      },
      "execution_count": null,
      "outputs": []
    },
    {
      "cell_type": "code",
      "source": [
        "#Applying Tweet Clean Function to Both Files\n",
        "coursedata['clean_combined_text'] = coursedata['combined_text'].astype(str).apply(lambda x: clean_text(x))"
      ],
      "metadata": {
        "id": "ZpxdxiWkFXJ2"
      },
      "execution_count": null,
      "outputs": []
    },
    {
      "cell_type": "code",
      "source": [
        "coursedata['combined_text'][0]"
      ],
      "metadata": {
        "colab": {
          "base_uri": "https://localhost:8080/",
          "height": 192
        },
        "id": "HnTIgp8fFnZb",
        "outputId": "09a117a0-689e-497e-f413-943f8baaa357"
      },
      "execution_count": null,
      "outputs": [
        {
          "output_type": "execute_result",
          "data": {
            "text/plain": [
              "' CaliRollB Cloud Computing Concepts, Part 1 CaliRollA Beginner Level[\\'Distributed Algorithm\\', \\'Distributed Computing\\', \\'C++\\', \\'Cloud Computing\\'][\\'Indranil Gupta\\']Cloud computing systems today, whether open-source or used inside companies, are built using a common set of core techniques, algorithms, and design philosophies – all centered around distributed systems. Learn about such fundamental distributed computing \"concepts\" for cloud computing. Some of these concepts include: clouds, MapReduce, key-value/NoSQL stores, classical distributed algorithms, widely-used distributed algorithms, scalability, trending areas, and much, much more! \\n \\nKnow how these systems work from the inside out. Get your hands dirty using these concepts with provided homework exercises. In the programming assignments, implement some of these concepts in template code (programs) provided in the C++ programming language. Prior experience with C++ is required.\\n \\nThe course also features interviews with leading researchers and managers, from both industry and academia. The University of Illinois at Urbana-Champaign is a world leader in research, teaching and public engagement, distinguished by the breadth of its programs, broad academic excellence, and internationally renowned faculty and alumni. Illinois serves the world by creating knowledge, preparing students for lives of impact, and finding solutions to critical societal needs. This course is oriented towards learners with similar backgrounds as juniors and seniors in a CS undergraduate curriculum. Since learners come from various backgrounds, it is critical you view this lecture AND pass the prerequisite test. This will ensure you have many of the assumed prerequisite pieces of knowledge required to enjoy this course. Lesson 1: This module teaches how the multicast problem is solved by using epidemic/gossip protocols. It also teaches analysis of such protocols. Lesson 2: This module covers the design of failure detectors, a key component in any distributed system. Membership protocols, which use failure detectors as components, are also covered. Lesson 3: This module covers Grid computing, an important precursor to cloud computing. P2P systems: This module teaches the detailed design of two classes of peer to peer systems: (a) popular ones including Napster, Gnutella, FastTrack, and BitTorrent; and (b) efficient ones including distributed hash tables (Chord, Pastry, and Kelips). Besides focusing on design, the module also analyzes these systems in detail. Lesson 1: This module motivates and teaches the design of key-value/NoSQL storage/database systems. We cover the design of two major industry systems: Apache Cassandra and HBase. We also cover the famous CAP theorem. Lesson 2: Distributed systems are asynchronous, which makes clocks at different machines hard to synchronize. This module first covers various clock synchronization algorithms, and then covers ways of tagging events with causal timestamps that avoid synchronizing clocks. These classical algorithms were invented decades ago, yet are used widely in today’s cloud systems.  The Cloud Computing Specialization takes you on a tour through cloud computing systems. We start in in the middle layer with Cloud Computing Concepts covering core distributed systems concepts used inside clouds, move to the upper layer of Cloud Applications and finally to the lower layer of Cloud Networking. We conclude with a project that allows you to apply the skills you\\'ve learned throughout the courses. University of Illinois at Urbana-ChampaignEnglish[\\'Week 1: Orientation, Introduction to Clouds, MapReduce \\', \\'Week 2: Gossip, Membership, and Grids\\', \\'Week 3: P2P Systems\\', \\'Week 4: Key-Value Stores, Time, and Ordering\\', \\'Week 5: Classical Distributed Algorithms\\'][\\'This course is oriented towards learners with similar backgrounds as juniors and seniors in a CS undergraduate curriculum. Since learners come from various backgrounds, it is critical you view this lecture AND pass the prerequisite test. This will ensure you have many of the assumed prerequisite pieces of knowledge required to enjoy this course. \\', \\'Lesson 1: This module teaches how the multicast problem is solved by using epidemic/gossip protocols. It also teaches analysis of such protocols. Lesson 2: This module covers the design of failure detectors, a key component in any distributed system. Membership protocols, which use failure detectors as components, are also covered. Lesson 3: This module covers Grid computing, an important precursor to cloud computing.\\', \\'P2P systems: This module teaches the detailed design of two classes of peer to peer systems: (a) popular ones including Napster, Gnutella, FastTrack, and BitTorrent; and (b) efficient ones including distributed hash tables (Chord, Pastry, and Kelips). Besides focusing on design, the module also analyzes these systems in detail.\\', \\'Lesson 1: This module motivates and teaches the design of key-value/NoSQL storage/database systems. We cover the design of two major industry systems: Apache Cassandra and HBase. We also cover the famous CAP theorem.  Lesson 2: Distributed systems are asynchronous, which makes clocks at different machines hard to synchronize. This module first covers various clock synchronization algorithms, and then covers ways of tagging events with causal timestamps that avoid synchronizing clocks. These classical algorithms were invented decades ago, yet are used widely in today’s cloud systems.\\', \\'Lesson 1: This module covers how to calculate a distributed snapshot, leveraging causality again to circumvent the synchronization problem. Lesson 2: This lecture teaches how to order multicasts in any distributed system. Algorithms for assigning timestamp tags to multicasts using various flavors of ordering – FIFO, Causal, and Total – are covered. The module also covers virtual synchrony, a paradigm that combines reliable multicasts with membership views.  Lesson 3: Consensus is one of the most important problems in a distributed system, enabling multiple machines to agree. This module uses Paxos, one of the most popular consensus solutions used in the industry today. Paxos is not perfect because consensus cannot be solved completely – an optional lecture presents the famous FLP proof of impossibility of consensus. \\']Medium Course  Duration'"
            ],
            "application/vnd.google.colaboratory.intrinsic+json": {
              "type": "string"
            }
          },
          "metadata": {},
          "execution_count": 37
        }
      ]
    },
    {
      "cell_type": "code",
      "source": [
        "coursedata['clean_combined_text'][0]"
      ],
      "metadata": {
        "colab": {
          "base_uri": "https://localhost:8080/",
          "height": 192
        },
        "id": "oNnI70_vGD2M",
        "outputId": "5cb797cc-c2c0-4209-c6eb-c385a5f87191"
      },
      "execution_count": null,
      "outputs": [
        {
          "output_type": "execute_result",
          "data": {
            "text/plain": [
              "'CaliRollB Cloud Computing Concepts Part CaliRollA Beginner Level Distributed Algorithm Distributed Computing C Cloud Computing Indranil Gupta Cloud computing systems today whether open source used inside companies built using common set core techniques algorithms design philosophies centered around distributed systems Learn fundamental distributed computing concepts cloud computing Some concepts include clouds MapReduce key value NoSQL stores classical distributed algorithms widely used distributed algorithms scalability trending areas much much Know systems work inside Get hands dirty using concepts provided homework exercises In programming assignments implement concepts template code programs provided C programming language Prior experience C required The course also features interviews leading researchers managers industry academia The University Illinois Urbana Champaign world leader research teaching public engagement distinguished breadth programs broad academic excellence internationally renowned faculty alumni Illinois serves world creating knowledge preparing students lives impact finding solutions critical societal needs This course oriented towards learners similar backgrounds juniors seniors CS undergraduate curriculum Since learners come various backgrounds critical view lecture AND pass prerequisite test This ensure many assumed prerequisite pieces knowledge required enjoy course Lesson This module teaches multicast problem solved using epidemic gossip protocols It also teaches analysis protocols Lesson This module covers design failure detectors key component distributed system Membership protocols use failure detectors components also covered Lesson This module covers Grid computing important precursor cloud computing P P systems This module teaches detailed design two classes peer peer systems popular ones including Napster Gnutella FastTrack BitTorrent b efficient ones including distributed hash tables Chord Pastry Kelips Besides focusing design module also analyzes systems detail Lesson This module motivates teaches design key value NoSQL storage database systems We cover design two major industry systems Apache Cassandra HBase We also cover famous CAP theorem Lesson Distributed systems asynchronous makes clocks different machines hard synchronize This module first covers various clock synchronization algorithms covers ways tagging events causal timestamps avoid synchronizing clocks These classical algorithms invented decades ago yet used widely today cloud systems The Cloud Computing Specialization takes tour cloud computing systems We start middle layer Cloud Computing Concepts covering core distributed systems concepts used inside clouds move upper layer Cloud Applications finally lower layer Cloud Networking We conclude project allows apply skills learned throughout courses University Illinois Urbana ChampaignEnglish Week Orientation Introduction Clouds MapReduce Week Gossip Membership Grids Week P P Systems Week Key Value Stores Time Ordering Week Classical Distributed Algorithms This course oriented towards learners similar backgrounds juniors seniors CS undergraduate curriculum Since learners come various backgrounds critical view lecture AND pass prerequisite test This ensure many assumed prerequisite pieces knowledge required enjoy course Lesson This module teaches multicast problem solved using epidemic gossip protocols It also teaches analysis protocols Lesson This module covers design failure detectors key component distributed system Membership protocols use failure detectors components also covered Lesson This module covers Grid computing important precursor cloud computing P P systems This module teaches detailed design two classes peer peer systems popular ones including Napster Gnutella FastTrack BitTorrent b efficient ones including distributed hash tables Chord Pastry Kelips Besides focusing design module also analyzes systems detail Lesson This module motivates teaches design key value NoSQL storage database systems We cover design two major industry systems Apache Cassandra HBase We also cover famous CAP theorem Lesson Distributed systems asynchronous makes clocks different machines hard synchronize This module first covers various clock synchronization algorithms covers ways tagging events causal timestamps avoid synchronizing clocks These classical algorithms invented decades ago yet used widely today cloud systems Lesson This module covers calculate distributed snapshot leveraging causality circumvent synchronization problem Lesson This lecture teaches order multicasts distributed system Algorithms assigning timestamp tags multicasts using various flavors ordering FIFO Causal Total covered The module also covers virtual synchrony paradigm combines reliable multicasts membership views Lesson Consensus one important problems distributed system enabling multiple machines agree This module uses Paxos one popular consensus solutions used industry today Paxos perfect consensus cannot solved completely optional lecture presents famous FLP proof impossibility consensus Medium Course Duration'"
            ],
            "application/vnd.google.colaboratory.intrinsic+json": {
              "type": "string"
            }
          },
          "metadata": {},
          "execution_count": 38
        }
      ]
    },
    {
      "cell_type": "code",
      "source": [
        "coursedata2 = coursedata[coursedata.clean_combined_text.map(lambda x: x.isascii())]"
      ],
      "metadata": {
        "id": "mXUoKuM4HGf7"
      },
      "execution_count": null,
      "outputs": []
    },
    {
      "cell_type": "code",
      "source": [
        "coursedata2['clean_combined_text'][0]"
      ],
      "metadata": {
        "id": "q-pQMrUiGHDZ",
        "colab": {
          "base_uri": "https://localhost:8080/",
          "height": 192
        },
        "outputId": "cf7c67b8-a10c-41e3-c651-ee9f11576047"
      },
      "execution_count": null,
      "outputs": [
        {
          "output_type": "execute_result",
          "data": {
            "text/plain": [
              "'CaliRollB Cloud Computing Concepts Part CaliRollA Beginner Level Distributed Algorithm Distributed Computing C Cloud Computing Indranil Gupta Cloud computing systems today whether open source used inside companies built using common set core techniques algorithms design philosophies centered around distributed systems Learn fundamental distributed computing concepts cloud computing Some concepts include clouds MapReduce key value NoSQL stores classical distributed algorithms widely used distributed algorithms scalability trending areas much much Know systems work inside Get hands dirty using concepts provided homework exercises In programming assignments implement concepts template code programs provided C programming language Prior experience C required The course also features interviews leading researchers managers industry academia The University Illinois Urbana Champaign world leader research teaching public engagement distinguished breadth programs broad academic excellence internationally renowned faculty alumni Illinois serves world creating knowledge preparing students lives impact finding solutions critical societal needs This course oriented towards learners similar backgrounds juniors seniors CS undergraduate curriculum Since learners come various backgrounds critical view lecture AND pass prerequisite test This ensure many assumed prerequisite pieces knowledge required enjoy course Lesson This module teaches multicast problem solved using epidemic gossip protocols It also teaches analysis protocols Lesson This module covers design failure detectors key component distributed system Membership protocols use failure detectors components also covered Lesson This module covers Grid computing important precursor cloud computing P P systems This module teaches detailed design two classes peer peer systems popular ones including Napster Gnutella FastTrack BitTorrent b efficient ones including distributed hash tables Chord Pastry Kelips Besides focusing design module also analyzes systems detail Lesson This module motivates teaches design key value NoSQL storage database systems We cover design two major industry systems Apache Cassandra HBase We also cover famous CAP theorem Lesson Distributed systems asynchronous makes clocks different machines hard synchronize This module first covers various clock synchronization algorithms covers ways tagging events causal timestamps avoid synchronizing clocks These classical algorithms invented decades ago yet used widely today cloud systems The Cloud Computing Specialization takes tour cloud computing systems We start middle layer Cloud Computing Concepts covering core distributed systems concepts used inside clouds move upper layer Cloud Applications finally lower layer Cloud Networking We conclude project allows apply skills learned throughout courses University Illinois Urbana ChampaignEnglish Week Orientation Introduction Clouds MapReduce Week Gossip Membership Grids Week P P Systems Week Key Value Stores Time Ordering Week Classical Distributed Algorithms This course oriented towards learners similar backgrounds juniors seniors CS undergraduate curriculum Since learners come various backgrounds critical view lecture AND pass prerequisite test This ensure many assumed prerequisite pieces knowledge required enjoy course Lesson This module teaches multicast problem solved using epidemic gossip protocols It also teaches analysis protocols Lesson This module covers design failure detectors key component distributed system Membership protocols use failure detectors components also covered Lesson This module covers Grid computing important precursor cloud computing P P systems This module teaches detailed design two classes peer peer systems popular ones including Napster Gnutella FastTrack BitTorrent b efficient ones including distributed hash tables Chord Pastry Kelips Besides focusing design module also analyzes systems detail Lesson This module motivates teaches design key value NoSQL storage database systems We cover design two major industry systems Apache Cassandra HBase We also cover famous CAP theorem Lesson Distributed systems asynchronous makes clocks different machines hard synchronize This module first covers various clock synchronization algorithms covers ways tagging events causal timestamps avoid synchronizing clocks These classical algorithms invented decades ago yet used widely today cloud systems Lesson This module covers calculate distributed snapshot leveraging causality circumvent synchronization problem Lesson This lecture teaches order multicasts distributed system Algorithms assigning timestamp tags multicasts using various flavors ordering FIFO Causal Total covered The module also covers virtual synchrony paradigm combines reliable multicasts membership views Lesson Consensus one important problems distributed system enabling multiple machines agree This module uses Paxos one popular consensus solutions used industry today Paxos perfect consensus cannot solved completely optional lecture presents famous FLP proof impossibility consensus Medium Course Duration'"
            ],
            "application/vnd.google.colaboratory.intrinsic+json": {
              "type": "string"
            }
          },
          "metadata": {},
          "execution_count": 40
        }
      ]
    },
    {
      "cell_type": "code",
      "source": [
        "#courseinfo[0]"
      ],
      "metadata": {
        "id": "wciQ3MJaHWj5"
      },
      "execution_count": null,
      "outputs": []
    },
    {
      "cell_type": "code",
      "source": [
        "coursedata2 = coursedata2.dropna()"
      ],
      "metadata": {
        "id": "CwYe3wAAOzjW"
      },
      "execution_count": null,
      "outputs": []
    },
    {
      "cell_type": "code",
      "source": [
        "course_text = coursedata2[['clean_combined_text']]\n",
        "course_text['index'] = course_text.index\n",
        "documents = course_text"
      ],
      "metadata": {
        "colab": {
          "base_uri": "https://localhost:8080/"
        },
        "id": "R07hxCavGeQ-",
        "outputId": "2ab113f6-2188-45f0-adc8-28d2e2fb0ba6"
      },
      "execution_count": null,
      "outputs": [
        {
          "output_type": "stream",
          "name": "stderr",
          "text": [
            "/usr/local/lib/python3.7/dist-packages/ipykernel_launcher.py:2: SettingWithCopyWarning: \n",
            "A value is trying to be set on a copy of a slice from a DataFrame.\n",
            "Try using .loc[row_indexer,col_indexer] = value instead\n",
            "\n",
            "See the caveats in the documentation: https://pandas.pydata.org/pandas-docs/stable/user_guide/indexing.html#returning-a-view-versus-a-copy\n",
            "  \n"
          ]
        }
      ]
    },
    {
      "cell_type": "code",
      "source": [
        "documents"
      ],
      "metadata": {
        "colab": {
          "base_uri": "https://localhost:8080/",
          "height": 424
        },
        "id": "gBGQnLKHiBKG",
        "outputId": "1a0e53f6-dc9f-41d9-8f2c-0591da1708cc"
      },
      "execution_count": null,
      "outputs": [
        {
          "output_type": "execute_result",
          "data": {
            "text/plain": [
              "                                    clean_combined_text  index\n",
              "0     CaliRollB Cloud Computing Concepts Part CaliRo...      0\n",
              "1     CaliRollB The Challenges Global Health CaliRol...      1\n",
              "2     CaliRollB Digital Marketing Analytics Theory C...      2\n",
              "3     CaliRollB Digital Product Management Modern Fu...      3\n",
              "7     CaliRollB Grow Your Business Goldman Sachs Wom...      7\n",
              "...                                                 ...    ...\n",
              "6611  CaliRollB Introduction XR VR AR MR Foundations...   6611\n",
              "6616  CaliRollB Global Adolescent Health CaliRollA B...   6616\n",
              "6617  CaliRollB The Science Training Young Athletes ...   6617\n",
              "6622  CaliRollB Getting Started Mainframe z OS Comma...   6622\n",
              "6634  CaliRollB IBM z OS Rexx Programming CaliRollA ...   6634\n",
              "\n",
              "[3190 rows x 2 columns]"
            ],
            "text/html": [
              "\n",
              "  <div id=\"df-6e7dcdca-2ffb-4f2b-b045-0623da93ca7a\">\n",
              "    <div class=\"colab-df-container\">\n",
              "      <div>\n",
              "<style scoped>\n",
              "    .dataframe tbody tr th:only-of-type {\n",
              "        vertical-align: middle;\n",
              "    }\n",
              "\n",
              "    .dataframe tbody tr th {\n",
              "        vertical-align: top;\n",
              "    }\n",
              "\n",
              "    .dataframe thead th {\n",
              "        text-align: right;\n",
              "    }\n",
              "</style>\n",
              "<table border=\"1\" class=\"dataframe\">\n",
              "  <thead>\n",
              "    <tr style=\"text-align: right;\">\n",
              "      <th></th>\n",
              "      <th>clean_combined_text</th>\n",
              "      <th>index</th>\n",
              "    </tr>\n",
              "  </thead>\n",
              "  <tbody>\n",
              "    <tr>\n",
              "      <th>0</th>\n",
              "      <td>CaliRollB Cloud Computing Concepts Part CaliRo...</td>\n",
              "      <td>0</td>\n",
              "    </tr>\n",
              "    <tr>\n",
              "      <th>1</th>\n",
              "      <td>CaliRollB The Challenges Global Health CaliRol...</td>\n",
              "      <td>1</td>\n",
              "    </tr>\n",
              "    <tr>\n",
              "      <th>2</th>\n",
              "      <td>CaliRollB Digital Marketing Analytics Theory C...</td>\n",
              "      <td>2</td>\n",
              "    </tr>\n",
              "    <tr>\n",
              "      <th>3</th>\n",
              "      <td>CaliRollB Digital Product Management Modern Fu...</td>\n",
              "      <td>3</td>\n",
              "    </tr>\n",
              "    <tr>\n",
              "      <th>7</th>\n",
              "      <td>CaliRollB Grow Your Business Goldman Sachs Wom...</td>\n",
              "      <td>7</td>\n",
              "    </tr>\n",
              "    <tr>\n",
              "      <th>...</th>\n",
              "      <td>...</td>\n",
              "      <td>...</td>\n",
              "    </tr>\n",
              "    <tr>\n",
              "      <th>6611</th>\n",
              "      <td>CaliRollB Introduction XR VR AR MR Foundations...</td>\n",
              "      <td>6611</td>\n",
              "    </tr>\n",
              "    <tr>\n",
              "      <th>6616</th>\n",
              "      <td>CaliRollB Global Adolescent Health CaliRollA B...</td>\n",
              "      <td>6616</td>\n",
              "    </tr>\n",
              "    <tr>\n",
              "      <th>6617</th>\n",
              "      <td>CaliRollB The Science Training Young Athletes ...</td>\n",
              "      <td>6617</td>\n",
              "    </tr>\n",
              "    <tr>\n",
              "      <th>6622</th>\n",
              "      <td>CaliRollB Getting Started Mainframe z OS Comma...</td>\n",
              "      <td>6622</td>\n",
              "    </tr>\n",
              "    <tr>\n",
              "      <th>6634</th>\n",
              "      <td>CaliRollB IBM z OS Rexx Programming CaliRollA ...</td>\n",
              "      <td>6634</td>\n",
              "    </tr>\n",
              "  </tbody>\n",
              "</table>\n",
              "<p>3190 rows × 2 columns</p>\n",
              "</div>\n",
              "      <button class=\"colab-df-convert\" onclick=\"convertToInteractive('df-6e7dcdca-2ffb-4f2b-b045-0623da93ca7a')\"\n",
              "              title=\"Convert this dataframe to an interactive table.\"\n",
              "              style=\"display:none;\">\n",
              "        \n",
              "  <svg xmlns=\"http://www.w3.org/2000/svg\" height=\"24px\"viewBox=\"0 0 24 24\"\n",
              "       width=\"24px\">\n",
              "    <path d=\"M0 0h24v24H0V0z\" fill=\"none\"/>\n",
              "    <path d=\"M18.56 5.44l.94 2.06.94-2.06 2.06-.94-2.06-.94-.94-2.06-.94 2.06-2.06.94zm-11 1L8.5 8.5l.94-2.06 2.06-.94-2.06-.94L8.5 2.5l-.94 2.06-2.06.94zm10 10l.94 2.06.94-2.06 2.06-.94-2.06-.94-.94-2.06-.94 2.06-2.06.94z\"/><path d=\"M17.41 7.96l-1.37-1.37c-.4-.4-.92-.59-1.43-.59-.52 0-1.04.2-1.43.59L10.3 9.45l-7.72 7.72c-.78.78-.78 2.05 0 2.83L4 21.41c.39.39.9.59 1.41.59.51 0 1.02-.2 1.41-.59l7.78-7.78 2.81-2.81c.8-.78.8-2.07 0-2.86zM5.41 20L4 18.59l7.72-7.72 1.47 1.35L5.41 20z\"/>\n",
              "  </svg>\n",
              "      </button>\n",
              "      \n",
              "  <style>\n",
              "    .colab-df-container {\n",
              "      display:flex;\n",
              "      flex-wrap:wrap;\n",
              "      gap: 12px;\n",
              "    }\n",
              "\n",
              "    .colab-df-convert {\n",
              "      background-color: #E8F0FE;\n",
              "      border: none;\n",
              "      border-radius: 50%;\n",
              "      cursor: pointer;\n",
              "      display: none;\n",
              "      fill: #1967D2;\n",
              "      height: 32px;\n",
              "      padding: 0 0 0 0;\n",
              "      width: 32px;\n",
              "    }\n",
              "\n",
              "    .colab-df-convert:hover {\n",
              "      background-color: #E2EBFA;\n",
              "      box-shadow: 0px 1px 2px rgba(60, 64, 67, 0.3), 0px 1px 3px 1px rgba(60, 64, 67, 0.15);\n",
              "      fill: #174EA6;\n",
              "    }\n",
              "\n",
              "    [theme=dark] .colab-df-convert {\n",
              "      background-color: #3B4455;\n",
              "      fill: #D2E3FC;\n",
              "    }\n",
              "\n",
              "    [theme=dark] .colab-df-convert:hover {\n",
              "      background-color: #434B5C;\n",
              "      box-shadow: 0px 1px 3px 1px rgba(0, 0, 0, 0.15);\n",
              "      filter: drop-shadow(0px 1px 2px rgba(0, 0, 0, 0.3));\n",
              "      fill: #FFFFFF;\n",
              "    }\n",
              "  </style>\n",
              "\n",
              "      <script>\n",
              "        const buttonEl =\n",
              "          document.querySelector('#df-6e7dcdca-2ffb-4f2b-b045-0623da93ca7a button.colab-df-convert');\n",
              "        buttonEl.style.display =\n",
              "          google.colab.kernel.accessAllowed ? 'block' : 'none';\n",
              "\n",
              "        async function convertToInteractive(key) {\n",
              "          const element = document.querySelector('#df-6e7dcdca-2ffb-4f2b-b045-0623da93ca7a');\n",
              "          const dataTable =\n",
              "            await google.colab.kernel.invokeFunction('convertToInteractive',\n",
              "                                                     [key], {});\n",
              "          if (!dataTable) return;\n",
              "\n",
              "          const docLinkHtml = 'Like what you see? Visit the ' +\n",
              "            '<a target=\"_blank\" href=https://colab.research.google.com/notebooks/data_table.ipynb>data table notebook</a>'\n",
              "            + ' to learn more about interactive tables.';\n",
              "          element.innerHTML = '';\n",
              "          dataTable['output_type'] = 'display_data';\n",
              "          await google.colab.output.renderOutput(dataTable, element);\n",
              "          const docLink = document.createElement('div');\n",
              "          docLink.innerHTML = docLinkHtml;\n",
              "          element.appendChild(docLink);\n",
              "        }\n",
              "      </script>\n",
              "    </div>\n",
              "  </div>\n",
              "  "
            ]
          },
          "metadata": {},
          "execution_count": 44
        }
      ]
    },
    {
      "cell_type": "code",
      "source": [
        "course_clean_1 = documents['clean_combined_text'].reset_index(drop=True)"
      ],
      "metadata": {
        "id": "3OJrYmeoGeX9"
      },
      "execution_count": null,
      "outputs": []
    },
    {
      "cell_type": "code",
      "source": [
        "course_clean_1"
      ],
      "metadata": {
        "colab": {
          "base_uri": "https://localhost:8080/"
        },
        "id": "QJg_v7eliELC",
        "outputId": "c38cca75-0f37-420a-beff-c75d4ff5cb40"
      },
      "execution_count": null,
      "outputs": [
        {
          "output_type": "execute_result",
          "data": {
            "text/plain": [
              "0       CaliRollB Cloud Computing Concepts Part CaliRo...\n",
              "1       CaliRollB The Challenges Global Health CaliRol...\n",
              "2       CaliRollB Digital Marketing Analytics Theory C...\n",
              "3       CaliRollB Digital Product Management Modern Fu...\n",
              "4       CaliRollB Grow Your Business Goldman Sachs Wom...\n",
              "                              ...                        \n",
              "3185    CaliRollB Introduction XR VR AR MR Foundations...\n",
              "3186    CaliRollB Global Adolescent Health CaliRollA B...\n",
              "3187    CaliRollB The Science Training Young Athletes ...\n",
              "3188    CaliRollB Getting Started Mainframe z OS Comma...\n",
              "3189    CaliRollB IBM z OS Rexx Programming CaliRollA ...\n",
              "Name: clean_combined_text, Length: 3190, dtype: object"
            ]
          },
          "metadata": {},
          "execution_count": 46
        }
      ]
    },
    {
      "cell_type": "code",
      "source": [
        "course_clean = course_clean_1"
      ],
      "metadata": {
        "id": "b1B5QV72iRnl"
      },
      "execution_count": null,
      "outputs": []
    },
    {
      "cell_type": "code",
      "source": [
        "#def text_one_liner(books_list):\n",
        "#    for x in range(len(books_list)):\n",
        "#        books_list[x] = books_list[x].replace('\\n', ' ')\n",
        "#    return books_list\n",
        "\n",
        "#course_clean = text_one_liner(course_clean_1)"
      ],
      "metadata": {
        "id": "SYOBImKxQ4DS"
      },
      "execution_count": null,
      "outputs": []
    },
    {
      "cell_type": "code",
      "source": [
        "len(course_clean)"
      ],
      "metadata": {
        "colab": {
          "base_uri": "https://localhost:8080/"
        },
        "id": "TZd1mqXGQEX0",
        "outputId": "a8f2ef18-e5bb-436f-a1eb-dec1b7d28357"
      },
      "execution_count": null,
      "outputs": [
        {
          "output_type": "execute_result",
          "data": {
            "text/plain": [
              "3190"
            ]
          },
          "metadata": {},
          "execution_count": 49
        }
      ]
    },
    {
      "cell_type": "code",
      "source": [
        "#documents['clean_combined_text']"
      ],
      "metadata": {
        "id": "iUObvUljo0OW"
      },
      "execution_count": null,
      "outputs": []
    },
    {
      "cell_type": "code",
      "source": [
        "import gensim\n",
        "from gensim.utils import simple_preprocess\n",
        "from gensim.parsing.preprocessing import STOPWORDS\n",
        "from nltk.stem import WordNetLemmatizer, SnowballStemmer\n",
        "from nltk.stem.porter import *\n",
        "import numpy as np\n",
        "np.random.seed(2018)\n",
        "import nltk\n",
        "nltk.download('wordnet')"
      ],
      "metadata": {
        "colab": {
          "base_uri": "https://localhost:8080/"
        },
        "id": "rofzmBFcGeci",
        "outputId": "96e67efe-a94c-4acb-fcd7-ebffee595258"
      },
      "execution_count": null,
      "outputs": [
        {
          "output_type": "stream",
          "name": "stderr",
          "text": [
            "[nltk_data] Downloading package wordnet to /root/nltk_data...\n"
          ]
        },
        {
          "output_type": "execute_result",
          "data": {
            "text/plain": [
              "True"
            ]
          },
          "metadata": {},
          "execution_count": 51
        }
      ]
    },
    {
      "cell_type": "code",
      "source": [
        "import nltk\n",
        "nltk.download('omw-1.4')"
      ],
      "metadata": {
        "colab": {
          "base_uri": "https://localhost:8080/"
        },
        "id": "tcOApavdI7sw",
        "outputId": "13ae5adb-418a-4776-a9bc-b936cd9ad72e"
      },
      "execution_count": null,
      "outputs": [
        {
          "output_type": "stream",
          "name": "stderr",
          "text": [
            "[nltk_data] Downloading package omw-1.4 to /root/nltk_data...\n"
          ]
        },
        {
          "output_type": "execute_result",
          "data": {
            "text/plain": [
              "True"
            ]
          },
          "metadata": {},
          "execution_count": 52
        }
      ]
    },
    {
      "cell_type": "code",
      "source": [
        "def lemmatize_stemming(text):\n",
        "    return text #stemmer.stem(WordNetLemmatizer().lemmatize(text, pos='v'))\n",
        "def preprocess(text):\n",
        "    result = []\n",
        "    for token in gensim.utils.simple_preprocess(text):\n",
        "        if token not in gensim.parsing.preprocessing.STOPWORDS and len(token) > 3:\n",
        "            result.append(lemmatize_stemming(token))\n",
        "    return result"
      ],
      "metadata": {
        "id": "rW4L2Mb2Gegq"
      },
      "execution_count": null,
      "outputs": []
    },
    {
      "cell_type": "code",
      "source": [
        "processed_docs = course_clean.map(preprocess)\n",
        "processed_docs[:10]"
      ],
      "metadata": {
        "colab": {
          "base_uri": "https://localhost:8080/"
        },
        "id": "6z3hInPKGekv",
        "outputId": "1bcd2bce-7d73-4f16-8b7f-9f5fbac918f1"
      },
      "execution_count": null,
      "outputs": [
        {
          "output_type": "execute_result",
          "data": {
            "text/plain": [
              "0    [calirollb, cloud, computing, concepts, caliro...\n",
              "1    [calirollb, challenges, global, health, caliro...\n",
              "2    [calirollb, digital, marketing, analytics, the...\n",
              "3    [calirollb, digital, product, management, mode...\n",
              "4    [calirollb, grow, business, goldman, sachs, wo...\n",
              "5    [calirollb, fundamentals, negotiation, goldman...\n",
              "6    [calirollb, fundamentals, business, finance, g...\n",
              "7    [calirollb, fundamentals, leadership, goldman,...\n",
              "8    [calirollb, fundamentals, customers, competiti...\n",
              "9    [calirollb, fundamentals, financial, planning,...\n",
              "Name: clean_combined_text, dtype: object"
            ]
          },
          "metadata": {},
          "execution_count": 54
        }
      ]
    },
    {
      "cell_type": "markdown",
      "source": [
        "#TF-IDF\n",
        "Create a dictionary from ‘processed_docs’ containing the number of times a word appears in the training set."
      ],
      "metadata": {
        "id": "rpAKgcbfS_Yp"
      }
    },
    {
      "cell_type": "code",
      "source": [
        "dictionary = gensim.corpora.Dictionary(processed_docs)\n",
        "count = 0\n",
        "for k, v in dictionary.iteritems():\n",
        "    print(k, v)\n",
        "    count += 1\n",
        "    if count > 10:\n",
        "        break"
      ],
      "metadata": {
        "colab": {
          "base_uri": "https://localhost:8080/"
        },
        "id": "S9tYTKvGI2n3",
        "outputId": "5cbe074d-4986-42eb-bc99-026b797ec670"
      },
      "execution_count": null,
      "outputs": [
        {
          "output_type": "stream",
          "name": "stdout",
          "text": [
            "0 academia\n",
            "1 academic\n",
            "2 agree\n",
            "3 algorithm\n",
            "4 algorithms\n",
            "5 allows\n",
            "6 alumni\n",
            "7 analysis\n",
            "8 analyzes\n",
            "9 apache\n",
            "10 applications\n"
          ]
        }
      ]
    },
    {
      "cell_type": "markdown",
      "source": [
        "Filter out tokens that appear in\n",
        "\n",
        "*   Less than 15 documents (absolute number) or\n",
        "*   more than 0.5 documents (fraction of total corpus size, not absolute number)\n",
        "*   after the above two steps, keep only the first 100000 most frequent tokens."
      ],
      "metadata": {
        "id": "v9JTx1n1TQNn"
      }
    },
    {
      "cell_type": "code",
      "source": [
        "#dictionary.filter_extremes(no_below=2, no_above=0.5, keep_n=100000)"
      ],
      "metadata": {
        "id": "IwbNOoWfKb7M"
      },
      "execution_count": null,
      "outputs": []
    },
    {
      "cell_type": "code",
      "source": [
        "bow_corpus = [dictionary.doc2bow(doc) for doc in processed_docs]\n",
        "bow_corpus[0]"
      ],
      "metadata": {
        "colab": {
          "base_uri": "https://localhost:8080/"
        },
        "id": "lfP-kSn8Ki7p",
        "outputId": "90320d57-517d-4af5-b2c3-6c71da48aaea"
      },
      "execution_count": null,
      "outputs": [
        {
          "output_type": "execute_result",
          "data": {
            "text/plain": [
              "[(0, 1),\n",
              " (1, 1),\n",
              " (2, 1),\n",
              " (3, 1),\n",
              " (4, 9),\n",
              " (5, 1),\n",
              " (6, 1),\n",
              " (7, 2),\n",
              " (8, 2),\n",
              " (9, 2),\n",
              " (10, 1),\n",
              " (11, 1),\n",
              " (12, 1),\n",
              " (13, 1),\n",
              " (14, 1),\n",
              " (15, 2),\n",
              " (16, 2),\n",
              " (17, 2),\n",
              " (18, 4),\n",
              " (19, 1),\n",
              " (20, 2),\n",
              " (21, 1),\n",
              " (22, 1),\n",
              " (23, 1),\n",
              " (24, 1),\n",
              " (25, 1),\n",
              " (26, 1),\n",
              " (27, 2),\n",
              " (28, 3),\n",
              " (29, 1),\n",
              " (30, 1),\n",
              " (31, 1),\n",
              " (32, 2),\n",
              " (33, 1),\n",
              " (34, 2),\n",
              " (35, 4),\n",
              " (36, 2),\n",
              " (37, 4),\n",
              " (38, 13),\n",
              " (39, 3),\n",
              " (40, 1),\n",
              " (41, 1),\n",
              " (42, 2),\n",
              " (43, 1),\n",
              " (44, 1),\n",
              " (45, 1),\n",
              " (46, 2),\n",
              " (47, 2),\n",
              " (48, 13),\n",
              " (49, 7),\n",
              " (50, 1),\n",
              " (51, 4),\n",
              " (52, 2),\n",
              " (53, 6),\n",
              " (54, 1),\n",
              " (55, 4),\n",
              " (56, 3),\n",
              " (57, 1),\n",
              " (58, 10),\n",
              " (59, 1),\n",
              " (60, 3),\n",
              " (61, 2),\n",
              " (62, 2),\n",
              " (63, 2),\n",
              " (64, 11),\n",
              " (65, 2),\n",
              " (66, 4),\n",
              " (67, 2),\n",
              " (68, 1),\n",
              " (69, 1),\n",
              " (70, 17),\n",
              " (71, 1),\n",
              " (72, 2),\n",
              " (73, 1),\n",
              " (74, 1),\n",
              " (75, 2),\n",
              " (76, 2),\n",
              " (77, 2),\n",
              " (78, 2),\n",
              " (79, 1),\n",
              " (80, 1),\n",
              " (81, 1),\n",
              " (82, 1),\n",
              " (83, 4),\n",
              " (84, 3),\n",
              " (85, 2),\n",
              " (86, 1),\n",
              " (87, 1),\n",
              " (88, 1),\n",
              " (89, 1),\n",
              " (90, 1),\n",
              " (91, 2),\n",
              " (92, 1),\n",
              " (93, 2),\n",
              " (94, 3),\n",
              " (95, 2),\n",
              " (96, 1),\n",
              " (97, 1),\n",
              " (98, 1),\n",
              " (99, 2),\n",
              " (100, 2),\n",
              " (101, 2),\n",
              " (102, 1),\n",
              " (103, 3),\n",
              " (104, 1),\n",
              " (105, 1),\n",
              " (106, 3),\n",
              " (107, 1),\n",
              " (108, 1),\n",
              " (109, 4),\n",
              " (110, 1),\n",
              " (111, 4),\n",
              " (112, 3),\n",
              " (113, 1),\n",
              " (114, 1),\n",
              " (115, 1),\n",
              " (116, 2),\n",
              " (117, 2),\n",
              " (118, 2),\n",
              " (119, 1),\n",
              " (120, 3),\n",
              " (121, 1),\n",
              " (122, 3),\n",
              " (123, 1),\n",
              " (124, 1),\n",
              " (125, 1),\n",
              " (126, 1),\n",
              " (127, 4),\n",
              " (128, 4),\n",
              " (129, 13),\n",
              " (130, 1),\n",
              " (131, 1),\n",
              " (132, 1),\n",
              " (133, 1),\n",
              " (134, 3),\n",
              " (135, 2),\n",
              " (136, 2),\n",
              " (137, 1),\n",
              " (138, 2),\n",
              " (139, 1),\n",
              " (140, 4),\n",
              " (141, 1),\n",
              " (142, 17),\n",
              " (143, 2),\n",
              " (144, 2),\n",
              " (145, 3),\n",
              " (146, 1),\n",
              " (147, 2),\n",
              " (148, 1),\n",
              " (149, 1),\n",
              " (150, 3),\n",
              " (151, 4),\n",
              " (152, 1),\n",
              " (153, 1),\n",
              " (154, 1),\n",
              " (155, 2),\n",
              " (156, 1),\n",
              " (157, 2),\n",
              " (158, 1),\n",
              " (159, 2),\n",
              " (160, 2),\n",
              " (161, 2),\n",
              " (162, 4),\n",
              " (163, 1),\n",
              " (164, 1),\n",
              " (165, 2),\n",
              " (166, 3),\n",
              " (167, 2),\n",
              " (168, 1),\n",
              " (169, 4),\n",
              " (170, 1),\n",
              " (171, 1),\n",
              " (172, 3),\n",
              " (173, 1),\n",
              " (174, 2),\n",
              " (175, 2),\n",
              " (176, 1),\n",
              " (177, 1),\n",
              " (178, 6),\n",
              " (179, 2),\n",
              " (180, 1),\n",
              " (181, 1),\n",
              " (182, 1),\n",
              " (183, 3),\n",
              " (184, 1),\n",
              " (185, 1),\n",
              " (186, 1),\n",
              " (187, 2),\n",
              " (188, 1),\n",
              " (189, 2),\n",
              " (190, 1),\n",
              " (191, 1),\n",
              " (192, 1),\n",
              " (193, 2),\n",
              " (194, 3),\n",
              " (195, 1),\n",
              " (196, 1),\n",
              " (197, 1),\n",
              " (198, 2),\n",
              " (199, 2),\n",
              " (200, 1),\n",
              " (201, 3),\n",
              " (202, 2),\n",
              " (203, 2),\n",
              " (204, 1),\n",
              " (205, 20),\n",
              " (206, 2),\n",
              " (207, 2),\n",
              " (208, 1),\n",
              " (209, 1),\n",
              " (210, 9),\n",
              " (211, 1),\n",
              " (212, 1),\n",
              " (213, 1),\n",
              " (214, 2),\n",
              " (215, 2),\n",
              " (216, 1),\n",
              " (217, 1),\n",
              " (218, 2),\n",
              " (219, 4),\n",
              " (220, 1),\n",
              " (221, 1),\n",
              " (222, 1),\n",
              " (223, 2),\n",
              " (224, 2),\n",
              " (225, 1),\n",
              " (226, 2),\n",
              " (227, 1),\n",
              " (228, 4),\n",
              " (229, 2),\n",
              " (230, 1),\n",
              " (231, 1),\n",
              " (232, 2),\n",
              " (233, 5),\n",
              " (234, 3),\n",
              " (235, 1),\n",
              " (236, 2)]"
            ]
          },
          "metadata": {},
          "execution_count": 60
        }
      ]
    },
    {
      "cell_type": "code",
      "source": [
        "from gensim import corpora, models\n",
        "tfidf = models.TfidfModel(bow_corpus)\n",
        "corpus_tfidf = tfidf[bow_corpus]\n",
        "from pprint import pprint\n",
        "for doc in corpus_tfidf:\n",
        "    pprint(doc)\n",
        "    break"
      ],
      "metadata": {
        "colab": {
          "base_uri": "https://localhost:8080/"
        },
        "id": "HN-iY-uJ9Qbx",
        "outputId": "942fe1d8-053b-4d1e-c393-c35cd510bab0"
      },
      "execution_count": null,
      "outputs": [
        {
          "output_type": "stream",
          "name": "stdout",
          "text": [
            "[(0, 0.025279235088450543),\n",
            " (1, 0.007424820929714573),\n",
            " (2, 0.028529141522810313),\n",
            " (3, 0.020869386840328897),\n",
            " (4, 0.14421723155962857),\n",
            " (5, 0.017879192637467428),\n",
            " (6, 0.014243588345844105),\n",
            " (7, 0.01627167716748426),\n",
            " (8, 0.06907573760065587),\n",
            " (9, 0.057785574270938424),\n",
            " (10, 0.009550121530161855),\n",
            " (11, 0.0066082058341978495),\n",
            " (12, 0.014669173896139993),\n",
            " (13, 0.0425080297370977),\n",
            " (14, 0.016702704478361582),\n",
            " (15, 0.06221747476366473),\n",
            " (16, 0.06819786316938767),\n",
            " (17, 0.03672175251873881),\n",
            " (18, 0.09947454697844448),\n",
            " (19, 0.004834555830897672),\n",
            " (20, 0.10265545246668198),\n",
            " (21, 0.018432764777910095),\n",
            " (22, 0.013968924130498672),\n",
            " (23, 0.018149959721788313),\n",
            " (24, 0.02142295898077157),\n",
            " (27, 0.08217675138367504),\n",
            " (28, 0.08971430175770827),\n",
            " (29, 0.035009348625016735),\n",
            " (30, 0.02352900974444924),\n",
            " (31, 0.019492288580486),\n",
            " (32, 0.06907573760065587),\n",
            " (33, 0.0425080297370977),\n",
            " (34, 0.035758385274934856),\n",
            " (35, 0.10069629830087866),\n",
            " (36, 0.07985686775615129),\n",
            " (37, 0.16435350276735008),\n",
            " (38, 0.1738191744672232),\n",
            " (39, 0.10106499972256322),\n",
            " (40, 0.014511102008361216),\n",
            " (41, 0.023859581043190366),\n",
            " (42, 0.030867079922938006),\n",
            " (43, 0.009890125100754698),\n",
            " (44, 0.012460288687925033),\n",
            " (45, 0.02739872211097371),\n",
            " (46, 0.04319775970717998),\n",
            " (47, 0.025828783483930296),\n",
            " (48, 0.20993872039294587),\n",
            " (49, 0.04284171138952313),\n",
            " (50, 0.019934276415310006),\n",
            " (51, 0.13321054153436343),\n",
            " (52, 0.025005688946684614),\n",
            " (54, 0.006716184538481957),\n",
            " (55, 0.039788057193130916),\n",
            " (56, 0.04370975904085179),\n",
            " (57, 0.020660775816887418),\n",
            " (58, 0.11503854583192702),\n",
            " (59, 0.008791836293203667),\n",
            " (60, 0.031080458688534356),\n",
            " (61, 0.04380668605665104),\n",
            " (62, 0.040052963774372556),\n",
            " (63, 0.04722011253950281),\n",
            " (64, 0.09133072769433784),\n",
            " (65, 0.04152845265419604),\n",
            " (66, 0.15579086819379834),\n",
            " (67, 0.011599313473085534),\n",
            " (68, 0.03607215777039668),\n",
            " (69, 0.017493494780203876),\n",
            " (70, 0.37668361346242113),\n",
            " (72, 0.03753342158905204),\n",
            " (73, 0.024390060359009556),\n",
            " (74, 0.015593456687389751),\n",
            " (75, 0.04261664811192602),\n",
            " (76, 0.03335044501640897),\n",
            " (77, 0.06169805030066811),\n",
            " (78, 0.037381942033384984),\n",
            " (79, 0.01002366662550623),\n",
            " (80, 0.01781326390034489),\n",
            " (81, 0.007367418439260683),\n",
            " (82, 0.011516030790160389),\n",
            " (83, 0.09793175554939028),\n",
            " (84, 0.08009666740113215),\n",
            " (85, 0.10265545246668198),\n",
            " (86, 0.012929593818968101),\n",
            " (87, 0.05132772623334099),\n",
            " (88, 0.009092718494517803),\n",
            " (89, 0.015233668041322847),\n",
            " (90, 0.04433828212619729),\n",
            " (91, 0.03933083342213191),\n",
            " (92, 0.012279100406073093),\n",
            " (93, 0.10265545246668198),\n",
            " (94, 0.14075363395565801),\n",
            " (95, 0.05421897495510028),\n",
            " (96, 0.039928433878075646),\n",
            " (97, 0.035518585629954004),\n",
            " (98, 0.013193746840734),\n",
            " (99, 0.03335044501640897),\n",
            " (100, 0.06221747476366473),\n",
            " (101, 0.0850160594741954),\n",
            " (102, 0.031108737381832365),\n",
            " (103, 0.05403940746147314),\n",
            " (104, 0.008960857480126294),\n",
            " (105, 0.013068072310844153),\n",
            " (106, 0.021594763714569264),\n",
            " (107, 0.04433828212619729),\n",
            " (108, 0.010934083665829137),\n",
            " (109, 0.023659332240152778),\n",
            " (110, 0.04433828212619729),\n",
            " (111, 0.04083801993865765),\n",
            " (112, 0.06987565999030104),\n",
            " (113, 0.0166478587404348),\n",
            " (114, 0.018469015965442658),\n",
            " (115, 0.005657344655702627),\n",
            " (116, 0.07214431554079336),\n",
            " (117, 0.10265545246668198),\n",
            " (118, 0.10265545246668198),\n",
            " (119, 0.010349997959946055),\n",
            " (120, 0.013122151033472139),\n",
            " (121, 0.011577263853790029),\n",
            " (122, 0.0809089686540948),\n",
            " (123, 0.009408539805314175),\n",
            " (124, 0.008681599714979399),\n",
            " (125, 0.0020949525206563195),\n",
            " (126, 0.010845720214822666),\n",
            " (127, 0.030008688925886786),\n",
            " (128, 0.0743161024589217),\n",
            " (129, 0.20735392063450983),\n",
            " (130, 0.001442130455600726),\n",
            " (131, 0.028354827435250755),\n",
            " (132, 0.013502566742639449),\n",
            " (133, 0.024390060359009556),\n",
            " (134, 0.07317018107702866),\n",
            " (135, 0.023478568179594532),\n",
            " (136, 0.027206575144738808),\n",
            " (137, 0.01712984916754498),\n",
            " (138, 0.06519002106006812),\n",
            " (139, 0.0027207568429050526),\n",
            " (140, 0.13175595908372784),\n",
            " (141, 0.024577193443851134),\n",
            " (142, 0.05423602952387272),\n",
            " (143, 0.07001869725003347),\n",
            " (144, 0.07985686775615129),\n",
            " (145, 0.15398317870002295),\n",
            " (146, 0.013370705728247938),\n",
            " (147, 0.0938357559704387),\n",
            " (148, 0.010111019021095615),\n",
            " (149, 0.01998021211088791),\n",
            " (150, 0.09413851339845974),\n",
            " (151, 0.08639551941435995),\n",
            " (152, 0.014206274067625028),\n",
            " (153, 0.020263017167009695),\n",
            " (154, 0.011516030790160389),\n",
            " (155, 0.07985686775615129),\n",
            " (156, 0.01872872819694096),\n",
            " (157, 0.03977734002140566),\n",
            " (158, 0.02618965212877345),\n",
            " (159, 0.04722011253950281),\n",
            " (160, 0.10265545246668198),\n",
            " (161, 0.0938357559704387),\n",
            " (162, 0.05638250659672975),\n",
            " (163, 0.024390060359009556),\n",
            " (164, 0.03293898977093196),\n",
            " (165, 0.046429539530618694),\n",
            " (166, 0.049861836487823136),\n",
            " (167, 0.07985686775615129),\n",
            " (168, 0.014689211916480035),\n",
            " (169, 0.110193698772737),\n",
            " (170, 0.018999495281261845),\n",
            " (171, 0.018081179957865373),\n",
            " (172, 0.036961372285219486),\n",
            " (173, 0.010289406395303463),\n",
            " (174, 0.021823754957084558),\n",
            " (175, 0.019280474577858902),\n",
            " (176, 0.008092996225220661),\n",
            " (177, 0.031108737381832365),\n",
            " (178, 0.15430903382450786),\n",
            " (179, 0.03109470911335651),\n",
            " (180, 0.007354732360882496),\n",
            " (181, 0.02683283231673434),\n",
            " (182, 0.01447219016719039),\n",
            " (183, 0.03400737069469017),\n",
            " (184, 0.0034354025537481807),\n",
            " (185, 0.019798426423880487),\n",
            " (186, 0.021779803880651805),\n",
            " (187, 0.07985686775615129),\n",
            " (188, 0.014187698678666783),\n",
            " (189, 0.038400416043259514),\n",
            " (190, 0.004911776732785177),\n",
            " (191, 0.038947717048449584),\n",
            " (192, 0.01715937156947025),\n",
            " (193, 0.021217729355921335),\n",
            " (194, 0.08783545497819828),\n",
            " (195, 0.01839671898064401),\n",
            " (196, 0.0044538765636227134),\n",
            " (197, 0.009843102963575136),\n",
            " (198, 0.040818556007660045),\n",
            " (199, 0.06275900893230649),\n",
            " (200, 0.0038489675874052408),\n",
            " (201, 0.13301484637859187),\n",
            " (202, 0.0938357559704387),\n",
            " (203, 0.0938357559704387),\n",
            " (204, 0.05132772623334099),\n",
            " (205, 0.19500177286162157),\n",
            " (206, 0.043437844799604865),\n",
            " (207, 0.08867656425239458),\n",
            " (208, 0.035009348625016735),\n",
            " (209, 0.017651370528873958),\n",
            " (210, 0.1735407030364527),\n",
            " (211, 0.0108566987614618),\n",
            " (212, 0.008944565368281475),\n",
            " (213, 0.028529141522810313),\n",
            " (214, 0.027514846458213383),\n",
            " (215, 0.055403469823110646),\n",
            " (216, 0.007883007982118294),\n",
            " (217, 0.05132772623334099),\n",
            " (218, 0.0938357559704387),\n",
            " (219, 0.041522046101545876),\n",
            " (220, 0.024672865415131338),\n",
            " (221, 0.02739872211097371),\n",
            " (222, 0.039928433878075646),\n",
            " (223, 0.02402010234823631),\n",
            " (224, 0.004079499729139259),\n",
            " (225, 0.03226867919559423),\n",
            " (226, 0.038984577160972),\n",
            " (227, 0.016593481775230876),\n",
            " (228, 0.044966839617022476),\n",
            " (229, 0.03127979066596329),\n",
            " (230, 0.02284261302603174),\n",
            " (231, 0.019535130939007467),\n",
            " (232, 0.016459330847878394),\n",
            " (233, 0.0363331556217747),\n",
            " (234, 0.06342046177394935),\n",
            " (235, 0.005701170772973971),\n",
            " (236, 0.0042677627377136745)]\n"
          ]
        }
      ]
    },
    {
      "cell_type": "code",
      "source": [],
      "metadata": {
        "id": "eOgwUnYh9QoO"
      },
      "execution_count": null,
      "outputs": []
    },
    {
      "cell_type": "code",
      "source": [],
      "metadata": {
        "id": "5sYgicYG9Que"
      },
      "execution_count": null,
      "outputs": []
    },
    {
      "cell_type": "code",
      "source": [],
      "metadata": {
        "id": "QT-PK7K99QzO"
      },
      "execution_count": null,
      "outputs": []
    },
    {
      "cell_type": "code",
      "source": [],
      "metadata": {
        "id": "JlNBHxKR9Q5H"
      },
      "execution_count": null,
      "outputs": []
    },
    {
      "cell_type": "code",
      "source": [],
      "metadata": {
        "id": "Lohu5Amk9REG"
      },
      "execution_count": null,
      "outputs": []
    },
    {
      "cell_type": "markdown",
      "source": [
        "#Topic Number"
      ],
      "metadata": {
        "id": "wHjzbIX2JUaG"
      }
    },
    {
      "cell_type": "code",
      "source": [
        "from gensim import corpora, models, similarities\n",
        "import random\n",
        "import os\n",
        "from gensim.models import CoherenceModel\n",
        "coherence_val = []\n",
        "topicnums = [1,5,10,15,20,25,30,35,40,45,50,55,60,65,70]\n",
        "project_folder = os.getcwd()\n",
        "\n",
        "ldamodels_bow = {}\n",
        "for i in topicnums:\n",
        "    random.seed(42) \n",
        "    if not os.path.exists('/content/drive/MyDrive/DSCI:560 Project/finallda_models_tfidf/ldamodels_tfidf_'+str(i)+'.lda'):\n",
        "        %time ldamodels_bow[i] = models.LdaModel(corpus_tfidf, num_topics=i, random_state=42, update_every=1, passes=10, id2word=dictionary)\n",
        "        ldamodels_bow[i].save('/content/drive/MyDrive/DSCI:560 Project/finallda_models_tfidf/ldamodels_tfidf_'+str(i)+'.lda')\n",
        "        print('finalldamodels_tfidf_{}.lda created.'.format(i))\n",
        "        coherence_model_lda = CoherenceModel(model=ldamodels_bow[i], texts=processed_docs, dictionary=dictionary, coherence='c_v')\n",
        "        coherence_lda = coherence_model_lda.get_coherence()\n",
        "        print('Coherence Score: ', coherence_lda)\n",
        "        coherence_val.append(coherence_lda)\n",
        "    else: \n",
        "        print('finalldamodels_tfidf_{}.lda already exists.'.format(i))\n"
      ],
      "metadata": {
        "colab": {
          "base_uri": "https://localhost:8080/"
        },
        "id": "BKk3aMclJYx0",
        "outputId": "7e01c54c-74c1-4f02-c654-32650455bb44"
      },
      "execution_count": null,
      "outputs": [
        {
          "output_type": "stream",
          "name": "stdout",
          "text": [
            "CPU times: user 33.5 s, sys: 379 ms, total: 33.8 s\n",
            "Wall time: 33.8 s\n",
            "finalldamodels_tfidf_1.lda created.\n",
            "Coherence Score:  0.31320522629740977\n",
            "CPU times: user 38.3 s, sys: 219 ms, total: 38.5 s\n",
            "Wall time: 38.6 s\n",
            "finalldamodels_tfidf_5.lda created.\n",
            "Coherence Score:  0.4865744818541165\n",
            "CPU times: user 38.7 s, sys: 185 ms, total: 38.9 s\n",
            "Wall time: 38.9 s\n",
            "finalldamodels_tfidf_10.lda created.\n",
            "Coherence Score:  0.5792985478425415\n",
            "CPU times: user 40 s, sys: 2.06 s, total: 42 s\n",
            "Wall time: 40 s\n",
            "finalldamodels_tfidf_15.lda created.\n",
            "Coherence Score:  0.5939631874165244\n",
            "CPU times: user 46.6 s, sys: 9.84 s, total: 56.4 s\n",
            "Wall time: 45.8 s\n",
            "finalldamodels_tfidf_20.lda created.\n",
            "Coherence Score:  0.587187963098512\n",
            "CPU times: user 53.9 s, sys: 21.4 s, total: 1min 15s\n",
            "Wall time: 51.3 s\n",
            "finalldamodels_tfidf_25.lda created.\n",
            "Coherence Score:  0.5874316932143413\n",
            "CPU times: user 55.6 s, sys: 24.4 s, total: 1min 19s\n",
            "Wall time: 53.6 s\n",
            "finalldamodels_tfidf_30.lda created.\n",
            "Coherence Score:  0.567978634324987\n",
            "CPU times: user 59.2 s, sys: 26.9 s, total: 1min 26s\n",
            "Wall time: 1min 2s\n",
            "finalldamodels_tfidf_35.lda created.\n",
            "Coherence Score:  0.5465017870286608\n",
            "CPU times: user 1min 2s, sys: 29.1 s, total: 1min 31s\n",
            "Wall time: 1min 6s\n",
            "finalldamodels_tfidf_40.lda created.\n",
            "Coherence Score:  0.581235620752691\n",
            "CPU times: user 60 s, sys: 27.6 s, total: 1min 27s\n",
            "Wall time: 1min\n",
            "finalldamodels_tfidf_45.lda created.\n",
            "Coherence Score:  0.5743271031436911\n",
            "CPU times: user 1min, sys: 28.7 s, total: 1min 29s\n",
            "Wall time: 1min\n",
            "finalldamodels_tfidf_50.lda created.\n",
            "Coherence Score:  0.5502400278779385\n",
            "CPU times: user 1min 2s, sys: 29.6 s, total: 1min 32s\n",
            "Wall time: 1min\n",
            "finalldamodels_tfidf_55.lda created.\n",
            "Coherence Score:  0.5384933731201387\n",
            "CPU times: user 1min 4s, sys: 29.9 s, total: 1min 34s\n",
            "Wall time: 1min 1s\n",
            "finalldamodels_tfidf_60.lda created.\n",
            "Coherence Score:  0.5580239793207259\n",
            "CPU times: user 1min 3s, sys: 29.5 s, total: 1min 32s\n",
            "Wall time: 59.8 s\n",
            "finalldamodels_tfidf_65.lda created.\n",
            "Coherence Score:  0.5468898165426236\n",
            "CPU times: user 1min 6s, sys: 30.8 s, total: 1min 37s\n",
            "Wall time: 1min 3s\n",
            "finalldamodels_tfidf_70.lda created.\n",
            "Coherence Score:  0.5471786254763524\n"
          ]
        }
      ]
    },
    {
      "cell_type": "code",
      "source": [
        "import pickle\n",
        "lda_topics = {}\n",
        "for i in topicnums:\n",
        "    lda_model = models.LdaModel.load('/content/drive/MyDrive/DSCI:560 Project/finallda_models_tfidf/ldamodels_tfidf_'+str(i)+'.lda')\n",
        "    lda_topics_string = lda_model.show_topics(i)\n",
        "    lda_topics[i] = [\"\".join([c if c.isalpha() else \" \" for c in topic[1]]).split() for topic in lda_topics_string]\n",
        "\n",
        "pickle.dump(lda_topics,open('/content/drive/MyDrive/DSCI:560 Project/finallda_models_tfidf/pub_finallda_tfidf_topics.pkl','wb'))"
      ],
      "metadata": {
        "id": "IsxBI09uJY1V"
      },
      "execution_count": null,
      "outputs": []
    },
    {
      "cell_type": "code",
      "source": [
        "import matplotlib.pyplot as plt\n",
        "#coherence_val, topicnums\n",
        "plt.scatter(topicnums, coherence_val)\n",
        "plt.show()"
      ],
      "metadata": {
        "colab": {
          "base_uri": "https://localhost:8080/",
          "height": 265
        },
        "id": "fFXmxN8rm1zL",
        "outputId": "4ffa198e-3a9a-47f4-fe7d-bab56c1818e9"
      },
      "execution_count": null,
      "outputs": [
        {
          "output_type": "display_data",
          "data": {
            "text/plain": [
              "<Figure size 432x288 with 1 Axes>"
            ],
            "image/png": "[encoded data removed]"
          },
          "metadata": {
            "needs_background": "light"
          }
        }
      ]
    },
    {
      "cell_type": "markdown",
      "source": [
        "#Optimal Model"
      ],
      "metadata": {
        "id": "jqwbqJvfUXor"
      }
    },
    {
      "cell_type": "code",
      "source": [
        "num_topics = 15\n",
        "lda_model_final = models.LdaModel.load('/content/drive/MyDrive/DSCI:560 Project/finallda_models_tfidf/ldamodels_tfidf_'+str(num_topics)+'.lda')"
      ],
      "metadata": {
        "id": "vvVb3qf8OrGS"
      },
      "execution_count": null,
      "outputs": []
    },
    {
      "cell_type": "code",
      "source": [
        "from pprint import pprint\n",
        "top_topics = lda_model_final.top_topics(corpus_tfidf, topn=10)\n",
        "\n",
        "avg_topic_coherence = sum([t[1] for t in top_topics]) / num_topics\n",
        "print('Average topic coherence: %.4f.' % avg_topic_coherence)\n",
        "\n",
        "counter = 0\n",
        "for topic in top_topics:\n",
        "    print('Topic {}:'.format(counter))\n",
        "    counter += 1\n",
        "    pprint(topic)\n",
        "    \n",
        "pickle.dump(lda_topics,open('/content/drive/MyDrive/DSCI:560 Project/finallda_models_tfidf/pub_finallda_tfidf_topics.pkl','wb'))"
      ],
      "metadata": {
        "colab": {
          "base_uri": "https://localhost:8080/"
        },
        "id": "n1B48pDDOrKS",
        "outputId": "5f4b68e1-b50c-4d6e-89a9-0445be083033"
      },
      "execution_count": null,
      "outputs": [
        {
          "output_type": "stream",
          "name": "stdout",
          "text": [
            "Average topic coherence: -17.0902.\n",
            "Topic 0:\n",
            "([(0.004426769, 'data'),\n",
            "  (0.0034905723, 'week'),\n",
            "  (0.003088333, 'module'),\n",
            "  (0.002197175, 'design'),\n",
            "  (0.0020864774, 'cloud'),\n",
            "  (0.0019097304, 'business'),\n",
            "  (0.0018648901, 'project'),\n",
            "  (0.0017826763, 'health'),\n",
            "  (0.001765907, 'python'),\n",
            "  (0.001664618, 'social')],\n",
            " -1.6664690385518302)\n",
            "Topic 1:\n",
            "([(0.004408959, 'music'),\n",
            "  (0.0028471383, 'salesforce'),\n",
            "  (0.0024911507, 'china'),\n",
            "  (0.0022618927, 'informatics'),\n",
            "  (0.0020141813, 'chinese'),\n",
            "  (0.0018909555, 'linux'),\n",
            "  (0.0017700873, 'brain'),\n",
            "  (0.0014661561, 'religion'),\n",
            "  (0.0014501085, 'perspectives'),\n",
            "  (0.0014379356, 'sales')],\n",
            " -13.39200471230682)\n",
            "Topic 2:\n",
            "([(0.0028306444, 'mining'),\n",
            "  (0.0023043926, 'spark'),\n",
            "  (0.0020482368, 'calculus'),\n",
            "  (0.0019353583, 'pipelines'),\n",
            "  (0.0015585156, 'streaming'),\n",
            "  (0.0014899736, 'django'),\n",
            "  (0.0014266537, 'apache'),\n",
            "  (0.0014205328, 'circuits'),\n",
            "  (0.0013972353, 'arctic'),\n",
            "  (0.001287653, 'circuit')],\n",
            " -15.364745433243934)\n",
            "Topic 3:\n",
            "([(0.0022109726, 'advertising'),\n",
            "  (0.0018180913, 'kaist'),\n",
            "  (0.0017868642, 'maryland'),\n",
            "  (0.0017161064, 'campaign'),\n",
            "  (0.0013236515, 'billion'),\n",
            "  (0.0011785823, 'tinkering'),\n",
            "  (0.001164488, 'venture'),\n",
            "  (0.0011503266, 'photography'),\n",
            "  (0.0011477579, 'fundraising'),\n",
            "  (0.0009976565, 'neurons')],\n",
            " -15.81347545081468)\n",
            "Topic 4:\n",
            "([(0.0038589027, 'sigma'),\n",
            "  (0.0018070263, 'newborn'),\n",
            "  (0.0017457441, 'opioid'),\n",
            "  (0.0014709957, 'sleep'),\n",
            "  (0.0013736727, 'yellow'),\n",
            "  (0.0011115394, 'lean'),\n",
            "  (0.001081022, 'anova'),\n",
            "  (0.0010120111, 'baby'),\n",
            "  (0.0009829664, 'genome'),\n",
            "  (0.0009502685, 'optical')],\n",
            " -15.906637130149054)\n",
            "Topic 5:\n",
            "([(0.002119175, 'android'),\n",
            "  (0.0020329403, 'recommender'),\n",
            "  (0.0020297717, 'simulation'),\n",
            "  (0.0018574168, 'stanford'),\n",
            "  (0.0017414944, 'sourcing'),\n",
            "  (0.0016913286, 'sensors'),\n",
            "  (0.0015650546, 'packages'),\n",
            "  (0.0014745584, 'quantum'),\n",
            "  (0.0014500452, 'clustering'),\n",
            "  (0.0014395355, 'incident')],\n",
            " -16.492996017637633)\n",
            "Topic 6:\n",
            "([(0.0028446775, 'robot'),\n",
            "  (0.002120801, 'matlab'),\n",
            "  (0.001597689, 'robots'),\n",
            "  (0.0014177738, 'northwestern'),\n",
            "  (0.0011689455, 'neuroimaging'),\n",
            "  (0.0011517508, 'transgender'),\n",
            "  (0.0010639806, 'sports'),\n",
            "  (0.0008315661, 'forensic'),\n",
            "  (0.00076142966, 'wine'),\n",
            "  (0.0006954002, 'vector')],\n",
            " -17.791490709400044)\n",
            "Topic 7:\n",
            "([(0.0021327883, 'akan'),\n",
            "  (0.0020124977, 'anda'),\n",
            "  (0.0019778428, 'spring'),\n",
            "  (0.0014993829, 'yang'),\n",
            "  (0.0013051993, 'untuk'),\n",
            "  (0.0011651993, 'lgbtq'),\n",
            "  (0.0010469517, 'electricity'),\n",
            "  (0.00096913363, 'inheritance'),\n",
            "  (0.0009329209, 'polymorphism'),\n",
            "  (0.000931663, 'mainframe')],\n",
            " -18.073950573122758)\n",
            "Topic 8:\n",
            "([(0.0015701331, 'trademark'),\n",
            "  (0.0008780261, 'kita'),\n",
            "  (0.0008465849, 'materi'),\n",
            "  (0.00081511284, 'cara'),\n",
            "  (0.00071993936, 'immersion'),\n",
            "  (0.00071798114, 'buddhism'),\n",
            "  (0.00071616453, 'mountains'),\n",
            "  (0.0006717909, 'gordon'),\n",
            "  (0.0006310388, 'improvisation'),\n",
            "  (0.0005881699, 'boston')],\n",
            " -19.142299242876163)\n",
            "Topic 9:\n",
            "([(0.003642986, 'blockchain'),\n",
            "  (0.0024602248, 'chapter'),\n",
            "  (0.0023988574, 'relational'),\n",
            "  (0.0021044665, 'databases'),\n",
            "  (0.0018833411, 'palliative'),\n",
            "  (0.0016695852, 'payment'),\n",
            "  (0.0015249803, 'cannabis'),\n",
            "  (0.0014999807, 'corruption'),\n",
            "  (0.0012774921, 'subsistence'),\n",
            "  (0.0012533385, 'soul')],\n",
            " -19.50982630720051)\n",
            "Topic 10:\n",
            "([(0.0010102305, 'genetic'),\n",
            "  (0.0009360462, 'violence'),\n",
            "  (0.00083026214, 'memo'),\n",
            "  (0.0007979447, 'anatomy'),\n",
            "  (0.00077623554, 'periodic'),\n",
            "  (0.0007447767, 'disabilities'),\n",
            "  (0.0007437937, 'encapsulation'),\n",
            "  (0.0007395423, 'telemedicine'),\n",
            "  (0.00072376215, 'crowdfunding'),\n",
            "  (0.0007186019, 'surgery')],\n",
            " -19.752989894399384)\n",
            "Topic 11:\n",
            "([(0.0026886796, 'unity'),\n",
            "  (0.0017785073, 'belt'),\n",
            "  (0.0017265356, 'children'),\n",
            "  (0.001722291, 'swift'),\n",
            "  (0.0016592932, 'games'),\n",
            "  (0.0013782642, 'song'),\n",
            "  (0.0012866919, 'verbs'),\n",
            "  (0.00118521, 'athlete'),\n",
            "  (0.0011737972, 'constitution'),\n",
            "  (0.0010928287, 'vocal')],\n",
            " -20.440435533780363)\n",
            "Topic 12:\n",
            "([(0.0020228587, 'trading'),\n",
            "  (0.0016650485, 'intel'),\n",
            "  (0.0013660652, 'reinforcement'),\n",
            "  (0.0013526266, 'recruitment'),\n",
            "  (0.0013451916, 'chord'),\n",
            "  (0.0012388651, 'spreadsheets'),\n",
            "  (0.0009955524, 'japan'),\n",
            "  (0.000953293, 'futures'),\n",
            "  (0.0009125197, 'unix'),\n",
            "  (0.00087364134, 'santa')],\n",
            " -20.880411086344406)\n",
            "Topic 13:\n",
            "([(0.002984337, 'oracle'),\n",
            "  (0.0012709145, 'splunk'),\n",
            "  (0.0009531474, 'recursion'),\n",
            "  (0.0009475327, 'memos'),\n",
            "  (0.0009353907, 'donor'),\n",
            "  (0.00085573335, 'motors'),\n",
            "  (0.000826756, 'tense'),\n",
            "  (0.00079128897, 'upgrade'),\n",
            "  (0.0007449479, 'cymbal'),\n",
            "  (0.0006864051, 'eval')],\n",
            " -20.9179790422141)\n",
            "Topic 14:\n",
            "([(0.0020604413, 'procurement'),\n",
            "  (0.0010585696, 'nist'),\n",
            "  (0.0009495811, 'speeches'),\n",
            "  (0.0009402321, 'warehousing'),\n",
            "  (0.00083222595, 'hangeul'),\n",
            "  (0.00082155335, 'newborns'),\n",
            "  (0.0007571734, 'ncds'),\n",
            "  (0.0007042574, 'prostate'),\n",
            "  (0.0006346542, 'sdgs'),\n",
            "  (0.00060531124, 'dinosaurs')],\n",
            " -21.207981864477663)\n"
          ]
        }
      ]
    },
    {
      "cell_type": "code",
      "source": [
        "corpus_lda_model = lda_model_final[corpus_tfidf]\n",
        "for article in corpus_lda_model[0]:\n",
        "    print(article)"
      ],
      "metadata": {
        "colab": {
          "base_uri": "https://localhost:8080/"
        },
        "id": "fUdx_sWcOrOY",
        "outputId": "5b4b3552-c115-4f63-8a58-78648b4a69d8"
      },
      "execution_count": null,
      "outputs": [
        {
          "output_type": "stream",
          "name": "stdout",
          "text": [
            "(0, 0.34167325)\n",
            "(1, 0.013473515)\n",
            "(7, 0.022456234)\n",
            "(14, 0.5600711)\n"
          ]
        }
      ]
    },
    {
      "cell_type": "code",
      "source": [
        "#Recommendet System"
      ],
      "metadata": {
        "id": "M8_5qwDsOrRt"
      },
      "execution_count": null,
      "outputs": []
    },
    {
      "cell_type": "code",
      "source": [
        "index = similarities.MatrixSimilarity(lda_model_final[corpus_tfidf])"
      ],
      "metadata": {
        "colab": {
          "base_uri": "https://localhost:8080/"
        },
        "id": "hI_58gf9VSTo",
        "outputId": "b9eb1a9d-e0ef-4f58-a299-9f853ac5a7d0"
      },
      "execution_count": null,
      "outputs": [
        {
          "output_type": "stream",
          "name": "stderr",
          "text": [
            "WARNING:gensim.similarities.docsim:scanning corpus to determine the number of features (consider setting `num_features` explicitly)\n"
          ]
        }
      ]
    },
    {
      "cell_type": "code",
      "source": [
        "def course_recommender(title):\n",
        "    course_checked = 0\n",
        "    for i in range(len(course_clean)):\n",
        "        recommendation_scores = []\n",
        "        #if course_clean[i] == title:\n",
        "        lda_vectors = corpus_lda_model[i]\n",
        "        sims = index[lda_vectors]\n",
        "        sims = list(enumerate(sims))\n",
        "        for sim in sims:\n",
        "          course_num = sim[0]\n",
        "          recommendation_score = [course_clean[course_num], sim[1]]\n",
        "          recommendation_scores.append(recommendation_score)\n",
        "            \n",
        "        recommendation = sorted(recommendation_scores, key=lambda x: x[1], reverse=True)\n",
        "        print(\"Your book's most prominent tokens are:\")\n",
        "        article_tokens = corpus_tfidf[i]\n",
        "        sorted_tokens = sorted(article_tokens, key=lambda x: x[1], reverse=True)\n",
        "        sorted_tokens_10 = sorted_tokens[:10]\n",
        "        for i in range(len(sorted_tokens_10)):\n",
        "          print(\"Word {} (\\\"{}\\\") appears {} time(s).\".format(sorted_tokens_10[i][0], \n",
        "                                                             dictionary[sorted_tokens_10[i][0]], \n",
        "                                                             sorted_tokens_10[i][1]))\n",
        "        print('-----')\n",
        "        print(\"Your book's most prominant topic is:\")\n",
        "        print(lda_model_final.print_topic(max(lda_vectors, key=lambda item: item[1])[0]))\n",
        "        print('-----')\n",
        "        print('Here are your recommendations for \"{}\":'.format(title))\n",
        "        display(recommendation[1:11])"
      ],
      "metadata": {
        "id": "S0_WDs10v1SU"
      },
      "execution_count": null,
      "outputs": []
    },
    {
      "cell_type": "code",
      "source": [
        "#course_recommender(\"Digital marketing courses\")"
      ],
      "metadata": {
        "id": "T6mXVI-uxBYP"
      },
      "execution_count": null,
      "outputs": []
    },
    {
      "cell_type": "code",
      "source": [
        "unseen_document = 'machine learning'"
      ],
      "metadata": {
        "id": "Prge44jbEB7X"
      },
      "execution_count": null,
      "outputs": []
    },
    {
      "cell_type": "code",
      "source": [
        "bow_vector = dictionary.doc2bow(preprocess(unseen_document)) \n",
        "tfidf_vector = tfidf[bow_vector]\n",
        "tfidf_vector_ordered = sorted(tfidf_vector, key=lambda x: x[1], reverse=True)\n",
        "print(tfidf_vector_ordered[:10])\n",
        "\n",
        "#bow_vector_ordered = sorted(bow_vector, key=lambda x: x[1], reverse=True)\n",
        "#print(bow_vector_ordered[:10])"
      ],
      "metadata": {
        "id": "4T4RahS3eFAs",
        "colab": {
          "base_uri": "https://localhost:8080/"
        },
        "outputId": "28b2dbf7-7e4b-400a-ce32-9f7ea35567b7"
      },
      "execution_count": null,
      "outputs": [
        {
          "output_type": "stream",
          "name": "stdout",
          "text": [
            "[(2561, 0.9536691529084148), (405, 0.30085735289493354)]\n"
          ]
        }
      ]
    },
    {
      "cell_type": "code",
      "source": [
        "lda_vector_other = lda_model_final[tfidf_vector_ordered]\n",
        "#lda_vector_other = lda_model_final[bow_vector_ordered]\n",
        "print(lda_vector_other)"
      ],
      "metadata": {
        "id": "7nkK0MtBeFDy",
        "colab": {
          "base_uri": "https://localhost:8080/"
        },
        "outputId": "9d243b67-f630-4ad8-fb89-582752974a01"
      },
      "execution_count": null,
      "outputs": [
        {
          "output_type": "stream",
          "name": "stdout",
          "text": [
            "[(0, 0.029570142), (1, 0.029570142), (2, 0.029570142), (3, 0.029570142), (4, 0.029570142), (5, 0.029570142), (6, 0.029570142), (7, 0.029570142), (8, 0.029570142), (9, 0.029570142), (10, 0.029570142), (11, 0.029570142), (12, 0.029570142), (13, 0.029570142), (14, 0.586018)]\n"
          ]
        }
      ]
    },
    {
      "cell_type": "code",
      "source": [
        "sims = index[lda_vector_other]\n",
        "sims = list(enumerate(sims))\n",
        "recommendation_scores_1 = []\n",
        "\n"
      ],
      "metadata": {
        "id": "932aS00wn125"
      },
      "execution_count": null,
      "outputs": []
    },
    {
      "cell_type": "code",
      "source": [
        "len(sims)"
      ],
      "metadata": {
        "colab": {
          "base_uri": "https://localhost:8080/"
        },
        "id": "AF4oNaEsn2rs",
        "outputId": "9a1f2e26-4f9d-43a6-b45f-22c46fad5a85"
      },
      "execution_count": null,
      "outputs": [
        {
          "output_type": "execute_result",
          "data": {
            "text/plain": [
              "3190"
            ]
          },
          "metadata": {},
          "execution_count": 89
        }
      ]
    },
    {
      "cell_type": "code",
      "source": [
        "len(course_clean)"
      ],
      "metadata": {
        "colab": {
          "base_uri": "https://localhost:8080/"
        },
        "id": "yk-j7gR1oGYH",
        "outputId": "4ed2bc05-1b6f-4ba4-cc89-7c3408c6be7f"
      },
      "execution_count": null,
      "outputs": [
        {
          "output_type": "execute_result",
          "data": {
            "text/plain": [
              "3190"
            ]
          },
          "metadata": {},
          "execution_count": 90
        }
      ]
    },
    {
      "cell_type": "code",
      "source": [
        "for sim in sims:\n",
        "    course_num = sim[0]\n",
        "    recommendation_score_1 = [course_clean[course_num], sim[1]]\n",
        "    recommendation_scores_1.append(recommendation_score_1)\n",
        "\n",
        "#recommendation_2 = recommendation_scores_1\n",
        "recommendation_2 = sorted(recommendation_scores_1, key=lambda x: x[1], reverse=True)\n",
        "\n",
        "print(\"Your book's most prominant topic is:\")\n",
        "print(lda_model_final.print_topic(max(lda_vector_other, key=lambda item: item[1])[0]))\n",
        "print('-----')\n",
        "print('Here are your recommendations for your book.')\n",
        "display(recommendation_2[0:11])"
      ],
      "metadata": {
        "id": "HOLIWXZPeFGa",
        "colab": {
          "base_uri": "https://localhost:8080/",
          "height": 1000
        },
        "outputId": "986db1d4-163f-44b4-d64d-bdb15228f912"
      },
      "execution_count": null,
      "outputs": [
        {
          "output_type": "stream",
          "name": "stdout",
          "text": [
            "Your book's most prominant topic is:\n",
            "0.004*\"data\" + 0.003*\"week\" + 0.003*\"module\" + 0.002*\"design\" + 0.002*\"cloud\" + 0.002*\"business\" + 0.002*\"project\" + 0.002*\"health\" + 0.002*\"python\" + 0.002*\"social\"\n",
            "-----\n",
            "Here are your recommendations for your book.\n"
          ]
        },
        {
          "output_type": "display_data",
          "data": {
            "text/plain": [
              "[['CaliRollB Tencent Cloud Practitioner CaliRollA Beginner Level Tencent Cloud Products Cloud Computing basic cloud knowledge Tencent Cloud Anthony Siu This course primarily aimed cloud professionals interested learning Tencent Cloud products services It equips learners foundational knowledge cloud computing prepares take Tencent Cloud Practitioner examination After completing course learners able explain different features advantages uses cases billing methods several core Tencent Cloud products Tencent Cloud cloud computing division Tencent leading global cloud provider With extensive China presence engagement teams around world extensive experience delivering optimal digital engagement massive user base Tencent Cloud offers powerful solutions enable multinationals succeed China globally Tencent CloudEnglish Introduction Cloud Computing Introduction Cloud Virtual Machine Introduction Tencent Cloud Networking Introduction Content Delivery Network Introduction Tencent Cloud Storage Products Introduction TencentDB Products Introduction Tencent Cloud Security Products Final Quiz Short Course Duration',\n",
              "  0.99418926],\n",
              " ['CaliRollB Tencent Cloud Practitioner CaliRollA Beginner Level Tencent Cloud Products Cloud Computing basic cloud knowledge Tencent Cloud Anthony Siu This course primarily aimed cloud professionals interested learning Tencent Cloud products services It equips learners foundational knowledge cloud computing prepares take Tencent Cloud Practitioner examination After completing course learners able explain different features advantages uses cases billing methods several core Tencent Cloud products Tencent Cloud cloud computing division Tencent leading global cloud provider With extensive China presence engagement teams around world extensive experience delivering optimal digital engagement massive user base Tencent Cloud offers powerful solutions enable multinationals succeed China globally Tencent CloudEnglish Introduction Cloud Computing Introduction Cloud Virtual Machine Introduction Tencent Cloud Networking Introduction Content Delivery Network Introduction Tencent Cloud Storage Products Introduction TencentDB Products Introduction Tencent Cloud Security Products Final Quiz Short Course Duration',\n",
              "  0.99418926],\n",
              " ['CaliRollB Writing Java Application Code CaliRollA Intermediate Level Computer Programming Windows Programming Web Mobile App Jim Sullivan This third course Specialization titled Java Second Language This course presents instruction IT professionals developing Java applications The material targets professional familiar application programming strong Java skills The type Java applications focus Console based Java applications Java windows applications Java web mobile applications This course presents material developing real applications includes hands application development labs Learners gain strong Java application development skills LearnQuest preferred training partner world leading companies organizations government agencies Our team boasts years experience designing developing delivering full suite industry leading technology education classes training solutions across globe Our trainers equipped expert industry experience unparalleled commitment quality facilitate classes offered various delivery formats clients obtain training need need In module learn writing Java console based applications In module learn write Java GUI applications windows programming In module continue learning write Java GUI applications windows programming In module learn Java web mobile applications This specialization meant introduction Java second language You may familiar computer programming language shell scripting knowledge older Java versions JavaScript etc This specialization help move Java language cover features functions need create great Java web mobile applications You learn Java object orientation see parallels programming languages LearnQuestEnglish Java Console Applications Java Windows Applications More Java Windows Applications Java Web Mobile applications In module learn writing Java console based applications In module learn write Java GUI applications windows programming In module continue learning write Java GUI applications windows programming In module learn Java web mobile applications Medium Course Duration',\n",
              "  0.99337673],\n",
              " ['CaliRollB Writing Java Application Code CaliRollA Intermediate Level Computer Programming Windows Programming Web Mobile App Jim Sullivan This third course Specialization titled Java Second Language This course presents instruction IT professionals developing Java applications The material targets professional familiar application programming strong Java skills The type Java applications focus Console based Java applications Java windows applications Java web mobile applications This course presents material developing real applications includes hands application development labs Learners gain strong Java application development skills LearnQuest preferred training partner world leading companies organizations government agencies Our team boasts years experience designing developing delivering full suite industry leading technology education classes training solutions across globe Our trainers equipped expert industry experience unparalleled commitment quality facilitate classes offered various delivery formats clients obtain training need need In module learn writing Java console based applications In module learn write Java GUI applications windows programming In module continue learning write Java GUI applications windows programming In module learn Java web mobile applications This specialization meant introduction Java second language You may familiar computer programming language shell scripting knowledge older Java versions JavaScript etc This specialization help move Java language cover features functions need create great Java web mobile applications You learn Java object orientation see parallels programming languages LearnQuestEnglish Java Console Applications Java Windows Applications More Java Windows Applications Java Web Mobile applications In module learn writing Java console based applications In module learn write Java GUI applications windows programming In module continue learning write Java GUI applications windows programming In module learn Java web mobile applications Medium Course Duration',\n",
              "  0.99337673],\n",
              " ['CaliRollB Introduction Java CaliRollA Beginner Level Java Database Connectivity JDBC Java Class Library Java Programming Object Oriented Programming OOP Computer Programming Noel J Bergman Evan Bergman This Course first series courses make Core Java Specialization The Core Java Specialization turn part series programming specializations derived LearnQuest private Java Bootcamps designed provide skill set necessary hired IT developer using Java many corporate environments This course includes hands practice give solid knowledge Java language After completing course able identify Java benefits program basic Java syntax using Java data types incorporate branches loops The audience course Anyone interested learning Java Programmers Technical Managers Application Developers Prerequisites To successful course understand fundamentals software development either procedural object oriented language LearnQuest preferred training partner world leading companies organizations government agencies Our team boasts years experience designing developing delivering full suite industry leading technology education classes training solutions across globe Our trainers equipped expert industry experience unparalleled commitment quality facilitate classes offered various delivery formats clients obtain training need need In module introduce Java examine benefits Java ways Java packaged We see Java installed demo Hello World Java This module introduces bit basic Java syntax primarily focuses Java primitive types wrapper classes This module concludes brief introduction associated lab environment within browser learning configure environment work best fashion You proceed open IDE used environment Eclipse review different elements within Finally reading lab exercises related module This module covers Java Fundamentals writing simple expressions using operators branching looping This Core Java Specialization part series programming specializations derived LearnQuest private Java Bootcamps designed provide skill set necessary hired IT developer using Java many corporate environments LearnQuestEnglish Introduction Java Java Language Fundamentals Types Java Language Fundamentals Flow Control In module introduce Java examine benefits Java ways Java packaged We see Java installed demo Hello World Java This module introduces bit basic Java syntax primarily focuses Java primitive types wrapper classes This module concludes brief introduction associated lab environment within browser learning configure environment work best fashion You proceed open IDE used environment Eclipse review different elements within Finally reading lab exercises related module This module covers Java Fundamentals writing simple expressions using operators branching looping Medium Course Duration',\n",
              "  0.99328196],\n",
              " ['CaliRollB Introduction Java CaliRollA Beginner Level Java Database Connectivity JDBC Java Class Library Java Programming Object Oriented Programming OOP Computer Programming Noel J Bergman Evan Bergman This Course first series courses make Core Java Specialization The Core Java Specialization turn part series programming specializations derived LearnQuest private Java Bootcamps designed provide skill set necessary hired IT developer using Java many corporate environments This course includes hands practice give solid knowledge Java language After completing course able identify Java benefits program basic Java syntax using Java data types incorporate branches loops The audience course Anyone interested learning Java Programmers Technical Managers Application Developers Prerequisites To successful course understand fundamentals software development either procedural object oriented language LearnQuest preferred training partner world leading companies organizations government agencies Our team boasts years experience designing developing delivering full suite industry leading technology education classes training solutions across globe Our trainers equipped expert industry experience unparalleled commitment quality facilitate classes offered various delivery formats clients obtain training need need In module introduce Java examine benefits Java ways Java packaged We see Java installed demo Hello World Java This module introduces bit basic Java syntax primarily focuses Java primitive types wrapper classes This module concludes brief introduction associated lab environment within browser learning configure environment work best fashion You proceed open IDE used environment Eclipse review different elements within Finally reading lab exercises related module This module covers Java Fundamentals writing simple expressions using operators branching looping This Core Java Specialization part series programming specializations derived LearnQuest private Java Bootcamps designed provide skill set necessary hired IT developer using Java many corporate environments LearnQuestEnglish Introduction Java Java Language Fundamentals Types Java Language Fundamentals Flow Control In module introduce Java examine benefits Java ways Java packaged We see Java installed demo Hello World Java This module introduces bit basic Java syntax primarily focuses Java primitive types wrapper classes This module concludes brief introduction associated lab environment within browser learning configure environment work best fashion You proceed open IDE used environment Eclipse review different elements within Finally reading lab exercises related module This module covers Java Fundamentals writing simple expressions using operators branching looping Medium Course Duration',\n",
              "  0.99328196],\n",
              " ['CaliRollB Effective Compliance Programs CaliRollA Unknown Management Strategic Planning Compliance Organizational Behavior Lauren Steinfeld nTOP INSTRUCTOR Andrew Kandel nTOP INSTRUCTOR Once understanding compliance may important natural wonder next What I In course explore one key factors creating positive culture compliance human psychology We think drives us makes us pay attention distracts pieces help build strong belief organizational culture compliance We examine formal compliance programs diving nuances applied practice We also explore technologies workflows policies monitoring training necessary create toolkit designing effective compliance program The University Pennsylvania commonly referred Penn private university located Philadelphia Pennsylvania United States A member Ivy League Penn fourth oldest institution higher education United States considers first university United States undergraduate graduate studies How actually implement culture compliance This module looks key building blocks necessary foster culture compliance within organization Once foundations strong compliance culture place disseminate culture throughout organization This module examines policies procedures trainings necessary create compliant culture throughout organization Compliance heart response human problem If rules enough compliance enforcement exist This module explores psychology behind non compliance happens strategies getting people comply Even organizations top notch compliance programs non compliance inevitable death taxes This module explores strategies dealing non compliance Every organization faces myriad risks threaten operations reputation bottom line A robust effective compliance program make difference companies successfully navigate risks become cautionary tales University PennsylvaniaEnglish Building Strong Compliance Culture A Closer Look Essentials xa The Psychology Compliance Dealing With Non Compliance How actually implement culture compliance This module looks key building blocks necessary foster culture compliance within organization Once foundations strong compliance culture place disseminate culture throughout organization This module examines policies procedures trainings necessary create compliant culture throughout organization Compliance heart response human problem If rules enough compliance enforcement exist This module explores psychology behind non compliance happens strategies getting people comply Even organizations top notch compliance programs non compliance inevitable death taxes This module explores strategies dealing non compliance Medium Course Duration',\n",
              "  0.99316716],\n",
              " ['CaliRollB Effective Compliance Programs CaliRollA Unknown Management Strategic Planning Compliance Organizational Behavior Lauren Steinfeld nTOP INSTRUCTOR Andrew Kandel nTOP INSTRUCTOR Once understanding compliance may important natural wonder next What I In course explore one key factors creating positive culture compliance human psychology We think drives us makes us pay attention distracts pieces help build strong belief organizational culture compliance We examine formal compliance programs diving nuances applied practice We also explore technologies workflows policies monitoring training necessary create toolkit designing effective compliance program The University Pennsylvania commonly referred Penn private university located Philadelphia Pennsylvania United States A member Ivy League Penn fourth oldest institution higher education United States considers first university United States undergraduate graduate studies How actually implement culture compliance This module looks key building blocks necessary foster culture compliance within organization Once foundations strong compliance culture place disseminate culture throughout organization This module examines policies procedures trainings necessary create compliant culture throughout organization Compliance heart response human problem If rules enough compliance enforcement exist This module explores psychology behind non compliance happens strategies getting people comply Even organizations top notch compliance programs non compliance inevitable death taxes This module explores strategies dealing non compliance Every organization faces myriad risks threaten operations reputation bottom line A robust effective compliance program make difference companies successfully navigate risks become cautionary tales University PennsylvaniaEnglish Building Strong Compliance Culture A Closer Look Essentials xa The Psychology Compliance Dealing With Non Compliance How actually implement culture compliance This module looks key building blocks necessary foster culture compliance within organization Once foundations strong compliance culture place disseminate culture throughout organization This module examines policies procedures trainings necessary create compliant culture throughout organization Compliance heart response human problem If rules enough compliance enforcement exist This module explores psychology behind non compliance happens strategies getting people comply Even organizations top notch compliance programs non compliance inevitable death taxes This module explores strategies dealing non compliance Medium Course Duration',\n",
              "  0.99316716],\n",
              " ['CaliRollB Introduction Microsoft Azure Cloud Services CaliRollA Beginner Level Describe benefits cloud computing Microsoft Azure Explain core cloud concepts Describe core Microsoft Azure services Describe core Microsoft Azure architecture components Microsoft Whether beginning work cloud already cloud experience new Microsoft Azure course provides everything need get started It introduces Microsoft Azure core concepts services You learn basics cloud computing advantages choose right Microsoft Azure solution different business scenarios You use Microsoft Azure portal sandbox create test Microsoft Azure resources cost You need write code scripting skills Our goal Microsoft empower every individual organization planet achieve In next revolution digital transformation growth driven technology Our integrated cloud approach creates unmatched platform digital transformation We address real world needs customers seamlessly integrating Microsoft Dynamics LinkedIn GitHub Microsoft Power Platform Azure unlock business value every organization large enterprises family run businesses The backbone foundation Azure This module introduces basics cloud computing Azure get started Azure subscriptions accounts In module learn advantages using cloud computing services differentiate categories types cloud computing You also examine various concepts resources terminology necessary work Azure architecture This week learn several database services available Microsoft Azure Azure Cosmos DB Azure SQL Database Azure SQL Managed Instance Azure Database MySQL Azure Database PostgreSQL In addition learn several big data analysis services Azure You also learn take advantage several virtualization services Azure compute help applications scale quickly efficiently meet increasing demands This week learn different storage options available Azure Storage services scenarios storage option appropriate As complete individual units module learn Azure Blob Storage Azure Disk Storage Azure Files Blob access tiers You also take look several core networking resources available Azure You learn Azure Virtual Network configure customized network environment meets company needs You also learn use Azure VPN Gateway Azure ExpressRoute create secure communication tunnels company different locations Cloud computing rapidly expanding areas businesses creating new exciting career opportunities These opportunities cover broad range roles developers architects security professionals data scientists This program give fundamental knowledge skills confidence begin Microsoft Azure certification journey MicrosoftEnglish Introduction Azure Fundamentals Microsoft Azure Fundamental Concepts Architectural Components Microsoft Azure Database Analytics Compute Services Microsoft Azure Storage Networking Services This module introduces basics cloud computing Azure get started Azure subscriptions accounts In module learn advantages using cloud computing services differentiate categories types cloud computing You also examine various concepts resources terminology necessary work Azure architecture This week learn several database services available Microsoft Azure Azure Cosmos DB Azure SQL Database Azure SQL Managed Instance Azure Database MySQL Azure Database PostgreSQL In addition learn several big data analysis services Azure You also learn take advantage several virtualization services Azure compute help applications scale quickly efficiently meet increasing demands This week learn different storage options available Azure Storage services scenarios storage option appropriate As complete individual units module learn Azure Blob Storage Azure Disk Storage Azure Files Blob access tiers You also take look several core networking resources available Azure You learn Azure Virtual Network configure customized network environment meets company needs You also learn use Azure VPN Gateway Azure ExpressRoute create secure communication tunnels company different locations Short Course Duration',\n",
              "  0.9930821],\n",
              " ['CaliRollB Introduction Microsoft Azure Cloud Services CaliRollA Beginner Level Describe benefits cloud computing Microsoft Azure Explain core cloud concepts Describe core Microsoft Azure services Describe core Microsoft Azure architecture components Microsoft Whether beginning work cloud already cloud experience new Microsoft Azure course provides everything need get started It introduces Microsoft Azure core concepts services You learn basics cloud computing advantages choose right Microsoft Azure solution different business scenarios You use Microsoft Azure portal sandbox create test Microsoft Azure resources cost You need write code scripting skills Our goal Microsoft empower every individual organization planet achieve In next revolution digital transformation growth driven technology Our integrated cloud approach creates unmatched platform digital transformation We address real world needs customers seamlessly integrating Microsoft Dynamics LinkedIn GitHub Microsoft Power Platform Azure unlock business value every organization large enterprises family run businesses The backbone foundation Azure This module introduces basics cloud computing Azure get started Azure subscriptions accounts In module learn advantages using cloud computing services differentiate categories types cloud computing You also examine various concepts resources terminology necessary work Azure architecture This week learn several database services available Microsoft Azure Azure Cosmos DB Azure SQL Database Azure SQL Managed Instance Azure Database MySQL Azure Database PostgreSQL In addition learn several big data analysis services Azure You also learn take advantage several virtualization services Azure compute help applications scale quickly efficiently meet increasing demands This week learn different storage options available Azure Storage services scenarios storage option appropriate As complete individual units module learn Azure Blob Storage Azure Disk Storage Azure Files Blob access tiers You also take look several core networking resources available Azure You learn Azure Virtual Network configure customized network environment meets company needs You also learn use Azure VPN Gateway Azure ExpressRoute create secure communication tunnels company different locations Cloud computing rapidly expanding areas businesses creating new exciting career opportunities These opportunities cover broad range roles developers architects security professionals data scientists This program give fundamental knowledge skills confidence begin Microsoft Azure certification journey MicrosoftEnglish Introduction Azure Fundamentals Microsoft Azure Fundamental Concepts Architectural Components Microsoft Azure Database Analytics Compute Services Microsoft Azure Storage Networking Services This module introduces basics cloud computing Azure get started Azure subscriptions accounts In module learn advantages using cloud computing services differentiate categories types cloud computing You also examine various concepts resources terminology necessary work Azure architecture This week learn several database services available Microsoft Azure Azure Cosmos DB Azure SQL Database Azure SQL Managed Instance Azure Database MySQL Azure Database PostgreSQL In addition learn several big data analysis services Azure You also learn take advantage several virtualization services Azure compute help applications scale quickly efficiently meet increasing demands This week learn different storage options available Azure Storage services scenarios storage option appropriate As complete individual units module learn Azure Blob Storage Azure Disk Storage Azure Files Blob access tiers You also take look several core networking resources available Azure You learn Azure Virtual Network configure customized network environment meets company needs You also learn use Azure VPN Gateway Azure ExpressRoute create secure communication tunnels company different locations Short Course Duration',\n",
              "  0.9930821],\n",
              " ['CaliRollB Managing Securing Apigee Hybrid API Platform CaliRollA Beginner Level Google Cloud Training This course discusses environments managed Apigee hybrid runtime plane components secured You also learn deploy debug API proxies Apigee hybrid capacity planning scaling We help millions organizations empower employees serve customers build next businesses innovative technology created cloud Our products engineered security reliability scalability running full stack infrastructure applications devices hardware Our teams dedicated helping customers apply technologies create success Introduction management security course Google Cloud Apigee hybrid API platform In module learn API proxy deployment environment management hybrid platform This module discusses Apigee hybrid runtime plane infrastructure components data secured This module discusses capacity planning Apigee hybrid runtime components scaled process increases volume API traffic proxies In specialization learn Apigee hybrid architecture develop understanding Apigee hybrid terminology organizational model You install Apigee hybrid implement scenarios manage scale monitor software components make hybrid platform Google CloudEnglish Deployment Environment Management Capacity Planning Scaling In module learn API proxy deployment environment management hybrid platform This module discusses capacity planning Apigee hybrid runtime components scaled process increases volume API traffic proxies Short Course Duration',\n",
              "  0.99288285]]"
            ]
          },
          "metadata": {}
        }
      ]
    },
    {
      "cell_type": "code",
      "source": [
        "print(recommendation_2[0:11])"
      ],
      "metadata": {
        "colab": {
          "base_uri": "https://localhost:8080/"
        },
        "id": "Zy4L5bBO0OGH",
        "outputId": "34a69dbc-1107-4b2d-aea1-aacb2e7fd585"
      },
      "execution_count": null,
      "outputs": [
        {
          "output_type": "stream",
          "name": "stdout",
          "text": [
            "[['CaliRollB Tencent Cloud Practitioner CaliRollA Beginner Level Tencent Cloud Products Cloud Computing basic cloud knowledge Tencent Cloud Anthony Siu This course primarily aimed cloud professionals interested learning Tencent Cloud products services It equips learners foundational knowledge cloud computing prepares take Tencent Cloud Practitioner examination After completing course learners able explain different features advantages uses cases billing methods several core Tencent Cloud products Tencent Cloud cloud computing division Tencent leading global cloud provider With extensive China presence engagement teams around world extensive experience delivering optimal digital engagement massive user base Tencent Cloud offers powerful solutions enable multinationals succeed China globally Tencent CloudEnglish Introduction Cloud Computing Introduction Cloud Virtual Machine Introduction Tencent Cloud Networking Introduction Content Delivery Network Introduction Tencent Cloud Storage Products Introduction TencentDB Products Introduction Tencent Cloud Security Products Final Quiz Short Course Duration', 0.99418926], ['CaliRollB Tencent Cloud Practitioner CaliRollA Beginner Level Tencent Cloud Products Cloud Computing basic cloud knowledge Tencent Cloud Anthony Siu This course primarily aimed cloud professionals interested learning Tencent Cloud products services It equips learners foundational knowledge cloud computing prepares take Tencent Cloud Practitioner examination After completing course learners able explain different features advantages uses cases billing methods several core Tencent Cloud products Tencent Cloud cloud computing division Tencent leading global cloud provider With extensive China presence engagement teams around world extensive experience delivering optimal digital engagement massive user base Tencent Cloud offers powerful solutions enable multinationals succeed China globally Tencent CloudEnglish Introduction Cloud Computing Introduction Cloud Virtual Machine Introduction Tencent Cloud Networking Introduction Content Delivery Network Introduction Tencent Cloud Storage Products Introduction TencentDB Products Introduction Tencent Cloud Security Products Final Quiz Short Course Duration', 0.99418926], ['CaliRollB Writing Java Application Code CaliRollA Intermediate Level Computer Programming Windows Programming Web Mobile App Jim Sullivan This third course Specialization titled Java Second Language This course presents instruction IT professionals developing Java applications The material targets professional familiar application programming strong Java skills The type Java applications focus Console based Java applications Java windows applications Java web mobile applications This course presents material developing real applications includes hands application development labs Learners gain strong Java application development skills LearnQuest preferred training partner world leading companies organizations government agencies Our team boasts years experience designing developing delivering full suite industry leading technology education classes training solutions across globe Our trainers equipped expert industry experience unparalleled commitment quality facilitate classes offered various delivery formats clients obtain training need need In module learn writing Java console based applications In module learn write Java GUI applications windows programming In module continue learning write Java GUI applications windows programming In module learn Java web mobile applications This specialization meant introduction Java second language You may familiar computer programming language shell scripting knowledge older Java versions JavaScript etc This specialization help move Java language cover features functions need create great Java web mobile applications You learn Java object orientation see parallels programming languages LearnQuestEnglish Java Console Applications Java Windows Applications More Java Windows Applications Java Web Mobile applications In module learn writing Java console based applications In module learn write Java GUI applications windows programming In module continue learning write Java GUI applications windows programming In module learn Java web mobile applications Medium Course Duration', 0.99337673], ['CaliRollB Writing Java Application Code CaliRollA Intermediate Level Computer Programming Windows Programming Web Mobile App Jim Sullivan This third course Specialization titled Java Second Language This course presents instruction IT professionals developing Java applications The material targets professional familiar application programming strong Java skills The type Java applications focus Console based Java applications Java windows applications Java web mobile applications This course presents material developing real applications includes hands application development labs Learners gain strong Java application development skills LearnQuest preferred training partner world leading companies organizations government agencies Our team boasts years experience designing developing delivering full suite industry leading technology education classes training solutions across globe Our trainers equipped expert industry experience unparalleled commitment quality facilitate classes offered various delivery formats clients obtain training need need In module learn writing Java console based applications In module learn write Java GUI applications windows programming In module continue learning write Java GUI applications windows programming In module learn Java web mobile applications This specialization meant introduction Java second language You may familiar computer programming language shell scripting knowledge older Java versions JavaScript etc This specialization help move Java language cover features functions need create great Java web mobile applications You learn Java object orientation see parallels programming languages LearnQuestEnglish Java Console Applications Java Windows Applications More Java Windows Applications Java Web Mobile applications In module learn writing Java console based applications In module learn write Java GUI applications windows programming In module continue learning write Java GUI applications windows programming In module learn Java web mobile applications Medium Course Duration', 0.99337673], ['CaliRollB Introduction Java CaliRollA Beginner Level Java Database Connectivity JDBC Java Class Library Java Programming Object Oriented Programming OOP Computer Programming Noel J Bergman Evan Bergman This Course first series courses make Core Java Specialization The Core Java Specialization turn part series programming specializations derived LearnQuest private Java Bootcamps designed provide skill set necessary hired IT developer using Java many corporate environments This course includes hands practice give solid knowledge Java language After completing course able identify Java benefits program basic Java syntax using Java data types incorporate branches loops The audience course Anyone interested learning Java Programmers Technical Managers Application Developers Prerequisites To successful course understand fundamentals software development either procedural object oriented language LearnQuest preferred training partner world leading companies organizations government agencies Our team boasts years experience designing developing delivering full suite industry leading technology education classes training solutions across globe Our trainers equipped expert industry experience unparalleled commitment quality facilitate classes offered various delivery formats clients obtain training need need In module introduce Java examine benefits Java ways Java packaged We see Java installed demo Hello World Java This module introduces bit basic Java syntax primarily focuses Java primitive types wrapper classes This module concludes brief introduction associated lab environment within browser learning configure environment work best fashion You proceed open IDE used environment Eclipse review different elements within Finally reading lab exercises related module This module covers Java Fundamentals writing simple expressions using operators branching looping This Core Java Specialization part series programming specializations derived LearnQuest private Java Bootcamps designed provide skill set necessary hired IT developer using Java many corporate environments LearnQuestEnglish Introduction Java Java Language Fundamentals Types Java Language Fundamentals Flow Control In module introduce Java examine benefits Java ways Java packaged We see Java installed demo Hello World Java This module introduces bit basic Java syntax primarily focuses Java primitive types wrapper classes This module concludes brief introduction associated lab environment within browser learning configure environment work best fashion You proceed open IDE used environment Eclipse review different elements within Finally reading lab exercises related module This module covers Java Fundamentals writing simple expressions using operators branching looping Medium Course Duration', 0.99328196], ['CaliRollB Introduction Java CaliRollA Beginner Level Java Database Connectivity JDBC Java Class Library Java Programming Object Oriented Programming OOP Computer Programming Noel J Bergman Evan Bergman This Course first series courses make Core Java Specialization The Core Java Specialization turn part series programming specializations derived LearnQuest private Java Bootcamps designed provide skill set necessary hired IT developer using Java many corporate environments This course includes hands practice give solid knowledge Java language After completing course able identify Java benefits program basic Java syntax using Java data types incorporate branches loops The audience course Anyone interested learning Java Programmers Technical Managers Application Developers Prerequisites To successful course understand fundamentals software development either procedural object oriented language LearnQuest preferred training partner world leading companies organizations government agencies Our team boasts years experience designing developing delivering full suite industry leading technology education classes training solutions across globe Our trainers equipped expert industry experience unparalleled commitment quality facilitate classes offered various delivery formats clients obtain training need need In module introduce Java examine benefits Java ways Java packaged We see Java installed demo Hello World Java This module introduces bit basic Java syntax primarily focuses Java primitive types wrapper classes This module concludes brief introduction associated lab environment within browser learning configure environment work best fashion You proceed open IDE used environment Eclipse review different elements within Finally reading lab exercises related module This module covers Java Fundamentals writing simple expressions using operators branching looping This Core Java Specialization part series programming specializations derived LearnQuest private Java Bootcamps designed provide skill set necessary hired IT developer using Java many corporate environments LearnQuestEnglish Introduction Java Java Language Fundamentals Types Java Language Fundamentals Flow Control In module introduce Java examine benefits Java ways Java packaged We see Java installed demo Hello World Java This module introduces bit basic Java syntax primarily focuses Java primitive types wrapper classes This module concludes brief introduction associated lab environment within browser learning configure environment work best fashion You proceed open IDE used environment Eclipse review different elements within Finally reading lab exercises related module This module covers Java Fundamentals writing simple expressions using operators branching looping Medium Course Duration', 0.99328196], ['CaliRollB Effective Compliance Programs CaliRollA Unknown Management Strategic Planning Compliance Organizational Behavior Lauren Steinfeld nTOP INSTRUCTOR Andrew Kandel nTOP INSTRUCTOR Once understanding compliance may important natural wonder next What I In course explore one key factors creating positive culture compliance human psychology We think drives us makes us pay attention distracts pieces help build strong belief organizational culture compliance We examine formal compliance programs diving nuances applied practice We also explore technologies workflows policies monitoring training necessary create toolkit designing effective compliance program The University Pennsylvania commonly referred Penn private university located Philadelphia Pennsylvania United States A member Ivy League Penn fourth oldest institution higher education United States considers first university United States undergraduate graduate studies How actually implement culture compliance This module looks key building blocks necessary foster culture compliance within organization Once foundations strong compliance culture place disseminate culture throughout organization This module examines policies procedures trainings necessary create compliant culture throughout organization Compliance heart response human problem If rules enough compliance enforcement exist This module explores psychology behind non compliance happens strategies getting people comply Even organizations top notch compliance programs non compliance inevitable death taxes This module explores strategies dealing non compliance Every organization faces myriad risks threaten operations reputation bottom line A robust effective compliance program make difference companies successfully navigate risks become cautionary tales University PennsylvaniaEnglish Building Strong Compliance Culture A Closer Look Essentials xa The Psychology Compliance Dealing With Non Compliance How actually implement culture compliance This module looks key building blocks necessary foster culture compliance within organization Once foundations strong compliance culture place disseminate culture throughout organization This module examines policies procedures trainings necessary create compliant culture throughout organization Compliance heart response human problem If rules enough compliance enforcement exist This module explores psychology behind non compliance happens strategies getting people comply Even organizations top notch compliance programs non compliance inevitable death taxes This module explores strategies dealing non compliance Medium Course Duration', 0.99316716], ['CaliRollB Effective Compliance Programs CaliRollA Unknown Management Strategic Planning Compliance Organizational Behavior Lauren Steinfeld nTOP INSTRUCTOR Andrew Kandel nTOP INSTRUCTOR Once understanding compliance may important natural wonder next What I In course explore one key factors creating positive culture compliance human psychology We think drives us makes us pay attention distracts pieces help build strong belief organizational culture compliance We examine formal compliance programs diving nuances applied practice We also explore technologies workflows policies monitoring training necessary create toolkit designing effective compliance program The University Pennsylvania commonly referred Penn private university located Philadelphia Pennsylvania United States A member Ivy League Penn fourth oldest institution higher education United States considers first university United States undergraduate graduate studies How actually implement culture compliance This module looks key building blocks necessary foster culture compliance within organization Once foundations strong compliance culture place disseminate culture throughout organization This module examines policies procedures trainings necessary create compliant culture throughout organization Compliance heart response human problem If rules enough compliance enforcement exist This module explores psychology behind non compliance happens strategies getting people comply Even organizations top notch compliance programs non compliance inevitable death taxes This module explores strategies dealing non compliance Every organization faces myriad risks threaten operations reputation bottom line A robust effective compliance program make difference companies successfully navigate risks become cautionary tales University PennsylvaniaEnglish Building Strong Compliance Culture A Closer Look Essentials xa The Psychology Compliance Dealing With Non Compliance How actually implement culture compliance This module looks key building blocks necessary foster culture compliance within organization Once foundations strong compliance culture place disseminate culture throughout organization This module examines policies procedures trainings necessary create compliant culture throughout organization Compliance heart response human problem If rules enough compliance enforcement exist This module explores psychology behind non compliance happens strategies getting people comply Even organizations top notch compliance programs non compliance inevitable death taxes This module explores strategies dealing non compliance Medium Course Duration', 0.99316716], ['CaliRollB Introduction Microsoft Azure Cloud Services CaliRollA Beginner Level Describe benefits cloud computing Microsoft Azure Explain core cloud concepts Describe core Microsoft Azure services Describe core Microsoft Azure architecture components Microsoft Whether beginning work cloud already cloud experience new Microsoft Azure course provides everything need get started It introduces Microsoft Azure core concepts services You learn basics cloud computing advantages choose right Microsoft Azure solution different business scenarios You use Microsoft Azure portal sandbox create test Microsoft Azure resources cost You need write code scripting skills Our goal Microsoft empower every individual organization planet achieve In next revolution digital transformation growth driven technology Our integrated cloud approach creates unmatched platform digital transformation We address real world needs customers seamlessly integrating Microsoft Dynamics LinkedIn GitHub Microsoft Power Platform Azure unlock business value every organization large enterprises family run businesses The backbone foundation Azure This module introduces basics cloud computing Azure get started Azure subscriptions accounts In module learn advantages using cloud computing services differentiate categories types cloud computing You also examine various concepts resources terminology necessary work Azure architecture This week learn several database services available Microsoft Azure Azure Cosmos DB Azure SQL Database Azure SQL Managed Instance Azure Database MySQL Azure Database PostgreSQL In addition learn several big data analysis services Azure You also learn take advantage several virtualization services Azure compute help applications scale quickly efficiently meet increasing demands This week learn different storage options available Azure Storage services scenarios storage option appropriate As complete individual units module learn Azure Blob Storage Azure Disk Storage Azure Files Blob access tiers You also take look several core networking resources available Azure You learn Azure Virtual Network configure customized network environment meets company needs You also learn use Azure VPN Gateway Azure ExpressRoute create secure communication tunnels company different locations Cloud computing rapidly expanding areas businesses creating new exciting career opportunities These opportunities cover broad range roles developers architects security professionals data scientists This program give fundamental knowledge skills confidence begin Microsoft Azure certification journey MicrosoftEnglish Introduction Azure Fundamentals Microsoft Azure Fundamental Concepts Architectural Components Microsoft Azure Database Analytics Compute Services Microsoft Azure Storage Networking Services This module introduces basics cloud computing Azure get started Azure subscriptions accounts In module learn advantages using cloud computing services differentiate categories types cloud computing You also examine various concepts resources terminology necessary work Azure architecture This week learn several database services available Microsoft Azure Azure Cosmos DB Azure SQL Database Azure SQL Managed Instance Azure Database MySQL Azure Database PostgreSQL In addition learn several big data analysis services Azure You also learn take advantage several virtualization services Azure compute help applications scale quickly efficiently meet increasing demands This week learn different storage options available Azure Storage services scenarios storage option appropriate As complete individual units module learn Azure Blob Storage Azure Disk Storage Azure Files Blob access tiers You also take look several core networking resources available Azure You learn Azure Virtual Network configure customized network environment meets company needs You also learn use Azure VPN Gateway Azure ExpressRoute create secure communication tunnels company different locations Short Course Duration', 0.9930821], ['CaliRollB Introduction Microsoft Azure Cloud Services CaliRollA Beginner Level Describe benefits cloud computing Microsoft Azure Explain core cloud concepts Describe core Microsoft Azure services Describe core Microsoft Azure architecture components Microsoft Whether beginning work cloud already cloud experience new Microsoft Azure course provides everything need get started It introduces Microsoft Azure core concepts services You learn basics cloud computing advantages choose right Microsoft Azure solution different business scenarios You use Microsoft Azure portal sandbox create test Microsoft Azure resources cost You need write code scripting skills Our goal Microsoft empower every individual organization planet achieve In next revolution digital transformation growth driven technology Our integrated cloud approach creates unmatched platform digital transformation We address real world needs customers seamlessly integrating Microsoft Dynamics LinkedIn GitHub Microsoft Power Platform Azure unlock business value every organization large enterprises family run businesses The backbone foundation Azure This module introduces basics cloud computing Azure get started Azure subscriptions accounts In module learn advantages using cloud computing services differentiate categories types cloud computing You also examine various concepts resources terminology necessary work Azure architecture This week learn several database services available Microsoft Azure Azure Cosmos DB Azure SQL Database Azure SQL Managed Instance Azure Database MySQL Azure Database PostgreSQL In addition learn several big data analysis services Azure You also learn take advantage several virtualization services Azure compute help applications scale quickly efficiently meet increasing demands This week learn different storage options available Azure Storage services scenarios storage option appropriate As complete individual units module learn Azure Blob Storage Azure Disk Storage Azure Files Blob access tiers You also take look several core networking resources available Azure You learn Azure Virtual Network configure customized network environment meets company needs You also learn use Azure VPN Gateway Azure ExpressRoute create secure communication tunnels company different locations Cloud computing rapidly expanding areas businesses creating new exciting career opportunities These opportunities cover broad range roles developers architects security professionals data scientists This program give fundamental knowledge skills confidence begin Microsoft Azure certification journey MicrosoftEnglish Introduction Azure Fundamentals Microsoft Azure Fundamental Concepts Architectural Components Microsoft Azure Database Analytics Compute Services Microsoft Azure Storage Networking Services This module introduces basics cloud computing Azure get started Azure subscriptions accounts In module learn advantages using cloud computing services differentiate categories types cloud computing You also examine various concepts resources terminology necessary work Azure architecture This week learn several database services available Microsoft Azure Azure Cosmos DB Azure SQL Database Azure SQL Managed Instance Azure Database MySQL Azure Database PostgreSQL In addition learn several big data analysis services Azure You also learn take advantage several virtualization services Azure compute help applications scale quickly efficiently meet increasing demands This week learn different storage options available Azure Storage services scenarios storage option appropriate As complete individual units module learn Azure Blob Storage Azure Disk Storage Azure Files Blob access tiers You also take look several core networking resources available Azure You learn Azure Virtual Network configure customized network environment meets company needs You also learn use Azure VPN Gateway Azure ExpressRoute create secure communication tunnels company different locations Short Course Duration', 0.9930821], ['CaliRollB Managing Securing Apigee Hybrid API Platform CaliRollA Beginner Level Google Cloud Training This course discusses environments managed Apigee hybrid runtime plane components secured You also learn deploy debug API proxies Apigee hybrid capacity planning scaling We help millions organizations empower employees serve customers build next businesses innovative technology created cloud Our products engineered security reliability scalability running full stack infrastructure applications devices hardware Our teams dedicated helping customers apply technologies create success Introduction management security course Google Cloud Apigee hybrid API platform In module learn API proxy deployment environment management hybrid platform This module discusses Apigee hybrid runtime plane infrastructure components data secured This module discusses capacity planning Apigee hybrid runtime components scaled process increases volume API traffic proxies In specialization learn Apigee hybrid architecture develop understanding Apigee hybrid terminology organizational model You install Apigee hybrid implement scenarios manage scale monitor software components make hybrid platform Google CloudEnglish Deployment Environment Management Capacity Planning Scaling In module learn API proxy deployment environment management hybrid platform This module discusses capacity planning Apigee hybrid runtime components scaled process increases volume API traffic proxies Short Course Duration', 0.99288285]]\n"
          ]
        }
      ]
    },
    {
      "cell_type": "code",
      "source": [
        "import pandas as pd\n",
        "recommendation_course_name = pd.DataFrame()\n",
        "recommendation_course_name['course_name'] =recommendation_2"
      ],
      "metadata": {
        "id": "pOMR4hHB0XAD",
        "colab": {
          "base_uri": "https://localhost:8080/",
          "height": 201
        },
        "outputId": "2b0c9c04-f809-498c-d730-de20585c2ce2"
      },
      "execution_count": null,
      "outputs": [
        {
          "output_type": "error",
          "ename": "NameError",
          "evalue": "ignored",
          "traceback": [
            "\u001b[0;31m---------------------------------------------------------------------------\u001b[0m",
            "\u001b[0;31mNameError\u001b[0m                                 Traceback (most recent call last)",
            "\u001b[0;32m<ipython-input-64-22b610576505>\u001b[0m in \u001b[0;36m<module>\u001b[0;34m\u001b[0m\n\u001b[1;32m      1\u001b[0m \u001b[0;32mimport\u001b[0m \u001b[0mpandas\u001b[0m \u001b[0;32mas\u001b[0m \u001b[0mpd\u001b[0m\u001b[0;34m\u001b[0m\u001b[0;34m\u001b[0m\u001b[0m\n\u001b[1;32m      2\u001b[0m \u001b[0mrecommendation_course_name\u001b[0m \u001b[0;34m=\u001b[0m \u001b[0mpd\u001b[0m\u001b[0;34m.\u001b[0m\u001b[0mDataFrame\u001b[0m\u001b[0;34m(\u001b[0m\u001b[0;34m)\u001b[0m\u001b[0;34m\u001b[0m\u001b[0;34m\u001b[0m\u001b[0m\n\u001b[0;32m----> 3\u001b[0;31m \u001b[0mrecommendation_course_name\u001b[0m\u001b[0;34m[\u001b[0m\u001b[0;34m'course_name'\u001b[0m\u001b[0;34m]\u001b[0m \u001b[0;34m=\u001b[0m\u001b[0mrecommendation_2\u001b[0m\u001b[0;34m\u001b[0m\u001b[0;34m\u001b[0m\u001b[0m\n\u001b[0m",
            "\u001b[0;31mNameError\u001b[0m: name 'recommendation_2' is not defined"
          ]
        }
      ]
    },
    {
      "cell_type": "code",
      "source": [
        "recommendation_course_name"
      ],
      "metadata": {
        "colab": {
          "base_uri": "https://localhost:8080/",
          "height": 49
        },
        "id": "TTuj-6Yp0oTR",
        "outputId": "2d8d1174-c079-4df9-dba7-eff453315018"
      },
      "execution_count": null,
      "outputs": [
        {
          "output_type": "execute_result",
          "data": {
            "text/plain": [
              "Empty DataFrame\n",
              "Columns: []\n",
              "Index: []"
            ],
            "text/html": [
              "\n",
              "  <div id=\"df-98532b03-101c-4841-b922-ffac44cd3c6a\">\n",
              "    <div class=\"colab-df-container\">\n",
              "      <div>\n",
              "<style scoped>\n",
              "    .dataframe tbody tr th:only-of-type {\n",
              "        vertical-align: middle;\n",
              "    }\n",
              "\n",
              "    .dataframe tbody tr th {\n",
              "        vertical-align: top;\n",
              "    }\n",
              "\n",
              "    .dataframe thead th {\n",
              "        text-align: right;\n",
              "    }\n",
              "</style>\n",
              "<table border=\"1\" class=\"dataframe\">\n",
              "  <thead>\n",
              "    <tr style=\"text-align: right;\">\n",
              "      <th></th>\n",
              "    </tr>\n",
              "  </thead>\n",
              "  <tbody>\n",
              "  </tbody>\n",
              "</table>\n",
              "</div>\n",
              "      <button class=\"colab-df-convert\" onclick=\"convertToInteractive('df-98532b03-101c-4841-b922-ffac44cd3c6a')\"\n",
              "              title=\"Convert this dataframe to an interactive table.\"\n",
              "              style=\"display:none;\">\n",
              "        \n",
              "  <svg xmlns=\"http://www.w3.org/2000/svg\" height=\"24px\"viewBox=\"0 0 24 24\"\n",
              "       width=\"24px\">\n",
              "    <path d=\"M0 0h24v24H0V0z\" fill=\"none\"/>\n",
              "    <path d=\"M18.56 5.44l.94 2.06.94-2.06 2.06-.94-2.06-.94-.94-2.06-.94 2.06-2.06.94zm-11 1L8.5 8.5l.94-2.06 2.06-.94-2.06-.94L8.5 2.5l-.94 2.06-2.06.94zm10 10l.94 2.06.94-2.06 2.06-.94-2.06-.94-.94-2.06-.94 2.06-2.06.94z\"/><path d=\"M17.41 7.96l-1.37-1.37c-.4-.4-.92-.59-1.43-.59-.52 0-1.04.2-1.43.59L10.3 9.45l-7.72 7.72c-.78.78-.78 2.05 0 2.83L4 21.41c.39.39.9.59 1.41.59.51 0 1.02-.2 1.41-.59l7.78-7.78 2.81-2.81c.8-.78.8-2.07 0-2.86zM5.41 20L4 18.59l7.72-7.72 1.47 1.35L5.41 20z\"/>\n",
              "  </svg>\n",
              "      </button>\n",
              "      \n",
              "  <style>\n",
              "    .colab-df-container {\n",
              "      display:flex;\n",
              "      flex-wrap:wrap;\n",
              "      gap: 12px;\n",
              "    }\n",
              "\n",
              "    .colab-df-convert {\n",
              "      background-color: #E8F0FE;\n",
              "      border: none;\n",
              "      border-radius: 50%;\n",
              "      cursor: pointer;\n",
              "      display: none;\n",
              "      fill: #1967D2;\n",
              "      height: 32px;\n",
              "      padding: 0 0 0 0;\n",
              "      width: 32px;\n",
              "    }\n",
              "\n",
              "    .colab-df-convert:hover {\n",
              "      background-color: #E2EBFA;\n",
              "      box-shadow: 0px 1px 2px rgba(60, 64, 67, 0.3), 0px 1px 3px 1px rgba(60, 64, 67, 0.15);\n",
              "      fill: #174EA6;\n",
              "    }\n",
              "\n",
              "    [theme=dark] .colab-df-convert {\n",
              "      background-color: #3B4455;\n",
              "      fill: #D2E3FC;\n",
              "    }\n",
              "\n",
              "    [theme=dark] .colab-df-convert:hover {\n",
              "      background-color: #434B5C;\n",
              "      box-shadow: 0px 1px 3px 1px rgba(0, 0, 0, 0.15);\n",
              "      filter: drop-shadow(0px 1px 2px rgba(0, 0, 0, 0.3));\n",
              "      fill: #FFFFFF;\n",
              "    }\n",
              "  </style>\n",
              "\n",
              "      <script>\n",
              "        const buttonEl =\n",
              "          document.querySelector('#df-98532b03-101c-4841-b922-ffac44cd3c6a button.colab-df-convert');\n",
              "        buttonEl.style.display =\n",
              "          google.colab.kernel.accessAllowed ? 'block' : 'none';\n",
              "\n",
              "        async function convertToInteractive(key) {\n",
              "          const element = document.querySelector('#df-98532b03-101c-4841-b922-ffac44cd3c6a');\n",
              "          const dataTable =\n",
              "            await google.colab.kernel.invokeFunction('convertToInteractive',\n",
              "                                                     [key], {});\n",
              "          if (!dataTable) return;\n",
              "\n",
              "          const docLinkHtml = 'Like what you see? Visit the ' +\n",
              "            '<a target=\"_blank\" href=https://colab.research.google.com/notebooks/data_table.ipynb>data table notebook</a>'\n",
              "            + ' to learn more about interactive tables.';\n",
              "          element.innerHTML = '';\n",
              "          dataTable['output_type'] = 'display_data';\n",
              "          await google.colab.output.renderOutput(dataTable, element);\n",
              "          const docLink = document.createElement('div');\n",
              "          docLink.innerHTML = docLinkHtml;\n",
              "          element.appendChild(docLink);\n",
              "        }\n",
              "      </script>\n",
              "    </div>\n",
              "  </div>\n",
              "  "
            ]
          },
          "metadata": {},
          "execution_count": 65
        }
      ]
    },
    {
      "cell_type": "code",
      "source": [
        "recommendation_course_name['course_name'][:2]"
      ],
      "metadata": {
        "colab": {
          "base_uri": "https://localhost:8080/",
          "height": 502
        },
        "id": "kWimn2TL36GH",
        "outputId": "68a541f2-5b67-4dbf-907c-b04870d943a7"
      },
      "execution_count": null,
      "outputs": [
        {
          "output_type": "error",
          "ename": "KeyError",
          "evalue": "ignored",
          "traceback": [
            "\u001b[0;31m---------------------------------------------------------------------------\u001b[0m",
            "\u001b[0;31mKeyError\u001b[0m                                  Traceback (most recent call last)",
            "\u001b[0;32m/usr/local/lib/python3.7/dist-packages/pandas/core/indexes/base.py\u001b[0m in \u001b[0;36mget_loc\u001b[0;34m(self, key, method, tolerance)\u001b[0m\n\u001b[1;32m   3360\u001b[0m             \u001b[0;32mtry\u001b[0m\u001b[0;34m:\u001b[0m\u001b[0;34m\u001b[0m\u001b[0;34m\u001b[0m\u001b[0m\n\u001b[0;32m-> 3361\u001b[0;31m                 \u001b[0;32mreturn\u001b[0m \u001b[0mself\u001b[0m\u001b[0;34m.\u001b[0m\u001b[0m_engine\u001b[0m\u001b[0;34m.\u001b[0m\u001b[0mget_loc\u001b[0m\u001b[0;34m(\u001b[0m\u001b[0mcasted_key\u001b[0m\u001b[0;34m)\u001b[0m\u001b[0;34m\u001b[0m\u001b[0;34m\u001b[0m\u001b[0m\n\u001b[0m\u001b[1;32m   3362\u001b[0m             \u001b[0;32mexcept\u001b[0m \u001b[0mKeyError\u001b[0m \u001b[0;32mas\u001b[0m \u001b[0merr\u001b[0m\u001b[0;34m:\u001b[0m\u001b[0;34m\u001b[0m\u001b[0;34m\u001b[0m\u001b[0m\n",
            "\u001b[0;32m/usr/local/lib/python3.7/dist-packages/pandas/_libs/index.pyx\u001b[0m in \u001b[0;36mpandas._libs.index.IndexEngine.get_loc\u001b[0;34m()\u001b[0m\n",
            "\u001b[0;32m/usr/local/lib/python3.7/dist-packages/pandas/_libs/index.pyx\u001b[0m in \u001b[0;36mpandas._libs.index.IndexEngine.get_loc\u001b[0;34m()\u001b[0m\n",
            "\u001b[0;32mpandas/_libs/hashtable_class_helper.pxi\u001b[0m in \u001b[0;36mpandas._libs.hashtable.PyObjectHashTable.get_item\u001b[0;34m()\u001b[0m\n",
            "\u001b[0;32mpandas/_libs/hashtable_class_helper.pxi\u001b[0m in \u001b[0;36mpandas._libs.hashtable.PyObjectHashTable.get_item\u001b[0;34m()\u001b[0m\n",
            "\u001b[0;31mKeyError\u001b[0m: 'course_name'",
            "\nThe above exception was the direct cause of the following exception:\n",
            "\u001b[0;31mKeyError\u001b[0m                                  Traceback (most recent call last)",
            "\u001b[0;32m<ipython-input-66-4a32b71703fc>\u001b[0m in \u001b[0;36m<module>\u001b[0;34m\u001b[0m\n\u001b[0;32m----> 1\u001b[0;31m \u001b[0mrecommendation_course_name\u001b[0m\u001b[0;34m[\u001b[0m\u001b[0;34m'course_name'\u001b[0m\u001b[0;34m]\u001b[0m\u001b[0;34m[\u001b[0m\u001b[0;34m:\u001b[0m\u001b[0;36m2\u001b[0m\u001b[0;34m]\u001b[0m\u001b[0;34m\u001b[0m\u001b[0;34m\u001b[0m\u001b[0m\n\u001b[0m",
            "\u001b[0;32m/usr/local/lib/python3.7/dist-packages/pandas/core/frame.py\u001b[0m in \u001b[0;36m__getitem__\u001b[0;34m(self, key)\u001b[0m\n\u001b[1;32m   3456\u001b[0m             \u001b[0;32mif\u001b[0m \u001b[0mself\u001b[0m\u001b[0;34m.\u001b[0m\u001b[0mcolumns\u001b[0m\u001b[0;34m.\u001b[0m\u001b[0mnlevels\u001b[0m \u001b[0;34m>\u001b[0m \u001b[0;36m1\u001b[0m\u001b[0;34m:\u001b[0m\u001b[0;34m\u001b[0m\u001b[0;34m\u001b[0m\u001b[0m\n\u001b[1;32m   3457\u001b[0m                 \u001b[0;32mreturn\u001b[0m \u001b[0mself\u001b[0m\u001b[0;34m.\u001b[0m\u001b[0m_getitem_multilevel\u001b[0m\u001b[0;34m(\u001b[0m\u001b[0mkey\u001b[0m\u001b[0;34m)\u001b[0m\u001b[0;34m\u001b[0m\u001b[0;34m\u001b[0m\u001b[0m\n\u001b[0;32m-> 3458\u001b[0;31m             \u001b[0mindexer\u001b[0m \u001b[0;34m=\u001b[0m \u001b[0mself\u001b[0m\u001b[0;34m.\u001b[0m\u001b[0mcolumns\u001b[0m\u001b[0;34m.\u001b[0m\u001b[0mget_loc\u001b[0m\u001b[0;34m(\u001b[0m\u001b[0mkey\u001b[0m\u001b[0;34m)\u001b[0m\u001b[0;34m\u001b[0m\u001b[0;34m\u001b[0m\u001b[0m\n\u001b[0m\u001b[1;32m   3459\u001b[0m             \u001b[0;32mif\u001b[0m \u001b[0mis_integer\u001b[0m\u001b[0;34m(\u001b[0m\u001b[0mindexer\u001b[0m\u001b[0;34m)\u001b[0m\u001b[0;34m:\u001b[0m\u001b[0;34m\u001b[0m\u001b[0;34m\u001b[0m\u001b[0m\n\u001b[1;32m   3460\u001b[0m                 \u001b[0mindexer\u001b[0m \u001b[0;34m=\u001b[0m \u001b[0;34m[\u001b[0m\u001b[0mindexer\u001b[0m\u001b[0;34m]\u001b[0m\u001b[0;34m\u001b[0m\u001b[0;34m\u001b[0m\u001b[0m\n",
            "\u001b[0;32m/usr/local/lib/python3.7/dist-packages/pandas/core/indexes/base.py\u001b[0m in \u001b[0;36mget_loc\u001b[0;34m(self, key, method, tolerance)\u001b[0m\n\u001b[1;32m   3361\u001b[0m                 \u001b[0;32mreturn\u001b[0m \u001b[0mself\u001b[0m\u001b[0;34m.\u001b[0m\u001b[0m_engine\u001b[0m\u001b[0;34m.\u001b[0m\u001b[0mget_loc\u001b[0m\u001b[0;34m(\u001b[0m\u001b[0mcasted_key\u001b[0m\u001b[0;34m)\u001b[0m\u001b[0;34m\u001b[0m\u001b[0;34m\u001b[0m\u001b[0m\n\u001b[1;32m   3362\u001b[0m             \u001b[0;32mexcept\u001b[0m \u001b[0mKeyError\u001b[0m \u001b[0;32mas\u001b[0m \u001b[0merr\u001b[0m\u001b[0;34m:\u001b[0m\u001b[0;34m\u001b[0m\u001b[0;34m\u001b[0m\u001b[0m\n\u001b[0;32m-> 3363\u001b[0;31m                 \u001b[0;32mraise\u001b[0m \u001b[0mKeyError\u001b[0m\u001b[0;34m(\u001b[0m\u001b[0mkey\u001b[0m\u001b[0;34m)\u001b[0m \u001b[0;32mfrom\u001b[0m \u001b[0merr\u001b[0m\u001b[0;34m\u001b[0m\u001b[0;34m\u001b[0m\u001b[0m\n\u001b[0m\u001b[1;32m   3364\u001b[0m \u001b[0;34m\u001b[0m\u001b[0m\n\u001b[1;32m   3365\u001b[0m         \u001b[0;32mif\u001b[0m \u001b[0mis_scalar\u001b[0m\u001b[0;34m(\u001b[0m\u001b[0mkey\u001b[0m\u001b[0;34m)\u001b[0m \u001b[0;32mand\u001b[0m \u001b[0misna\u001b[0m\u001b[0;34m(\u001b[0m\u001b[0mkey\u001b[0m\u001b[0;34m)\u001b[0m \u001b[0;32mand\u001b[0m \u001b[0;32mnot\u001b[0m \u001b[0mself\u001b[0m\u001b[0;34m.\u001b[0m\u001b[0mhasnans\u001b[0m\u001b[0;34m:\u001b[0m\u001b[0;34m\u001b[0m\u001b[0;34m\u001b[0m\u001b[0m\n",
            "\u001b[0;31mKeyError\u001b[0m: 'course_name'"
          ]
        }
      ]
    },
    {
      "cell_type": "code",
      "source": [
        "import re\n",
        "try :\n",
        "    # here ; and / are our two markers \n",
        "    # in which string can be found. \n",
        "    marker1 = 'CaliRollB'\n",
        "    marker2 = 'CaliRollA'\n",
        "    regexPattern = marker1 + '(.+?)' + marker2\n",
        "    str_found = re.search(regexPattern, str(recommendation_course_name['course_name'][0])).group(1)\n",
        "except AttributeError:\n",
        "    # Attribute error is expected if string \n",
        "    # is not found between given markers\n",
        "    str_found = ' '\n",
        "print(str_found)"
      ],
      "metadata": {
        "colab": {
          "base_uri": "https://localhost:8080/"
        },
        "id": "_lABl8vP30ww",
        "outputId": "c2700318-83f1-414b-c447-96229f81acd2"
      },
      "execution_count": null,
      "outputs": [
        {
          "output_type": "stream",
          "name": "stdout",
          "text": [
            " Corporate Finance II Financing Investments Managing Risk \n"
          ]
        }
      ]
    },
    {
      "cell_type": "code",
      "source": [
        "str_found_list = []\n",
        "for i in range(len(recommendation_course_name)):\n",
        "  try :\n",
        "    # here ; and / are our two markers \n",
        "    # in which string can be found. \n",
        "    marker1 = 'CaliRollB'\n",
        "    marker2 = 'CaliRollA'\n",
        "    regexPattern = marker1 + '(.+?)' + marker2\n",
        "    str_found = re.search(regexPattern, str(recommendation_course_name['course_name'][i])).group(1)\n",
        "  except AttributeError:\n",
        "    # Attribute error is expected if string \n",
        "    # is not found between given markers\n",
        "    str_found = ' '\n",
        "  str_found_list.append(str_found)\n"
      ],
      "metadata": {
        "id": "xvU9Afag06re"
      },
      "execution_count": null,
      "outputs": []
    },
    {
      "cell_type": "code",
      "source": [
        "str_found_list[:5]"
      ],
      "metadata": {
        "colab": {
          "base_uri": "https://localhost:8080/"
        },
        "id": "P7VmrOZJ48_f",
        "outputId": "6ace5f72-f22b-4278-c792-3df3150b5786"
      },
      "execution_count": null,
      "outputs": [
        {
          "output_type": "execute_result",
          "data": {
            "text/plain": [
              "[' Corporate Finance II Financing Investments Managing Risk ',\n",
              " ' Trading Algorithms ',\n",
              " ' Financial Accounting Advanced Topics ',\n",
              " ' Financial Analysis Startups ',\n",
              " ' Valuation Startups Using Multiple Approach ']"
            ]
          },
          "metadata": {},
          "execution_count": 82
        }
      ]
    },
    {
      "cell_type": "code",
      "source": [
        "reco_course_list = pd.DataFrame()\n",
        "reco_course_list['course_name'] = str_found_list"
      ],
      "metadata": {
        "id": "7tNBaBjD4-im"
      },
      "execution_count": null,
      "outputs": []
    },
    {
      "cell_type": "code",
      "source": [
        "reco_course_list"
      ],
      "metadata": {
        "colab": {
          "base_uri": "https://localhost:8080/",
          "height": 424
        },
        "id": "cFuD9JTh5T4s",
        "outputId": "203936d1-6e8d-4549-9fba-92777d0e2ef1"
      },
      "execution_count": null,
      "outputs": [
        {
          "output_type": "execute_result",
          "data": {
            "text/plain": [
              "                                            course_name\n",
              "0      Corporate Finance II Financing Investments Ma...\n",
              "1                                   Trading Algorithms \n",
              "2                 Financial Accounting Advanced Topics \n",
              "3                          Financial Analysis Startups \n",
              "4           Valuation Startups Using Multiple Approach \n",
              "...                                                 ...\n",
              "4364                             Getting Started Azure \n",
              "4365                                   Cryptography II \n",
              "4366                        The Data Scientist Toolbox \n",
              "4367                     Fundamental Privacy Acts Laws \n",
              "4368                                    Introduction C \n",
              "\n",
              "[4369 rows x 1 columns]"
            ],
            "text/html": [
              "\n",
              "  <div id=\"df-67f7f74c-6925-4d2b-87c4-7ca4f8883db4\">\n",
              "    <div class=\"colab-df-container\">\n",
              "      <div>\n",
              "<style scoped>\n",
              "    .dataframe tbody tr th:only-of-type {\n",
              "        vertical-align: middle;\n",
              "    }\n",
              "\n",
              "    .dataframe tbody tr th {\n",
              "        vertical-align: top;\n",
              "    }\n",
              "\n",
              "    .dataframe thead th {\n",
              "        text-align: right;\n",
              "    }\n",
              "</style>\n",
              "<table border=\"1\" class=\"dataframe\">\n",
              "  <thead>\n",
              "    <tr style=\"text-align: right;\">\n",
              "      <th></th>\n",
              "      <th>course_name</th>\n",
              "    </tr>\n",
              "  </thead>\n",
              "  <tbody>\n",
              "    <tr>\n",
              "      <th>0</th>\n",
              "      <td>Corporate Finance II Financing Investments Ma...</td>\n",
              "    </tr>\n",
              "    <tr>\n",
              "      <th>1</th>\n",
              "      <td>Trading Algorithms</td>\n",
              "    </tr>\n",
              "    <tr>\n",
              "      <th>2</th>\n",
              "      <td>Financial Accounting Advanced Topics</td>\n",
              "    </tr>\n",
              "    <tr>\n",
              "      <th>3</th>\n",
              "      <td>Financial Analysis Startups</td>\n",
              "    </tr>\n",
              "    <tr>\n",
              "      <th>4</th>\n",
              "      <td>Valuation Startups Using Multiple Approach</td>\n",
              "    </tr>\n",
              "    <tr>\n",
              "      <th>...</th>\n",
              "      <td>...</td>\n",
              "    </tr>\n",
              "    <tr>\n",
              "      <th>4364</th>\n",
              "      <td>Getting Started Azure</td>\n",
              "    </tr>\n",
              "    <tr>\n",
              "      <th>4365</th>\n",
              "      <td>Cryptography II</td>\n",
              "    </tr>\n",
              "    <tr>\n",
              "      <th>4366</th>\n",
              "      <td>The Data Scientist Toolbox</td>\n",
              "    </tr>\n",
              "    <tr>\n",
              "      <th>4367</th>\n",
              "      <td>Fundamental Privacy Acts Laws</td>\n",
              "    </tr>\n",
              "    <tr>\n",
              "      <th>4368</th>\n",
              "      <td>Introduction C</td>\n",
              "    </tr>\n",
              "  </tbody>\n",
              "</table>\n",
              "<p>4369 rows × 1 columns</p>\n",
              "</div>\n",
              "      <button class=\"colab-df-convert\" onclick=\"convertToInteractive('df-67f7f74c-6925-4d2b-87c4-7ca4f8883db4')\"\n",
              "              title=\"Convert this dataframe to an interactive table.\"\n",
              "              style=\"display:none;\">\n",
              "        \n",
              "  <svg xmlns=\"http://www.w3.org/2000/svg\" height=\"24px\"viewBox=\"0 0 24 24\"\n",
              "       width=\"24px\">\n",
              "    <path d=\"M0 0h24v24H0V0z\" fill=\"none\"/>\n",
              "    <path d=\"M18.56 5.44l.94 2.06.94-2.06 2.06-.94-2.06-.94-.94-2.06-.94 2.06-2.06.94zm-11 1L8.5 8.5l.94-2.06 2.06-.94-2.06-.94L8.5 2.5l-.94 2.06-2.06.94zm10 10l.94 2.06.94-2.06 2.06-.94-2.06-.94-.94-2.06-.94 2.06-2.06.94z\"/><path d=\"M17.41 7.96l-1.37-1.37c-.4-.4-.92-.59-1.43-.59-.52 0-1.04.2-1.43.59L10.3 9.45l-7.72 7.72c-.78.78-.78 2.05 0 2.83L4 21.41c.39.39.9.59 1.41.59.51 0 1.02-.2 1.41-.59l7.78-7.78 2.81-2.81c.8-.78.8-2.07 0-2.86zM5.41 20L4 18.59l7.72-7.72 1.47 1.35L5.41 20z\"/>\n",
              "  </svg>\n",
              "      </button>\n",
              "      \n",
              "  <style>\n",
              "    .colab-df-container {\n",
              "      display:flex;\n",
              "      flex-wrap:wrap;\n",
              "      gap: 12px;\n",
              "    }\n",
              "\n",
              "    .colab-df-convert {\n",
              "      background-color: #E8F0FE;\n",
              "      border: none;\n",
              "      border-radius: 50%;\n",
              "      cursor: pointer;\n",
              "      display: none;\n",
              "      fill: #1967D2;\n",
              "      height: 32px;\n",
              "      padding: 0 0 0 0;\n",
              "      width: 32px;\n",
              "    }\n",
              "\n",
              "    .colab-df-convert:hover {\n",
              "      background-color: #E2EBFA;\n",
              "      box-shadow: 0px 1px 2px rgba(60, 64, 67, 0.3), 0px 1px 3px 1px rgba(60, 64, 67, 0.15);\n",
              "      fill: #174EA6;\n",
              "    }\n",
              "\n",
              "    [theme=dark] .colab-df-convert {\n",
              "      background-color: #3B4455;\n",
              "      fill: #D2E3FC;\n",
              "    }\n",
              "\n",
              "    [theme=dark] .colab-df-convert:hover {\n",
              "      background-color: #434B5C;\n",
              "      box-shadow: 0px 1px 3px 1px rgba(0, 0, 0, 0.15);\n",
              "      filter: drop-shadow(0px 1px 2px rgba(0, 0, 0, 0.3));\n",
              "      fill: #FFFFFF;\n",
              "    }\n",
              "  </style>\n",
              "\n",
              "      <script>\n",
              "        const buttonEl =\n",
              "          document.querySelector('#df-67f7f74c-6925-4d2b-87c4-7ca4f8883db4 button.colab-df-convert');\n",
              "        buttonEl.style.display =\n",
              "          google.colab.kernel.accessAllowed ? 'block' : 'none';\n",
              "\n",
              "        async function convertToInteractive(key) {\n",
              "          const element = document.querySelector('#df-67f7f74c-6925-4d2b-87c4-7ca4f8883db4');\n",
              "          const dataTable =\n",
              "            await google.colab.kernel.invokeFunction('convertToInteractive',\n",
              "                                                     [key], {});\n",
              "          if (!dataTable) return;\n",
              "\n",
              "          const docLinkHtml = 'Like what you see? Visit the ' +\n",
              "            '<a target=\"_blank\" href=https://colab.research.google.com/notebooks/data_table.ipynb>data table notebook</a>'\n",
              "            + ' to learn more about interactive tables.';\n",
              "          element.innerHTML = '';\n",
              "          dataTable['output_type'] = 'display_data';\n",
              "          await google.colab.output.renderOutput(dataTable, element);\n",
              "          const docLink = document.createElement('div');\n",
              "          docLink.innerHTML = docLinkHtml;\n",
              "          element.appendChild(docLink);\n",
              "        }\n",
              "      </script>\n",
              "    </div>\n",
              "  </div>\n",
              "  "
            ]
          },
          "metadata": {},
          "execution_count": 84
        }
      ]
    },
    {
      "cell_type": "markdown",
      "source": [
        "#Visualizations"
      ],
      "metadata": {
        "id": "Zk8U3f_xw7b2"
      }
    },
    {
      "cell_type": "code",
      "source": [
        " coherance_val_bow = [0.3069817642835328,\n",
        " 0.36823672763176807,\n",
        " 0.3931414279996549,\n",
        " 0.39555227663237585,\n",
        " 0.4133220830135465,\n",
        " 0.41530180006726847,\n",
        " 0.4102576213548872,\n",
        " 0.4233442691709459,\n",
        " 0.4291080019515549,\n",
        " 0.42748864610890625,\n",
        " 0.4193253226616686,\n",
        " 0.42534246816403687,\n",
        " 0.43516388608666756,\n",
        " 0.4254852177387112,\n",
        " 0.4254852177387112]"
      ],
      "metadata": {
        "id": "k9H4Y_8S5WEM"
      },
      "execution_count": null,
      "outputs": []
    },
    {
      "cell_type": "code",
      "source": [
        "coherence_val_tfidf = coherence_val"
      ],
      "metadata": {
        "id": "B-WBl3X7qpWt"
      },
      "execution_count": null,
      "outputs": []
    },
    {
      "cell_type": "code",
      "source": [
        "import matplotlib.pyplot as plt\n",
        "import numpy as np\n",
        "#coherance_val_bow, coherence_val_tfidf,topicnums\n",
        "plt.plot(topicnums,coherance_val_bow, label = 'LDA + BOW' )\n",
        "plt.plot(topicnums,coherence_val_tfidf, label = 'LDA + TF-IDF' )\n",
        "plt.legend()\n",
        "plt.show()"
      ],
      "metadata": {
        "colab": {
          "base_uri": "https://localhost:8080/",
          "height": 265
        },
        "id": "tsTovgJjoMdb",
        "outputId": "d5b01106-1ddf-4099-fda7-2ff4354ee842"
      },
      "execution_count": null,
      "outputs": [
        {
          "output_type": "display_data",
          "data": {
            "text/plain": [
              "<Figure size 432x288 with 1 Axes>"
            ],
            "image/png": "[encoded data removed]"
          },
          "metadata": {
            "needs_background": "light"
          }
        }
      ]
    },
    {
      "cell_type": "code",
      "source": [
        "svd_coherence_bow = [0.29506118094227707,\n",
        " 0.32741604257305734,\n",
        " 0.3656936299167354,\n",
        " 0.34821401017361503,\n",
        " 0.31137669858440964,\n",
        " 0.3188558997572673,\n",
        " 0.29178490866273704,\n",
        " 0.28525123340408204,\n",
        " 0.286905309967944,\n",
        " 0.2773425075253943,\n",
        " 0.283770220388404,\n",
        " 0.26903864235318126,\n",
        " 0.27008488163150235,\n",
        " 0.2629146136082968,\n",
        " 0.26170011656740244]"
      ],
      "metadata": {
        "id": "x5xONfQpsOiF"
      },
      "execution_count": null,
      "outputs": []
    },
    {
      "cell_type": "code",
      "source": [
        "svd_coherence_tfidf = [0.3383365364146953,\n",
        " 0.4296995053051453,\n",
        " 0.4513375549894586,\n",
        " 0.3974088635051966,\n",
        " 0.3685745210805211,\n",
        " 0.3469473912663723,\n",
        " 0.346822855482052,\n",
        " 0.346794575584143,\n",
        " 0.36798150325631757,\n",
        " 0.35159586913083174,\n",
        " 0.3435026649681819,\n",
        " 0.34848559224734005,\n",
        " 0.3687433669948111,\n",
        " 0.3741140625039322,\n",
        " 0.37117680408748344]"
      ],
      "metadata": {
        "id": "FkzO_6c8woOc"
      },
      "execution_count": null,
      "outputs": []
    },
    {
      "cell_type": "code",
      "source": [
        "import matplotlib.pyplot as plt\n",
        "import numpy as np\n",
        "#coherance_val_bow, coherence_val_tfidf,topicnums\n",
        "plt.plot(topicnums,svd_coherence_bow, label = 'SVD + BOW' )\n",
        "plt.plot(topicnums,svd_coherence_tfidf, label = 'SVD + TF-IDF' )\n",
        "plt.legend()\n",
        "plt.show()"
      ],
      "metadata": {
        "colab": {
          "base_uri": "https://localhost:8080/",
          "height": 265
        },
        "id": "P2KnNEg9wf2J",
        "outputId": "dde59ede-dd42-4c4c-d382-1cda5f8b9a80"
      },
      "execution_count": null,
      "outputs": [
        {
          "output_type": "display_data",
          "data": {
            "text/plain": [
              "<Figure size 432x288 with 1 Axes>"
            ],
            "image/png": "[encoded data removed]"
          },
          "metadata": {
            "needs_background": "light"
          }
        }
      ]
    },
    {
      "cell_type": "code",
      "source": [
        "import matplotlib.pyplot as plt\n",
        "import numpy as np\n",
        "#coherance_val_bow, coherence_val_tfidf,topicnums\n",
        "plt.plot(topicnums,coherance_val_bow, label = 'LDA + BOW' )\n",
        "plt.plot(topicnums,coherence_val_tfidf, label = 'LDA + TF-IDF' )\n",
        "plt.plot(topicnums,svd_coherence_bow, label = 'SVD + BOW' )\n",
        "plt.plot(topicnums,svd_coherence_tfidf, label = 'SVD + TF-IDF' )\n",
        "plt.legend()\n",
        "plt.show()"
      ],
      "metadata": {
        "colab": {
          "base_uri": "https://localhost:8080/",
          "height": 265
        },
        "id": "doAMTg-_wzxM",
        "outputId": "db87f649-72dd-4c9a-c08d-4004856aef25"
      },
      "execution_count": null,
      "outputs": [
        {
          "output_type": "display_data",
          "data": {
            "text/plain": [
              "<Figure size 432x288 with 1 Axes>"
            ],
            "image/png": "[encoded data removed]"
          },
          "metadata": {
            "needs_background": "light"
          }
        }
      ]
    },
    {
      "cell_type": "code",
      "source": [],
      "metadata": {
        "id": "85DMc3sy0E5U"
      },
      "execution_count": null,
      "outputs": []
    }
  ]
}