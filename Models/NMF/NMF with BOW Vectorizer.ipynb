{
  "nbformat": 4,
  "nbformat_minor": 0,
  "metadata": {
    "colab": {
      "provenance": []
    },
    "kernelspec": {
      "name": "python3",
      "display_name": "Python 3"
    },
    "language_info": {
      "name": "python"
    }
  },
  "cells": [
    {
      "cell_type": "markdown",
      "source": [
        "### Import Modules"
      ],
      "metadata": {
        "id": "xZ4pH6EB-xzn"
      }
    },
    {
      "cell_type": "code",
      "source": [
        "from google.colab import drive\n",
        "drive.mount('/content/drive')"
      ],
      "metadata": {
        "colab": {
          "base_uri": "https://localhost:8080/"
        },
        "id": "LJBmXrt8-y2J",
        "outputId": "5f004f9c-3b22-4769-8ad1-5d0cae4964fc"
      },
      "execution_count": null,
      "outputs": [
        {
          "output_type": "stream",
          "name": "stdout",
          "text": [
            "Drive already mounted at /content/drive; to attempt to forcibly remount, call drive.mount(\"/content/drive\", force_remount=True).\n"
          ]
        }
      ]
    },
    {
      "cell_type": "code",
      "execution_count": null,
      "metadata": {
        "id": "2QpdYRku8OXI"
      },
      "outputs": [],
      "source": [
        "import pandas as pd\n",
        "import numpy as np\n",
        "import seaborn as sns\n",
        "import matplotlib.pyplot as plt"
      ]
    },
    {
      "cell_type": "code",
      "source": [
        "pd.set_option('display.max_rows', 500)\n",
        "pd.set_option('display.max_columns', 500)\n",
        "pd.set_option('display.width', 1000)"
      ],
      "metadata": {
        "id": "PkDHMEFe9HTV"
      },
      "execution_count": null,
      "outputs": []
    },
    {
      "cell_type": "code",
      "source": [
        "coursedata = pd.read_csv(\"/content/drive/MyDrive/coursera_data_course_level.csv\") \n",
        "coursedata.head()"
      ],
      "metadata": {
        "colab": {
          "base_uri": "https://localhost:8080/",
          "height": 493
        },
        "id": "aog0h36L8Z-O",
        "outputId": "e2b90d1e-9031-4ae8-bb72-870ba843469d"
      },
      "execution_count": null,
      "outputs": [
        {
          "output_type": "execute_result",
          "data": {
            "text/plain": [
              "                                      course_title difficulty_level                      duration                                             skills                       instructors                                        description      rating                                  offered_by language                                   syllabus_heading                                   syllabus_details\n",
              "0                 Cloud Computing Concepts, Part 1   Beginner Level  Approx. 23 hours to complete  ['Distributed Algorithm', 'Distributed Computi...                ['Indranil Gupta']  Cloud computing systems today, whether open-so...  4.4\\nstars  University of Illinois at Urbana-Champaign  English  ['Week 1: Orientation, Introduction to Clouds,...  ['This course is oriented towards learners wit...\n",
              "1                  The Challenges of Global Health   Beginner Level  Approx. 20 hours to complete                                                 []                ['Dr. David Boyd']  What are the world’s major health challenges? ...  4.8\\nstars                             Duke University  English  ['Getting Started', 'Basic Concepts in Global ...  ['Start here! ', 'This module covers some of t...\n",
              "2            Digital Marketing Analytics in Theory   Beginner Level  Approx. 20 hours to complete  ['Digital Marketing', 'Data Collection', 'Anal...                 ['Kevin Hartman']  Successfully marketing brands today requires a...  4.5\\nstars  University of Illinois at Urbana-Champaign  English  ['Course Overview and The Day The Geeks Took O...  ['In the orientation, you will become familiar...\n",
              "3  Digital Product Management: Modern Fundamentals   Beginner Level  Approx. 11 hours to complete  ['Product/Market Fit', 'Product Management', '...                    ['Alex Cowan']  Not so long ago, the job of product manager wa...  4.7\\nstars                      University of Virginia  English  ['Achieving Focus and #Winning', \"Using Today'...  ['As a product manager, you and your team will...\n",
              "4                             The Nature of Genius   Beginner Level  Approx. 28 hours to complete  ['Creativity', 'Art', 'History', 'Psychology',...  ['Craig Wright\\nTOP INSTRUCTOR']  Today \"genius\" is all around us. Celebrities, ...         NaN                             Yale University  English  ['Genius Defined,   Genius Denied ,  Genius an...  ['In Section 1 of Module 1 we determine, jokin..."
            ],
            "text/html": [
              "\n",
              "  <div id=\"df-7ffd8a68-6d6c-425d-8746-a6a748ed5007\">\n",
              "    <div class=\"colab-df-container\">\n",
              "      <div>\n",
              "<style scoped>\n",
              "    .dataframe tbody tr th:only-of-type {\n",
              "        vertical-align: middle;\n",
              "    }\n",
              "\n",
              "    .dataframe tbody tr th {\n",
              "        vertical-align: top;\n",
              "    }\n",
              "\n",
              "    .dataframe thead th {\n",
              "        text-align: right;\n",
              "    }\n",
              "</style>\n",
              "<table border=\"1\" class=\"dataframe\">\n",
              "  <thead>\n",
              "    <tr style=\"text-align: right;\">\n",
              "      <th></th>\n",
              "      <th>course_title</th>\n",
              "      <th>difficulty_level</th>\n",
              "      <th>duration</th>\n",
              "      <th>skills</th>\n",
              "      <th>instructors</th>\n",
              "      <th>description</th>\n",
              "      <th>rating</th>\n",
              "      <th>offered_by</th>\n",
              "      <th>language</th>\n",
              "      <th>syllabus_heading</th>\n",
              "      <th>syllabus_details</th>\n",
              "    </tr>\n",
              "  </thead>\n",
              "  <tbody>\n",
              "    <tr>\n",
              "      <th>0</th>\n",
              "      <td>Cloud Computing Concepts, Part 1</td>\n",
              "      <td>Beginner Level</td>\n",
              "      <td>Approx. 23 hours to complete</td>\n",
              "      <td>['Distributed Algorithm', 'Distributed Computi...</td>\n",
              "      <td>['Indranil Gupta']</td>\n",
              "      <td>Cloud computing systems today, whether open-so...</td>\n",
              "      <td>4.4\\nstars</td>\n",
              "      <td>University of Illinois at Urbana-Champaign</td>\n",
              "      <td>English</td>\n",
              "      <td>['Week 1: Orientation, Introduction to Clouds,...</td>\n",
              "      <td>['This course is oriented towards learners wit...</td>\n",
              "    </tr>\n",
              "    <tr>\n",
              "      <th>1</th>\n",
              "      <td>The Challenges of Global Health</td>\n",
              "      <td>Beginner Level</td>\n",
              "      <td>Approx. 20 hours to complete</td>\n",
              "      <td>[]</td>\n",
              "      <td>['Dr. David Boyd']</td>\n",
              "      <td>What are the world’s major health challenges? ...</td>\n",
              "      <td>4.8\\nstars</td>\n",
              "      <td>Duke University</td>\n",
              "      <td>English</td>\n",
              "      <td>['Getting Started', 'Basic Concepts in Global ...</td>\n",
              "      <td>['Start here! ', 'This module covers some of t...</td>\n",
              "    </tr>\n",
              "    <tr>\n",
              "      <th>2</th>\n",
              "      <td>Digital Marketing Analytics in Theory</td>\n",
              "      <td>Beginner Level</td>\n",
              "      <td>Approx. 20 hours to complete</td>\n",
              "      <td>['Digital Marketing', 'Data Collection', 'Anal...</td>\n",
              "      <td>['Kevin Hartman']</td>\n",
              "      <td>Successfully marketing brands today requires a...</td>\n",
              "      <td>4.5\\nstars</td>\n",
              "      <td>University of Illinois at Urbana-Champaign</td>\n",
              "      <td>English</td>\n",
              "      <td>['Course Overview and The Day The Geeks Took O...</td>\n",
              "      <td>['In the orientation, you will become familiar...</td>\n",
              "    </tr>\n",
              "    <tr>\n",
              "      <th>3</th>\n",
              "      <td>Digital Product Management: Modern Fundamentals</td>\n",
              "      <td>Beginner Level</td>\n",
              "      <td>Approx. 11 hours to complete</td>\n",
              "      <td>['Product/Market Fit', 'Product Management', '...</td>\n",
              "      <td>['Alex Cowan']</td>\n",
              "      <td>Not so long ago, the job of product manager wa...</td>\n",
              "      <td>4.7\\nstars</td>\n",
              "      <td>University of Virginia</td>\n",
              "      <td>English</td>\n",
              "      <td>['Achieving Focus and #Winning', \"Using Today'...</td>\n",
              "      <td>['As a product manager, you and your team will...</td>\n",
              "    </tr>\n",
              "    <tr>\n",
              "      <th>4</th>\n",
              "      <td>The Nature of Genius</td>\n",
              "      <td>Beginner Level</td>\n",
              "      <td>Approx. 28 hours to complete</td>\n",
              "      <td>['Creativity', 'Art', 'History', 'Psychology',...</td>\n",
              "      <td>['Craig Wright\\nTOP INSTRUCTOR']</td>\n",
              "      <td>Today \"genius\" is all around us. Celebrities, ...</td>\n",
              "      <td>NaN</td>\n",
              "      <td>Yale University</td>\n",
              "      <td>English</td>\n",
              "      <td>['Genius Defined,   Genius Denied ,  Genius an...</td>\n",
              "      <td>['In Section 1 of Module 1 we determine, jokin...</td>\n",
              "    </tr>\n",
              "  </tbody>\n",
              "</table>\n",
              "</div>\n",
              "      <button class=\"colab-df-convert\" onclick=\"convertToInteractive('df-7ffd8a68-6d6c-425d-8746-a6a748ed5007')\"\n",
              "              title=\"Convert this dataframe to an interactive table.\"\n",
              "              style=\"display:none;\">\n",
              "        \n",
              "  <svg xmlns=\"http://www.w3.org/2000/svg\" height=\"24px\"viewBox=\"0 0 24 24\"\n",
              "       width=\"24px\">\n",
              "    <path d=\"M0 0h24v24H0V0z\" fill=\"none\"/>\n",
              "    <path d=\"M18.56 5.44l.94 2.06.94-2.06 2.06-.94-2.06-.94-.94-2.06-.94 2.06-2.06.94zm-11 1L8.5 8.5l.94-2.06 2.06-.94-2.06-.94L8.5 2.5l-.94 2.06-2.06.94zm10 10l.94 2.06.94-2.06 2.06-.94-2.06-.94-.94-2.06-.94 2.06-2.06.94z\"/><path d=\"M17.41 7.96l-1.37-1.37c-.4-.4-.92-.59-1.43-.59-.52 0-1.04.2-1.43.59L10.3 9.45l-7.72 7.72c-.78.78-.78 2.05 0 2.83L4 21.41c.39.39.9.59 1.41.59.51 0 1.02-.2 1.41-.59l7.78-7.78 2.81-2.81c.8-.78.8-2.07 0-2.86zM5.41 20L4 18.59l7.72-7.72 1.47 1.35L5.41 20z\"/>\n",
              "  </svg>\n",
              "      </button>\n",
              "      \n",
              "  <style>\n",
              "    .colab-df-container {\n",
              "      display:flex;\n",
              "      flex-wrap:wrap;\n",
              "      gap: 12px;\n",
              "    }\n",
              "\n",
              "    .colab-df-convert {\n",
              "      background-color: #E8F0FE;\n",
              "      border: none;\n",
              "      border-radius: 50%;\n",
              "      cursor: pointer;\n",
              "      display: none;\n",
              "      fill: #1967D2;\n",
              "      height: 32px;\n",
              "      padding: 0 0 0 0;\n",
              "      width: 32px;\n",
              "    }\n",
              "\n",
              "    .colab-df-convert:hover {\n",
              "      background-color: #E2EBFA;\n",
              "      box-shadow: 0px 1px 2px rgba(60, 64, 67, 0.3), 0px 1px 3px 1px rgba(60, 64, 67, 0.15);\n",
              "      fill: #174EA6;\n",
              "    }\n",
              "\n",
              "    [theme=dark] .colab-df-convert {\n",
              "      background-color: #3B4455;\n",
              "      fill: #D2E3FC;\n",
              "    }\n",
              "\n",
              "    [theme=dark] .colab-df-convert:hover {\n",
              "      background-color: #434B5C;\n",
              "      box-shadow: 0px 1px 3px 1px rgba(0, 0, 0, 0.15);\n",
              "      filter: drop-shadow(0px 1px 2px rgba(0, 0, 0, 0.3));\n",
              "      fill: #FFFFFF;\n",
              "    }\n",
              "  </style>\n",
              "\n",
              "      <script>\n",
              "        const buttonEl =\n",
              "          document.querySelector('#df-7ffd8a68-6d6c-425d-8746-a6a748ed5007 button.colab-df-convert');\n",
              "        buttonEl.style.display =\n",
              "          google.colab.kernel.accessAllowed ? 'block' : 'none';\n",
              "\n",
              "        async function convertToInteractive(key) {\n",
              "          const element = document.querySelector('#df-7ffd8a68-6d6c-425d-8746-a6a748ed5007');\n",
              "          const dataTable =\n",
              "            await google.colab.kernel.invokeFunction('convertToInteractive',\n",
              "                                                     [key], {});\n",
              "          if (!dataTable) return;\n",
              "\n",
              "          const docLinkHtml = 'Like what you see? Visit the ' +\n",
              "            '<a target=\"_blank\" href=https://colab.research.google.com/notebooks/data_table.ipynb>data table notebook</a>'\n",
              "            + ' to learn more about interactive tables.';\n",
              "          element.innerHTML = '';\n",
              "          dataTable['output_type'] = 'display_data';\n",
              "          await google.colab.output.renderOutput(dataTable, element);\n",
              "          const docLink = document.createElement('div');\n",
              "          docLink.innerHTML = docLinkHtml;\n",
              "          element.appendChild(docLink);\n",
              "        }\n",
              "      </script>\n",
              "    </div>\n",
              "  </div>\n",
              "  "
            ]
          },
          "metadata": {},
          "execution_count": 8
        }
      ]
    },
    {
      "cell_type": "markdown",
      "source": [
        "### Data Summary\n"
      ],
      "metadata": {
        "id": "RouBIQcA_JpD"
      }
    },
    {
      "cell_type": "code",
      "source": [
        "coursedata.info()"
      ],
      "metadata": {
        "colab": {
          "base_uri": "https://localhost:8080/"
        },
        "id": "o5RnFfw19VG4",
        "outputId": "de7c423f-d131-4590-f9d0-c510731623e0"
      },
      "execution_count": null,
      "outputs": [
        {
          "output_type": "stream",
          "name": "stdout",
          "text": [
            "<class 'pandas.core.frame.DataFrame'>\n",
            "RangeIndex: 6636 entries, 0 to 6635\n",
            "Data columns (total 11 columns):\n",
            " #   Column            Non-Null Count  Dtype \n",
            "---  ------            --------------  ----- \n",
            " 0   course_title      6134 non-null   object\n",
            " 1   difficulty_level  4736 non-null   object\n",
            " 2   duration          6096 non-null   object\n",
            " 3   skills            6636 non-null   object\n",
            " 4   instructors       6636 non-null   object\n",
            " 5   description       6635 non-null   object\n",
            " 6   rating            4651 non-null   object\n",
            " 7   offered_by        6636 non-null   object\n",
            " 8   language          6636 non-null   object\n",
            " 9   syllabus_heading  6636 non-null   object\n",
            " 10  syllabus_details  6636 non-null   object\n",
            "dtypes: object(11)\n",
            "memory usage: 570.4+ KB\n"
          ]
        }
      ]
    },
    {
      "cell_type": "code",
      "source": [
        "coursedata.describe()"
      ],
      "metadata": {
        "colab": {
          "base_uri": "https://localhost:8080/",
          "height": 236
        },
        "id": "TmFfnQY681dq",
        "outputId": "de21c95c-96d3-4cba-c72f-49c580a7cd2c"
      },
      "execution_count": null,
      "outputs": [
        {
          "output_type": "execute_result",
          "data": {
            "text/plain": [
              "       course_title difficulty_level                      duration skills instructors                                        description      rating    offered_by language syllabus_heading syllabus_details\n",
              "count          6134             4736                          6096   6636        6636                                               6635        4651          6636     6636             6636             6636\n",
              "unique         6117                3                            85   2990        3159                                               6126          21           261       21             5943             5440\n",
              "top      Leadership   Beginner Level  Approx. 12 hours to complete     []          []  We help millions of organizations empower thei...  4.8\\nstars  Google Cloud  English               []               []\n",
              "freq              3             3057                           330   3437         504                                                502        1186           739     4824              540              539"
            ],
            "text/html": [
              "\n",
              "  <div id=\"df-ef798721-7573-4c50-8e10-048b78debfd6\">\n",
              "    <div class=\"colab-df-container\">\n",
              "      <div>\n",
              "<style scoped>\n",
              "    .dataframe tbody tr th:only-of-type {\n",
              "        vertical-align: middle;\n",
              "    }\n",
              "\n",
              "    .dataframe tbody tr th {\n",
              "        vertical-align: top;\n",
              "    }\n",
              "\n",
              "    .dataframe thead th {\n",
              "        text-align: right;\n",
              "    }\n",
              "</style>\n",
              "<table border=\"1\" class=\"dataframe\">\n",
              "  <thead>\n",
              "    <tr style=\"text-align: right;\">\n",
              "      <th></th>\n",
              "      <th>course_title</th>\n",
              "      <th>difficulty_level</th>\n",
              "      <th>duration</th>\n",
              "      <th>skills</th>\n",
              "      <th>instructors</th>\n",
              "      <th>description</th>\n",
              "      <th>rating</th>\n",
              "      <th>offered_by</th>\n",
              "      <th>language</th>\n",
              "      <th>syllabus_heading</th>\n",
              "      <th>syllabus_details</th>\n",
              "    </tr>\n",
              "  </thead>\n",
              "  <tbody>\n",
              "    <tr>\n",
              "      <th>count</th>\n",
              "      <td>6134</td>\n",
              "      <td>4736</td>\n",
              "      <td>6096</td>\n",
              "      <td>6636</td>\n",
              "      <td>6636</td>\n",
              "      <td>6635</td>\n",
              "      <td>4651</td>\n",
              "      <td>6636</td>\n",
              "      <td>6636</td>\n",
              "      <td>6636</td>\n",
              "      <td>6636</td>\n",
              "    </tr>\n",
              "    <tr>\n",
              "      <th>unique</th>\n",
              "      <td>6117</td>\n",
              "      <td>3</td>\n",
              "      <td>85</td>\n",
              "      <td>2990</td>\n",
              "      <td>3159</td>\n",
              "      <td>6126</td>\n",
              "      <td>21</td>\n",
              "      <td>261</td>\n",
              "      <td>21</td>\n",
              "      <td>5943</td>\n",
              "      <td>5440</td>\n",
              "    </tr>\n",
              "    <tr>\n",
              "      <th>top</th>\n",
              "      <td>Leadership</td>\n",
              "      <td>Beginner Level</td>\n",
              "      <td>Approx. 12 hours to complete</td>\n",
              "      <td>[]</td>\n",
              "      <td>[]</td>\n",
              "      <td>We help millions of organizations empower thei...</td>\n",
              "      <td>4.8\\nstars</td>\n",
              "      <td>Google Cloud</td>\n",
              "      <td>English</td>\n",
              "      <td>[]</td>\n",
              "      <td>[]</td>\n",
              "    </tr>\n",
              "    <tr>\n",
              "      <th>freq</th>\n",
              "      <td>3</td>\n",
              "      <td>3057</td>\n",
              "      <td>330</td>\n",
              "      <td>3437</td>\n",
              "      <td>504</td>\n",
              "      <td>502</td>\n",
              "      <td>1186</td>\n",
              "      <td>739</td>\n",
              "      <td>4824</td>\n",
              "      <td>540</td>\n",
              "      <td>539</td>\n",
              "    </tr>\n",
              "  </tbody>\n",
              "</table>\n",
              "</div>\n",
              "      <button class=\"colab-df-convert\" onclick=\"convertToInteractive('df-ef798721-7573-4c50-8e10-048b78debfd6')\"\n",
              "              title=\"Convert this dataframe to an interactive table.\"\n",
              "              style=\"display:none;\">\n",
              "        \n",
              "  <svg xmlns=\"http://www.w3.org/2000/svg\" height=\"24px\"viewBox=\"0 0 24 24\"\n",
              "       width=\"24px\">\n",
              "    <path d=\"M0 0h24v24H0V0z\" fill=\"none\"/>\n",
              "    <path d=\"M18.56 5.44l.94 2.06.94-2.06 2.06-.94-2.06-.94-.94-2.06-.94 2.06-2.06.94zm-11 1L8.5 8.5l.94-2.06 2.06-.94-2.06-.94L8.5 2.5l-.94 2.06-2.06.94zm10 10l.94 2.06.94-2.06 2.06-.94-2.06-.94-.94-2.06-.94 2.06-2.06.94z\"/><path d=\"M17.41 7.96l-1.37-1.37c-.4-.4-.92-.59-1.43-.59-.52 0-1.04.2-1.43.59L10.3 9.45l-7.72 7.72c-.78.78-.78 2.05 0 2.83L4 21.41c.39.39.9.59 1.41.59.51 0 1.02-.2 1.41-.59l7.78-7.78 2.81-2.81c.8-.78.8-2.07 0-2.86zM5.41 20L4 18.59l7.72-7.72 1.47 1.35L5.41 20z\"/>\n",
              "  </svg>\n",
              "      </button>\n",
              "      \n",
              "  <style>\n",
              "    .colab-df-container {\n",
              "      display:flex;\n",
              "      flex-wrap:wrap;\n",
              "      gap: 12px;\n",
              "    }\n",
              "\n",
              "    .colab-df-convert {\n",
              "      background-color: #E8F0FE;\n",
              "      border: none;\n",
              "      border-radius: 50%;\n",
              "      cursor: pointer;\n",
              "      display: none;\n",
              "      fill: #1967D2;\n",
              "      height: 32px;\n",
              "      padding: 0 0 0 0;\n",
              "      width: 32px;\n",
              "    }\n",
              "\n",
              "    .colab-df-convert:hover {\n",
              "      background-color: #E2EBFA;\n",
              "      box-shadow: 0px 1px 2px rgba(60, 64, 67, 0.3), 0px 1px 3px 1px rgba(60, 64, 67, 0.15);\n",
              "      fill: #174EA6;\n",
              "    }\n",
              "\n",
              "    [theme=dark] .colab-df-convert {\n",
              "      background-color: #3B4455;\n",
              "      fill: #D2E3FC;\n",
              "    }\n",
              "\n",
              "    [theme=dark] .colab-df-convert:hover {\n",
              "      background-color: #434B5C;\n",
              "      box-shadow: 0px 1px 3px 1px rgba(0, 0, 0, 0.15);\n",
              "      filter: drop-shadow(0px 1px 2px rgba(0, 0, 0, 0.3));\n",
              "      fill: #FFFFFF;\n",
              "    }\n",
              "  </style>\n",
              "\n",
              "      <script>\n",
              "        const buttonEl =\n",
              "          document.querySelector('#df-ef798721-7573-4c50-8e10-048b78debfd6 button.colab-df-convert');\n",
              "        buttonEl.style.display =\n",
              "          google.colab.kernel.accessAllowed ? 'block' : 'none';\n",
              "\n",
              "        async function convertToInteractive(key) {\n",
              "          const element = document.querySelector('#df-ef798721-7573-4c50-8e10-048b78debfd6');\n",
              "          const dataTable =\n",
              "            await google.colab.kernel.invokeFunction('convertToInteractive',\n",
              "                                                     [key], {});\n",
              "          if (!dataTable) return;\n",
              "\n",
              "          const docLinkHtml = 'Like what you see? Visit the ' +\n",
              "            '<a target=\"_blank\" href=https://colab.research.google.com/notebooks/data_table.ipynb>data table notebook</a>'\n",
              "            + ' to learn more about interactive tables.';\n",
              "          element.innerHTML = '';\n",
              "          dataTable['output_type'] = 'display_data';\n",
              "          await google.colab.output.renderOutput(dataTable, element);\n",
              "          const docLink = document.createElement('div');\n",
              "          docLink.innerHTML = docLinkHtml;\n",
              "          element.appendChild(docLink);\n",
              "        }\n",
              "      </script>\n",
              "    </div>\n",
              "  </div>\n",
              "  "
            ]
          },
          "metadata": {},
          "execution_count": 10
        }
      ]
    },
    {
      "cell_type": "code",
      "source": [
        "coursedata.columns"
      ],
      "metadata": {
        "colab": {
          "base_uri": "https://localhost:8080/"
        },
        "id": "-ARVaq8W-qok",
        "outputId": "beb4037f-715f-49bd-8328-010222ce9cb8"
      },
      "execution_count": null,
      "outputs": [
        {
          "output_type": "execute_result",
          "data": {
            "text/plain": [
              "Index(['course_title', 'difficulty_level', 'duration', 'skills', 'instructors', 'description', 'rating', 'offered_by', 'language', 'syllabus_heading', 'syllabus_details'], dtype='object')"
            ]
          },
          "metadata": {},
          "execution_count": 11
        }
      ]
    },
    {
      "cell_type": "code",
      "source": [
        "coursedata.dtypes"
      ],
      "metadata": {
        "colab": {
          "base_uri": "https://localhost:8080/"
        },
        "id": "wX_iQkqH-s7H",
        "outputId": "7ef37d5b-5889-4b39-fca1-9b3e6d674300"
      },
      "execution_count": null,
      "outputs": [
        {
          "output_type": "execute_result",
          "data": {
            "text/plain": [
              "course_title        object\n",
              "difficulty_level    object\n",
              "duration            object\n",
              "skills              object\n",
              "instructors         object\n",
              "description         object\n",
              "rating              object\n",
              "offered_by          object\n",
              "language            object\n",
              "syllabus_heading    object\n",
              "syllabus_details    object\n",
              "dtype: object"
            ]
          },
          "metadata": {},
          "execution_count": 12
        }
      ]
    },
    {
      "cell_type": "markdown",
      "source": [
        "### Data Preprocessing"
      ],
      "metadata": {
        "id": "uzC7Ab-7--kd"
      }
    },
    {
      "cell_type": "code",
      "source": [
        "coursedata['difficulty_level'].value_counts()"
      ],
      "metadata": {
        "colab": {
          "base_uri": "https://localhost:8080/"
        },
        "id": "aSE0HHGy9azp",
        "outputId": "d470548d-7839-4361-e4e2-7108e64b2678"
      },
      "execution_count": null,
      "outputs": [
        {
          "output_type": "execute_result",
          "data": {
            "text/plain": [
              "Beginner Level        3057\n",
              "Intermediate Level    1489\n",
              "Advanced Level         190\n",
              "Name: difficulty_level, dtype: int64"
            ]
          },
          "metadata": {},
          "execution_count": 13
        }
      ]
    },
    {
      "cell_type": "code",
      "source": [
        "coursedata.shape"
      ],
      "metadata": {
        "colab": {
          "base_uri": "https://localhost:8080/"
        },
        "id": "gThmZHX6_vgT",
        "outputId": "e7c978c8-b067-4558-b24d-aed18bdcc548"
      },
      "execution_count": null,
      "outputs": [
        {
          "output_type": "execute_result",
          "data": {
            "text/plain": [
              "(6636, 11)"
            ]
          },
          "metadata": {},
          "execution_count": 14
        }
      ]
    },
    {
      "cell_type": "code",
      "source": [
        "#Replace NAN values intially with \"0\"\n",
        "#Extracting hours \n",
        "#Replaces \"0\" with median value\n",
        "coursedata['duration'].fillna(\"0\",inplace=True)\n",
        "coursedata['duration'].value_counts().sum()"
      ],
      "metadata": {
        "colab": {
          "base_uri": "https://localhost:8080/"
        },
        "id": "qQLqoxoSAFVI",
        "outputId": "74e8fbd1-2679-4abe-d1d9-9c402d9707a5"
      },
      "execution_count": null,
      "outputs": [
        {
          "output_type": "execute_result",
          "data": {
            "text/plain": [
              "6636"
            ]
          },
          "metadata": {},
          "execution_count": 15
        }
      ]
    },
    {
      "cell_type": "code",
      "source": [
        "hours = coursedata['duration'].astype('str').str.extractall('(\\d+)').unstack().sum(axis=1).astype(int)\n",
        "coursedata['duration'] = hours\n",
        "coursedata.head()"
      ],
      "metadata": {
        "colab": {
          "base_uri": "https://localhost:8080/",
          "height": 476
        },
        "id": "EOYD0e0u9tL6",
        "outputId": "3fde45f5-72a0-47cc-9fcd-2fb3d8fc408c"
      },
      "execution_count": null,
      "outputs": [
        {
          "output_type": "execute_result",
          "data": {
            "text/plain": [
              "                                      course_title difficulty_level  duration                                             skills                       instructors                                        description      rating                                  offered_by language                                   syllabus_heading                                   syllabus_details\n",
              "0                 Cloud Computing Concepts, Part 1   Beginner Level        23  ['Distributed Algorithm', 'Distributed Computi...                ['Indranil Gupta']  Cloud computing systems today, whether open-so...  4.4\\nstars  University of Illinois at Urbana-Champaign  English  ['Week 1: Orientation, Introduction to Clouds,...  ['This course is oriented towards learners wit...\n",
              "1                  The Challenges of Global Health   Beginner Level        20                                                 []                ['Dr. David Boyd']  What are the world’s major health challenges? ...  4.8\\nstars                             Duke University  English  ['Getting Started', 'Basic Concepts in Global ...  ['Start here! ', 'This module covers some of t...\n",
              "2            Digital Marketing Analytics in Theory   Beginner Level        20  ['Digital Marketing', 'Data Collection', 'Anal...                 ['Kevin Hartman']  Successfully marketing brands today requires a...  4.5\\nstars  University of Illinois at Urbana-Champaign  English  ['Course Overview and The Day The Geeks Took O...  ['In the orientation, you will become familiar...\n",
              "3  Digital Product Management: Modern Fundamentals   Beginner Level        11  ['Product/Market Fit', 'Product Management', '...                    ['Alex Cowan']  Not so long ago, the job of product manager wa...  4.7\\nstars                      University of Virginia  English  ['Achieving Focus and #Winning', \"Using Today'...  ['As a product manager, you and your team will...\n",
              "4                             The Nature of Genius   Beginner Level        28  ['Creativity', 'Art', 'History', 'Psychology',...  ['Craig Wright\\nTOP INSTRUCTOR']  Today \"genius\" is all around us. Celebrities, ...         NaN                             Yale University  English  ['Genius Defined,   Genius Denied ,  Genius an...  ['In Section 1 of Module 1 we determine, jokin..."
            ],
            "text/html": [
              "\n",
              "  <div id=\"df-3b6793bb-7372-4d2a-ab55-c942172bc338\">\n",
              "    <div class=\"colab-df-container\">\n",
              "      <div>\n",
              "<style scoped>\n",
              "    .dataframe tbody tr th:only-of-type {\n",
              "        vertical-align: middle;\n",
              "    }\n",
              "\n",
              "    .dataframe tbody tr th {\n",
              "        vertical-align: top;\n",
              "    }\n",
              "\n",
              "    .dataframe thead th {\n",
              "        text-align: right;\n",
              "    }\n",
              "</style>\n",
              "<table border=\"1\" class=\"dataframe\">\n",
              "  <thead>\n",
              "    <tr style=\"text-align: right;\">\n",
              "      <th></th>\n",
              "      <th>course_title</th>\n",
              "      <th>difficulty_level</th>\n",
              "      <th>duration</th>\n",
              "      <th>skills</th>\n",
              "      <th>instructors</th>\n",
              "      <th>description</th>\n",
              "      <th>rating</th>\n",
              "      <th>offered_by</th>\n",
              "      <th>language</th>\n",
              "      <th>syllabus_heading</th>\n",
              "      <th>syllabus_details</th>\n",
              "    </tr>\n",
              "  </thead>\n",
              "  <tbody>\n",
              "    <tr>\n",
              "      <th>0</th>\n",
              "      <td>Cloud Computing Concepts, Part 1</td>\n",
              "      <td>Beginner Level</td>\n",
              "      <td>23</td>\n",
              "      <td>['Distributed Algorithm', 'Distributed Computi...</td>\n",
              "      <td>['Indranil Gupta']</td>\n",
              "      <td>Cloud computing systems today, whether open-so...</td>\n",
              "      <td>4.4\\nstars</td>\n",
              "      <td>University of Illinois at Urbana-Champaign</td>\n",
              "      <td>English</td>\n",
              "      <td>['Week 1: Orientation, Introduction to Clouds,...</td>\n",
              "      <td>['This course is oriented towards learners wit...</td>\n",
              "    </tr>\n",
              "    <tr>\n",
              "      <th>1</th>\n",
              "      <td>The Challenges of Global Health</td>\n",
              "      <td>Beginner Level</td>\n",
              "      <td>20</td>\n",
              "      <td>[]</td>\n",
              "      <td>['Dr. David Boyd']</td>\n",
              "      <td>What are the world’s major health challenges? ...</td>\n",
              "      <td>4.8\\nstars</td>\n",
              "      <td>Duke University</td>\n",
              "      <td>English</td>\n",
              "      <td>['Getting Started', 'Basic Concepts in Global ...</td>\n",
              "      <td>['Start here! ', 'This module covers some of t...</td>\n",
              "    </tr>\n",
              "    <tr>\n",
              "      <th>2</th>\n",
              "      <td>Digital Marketing Analytics in Theory</td>\n",
              "      <td>Beginner Level</td>\n",
              "      <td>20</td>\n",
              "      <td>['Digital Marketing', 'Data Collection', 'Anal...</td>\n",
              "      <td>['Kevin Hartman']</td>\n",
              "      <td>Successfully marketing brands today requires a...</td>\n",
              "      <td>4.5\\nstars</td>\n",
              "      <td>University of Illinois at Urbana-Champaign</td>\n",
              "      <td>English</td>\n",
              "      <td>['Course Overview and The Day The Geeks Took O...</td>\n",
              "      <td>['In the orientation, you will become familiar...</td>\n",
              "    </tr>\n",
              "    <tr>\n",
              "      <th>3</th>\n",
              "      <td>Digital Product Management: Modern Fundamentals</td>\n",
              "      <td>Beginner Level</td>\n",
              "      <td>11</td>\n",
              "      <td>['Product/Market Fit', 'Product Management', '...</td>\n",
              "      <td>['Alex Cowan']</td>\n",
              "      <td>Not so long ago, the job of product manager wa...</td>\n",
              "      <td>4.7\\nstars</td>\n",
              "      <td>University of Virginia</td>\n",
              "      <td>English</td>\n",
              "      <td>['Achieving Focus and #Winning', \"Using Today'...</td>\n",
              "      <td>['As a product manager, you and your team will...</td>\n",
              "    </tr>\n",
              "    <tr>\n",
              "      <th>4</th>\n",
              "      <td>The Nature of Genius</td>\n",
              "      <td>Beginner Level</td>\n",
              "      <td>28</td>\n",
              "      <td>['Creativity', 'Art', 'History', 'Psychology',...</td>\n",
              "      <td>['Craig Wright\\nTOP INSTRUCTOR']</td>\n",
              "      <td>Today \"genius\" is all around us. Celebrities, ...</td>\n",
              "      <td>NaN</td>\n",
              "      <td>Yale University</td>\n",
              "      <td>English</td>\n",
              "      <td>['Genius Defined,   Genius Denied ,  Genius an...</td>\n",
              "      <td>['In Section 1 of Module 1 we determine, jokin...</td>\n",
              "    </tr>\n",
              "  </tbody>\n",
              "</table>\n",
              "</div>\n",
              "      <button class=\"colab-df-convert\" onclick=\"convertToInteractive('df-3b6793bb-7372-4d2a-ab55-c942172bc338')\"\n",
              "              title=\"Convert this dataframe to an interactive table.\"\n",
              "              style=\"display:none;\">\n",
              "        \n",
              "  <svg xmlns=\"http://www.w3.org/2000/svg\" height=\"24px\"viewBox=\"0 0 24 24\"\n",
              "       width=\"24px\">\n",
              "    <path d=\"M0 0h24v24H0V0z\" fill=\"none\"/>\n",
              "    <path d=\"M18.56 5.44l.94 2.06.94-2.06 2.06-.94-2.06-.94-.94-2.06-.94 2.06-2.06.94zm-11 1L8.5 8.5l.94-2.06 2.06-.94-2.06-.94L8.5 2.5l-.94 2.06-2.06.94zm10 10l.94 2.06.94-2.06 2.06-.94-2.06-.94-.94-2.06-.94 2.06-2.06.94z\"/><path d=\"M17.41 7.96l-1.37-1.37c-.4-.4-.92-.59-1.43-.59-.52 0-1.04.2-1.43.59L10.3 9.45l-7.72 7.72c-.78.78-.78 2.05 0 2.83L4 21.41c.39.39.9.59 1.41.59.51 0 1.02-.2 1.41-.59l7.78-7.78 2.81-2.81c.8-.78.8-2.07 0-2.86zM5.41 20L4 18.59l7.72-7.72 1.47 1.35L5.41 20z\"/>\n",
              "  </svg>\n",
              "      </button>\n",
              "      \n",
              "  <style>\n",
              "    .colab-df-container {\n",
              "      display:flex;\n",
              "      flex-wrap:wrap;\n",
              "      gap: 12px;\n",
              "    }\n",
              "\n",
              "    .colab-df-convert {\n",
              "      background-color: #E8F0FE;\n",
              "      border: none;\n",
              "      border-radius: 50%;\n",
              "      cursor: pointer;\n",
              "      display: none;\n",
              "      fill: #1967D2;\n",
              "      height: 32px;\n",
              "      padding: 0 0 0 0;\n",
              "      width: 32px;\n",
              "    }\n",
              "\n",
              "    .colab-df-convert:hover {\n",
              "      background-color: #E2EBFA;\n",
              "      box-shadow: 0px 1px 2px rgba(60, 64, 67, 0.3), 0px 1px 3px 1px rgba(60, 64, 67, 0.15);\n",
              "      fill: #174EA6;\n",
              "    }\n",
              "\n",
              "    [theme=dark] .colab-df-convert {\n",
              "      background-color: #3B4455;\n",
              "      fill: #D2E3FC;\n",
              "    }\n",
              "\n",
              "    [theme=dark] .colab-df-convert:hover {\n",
              "      background-color: #434B5C;\n",
              "      box-shadow: 0px 1px 3px 1px rgba(0, 0, 0, 0.15);\n",
              "      filter: drop-shadow(0px 1px 2px rgba(0, 0, 0, 0.3));\n",
              "      fill: #FFFFFF;\n",
              "    }\n",
              "  </style>\n",
              "\n",
              "      <script>\n",
              "        const buttonEl =\n",
              "          document.querySelector('#df-3b6793bb-7372-4d2a-ab55-c942172bc338 button.colab-df-convert');\n",
              "        buttonEl.style.display =\n",
              "          google.colab.kernel.accessAllowed ? 'block' : 'none';\n",
              "\n",
              "        async function convertToInteractive(key) {\n",
              "          const element = document.querySelector('#df-3b6793bb-7372-4d2a-ab55-c942172bc338');\n",
              "          const dataTable =\n",
              "            await google.colab.kernel.invokeFunction('convertToInteractive',\n",
              "                                                     [key], {});\n",
              "          if (!dataTable) return;\n",
              "\n",
              "          const docLinkHtml = 'Like what you see? Visit the ' +\n",
              "            '<a target=\"_blank\" href=https://colab.research.google.com/notebooks/data_table.ipynb>data table notebook</a>'\n",
              "            + ' to learn more about interactive tables.';\n",
              "          element.innerHTML = '';\n",
              "          dataTable['output_type'] = 'display_data';\n",
              "          await google.colab.output.renderOutput(dataTable, element);\n",
              "          const docLink = document.createElement('div');\n",
              "          docLink.innerHTML = docLinkHtml;\n",
              "          element.appendChild(docLink);\n",
              "        }\n",
              "      </script>\n",
              "    </div>\n",
              "  </div>\n",
              "  "
            ]
          },
          "metadata": {},
          "execution_count": 16
        }
      ]
    },
    {
      "cell_type": "code",
      "source": [
        "coursedata['duration'].shape"
      ],
      "metadata": {
        "colab": {
          "base_uri": "https://localhost:8080/"
        },
        "id": "lXox962TFr5K",
        "outputId": "fca79697-bb96-4deb-9959-71f5230c977b"
      },
      "execution_count": null,
      "outputs": [
        {
          "output_type": "execute_result",
          "data": {
            "text/plain": [
              "(6636,)"
            ]
          },
          "metadata": {},
          "execution_count": 17
        }
      ]
    },
    {
      "cell_type": "code",
      "source": [
        "print(coursedata['duration'].median())"
      ],
      "metadata": {
        "colab": {
          "base_uri": "https://localhost:8080/"
        },
        "id": "XwZoIylF_sxP",
        "outputId": "98dc1798-50e0-4c25-f06e-e1a46265c882"
      },
      "execution_count": null,
      "outputs": [
        {
          "output_type": "stream",
          "name": "stdout",
          "text": [
            "13.0\n"
          ]
        }
      ]
    },
    {
      "cell_type": "code",
      "source": [
        "# coursedata['duration'].value_counts()"
      ],
      "metadata": {
        "id": "P80nLbkGB_jj"
      },
      "execution_count": null,
      "outputs": []
    },
    {
      "cell_type": "code",
      "source": [
        "\n",
        "coursedata['duration']=coursedata['duration'].replace(0,int(coursedata['duration'].median()))\n",
        "coursedata.head()"
      ],
      "metadata": {
        "colab": {
          "base_uri": "https://localhost:8080/",
          "height": 476
        },
        "id": "w1-6uvr3BazM",
        "outputId": "e957b15d-a4a6-4d4a-9c38-4020dc23cefb"
      },
      "execution_count": null,
      "outputs": [
        {
          "output_type": "execute_result",
          "data": {
            "text/plain": [
              "                                      course_title difficulty_level  duration                                             skills                       instructors                                        description      rating                                  offered_by language                                   syllabus_heading                                   syllabus_details\n",
              "0                 Cloud Computing Concepts, Part 1   Beginner Level        23  ['Distributed Algorithm', 'Distributed Computi...                ['Indranil Gupta']  Cloud computing systems today, whether open-so...  4.4\\nstars  University of Illinois at Urbana-Champaign  English  ['Week 1: Orientation, Introduction to Clouds,...  ['This course is oriented towards learners wit...\n",
              "1                  The Challenges of Global Health   Beginner Level        20                                                 []                ['Dr. David Boyd']  What are the world’s major health challenges? ...  4.8\\nstars                             Duke University  English  ['Getting Started', 'Basic Concepts in Global ...  ['Start here! ', 'This module covers some of t...\n",
              "2            Digital Marketing Analytics in Theory   Beginner Level        20  ['Digital Marketing', 'Data Collection', 'Anal...                 ['Kevin Hartman']  Successfully marketing brands today requires a...  4.5\\nstars  University of Illinois at Urbana-Champaign  English  ['Course Overview and The Day The Geeks Took O...  ['In the orientation, you will become familiar...\n",
              "3  Digital Product Management: Modern Fundamentals   Beginner Level        11  ['Product/Market Fit', 'Product Management', '...                    ['Alex Cowan']  Not so long ago, the job of product manager wa...  4.7\\nstars                      University of Virginia  English  ['Achieving Focus and #Winning', \"Using Today'...  ['As a product manager, you and your team will...\n",
              "4                             The Nature of Genius   Beginner Level        28  ['Creativity', 'Art', 'History', 'Psychology',...  ['Craig Wright\\nTOP INSTRUCTOR']  Today \"genius\" is all around us. Celebrities, ...         NaN                             Yale University  English  ['Genius Defined,   Genius Denied ,  Genius an...  ['In Section 1 of Module 1 we determine, jokin..."
            ],
            "text/html": [
              "\n",
              "  <div id=\"df-0610dac1-3d5a-4664-84c6-63f121ff9b14\">\n",
              "    <div class=\"colab-df-container\">\n",
              "      <div>\n",
              "<style scoped>\n",
              "    .dataframe tbody tr th:only-of-type {\n",
              "        vertical-align: middle;\n",
              "    }\n",
              "\n",
              "    .dataframe tbody tr th {\n",
              "        vertical-align: top;\n",
              "    }\n",
              "\n",
              "    .dataframe thead th {\n",
              "        text-align: right;\n",
              "    }\n",
              "</style>\n",
              "<table border=\"1\" class=\"dataframe\">\n",
              "  <thead>\n",
              "    <tr style=\"text-align: right;\">\n",
              "      <th></th>\n",
              "      <th>course_title</th>\n",
              "      <th>difficulty_level</th>\n",
              "      <th>duration</th>\n",
              "      <th>skills</th>\n",
              "      <th>instructors</th>\n",
              "      <th>description</th>\n",
              "      <th>rating</th>\n",
              "      <th>offered_by</th>\n",
              "      <th>language</th>\n",
              "      <th>syllabus_heading</th>\n",
              "      <th>syllabus_details</th>\n",
              "    </tr>\n",
              "  </thead>\n",
              "  <tbody>\n",
              "    <tr>\n",
              "      <th>0</th>\n",
              "      <td>Cloud Computing Concepts, Part 1</td>\n",
              "      <td>Beginner Level</td>\n",
              "      <td>23</td>\n",
              "      <td>['Distributed Algorithm', 'Distributed Computi...</td>\n",
              "      <td>['Indranil Gupta']</td>\n",
              "      <td>Cloud computing systems today, whether open-so...</td>\n",
              "      <td>4.4\\nstars</td>\n",
              "      <td>University of Illinois at Urbana-Champaign</td>\n",
              "      <td>English</td>\n",
              "      <td>['Week 1: Orientation, Introduction to Clouds,...</td>\n",
              "      <td>['This course is oriented towards learners wit...</td>\n",
              "    </tr>\n",
              "    <tr>\n",
              "      <th>1</th>\n",
              "      <td>The Challenges of Global Health</td>\n",
              "      <td>Beginner Level</td>\n",
              "      <td>20</td>\n",
              "      <td>[]</td>\n",
              "      <td>['Dr. David Boyd']</td>\n",
              "      <td>What are the world’s major health challenges? ...</td>\n",
              "      <td>4.8\\nstars</td>\n",
              "      <td>Duke University</td>\n",
              "      <td>English</td>\n",
              "      <td>['Getting Started', 'Basic Concepts in Global ...</td>\n",
              "      <td>['Start here! ', 'This module covers some of t...</td>\n",
              "    </tr>\n",
              "    <tr>\n",
              "      <th>2</th>\n",
              "      <td>Digital Marketing Analytics in Theory</td>\n",
              "      <td>Beginner Level</td>\n",
              "      <td>20</td>\n",
              "      <td>['Digital Marketing', 'Data Collection', 'Anal...</td>\n",
              "      <td>['Kevin Hartman']</td>\n",
              "      <td>Successfully marketing brands today requires a...</td>\n",
              "      <td>4.5\\nstars</td>\n",
              "      <td>University of Illinois at Urbana-Champaign</td>\n",
              "      <td>English</td>\n",
              "      <td>['Course Overview and The Day The Geeks Took O...</td>\n",
              "      <td>['In the orientation, you will become familiar...</td>\n",
              "    </tr>\n",
              "    <tr>\n",
              "      <th>3</th>\n",
              "      <td>Digital Product Management: Modern Fundamentals</td>\n",
              "      <td>Beginner Level</td>\n",
              "      <td>11</td>\n",
              "      <td>['Product/Market Fit', 'Product Management', '...</td>\n",
              "      <td>['Alex Cowan']</td>\n",
              "      <td>Not so long ago, the job of product manager wa...</td>\n",
              "      <td>4.7\\nstars</td>\n",
              "      <td>University of Virginia</td>\n",
              "      <td>English</td>\n",
              "      <td>['Achieving Focus and #Winning', \"Using Today'...</td>\n",
              "      <td>['As a product manager, you and your team will...</td>\n",
              "    </tr>\n",
              "    <tr>\n",
              "      <th>4</th>\n",
              "      <td>The Nature of Genius</td>\n",
              "      <td>Beginner Level</td>\n",
              "      <td>28</td>\n",
              "      <td>['Creativity', 'Art', 'History', 'Psychology',...</td>\n",
              "      <td>['Craig Wright\\nTOP INSTRUCTOR']</td>\n",
              "      <td>Today \"genius\" is all around us. Celebrities, ...</td>\n",
              "      <td>NaN</td>\n",
              "      <td>Yale University</td>\n",
              "      <td>English</td>\n",
              "      <td>['Genius Defined,   Genius Denied ,  Genius an...</td>\n",
              "      <td>['In Section 1 of Module 1 we determine, jokin...</td>\n",
              "    </tr>\n",
              "  </tbody>\n",
              "</table>\n",
              "</div>\n",
              "      <button class=\"colab-df-convert\" onclick=\"convertToInteractive('df-0610dac1-3d5a-4664-84c6-63f121ff9b14')\"\n",
              "              title=\"Convert this dataframe to an interactive table.\"\n",
              "              style=\"display:none;\">\n",
              "        \n",
              "  <svg xmlns=\"http://www.w3.org/2000/svg\" height=\"24px\"viewBox=\"0 0 24 24\"\n",
              "       width=\"24px\">\n",
              "    <path d=\"M0 0h24v24H0V0z\" fill=\"none\"/>\n",
              "    <path d=\"M18.56 5.44l.94 2.06.94-2.06 2.06-.94-2.06-.94-.94-2.06-.94 2.06-2.06.94zm-11 1L8.5 8.5l.94-2.06 2.06-.94-2.06-.94L8.5 2.5l-.94 2.06-2.06.94zm10 10l.94 2.06.94-2.06 2.06-.94-2.06-.94-.94-2.06-.94 2.06-2.06.94z\"/><path d=\"M17.41 7.96l-1.37-1.37c-.4-.4-.92-.59-1.43-.59-.52 0-1.04.2-1.43.59L10.3 9.45l-7.72 7.72c-.78.78-.78 2.05 0 2.83L4 21.41c.39.39.9.59 1.41.59.51 0 1.02-.2 1.41-.59l7.78-7.78 2.81-2.81c.8-.78.8-2.07 0-2.86zM5.41 20L4 18.59l7.72-7.72 1.47 1.35L5.41 20z\"/>\n",
              "  </svg>\n",
              "      </button>\n",
              "      \n",
              "  <style>\n",
              "    .colab-df-container {\n",
              "      display:flex;\n",
              "      flex-wrap:wrap;\n",
              "      gap: 12px;\n",
              "    }\n",
              "\n",
              "    .colab-df-convert {\n",
              "      background-color: #E8F0FE;\n",
              "      border: none;\n",
              "      border-radius: 50%;\n",
              "      cursor: pointer;\n",
              "      display: none;\n",
              "      fill: #1967D2;\n",
              "      height: 32px;\n",
              "      padding: 0 0 0 0;\n",
              "      width: 32px;\n",
              "    }\n",
              "\n",
              "    .colab-df-convert:hover {\n",
              "      background-color: #E2EBFA;\n",
              "      box-shadow: 0px 1px 2px rgba(60, 64, 67, 0.3), 0px 1px 3px 1px rgba(60, 64, 67, 0.15);\n",
              "      fill: #174EA6;\n",
              "    }\n",
              "\n",
              "    [theme=dark] .colab-df-convert {\n",
              "      background-color: #3B4455;\n",
              "      fill: #D2E3FC;\n",
              "    }\n",
              "\n",
              "    [theme=dark] .colab-df-convert:hover {\n",
              "      background-color: #434B5C;\n",
              "      box-shadow: 0px 1px 3px 1px rgba(0, 0, 0, 0.15);\n",
              "      filter: drop-shadow(0px 1px 2px rgba(0, 0, 0, 0.3));\n",
              "      fill: #FFFFFF;\n",
              "    }\n",
              "  </style>\n",
              "\n",
              "      <script>\n",
              "        const buttonEl =\n",
              "          document.querySelector('#df-0610dac1-3d5a-4664-84c6-63f121ff9b14 button.colab-df-convert');\n",
              "        buttonEl.style.display =\n",
              "          google.colab.kernel.accessAllowed ? 'block' : 'none';\n",
              "\n",
              "        async function convertToInteractive(key) {\n",
              "          const element = document.querySelector('#df-0610dac1-3d5a-4664-84c6-63f121ff9b14');\n",
              "          const dataTable =\n",
              "            await google.colab.kernel.invokeFunction('convertToInteractive',\n",
              "                                                     [key], {});\n",
              "          if (!dataTable) return;\n",
              "\n",
              "          const docLinkHtml = 'Like what you see? Visit the ' +\n",
              "            '<a target=\"_blank\" href=https://colab.research.google.com/notebooks/data_table.ipynb>data table notebook</a>'\n",
              "            + ' to learn more about interactive tables.';\n",
              "          element.innerHTML = '';\n",
              "          dataTable['output_type'] = 'display_data';\n",
              "          await google.colab.output.renderOutput(dataTable, element);\n",
              "          const docLink = document.createElement('div');\n",
              "          docLink.innerHTML = docLinkHtml;\n",
              "          element.appendChild(docLink);\n",
              "        }\n",
              "      </script>\n",
              "    </div>\n",
              "  </div>\n",
              "  "
            ]
          },
          "metadata": {},
          "execution_count": 20
        }
      ]
    },
    {
      "cell_type": "code",
      "source": [
        "coursedata['duration'].value_counts()"
      ],
      "metadata": {
        "colab": {
          "base_uri": "https://localhost:8080/"
        },
        "id": "X33t708QCE9y",
        "outputId": "1c0f60a5-3dd4-4697-c31c-4500dba9387c"
      },
      "execution_count": null,
      "outputs": [
        {
          "output_type": "execute_result",
          "data": {
            "text/plain": [
              "13     859\n",
              "12     330\n",
              "10     329\n",
              "9      314\n",
              "11     311\n",
              "15     297\n",
              "14     289\n",
              "8      277\n",
              "16     243\n",
              "7      236\n",
              "6      230\n",
              "18     230\n",
              "19     212\n",
              "17     209\n",
              "20     202\n",
              "22     161\n",
              "5      158\n",
              "21     147\n",
              "2      141\n",
              "4      138\n",
              "23     125\n",
              "25     114\n",
              "24     100\n",
              "27      96\n",
              "3       96\n",
              "26      94\n",
              "28      76\n",
              "29      63\n",
              "33      54\n",
              "31      51\n",
              "32      47\n",
              "30      47\n",
              "35      34\n",
              "1       30\n",
              "34      27\n",
              "40      27\n",
              "38      25\n",
              "37      21\n",
              "47      17\n",
              "42      15\n",
              "36      15\n",
              "46      12\n",
              "41      10\n",
              "39      10\n",
              "44       9\n",
              "43       9\n",
              "45       9\n",
              "54       7\n",
              "49       7\n",
              "66       6\n",
              "53       5\n",
              "60       5\n",
              "55       4\n",
              "56       4\n",
              "71       4\n",
              "48       3\n",
              "59       3\n",
              "65       3\n",
              "50       3\n",
              "93       2\n",
              "69       2\n",
              "51       2\n",
              "72       2\n",
              "57       2\n",
              "73       2\n",
              "63       2\n",
              "61       2\n",
              "67       2\n",
              "76       2\n",
              "81       1\n",
              "58       1\n",
              "96       1\n",
              "104      1\n",
              "80       1\n",
              "68       1\n",
              "90       1\n",
              "64       1\n",
              "78       1\n",
              "106      1\n",
              "85       1\n",
              "88       1\n",
              "310      1\n",
              "62       1\n",
              "70       1\n",
              "127      1\n",
              "Name: duration, dtype: int64"
            ]
          },
          "metadata": {},
          "execution_count": 21
        }
      ]
    },
    {
      "cell_type": "code",
      "source": [
        "coursedata['difficulty_level'].isnull().sum()"
      ],
      "metadata": {
        "colab": {
          "base_uri": "https://localhost:8080/"
        },
        "id": "XtdTsF0WNuz0",
        "outputId": "c1f8a4e8-e653-4689-9f5d-49459e092149"
      },
      "execution_count": null,
      "outputs": [
        {
          "output_type": "execute_result",
          "data": {
            "text/plain": [
              "1900"
            ]
          },
          "metadata": {},
          "execution_count": 22
        }
      ]
    },
    {
      "cell_type": "code",
      "source": [
        "#@title\n",
        "#Replacing blank values of difficulty level with Unknown \n",
        "coursedata[\"difficulty_level\"].fillna(\"Unknown\", inplace = True)\n",
        "coursedata[\"difficulty_level\"].value_counts()"
      ],
      "metadata": {
        "colab": {
          "base_uri": "https://localhost:8080/"
        },
        "id": "2W1wPhoJPKxG",
        "outputId": "97065435-d9c1-4b38-cd79-b172f354e8c1"
      },
      "execution_count": null,
      "outputs": [
        {
          "output_type": "execute_result",
          "data": {
            "text/plain": [
              "Beginner Level        3057\n",
              "Unknown               1900\n",
              "Intermediate Level    1489\n",
              "Advanced Level         190\n",
              "Name: difficulty_level, dtype: int64"
            ]
          },
          "metadata": {},
          "execution_count": 23
        }
      ]
    },
    {
      "cell_type": "code",
      "source": [
        "diff_lvl_dict = {'Beginner Level':1 , 'Intermediate Level':2, 'Advanced Level':3, 'Unknown':0}\n",
        "coursedata['numeric_difficulty_lvl'] = coursedata.difficulty_level.map(diff_lvl_dict)\n",
        "coursedata['numeric_difficulty_lvl'].value_counts()"
      ],
      "metadata": {
        "colab": {
          "base_uri": "https://localhost:8080/"
        },
        "id": "Q5UoBh4bOr-t",
        "outputId": "be54787b-9637-43ab-8808-c2bfbcc80f3e"
      },
      "execution_count": null,
      "outputs": [
        {
          "output_type": "execute_result",
          "data": {
            "text/plain": [
              "1    3057\n",
              "0    1900\n",
              "2    1489\n",
              "3     190\n",
              "Name: numeric_difficulty_lvl, dtype: int64"
            ]
          },
          "metadata": {},
          "execution_count": 24
        }
      ]
    },
    {
      "cell_type": "code",
      "source": [
        "coursedata.head()"
      ],
      "metadata": {
        "colab": {
          "base_uri": "https://localhost:8080/",
          "height": 528
        },
        "id": "B8RnYKyzPEEF",
        "outputId": "47754767-39e3-4690-f102-f7e2007d645b"
      },
      "execution_count": null,
      "outputs": [
        {
          "output_type": "execute_result",
          "data": {
            "text/plain": [
              "                                      course_title difficulty_level  duration                                             skills                       instructors                                        description      rating                                  offered_by language                                   syllabus_heading                                   syllabus_details  numeric_difficulty_lvl\n",
              "0                 Cloud Computing Concepts, Part 1   Beginner Level        23  ['Distributed Algorithm', 'Distributed Computi...                ['Indranil Gupta']  Cloud computing systems today, whether open-so...  4.4\\nstars  University of Illinois at Urbana-Champaign  English  ['Week 1: Orientation, Introduction to Clouds,...  ['This course is oriented towards learners wit...                       1\n",
              "1                  The Challenges of Global Health   Beginner Level        20                                                 []                ['Dr. David Boyd']  What are the world’s major health challenges? ...  4.8\\nstars                             Duke University  English  ['Getting Started', 'Basic Concepts in Global ...  ['Start here! ', 'This module covers some of t...                       1\n",
              "2            Digital Marketing Analytics in Theory   Beginner Level        20  ['Digital Marketing', 'Data Collection', 'Anal...                 ['Kevin Hartman']  Successfully marketing brands today requires a...  4.5\\nstars  University of Illinois at Urbana-Champaign  English  ['Course Overview and The Day The Geeks Took O...  ['In the orientation, you will become familiar...                       1\n",
              "3  Digital Product Management: Modern Fundamentals   Beginner Level        11  ['Product/Market Fit', 'Product Management', '...                    ['Alex Cowan']  Not so long ago, the job of product manager wa...  4.7\\nstars                      University of Virginia  English  ['Achieving Focus and #Winning', \"Using Today'...  ['As a product manager, you and your team will...                       1\n",
              "4                             The Nature of Genius   Beginner Level        28  ['Creativity', 'Art', 'History', 'Psychology',...  ['Craig Wright\\nTOP INSTRUCTOR']  Today \"genius\" is all around us. Celebrities, ...         NaN                             Yale University  English  ['Genius Defined,   Genius Denied ,  Genius an...  ['In Section 1 of Module 1 we determine, jokin...                       1"
            ],
            "text/html": [
              "\n",
              "  <div id=\"df-3be35f8e-19f1-4921-887c-5909609457a5\">\n",
              "    <div class=\"colab-df-container\">\n",
              "      <div>\n",
              "<style scoped>\n",
              "    .dataframe tbody tr th:only-of-type {\n",
              "        vertical-align: middle;\n",
              "    }\n",
              "\n",
              "    .dataframe tbody tr th {\n",
              "        vertical-align: top;\n",
              "    }\n",
              "\n",
              "    .dataframe thead th {\n",
              "        text-align: right;\n",
              "    }\n",
              "</style>\n",
              "<table border=\"1\" class=\"dataframe\">\n",
              "  <thead>\n",
              "    <tr style=\"text-align: right;\">\n",
              "      <th></th>\n",
              "      <th>course_title</th>\n",
              "      <th>difficulty_level</th>\n",
              "      <th>duration</th>\n",
              "      <th>skills</th>\n",
              "      <th>instructors</th>\n",
              "      <th>description</th>\n",
              "      <th>rating</th>\n",
              "      <th>offered_by</th>\n",
              "      <th>language</th>\n",
              "      <th>syllabus_heading</th>\n",
              "      <th>syllabus_details</th>\n",
              "      <th>numeric_difficulty_lvl</th>\n",
              "    </tr>\n",
              "  </thead>\n",
              "  <tbody>\n",
              "    <tr>\n",
              "      <th>0</th>\n",
              "      <td>Cloud Computing Concepts, Part 1</td>\n",
              "      <td>Beginner Level</td>\n",
              "      <td>23</td>\n",
              "      <td>['Distributed Algorithm', 'Distributed Computi...</td>\n",
              "      <td>['Indranil Gupta']</td>\n",
              "      <td>Cloud computing systems today, whether open-so...</td>\n",
              "      <td>4.4\\nstars</td>\n",
              "      <td>University of Illinois at Urbana-Champaign</td>\n",
              "      <td>English</td>\n",
              "      <td>['Week 1: Orientation, Introduction to Clouds,...</td>\n",
              "      <td>['This course is oriented towards learners wit...</td>\n",
              "      <td>1</td>\n",
              "    </tr>\n",
              "    <tr>\n",
              "      <th>1</th>\n",
              "      <td>The Challenges of Global Health</td>\n",
              "      <td>Beginner Level</td>\n",
              "      <td>20</td>\n",
              "      <td>[]</td>\n",
              "      <td>['Dr. David Boyd']</td>\n",
              "      <td>What are the world’s major health challenges? ...</td>\n",
              "      <td>4.8\\nstars</td>\n",
              "      <td>Duke University</td>\n",
              "      <td>English</td>\n",
              "      <td>['Getting Started', 'Basic Concepts in Global ...</td>\n",
              "      <td>['Start here! ', 'This module covers some of t...</td>\n",
              "      <td>1</td>\n",
              "    </tr>\n",
              "    <tr>\n",
              "      <th>2</th>\n",
              "      <td>Digital Marketing Analytics in Theory</td>\n",
              "      <td>Beginner Level</td>\n",
              "      <td>20</td>\n",
              "      <td>['Digital Marketing', 'Data Collection', 'Anal...</td>\n",
              "      <td>['Kevin Hartman']</td>\n",
              "      <td>Successfully marketing brands today requires a...</td>\n",
              "      <td>4.5\\nstars</td>\n",
              "      <td>University of Illinois at Urbana-Champaign</td>\n",
              "      <td>English</td>\n",
              "      <td>['Course Overview and The Day The Geeks Took O...</td>\n",
              "      <td>['In the orientation, you will become familiar...</td>\n",
              "      <td>1</td>\n",
              "    </tr>\n",
              "    <tr>\n",
              "      <th>3</th>\n",
              "      <td>Digital Product Management: Modern Fundamentals</td>\n",
              "      <td>Beginner Level</td>\n",
              "      <td>11</td>\n",
              "      <td>['Product/Market Fit', 'Product Management', '...</td>\n",
              "      <td>['Alex Cowan']</td>\n",
              "      <td>Not so long ago, the job of product manager wa...</td>\n",
              "      <td>4.7\\nstars</td>\n",
              "      <td>University of Virginia</td>\n",
              "      <td>English</td>\n",
              "      <td>['Achieving Focus and #Winning', \"Using Today'...</td>\n",
              "      <td>['As a product manager, you and your team will...</td>\n",
              "      <td>1</td>\n",
              "    </tr>\n",
              "    <tr>\n",
              "      <th>4</th>\n",
              "      <td>The Nature of Genius</td>\n",
              "      <td>Beginner Level</td>\n",
              "      <td>28</td>\n",
              "      <td>['Creativity', 'Art', 'History', 'Psychology',...</td>\n",
              "      <td>['Craig Wright\\nTOP INSTRUCTOR']</td>\n",
              "      <td>Today \"genius\" is all around us. Celebrities, ...</td>\n",
              "      <td>NaN</td>\n",
              "      <td>Yale University</td>\n",
              "      <td>English</td>\n",
              "      <td>['Genius Defined,   Genius Denied ,  Genius an...</td>\n",
              "      <td>['In Section 1 of Module 1 we determine, jokin...</td>\n",
              "      <td>1</td>\n",
              "    </tr>\n",
              "  </tbody>\n",
              "</table>\n",
              "</div>\n",
              "      <button class=\"colab-df-convert\" onclick=\"convertToInteractive('df-3be35f8e-19f1-4921-887c-5909609457a5')\"\n",
              "              title=\"Convert this dataframe to an interactive table.\"\n",
              "              style=\"display:none;\">\n",
              "        \n",
              "  <svg xmlns=\"http://www.w3.org/2000/svg\" height=\"24px\"viewBox=\"0 0 24 24\"\n",
              "       width=\"24px\">\n",
              "    <path d=\"M0 0h24v24H0V0z\" fill=\"none\"/>\n",
              "    <path d=\"M18.56 5.44l.94 2.06.94-2.06 2.06-.94-2.06-.94-.94-2.06-.94 2.06-2.06.94zm-11 1L8.5 8.5l.94-2.06 2.06-.94-2.06-.94L8.5 2.5l-.94 2.06-2.06.94zm10 10l.94 2.06.94-2.06 2.06-.94-2.06-.94-.94-2.06-.94 2.06-2.06.94z\"/><path d=\"M17.41 7.96l-1.37-1.37c-.4-.4-.92-.59-1.43-.59-.52 0-1.04.2-1.43.59L10.3 9.45l-7.72 7.72c-.78.78-.78 2.05 0 2.83L4 21.41c.39.39.9.59 1.41.59.51 0 1.02-.2 1.41-.59l7.78-7.78 2.81-2.81c.8-.78.8-2.07 0-2.86zM5.41 20L4 18.59l7.72-7.72 1.47 1.35L5.41 20z\"/>\n",
              "  </svg>\n",
              "      </button>\n",
              "      \n",
              "  <style>\n",
              "    .colab-df-container {\n",
              "      display:flex;\n",
              "      flex-wrap:wrap;\n",
              "      gap: 12px;\n",
              "    }\n",
              "\n",
              "    .colab-df-convert {\n",
              "      background-color: #E8F0FE;\n",
              "      border: none;\n",
              "      border-radius: 50%;\n",
              "      cursor: pointer;\n",
              "      display: none;\n",
              "      fill: #1967D2;\n",
              "      height: 32px;\n",
              "      padding: 0 0 0 0;\n",
              "      width: 32px;\n",
              "    }\n",
              "\n",
              "    .colab-df-convert:hover {\n",
              "      background-color: #E2EBFA;\n",
              "      box-shadow: 0px 1px 2px rgba(60, 64, 67, 0.3), 0px 1px 3px 1px rgba(60, 64, 67, 0.15);\n",
              "      fill: #174EA6;\n",
              "    }\n",
              "\n",
              "    [theme=dark] .colab-df-convert {\n",
              "      background-color: #3B4455;\n",
              "      fill: #D2E3FC;\n",
              "    }\n",
              "\n",
              "    [theme=dark] .colab-df-convert:hover {\n",
              "      background-color: #434B5C;\n",
              "      box-shadow: 0px 1px 3px 1px rgba(0, 0, 0, 0.15);\n",
              "      filter: drop-shadow(0px 1px 2px rgba(0, 0, 0, 0.3));\n",
              "      fill: #FFFFFF;\n",
              "    }\n",
              "  </style>\n",
              "\n",
              "      <script>\n",
              "        const buttonEl =\n",
              "          document.querySelector('#df-3be35f8e-19f1-4921-887c-5909609457a5 button.colab-df-convert');\n",
              "        buttonEl.style.display =\n",
              "          google.colab.kernel.accessAllowed ? 'block' : 'none';\n",
              "\n",
              "        async function convertToInteractive(key) {\n",
              "          const element = document.querySelector('#df-3be35f8e-19f1-4921-887c-5909609457a5');\n",
              "          const dataTable =\n",
              "            await google.colab.kernel.invokeFunction('convertToInteractive',\n",
              "                                                     [key], {});\n",
              "          if (!dataTable) return;\n",
              "\n",
              "          const docLinkHtml = 'Like what you see? Visit the ' +\n",
              "            '<a target=\"_blank\" href=https://colab.research.google.com/notebooks/data_table.ipynb>data table notebook</a>'\n",
              "            + ' to learn more about interactive tables.';\n",
              "          element.innerHTML = '';\n",
              "          dataTable['output_type'] = 'display_data';\n",
              "          await google.colab.output.renderOutput(dataTable, element);\n",
              "          const docLink = document.createElement('div');\n",
              "          docLink.innerHTML = docLinkHtml;\n",
              "          element.appendChild(docLink);\n",
              "        }\n",
              "      </script>\n",
              "    </div>\n",
              "  </div>\n",
              "  "
            ]
          },
          "metadata": {},
          "execution_count": 25
        }
      ]
    },
    {
      "cell_type": "code",
      "source": [
        "coursedata.info()"
      ],
      "metadata": {
        "id": "8Auxdln7PeU6",
        "colab": {
          "base_uri": "https://localhost:8080/"
        },
        "outputId": "cab49ea2-5ac3-47f4-9a67-ad8ceb99e5f5"
      },
      "execution_count": null,
      "outputs": [
        {
          "output_type": "stream",
          "name": "stdout",
          "text": [
            "<class 'pandas.core.frame.DataFrame'>\n",
            "RangeIndex: 6636 entries, 0 to 6635\n",
            "Data columns (total 12 columns):\n",
            " #   Column                  Non-Null Count  Dtype \n",
            "---  ------                  --------------  ----- \n",
            " 0   course_title            6134 non-null   object\n",
            " 1   difficulty_level        6636 non-null   object\n",
            " 2   duration                6636 non-null   int64 \n",
            " 3   skills                  6636 non-null   object\n",
            " 4   instructors             6636 non-null   object\n",
            " 5   description             6635 non-null   object\n",
            " 6   rating                  4651 non-null   object\n",
            " 7   offered_by              6636 non-null   object\n",
            " 8   language                6636 non-null   object\n",
            " 9   syllabus_heading        6636 non-null   object\n",
            " 10  syllabus_details        6636 non-null   object\n",
            " 11  numeric_difficulty_lvl  6636 non-null   int64 \n",
            "dtypes: int64(2), object(10)\n",
            "memory usage: 622.2+ KB\n"
          ]
        }
      ]
    },
    {
      "cell_type": "code",
      "source": [
        "#Course Duration Distribution throughout the data\n",
        "#Rating Distribution throughout the data\n",
        "import seaborn as sns\n",
        "plt.figure(figsize=(15,10)) \n",
        "sns.countplot(x='duration', data=coursedata)\n",
        "plt.xlabel('Course Duration')\n",
        "plt.xticks(rotation=90)\n",
        "plt.ylabel('Number of Courses')\n",
        "plt.title('NUMBER OF COURSES FOR DIFFERENT DURATION')"
      ],
      "metadata": {
        "colab": {
          "base_uri": "https://localhost:8080/",
          "height": 648
        },
        "id": "IscUtU9ZAoSi",
        "outputId": "e07254ac-40d9-450c-bd8b-25fb136848c6"
      },
      "execution_count": null,
      "outputs": [
        {
          "output_type": "execute_result",
          "data": {
            "text/plain": [
              "Text(0.5, 1.0, 'NUMBER OF COURSES FOR DIFFERENT DURATION')"
            ]
          },
          "metadata": {},
          "execution_count": 27
        },
        {
          "output_type": "display_data",
          "data": {
            "text/plain": [
              "<Figure size 1080x720 with 1 Axes>"
            ],
            "image/png": "[encoded data removed]"
          },
          "metadata": {
            "needs_background": "light"
          }
        }
      ]
    },
    {
      "cell_type": "code",
      "source": [
        "def label_race (row):\n",
        "   if row['duration'] <= 10 :\n",
        "      return 'Short Course Duration'\n",
        "   if row['duration'] > 10 and row['duration'] <= 35 :\n",
        "      return 'Medium Course  Duration'\n",
        "   if row['duration'] >35 and row['duration'] <=70 :\n",
        "      return 'Long Course Duration'\n",
        "   if row['duration'] >70  :\n",
        "      return 'Very Long Course Duration'"
      ],
      "metadata": {
        "id": "BdUy517IBI_K"
      },
      "execution_count": null,
      "outputs": []
    },
    {
      "cell_type": "code",
      "source": [
        "coursedata['duration_label'] = coursedata.apply (lambda row: label_race(row), axis=1)"
      ],
      "metadata": {
        "id": "4rv4zZuTBSg_"
      },
      "execution_count": null,
      "outputs": []
    },
    {
      "cell_type": "code",
      "source": [
        "coursedata[\"duration_label\"].value_counts()"
      ],
      "metadata": {
        "colab": {
          "base_uri": "https://localhost:8080/"
        },
        "id": "6_PzqQitBa26",
        "outputId": "a74e1601-b148-4522-fc31-258642aec248"
      },
      "execution_count": null,
      "outputs": [
        {
          "output_type": "execute_result",
          "data": {
            "text/plain": [
              "Medium Course  Duration      4418\n",
              "Short Course Duration        1949\n",
              "Long Course Duration          246\n",
              "Very Long Course Duration      23\n",
              "Name: duration_label, dtype: int64"
            ]
          },
          "metadata": {},
          "execution_count": 30
        }
      ]
    },
    {
      "cell_type": "code",
      "source": [
        "coursedata.info()"
      ],
      "metadata": {
        "colab": {
          "base_uri": "https://localhost:8080/"
        },
        "id": "703laNEWBed5",
        "outputId": "4a5ee1c3-ef79-4e45-cb1e-e76b88df3ad4"
      },
      "execution_count": null,
      "outputs": [
        {
          "output_type": "stream",
          "name": "stdout",
          "text": [
            "<class 'pandas.core.frame.DataFrame'>\n",
            "RangeIndex: 6636 entries, 0 to 6635\n",
            "Data columns (total 13 columns):\n",
            " #   Column                  Non-Null Count  Dtype \n",
            "---  ------                  --------------  ----- \n",
            " 0   course_title            6134 non-null   object\n",
            " 1   difficulty_level        6636 non-null   object\n",
            " 2   duration                6636 non-null   int64 \n",
            " 3   skills                  6636 non-null   object\n",
            " 4   instructors             6636 non-null   object\n",
            " 5   description             6635 non-null   object\n",
            " 6   rating                  4651 non-null   object\n",
            " 7   offered_by              6636 non-null   object\n",
            " 8   language                6636 non-null   object\n",
            " 9   syllabus_heading        6636 non-null   object\n",
            " 10  syllabus_details        6636 non-null   object\n",
            " 11  numeric_difficulty_lvl  6636 non-null   int64 \n",
            " 12  duration_label          6636 non-null   object\n",
            "dtypes: int64(2), object(11)\n",
            "memory usage: 674.1+ KB\n"
          ]
        }
      ]
    },
    {
      "cell_type": "code",
      "source": [
        "coursedata.head()"
      ],
      "metadata": {
        "colab": {
          "base_uri": "https://localhost:8080/",
          "height": 634
        },
        "id": "54zIl1jYBghG",
        "outputId": "3fb8f00e-7775-4e69-ecbf-c288f21216c8"
      },
      "execution_count": null,
      "outputs": [
        {
          "output_type": "execute_result",
          "data": {
            "text/plain": [
              "                                      course_title difficulty_level  duration                                             skills                       instructors                                        description      rating                                  offered_by language                                   syllabus_heading                                   syllabus_details  numeric_difficulty_lvl           duration_label\n",
              "0                 Cloud Computing Concepts, Part 1   Beginner Level        23  ['Distributed Algorithm', 'Distributed Computi...                ['Indranil Gupta']  Cloud computing systems today, whether open-so...  4.4\\nstars  University of Illinois at Urbana-Champaign  English  ['Week 1: Orientation, Introduction to Clouds,...  ['This course is oriented towards learners wit...                       1  Medium Course  Duration\n",
              "1                  The Challenges of Global Health   Beginner Level        20                                                 []                ['Dr. David Boyd']  What are the world’s major health challenges? ...  4.8\\nstars                             Duke University  English  ['Getting Started', 'Basic Concepts in Global ...  ['Start here! ', 'This module covers some of t...                       1  Medium Course  Duration\n",
              "2            Digital Marketing Analytics in Theory   Beginner Level        20  ['Digital Marketing', 'Data Collection', 'Anal...                 ['Kevin Hartman']  Successfully marketing brands today requires a...  4.5\\nstars  University of Illinois at Urbana-Champaign  English  ['Course Overview and The Day The Geeks Took O...  ['In the orientation, you will become familiar...                       1  Medium Course  Duration\n",
              "3  Digital Product Management: Modern Fundamentals   Beginner Level        11  ['Product/Market Fit', 'Product Management', '...                    ['Alex Cowan']  Not so long ago, the job of product manager wa...  4.7\\nstars                      University of Virginia  English  ['Achieving Focus and #Winning', \"Using Today'...  ['As a product manager, you and your team will...                       1  Medium Course  Duration\n",
              "4                             The Nature of Genius   Beginner Level        28  ['Creativity', 'Art', 'History', 'Psychology',...  ['Craig Wright\\nTOP INSTRUCTOR']  Today \"genius\" is all around us. Celebrities, ...         NaN                             Yale University  English  ['Genius Defined,   Genius Denied ,  Genius an...  ['In Section 1 of Module 1 we determine, jokin...                       1  Medium Course  Duration"
            ],
            "text/html": [
              "\n",
              "  <div id=\"df-40441da8-cb61-4622-b531-a07a3c05b106\">\n",
              "    <div class=\"colab-df-container\">\n",
              "      <div>\n",
              "<style scoped>\n",
              "    .dataframe tbody tr th:only-of-type {\n",
              "        vertical-align: middle;\n",
              "    }\n",
              "\n",
              "    .dataframe tbody tr th {\n",
              "        vertical-align: top;\n",
              "    }\n",
              "\n",
              "    .dataframe thead th {\n",
              "        text-align: right;\n",
              "    }\n",
              "</style>\n",
              "<table border=\"1\" class=\"dataframe\">\n",
              "  <thead>\n",
              "    <tr style=\"text-align: right;\">\n",
              "      <th></th>\n",
              "      <th>course_title</th>\n",
              "      <th>difficulty_level</th>\n",
              "      <th>duration</th>\n",
              "      <th>skills</th>\n",
              "      <th>instructors</th>\n",
              "      <th>description</th>\n",
              "      <th>rating</th>\n",
              "      <th>offered_by</th>\n",
              "      <th>language</th>\n",
              "      <th>syllabus_heading</th>\n",
              "      <th>syllabus_details</th>\n",
              "      <th>numeric_difficulty_lvl</th>\n",
              "      <th>duration_label</th>\n",
              "    </tr>\n",
              "  </thead>\n",
              "  <tbody>\n",
              "    <tr>\n",
              "      <th>0</th>\n",
              "      <td>Cloud Computing Concepts, Part 1</td>\n",
              "      <td>Beginner Level</td>\n",
              "      <td>23</td>\n",
              "      <td>['Distributed Algorithm', 'Distributed Computi...</td>\n",
              "      <td>['Indranil Gupta']</td>\n",
              "      <td>Cloud computing systems today, whether open-so...</td>\n",
              "      <td>4.4\\nstars</td>\n",
              "      <td>University of Illinois at Urbana-Champaign</td>\n",
              "      <td>English</td>\n",
              "      <td>['Week 1: Orientation, Introduction to Clouds,...</td>\n",
              "      <td>['This course is oriented towards learners wit...</td>\n",
              "      <td>1</td>\n",
              "      <td>Medium Course  Duration</td>\n",
              "    </tr>\n",
              "    <tr>\n",
              "      <th>1</th>\n",
              "      <td>The Challenges of Global Health</td>\n",
              "      <td>Beginner Level</td>\n",
              "      <td>20</td>\n",
              "      <td>[]</td>\n",
              "      <td>['Dr. David Boyd']</td>\n",
              "      <td>What are the world’s major health challenges? ...</td>\n",
              "      <td>4.8\\nstars</td>\n",
              "      <td>Duke University</td>\n",
              "      <td>English</td>\n",
              "      <td>['Getting Started', 'Basic Concepts in Global ...</td>\n",
              "      <td>['Start here! ', 'This module covers some of t...</td>\n",
              "      <td>1</td>\n",
              "      <td>Medium Course  Duration</td>\n",
              "    </tr>\n",
              "    <tr>\n",
              "      <th>2</th>\n",
              "      <td>Digital Marketing Analytics in Theory</td>\n",
              "      <td>Beginner Level</td>\n",
              "      <td>20</td>\n",
              "      <td>['Digital Marketing', 'Data Collection', 'Anal...</td>\n",
              "      <td>['Kevin Hartman']</td>\n",
              "      <td>Successfully marketing brands today requires a...</td>\n",
              "      <td>4.5\\nstars</td>\n",
              "      <td>University of Illinois at Urbana-Champaign</td>\n",
              "      <td>English</td>\n",
              "      <td>['Course Overview and The Day The Geeks Took O...</td>\n",
              "      <td>['In the orientation, you will become familiar...</td>\n",
              "      <td>1</td>\n",
              "      <td>Medium Course  Duration</td>\n",
              "    </tr>\n",
              "    <tr>\n",
              "      <th>3</th>\n",
              "      <td>Digital Product Management: Modern Fundamentals</td>\n",
              "      <td>Beginner Level</td>\n",
              "      <td>11</td>\n",
              "      <td>['Product/Market Fit', 'Product Management', '...</td>\n",
              "      <td>['Alex Cowan']</td>\n",
              "      <td>Not so long ago, the job of product manager wa...</td>\n",
              "      <td>4.7\\nstars</td>\n",
              "      <td>University of Virginia</td>\n",
              "      <td>English</td>\n",
              "      <td>['Achieving Focus and #Winning', \"Using Today'...</td>\n",
              "      <td>['As a product manager, you and your team will...</td>\n",
              "      <td>1</td>\n",
              "      <td>Medium Course  Duration</td>\n",
              "    </tr>\n",
              "    <tr>\n",
              "      <th>4</th>\n",
              "      <td>The Nature of Genius</td>\n",
              "      <td>Beginner Level</td>\n",
              "      <td>28</td>\n",
              "      <td>['Creativity', 'Art', 'History', 'Psychology',...</td>\n",
              "      <td>['Craig Wright\\nTOP INSTRUCTOR']</td>\n",
              "      <td>Today \"genius\" is all around us. Celebrities, ...</td>\n",
              "      <td>NaN</td>\n",
              "      <td>Yale University</td>\n",
              "      <td>English</td>\n",
              "      <td>['Genius Defined,   Genius Denied ,  Genius an...</td>\n",
              "      <td>['In Section 1 of Module 1 we determine, jokin...</td>\n",
              "      <td>1</td>\n",
              "      <td>Medium Course  Duration</td>\n",
              "    </tr>\n",
              "  </tbody>\n",
              "</table>\n",
              "</div>\n",
              "      <button class=\"colab-df-convert\" onclick=\"convertToInteractive('df-40441da8-cb61-4622-b531-a07a3c05b106')\"\n",
              "              title=\"Convert this dataframe to an interactive table.\"\n",
              "              style=\"display:none;\">\n",
              "        \n",
              "  <svg xmlns=\"http://www.w3.org/2000/svg\" height=\"24px\"viewBox=\"0 0 24 24\"\n",
              "       width=\"24px\">\n",
              "    <path d=\"M0 0h24v24H0V0z\" fill=\"none\"/>\n",
              "    <path d=\"M18.56 5.44l.94 2.06.94-2.06 2.06-.94-2.06-.94-.94-2.06-.94 2.06-2.06.94zm-11 1L8.5 8.5l.94-2.06 2.06-.94-2.06-.94L8.5 2.5l-.94 2.06-2.06.94zm10 10l.94 2.06.94-2.06 2.06-.94-2.06-.94-.94-2.06-.94 2.06-2.06.94z\"/><path d=\"M17.41 7.96l-1.37-1.37c-.4-.4-.92-.59-1.43-.59-.52 0-1.04.2-1.43.59L10.3 9.45l-7.72 7.72c-.78.78-.78 2.05 0 2.83L4 21.41c.39.39.9.59 1.41.59.51 0 1.02-.2 1.41-.59l7.78-7.78 2.81-2.81c.8-.78.8-2.07 0-2.86zM5.41 20L4 18.59l7.72-7.72 1.47 1.35L5.41 20z\"/>\n",
              "  </svg>\n",
              "      </button>\n",
              "      \n",
              "  <style>\n",
              "    .colab-df-container {\n",
              "      display:flex;\n",
              "      flex-wrap:wrap;\n",
              "      gap: 12px;\n",
              "    }\n",
              "\n",
              "    .colab-df-convert {\n",
              "      background-color: #E8F0FE;\n",
              "      border: none;\n",
              "      border-radius: 50%;\n",
              "      cursor: pointer;\n",
              "      display: none;\n",
              "      fill: #1967D2;\n",
              "      height: 32px;\n",
              "      padding: 0 0 0 0;\n",
              "      width: 32px;\n",
              "    }\n",
              "\n",
              "    .colab-df-convert:hover {\n",
              "      background-color: #E2EBFA;\n",
              "      box-shadow: 0px 1px 2px rgba(60, 64, 67, 0.3), 0px 1px 3px 1px rgba(60, 64, 67, 0.15);\n",
              "      fill: #174EA6;\n",
              "    }\n",
              "\n",
              "    [theme=dark] .colab-df-convert {\n",
              "      background-color: #3B4455;\n",
              "      fill: #D2E3FC;\n",
              "    }\n",
              "\n",
              "    [theme=dark] .colab-df-convert:hover {\n",
              "      background-color: #434B5C;\n",
              "      box-shadow: 0px 1px 3px 1px rgba(0, 0, 0, 0.15);\n",
              "      filter: drop-shadow(0px 1px 2px rgba(0, 0, 0, 0.3));\n",
              "      fill: #FFFFFF;\n",
              "    }\n",
              "  </style>\n",
              "\n",
              "      <script>\n",
              "        const buttonEl =\n",
              "          document.querySelector('#df-40441da8-cb61-4622-b531-a07a3c05b106 button.colab-df-convert');\n",
              "        buttonEl.style.display =\n",
              "          google.colab.kernel.accessAllowed ? 'block' : 'none';\n",
              "\n",
              "        async function convertToInteractive(key) {\n",
              "          const element = document.querySelector('#df-40441da8-cb61-4622-b531-a07a3c05b106');\n",
              "          const dataTable =\n",
              "            await google.colab.kernel.invokeFunction('convertToInteractive',\n",
              "                                                     [key], {});\n",
              "          if (!dataTable) return;\n",
              "\n",
              "          const docLinkHtml = 'Like what you see? Visit the ' +\n",
              "            '<a target=\"_blank\" href=https://colab.research.google.com/notebooks/data_table.ipynb>data table notebook</a>'\n",
              "            + ' to learn more about interactive tables.';\n",
              "          element.innerHTML = '';\n",
              "          dataTable['output_type'] = 'display_data';\n",
              "          await google.colab.output.renderOutput(dataTable, element);\n",
              "          const docLink = document.createElement('div');\n",
              "          docLink.innerHTML = docLinkHtml;\n",
              "          element.appendChild(docLink);\n",
              "        }\n",
              "      </script>\n",
              "    </div>\n",
              "  </div>\n",
              "  "
            ]
          },
          "metadata": {},
          "execution_count": 32
        }
      ]
    },
    {
      "cell_type": "code",
      "source": [
        "import nltk\n",
        "nltk.download('words')"
      ],
      "metadata": {
        "colab": {
          "base_uri": "https://localhost:8080/"
        },
        "id": "lu2jt7EQMi6W",
        "outputId": "56afde84-30ae-4b0e-db86-272f4d4cf4f3"
      },
      "execution_count": null,
      "outputs": [
        {
          "output_type": "stream",
          "name": "stderr",
          "text": [
            "[nltk_data] Downloading package words to /root/nltk_data...\n",
            "[nltk_data]   Unzipping corpora/words.zip.\n"
          ]
        },
        {
          "output_type": "execute_result",
          "data": {
            "text/plain": [
              "True"
            ]
          },
          "metadata": {},
          "execution_count": 33
        }
      ]
    },
    {
      "cell_type": "code",
      "source": [
        "coursedata['combined_text'] = \" CaliRollB \" + coursedata[\"course_title\"] + \" CaliRollA \" + coursedata[\"difficulty_level\"] +  coursedata[\"skills\"] +  coursedata[\"instructors\"] +  \\\n",
        "                              coursedata[\"description\"] +  coursedata[\"offered_by\"] +  coursedata[\"language\"] +  coursedata[\"syllabus_heading\"] +  \\\n",
        "                              coursedata[\"syllabus_details\"] +  coursedata[\"duration_label\"]\n",
        "coursedata['combined_text'][0]"
      ],
      "metadata": {
        "colab": {
          "base_uri": "https://localhost:8080/",
          "height": 123
        },
        "id": "0P8k4bhvBifX",
        "outputId": "9a2f3a0c-ff43-40b0-8292-15b4e102a5ad"
      },
      "execution_count": null,
      "outputs": [
        {
          "output_type": "execute_result",
          "data": {
            "text/plain": [
              "' CaliRollB Cloud Computing Concepts, Part 1 CaliRollA Beginner Level[\\'Distributed Algorithm\\', \\'Distributed Computing\\', \\'C++\\', \\'Cloud Computing\\'][\\'Indranil Gupta\\']Cloud computing systems today, whether open-source or used inside companies, are built using a common set of core techniques, algorithms, and design philosophies – all centered around distributed systems. Learn about such fundamental distributed computing \"concepts\" for cloud computing. Some of these concepts include: clouds, MapReduce, key-value/NoSQL stores, classical distributed algorithms, widely-used distributed algorithms, scalability, trending areas, and much, much more! \\n \\nKnow how these systems work from the inside out. Get your hands dirty using these concepts with provided homework exercises. In the programming assignments, implement some of these concepts in template code (programs) provided in the C++ programming language. Prior experience with C++ is required.\\n \\nThe course also features interviews with leading researchers and managers, from both industry and academia. The University of Illinois at Urbana-Champaign is a world leader in research, teaching and public engagement, distinguished by the breadth of its programs, broad academic excellence, and internationally renowned faculty and alumni. Illinois serves the world by creating knowledge, preparing students for lives of impact, and finding solutions to critical societal needs. This course is oriented towards learners with similar backgrounds as juniors and seniors in a CS undergraduate curriculum. Since learners come from various backgrounds, it is critical you view this lecture AND pass the prerequisite test. This will ensure you have many of the assumed prerequisite pieces of knowledge required to enjoy this course. Lesson 1: This module teaches how the multicast problem is solved by using epidemic/gossip protocols. It also teaches analysis of such protocols. Lesson 2: This module covers the design of failure detectors, a key component in any distributed system. Membership protocols, which use failure detectors as components, are also covered. Lesson 3: This module covers Grid computing, an important precursor to cloud computing. P2P systems: This module teaches the detailed design of two classes of peer to peer systems: (a) popular ones including Napster, Gnutella, FastTrack, and BitTorrent; and (b) efficient ones including distributed hash tables (Chord, Pastry, and Kelips). Besides focusing on design, the module also analyzes these systems in detail. Lesson 1: This module motivates and teaches the design of key-value/NoSQL storage/database systems. We cover the design of two major industry systems: Apache Cassandra and HBase. We also cover the famous CAP theorem. Lesson 2: Distributed systems are asynchronous, which makes clocks at different machines hard to synchronize. This module first covers various clock synchronization algorithms, and then covers ways of tagging events with causal timestamps that avoid synchronizing clocks. These classical algorithms were invented decades ago, yet are used widely in today’s cloud systems.  The Cloud Computing Specialization takes you on a tour through cloud computing systems. We start in in the middle layer with Cloud Computing Concepts covering core distributed systems concepts used inside clouds, move to the upper layer of Cloud Applications and finally to the lower layer of Cloud Networking. We conclude with a project that allows you to apply the skills you\\'ve learned throughout the courses. University of Illinois at Urbana-ChampaignEnglish[\\'Week 1: Orientation, Introduction to Clouds, MapReduce \\', \\'Week 2: Gossip, Membership, and Grids\\', \\'Week 3: P2P Systems\\', \\'Week 4: Key-Value Stores, Time, and Ordering\\', \\'Week 5: Classical Distributed Algorithms\\'][\\'This course is oriented towards learners with similar backgrounds as juniors and seniors in a CS undergraduate curriculum. Since learners come from various backgrounds, it is critical you view this lecture AND pass the prerequisite test. This will ensure you have many of the assumed prerequisite pieces of knowledge required to enjoy this course. \\', \\'Lesson 1: This module teaches how the multicast problem is solved by using epidemic/gossip protocols. It also teaches analysis of such protocols. Lesson 2: This module covers the design of failure detectors, a key component in any distributed system. Membership protocols, which use failure detectors as components, are also covered. Lesson 3: This module covers Grid computing, an important precursor to cloud computing.\\', \\'P2P systems: This module teaches the detailed design of two classes of peer to peer systems: (a) popular ones including Napster, Gnutella, FastTrack, and BitTorrent; and (b) efficient ones including distributed hash tables (Chord, Pastry, and Kelips). Besides focusing on design, the module also analyzes these systems in detail.\\', \\'Lesson 1: This module motivates and teaches the design of key-value/NoSQL storage/database systems. We cover the design of two major industry systems: Apache Cassandra and HBase. We also cover the famous CAP theorem.  Lesson 2: Distributed systems are asynchronous, which makes clocks at different machines hard to synchronize. This module first covers various clock synchronization algorithms, and then covers ways of tagging events with causal timestamps that avoid synchronizing clocks. These classical algorithms were invented decades ago, yet are used widely in today’s cloud systems.\\', \\'Lesson 1: This module covers how to calculate a distributed snapshot, leveraging causality again to circumvent the synchronization problem. Lesson 2: This lecture teaches how to order multicasts in any distributed system. Algorithms for assigning timestamp tags to multicasts using various flavors of ordering – FIFO, Causal, and Total – are covered. The module also covers virtual synchrony, a paradigm that combines reliable multicasts with membership views.  Lesson 3: Consensus is one of the most important problems in a distributed system, enabling multiple machines to agree. This module uses Paxos, one of the most popular consensus solutions used in the industry today. Paxos is not perfect because consensus cannot be solved completely – an optional lecture presents the famous FLP proof of impossibility of consensus. \\']Medium Course  Duration'"
            ],
            "application/vnd.google.colaboratory.intrinsic+json": {
              "type": "string"
            }
          },
          "metadata": {},
          "execution_count": 34
        }
      ]
    },
    {
      "cell_type": "code",
      "source": [
        "coursedata['combined_text'][0]"
      ],
      "metadata": {
        "colab": {
          "base_uri": "https://localhost:8080/",
          "height": 123
        },
        "id": "ntaOOzTyKBcX",
        "outputId": "db2c598a-5e2a-4786-d053-2ba2ee0546d1"
      },
      "execution_count": null,
      "outputs": [
        {
          "output_type": "execute_result",
          "data": {
            "text/plain": [
              "' CaliRollB Cloud Computing Concepts, Part 1 CaliRollA Beginner Level[\\'Distributed Algorithm\\', \\'Distributed Computing\\', \\'C++\\', \\'Cloud Computing\\'][\\'Indranil Gupta\\']Cloud computing systems today, whether open-source or used inside companies, are built using a common set of core techniques, algorithms, and design philosophies – all centered around distributed systems. Learn about such fundamental distributed computing \"concepts\" for cloud computing. Some of these concepts include: clouds, MapReduce, key-value/NoSQL stores, classical distributed algorithms, widely-used distributed algorithms, scalability, trending areas, and much, much more! \\n \\nKnow how these systems work from the inside out. Get your hands dirty using these concepts with provided homework exercises. In the programming assignments, implement some of these concepts in template code (programs) provided in the C++ programming language. Prior experience with C++ is required.\\n \\nThe course also features interviews with leading researchers and managers, from both industry and academia. The University of Illinois at Urbana-Champaign is a world leader in research, teaching and public engagement, distinguished by the breadth of its programs, broad academic excellence, and internationally renowned faculty and alumni. Illinois serves the world by creating knowledge, preparing students for lives of impact, and finding solutions to critical societal needs. This course is oriented towards learners with similar backgrounds as juniors and seniors in a CS undergraduate curriculum. Since learners come from various backgrounds, it is critical you view this lecture AND pass the prerequisite test. This will ensure you have many of the assumed prerequisite pieces of knowledge required to enjoy this course. Lesson 1: This module teaches how the multicast problem is solved by using epidemic/gossip protocols. It also teaches analysis of such protocols. Lesson 2: This module covers the design of failure detectors, a key component in any distributed system. Membership protocols, which use failure detectors as components, are also covered. Lesson 3: This module covers Grid computing, an important precursor to cloud computing. P2P systems: This module teaches the detailed design of two classes of peer to peer systems: (a) popular ones including Napster, Gnutella, FastTrack, and BitTorrent; and (b) efficient ones including distributed hash tables (Chord, Pastry, and Kelips). Besides focusing on design, the module also analyzes these systems in detail. Lesson 1: This module motivates and teaches the design of key-value/NoSQL storage/database systems. We cover the design of two major industry systems: Apache Cassandra and HBase. We also cover the famous CAP theorem. Lesson 2: Distributed systems are asynchronous, which makes clocks at different machines hard to synchronize. This module first covers various clock synchronization algorithms, and then covers ways of tagging events with causal timestamps that avoid synchronizing clocks. These classical algorithms were invented decades ago, yet are used widely in today’s cloud systems.  The Cloud Computing Specialization takes you on a tour through cloud computing systems. We start in in the middle layer with Cloud Computing Concepts covering core distributed systems concepts used inside clouds, move to the upper layer of Cloud Applications and finally to the lower layer of Cloud Networking. We conclude with a project that allows you to apply the skills you\\'ve learned throughout the courses. University of Illinois at Urbana-ChampaignEnglish[\\'Week 1: Orientation, Introduction to Clouds, MapReduce \\', \\'Week 2: Gossip, Membership, and Grids\\', \\'Week 3: P2P Systems\\', \\'Week 4: Key-Value Stores, Time, and Ordering\\', \\'Week 5: Classical Distributed Algorithms\\'][\\'This course is oriented towards learners with similar backgrounds as juniors and seniors in a CS undergraduate curriculum. Since learners come from various backgrounds, it is critical you view this lecture AND pass the prerequisite test. This will ensure you have many of the assumed prerequisite pieces of knowledge required to enjoy this course. \\', \\'Lesson 1: This module teaches how the multicast problem is solved by using epidemic/gossip protocols. It also teaches analysis of such protocols. Lesson 2: This module covers the design of failure detectors, a key component in any distributed system. Membership protocols, which use failure detectors as components, are also covered. Lesson 3: This module covers Grid computing, an important precursor to cloud computing.\\', \\'P2P systems: This module teaches the detailed design of two classes of peer to peer systems: (a) popular ones including Napster, Gnutella, FastTrack, and BitTorrent; and (b) efficient ones including distributed hash tables (Chord, Pastry, and Kelips). Besides focusing on design, the module also analyzes these systems in detail.\\', \\'Lesson 1: This module motivates and teaches the design of key-value/NoSQL storage/database systems. We cover the design of two major industry systems: Apache Cassandra and HBase. We also cover the famous CAP theorem.  Lesson 2: Distributed systems are asynchronous, which makes clocks at different machines hard to synchronize. This module first covers various clock synchronization algorithms, and then covers ways of tagging events with causal timestamps that avoid synchronizing clocks. These classical algorithms were invented decades ago, yet are used widely in today’s cloud systems.\\', \\'Lesson 1: This module covers how to calculate a distributed snapshot, leveraging causality again to circumvent the synchronization problem. Lesson 2: This lecture teaches how to order multicasts in any distributed system. Algorithms for assigning timestamp tags to multicasts using various flavors of ordering – FIFO, Causal, and Total – are covered. The module also covers virtual synchrony, a paradigm that combines reliable multicasts with membership views.  Lesson 3: Consensus is one of the most important problems in a distributed system, enabling multiple machines to agree. This module uses Paxos, one of the most popular consensus solutions used in the industry today. Paxos is not perfect because consensus cannot be solved completely – an optional lecture presents the famous FLP proof of impossibility of consensus. \\']Medium Course  Duration'"
            ],
            "application/vnd.google.colaboratory.intrinsic+json": {
              "type": "string"
            }
          },
          "metadata": {},
          "execution_count": 35
        }
      ]
    },
    {
      "cell_type": "markdown",
      "source": [
        "#Data Cleaning"
      ],
      "metadata": {
        "id": "FzxvMlIHSUN-"
      }
    },
    {
      "cell_type": "code",
      "source": [
        "#Importing Necessary Libraries for Text Processing\n",
        "import nltk\n",
        "from nltk.corpus import stopwords\n",
        "from nltk.stem.porter import PorterStemmer\n",
        "#from wordcloud import WordCloud,STOPWORDS\n",
        "from nltk.stem import WordNetLemmatizer\n",
        "from nltk.tokenize import word_tokenize\n",
        "import re,string\n",
        "from keras.preprocessing import text, sequence\n",
        "from sklearn.metrics import classification_report,confusion_matrix,accuracy_score\n",
        "from sklearn.model_selection import train_test_split\n",
        "from string import punctuation\n",
        "import keras\n",
        "from keras.models import Sequential\n",
        "import tensorflow as tf\n",
        "from tensorflow.keras.preprocessing.text import Tokenizer\n",
        "from tensorflow.keras.preprocessing.sequence import pad_sequences"
      ],
      "metadata": {
        "id": "5YQIisaiDpcP"
      },
      "execution_count": null,
      "outputs": []
    },
    {
      "cell_type": "code",
      "source": [
        "#Downloading Stopwords\n",
        "nltk.download('stopwords')"
      ],
      "metadata": {
        "colab": {
          "base_uri": "https://localhost:8080/"
        },
        "id": "b565dRCTFKZa",
        "outputId": "06690c04-e070-45ab-b7c4-d006ee3c8c41"
      },
      "execution_count": null,
      "outputs": [
        {
          "output_type": "stream",
          "name": "stderr",
          "text": [
            "[nltk_data] Downloading package stopwords to /root/nltk_data...\n",
            "[nltk_data]   Unzipping corpora/stopwords.zip.\n"
          ]
        },
        {
          "output_type": "execute_result",
          "data": {
            "text/plain": [
              "True"
            ]
          },
          "metadata": {},
          "execution_count": 37
        }
      ]
    },
    {
      "cell_type": "code",
      "source": [
        "#Load English Stop Words\n",
        "stopword = stopwords.words('english')\n",
        "print(\"Stopwords:\",stopword)"
      ],
      "metadata": {
        "colab": {
          "base_uri": "https://localhost:8080/"
        },
        "id": "68rvEog5FOt5",
        "outputId": "8995b7c1-eb20-4396-df46-3a229d937d2e"
      },
      "execution_count": null,
      "outputs": [
        {
          "output_type": "stream",
          "name": "stdout",
          "text": [
            "Stopwords: ['i', 'me', 'my', 'myself', 'we', 'our', 'ours', 'ourselves', 'you', \"you're\", \"you've\", \"you'll\", \"you'd\", 'your', 'yours', 'yourself', 'yourselves', 'he', 'him', 'his', 'himself', 'she', \"she's\", 'her', 'hers', 'herself', 'it', \"it's\", 'its', 'itself', 'they', 'them', 'their', 'theirs', 'themselves', 'what', 'which', 'who', 'whom', 'this', 'that', \"that'll\", 'these', 'those', 'am', 'is', 'are', 'was', 'were', 'be', 'been', 'being', 'have', 'has', 'had', 'having', 'do', 'does', 'did', 'doing', 'a', 'an', 'the', 'and', 'but', 'if', 'or', 'because', 'as', 'until', 'while', 'of', 'at', 'by', 'for', 'with', 'about', 'against', 'between', 'into', 'through', 'during', 'before', 'after', 'above', 'below', 'to', 'from', 'up', 'down', 'in', 'out', 'on', 'off', 'over', 'under', 'again', 'further', 'then', 'once', 'here', 'there', 'when', 'where', 'why', 'how', 'all', 'any', 'both', 'each', 'few', 'more', 'most', 'other', 'some', 'such', 'no', 'nor', 'not', 'only', 'own', 'same', 'so', 'than', 'too', 'very', 's', 't', 'can', 'will', 'just', 'don', \"don't\", 'should', \"should've\", 'now', 'd', 'll', 'm', 'o', 're', 've', 'y', 'ain', 'aren', \"aren't\", 'couldn', \"couldn't\", 'didn', \"didn't\", 'doesn', \"doesn't\", 'hadn', \"hadn't\", 'hasn', \"hasn't\", 'haven', \"haven't\", 'isn', \"isn't\", 'ma', 'mightn', \"mightn't\", 'mustn', \"mustn't\", 'needn', \"needn't\", 'shan', \"shan't\", 'shouldn', \"shouldn't\", 'wasn', \"wasn't\", 'weren', \"weren't\", 'won', \"won't\", 'wouldn', \"wouldn't\"]\n"
          ]
        }
      ]
    },
    {
      "cell_type": "code",
      "source": [
        "#Clean Function\n",
        "def clean_text(twee):\n",
        "    #Remove URL\n",
        "    twee = re.sub(r'https?://\\S+|www\\.\\S+', \" \", twee)\n",
        "\n",
        "    #Remove Mentions\n",
        "    twee = re.sub(r'@\\w+',' ',twee)\n",
        "\n",
        "    #Remove Punctuation\n",
        "    twee= re.sub(r'[^\\w\\s\\d\\$]',' ',twee)\n",
        "\n",
        "    #Remove Digits\n",
        "    twee = re.sub(r'\\d+', ' ', twee)\n",
        "\n",
        "    #Remove HTML tags\n",
        "    twee = re.sub('r<.*?>',' ', twee)\n",
        "\n",
        "    #Remove Hastags\n",
        "    twee = re.sub(r'#\\w+', ' ', twee)\n",
        "\n",
        "    #Remove Stop Words \n",
        "    twee = twee.split()\n",
        "    #twee = \" \".join(twee)\n",
        "    \n",
        "    twee = \" \".join([word for word in twee if not word in stopword])\n",
        "\n",
        "    return twee"
      ],
      "metadata": {
        "id": "6OgRNZbIFR-v"
      },
      "execution_count": null,
      "outputs": []
    },
    {
      "cell_type": "code",
      "source": [
        "#Applying Tweet Clean Function to Both Files\n",
        "coursedata['clean_combined_text'] = coursedata['combined_text'].astype(str).apply(lambda x: clean_text(x))"
      ],
      "metadata": {
        "id": "ZpxdxiWkFXJ2"
      },
      "execution_count": null,
      "outputs": []
    },
    {
      "cell_type": "code",
      "source": [
        "coursedata['combined_text'][0]"
      ],
      "metadata": {
        "colab": {
          "base_uri": "https://localhost:8080/",
          "height": 123
        },
        "id": "HnTIgp8fFnZb",
        "outputId": "72140a26-46fc-4af1-a2e0-84df2ef510a1"
      },
      "execution_count": null,
      "outputs": [
        {
          "output_type": "execute_result",
          "data": {
            "text/plain": [
              "' CaliRollB Cloud Computing Concepts, Part 1 CaliRollA Beginner Level[\\'Distributed Algorithm\\', \\'Distributed Computing\\', \\'C++\\', \\'Cloud Computing\\'][\\'Indranil Gupta\\']Cloud computing systems today, whether open-source or used inside companies, are built using a common set of core techniques, algorithms, and design philosophies – all centered around distributed systems. Learn about such fundamental distributed computing \"concepts\" for cloud computing. Some of these concepts include: clouds, MapReduce, key-value/NoSQL stores, classical distributed algorithms, widely-used distributed algorithms, scalability, trending areas, and much, much more! \\n \\nKnow how these systems work from the inside out. Get your hands dirty using these concepts with provided homework exercises. In the programming assignments, implement some of these concepts in template code (programs) provided in the C++ programming language. Prior experience with C++ is required.\\n \\nThe course also features interviews with leading researchers and managers, from both industry and academia. The University of Illinois at Urbana-Champaign is a world leader in research, teaching and public engagement, distinguished by the breadth of its programs, broad academic excellence, and internationally renowned faculty and alumni. Illinois serves the world by creating knowledge, preparing students for lives of impact, and finding solutions to critical societal needs. This course is oriented towards learners with similar backgrounds as juniors and seniors in a CS undergraduate curriculum. Since learners come from various backgrounds, it is critical you view this lecture AND pass the prerequisite test. This will ensure you have many of the assumed prerequisite pieces of knowledge required to enjoy this course. Lesson 1: This module teaches how the multicast problem is solved by using epidemic/gossip protocols. It also teaches analysis of such protocols. Lesson 2: This module covers the design of failure detectors, a key component in any distributed system. Membership protocols, which use failure detectors as components, are also covered. Lesson 3: This module covers Grid computing, an important precursor to cloud computing. P2P systems: This module teaches the detailed design of two classes of peer to peer systems: (a) popular ones including Napster, Gnutella, FastTrack, and BitTorrent; and (b) efficient ones including distributed hash tables (Chord, Pastry, and Kelips). Besides focusing on design, the module also analyzes these systems in detail. Lesson 1: This module motivates and teaches the design of key-value/NoSQL storage/database systems. We cover the design of two major industry systems: Apache Cassandra and HBase. We also cover the famous CAP theorem. Lesson 2: Distributed systems are asynchronous, which makes clocks at different machines hard to synchronize. This module first covers various clock synchronization algorithms, and then covers ways of tagging events with causal timestamps that avoid synchronizing clocks. These classical algorithms were invented decades ago, yet are used widely in today’s cloud systems.  The Cloud Computing Specialization takes you on a tour through cloud computing systems. We start in in the middle layer with Cloud Computing Concepts covering core distributed systems concepts used inside clouds, move to the upper layer of Cloud Applications and finally to the lower layer of Cloud Networking. We conclude with a project that allows you to apply the skills you\\'ve learned throughout the courses. University of Illinois at Urbana-ChampaignEnglish[\\'Week 1: Orientation, Introduction to Clouds, MapReduce \\', \\'Week 2: Gossip, Membership, and Grids\\', \\'Week 3: P2P Systems\\', \\'Week 4: Key-Value Stores, Time, and Ordering\\', \\'Week 5: Classical Distributed Algorithms\\'][\\'This course is oriented towards learners with similar backgrounds as juniors and seniors in a CS undergraduate curriculum. Since learners come from various backgrounds, it is critical you view this lecture AND pass the prerequisite test. This will ensure you have many of the assumed prerequisite pieces of knowledge required to enjoy this course. \\', \\'Lesson 1: This module teaches how the multicast problem is solved by using epidemic/gossip protocols. It also teaches analysis of such protocols. Lesson 2: This module covers the design of failure detectors, a key component in any distributed system. Membership protocols, which use failure detectors as components, are also covered. Lesson 3: This module covers Grid computing, an important precursor to cloud computing.\\', \\'P2P systems: This module teaches the detailed design of two classes of peer to peer systems: (a) popular ones including Napster, Gnutella, FastTrack, and BitTorrent; and (b) efficient ones including distributed hash tables (Chord, Pastry, and Kelips). Besides focusing on design, the module also analyzes these systems in detail.\\', \\'Lesson 1: This module motivates and teaches the design of key-value/NoSQL storage/database systems. We cover the design of two major industry systems: Apache Cassandra and HBase. We also cover the famous CAP theorem.  Lesson 2: Distributed systems are asynchronous, which makes clocks at different machines hard to synchronize. This module first covers various clock synchronization algorithms, and then covers ways of tagging events with causal timestamps that avoid synchronizing clocks. These classical algorithms were invented decades ago, yet are used widely in today’s cloud systems.\\', \\'Lesson 1: This module covers how to calculate a distributed snapshot, leveraging causality again to circumvent the synchronization problem. Lesson 2: This lecture teaches how to order multicasts in any distributed system. Algorithms for assigning timestamp tags to multicasts using various flavors of ordering – FIFO, Causal, and Total – are covered. The module also covers virtual synchrony, a paradigm that combines reliable multicasts with membership views.  Lesson 3: Consensus is one of the most important problems in a distributed system, enabling multiple machines to agree. This module uses Paxos, one of the most popular consensus solutions used in the industry today. Paxos is not perfect because consensus cannot be solved completely – an optional lecture presents the famous FLP proof of impossibility of consensus. \\']Medium Course  Duration'"
            ],
            "application/vnd.google.colaboratory.intrinsic+json": {
              "type": "string"
            }
          },
          "metadata": {},
          "execution_count": 41
        }
      ]
    },
    {
      "cell_type": "code",
      "source": [
        "coursedata['clean_combined_text'][0]"
      ],
      "metadata": {
        "colab": {
          "base_uri": "https://localhost:8080/",
          "height": 123
        },
        "id": "oNnI70_vGD2M",
        "outputId": "173a227f-9646-48a2-c026-e50abbc94768"
      },
      "execution_count": null,
      "outputs": [
        {
          "output_type": "execute_result",
          "data": {
            "text/plain": [
              "'CaliRollB Cloud Computing Concepts Part CaliRollA Beginner Level Distributed Algorithm Distributed Computing C Cloud Computing Indranil Gupta Cloud computing systems today whether open source used inside companies built using common set core techniques algorithms design philosophies centered around distributed systems Learn fundamental distributed computing concepts cloud computing Some concepts include clouds MapReduce key value NoSQL stores classical distributed algorithms widely used distributed algorithms scalability trending areas much much Know systems work inside Get hands dirty using concepts provided homework exercises In programming assignments implement concepts template code programs provided C programming language Prior experience C required The course also features interviews leading researchers managers industry academia The University Illinois Urbana Champaign world leader research teaching public engagement distinguished breadth programs broad academic excellence internationally renowned faculty alumni Illinois serves world creating knowledge preparing students lives impact finding solutions critical societal needs This course oriented towards learners similar backgrounds juniors seniors CS undergraduate curriculum Since learners come various backgrounds critical view lecture AND pass prerequisite test This ensure many assumed prerequisite pieces knowledge required enjoy course Lesson This module teaches multicast problem solved using epidemic gossip protocols It also teaches analysis protocols Lesson This module covers design failure detectors key component distributed system Membership protocols use failure detectors components also covered Lesson This module covers Grid computing important precursor cloud computing P P systems This module teaches detailed design two classes peer peer systems popular ones including Napster Gnutella FastTrack BitTorrent b efficient ones including distributed hash tables Chord Pastry Kelips Besides focusing design module also analyzes systems detail Lesson This module motivates teaches design key value NoSQL storage database systems We cover design two major industry systems Apache Cassandra HBase We also cover famous CAP theorem Lesson Distributed systems asynchronous makes clocks different machines hard synchronize This module first covers various clock synchronization algorithms covers ways tagging events causal timestamps avoid synchronizing clocks These classical algorithms invented decades ago yet used widely today cloud systems The Cloud Computing Specialization takes tour cloud computing systems We start middle layer Cloud Computing Concepts covering core distributed systems concepts used inside clouds move upper layer Cloud Applications finally lower layer Cloud Networking We conclude project allows apply skills learned throughout courses University Illinois Urbana ChampaignEnglish Week Orientation Introduction Clouds MapReduce Week Gossip Membership Grids Week P P Systems Week Key Value Stores Time Ordering Week Classical Distributed Algorithms This course oriented towards learners similar backgrounds juniors seniors CS undergraduate curriculum Since learners come various backgrounds critical view lecture AND pass prerequisite test This ensure many assumed prerequisite pieces knowledge required enjoy course Lesson This module teaches multicast problem solved using epidemic gossip protocols It also teaches analysis protocols Lesson This module covers design failure detectors key component distributed system Membership protocols use failure detectors components also covered Lesson This module covers Grid computing important precursor cloud computing P P systems This module teaches detailed design two classes peer peer systems popular ones including Napster Gnutella FastTrack BitTorrent b efficient ones including distributed hash tables Chord Pastry Kelips Besides focusing design module also analyzes systems detail Lesson This module motivates teaches design key value NoSQL storage database systems We cover design two major industry systems Apache Cassandra HBase We also cover famous CAP theorem Lesson Distributed systems asynchronous makes clocks different machines hard synchronize This module first covers various clock synchronization algorithms covers ways tagging events causal timestamps avoid synchronizing clocks These classical algorithms invented decades ago yet used widely today cloud systems Lesson This module covers calculate distributed snapshot leveraging causality circumvent synchronization problem Lesson This lecture teaches order multicasts distributed system Algorithms assigning timestamp tags multicasts using various flavors ordering FIFO Causal Total covered The module also covers virtual synchrony paradigm combines reliable multicasts membership views Lesson Consensus one important problems distributed system enabling multiple machines agree This module uses Paxos one popular consensus solutions used industry today Paxos perfect consensus cannot solved completely optional lecture presents famous FLP proof impossibility consensus Medium Course Duration'"
            ],
            "application/vnd.google.colaboratory.intrinsic+json": {
              "type": "string"
            }
          },
          "metadata": {},
          "execution_count": 42
        }
      ]
    },
    {
      "cell_type": "code",
      "source": [
        "coursedata2 = coursedata[coursedata.clean_combined_text.map(lambda x: x.isascii())]"
      ],
      "metadata": {
        "id": "mXUoKuM4HGf7"
      },
      "execution_count": null,
      "outputs": []
    },
    {
      "cell_type": "code",
      "source": [
        "coursedata2['clean_combined_text'][0]"
      ],
      "metadata": {
        "id": "q-pQMrUiGHDZ",
        "colab": {
          "base_uri": "https://localhost:8080/",
          "height": 123
        },
        "outputId": "19d46c85-48ff-4bdf-959b-1c677c97b684"
      },
      "execution_count": null,
      "outputs": [
        {
          "output_type": "execute_result",
          "data": {
            "text/plain": [
              "'CaliRollB Cloud Computing Concepts Part CaliRollA Beginner Level Distributed Algorithm Distributed Computing C Cloud Computing Indranil Gupta Cloud computing systems today whether open source used inside companies built using common set core techniques algorithms design philosophies centered around distributed systems Learn fundamental distributed computing concepts cloud computing Some concepts include clouds MapReduce key value NoSQL stores classical distributed algorithms widely used distributed algorithms scalability trending areas much much Know systems work inside Get hands dirty using concepts provided homework exercises In programming assignments implement concepts template code programs provided C programming language Prior experience C required The course also features interviews leading researchers managers industry academia The University Illinois Urbana Champaign world leader research teaching public engagement distinguished breadth programs broad academic excellence internationally renowned faculty alumni Illinois serves world creating knowledge preparing students lives impact finding solutions critical societal needs This course oriented towards learners similar backgrounds juniors seniors CS undergraduate curriculum Since learners come various backgrounds critical view lecture AND pass prerequisite test This ensure many assumed prerequisite pieces knowledge required enjoy course Lesson This module teaches multicast problem solved using epidemic gossip protocols It also teaches analysis protocols Lesson This module covers design failure detectors key component distributed system Membership protocols use failure detectors components also covered Lesson This module covers Grid computing important precursor cloud computing P P systems This module teaches detailed design two classes peer peer systems popular ones including Napster Gnutella FastTrack BitTorrent b efficient ones including distributed hash tables Chord Pastry Kelips Besides focusing design module also analyzes systems detail Lesson This module motivates teaches design key value NoSQL storage database systems We cover design two major industry systems Apache Cassandra HBase We also cover famous CAP theorem Lesson Distributed systems asynchronous makes clocks different machines hard synchronize This module first covers various clock synchronization algorithms covers ways tagging events causal timestamps avoid synchronizing clocks These classical algorithms invented decades ago yet used widely today cloud systems The Cloud Computing Specialization takes tour cloud computing systems We start middle layer Cloud Computing Concepts covering core distributed systems concepts used inside clouds move upper layer Cloud Applications finally lower layer Cloud Networking We conclude project allows apply skills learned throughout courses University Illinois Urbana ChampaignEnglish Week Orientation Introduction Clouds MapReduce Week Gossip Membership Grids Week P P Systems Week Key Value Stores Time Ordering Week Classical Distributed Algorithms This course oriented towards learners similar backgrounds juniors seniors CS undergraduate curriculum Since learners come various backgrounds critical view lecture AND pass prerequisite test This ensure many assumed prerequisite pieces knowledge required enjoy course Lesson This module teaches multicast problem solved using epidemic gossip protocols It also teaches analysis protocols Lesson This module covers design failure detectors key component distributed system Membership protocols use failure detectors components also covered Lesson This module covers Grid computing important precursor cloud computing P P systems This module teaches detailed design two classes peer peer systems popular ones including Napster Gnutella FastTrack BitTorrent b efficient ones including distributed hash tables Chord Pastry Kelips Besides focusing design module also analyzes systems detail Lesson This module motivates teaches design key value NoSQL storage database systems We cover design two major industry systems Apache Cassandra HBase We also cover famous CAP theorem Lesson Distributed systems asynchronous makes clocks different machines hard synchronize This module first covers various clock synchronization algorithms covers ways tagging events causal timestamps avoid synchronizing clocks These classical algorithms invented decades ago yet used widely today cloud systems Lesson This module covers calculate distributed snapshot leveraging causality circumvent synchronization problem Lesson This lecture teaches order multicasts distributed system Algorithms assigning timestamp tags multicasts using various flavors ordering FIFO Causal Total covered The module also covers virtual synchrony paradigm combines reliable multicasts membership views Lesson Consensus one important problems distributed system enabling multiple machines agree This module uses Paxos one popular consensus solutions used industry today Paxos perfect consensus cannot solved completely optional lecture presents famous FLP proof impossibility consensus Medium Course Duration'"
            ],
            "application/vnd.google.colaboratory.intrinsic+json": {
              "type": "string"
            }
          },
          "metadata": {},
          "execution_count": 44
        }
      ]
    },
    {
      "cell_type": "code",
      "source": [
        "coursedata2.to_csv('coursedata2.csv')"
      ],
      "metadata": {
        "id": "PY884VFHfwM-"
      },
      "execution_count": null,
      "outputs": []
    },
    {
      "cell_type": "code",
      "source": [
        "#courseinfo[0]"
      ],
      "metadata": {
        "id": "wciQ3MJaHWj5"
      },
      "execution_count": null,
      "outputs": []
    },
    {
      "cell_type": "code",
      "source": [
        "course_text = coursedata2[['clean_combined_text']]\n",
        "course_text['index'] = course_text.index\n",
        "documents = course_text"
      ],
      "metadata": {
        "colab": {
          "base_uri": "https://localhost:8080/"
        },
        "id": "R07hxCavGeQ-",
        "outputId": "e21c3915-ad20-403f-c8ff-78f23405da70"
      },
      "execution_count": null,
      "outputs": [
        {
          "output_type": "stream",
          "name": "stderr",
          "text": [
            "/usr/local/lib/python3.7/dist-packages/ipykernel_launcher.py:2: SettingWithCopyWarning: \n",
            "A value is trying to be set on a copy of a slice from a DataFrame.\n",
            "Try using .loc[row_indexer,col_indexer] = value instead\n",
            "\n",
            "See the caveats in the documentation: https://pandas.pydata.org/pandas-docs/stable/user_guide/indexing.html#returning-a-view-versus-a-copy\n",
            "  \n"
          ]
        }
      ]
    },
    {
      "cell_type": "code",
      "source": [
        "documents"
      ],
      "metadata": {
        "colab": {
          "base_uri": "https://localhost:8080/",
          "height": 424
        },
        "id": "gBGQnLKHiBKG",
        "outputId": "8f634f61-37f2-4bcc-9d54-635dac78199f"
      },
      "execution_count": null,
      "outputs": [
        {
          "output_type": "execute_result",
          "data": {
            "text/plain": [
              "                                    clean_combined_text  index\n",
              "0     CaliRollB Cloud Computing Concepts Part CaliRo...      0\n",
              "1     CaliRollB The Challenges Global Health CaliRol...      1\n",
              "2     CaliRollB Digital Marketing Analytics Theory C...      2\n",
              "3     CaliRollB Digital Product Management Modern Fu...      3\n",
              "4     CaliRollB The Nature Genius CaliRollA Beginner...      4\n",
              "...                                                 ...    ...\n",
              "6616  CaliRollB Global Adolescent Health CaliRollA B...   6616\n",
              "6617  CaliRollB The Science Training Young Athletes ...   6617\n",
              "6622  CaliRollB Getting Started Mainframe z OS Comma...   6622\n",
              "6634  CaliRollB IBM z OS Rexx Programming CaliRollA ...   6634\n",
              "6635  CaliRollB z OS System Services Structure CaliR...   6635\n",
              "\n",
              "[4369 rows x 2 columns]"
            ],
            "text/html": [
              "\n",
              "  <div id=\"df-00f9f058-d460-454b-88a6-b7eb3c5aa7c8\">\n",
              "    <div class=\"colab-df-container\">\n",
              "      <div>\n",
              "<style scoped>\n",
              "    .dataframe tbody tr th:only-of-type {\n",
              "        vertical-align: middle;\n",
              "    }\n",
              "\n",
              "    .dataframe tbody tr th {\n",
              "        vertical-align: top;\n",
              "    }\n",
              "\n",
              "    .dataframe thead th {\n",
              "        text-align: right;\n",
              "    }\n",
              "</style>\n",
              "<table border=\"1\" class=\"dataframe\">\n",
              "  <thead>\n",
              "    <tr style=\"text-align: right;\">\n",
              "      <th></th>\n",
              "      <th>clean_combined_text</th>\n",
              "      <th>index</th>\n",
              "    </tr>\n",
              "  </thead>\n",
              "  <tbody>\n",
              "    <tr>\n",
              "      <th>0</th>\n",
              "      <td>CaliRollB Cloud Computing Concepts Part CaliRo...</td>\n",
              "      <td>0</td>\n",
              "    </tr>\n",
              "    <tr>\n",
              "      <th>1</th>\n",
              "      <td>CaliRollB The Challenges Global Health CaliRol...</td>\n",
              "      <td>1</td>\n",
              "    </tr>\n",
              "    <tr>\n",
              "      <th>2</th>\n",
              "      <td>CaliRollB Digital Marketing Analytics Theory C...</td>\n",
              "      <td>2</td>\n",
              "    </tr>\n",
              "    <tr>\n",
              "      <th>3</th>\n",
              "      <td>CaliRollB Digital Product Management Modern Fu...</td>\n",
              "      <td>3</td>\n",
              "    </tr>\n",
              "    <tr>\n",
              "      <th>4</th>\n",
              "      <td>CaliRollB The Nature Genius CaliRollA Beginner...</td>\n",
              "      <td>4</td>\n",
              "    </tr>\n",
              "    <tr>\n",
              "      <th>...</th>\n",
              "      <td>...</td>\n",
              "      <td>...</td>\n",
              "    </tr>\n",
              "    <tr>\n",
              "      <th>6616</th>\n",
              "      <td>CaliRollB Global Adolescent Health CaliRollA B...</td>\n",
              "      <td>6616</td>\n",
              "    </tr>\n",
              "    <tr>\n",
              "      <th>6617</th>\n",
              "      <td>CaliRollB The Science Training Young Athletes ...</td>\n",
              "      <td>6617</td>\n",
              "    </tr>\n",
              "    <tr>\n",
              "      <th>6622</th>\n",
              "      <td>CaliRollB Getting Started Mainframe z OS Comma...</td>\n",
              "      <td>6622</td>\n",
              "    </tr>\n",
              "    <tr>\n",
              "      <th>6634</th>\n",
              "      <td>CaliRollB IBM z OS Rexx Programming CaliRollA ...</td>\n",
              "      <td>6634</td>\n",
              "    </tr>\n",
              "    <tr>\n",
              "      <th>6635</th>\n",
              "      <td>CaliRollB z OS System Services Structure CaliR...</td>\n",
              "      <td>6635</td>\n",
              "    </tr>\n",
              "  </tbody>\n",
              "</table>\n",
              "<p>4369 rows × 2 columns</p>\n",
              "</div>\n",
              "      <button class=\"colab-df-convert\" onclick=\"convertToInteractive('df-00f9f058-d460-454b-88a6-b7eb3c5aa7c8')\"\n",
              "              title=\"Convert this dataframe to an interactive table.\"\n",
              "              style=\"display:none;\">\n",
              "        \n",
              "  <svg xmlns=\"http://www.w3.org/2000/svg\" height=\"24px\"viewBox=\"0 0 24 24\"\n",
              "       width=\"24px\">\n",
              "    <path d=\"M0 0h24v24H0V0z\" fill=\"none\"/>\n",
              "    <path d=\"M18.56 5.44l.94 2.06.94-2.06 2.06-.94-2.06-.94-.94-2.06-.94 2.06-2.06.94zm-11 1L8.5 8.5l.94-2.06 2.06-.94-2.06-.94L8.5 2.5l-.94 2.06-2.06.94zm10 10l.94 2.06.94-2.06 2.06-.94-2.06-.94-.94-2.06-.94 2.06-2.06.94z\"/><path d=\"M17.41 7.96l-1.37-1.37c-.4-.4-.92-.59-1.43-.59-.52 0-1.04.2-1.43.59L10.3 9.45l-7.72 7.72c-.78.78-.78 2.05 0 2.83L4 21.41c.39.39.9.59 1.41.59.51 0 1.02-.2 1.41-.59l7.78-7.78 2.81-2.81c.8-.78.8-2.07 0-2.86zM5.41 20L4 18.59l7.72-7.72 1.47 1.35L5.41 20z\"/>\n",
              "  </svg>\n",
              "      </button>\n",
              "      \n",
              "  <style>\n",
              "    .colab-df-container {\n",
              "      display:flex;\n",
              "      flex-wrap:wrap;\n",
              "      gap: 12px;\n",
              "    }\n",
              "\n",
              "    .colab-df-convert {\n",
              "      background-color: #E8F0FE;\n",
              "      border: none;\n",
              "      border-radius: 50%;\n",
              "      cursor: pointer;\n",
              "      display: none;\n",
              "      fill: #1967D2;\n",
              "      height: 32px;\n",
              "      padding: 0 0 0 0;\n",
              "      width: 32px;\n",
              "    }\n",
              "\n",
              "    .colab-df-convert:hover {\n",
              "      background-color: #E2EBFA;\n",
              "      box-shadow: 0px 1px 2px rgba(60, 64, 67, 0.3), 0px 1px 3px 1px rgba(60, 64, 67, 0.15);\n",
              "      fill: #174EA6;\n",
              "    }\n",
              "\n",
              "    [theme=dark] .colab-df-convert {\n",
              "      background-color: #3B4455;\n",
              "      fill: #D2E3FC;\n",
              "    }\n",
              "\n",
              "    [theme=dark] .colab-df-convert:hover {\n",
              "      background-color: #434B5C;\n",
              "      box-shadow: 0px 1px 3px 1px rgba(0, 0, 0, 0.15);\n",
              "      filter: drop-shadow(0px 1px 2px rgba(0, 0, 0, 0.3));\n",
              "      fill: #FFFFFF;\n",
              "    }\n",
              "  </style>\n",
              "\n",
              "      <script>\n",
              "        const buttonEl =\n",
              "          document.querySelector('#df-00f9f058-d460-454b-88a6-b7eb3c5aa7c8 button.colab-df-convert');\n",
              "        buttonEl.style.display =\n",
              "          google.colab.kernel.accessAllowed ? 'block' : 'none';\n",
              "\n",
              "        async function convertToInteractive(key) {\n",
              "          const element = document.querySelector('#df-00f9f058-d460-454b-88a6-b7eb3c5aa7c8');\n",
              "          const dataTable =\n",
              "            await google.colab.kernel.invokeFunction('convertToInteractive',\n",
              "                                                     [key], {});\n",
              "          if (!dataTable) return;\n",
              "\n",
              "          const docLinkHtml = 'Like what you see? Visit the ' +\n",
              "            '<a target=\"_blank\" href=https://colab.research.google.com/notebooks/data_table.ipynb>data table notebook</a>'\n",
              "            + ' to learn more about interactive tables.';\n",
              "          element.innerHTML = '';\n",
              "          dataTable['output_type'] = 'display_data';\n",
              "          await google.colab.output.renderOutput(dataTable, element);\n",
              "          const docLink = document.createElement('div');\n",
              "          docLink.innerHTML = docLinkHtml;\n",
              "          element.appendChild(docLink);\n",
              "        }\n",
              "      </script>\n",
              "    </div>\n",
              "  </div>\n",
              "  "
            ]
          },
          "metadata": {},
          "execution_count": 48
        }
      ]
    },
    {
      "cell_type": "code",
      "source": [
        "course_clean_1 = documents['clean_combined_text'].reset_index(drop=True)"
      ],
      "metadata": {
        "id": "3OJrYmeoGeX9"
      },
      "execution_count": null,
      "outputs": []
    },
    {
      "cell_type": "code",
      "source": [
        "course_clean_1"
      ],
      "metadata": {
        "colab": {
          "base_uri": "https://localhost:8080/"
        },
        "id": "QJg_v7eliELC",
        "outputId": "2ba6c282-2a15-429c-d2f4-4f02af24c649"
      },
      "execution_count": null,
      "outputs": [
        {
          "output_type": "execute_result",
          "data": {
            "text/plain": [
              "0       CaliRollB Cloud Computing Concepts Part CaliRo...\n",
              "1       CaliRollB The Challenges Global Health CaliRol...\n",
              "2       CaliRollB Digital Marketing Analytics Theory C...\n",
              "3       CaliRollB Digital Product Management Modern Fu...\n",
              "4       CaliRollB The Nature Genius CaliRollA Beginner...\n",
              "                              ...                        \n",
              "4364    CaliRollB Global Adolescent Health CaliRollA B...\n",
              "4365    CaliRollB The Science Training Young Athletes ...\n",
              "4366    CaliRollB Getting Started Mainframe z OS Comma...\n",
              "4367    CaliRollB IBM z OS Rexx Programming CaliRollA ...\n",
              "4368    CaliRollB z OS System Services Structure CaliR...\n",
              "Name: clean_combined_text, Length: 4369, dtype: object"
            ]
          },
          "metadata": {},
          "execution_count": 50
        }
      ]
    },
    {
      "cell_type": "code",
      "source": [
        "course_clean = course_clean_1"
      ],
      "metadata": {
        "id": "b1B5QV72iRnl"
      },
      "execution_count": null,
      "outputs": []
    },
    {
      "cell_type": "code",
      "source": [
        "#def text_one_liner(books_list):\n",
        "#    for x in range(len(books_list)):\n",
        "#        books_list[x] = books_list[x].replace('\\n', ' ')\n",
        "#    return books_list\n",
        "\n",
        "#course_clean = text_one_liner(course_clean_1)"
      ],
      "metadata": {
        "id": "SYOBImKxQ4DS"
      },
      "execution_count": null,
      "outputs": []
    },
    {
      "cell_type": "code",
      "source": [
        "len(course_clean)"
      ],
      "metadata": {
        "colab": {
          "base_uri": "https://localhost:8080/"
        },
        "id": "TZd1mqXGQEX0",
        "outputId": "0349052b-185c-4675-fb57-210d4981c984"
      },
      "execution_count": null,
      "outputs": [
        {
          "output_type": "execute_result",
          "data": {
            "text/plain": [
              "4369"
            ]
          },
          "metadata": {},
          "execution_count": 53
        }
      ]
    },
    {
      "cell_type": "code",
      "source": [
        "#documents['clean_combined_text']"
      ],
      "metadata": {
        "id": "iUObvUljo0OW"
      },
      "execution_count": null,
      "outputs": []
    },
    {
      "cell_type": "code",
      "source": [
        "import gensim\n",
        "from gensim.utils import simple_preprocess\n",
        "from gensim.parsing.preprocessing import STOPWORDS\n",
        "from nltk.stem import WordNetLemmatizer, SnowballStemmer\n",
        "from nltk.stem.porter import *\n",
        "import numpy as np\n",
        "np.random.seed(2018)\n",
        "import nltk\n",
        "nltk.download('wordnet')"
      ],
      "metadata": {
        "colab": {
          "base_uri": "https://localhost:8080/"
        },
        "id": "rofzmBFcGeci",
        "outputId": "2b9c305c-4b01-4871-cb80-7e5bb499d25c"
      },
      "execution_count": null,
      "outputs": [
        {
          "output_type": "stream",
          "name": "stderr",
          "text": [
            "[nltk_data] Downloading package wordnet to /root/nltk_data...\n"
          ]
        },
        {
          "output_type": "execute_result",
          "data": {
            "text/plain": [
              "True"
            ]
          },
          "metadata": {},
          "execution_count": 55
        }
      ]
    },
    {
      "cell_type": "code",
      "source": [
        "import nltk\n",
        "nltk.download('omw-1.4')"
      ],
      "metadata": {
        "colab": {
          "base_uri": "https://localhost:8080/"
        },
        "id": "tcOApavdI7sw",
        "outputId": "92fc3e21-fde8-4a4a-80c6-2d49582fc99e"
      },
      "execution_count": null,
      "outputs": [
        {
          "output_type": "stream",
          "name": "stderr",
          "text": [
            "[nltk_data] Downloading package omw-1.4 to /root/nltk_data...\n"
          ]
        },
        {
          "output_type": "execute_result",
          "data": {
            "text/plain": [
              "True"
            ]
          },
          "metadata": {},
          "execution_count": 56
        }
      ]
    },
    {
      "cell_type": "code",
      "source": [
        "def lemmatize_stemming(text):\n",
        "    return text #stemmer.stem(WordNetLemmatizer().lemmatize(text, pos='v'))\n",
        "def preprocess(text):\n",
        "    result = []\n",
        "    for token in gensim.utils.simple_preprocess(text):\n",
        "        if token not in gensim.parsing.preprocessing.STOPWORDS and len(token) > 3:\n",
        "            result.append(lemmatize_stemming(token))\n",
        "    return result"
      ],
      "metadata": {
        "id": "rW4L2Mb2Gegq"
      },
      "execution_count": null,
      "outputs": []
    },
    {
      "cell_type": "code",
      "source": [
        "processed_docs = course_clean.map(preprocess)\n",
        "processed_docs[:10]"
      ],
      "metadata": {
        "colab": {
          "base_uri": "https://localhost:8080/"
        },
        "id": "6z3hInPKGekv",
        "outputId": "73b2133f-2641-4c7c-d876-fd755006878c"
      },
      "execution_count": null,
      "outputs": [
        {
          "output_type": "execute_result",
          "data": {
            "text/plain": [
              "0    [calirollb, cloud, computing, concepts, caliro...\n",
              "1    [calirollb, challenges, global, health, caliro...\n",
              "2    [calirollb, digital, marketing, analytics, the...\n",
              "3    [calirollb, digital, product, management, mode...\n",
              "4    [calirollb, nature, genius, calirolla, beginne...\n",
              "5    [calirollb, grow, business, goldman, sachs, wo...\n",
              "6    [calirollb, fundamentals, negotiation, goldman...\n",
              "7    [calirollb, fundamentals, business, finance, g...\n",
              "8    [calirollb, fundamentals, leadership, goldman,...\n",
              "9    [calirollb, fundamentals, customers, competiti...\n",
              "Name: clean_combined_text, dtype: object"
            ]
          },
          "metadata": {},
          "execution_count": 58
        }
      ]
    },
    {
      "cell_type": "markdown",
      "source": [
        "#Bag of Words\n",
        "Create a dictionary from ‘processed_docs’ containing the number of times a word appears in the training set."
      ],
      "metadata": {
        "id": "rpAKgcbfS_Yp"
      }
    },
    {
      "cell_type": "code",
      "source": [
        "dictionary = gensim.corpora.Dictionary(processed_docs)\n",
        "count = 0\n",
        "for k, v in dictionary.iteritems():\n",
        "    print(k, v)\n",
        "    count += 1\n",
        "    if count > 10:\n",
        "        break"
      ],
      "metadata": {
        "colab": {
          "base_uri": "https://localhost:8080/"
        },
        "id": "S9tYTKvGI2n3",
        "outputId": "190ab5b9-2570-4257-8593-18b93bebdf82"
      },
      "execution_count": null,
      "outputs": [
        {
          "output_type": "stream",
          "name": "stdout",
          "text": [
            "0 academia\n",
            "1 academic\n",
            "2 agree\n",
            "3 algorithm\n",
            "4 algorithms\n",
            "5 allows\n",
            "6 alumni\n",
            "7 analysis\n",
            "8 analyzes\n",
            "9 apache\n",
            "10 applications\n"
          ]
        }
      ]
    },
    {
      "cell_type": "markdown",
      "source": [
        "Filter out tokens that appear in\n",
        "\n",
        "*   Less than 15 documents (absolute number) or\n",
        "*   more than 0.5 documents (fraction of total corpus size, not absolute number)\n",
        "*   after the above two steps, keep only the first 100000 most frequent tokens."
      ],
      "metadata": {
        "id": "v9JTx1n1TQNn"
      }
    },
    {
      "cell_type": "code",
      "source": [
        "#dictionary.filter_extremes(no_below=2, no_above=0.5, keep_n=100000)"
      ],
      "metadata": {
        "id": "IwbNOoWfKb7M"
      },
      "execution_count": null,
      "outputs": []
    },
    {
      "cell_type": "code",
      "source": [
        "bow_corpus = [dictionary.doc2bow(doc) for doc in processed_docs]\n",
        "bow_corpus[4310]"
      ],
      "metadata": {
        "colab": {
          "base_uri": "https://localhost:8080/"
        },
        "id": "lfP-kSn8Ki7p",
        "outputId": "27ae8f27-a566-45af-8867-a1c0d01322b2"
      },
      "execution_count": null,
      "outputs": [
        {
          "output_type": "execute_result",
          "data": {
            "text/plain": [
              "[(11, 1),\n",
              " (12, 1),\n",
              " (25, 1),\n",
              " (26, 1),\n",
              " (43, 4),\n",
              " (49, 2),\n",
              " (53, 8),\n",
              " (55, 2),\n",
              " (71, 1),\n",
              " (81, 1),\n",
              " (92, 2),\n",
              " (104, 3),\n",
              " (109, 1),\n",
              " (115, 2),\n",
              " (124, 1),\n",
              " (125, 12),\n",
              " (142, 8),\n",
              " (171, 1),\n",
              " (172, 6),\n",
              " (173, 4),\n",
              " (176, 1),\n",
              " (190, 1),\n",
              " (194, 2),\n",
              " (196, 1),\n",
              " (223, 1),\n",
              " (224, 4),\n",
              " (233, 8),\n",
              " (236, 2),\n",
              " (237, 3),\n",
              " (240, 2),\n",
              " (242, 1),\n",
              " (243, 5),\n",
              " (249, 4),\n",
              " (259, 1),\n",
              " (270, 1),\n",
              " (274, 1),\n",
              " (278, 3),\n",
              " (281, 1),\n",
              " (283, 3),\n",
              " (298, 1),\n",
              " (301, 1),\n",
              " (308, 2),\n",
              " (313, 1),\n",
              " (315, 2),\n",
              " (330, 1),\n",
              " (331, 10),\n",
              " (340, 12),\n",
              " (362, 11),\n",
              " (379, 2),\n",
              " (383, 2),\n",
              " (384, 2),\n",
              " (385, 1),\n",
              " (390, 2),\n",
              " (397, 1),\n",
              " (400, 2),\n",
              " (405, 2),\n",
              " (410, 1),\n",
              " (419, 6),\n",
              " (427, 9),\n",
              " (435, 1),\n",
              " (439, 1),\n",
              " (442, 2),\n",
              " (457, 1),\n",
              " (458, 1),\n",
              " (465, 4),\n",
              " (468, 2),\n",
              " (479, 1),\n",
              " (482, 4),\n",
              " (495, 12),\n",
              " (497, 1),\n",
              " (508, 1),\n",
              " (509, 1),\n",
              " (534, 1),\n",
              " (537, 1),\n",
              " (544, 1),\n",
              " (547, 1),\n",
              " (557, 2),\n",
              " (570, 1),\n",
              " (572, 1),\n",
              " (598, 1),\n",
              " (652, 1),\n",
              " (692, 2),\n",
              " (734, 2),\n",
              " (787, 1),\n",
              " (790, 4),\n",
              " (799, 3),\n",
              " (805, 1),\n",
              " (826, 1),\n",
              " (854, 2),\n",
              " (857, 10),\n",
              " (873, 1),\n",
              " (879, 1),\n",
              " (887, 2),\n",
              " (890, 1),\n",
              " (899, 4),\n",
              " (929, 1),\n",
              " (932, 5),\n",
              " (934, 1),\n",
              " (979, 1),\n",
              " (982, 1),\n",
              " (989, 2),\n",
              " (993, 2),\n",
              " (1003, 1),\n",
              " (1014, 4),\n",
              " (1017, 7),\n",
              " (1028, 1),\n",
              " (1082, 1),\n",
              " (1236, 1),\n",
              " (1307, 3),\n",
              " (1346, 1),\n",
              " (1354, 1),\n",
              " (1378, 1),\n",
              " (1396, 1),\n",
              " (1410, 1),\n",
              " (1425, 1),\n",
              " (1445, 1),\n",
              " (1477, 4),\n",
              " (1579, 1),\n",
              " (1582, 1),\n",
              " (1620, 3),\n",
              " (1669, 2),\n",
              " (1698, 1),\n",
              " (1728, 2),\n",
              " (1762, 2),\n",
              " (1831, 2),\n",
              " (1843, 1),\n",
              " (1878, 2),\n",
              " (1906, 1),\n",
              " (1913, 5),\n",
              " (1961, 1),\n",
              " (1965, 1),\n",
              " (1987, 8),\n",
              " (1993, 1),\n",
              " (2033, 1),\n",
              " (2067, 2),\n",
              " (2110, 1),\n",
              " (2133, 2),\n",
              " (2179, 1),\n",
              " (2262, 3),\n",
              " (2270, 3),\n",
              " (2449, 7),\n",
              " (2466, 1),\n",
              " (2510, 1),\n",
              " (2587, 1),\n",
              " (2618, 2),\n",
              " (2661, 1),\n",
              " (2665, 2),\n",
              " (2751, 2),\n",
              " (2764, 2),\n",
              " (2768, 1),\n",
              " (2861, 6),\n",
              " (2866, 3),\n",
              " (2876, 1),\n",
              " (2877, 1),\n",
              " (2901, 1),\n",
              " (2908, 1),\n",
              " (2911, 2),\n",
              " (2912, 2),\n",
              " (2913, 1),\n",
              " (2918, 2),\n",
              " (2934, 1),\n",
              " (3007, 5),\n",
              " (3013, 1),\n",
              " (3044, 2),\n",
              " (3141, 2),\n",
              " (3336, 1),\n",
              " (3570, 8),\n",
              " (3635, 1),\n",
              " (4080, 2),\n",
              " (4307, 11),\n",
              " (4352, 1),\n",
              " (4461, 2),\n",
              " (4527, 1),\n",
              " (4531, 2),\n",
              " (4742, 1),\n",
              " (4743, 4),\n",
              " (4906, 2),\n",
              " (5103, 2),\n",
              " (5614, 1),\n",
              " (5806, 2),\n",
              " (5991, 4),\n",
              " (6051, 4),\n",
              " (6759, 4),\n",
              " (6762, 1),\n",
              " (7850, 2),\n",
              " (8309, 1),\n",
              " (9268, 2),\n",
              " (9689, 1),\n",
              " (11985, 1),\n",
              " (13141, 2),\n",
              " (14145, 1),\n",
              " (15618, 2),\n",
              " (17072, 1),\n",
              " (22023, 4),\n",
              " (23834, 2),\n",
              " (29390, 1),\n",
              " (29391, 1),\n",
              " (29392, 1),\n",
              " (29393, 1)]"
            ]
          },
          "metadata": {},
          "execution_count": 60
        }
      ]
    },
    {
      "cell_type": "code",
      "source": [
        "bow_doc_4310 = bow_corpus[4310]\n",
        "for i in range(len(bow_doc_4310)):\n",
        "    print(\"Word {} (\\\"{}\\\") appears {} time.\".format(bow_doc_4310[i][0], \n",
        "                                               dictionary[bow_doc_4310[i][0]], \n",
        "bow_doc_4310[i][1]))"
      ],
      "metadata": {
        "colab": {
          "base_uri": "https://localhost:8080/"
        },
        "id": "bMls-wBaKmkR",
        "outputId": "fcb2f2cf-4a9e-4f50-a205-5e31907e885f"
      },
      "execution_count": null,
      "outputs": [
        {
          "output_type": "stream",
          "name": "stdout",
          "text": [
            "Word 11 (\"apply\") appears 1 time.\n",
            "Word 12 (\"areas\") appears 1 time.\n",
            "Word 25 (\"calirolla\") appears 1 time.\n",
            "Word 26 (\"calirollb\") appears 1 time.\n",
            "Word 43 (\"common\") appears 4 time.\n",
            "Word 49 (\"concepts\") appears 2 time.\n",
            "Word 53 (\"course\") appears 8 time.\n",
            "Word 55 (\"cover\") appears 2 time.\n",
            "Word 71 (\"duration\") appears 1 time.\n",
            "Word 81 (\"experience\") appears 1 time.\n",
            "Word 92 (\"fundamental\") appears 2 time.\n",
            "Word 104 (\"impact\") appears 3 time.\n",
            "Word 109 (\"including\") appears 1 time.\n",
            "Word 115 (\"introduction\") appears 2 time.\n",
            "Word 124 (\"leading\") appears 1 time.\n",
            "Word 125 (\"learn\") appears 12 time.\n",
            "Word 142 (\"module\") appears 8 time.\n",
            "Word 171 (\"prior\") appears 1 time.\n",
            "Word 172 (\"problem\") appears 6 time.\n",
            "Word 173 (\"problems\") appears 4 time.\n",
            "Word 176 (\"project\") appears 1 time.\n",
            "Word 190 (\"skills\") appears 1 time.\n",
            "Word 194 (\"solved\") appears 2 time.\n",
            "Word 196 (\"specialization\") appears 1 time.\n",
            "Word 223 (\"undergraduate\") appears 1 time.\n",
            "Word 224 (\"university\") appears 4 time.\n",
            "Word 233 (\"week\") appears 8 time.\n",
            "Word 236 (\"world\") appears 2 time.\n",
            "Word 237 (\"action\") appears 3 time.\n",
            "Word 240 (\"applying\") appears 2 time.\n",
            "Word 242 (\"basic\") appears 1 time.\n",
            "Word 243 (\"best\") appears 5 time.\n",
            "Word 249 (\"challenges\") appears 4 time.\n",
            "Word 259 (\"designed\") appears 1 time.\n",
            "Word 270 (\"experts\") appears 1 time.\n",
            "Word 274 (\"focuses\") appears 1 time.\n",
            "Word 278 (\"future\") appears 3 time.\n",
            "Word 281 (\"graduate\") appears 1 time.\n",
            "Word 283 (\"help\") appears 3 time.\n",
            "Word 298 (\"outcomes\") appears 1 time.\n",
            "Word 301 (\"provide\") appears 1 time.\n",
            "Word 308 (\"solve\") appears 2 time.\n",
            "Word 313 (\"taught\") appears 1 time.\n",
            "Word 315 (\"underlying\") appears 2 time.\n",
            "Word 330 (\"analysts\") appears 1 time.\n",
            "Word 331 (\"analytics\") appears 10 time.\n",
            "Word 340 (\"business\") appears 12 time.\n",
            "Word 362 (\"data\") appears 11 time.\n",
            "Word 379 (\"evaluating\") appears 2 time.\n",
            "Word 383 (\"foundations\") appears 2 time.\n",
            "Word 384 (\"framework\") appears 2 time.\n",
            "Word 385 (\"frameworks\") appears 1 time.\n",
            "Word 390 (\"historical\") appears 2 time.\n",
            "Word 397 (\"insights\") appears 1 time.\n",
            "Word 400 (\"introduces\") appears 2 time.\n",
            "Word 405 (\"learning\") appears 2 time.\n",
            "Word 410 (\"marketing\") appears 1 time.\n",
            "Word 419 (\"models\") appears 6 time.\n",
            "Word 427 (\"optimization\") appears 9 time.\n",
            "Word 435 (\"professionals\") appears 1 time.\n",
            "Word 439 (\"provides\") appears 1 time.\n",
            "Word 442 (\"real\") appears 2 time.\n",
            "Word 457 (\"strategic\") appears 1 time.\n",
            "Word 458 (\"studies\") appears 1 time.\n",
            "Word 465 (\"tools\") appears 4 time.\n",
            "Word 468 (\"useful\") appears 2 time.\n",
            "Word 479 (\"available\") appears 1 time.\n",
            "Word 482 (\"build\") appears 4 time.\n",
            "Word 495 (\"decisions\") appears 12 time.\n",
            "Word 497 (\"develop\") appears 1 time.\n",
            "Word 508 (\"education\") appears 1 time.\n",
            "Word 509 (\"effective\") appears 1 time.\n",
            "Word 534 (\"higher\") appears 1 time.\n",
            "Word 537 (\"ideas\") appears 1 time.\n",
            "Word 544 (\"institution\") appears 1 time.\n",
            "Word 547 (\"involved\") appears 1 time.\n",
            "Word 557 (\"look\") appears 2 time.\n",
            "Word 570 (\"methods\") appears 1 time.\n",
            "Word 572 (\"model\") appears 1 time.\n",
            "Word 598 (\"relevant\") appears 1 time.\n",
            "Word 652 (\"based\") appears 1 time.\n",
            "Word 692 (\"discover\") appears 2 time.\n",
            "Word 734 (\"identify\") appears 2 time.\n",
            "Word 787 (\"referred\") appears 1 time.\n",
            "Word 790 (\"risk\") appears 4 time.\n",
            "Word 799 (\"specific\") appears 3 time.\n",
            "Word 805 (\"think\") appears 1 time.\n",
            "Word 826 (\"choose\") appears 1 time.\n",
            "Word 854 (\"identifying\") appears 2 time.\n",
            "Word 857 (\"introduced\") appears 10 time.\n",
            "Word 873 (\"resources\") appears 1 time.\n",
            "Word 879 (\"short\") appears 1 time.\n",
            "Word 887 (\"tool\") appears 2 time.\n",
            "Word 890 (\"unknown\") appears 1 time.\n",
            "Word 899 (\"evaluate\") appears 4 time.\n",
            "Word 929 (\"finance\") appears 1 time.\n",
            "Word 932 (\"interpret\") appears 5 time.\n",
            "Word 934 (\"introduce\") appears 1 time.\n",
            "Word 979 (\"strategy\") appears 1 time.\n",
            "Word 982 (\"choices\") appears 1 time.\n",
            "Word 989 (\"forecasting\") appears 2 time.\n",
            "Word 993 (\"predict\") appears 2 time.\n",
            "Word 1003 (\"appropriate\") appears 1 time.\n",
            "Word 1014 (\"measures\") appears 4 time.\n",
            "Word 1017 (\"operations\") appears 7 time.\n",
            "Word 1028 (\"human\") appears 1 time.\n",
            "Word 1082 (\"informed\") appears 1 time.\n",
            "Word 1236 (\"member\") appears 1 time.\n",
            "Word 1307 (\"supply\") appears 3 time.\n",
            "Word 1346 (\"better\") appears 1 time.\n",
            "Word 1354 (\"competing\") appears 1 time.\n",
            "Word 1378 (\"final\") appears 1 time.\n",
            "Word 1396 (\"issues\") appears 1 time.\n",
            "Word 1410 (\"policy\") appears 1 time.\n",
            "Word 1425 (\"recent\") appears 1 time.\n",
            "Word 1445 (\"technologies\") appears 1 time.\n",
            "Word 1477 (\"complex\") appears 4 time.\n",
            "Word 1579 (\"spectrum\") appears 1 time.\n",
            "Word 1582 (\"teach\") appears 1 time.\n",
            "Word 1620 (\"high\") appears 3 time.\n",
            "Word 1669 (\"weeks\") appears 2 time.\n",
            "Word 1698 (\"located\") appears 1 time.\n",
            "Word 1728 (\"degrees\") appears 2 time.\n",
            "Word 1762 (\"quality\") appears 2 time.\n",
            "Word 1831 (\"building\") appears 2 time.\n",
            "Word 1843 (\"extraordinary\") appears 1 time.\n",
            "Word 1878 (\"variables\") appears 2 time.\n",
            "Word 1906 (\"capstone\") appears 1 time.\n",
            "Word 1913 (\"decision\") appears 5 time.\n",
            "Word 1961 (\"recommendations\") appears 1 time.\n",
            "Word 1965 (\"software\") appears 1 time.\n",
            "Word 1987 (\"demand\") appears 8 time.\n",
            "Word 1993 (\"face\") appears 1 time.\n",
            "Word 2033 (\"match\") appears 1 time.\n",
            "Word 2067 (\"express\") appears 2 time.\n",
            "Word 2110 (\"mathematical\") appears 1 time.\n",
            "Word 2133 (\"estimate\") appears 2 time.\n",
            "Word 2179 (\"private\") appears 1 time.\n",
            "Word 2262 (\"states\") appears 3 time.\n",
            "Word 2270 (\"united\") appears 3 time.\n",
            "Word 2449 (\"settings\") appears 7 time.\n",
            "Word 2466 (\"inform\") appears 1 time.\n",
            "Word 2510 (\"tackling\") appears 1 time.\n",
            "Word 2587 (\"literacy\") appears 1 time.\n",
            "Word 2618 (\"format\") appears 2 time.\n",
            "Word 2661 (\"oldest\") appears 1 time.\n",
            "Word 2665 (\"results\") appears 2 time.\n",
            "Word 2751 (\"converted\") appears 2 time.\n",
            "Word 2764 (\"example\") appears 2 time.\n",
            "Word 2768 (\"fourth\") appears 1 time.\n",
            "Word 2861 (\"uncertain\") appears 6 time.\n",
            "Word 2866 (\"analytic\") appears 3 time.\n",
            "Word 2876 (\"commonly\") appears 1 time.\n",
            "Word 2877 (\"considers\") appears 1 time.\n",
            "Word 2901 (\"league\") appears 1 time.\n",
            "Word 2908 (\"mindset\") appears 1 time.\n",
            "Word 2911 (\"penn\") appears 2 time.\n",
            "Word 2912 (\"pennsylvania\") appears 2 time.\n",
            "Word 2913 (\"philadelphia\") appears 1 time.\n",
            "Word 2918 (\"predictive\") appears 2 time.\n",
            "Word 2934 (\"wharton\") appears 1 time.\n",
            "Word 3007 (\"descriptive\") appears 5 time.\n",
            "Word 3013 (\"firms\") appears 1 time.\n",
            "Word 3044 (\"statistics\") appears 2 time.\n",
            "Word 3141 (\"compare\") appears 2 time.\n",
            "Word 3336 (\"changed\") appears 1 time.\n",
            "Word 3570 (\"uncertainty\") appears 8 time.\n",
            "Word 3635 (\"transforming\") appears 1 time.\n",
            "Word 4080 (\"random\") appears 2 time.\n",
            "Word 4307 (\"simulation\") appears 11 time.\n",
            "Word 4352 (\"gans\") appears 1 time.\n",
            "Word 4461 (\"reward\") appears 2 time.\n",
            "Word 4527 (\"solver\") appears 1 time.\n",
            "Word 4531 (\"visualize\") appears 2 time.\n",
            "Word 4742 (\"tree\") appears 1 time.\n",
            "Word 4743 (\"trees\") appears 4 time.\n",
            "Word 4906 (\"prescriptive\") appears 2 time.\n",
            "Word 5103 (\"matching\") appears 2 time.\n",
            "Word 5614 (\"collecting\") appears 1 time.\n",
            "Word 5806 (\"concrete\") appears 2 time.\n",
            "Word 5991 (\"spreadsheet\") appears 4 time.\n",
            "Word 6051 (\"algebraic\") appears 4 time.\n",
            "Word 6759 (\"forecasts\") appears 4 time.\n",
            "Word 6762 (\"improvements\") appears 1 time.\n",
            "Word 7850 (\"quantities\") appears 2 time.\n",
            "Word 8309 (\"uncertainties\") appears 1 time.\n",
            "Word 9268 (\"solvers\") appears 2 time.\n",
            "Word 9689 (\"gathering\") appears 1 time.\n",
            "Word 11985 (\"noah\") appears 1 time.\n",
            "Word 13141 (\"formulations\") appears 2 time.\n",
            "Word 14145 (\"profitably\") appears 1 time.\n",
            "Word 15618 (\"concisely\") appears 2 time.\n",
            "Word 17072 (\"quantitatively\") appears 1 time.\n",
            "Word 22023 (\"newsvendor\") appears 4 time.\n",
            "Word 23834 (\"judging\") appears 2 time.\n",
            "Word 29390 (\"savin\") appears 1 time.\n",
            "Word 29391 (\"senthil\") appears 1 time.\n",
            "Word 29392 (\"sergei\") appears 1 time.\n",
            "Word 29393 (\"veeraraghavan\") appears 1 time.\n"
          ]
        }
      ]
    },
    {
      "cell_type": "markdown",
      "source": [
        "#Topic Number"
      ],
      "metadata": {
        "id": "wHjzbIX2JUaG"
      }
    },
    {
      "cell_type": "code",
      "source": [
        "!pip install --upgrade gensim"
      ],
      "metadata": {
        "colab": {
          "base_uri": "https://localhost:8080/",
          "height": 346
        },
        "id": "kZLRA22LAaw2",
        "outputId": "ddc0b681-b2bb-41a4-f81b-8761201f85eb"
      },
      "execution_count": null,
      "outputs": [
        {
          "output_type": "stream",
          "name": "stdout",
          "text": [
            "Looking in indexes: https://pypi.org/simple, https://us-python.pkg.dev/colab-wheels/public/simple/\n",
            "Requirement already satisfied: gensim in /usr/local/lib/python3.7/dist-packages (3.6.0)\n",
            "Collecting gensim\n",
            "  Downloading gensim-4.2.0-cp37-cp37m-manylinux_2_12_x86_64.manylinux2010_x86_64.whl (24.1 MB)\n",
            "\u001b[K     |████████████████████████████████| 24.1 MB 5.7 MB/s \n",
            "\u001b[?25hRequirement already satisfied: smart-open>=1.8.1 in /usr/local/lib/python3.7/dist-packages (from gensim) (5.2.1)\n",
            "Requirement already satisfied: numpy>=1.17.0 in /usr/local/lib/python3.7/dist-packages (from gensim) (1.21.6)\n",
            "Requirement already satisfied: scipy>=0.18.1 in /usr/local/lib/python3.7/dist-packages (from gensim) (1.7.3)\n",
            "Installing collected packages: gensim\n",
            "  Attempting uninstall: gensim\n",
            "    Found existing installation: gensim 3.6.0\n",
            "    Uninstalling gensim-3.6.0:\n",
            "      Successfully uninstalled gensim-3.6.0\n",
            "Successfully installed gensim-4.2.0\n"
          ]
        },
        {
          "output_type": "display_data",
          "data": {
            "application/vnd.colab-display-data+json": {
              "pip_warning": {
                "packages": [
                  "gensim"
                ]
              }
            }
          },
          "metadata": {}
        }
      ]
    },
    {
      "cell_type": "code",
      "source": [
        "from gensim import corpora, models, similarities\n",
        "import random\n",
        "import os\n",
        "from gensim.models import CoherenceModel\n",
        "from gensim.models.nmf import Nmf as GensimNmf\n",
        "coherence_val = []\n",
        "topicnums = [1,5,10,15,20,25,30,35,40,45,50,55,60,65,70]\n",
        "project_folder = os.getcwd()\n",
        "\n",
        "nmfmodels_bow = {}\n",
        "for i in topicnums:\n",
        "    random.seed(42)\n",
        "    if not os.path.exists(project_folder+'/drive/MyDrive/NMF Notebooks with Coherence/nmf_models_bow/nmfmodels_bow'+str(i)+'.nmf'):\n",
        "        %time nmfmodels_bow[i] = GensimNmf(corpus=bow_corpus,num_topics=i,id2word=dictionary,chunksize=2000,passes=5,kappa=.1,minimum_probability=0.01,w_max_iter=300,w_stop_condition=0.0001,h_max_iter=100,h_stop_condition=0.001,eval_every=10,normalize=True,random_state=42)\n",
        "        nmfmodels_bow[i].save(project_folder+'/drive/MyDrive/NMF Notebooks with Coherence/nmf_models_bow/nmfmodels_bow'+str(i)+'.nmf')\n",
        "        print('nmfmodels_bow{}.nmf created.'.format(i))\n",
        "        coherence_model_nmf = CoherenceModel(model=nmfmodels_bow[i], texts=processed_docs, dictionary=dictionary, coherence='c_v')\n",
        "        coherence_nmf = coherence_model_nmf.get_coherence()\n",
        "        print('Coherence Score: ', coherence_nmf)\n",
        "        coherence_val.append(coherence_nmf)\n",
        "    else: \n",
        "        print('nmfmodels_bow{}.nmf already exists.'.format(i))"
      ],
      "metadata": {
        "colab": {
          "base_uri": "https://localhost:8080/"
        },
        "id": "BKk3aMclJYx0",
        "outputId": "e8293b3c-36fc-492c-abf6-34c3d12e8b50"
      },
      "execution_count": null,
      "outputs": [
        {
          "output_type": "stream",
          "name": "stdout",
          "text": [
            "CPU times: user 3.83 s, sys: 1.56 s, total: 5.39 s\n",
            "Wall time: 7.72 s\n",
            "nmfmodels_bow1.nmf created.\n",
            "Coherence Score:  0.3145802268809088\n",
            "CPU times: user 6.93 s, sys: 4.48 s, total: 11.4 s\n",
            "Wall time: 8.3 s\n",
            "nmfmodels_bow5.nmf created.\n",
            "Coherence Score:  0.36577173889027814\n",
            "CPU times: user 10.4 s, sys: 6.25 s, total: 16.6 s\n",
            "Wall time: 9 s\n",
            "nmfmodels_bow10.nmf created.\n",
            "Coherence Score:  0.4047424314319059\n",
            "CPU times: user 15.2 s, sys: 8.81 s, total: 24 s\n",
            "Wall time: 12.8 s\n",
            "nmfmodels_bow15.nmf created.\n",
            "Coherence Score:  0.39299576450966084\n",
            "CPU times: user 19.6 s, sys: 11.1 s, total: 30.7 s\n",
            "Wall time: 16.3 s\n",
            "nmfmodels_bow20.nmf created.\n",
            "Coherence Score:  0.39927810630680666\n",
            "CPU times: user 26.1 s, sys: 14.6 s, total: 40.6 s\n",
            "Wall time: 23.7 s\n",
            "nmfmodels_bow25.nmf created.\n",
            "Coherence Score:  0.43446570869249923\n",
            "CPU times: user 30.5 s, sys: 15.5 s, total: 46 s\n",
            "Wall time: 24.5 s\n",
            "nmfmodels_bow30.nmf created.\n",
            "Coherence Score:  0.40177867024198843\n",
            "CPU times: user 34.8 s, sys: 17.5 s, total: 52.3 s\n",
            "Wall time: 27.8 s\n",
            "nmfmodels_bow35.nmf created.\n",
            "Coherence Score:  0.42990443646470994\n",
            "CPU times: user 39.3 s, sys: 19.3 s, total: 58.7 s\n",
            "Wall time: 33.5 s\n",
            "nmfmodels_bow40.nmf created.\n",
            "Coherence Score:  0.4230064145016973\n",
            "CPU times: user 48.5 s, sys: 23.2 s, total: 1min 11s\n",
            "Wall time: 40.2 s\n",
            "nmfmodels_bow45.nmf created.\n",
            "Coherence Score:  0.40915120617244655\n",
            "CPU times: user 54.2 s, sys: 24.9 s, total: 1min 19s\n",
            "Wall time: 44 s\n",
            "nmfmodels_bow50.nmf created.\n",
            "Coherence Score:  0.40433615389521693\n",
            "CPU times: user 59.9 s, sys: 27.7 s, total: 1min 27s\n",
            "Wall time: 50.9 s\n",
            "nmfmodels_bow55.nmf created.\n",
            "Coherence Score:  0.41216447426586983\n",
            "CPU times: user 1min 5s, sys: 30.4 s, total: 1min 35s\n",
            "Wall time: 53.4 s\n",
            "nmfmodels_bow60.nmf created.\n",
            "Coherence Score:  0.41703859566031354\n",
            "CPU times: user 1min 13s, sys: 33.8 s, total: 1min 47s\n",
            "Wall time: 59.9 s\n",
            "nmfmodels_bow65.nmf created.\n",
            "Coherence Score:  0.3885476706064307\n",
            "CPU times: user 1min 19s, sys: 34.1 s, total: 1min 53s\n",
            "Wall time: 1min 2s\n",
            "nmfmodels_bow70.nmf created.\n",
            "Coherence Score:  0.40812723874633283\n"
          ]
        }
      ]
    },
    {
      "cell_type": "code",
      "source": [
        "import pickle\n",
        "nmf_topics = {}\n",
        "for i in topicnums:\n",
        "    nmf_model = GensimNmf.load(project_folder+'/drive/MyDrive/NMF Notebooks with Coherence/nmf_models_bow/nmfmodels_bow'+str(i)+'.nmf')\n",
        "    nmf_topics_string = nmf_model.show_topics(i)\n",
        "    nmf_topics[i] = [\"\".join([c if c.isalpha() else \" \" for c in topic[1]]).split() for topic in nmf_topics_string]\n",
        "\n",
        "pickle.dump(nmf_topics,open(project_folder+'/drive/MyDrive/NMF Notebooks with Coherence/nmf_models_bow/pub_nmf_bow_topics.pkl','wb'))"
      ],
      "metadata": {
        "id": "IsxBI09uJY1V"
      },
      "execution_count": null,
      "outputs": []
    },
    {
      "cell_type": "code",
      "source": [
        "len(coherence_val)"
      ],
      "metadata": {
        "colab": {
          "base_uri": "https://localhost:8080/"
        },
        "id": "-4WyuoaSH7J2",
        "outputId": "cd058570-655a-450b-ac5b-c492914573f3"
      },
      "execution_count": null,
      "outputs": [
        {
          "output_type": "execute_result",
          "data": {
            "text/plain": [
              "15"
            ]
          },
          "metadata": {},
          "execution_count": 78
        }
      ]
    },
    {
      "cell_type": "code",
      "source": [
        "coherence_val"
      ],
      "metadata": {
        "id": "6Ymm7Hx8oGP6",
        "outputId": "6d6a2dc3-9651-46b5-ab55-87beb32a909f",
        "colab": {
          "base_uri": "https://localhost:8080/"
        }
      },
      "execution_count": null,
      "outputs": [
        {
          "output_type": "execute_result",
          "data": {
            "text/plain": [
              "[0.3145802268809088,\n",
              " 0.36577173889027814,\n",
              " 0.4047424314319059,\n",
              " 0.39299576450966084,\n",
              " 0.39927810630680666,\n",
              " 0.43446570869249923,\n",
              " 0.40177867024198843,\n",
              " 0.42990443646470994,\n",
              " 0.4230064145016973,\n",
              " 0.40915120617244655,\n",
              " 0.40433615389521693,\n",
              " 0.41216447426586983,\n",
              " 0.41703859566031354,\n",
              " 0.3885476706064307,\n",
              " 0.40812723874633283]"
            ]
          },
          "metadata": {},
          "execution_count": 77
        }
      ]
    },
    {
      "cell_type": "code",
      "source": [
        "import matplotlib.pyplot as plt\n",
        "#coherence_val, topicnums\n",
        "plt.scatter(topicnums, coherence_val)\n",
        "plt.show()"
      ],
      "metadata": {
        "colab": {
          "base_uri": "https://localhost:8080/",
          "height": 269
        },
        "id": "kqrJHm21HUfX",
        "outputId": "da9fcf57-996f-40ee-a44f-bbed75eff46a"
      },
      "execution_count": null,
      "outputs": [
        {
          "output_type": "display_data",
          "data": {
            "text/plain": [
              "<Figure size 432x288 with 1 Axes>"
            ],
            "image/png": "[encoded data removed]"
          },
          "metadata": {
            "needs_background": "light"
          }
        }
      ]
    },
    {
      "cell_type": "markdown",
      "source": [
        "#Optimal Model"
      ],
      "metadata": {
        "id": "jqwbqJvfUXor"
      }
    },
    {
      "cell_type": "code",
      "source": [
        "num_topics = 25\n",
        "nmf_model_final = GensimNmf.load(project_folder+'/drive/MyDrive/NMF Notebooks with Coherence/nmf_models_bow/nmfmodels_bow'+str(num_topics)+'.nmf')"
      ],
      "metadata": {
        "id": "vvVb3qf8OrGS"
      },
      "execution_count": null,
      "outputs": []
    },
    {
      "cell_type": "code",
      "source": [
        "from pprint import pprint\n",
        "top_topics = nmf_model_final.top_topics(bow_corpus, topn=10)\n",
        "\n",
        "avg_topic_coherence = sum([t[1] for t in top_topics]) / num_topics\n",
        "print('Average topic coherence: %.4f.' % avg_topic_coherence)\n",
        "\n",
        "counter = 0\n",
        "for topic in top_topics:\n",
        "    print('Topic {}:'.format(counter))\n",
        "    counter += 1\n",
        "    pprint(topic)\n",
        "    \n",
        "pickle.dump(nmf_topics,open(project_folder+'/drive/MyDrive/NMF Notebooks with Coherence/nmf_models_bow/pub_nmf_bow_topics.pkl','wb'))"
      ],
      "metadata": {
        "id": "n1B48pDDOrKS",
        "colab": {
          "base_uri": "https://localhost:8080/"
        },
        "outputId": "b7a09ac0-7f58-45fd-fd5f-8f4662aa2db0"
      },
      "execution_count": null,
      "outputs": [
        {
          "output_type": "stream",
          "name": "stdout",
          "text": [
            "Average topic coherence: -1.5640.\n",
            "Topic 0:\n",
            "([(0.039414634478436336, 'course'),\n",
            "  (0.01880997112319808, 'financial'),\n",
            "  (0.012558442269292532, 'discuss'),\n",
            "  (0.011804885426483834, 'information'),\n",
            "  (0.010280041855778533, 'systems'),\n",
            "  (0.009540745286522328, 'module'),\n",
            "  (0.009385803517540089, 'concepts'),\n",
            "  (0.00913731490107001, 'students'),\n",
            "  (0.007963443685190003, 'based'),\n",
            "  (0.0074902259548262195, 'university')],\n",
            " -0.8231352110701964)\n",
            "Topic 1:\n",
            "([(0.057782255439780814, 'project'),\n",
            "  (0.03375742268103485, 'marketing'),\n",
            "  (0.03309503364141391, 'management'),\n",
            "  (0.030193243235739017, 'digital'),\n",
            "  (0.022969361912725045, 'business'),\n",
            "  (0.017702690065122175, 'specialization'),\n",
            "  (0.01520163513581334, 'capstone'),\n",
            "  (0.012994822266809758, 'course'),\n",
            "  (0.01175181171281331, 'create'),\n",
            "  (0.011213317074916632, 'strategy')],\n",
            " -0.9998583254911522)\n",
            "Topic 2:\n",
            "([(0.05341277616505438, 'course'),\n",
            "  (0.018373349539843885, 'welcome'),\n",
            "  (0.014501214458767588, 'week'),\n",
            "  (0.0109103426480268, 'university'),\n",
            "  (0.0103007814416347, 'writing'),\n",
            "  (0.010111721681247255, 'final'),\n",
            "  (0.008679048428774837, 'team'),\n",
            "  (0.008217115691666386, 'look'),\n",
            "  (0.008121153583711765, 'work'),\n",
            "  (0.008096279022357399, 'help')],\n",
            " -1.1630703535669242)\n",
            "Topic 3:\n",
            "([(0.1094708847799032, 'cloud'),\n",
            "  (0.018823352017714134, 'google'),\n",
            "  (0.01790631473151764, 'computing'),\n",
            "  (0.015976609078157494, 'security'),\n",
            "  (0.013833551842696638, 'services'),\n",
            "  (0.013339793009115152, 'service'),\n",
            "  (0.011654932323574558, 'network'),\n",
            "  (0.010776643429772682, 'applications'),\n",
            "  (0.009585237858668941, 'infrastructure'),\n",
            "  (0.008396560415036015, 'technologies')],\n",
            " -1.1729623976252168)\n",
            "Topic 4:\n",
            "([(0.08385808258729419, 'design'),\n",
            "  (0.010061860508273051, 'create'),\n",
            "  (0.009929479178165388, 'user'),\n",
            "  (0.009488769149466605, 'process'),\n",
            "  (0.009002348480272536, 'work'),\n",
            "  (0.008305324880171444, 'development'),\n",
            "  (0.007169713835842038, 'skills'),\n",
            "  (0.006392088057791561, 'course'),\n",
            "  (0.005464001806909956, 'principles'),\n",
            "  (0.005335422366304481, 'visual')],\n",
            " -1.2047455024591507)\n",
            "Topic 5:\n",
            "([(0.05938488444042005, 'business'),\n",
            "  (0.035070303458247985, 'social'),\n",
            "  (0.023526204986213137, 'value'),\n",
            "  (0.02012199322864301, 'learn'),\n",
            "  (0.014303028330357962, 'businesses'),\n",
            "  (0.012196077791555977, 'specialization'),\n",
            "  (0.009953754944185036, 'strategy'),\n",
            "  (0.008277190470288437, 'understanding'),\n",
            "  (0.00809687700478966, 'risk'),\n",
            "  (0.007995826723679388, 'understand')],\n",
            " -1.2537041548139163)\n",
            "Topic 6:\n",
            "([(0.12257452791504274, 'module'),\n",
            "  (0.010385403616156851, 'digital'),\n",
            "  (0.007641033542689719, 'course'),\n",
            "  (0.007435486089125485, 'state'),\n",
            "  (0.0066132694270041705, 'development'),\n",
            "  (0.00573125068316737, 'cover'),\n",
            "  (0.005588250226005887, 'level'),\n",
            "  (0.0055631569696890535, 'covers'),\n",
            "  (0.005414478959768988, 'strategies'),\n",
            "  (0.004894479220718859, 'topics')],\n",
            " -1.3029038299976126)\n",
            "Topic 7:\n",
            "([(0.052089891001415076, 'research'),\n",
            "  (0.03165767522753133, 'able'),\n",
            "  (0.013207142587374892, 'university'),\n",
            "  (0.0105468009228161, 'science'),\n",
            "  (0.008744836372609574, 'identify'),\n",
            "  (0.0073885544518581285, 'discuss'),\n",
            "  (0.006925122237404222, 'impact'),\n",
            "  (0.0063695157937188, 'study'),\n",
            "  (0.00602284708413476, 'care'),\n",
            "  (0.006006586629485992, 'different')],\n",
            " -1.3467404467941728)\n",
            "Topic 8:\n",
            "([(0.03867474354663093, 'week'),\n",
            "  (0.031073275687908054, 'learning'),\n",
            "  (0.014910482063989074, 'explore'),\n",
            "  (0.014455982624156892, 'leadership'),\n",
            "  (0.01319056267602418, 'learn'),\n",
            "  (0.011760504549418271, 'help'),\n",
            "  (0.01108426392360128, 'skills'),\n",
            "  (0.01019325031485781, 'sales'),\n",
            "  (0.010044554225380522, 'people'),\n",
            "  (0.00892250797939462, 'future')],\n",
            " -1.350414252759516)\n",
            "Topic 9:\n",
            "([(0.016893433567080222, 'world'),\n",
            "  (0.012724507259394951, 'innovation'),\n",
            "  (0.012318377483323624, 'technology'),\n",
            "  (0.009774885998524331, 'business'),\n",
            "  (0.007153719642730051, 'global'),\n",
            "  (0.0062835904601687646, 'industry'),\n",
            "  (0.006087712540474088, 'course'),\n",
            "  (0.005433151118049311, 'level'),\n",
            "  (0.005104369620086466, 'blockchain'),\n",
            "  (0.0050895945753454885, 'technologies')],\n",
            " -1.3616664834559948)\n",
            "Topic 10:\n",
            "([(0.025880007139143655, 'model'),\n",
            "  (0.02346038332678301, 'models'),\n",
            "  (0.020023282885654338, 'able'),\n",
            "  (0.015042560057906218, 'financial'),\n",
            "  (0.009892793608796817, 'different'),\n",
            "  (0.00938128296613538, 'regression'),\n",
            "  (0.00810414582007934, 'applications'),\n",
            "  (0.007995421302289982, 'risk'),\n",
            "  (0.007791175487507505, 'apply'),\n",
            "  (0.007238892903811726, 'build')],\n",
            " -1.382413278197473)\n",
            "Topic 11:\n",
            "([(0.1533475013915072, 'world'),\n",
            "  (0.10330440744041643, 'write'),\n",
            "  (0.0937030391206109, 'languages'),\n",
            "  (0.08959967484861107, 'hello'),\n",
            "  (0.027797121586617058, 'programming'),\n",
            "  (0.01409571988607647, 'python'),\n",
            "  (0.014036717857049092, 'learn'),\n",
            "  (0.012755401030243791, 'real'),\n",
            "  (0.01141350560662319, 'science'),\n",
            "  (0.0104744230364166, 'public')],\n",
            " -1.4093728554496545)\n",
            "Topic 12:\n",
            "([(0.0916001124636815, 'learn'),\n",
            "  (0.022760230770231354, 'course'),\n",
            "  (0.01385040088608651, 'create'),\n",
            "  (0.013197385663737248, 'programming'),\n",
            "  (0.011993843152296808, 'skills'),\n",
            "  (0.009956622659491765, 'functions'),\n",
            "  (0.008739358610706686, 'code'),\n",
            "  (0.00848126746384472, 'excel'),\n",
            "  (0.0075865136374010005, 'basic'),\n",
            "  (0.006883740483795517, 'build')],\n",
            " -1.505355350620832)\n",
            "Topic 13:\n",
            "([(0.17638655190143393, 'data'),\n",
            "  (0.031113745154899165, 'analysis'),\n",
            "  (0.01505185180476714, 'quality'),\n",
            "  (0.010492802967882086, 'analytics'),\n",
            "  (0.009607795495854193, 'information'),\n",
            "  (0.008731414961604527, 'concepts'),\n",
            "  (0.008660422717666979, 'tools'),\n",
            "  (0.008235382974922786, 'visualization'),\n",
            "  (0.008107430190567854, 'basic'),\n",
            "  (0.007534329983938574, 'processing')],\n",
            " -1.5103089892154526)\n",
            "Topic 14:\n",
            "([(0.16221327245369463, 'week'),\n",
            "  (0.011119639965309104, 'welcome'),\n",
            "  (0.008668966025695932, 'quiz'),\n",
            "  (0.007756511938837984, 'assignment'),\n",
            "  (0.007051147703750777, 'focus'),\n",
            "  (0.006483091693220844, 'board'),\n",
            "  (0.006445382641357077, 'course'),\n",
            "  (0.005198673346081222, 'discussion'),\n",
            "  (0.004788115156429819, 'cover'),\n",
            "  (0.004713654379199687, 'introduce')],\n",
            " -1.5170013557523054)\n",
            "Topic 15:\n",
            "([(0.1439124202492974, 'data'),\n",
            "  (0.04153436813406737, 'business'),\n",
            "  (0.035641747040740863, 'learn'),\n",
            "  (0.02343763089623758, 'analytics'),\n",
            "  (0.019046094662862483, 'module'),\n",
            "  (0.011514345873276242, 'create'),\n",
            "  (0.010913561214374128, 'python'),\n",
            "  (0.010302702799884845, 'model'),\n",
            "  (0.010102340101474342, 'database'),\n",
            "  (0.009650790325852143, 'models')],\n",
            " -1.5218890414268336)\n",
            "Topic 16:\n",
            "([(0.14644031665604287, 'data'),\n",
            "  (0.025961584779015535, 'science'),\n",
            "  (0.02453722662823595, 'analysis'),\n",
            "  (0.020553251557729, 'course'),\n",
            "  (0.020346141516961274, 'spatial'),\n",
            "  (0.013883966967284186, 'quality'),\n",
            "  (0.010297765319305142, 'lecture'),\n",
            "  (0.009934189101133122, 'learners'),\n",
            "  (0.009658801585759179, 'research'),\n",
            "  (0.008981384156706917, 'project')],\n",
            " -1.5681053429307976)\n",
            "Topic 17:\n",
            "([(0.06461048742476853, 'health'),\n",
            "  (0.03350546750656567, 'marketing'),\n",
            "  (0.021990237093701577, 'module'),\n",
            "  (0.01941200832246721, 'public'),\n",
            "  (0.017521478148628564, 'digital'),\n",
            "  (0.016453137599803675, 'planning'),\n",
            "  (0.011886472306055785, 'strategy'),\n",
            "  (0.009893688598220658, 'care'),\n",
            "  (0.008404506832501796, 'learners'),\n",
            "  (0.007624706270451561, 'strategies')],\n",
            " -1.6436294020001772)\n",
            "Topic 18:\n",
            "([(0.12236947775475933, 'module'),\n",
            "  (0.014420658928099173, 'management'),\n",
            "  (0.007010001205772922, 'introduces'),\n",
            "  (0.005965619723790326, 'risk'),\n",
            "  (0.005587920713158597, 'different'),\n",
            "  (0.005569926199735984, 'leadership'),\n",
            "  (0.005554886667188622, 'problem'),\n",
            "  (0.005522168052192052, 'performance'),\n",
            "  (0.005026310453791949, 'basic'),\n",
            "  (0.004970573386307456, 'security')],\n",
            " -1.6923814777128563)\n",
            "Topic 19:\n",
            "([(0.1332489274725707, 'learn'),\n",
            "  (0.023773040105144458, 'write'),\n",
            "  (0.016398785070553222, 'languages'),\n",
            "  (0.016272965325741004, 'systems'),\n",
            "  (0.013901699873148505, 'different'),\n",
            "  (0.013449357036238969, 'hello'),\n",
            "  (0.01246221191143805, 'security'),\n",
            "  (0.012403969468490459, 'world'),\n",
            "  (0.010021545874133992, 'types'),\n",
            "  (0.009906757643998105, 'software')],\n",
            " -1.6996413966694102)\n",
            "Topic 20:\n",
            "([(0.1227021485813124, 'learning'),\n",
            "  (0.08043080294147961, 'machine'),\n",
            "  (0.020434707835741375, 'models'),\n",
            "  (0.01977464579000729, 'model'),\n",
            "  (0.018379144730142707, 'module'),\n",
            "  (0.01719980444250376, 'deep'),\n",
            "  (0.01495453053624077, 'regression'),\n",
            "  (0.013571161029912748, 'neural'),\n",
            "  (0.012328636193336321, 'classification'),\n",
            "  (0.010507554833329416, 'networks')],\n",
            " -1.7129160394878098)\n",
            "Topic 21:\n",
            "([(0.044447795635293594, 'social'),\n",
            "  (0.031780450273138784, 'course'),\n",
            "  (0.023468217488936013, 'learning'),\n",
            "  (0.018854925676772348, 'students'),\n",
            "  (0.017804331009775635, 'change'),\n",
            "  (0.014359472836626875, 'teaching'),\n",
            "  (0.01320086448831131, 'climate'),\n",
            "  (0.008965455568963509, 'media'),\n",
            "  (0.00849793213835638, 'online'),\n",
            "  (0.008216923796727345, 'science')],\n",
            " -1.737225530275051)\n",
            "Topic 22:\n",
            "([(0.0832477683482622, 'health'),\n",
            "  (0.015460997947341302, 'public'),\n",
            "  (0.013427924351579613, 'lesson'),\n",
            "  (0.010142168947395079, 'healthcare'),\n",
            "  (0.009574833002751625, 'students'),\n",
            "  (0.00805570930590523, 'care'),\n",
            "  (0.0072910962351818, 'community'),\n",
            "  (0.007217686499580023, 'systems'),\n",
            "  (0.0070600285641059055, 'policy'),\n",
            "  (0.00679465733584184, 'drug')],\n",
            " -2.103971324966842)\n",
            "Topic 23:\n",
            "([(0.10662146126311728, 'azure'),\n",
            "  (0.049554601850111235, 'microsoft'),\n",
            "  (0.03872024122182255, 'exam'),\n",
            "  (0.017654074504149575, 'solutions'),\n",
            "  (0.017160436860336272, 'services'),\n",
            "  (0.015064379679106302, 'health'),\n",
            "  (0.012787500220360702, 'course'),\n",
            "  (0.011179642626528395, 'help'),\n",
            "  (0.010595205270427436, 'resources'),\n",
            "  (0.009048332957816591, 'databricks')],\n",
            " -2.1475830771834765)\n",
            "Topic 24:\n",
            "([(0.03303594142321961, 'akan'),\n",
            "  (0.02989375241696864, 'anda'),\n",
            "  (0.02010592657987341, 'yang'),\n",
            "  (0.01757258521978589, 'untuk'),\n",
            "  (0.01254449580293496, 'kita'),\n",
            "  (0.012050016190878506, 'cara'),\n",
            "  (0.012043655210799656, 'able'),\n",
            "  (0.011273901880739727, 'materi'),\n",
            "  (0.010361995617410887, 'google'),\n",
            "  (0.009081736695184568, 'dalam')],\n",
            " -3.9694150472775553)\n"
          ]
        }
      ]
    },
    {
      "cell_type": "code",
      "source": [
        "corpus_nmf_model = nmf_model_final[bow_corpus]\n",
        "for article in corpus_nmf_model[0]:\n",
        "    print(article)"
      ],
      "metadata": {
        "id": "fUdx_sWcOrOY",
        "colab": {
          "base_uri": "https://localhost:8080/"
        },
        "outputId": "410f24f7-eecb-4574-fb58-78bdd94ee650"
      },
      "execution_count": null,
      "outputs": [
        {
          "output_type": "stream",
          "name": "stdout",
          "text": [
            "(0, 0.021564402281399858)\n",
            "(1, 0.12743159579323896)\n",
            "(3, 0.030440319506684885)\n",
            "(4, 0.012739882242892324)\n",
            "(5, 0.015617708918861587)\n",
            "(6, 0.056489461966963334)\n",
            "(7, 0.01372572795390429)\n",
            "(8, 0.07692334334328363)\n",
            "(9, 0.07977282008373875)\n",
            "(10, 0.03334762665760045)\n",
            "(11, 0.014935005585112746)\n",
            "(13, 0.03174810064879527)\n",
            "(14, 0.14018749679821627)\n",
            "(15, 0.0280632759158718)\n",
            "(16, 0.016307982812529632)\n",
            "(17, 0.011468428379693859)\n",
            "(18, 0.013839501102392564)\n",
            "(19, 0.0671499044268083)\n",
            "(20, 0.010101450243671527)\n",
            "(21, 0.02750101863762807)\n",
            "(22, 0.03266965304150498)\n",
            "(23, 0.09976090065004585)\n",
            "(24, 0.029241991242164145)\n"
          ]
        }
      ]
    },
    {
      "cell_type": "code",
      "source": [
        "#Recommendet System"
      ],
      "metadata": {
        "id": "M8_5qwDsOrRt"
      },
      "execution_count": null,
      "outputs": []
    },
    {
      "cell_type": "code",
      "source": [
        "index = similarities.MatrixSimilarity(nmf_model_final[bow_corpus])"
      ],
      "metadata": {
        "id": "hI_58gf9VSTo",
        "colab": {
          "base_uri": "https://localhost:8080/"
        },
        "outputId": "80453dfe-474e-4b6b-9c98-0c75a00f49e3"
      },
      "execution_count": null,
      "outputs": [
        {
          "output_type": "stream",
          "name": "stderr",
          "text": [
            "WARNING:gensim.similarities.docsim:scanning corpus to determine the number of features (consider setting `num_features` explicitly)\n"
          ]
        }
      ]
    },
    {
      "cell_type": "code",
      "source": [
        "unseen_document = 'Machine Learning'\n",
        "bow_vector = dictionary.doc2bow(preprocess(unseen_document))\n",
        "bow_vector_ordered = sorted(bow_vector, key=lambda x: x[1], reverse=True)\n",
        "print(bow_vector_ordered[:10])"
      ],
      "metadata": {
        "id": "4T4RahS3eFAs",
        "colab": {
          "base_uri": "https://localhost:8080/"
        },
        "outputId": "9611c70f-9403-4182-9f2c-3567e9ecbd78"
      },
      "execution_count": null,
      "outputs": [
        {
          "output_type": "stream",
          "name": "stdout",
          "text": [
            "[(405, 1), (2994, 1)]\n"
          ]
        }
      ]
    },
    {
      "cell_type": "code",
      "source": [
        "nmf_vector_other = nmf_model_final[bow_vector_ordered]\n",
        "print(nmf_vector_other)"
      ],
      "metadata": {
        "id": "7nkK0MtBeFDy",
        "colab": {
          "base_uri": "https://localhost:8080/"
        },
        "outputId": "3815cde8-d9dd-4417-eac4-54f77a1c0685"
      },
      "execution_count": null,
      "outputs": [
        {
          "output_type": "stream",
          "name": "stdout",
          "text": [
            "[(5, 0.5054158104473558), (6, 0.29606047253899964), (13, 0.16102861771264887), (17, 0.010037553578058132), (18, 0.02008110363067415)]\n"
          ]
        }
      ]
    },
    {
      "cell_type": "code",
      "source": [
        "sims = index[nmf_vector_other]\n",
        "sims = list(enumerate(sims))\n",
        "recommendation_scores_1 = []\n",
        "\n"
      ],
      "metadata": {
        "id": "932aS00wn125"
      },
      "execution_count": null,
      "outputs": []
    },
    {
      "cell_type": "code",
      "source": [
        "len(sims)"
      ],
      "metadata": {
        "id": "AF4oNaEsn2rs",
        "colab": {
          "base_uri": "https://localhost:8080/"
        },
        "outputId": "bebd6cb3-cb45-41b1-bd2e-9367bce50dac"
      },
      "execution_count": null,
      "outputs": [
        {
          "output_type": "execute_result",
          "data": {
            "text/plain": [
              "4369"
            ]
          },
          "metadata": {},
          "execution_count": 88
        }
      ]
    },
    {
      "cell_type": "code",
      "source": [
        "len(course_clean)"
      ],
      "metadata": {
        "id": "yk-j7gR1oGYH",
        "colab": {
          "base_uri": "https://localhost:8080/"
        },
        "outputId": "50786a4d-bb6f-4879-8aea-c06d02e4d0fe"
      },
      "execution_count": null,
      "outputs": [
        {
          "output_type": "execute_result",
          "data": {
            "text/plain": [
              "4369"
            ]
          },
          "metadata": {},
          "execution_count": 89
        }
      ]
    },
    {
      "cell_type": "code",
      "source": [
        "for sim in sims:\n",
        "    course_num = sim[0]\n",
        "    recommendation_score_1 = [course_clean[course_num], sim[1]]\n",
        "    recommendation_scores_1.append(recommendation_score_1)\n",
        "\n",
        "recommendation_2 = sorted(recommendation_scores_1, key=lambda x: x[1], reverse=True)\n",
        "\n",
        "print(\"Your book's most prominant topic is:\")\n",
        "print(nmf_model_final.print_topic(max(nmf_vector_other, key=lambda item: item[1])[0]))\n",
        "print('-----')\n",
        "print('Here are your recommendations for your book.')\n",
        "display(recommendation_2[:11])"
      ],
      "metadata": {
        "id": "HOLIWXZPeFGa",
        "colab": {
          "base_uri": "https://localhost:8080/",
          "height": 1000
        },
        "outputId": "5f3e8e8a-9e42-4751-873c-c4db7ae45765"
      },
      "execution_count": null,
      "outputs": [
        {
          "output_type": "stream",
          "name": "stdout",
          "text": [
            "Your book's most prominant topic is:\n",
            "0.123*\"learning\" + 0.080*\"machine\" + 0.020*\"models\" + 0.020*\"model\" + 0.018*\"module\" + 0.017*\"deep\" + 0.015*\"regression\" + 0.014*\"neural\" + 0.012*\"classification\" + 0.011*\"networks\"\n",
            "-----\n",
            "Here are your recommendations for your book.\n"
          ]
        },
        {
          "output_type": "display_data",
          "data": {
            "text/plain": [
              "[['CaliRollB Neural Networks Deep Learning CaliRollA Intermediate Level Deep Learning Artificial Neural Network Backpropagation Python Programming Neural Network Architecture Andrew Ng nTOP INSTRUCTOR Kian Katanforoosh nTOP INSTRUCTOR Younes Bensouda Mourri nTOP INSTRUCTOR In first course Deep Learning Specialization study foundational concept neural networks deep learning By end familiar significant technological trends driving rise deep learning build train apply fully connected deep neural networks implement efficient vectorized neural networks identify key parameters neural network architecture apply deep learning applications The Deep Learning Specialization foundational program help understand capabilities challenges consequences deep learning prepare participate development leading edge AI technology It provides pathway gain knowledge skills apply machine learning work level technical career take definitive step world AI DeepLearning AI education technology company develops global community AI talent DeepLearning AIs expert led educational experiences provide AI practitioners non technical professionals necessary tools go way foundational basics advanced application empowering build AI powered future Analyze major trends driving rise deep learning give examples applied today Set machine learning problem neural network mindset use vectorization speed models Build neural network one hidden layer using forward propagation backpropagation Analyze key computations underlying deep learning use build train deep neural networks computer vision tasks The Deep Learning Specialization foundational program help understand capabilities challenges consequences deep learning prepare participate development leading edge AI technology In Specialization build train neural network architectures Convolutional Neural Networks Recurrent Neural Networks LSTMs Transformers learn make better strategies Dropout BatchNorm Xavier He initialization Get ready master theoretical concepts industry applications using Python TensorFlow tackle real world cases speech recognition music synthesis chatbots machine translation natural language processing AI transforming many industries The Deep Learning Specialization provides pathway take definitive step world AI helping gain knowledge skills level career Along way also get career advice deep learning experts industry academia DeepLearning AIEnglish Introduction Deep Learning Neural Networks Basics Shallow Neural Networks Deep Neural Networks Analyze major trends driving rise deep learning give examples applied today Set machine learning problem neural network mindset use vectorization speed models Build neural network one hidden layer using forward propagation backpropagation Analyze key computations underlying deep learning use build train deep neural networks computer vision tasks Medium Course Duration',\n",
              "  0.87742037],\n",
              " ['CaliRollB Unsupervised Learning Recommenders Reinforcement Learning CaliRollA Beginner Level Collaborative Filtering Unsupervised Learning Recommender Systems Reinforcement Learning Anomaly Detection Andrew Ng nTOP INSTRUCTOR Eddy Shyu Aarti Bagul nTOP INSTRUCTOR Geoff Ladwig nTOP INSTRUCTOR In third course Machine Learning Specialization Use unsupervised learning techniques unsupervised learning including clustering anomaly detection Build recommender systems collaborative filtering approach content based deep learning method Build deep reinforcement learning model The Machine Learning Specialization foundational online program created collaboration DeepLearning AI Stanford Online In beginner friendly program learn fundamentals machine learning use techniques build real world AI applications This Specialization taught Andrew Ng AI visionary led critical research Stanford University groundbreaking work Google Brain Baidu Landing AI advance AI field This course Specialization updated expanded version Andrew pioneering Machine Learning course rated taken million learners since launched It provides broad introduction modern machine learning including supervised learning multiple linear regression logistic regression neural networks decision trees unsupervised learning clustering dimensionality reduction recommender systems best practices used Silicon Valley artificial intelligence machine learning innovation evaluating tuning models taking data centric approach improving performance By end Specialization mastered key concepts gained practical know quickly powerfully apply machine learning challenging real world problems If looking break AI build career machine learning new Machine Learning Specialization best place start DeepLearning AI education technology company develops global community AI talent DeepLearning AIs expert led educational experiences provide AI practitioners non technical professionals necessary tools go way foundational basics advanced application empowering build AI powered future The Leland Stanford Junior University commonly referred Stanford University Stanford American private research university located Stanford California acre ha campus near Palo Alto California United States This week learn two key unsupervised learning algorithms clustering anomaly detection This week learn reinforcement learning build deep Q learning neural network order land virtual lunar lander Mars The Machine Learning Specialization foundational online program created collaboration DeepLearning AI Stanford Online This beginner friendly program teach fundamentals machine learning use techniques build real world AI applications DeepLearning AIEnglish Unsupervised learning Recommender systems Reinforcement learning This week learn two key unsupervised learning algorithms clustering anomaly detection This week learn reinforcement learning build deep Q learning neural network order land virtual lunar lander Mars Medium Course Duration',\n",
              "  0.87169194],\n",
              " ['CaliRollB Machine Learning All CaliRollA Beginner Level Prof Marco Gillies Machine Learning often called Artificial Intelligence AI one exciting areas technology moment We see daily news stories herald new breakthroughs facial recognition technology self driving cars computers conversation like real person Machine Learning technology set revolutionise almost area human life work affect lives likely want find Machine Learning reputation one complex areas computer science requiring advanced mathematics engineering skills understand While true working Machine Learning engineer involve lot mathematics programming believe anyone understand basic concepts Machine Learning given importance technology everyone The big AI breakthroughs sound like science fiction come simple idea use data train statistical algorithms In course learn understand basic idea machine learning even background math programming Not get hands use user friendly tools developed Goldsmiths University London actually machine learning project training computer recognise images This course lot different people It could good first step technical career Machine Learning always better start high level concepts technical details also great role non technical You might manager non technical role company considering using Machine Learning You really need understand technology course great place get understanding Or might following news reports AI interested finding hottest new technology moment Whoever looking forward guiding first machine learning project The University London federal University includes world leading Colleges Our distance learning programmes founded enriched lives thousands students delivering high quality University London degrees wherever students across globe Our alumni include Nobel Prize winners Today global leader distance flexible study offering degree programmes students countries To find studying one degrees visit In week learn artificial intelligence machine learning techniques You learn problems techniques address practical experience training learning model This week learn data representation affects machine learning representations called features make learning easier In topic get ready machine learning project You learn test machine learning project make sure works want You also think opportunities dangers machine learning technology In final topic machine learning project collecting dataset training model testing University LondonEnglish Machine learning Data Features Machine Learning Practice Your Machine Learning Project In week learn artificial intelligence machine learning techniques You learn problems techniques address practical experience training learning model This week learn data representation affects machine learning representations called features make learning easier In topic get ready machine learning project You learn test machine learning project make sure works want You also think opportunities dangers machine learning technology In final topic machine learning project collecting dataset training model testing Medium Course Duration',\n",
              "  0.8631846],\n",
              " ['CaliRollB Machine Learning Introduction Everyone CaliRollA Beginner Level Deep Learning Artificial Intelligence AI Machine Learning Reinforcement Learning Machine Learning Model Lifecycle Aije Egwaikhide Yasmine Hemmati This three module course introduces machine learning data science everyone foundational understanding machine learning models You learn history machine learning applications machine learning machine learning model lifecycle tools machine learning You also learn supervised versus unsupervised learning classification regression evaluating machine learning models Our labs give hands experience machine learning data science concepts You develop concrete machine learning skills well create final project demonstrating proficiency IBM global leader business transformation open hybrid cloud platform AI serving clients countries around world Today Fortune Companies rely IBM Cloud run business IBM Watson enterprise AI hard work engagements IBM also one world vital corporate research organizations consecutive years patent leadership Above guided principles trust transparency support inclusive society IBM committed responsible technology innovator force good world Welcome world machine learning Machine learning branch artificial intelligence AI computer science focuses use data algorithms imitate way humans learn gradually improving accuracy Machine learning important component growing field data science Using statistical methods algorithms trained make classifications predictions uncovering key insights within data mining projects These insights subsequently drive decision making within applications businesses ideally impacting key growth metrics As big data continues expand grow market demand data scientists increase requiring assist identification relevant business questions subsequently data answer In module explore fundamental concepts behind machine learning You learn differentiate AI machine deep learning Further also explore importance requirements process lifecycle machine learning product Machine learning hot topic everyone trying understand With amount information machine learning get quickly overwhelmed IBM Skills NetworkEnglish Machine Learning Everyone Machine Learning Topics Optional Honors Final Project Welcome world machine learning Machine learning branch artificial intelligence AI computer science focuses use data algorithms imitate way humans learn gradually improving accuracy n nMachine learning important component growing field data science Using statistical methods algorithms trained make classifications predictions uncovering key insights within data mining projects These insights subsequently drive decision making within applications businesses ideally impacting key growth metrics As big data continues expand grow market demand data scientists increase requiring assist identification relevant business questions subsequently data answer n nIn module explore fundamental concepts behind machine learning You learn differentiate AI machine deep learning Further also explore importance requirements process lifecycle machine learning product Machine learning hot topic everyone trying understand With amount information machine learning get quickly overwhelmed In module explore important topics machine learning need know You dive supervised unsupervised learning classification deep reinforcement learning well regression Further learn evaluate machine learning model Short Course Duration',\n",
              "  0.85808414],\n",
              " ['CaliRollB Optimizing Machine Learning Performance CaliRollA Unknown Anna Koop This course synthesizes everything learned applied machine learning specialization You walk complete machine learning project prepare machine learning maintenance roadmap You understand analyze deal changing data You also able identify interpret potential unintended effects project You understand define procedures operationalize maintain applied machine learning model By end course tools understanding need confidently roll machine learning project prepare optimize business context To successful least beginner level background Python programming e g able read code trace existing code comfortable conditionals loops variables lists dictionaries arrays You basic understanding linear algebra vector notation statistics probability distributions mean median mode This final course Applied Machine Learning Specialization brought Coursera Alberta Machine Intelligence Institute Amii The Alberta Machine Intelligence Institute Amii home world top talent machine intelligence We Alberta based research institute pushes bounds academic knowledge guides business understanding artificial intelligence machine learning This week present tools understanding overall strategy business needs order see best returns ML investment From understanding current status navigating ownership setting team week understanding applied machine learning successful business context This week talk broader context machine learning developers responsibilities regarding technology used Using case studies existing frameworks give tools figure ethical approach realize best outcomes deploying machine learning real world An important aspect machine learning real world considering machine learning models integrated existing systems effect operations This week review things consider turn QuAMs machine learning models operational tools Work end model deployed In final week go things need consider context actual working system This specialization professionals heard buzz around machine learning want apply machine learning data analysis automation Whether finance medicine engineering business domains specialization set define train maintain successful machine learning application Alberta Machine Intelligence InstituteEnglish Machine Learning Strategy Responsible Machine Learning Machine Learning Production Planning Care Feeding Machine Learning System This week present tools understanding overall strategy business needs order see best returns ML investment From understanding current status navigating ownership setting team week understanding applied machine learning successful business context This week talk broader context machine learning developers responsibilities regarding technology used Using case studies existing frameworks give tools figure ethical approach realize best outcomes deploying machine learning real world An important aspect machine learning real world considering machine learning models integrated existing systems effect operations This week review things consider turn QuAMs machine learning models operational tools Work end model deployed In final week go things need consider context actual working system Medium Course Duration',\n",
              "  0.8473605],\n",
              " ['CaliRollB Deep Learning Reinforcement Learning CaliRollA Intermediate Level Deep Learning Artificial Neural Network Machine Learning Reinforcement Learning keras Mark J Grover Miguel Maldonado This course introduces two sought disciplines Machine Learning Deep Learning Reinforcement Learning Deep Learning subset Machine Learning applications Supervised Unsupervised Learning frequently used power AI applications use daily basis First learn theory behind Neural Networks basis Deep Learning well several modern architectures Deep Learning Once developed Deep Learning models course focus Reinforcement Learning type Machine Learning caught attention recently Although currently Reinforcement Learning practical applications promising area research AI might become relevant near future IBM global leader business transformation open hybrid cloud platform AI serving clients countries around world Today Fortune Companies rely IBM Cloud run business IBM Watson enterprise AI hard work engagements IBM also one world vital corporate research organizations consecutive years patent leadership Above guided principles trust transparency support inclusive society IBM committed responsible technology innovator force good world This module introduces Deep Learning Neural Networks applications You go theoretical background characteristics share machine learning algorithms well characteristics makes stand great modeling techniques specific scenarios You also gain hands practice Neural Networks key concepts help algorithms converge robust solutions You leverage several options prioritize training time accuracy neural network deep learning models In module learn key concepts intervene model training including optimizers data shuffling You also gain hands practice using Keras one go libraries deep learning In module become familiar convolutional neural networks also known space invariant artificial neural networks type deep neural networks frequently used image AI applications There several CNN architectures learn common ones add toolkit Deep Learning Techniques In module become familiar Recursive Neural Networks RNNs Long Short Term Memory Networks LSTM type RNN considered breakthrough speech text recongintion RNNs frequently used AI applications today also used supervised learning IBM Skills NetworkEnglish Introduction Neural Networks Neural Network Optimizers Keras Convolutional Neural Networks Recurrent Neural Networks Long Short Term Memory Networks Deep Learning Autoencoders Deep Learning Applications Reinforcement Learning This module introduces Deep Learning Neural Networks applications You go theoretical background characteristics share machine learning algorithms well characteristics makes stand great modeling techniques specific scenarios You xa also gain hands practice Neural Networks key concepts help algorithms converge robust solutions You leverage several options prioritize training time accuracy neural network deep learning models In module learn key concepts intervene model training including optimizers data shuffling You also gain hands practice using Keras one go libraries deep learning xa In module become familiar convolutional neural networks also known space invariant artificial neural networks type deep neural networks frequently used image AI applications There several CNN architectures learn common ones add toolkit Deep Learning Techniques In module become familiar Recursive Neural Networks RNNs Long Short Term Memory Networks LSTM type RNN considered breakthrough speech text recongintion RNNs frequently used AI applications today also used supervised learning xa In module become familiar Autoencoders useful application Deep Learning Unsupervised Learning Autoencoders neural network architecture forces learning lower dimensional representation data commonly images In module learn Deep learning based techniques data representation autoencoders work describe use trained autoencoders image applications In module become familiar novel applications Neural Networks You learn Generative Adversarial Networks frequently referred GANs application Neural Networks generate new data Finally learn Reinforcement Learning one big promises A I based training algorithms using rewards instead using method minimize error using throughout course Medium Course Duration',\n",
              "  0.8471924],\n",
              " ['CaliRollB Introduction Learning Transfer Life Long Learning L CaliRollA Beginner Level Mike Smith Carolyn Dare Learn identify enablers barriers learning transfer Use experience categorise processes activities involved learning transferring learning practice There many criteria success training development activities judged One important however learning transfer Ultimately success given training development program reflected whether learned applied job Organisations indeed trainees invest large amounts time effort resources work related training generally expect see manifested way back work setting e g observable changes work conducted However many organisations people view likelihood transfer training hope expectation This course show approach goal improving learning transfer organisation Since University California Irvine combined strengths major research university bounty incomparable Southern California location UCI unyielding commitment rigorous academics cutting edge research leadership character development makes campus driving force innovation discovery serves local national global communities many ways Learn identify enablers barriers learning transfer Use experience categorise processes activities involved learning transferring learning practice There many criteria success training development activities judged One important however learning transfer Ultimately success given training development program reflected whether learned applied job Organisations indeed trainees invest large amounts time effort resources work related training generally expect see manifested way back work setting e g observable changes work conducted However many organisations people view likelihood transfer training hope expectation This course show approach goal improving learning transfer organisation Reflecting upon reviewing experience attending training programme time line technique enables understand stages design delivery learning intervention places back seat learner In reviewing three phases learning transfer learning intervention able isolate significant contributions enable fully effective efficient transferring learning Research learning transfer accelerated last years business healthcare education questioning whether investment learning development bearing fruit Learning transfer something happens end learning process ability transfer vested every stage requires understanding learn learn Among many factors influence learning transfer make Learning Transfer System Inventory established Professor Ed Holton research team These factors categorised three headings capability motivation work environment This module describes factors corresponding categorizations affect likelihood success learning intervention University California IrvineEnglish Learning Review Module Fundamental Concepts Definitions MODULE LEARNING TRANSFER SYSTEM INVENTORY LTSI Reflecting upon reviewing experience attending training programme time line technique enables understand stages design delivery learning intervention places back seat learner In reviewing three phases learning transfer learning intervention able isolate significant contributions enable fully effective efficient transferring learning Research learning transfer accelerated last years business healthcare education questioning whether investment learning development bearing fruit Learning transfer something happens end learning process ability transfer vested every stage requires understanding learn learn Among many factors influence learning transfer make Learning Transfer System Inventory established Professor Ed Holton research team These factors categorised three headings capability motivation work environment This module describes factors corresponding categorizations affect likelihood success learning intervention Short Course Duration',\n",
              "  0.8449913],\n",
              " ['CaliRollB Learning Mindsets Skills CaliRollA Unknown Patrick E Yurick John Bosselman Ben Daley Judy Wu The Learning Mindsets Skills MOOC designed explore underlying concepts behind Learning Mindsets Skills well practical applications concepts various educational environments Course Participants hypothesize learning mindset related change implemented within educational environment test theory present findings wider audience High Tech High began single charter high school launched coalition San Diego business leaders educators It evolved integrated network schools spanning grades K housing comprehensive teacher certification program new innovative Graduate School Education Our first week Learning Mindsets Explained look closely outline Learning Mindsets identify learning environment Our second week Measurement Assessment Learning Mindsets us looking specifically Learning Mindsets evaluated within educational environments Our third week Reflection Dialogue us looking specifically Learning Mindsets talked within learning cultures Learning Mindsets Skills much ongoing cultural conversation set skills High Tech High Graduate School EducationEnglish Learning Mindsets Skills Explained Measurement Assessment Learning Mindsets Skills Reflection Dialogue Our first week Learning Mindsets Explained look closely outline Learning Mindsets identify learning environment Our second week Measurement Assessment Learning Mindsets us looking specifically Learning Mindsets evaluated within educational environments Our third week Reflection Dialogue us looking specifically Learning Mindsets talked within learning cultures Learning Mindsets Skills much ongoing cultural conversation set skills Short Course Duration',\n",
              "  0.8408251],\n",
              " ['CaliRollB Introduction Machine Learning CaliRollA Intermediate Level Lawrence Carin David Carlson Timothy Dunn Kevin Liang This course provide foundational understanding machine learning models logistic regression multilayer perceptrons convolutional neural networks natural language processing etc well demonstrate models solve complex problems variety industries medical diagnostics image recognition text prediction In addition designed practice exercises give hands experience implementing data science models data sets These practice exercises teach implement machine learning algorithms PyTorch open source libraries used leading tech companies machine learning field e g Google NVIDIA CocaCola eBay Snapchat Uber many Duke University undergraduate graduate students world class faculty helping expand frontiers knowledge The university strong commitment applying knowledge service society near North Carolina campus around world The focus module introduce concepts machine learning little mathematics possible We introduce basic concepts machine learning including logistic regression simple widely employed machine learning ML method Also covered multilayered perceptron MLP fundamental neural network The concept deep learning discussed also related simpler models In module discussing mathematical basis learning deep networks We first work define issue learning deep networks minimization problem mathematical function After defining mathematical goal introduce validation methods estimate real world performance learned deep networks We discuss gradient descent classical technique optimization used achieve mathematical goal Finally discuss stochastic gradient descent used practice learn deep networks This week cover model training well transfer learning fine tuning In addition learning fundamentals CNN applied careful discussion provided intuition CNN goal providing conceptual understanding This week cover application neural networks natural language processing NLP simple neural models complex The fundamental concept word embeddings discussed well methods employed within model learning usage several NLP applications A wide range neural NLP models also discussed including recurrent neural networks specifically long short term memory LSTM models Duke UniversityEnglish Simple Introduction Machine Learning Basics Model Learning Image Analysis Convolutional Neural Networks Recurrent Neural Networks Natural Language Processing The Transformer Network Natural Language Processing Introduction Reinforcement Learning The focus module introduce concepts machine learning little mathematics possible We introduce basic concepts machine learning including logistic regression simple widely employed machine learning ML method Also covered multilayered perceptron MLP fundamental neural network The concept deep learning discussed also related simpler models In module discussing mathematical basis learning deep networks We first work define issue learning deep networks minimization problem mathematical function After defining mathematical goal introduce validation methods estimate real world performance learned deep networks We discuss gradient descent classical technique optimization used achieve mathematical goal Finally discuss stochastic gradient descent used practice learn deep networks This week cover model training well transfer learning fine tuning In addition learning fundamentals CNN applied careful discussion provided intuition CNN goal providing conceptual understanding This week cover application neural networks natural language processing NLP simple neural models complex The fundamental concept word embeddings discussed well methods employed within model learning usage several NLP applications A wide range neural NLP models also discussed including recurrent neural networks specifically long short term memory LSTM models This week cover Introduction Transformer Network deep machine learning model designed flexible robust Recurrent Neural Network RNN We start reviewing several machine learning building blocks Transformer Network Inner products word vectors attention mechanisms sequence sequence encoders decoders Then put components together explore complete Transformer Network This week cover Reinforcement Learning fundamental concept machine learning concerned taking suitable actions maximize rewards particular situation After learning initial steps Reinforcement Learning move Q Learning well Deep Q Learning We discuss difference concepts Exploration Exploitation important Medium Course Duration',\n",
              "  0.8332745],\n",
              " ['CaliRollB Microsoft Azure Machine Learning Data Scientists CaliRollA Intermediate Level Machine Learning Supervised Learning Regression Analysis regression Microsoft Machine learning core artificial intelligence many modern applications services depend predictive machine learning models Training machine learning model iterative process requires time compute resources Automated machine learning help make easier In course learn use Azure Machine Learning create publish models without writing code This second course five course program prepares take DP Designing Implementing Data Science Solution Azurecertification exam The certification exam opportunity prove knowledge expertise operate machine learning solutions cloud scale using Azure Machine Learning This specialization teaches leverage existing knowledge Python machine learning manage data ingestion preparation model training deployment machine learning solution monitoring Microsoft Azure Each course teaches concepts skills measured exam This Specialization intended data scientists existing knowledge Python machine learning frameworks like Scikit Learn PyTorch Tensorflow want build operate machine learning solutions cloud It teaches data scientists create end end solutions Microsoft Azure Students learn manage Azure resources machine learning run experiments train models deploy operationalize machine learning solutions implement responsible machine learning They also learn use Azure Databricks explore prepare model data integrate Databricks machine learning processes Azure Machine Learning Our goal Microsoft empower every individual organization planet achieve In next revolution digital transformation growth driven technology Our integrated cloud approach creates unmatched platform digital transformation We address real world needs customers seamlessly integrating Microsoft Dynamics LinkedIn GitHub Microsoft Power Platform Azure unlock business value every organization large enterprises family run businesses The backbone foundation Azure Training machine learning model iterative process requires time compute resources Automated machine learning help make easier In module learn identify different kinds machine learning model use automated machine learning capability Azure Machine Learning train deploy predictive model Regression supervised machine learning technique used predict numeric values module learn create regression models using Azure Machine Learning designer Classification supervised machine learning technique used predict categories classes In module learn create classification models using Azure Machine Learning designer Clustering unsupervised machine learning technique used group similar entities based features In module learn create clustering models using Azure Machine Learning designer This Professional Certificate intended data scientists existing knowledge Python machine learning frameworks like Scikit Learn PyTorch Tensorflow want build operate machine learning solutions cloud This Professional Certificate teaches learners create end end solutions Microsoft Azure They learn manage Azure resources machine learning run experiments train models deploy operationalize machine learning solutions implement responsible machine learning They also learn use Azure Databricks explore prepare model data integrate Databricks machine learning processes Azure Machine Learning This program consists courses help prepare take Exam DP Designing Implementing Data Science Solution Azure The certification exam opportunity prove knowledge expertise operate machine learning solutions cloud scale using Azure Machine Learning This Professional Certificate teaches leverage existing knowledge Python machine learning manage data ingestion preparation model training deployment machine learning solution monitoring Microsoft Azure Each course teaches concepts skills measured exam By end program ready take DP Designing Implementing Data Science Solution Azure MicrosoftEnglish Use Automated Machine Learning Azure Machine Learning Create Regression Model Azure Machine Learning Designer Create Classification Model Azure AI Create Clustering Model Azure AI Training machine learning model iterative process requires time compute resources Automated machine learning help make easier In module learn identify different kinds machine learning model use automated machine learning capability Azure Machine Learning train deploy predictive model Regression supervised machine learning technique used predict numeric values module learn create regression models using Azure Machine Learning designer Classification supervised machine learning technique used predict categories classes In module learn create classification models using Azure Machine Learning designer Clustering unsupervised machine learning technique used group similar entities based features In module learn create clustering models using Azure Machine Learning designer Medium Course Duration',\n",
              "  0.82404375],\n",
              " ['CaliRollB Designing Learning Innovation CaliRollA Beginner Level Federica Brambilla Daniela Casiraghi Susanna Sancassani Where start innovate teaching But mean innovate classroom Designing Learning Innovation aims put designing culture service learning innovation supporting specific pedagogical background wish learn basic tools good teaching design continue exploring frontiers innovation A set logical methodological tools innovate teaching finding suitable approaches one vision teaching learning experience INTENDED LEARNING OUTCOMES ILOs If actively participate course end able Use basic theoretical methodological tools Constructive Alignment Learning Innovation Network enhance teaching coherence learning objectives assessment methods learning experiences apply pedagogical frameworks active learning methodology design either individual teaching module entire teaching path evaluate advantages disadvantages field teachings traditional evaluation approaches compared new assessment strategies particular oriented formative evaluation apply simple strategies managing active class small medium large classrooms designing producing quality teaching materials also enhancing availability Open Educational Resources THE MOOC BOOK MATERIALS AND ACTIVITIES The MOOC realized strongly integrated way book Designing Learning Innovation published Pearson english version translation italian one already published accessible In course find video lessons infographic articulated book You also encounter different types activities contribute make experience richer complete Politecnico di Milano scientific technological University trains engineers architects industrial designers From Politecnico di Milano started release several MOOCs developed service digital learning METID Methods Innovative Technologies Learning giving everybody chance enhance personal skills The topic first week Why carry Learning Innovation explores concept Learning Innovation reasons behind trying find answer question need innovate teaching In second week look topic Intended Learning Outcomes ILOs key role guide process designing teaching experiences We start Constructive Alignment theory analyze Dublin Descriptors Bloom Taxonomies useful helping us create richer plan Intended Learning Outcomes The topic third week Assessment teaching learning experience In fourth week consider pedagogical frameworks potential use designing learning innovation Politecnico di MilanoEnglish Why Learning Innovation The Intended Learning Outcomes The Assessment The Pedagogical Frameworks The Learning Innovation Network active classroom The Learning Innovation Network contents useful connections The topic first week Why carry Learning Innovation explores concept Learning Innovation reasons behind trying find answer question need innovate teaching In second week look topic Intended Learning Outcomes ILOs key role guide process designing teaching experiences We start Constructive Alignment theory analyze Dublin Descriptors Bloom Taxonomies useful helping us create richer plan Intended Learning Outcomes The topic third week Assessment teaching learning experience In fourth week consider pedagogical frameworks potential use designing learning innovation In fifth sixth week explore Learning Innovation Network tool designing teaching learning experiences developed METID Politecnico di Milano It places center attention dynamic interactions among subjects generate experience teaching learning The Learning Innovation Network teacher designer tool designing learning innovation deconstruction learning experience key components subjects activities contents channels outside world stimulates observation offers ideas redesigning In fifth week focus particular use Networked Learning plan learning innovation starting identifying representing subjects teaching learning experience definition description learning activities active classes In sixth week focus designing contents communication channels strategies integrate outside world order support teaching learning activities monitoring innovative experience teaching learning In fifth sixth week explore Learning Innovation Network tool teaching learning design developed METID Politecnico di Milano sets dynamic interactions subjects generate experience teaching learning use center attention The Learning Innovation Network teacher designer tool design learning innovation deconstruction learning experience key components subjects activities content channels outside world stimulates observation offers ideas redesigning After identifying describing subjects teaching learning experience sixth week going focus planning related content channels communication strategies integrate outside world well monitoring finalized assess efficacy teaching innovation interventions Medium Course Duration',\n",
              "  0.8103527]]"
            ]
          },
          "metadata": {}
        }
      ]
    },
    {
      "cell_type": "code",
      "source": [
        "len(recommendation_2)"
      ],
      "metadata": {
        "id": "Zy4L5bBO0OGH",
        "colab": {
          "base_uri": "https://localhost:8080/"
        },
        "outputId": "e6ac7a37-9841-412b-9b27-6f7cf3469d12"
      },
      "execution_count": null,
      "outputs": [
        {
          "output_type": "execute_result",
          "data": {
            "text/plain": [
              "4369"
            ]
          },
          "metadata": {},
          "execution_count": 91
        }
      ]
    },
    {
      "cell_type": "code",
      "source": [
        "import pandas as pd\n",
        "recommendation_course_name = pd.DataFrame()\n",
        "recommendation_course_name['course_name'] =recommendation_2"
      ],
      "metadata": {
        "id": "pOMR4hHB0XAD"
      },
      "execution_count": null,
      "outputs": []
    },
    {
      "cell_type": "code",
      "source": [
        "recommendation_course_name"
      ],
      "metadata": {
        "id": "TTuj-6Yp0oTR",
        "colab": {
          "base_uri": "https://localhost:8080/",
          "height": 424
        },
        "outputId": "19d8c490-224a-4c65-ea99-5b1d3be8e0cb"
      },
      "execution_count": null,
      "outputs": [
        {
          "output_type": "execute_result",
          "data": {
            "text/plain": [
              "                                            course_name\n",
              "0     [CaliRollB Neural Networks Deep Learning CaliR...\n",
              "1     [CaliRollB Unsupervised Learning Recommenders ...\n",
              "2     [CaliRollB Machine Learning All CaliRollA Begi...\n",
              "3     [CaliRollB Machine Learning Introduction Every...\n",
              "4     [CaliRollB Optimizing Machine Learning Perform...\n",
              "...                                                 ...\n",
              "4364  [CaliRollB Mempersiapkan Data untuk Eksplorasi...\n",
              "4365  [CaliRollB Memproses Data dari Kotor ke Bersih...\n",
              "4366  [CaliRollB Menganalisis Data untuk Menjawab Pe...\n",
              "4367  [CaliRollB Seluk Beluk Jaringan Komputer CaliR...\n",
              "4368                                         [nan, 0.0]\n",
              "\n",
              "[4369 rows x 1 columns]"
            ],
            "text/html": [
              "\n",
              "  <div id=\"df-d9c7e506-89b7-48b6-bdbc-788e75a2bd46\">\n",
              "    <div class=\"colab-df-container\">\n",
              "      <div>\n",
              "<style scoped>\n",
              "    .dataframe tbody tr th:only-of-type {\n",
              "        vertical-align: middle;\n",
              "    }\n",
              "\n",
              "    .dataframe tbody tr th {\n",
              "        vertical-align: top;\n",
              "    }\n",
              "\n",
              "    .dataframe thead th {\n",
              "        text-align: right;\n",
              "    }\n",
              "</style>\n",
              "<table border=\"1\" class=\"dataframe\">\n",
              "  <thead>\n",
              "    <tr style=\"text-align: right;\">\n",
              "      <th></th>\n",
              "      <th>course_name</th>\n",
              "    </tr>\n",
              "  </thead>\n",
              "  <tbody>\n",
              "    <tr>\n",
              "      <th>0</th>\n",
              "      <td>[CaliRollB Neural Networks Deep Learning CaliR...</td>\n",
              "    </tr>\n",
              "    <tr>\n",
              "      <th>1</th>\n",
              "      <td>[CaliRollB Unsupervised Learning Recommenders ...</td>\n",
              "    </tr>\n",
              "    <tr>\n",
              "      <th>2</th>\n",
              "      <td>[CaliRollB Machine Learning All CaliRollA Begi...</td>\n",
              "    </tr>\n",
              "    <tr>\n",
              "      <th>3</th>\n",
              "      <td>[CaliRollB Machine Learning Introduction Every...</td>\n",
              "    </tr>\n",
              "    <tr>\n",
              "      <th>4</th>\n",
              "      <td>[CaliRollB Optimizing Machine Learning Perform...</td>\n",
              "    </tr>\n",
              "    <tr>\n",
              "      <th>...</th>\n",
              "      <td>...</td>\n",
              "    </tr>\n",
              "    <tr>\n",
              "      <th>4364</th>\n",
              "      <td>[CaliRollB Mempersiapkan Data untuk Eksplorasi...</td>\n",
              "    </tr>\n",
              "    <tr>\n",
              "      <th>4365</th>\n",
              "      <td>[CaliRollB Memproses Data dari Kotor ke Bersih...</td>\n",
              "    </tr>\n",
              "    <tr>\n",
              "      <th>4366</th>\n",
              "      <td>[CaliRollB Menganalisis Data untuk Menjawab Pe...</td>\n",
              "    </tr>\n",
              "    <tr>\n",
              "      <th>4367</th>\n",
              "      <td>[CaliRollB Seluk Beluk Jaringan Komputer CaliR...</td>\n",
              "    </tr>\n",
              "    <tr>\n",
              "      <th>4368</th>\n",
              "      <td>[nan, 0.0]</td>\n",
              "    </tr>\n",
              "  </tbody>\n",
              "</table>\n",
              "<p>4369 rows × 1 columns</p>\n",
              "</div>\n",
              "      <button class=\"colab-df-convert\" onclick=\"convertToInteractive('df-d9c7e506-89b7-48b6-bdbc-788e75a2bd46')\"\n",
              "              title=\"Convert this dataframe to an interactive table.\"\n",
              "              style=\"display:none;\">\n",
              "        \n",
              "  <svg xmlns=\"http://www.w3.org/2000/svg\" height=\"24px\"viewBox=\"0 0 24 24\"\n",
              "       width=\"24px\">\n",
              "    <path d=\"M0 0h24v24H0V0z\" fill=\"none\"/>\n",
              "    <path d=\"M18.56 5.44l.94 2.06.94-2.06 2.06-.94-2.06-.94-.94-2.06-.94 2.06-2.06.94zm-11 1L8.5 8.5l.94-2.06 2.06-.94-2.06-.94L8.5 2.5l-.94 2.06-2.06.94zm10 10l.94 2.06.94-2.06 2.06-.94-2.06-.94-.94-2.06-.94 2.06-2.06.94z\"/><path d=\"M17.41 7.96l-1.37-1.37c-.4-.4-.92-.59-1.43-.59-.52 0-1.04.2-1.43.59L10.3 9.45l-7.72 7.72c-.78.78-.78 2.05 0 2.83L4 21.41c.39.39.9.59 1.41.59.51 0 1.02-.2 1.41-.59l7.78-7.78 2.81-2.81c.8-.78.8-2.07 0-2.86zM5.41 20L4 18.59l7.72-7.72 1.47 1.35L5.41 20z\"/>\n",
              "  </svg>\n",
              "      </button>\n",
              "      \n",
              "  <style>\n",
              "    .colab-df-container {\n",
              "      display:flex;\n",
              "      flex-wrap:wrap;\n",
              "      gap: 12px;\n",
              "    }\n",
              "\n",
              "    .colab-df-convert {\n",
              "      background-color: #E8F0FE;\n",
              "      border: none;\n",
              "      border-radius: 50%;\n",
              "      cursor: pointer;\n",
              "      display: none;\n",
              "      fill: #1967D2;\n",
              "      height: 32px;\n",
              "      padding: 0 0 0 0;\n",
              "      width: 32px;\n",
              "    }\n",
              "\n",
              "    .colab-df-convert:hover {\n",
              "      background-color: #E2EBFA;\n",
              "      box-shadow: 0px 1px 2px rgba(60, 64, 67, 0.3), 0px 1px 3px 1px rgba(60, 64, 67, 0.15);\n",
              "      fill: #174EA6;\n",
              "    }\n",
              "\n",
              "    [theme=dark] .colab-df-convert {\n",
              "      background-color: #3B4455;\n",
              "      fill: #D2E3FC;\n",
              "    }\n",
              "\n",
              "    [theme=dark] .colab-df-convert:hover {\n",
              "      background-color: #434B5C;\n",
              "      box-shadow: 0px 1px 3px 1px rgba(0, 0, 0, 0.15);\n",
              "      filter: drop-shadow(0px 1px 2px rgba(0, 0, 0, 0.3));\n",
              "      fill: #FFFFFF;\n",
              "    }\n",
              "  </style>\n",
              "\n",
              "      <script>\n",
              "        const buttonEl =\n",
              "          document.querySelector('#df-d9c7e506-89b7-48b6-bdbc-788e75a2bd46 button.colab-df-convert');\n",
              "        buttonEl.style.display =\n",
              "          google.colab.kernel.accessAllowed ? 'block' : 'none';\n",
              "\n",
              "        async function convertToInteractive(key) {\n",
              "          const element = document.querySelector('#df-d9c7e506-89b7-48b6-bdbc-788e75a2bd46');\n",
              "          const dataTable =\n",
              "            await google.colab.kernel.invokeFunction('convertToInteractive',\n",
              "                                                     [key], {});\n",
              "          if (!dataTable) return;\n",
              "\n",
              "          const docLinkHtml = 'Like what you see? Visit the ' +\n",
              "            '<a target=\"_blank\" href=https://colab.research.google.com/notebooks/data_table.ipynb>data table notebook</a>'\n",
              "            + ' to learn more about interactive tables.';\n",
              "          element.innerHTML = '';\n",
              "          dataTable['output_type'] = 'display_data';\n",
              "          await google.colab.output.renderOutput(dataTable, element);\n",
              "          const docLink = document.createElement('div');\n",
              "          docLink.innerHTML = docLinkHtml;\n",
              "          element.appendChild(docLink);\n",
              "        }\n",
              "      </script>\n",
              "    </div>\n",
              "  </div>\n",
              "  "
            ]
          },
          "metadata": {},
          "execution_count": 93
        }
      ]
    },
    {
      "cell_type": "code",
      "source": [
        "recommendation_course_name['course_name'][:2]"
      ],
      "metadata": {
        "id": "kWimn2TL36GH",
        "colab": {
          "base_uri": "https://localhost:8080/"
        },
        "outputId": "854a207e-de33-4bb4-c4cf-dec0b66f4275"
      },
      "execution_count": null,
      "outputs": [
        {
          "output_type": "execute_result",
          "data": {
            "text/plain": [
              "0    [CaliRollB Neural Networks Deep Learning CaliR...\n",
              "1    [CaliRollB Unsupervised Learning Recommenders ...\n",
              "Name: course_name, dtype: object"
            ]
          },
          "metadata": {},
          "execution_count": 94
        }
      ]
    },
    {
      "cell_type": "code",
      "source": [
        "import re\n",
        "try :\n",
        "    # here ; and / are our two markers \n",
        "    # in which string can be found. \n",
        "    marker1 = 'CaliRollB'\n",
        "    marker2 = 'CaliRollA'\n",
        "    regexPattern = marker1 + '(.+?)' + marker2\n",
        "    str_found = re.search(regexPattern, str(recommendation_course_name['course_name'][0])).group(1)\n",
        "except AttributeError:\n",
        "    # Attribute error is expected if string \n",
        "    # is not found between given markers\n",
        "    str_found = ' '\n",
        "print(str_found)"
      ],
      "metadata": {
        "id": "_lABl8vP30ww",
        "colab": {
          "base_uri": "https://localhost:8080/"
        },
        "outputId": "e3ed5409-f752-49d8-99dd-96bcb427b6ea"
      },
      "execution_count": null,
      "outputs": [
        {
          "output_type": "stream",
          "name": "stdout",
          "text": [
            " Neural Networks Deep Learning \n"
          ]
        }
      ]
    },
    {
      "cell_type": "code",
      "source": [
        "str_found_list = []\n",
        "for i in range(len(recommendation_course_name)):\n",
        "  try :\n",
        "    # here ; and / are our two markers \n",
        "    # in which string can be found. \n",
        "    marker1 = 'CaliRollB'\n",
        "    marker2 = 'CaliRollA'\n",
        "    regexPattern = marker1 + '(.+?)' + marker2\n",
        "    str_found = re.search(regexPattern, str(recommendation_course_name['course_name'][i])).group(1)\n",
        "  except AttributeError:\n",
        "    # Attribute error is expected if string \n",
        "    # is not found between given markers\n",
        "    str_found = ' '\n",
        "  str_found_list.append(str_found)\n"
      ],
      "metadata": {
        "id": "xvU9Afag06re"
      },
      "execution_count": null,
      "outputs": []
    },
    {
      "cell_type": "code",
      "source": [
        "str_found_list[:5]"
      ],
      "metadata": {
        "id": "P7VmrOZJ48_f",
        "colab": {
          "base_uri": "https://localhost:8080/"
        },
        "outputId": "b95ccf23-fd1b-4ecc-abe1-cb6d7694870f"
      },
      "execution_count": null,
      "outputs": [
        {
          "output_type": "execute_result",
          "data": {
            "text/plain": [
              "[' Neural Networks Deep Learning ',\n",
              " ' Unsupervised Learning Recommenders Reinforcement Learning ',\n",
              " ' Machine Learning All ',\n",
              " ' Machine Learning Introduction Everyone ',\n",
              " ' Optimizing Machine Learning Performance ']"
            ]
          },
          "metadata": {},
          "execution_count": 97
        }
      ]
    },
    {
      "cell_type": "code",
      "source": [
        "reco_course_list = pd.DataFrame()\n",
        "reco_course_list['course_name'] = str_found_list"
      ],
      "metadata": {
        "id": "7tNBaBjD4-im"
      },
      "execution_count": null,
      "outputs": []
    },
    {
      "cell_type": "code",
      "source": [
        "reco_course_list"
      ],
      "metadata": {
        "id": "cFuD9JTh5T4s",
        "colab": {
          "base_uri": "https://localhost:8080/",
          "height": 424
        },
        "outputId": "35033120-7cda-42b4-d90f-91f63cb12641"
      },
      "execution_count": null,
      "outputs": [
        {
          "output_type": "execute_result",
          "data": {
            "text/plain": [
              "                                            course_name\n",
              "0                        Neural Networks Deep Learning \n",
              "1      Unsupervised Learning Recommenders Reinforcem...\n",
              "2                                 Machine Learning All \n",
              "3               Machine Learning Introduction Everyone \n",
              "4              Optimizing Machine Learning Performance \n",
              "...                                                 ...\n",
              "4364               Mempersiapkan Data untuk Eksplorasi \n",
              "4365               Memproses Data dari Kotor ke Bersih \n",
              "4366       Menganalisis Data untuk Menjawab Pertanyaan \n",
              "4367                     Seluk Beluk Jaringan Komputer \n",
              "4368                                                   \n",
              "\n",
              "[4369 rows x 1 columns]"
            ],
            "text/html": [
              "\n",
              "  <div id=\"df-cacda3f4-432b-41d3-9a13-fa17d7cf1dfb\">\n",
              "    <div class=\"colab-df-container\">\n",
              "      <div>\n",
              "<style scoped>\n",
              "    .dataframe tbody tr th:only-of-type {\n",
              "        vertical-align: middle;\n",
              "    }\n",
              "\n",
              "    .dataframe tbody tr th {\n",
              "        vertical-align: top;\n",
              "    }\n",
              "\n",
              "    .dataframe thead th {\n",
              "        text-align: right;\n",
              "    }\n",
              "</style>\n",
              "<table border=\"1\" class=\"dataframe\">\n",
              "  <thead>\n",
              "    <tr style=\"text-align: right;\">\n",
              "      <th></th>\n",
              "      <th>course_name</th>\n",
              "    </tr>\n",
              "  </thead>\n",
              "  <tbody>\n",
              "    <tr>\n",
              "      <th>0</th>\n",
              "      <td>Neural Networks Deep Learning</td>\n",
              "    </tr>\n",
              "    <tr>\n",
              "      <th>1</th>\n",
              "      <td>Unsupervised Learning Recommenders Reinforcem...</td>\n",
              "    </tr>\n",
              "    <tr>\n",
              "      <th>2</th>\n",
              "      <td>Machine Learning All</td>\n",
              "    </tr>\n",
              "    <tr>\n",
              "      <th>3</th>\n",
              "      <td>Machine Learning Introduction Everyone</td>\n",
              "    </tr>\n",
              "    <tr>\n",
              "      <th>4</th>\n",
              "      <td>Optimizing Machine Learning Performance</td>\n",
              "    </tr>\n",
              "    <tr>\n",
              "      <th>...</th>\n",
              "      <td>...</td>\n",
              "    </tr>\n",
              "    <tr>\n",
              "      <th>4364</th>\n",
              "      <td>Mempersiapkan Data untuk Eksplorasi</td>\n",
              "    </tr>\n",
              "    <tr>\n",
              "      <th>4365</th>\n",
              "      <td>Memproses Data dari Kotor ke Bersih</td>\n",
              "    </tr>\n",
              "    <tr>\n",
              "      <th>4366</th>\n",
              "      <td>Menganalisis Data untuk Menjawab Pertanyaan</td>\n",
              "    </tr>\n",
              "    <tr>\n",
              "      <th>4367</th>\n",
              "      <td>Seluk Beluk Jaringan Komputer</td>\n",
              "    </tr>\n",
              "    <tr>\n",
              "      <th>4368</th>\n",
              "      <td></td>\n",
              "    </tr>\n",
              "  </tbody>\n",
              "</table>\n",
              "<p>4369 rows × 1 columns</p>\n",
              "</div>\n",
              "      <button class=\"colab-df-convert\" onclick=\"convertToInteractive('df-cacda3f4-432b-41d3-9a13-fa17d7cf1dfb')\"\n",
              "              title=\"Convert this dataframe to an interactive table.\"\n",
              "              style=\"display:none;\">\n",
              "        \n",
              "  <svg xmlns=\"http://www.w3.org/2000/svg\" height=\"24px\"viewBox=\"0 0 24 24\"\n",
              "       width=\"24px\">\n",
              "    <path d=\"M0 0h24v24H0V0z\" fill=\"none\"/>\n",
              "    <path d=\"M18.56 5.44l.94 2.06.94-2.06 2.06-.94-2.06-.94-.94-2.06-.94 2.06-2.06.94zm-11 1L8.5 8.5l.94-2.06 2.06-.94-2.06-.94L8.5 2.5l-.94 2.06-2.06.94zm10 10l.94 2.06.94-2.06 2.06-.94-2.06-.94-.94-2.06-.94 2.06-2.06.94z\"/><path d=\"M17.41 7.96l-1.37-1.37c-.4-.4-.92-.59-1.43-.59-.52 0-1.04.2-1.43.59L10.3 9.45l-7.72 7.72c-.78.78-.78 2.05 0 2.83L4 21.41c.39.39.9.59 1.41.59.51 0 1.02-.2 1.41-.59l7.78-7.78 2.81-2.81c.8-.78.8-2.07 0-2.86zM5.41 20L4 18.59l7.72-7.72 1.47 1.35L5.41 20z\"/>\n",
              "  </svg>\n",
              "      </button>\n",
              "      \n",
              "  <style>\n",
              "    .colab-df-container {\n",
              "      display:flex;\n",
              "      flex-wrap:wrap;\n",
              "      gap: 12px;\n",
              "    }\n",
              "\n",
              "    .colab-df-convert {\n",
              "      background-color: #E8F0FE;\n",
              "      border: none;\n",
              "      border-radius: 50%;\n",
              "      cursor: pointer;\n",
              "      display: none;\n",
              "      fill: #1967D2;\n",
              "      height: 32px;\n",
              "      padding: 0 0 0 0;\n",
              "      width: 32px;\n",
              "    }\n",
              "\n",
              "    .colab-df-convert:hover {\n",
              "      background-color: #E2EBFA;\n",
              "      box-shadow: 0px 1px 2px rgba(60, 64, 67, 0.3), 0px 1px 3px 1px rgba(60, 64, 67, 0.15);\n",
              "      fill: #174EA6;\n",
              "    }\n",
              "\n",
              "    [theme=dark] .colab-df-convert {\n",
              "      background-color: #3B4455;\n",
              "      fill: #D2E3FC;\n",
              "    }\n",
              "\n",
              "    [theme=dark] .colab-df-convert:hover {\n",
              "      background-color: #434B5C;\n",
              "      box-shadow: 0px 1px 3px 1px rgba(0, 0, 0, 0.15);\n",
              "      filter: drop-shadow(0px 1px 2px rgba(0, 0, 0, 0.3));\n",
              "      fill: #FFFFFF;\n",
              "    }\n",
              "  </style>\n",
              "\n",
              "      <script>\n",
              "        const buttonEl =\n",
              "          document.querySelector('#df-cacda3f4-432b-41d3-9a13-fa17d7cf1dfb button.colab-df-convert');\n",
              "        buttonEl.style.display =\n",
              "          google.colab.kernel.accessAllowed ? 'block' : 'none';\n",
              "\n",
              "        async function convertToInteractive(key) {\n",
              "          const element = document.querySelector('#df-cacda3f4-432b-41d3-9a13-fa17d7cf1dfb');\n",
              "          const dataTable =\n",
              "            await google.colab.kernel.invokeFunction('convertToInteractive',\n",
              "                                                     [key], {});\n",
              "          if (!dataTable) return;\n",
              "\n",
              "          const docLinkHtml = 'Like what you see? Visit the ' +\n",
              "            '<a target=\"_blank\" href=https://colab.research.google.com/notebooks/data_table.ipynb>data table notebook</a>'\n",
              "            + ' to learn more about interactive tables.';\n",
              "          element.innerHTML = '';\n",
              "          dataTable['output_type'] = 'display_data';\n",
              "          await google.colab.output.renderOutput(dataTable, element);\n",
              "          const docLink = document.createElement('div');\n",
              "          docLink.innerHTML = docLinkHtml;\n",
              "          element.appendChild(docLink);\n",
              "        }\n",
              "      </script>\n",
              "    </div>\n",
              "  </div>\n",
              "  "
            ]
          },
          "metadata": {},
          "execution_count": 99
        }
      ]
    },
    {
      "cell_type": "code",
      "source": [],
      "metadata": {
        "id": "k9H4Y_8S5WEM"
      },
      "execution_count": null,
      "outputs": []
    }
  ]
}