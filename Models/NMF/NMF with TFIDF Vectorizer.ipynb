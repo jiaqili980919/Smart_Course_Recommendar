{
  "nbformat": 4,
  "nbformat_minor": 0,
  "metadata": {
    "colab": {
      "provenance": []
    },
    "kernelspec": {
      "name": "python3",
      "display_name": "Python 3"
    },
    "language_info": {
      "name": "python"
    }
  },
  "cells": [
    {
      "cell_type": "markdown",
      "source": [
        "### Import Modules"
      ],
      "metadata": {
        "id": "xZ4pH6EB-xzn"
      }
    },
    {
      "cell_type": "code",
      "execution_count": null,
      "metadata": {
        "id": "2QpdYRku8OXI"
      },
      "outputs": [],
      "source": [
        "import pandas as pd\n",
        "import numpy as np\n",
        "import seaborn as sns\n",
        "import matplotlib.pyplot as plt"
      ]
    },
    {
      "cell_type": "code",
      "source": [
        "pd.set_option('display.max_rows', 500)\n",
        "pd.set_option('display.max_columns', 500)\n",
        "pd.set_option('display.width', 1000)"
      ],
      "metadata": {
        "id": "PkDHMEFe9HTV"
      },
      "execution_count": null,
      "outputs": []
    },
    {
      "cell_type": "code",
      "source": [
        "from google.colab import drive\n",
        "drive.mount('/content/drive')"
      ],
      "metadata": {
        "colab": {
          "base_uri": "https://localhost:8080/"
        },
        "id": "LJBmXrt8-y2J",
        "outputId": "30309b39-234a-4543-f6f5-b793f8f57fd2"
      },
      "execution_count": null,
      "outputs": [
        {
          "output_type": "stream",
          "name": "stdout",
          "text": [
            "Mounted at /content/drive\n"
          ]
        }
      ]
    },
    {
      "cell_type": "code",
      "source": [
        "coursedata = pd.read_csv(\"drive/MyDrive/coursera_data_course_level.csv\")\n",
        "coursedata.head()"
      ],
      "metadata": {
        "colab": {
          "base_uri": "https://localhost:8080/",
          "height": 493
        },
        "id": "aog0h36L8Z-O",
        "outputId": "d3fede6c-38e1-4497-cbbd-fe200ef76094"
      },
      "execution_count": null,
      "outputs": [
        {
          "output_type": "execute_result",
          "data": {
            "text/plain": [
              "                                      course_title difficulty_level                      duration                                             skills                       instructors                                        description      rating                                  offered_by language                                   syllabus_heading                                   syllabus_details\n",
              "0                 Cloud Computing Concepts, Part 1   Beginner Level  Approx. 23 hours to complete  ['Distributed Algorithm', 'Distributed Computi...                ['Indranil Gupta']  Cloud computing systems today, whether open-so...  4.4\\nstars  University of Illinois at Urbana-Champaign  English  ['Week 1: Orientation, Introduction to Clouds,...  ['This course is oriented towards learners wit...\n",
              "1                  The Challenges of Global Health   Beginner Level  Approx. 20 hours to complete                                                 []                ['Dr. David Boyd']  What are the world’s major health challenges? ...  4.8\\nstars                             Duke University  English  ['Getting Started', 'Basic Concepts in Global ...  ['Start here! ', 'This module covers some of t...\n",
              "2            Digital Marketing Analytics in Theory   Beginner Level  Approx. 20 hours to complete  ['Digital Marketing', 'Data Collection', 'Anal...                 ['Kevin Hartman']  Successfully marketing brands today requires a...  4.5\\nstars  University of Illinois at Urbana-Champaign  English  ['Course Overview and The Day The Geeks Took O...  ['In the orientation, you will become familiar...\n",
              "3  Digital Product Management: Modern Fundamentals   Beginner Level  Approx. 11 hours to complete  ['Product/Market Fit', 'Product Management', '...                    ['Alex Cowan']  Not so long ago, the job of product manager wa...  4.7\\nstars                      University of Virginia  English  ['Achieving Focus and #Winning', \"Using Today'...  ['As a product manager, you and your team will...\n",
              "4                             The Nature of Genius   Beginner Level  Approx. 28 hours to complete  ['Creativity', 'Art', 'History', 'Psychology',...  ['Craig Wright\\nTOP INSTRUCTOR']  Today \"genius\" is all around us. Celebrities, ...         NaN                             Yale University  English  ['Genius Defined,   Genius Denied ,  Genius an...  ['In Section 1 of Module 1 we determine, jokin..."
            ],
            "text/html": [
              "\n",
              "  <div id=\"df-e2a6269e-6966-42ac-a750-f136e2996fcd\">\n",
              "    <div class=\"colab-df-container\">\n",
              "      <div>\n",
              "<style scoped>\n",
              "    .dataframe tbody tr th:only-of-type {\n",
              "        vertical-align: middle;\n",
              "    }\n",
              "\n",
              "    .dataframe tbody tr th {\n",
              "        vertical-align: top;\n",
              "    }\n",
              "\n",
              "    .dataframe thead th {\n",
              "        text-align: right;\n",
              "    }\n",
              "</style>\n",
              "<table border=\"1\" class=\"dataframe\">\n",
              "  <thead>\n",
              "    <tr style=\"text-align: right;\">\n",
              "      <th></th>\n",
              "      <th>course_title</th>\n",
              "      <th>difficulty_level</th>\n",
              "      <th>duration</th>\n",
              "      <th>skills</th>\n",
              "      <th>instructors</th>\n",
              "      <th>description</th>\n",
              "      <th>rating</th>\n",
              "      <th>offered_by</th>\n",
              "      <th>language</th>\n",
              "      <th>syllabus_heading</th>\n",
              "      <th>syllabus_details</th>\n",
              "    </tr>\n",
              "  </thead>\n",
              "  <tbody>\n",
              "    <tr>\n",
              "      <th>0</th>\n",
              "      <td>Cloud Computing Concepts, Part 1</td>\n",
              "      <td>Beginner Level</td>\n",
              "      <td>Approx. 23 hours to complete</td>\n",
              "      <td>['Distributed Algorithm', 'Distributed Computi...</td>\n",
              "      <td>['Indranil Gupta']</td>\n",
              "      <td>Cloud computing systems today, whether open-so...</td>\n",
              "      <td>4.4\\nstars</td>\n",
              "      <td>University of Illinois at Urbana-Champaign</td>\n",
              "      <td>English</td>\n",
              "      <td>['Week 1: Orientation, Introduction to Clouds,...</td>\n",
              "      <td>['This course is oriented towards learners wit...</td>\n",
              "    </tr>\n",
              "    <tr>\n",
              "      <th>1</th>\n",
              "      <td>The Challenges of Global Health</td>\n",
              "      <td>Beginner Level</td>\n",
              "      <td>Approx. 20 hours to complete</td>\n",
              "      <td>[]</td>\n",
              "      <td>['Dr. David Boyd']</td>\n",
              "      <td>What are the world’s major health challenges? ...</td>\n",
              "      <td>4.8\\nstars</td>\n",
              "      <td>Duke University</td>\n",
              "      <td>English</td>\n",
              "      <td>['Getting Started', 'Basic Concepts in Global ...</td>\n",
              "      <td>['Start here! ', 'This module covers some of t...</td>\n",
              "    </tr>\n",
              "    <tr>\n",
              "      <th>2</th>\n",
              "      <td>Digital Marketing Analytics in Theory</td>\n",
              "      <td>Beginner Level</td>\n",
              "      <td>Approx. 20 hours to complete</td>\n",
              "      <td>['Digital Marketing', 'Data Collection', 'Anal...</td>\n",
              "      <td>['Kevin Hartman']</td>\n",
              "      <td>Successfully marketing brands today requires a...</td>\n",
              "      <td>4.5\\nstars</td>\n",
              "      <td>University of Illinois at Urbana-Champaign</td>\n",
              "      <td>English</td>\n",
              "      <td>['Course Overview and The Day The Geeks Took O...</td>\n",
              "      <td>['In the orientation, you will become familiar...</td>\n",
              "    </tr>\n",
              "    <tr>\n",
              "      <th>3</th>\n",
              "      <td>Digital Product Management: Modern Fundamentals</td>\n",
              "      <td>Beginner Level</td>\n",
              "      <td>Approx. 11 hours to complete</td>\n",
              "      <td>['Product/Market Fit', 'Product Management', '...</td>\n",
              "      <td>['Alex Cowan']</td>\n",
              "      <td>Not so long ago, the job of product manager wa...</td>\n",
              "      <td>4.7\\nstars</td>\n",
              "      <td>University of Virginia</td>\n",
              "      <td>English</td>\n",
              "      <td>['Achieving Focus and #Winning', \"Using Today'...</td>\n",
              "      <td>['As a product manager, you and your team will...</td>\n",
              "    </tr>\n",
              "    <tr>\n",
              "      <th>4</th>\n",
              "      <td>The Nature of Genius</td>\n",
              "      <td>Beginner Level</td>\n",
              "      <td>Approx. 28 hours to complete</td>\n",
              "      <td>['Creativity', 'Art', 'History', 'Psychology',...</td>\n",
              "      <td>['Craig Wright\\nTOP INSTRUCTOR']</td>\n",
              "      <td>Today \"genius\" is all around us. Celebrities, ...</td>\n",
              "      <td>NaN</td>\n",
              "      <td>Yale University</td>\n",
              "      <td>English</td>\n",
              "      <td>['Genius Defined,   Genius Denied ,  Genius an...</td>\n",
              "      <td>['In Section 1 of Module 1 we determine, jokin...</td>\n",
              "    </tr>\n",
              "  </tbody>\n",
              "</table>\n",
              "</div>\n",
              "      <button class=\"colab-df-convert\" onclick=\"convertToInteractive('df-e2a6269e-6966-42ac-a750-f136e2996fcd')\"\n",
              "              title=\"Convert this dataframe to an interactive table.\"\n",
              "              style=\"display:none;\">\n",
              "        \n",
              "  <svg xmlns=\"http://www.w3.org/2000/svg\" height=\"24px\"viewBox=\"0 0 24 24\"\n",
              "       width=\"24px\">\n",
              "    <path d=\"M0 0h24v24H0V0z\" fill=\"none\"/>\n",
              "    <path d=\"M18.56 5.44l.94 2.06.94-2.06 2.06-.94-2.06-.94-.94-2.06-.94 2.06-2.06.94zm-11 1L8.5 8.5l.94-2.06 2.06-.94-2.06-.94L8.5 2.5l-.94 2.06-2.06.94zm10 10l.94 2.06.94-2.06 2.06-.94-2.06-.94-.94-2.06-.94 2.06-2.06.94z\"/><path d=\"M17.41 7.96l-1.37-1.37c-.4-.4-.92-.59-1.43-.59-.52 0-1.04.2-1.43.59L10.3 9.45l-7.72 7.72c-.78.78-.78 2.05 0 2.83L4 21.41c.39.39.9.59 1.41.59.51 0 1.02-.2 1.41-.59l7.78-7.78 2.81-2.81c.8-.78.8-2.07 0-2.86zM5.41 20L4 18.59l7.72-7.72 1.47 1.35L5.41 20z\"/>\n",
              "  </svg>\n",
              "      </button>\n",
              "      \n",
              "  <style>\n",
              "    .colab-df-container {\n",
              "      display:flex;\n",
              "      flex-wrap:wrap;\n",
              "      gap: 12px;\n",
              "    }\n",
              "\n",
              "    .colab-df-convert {\n",
              "      background-color: #E8F0FE;\n",
              "      border: none;\n",
              "      border-radius: 50%;\n",
              "      cursor: pointer;\n",
              "      display: none;\n",
              "      fill: #1967D2;\n",
              "      height: 32px;\n",
              "      padding: 0 0 0 0;\n",
              "      width: 32px;\n",
              "    }\n",
              "\n",
              "    .colab-df-convert:hover {\n",
              "      background-color: #E2EBFA;\n",
              "      box-shadow: 0px 1px 2px rgba(60, 64, 67, 0.3), 0px 1px 3px 1px rgba(60, 64, 67, 0.15);\n",
              "      fill: #174EA6;\n",
              "    }\n",
              "\n",
              "    [theme=dark] .colab-df-convert {\n",
              "      background-color: #3B4455;\n",
              "      fill: #D2E3FC;\n",
              "    }\n",
              "\n",
              "    [theme=dark] .colab-df-convert:hover {\n",
              "      background-color: #434B5C;\n",
              "      box-shadow: 0px 1px 3px 1px rgba(0, 0, 0, 0.15);\n",
              "      filter: drop-shadow(0px 1px 2px rgba(0, 0, 0, 0.3));\n",
              "      fill: #FFFFFF;\n",
              "    }\n",
              "  </style>\n",
              "\n",
              "      <script>\n",
              "        const buttonEl =\n",
              "          document.querySelector('#df-e2a6269e-6966-42ac-a750-f136e2996fcd button.colab-df-convert');\n",
              "        buttonEl.style.display =\n",
              "          google.colab.kernel.accessAllowed ? 'block' : 'none';\n",
              "\n",
              "        async function convertToInteractive(key) {\n",
              "          const element = document.querySelector('#df-e2a6269e-6966-42ac-a750-f136e2996fcd');\n",
              "          const dataTable =\n",
              "            await google.colab.kernel.invokeFunction('convertToInteractive',\n",
              "                                                     [key], {});\n",
              "          if (!dataTable) return;\n",
              "\n",
              "          const docLinkHtml = 'Like what you see? Visit the ' +\n",
              "            '<a target=\"_blank\" href=https://colab.research.google.com/notebooks/data_table.ipynb>data table notebook</a>'\n",
              "            + ' to learn more about interactive tables.';\n",
              "          element.innerHTML = '';\n",
              "          dataTable['output_type'] = 'display_data';\n",
              "          await google.colab.output.renderOutput(dataTable, element);\n",
              "          const docLink = document.createElement('div');\n",
              "          docLink.innerHTML = docLinkHtml;\n",
              "          element.appendChild(docLink);\n",
              "        }\n",
              "      </script>\n",
              "    </div>\n",
              "  </div>\n",
              "  "
            ]
          },
          "metadata": {},
          "execution_count": 4
        }
      ]
    },
    {
      "cell_type": "markdown",
      "source": [
        "### Data Summary\n"
      ],
      "metadata": {
        "id": "RouBIQcA_JpD"
      }
    },
    {
      "cell_type": "code",
      "source": [
        "coursedata.info()"
      ],
      "metadata": {
        "colab": {
          "base_uri": "https://localhost:8080/"
        },
        "id": "o5RnFfw19VG4",
        "outputId": "b7800cd2-e847-4941-c0ee-030e052f6393"
      },
      "execution_count": null,
      "outputs": [
        {
          "output_type": "stream",
          "name": "stdout",
          "text": [
            "<class 'pandas.core.frame.DataFrame'>\n",
            "RangeIndex: 6636 entries, 0 to 6635\n",
            "Data columns (total 11 columns):\n",
            " #   Column            Non-Null Count  Dtype \n",
            "---  ------            --------------  ----- \n",
            " 0   course_title      6134 non-null   object\n",
            " 1   difficulty_level  4736 non-null   object\n",
            " 2   duration          6096 non-null   object\n",
            " 3   skills            6636 non-null   object\n",
            " 4   instructors       6636 non-null   object\n",
            " 5   description       6635 non-null   object\n",
            " 6   rating            4651 non-null   object\n",
            " 7   offered_by        6636 non-null   object\n",
            " 8   language          6636 non-null   object\n",
            " 9   syllabus_heading  6636 non-null   object\n",
            " 10  syllabus_details  6636 non-null   object\n",
            "dtypes: object(11)\n",
            "memory usage: 570.4+ KB\n"
          ]
        }
      ]
    },
    {
      "cell_type": "code",
      "source": [
        "coursedata.describe()"
      ],
      "metadata": {
        "colab": {
          "base_uri": "https://localhost:8080/",
          "height": 236
        },
        "id": "TmFfnQY681dq",
        "outputId": "2ddb05e6-6545-4766-ffea-18645d074987"
      },
      "execution_count": null,
      "outputs": [
        {
          "output_type": "execute_result",
          "data": {
            "text/plain": [
              "       course_title difficulty_level                      duration skills instructors                                        description      rating    offered_by language syllabus_heading syllabus_details\n",
              "count          6134             4736                          6096   6636        6636                                               6635        4651          6636     6636             6636             6636\n",
              "unique         6117                3                            85   2990        3159                                               6126          21           261       21             5943             5440\n",
              "top      Leadership   Beginner Level  Approx. 12 hours to complete     []          []  We help millions of organizations empower thei...  4.8\\nstars  Google Cloud  English               []               []\n",
              "freq              3             3057                           330   3437         504                                                502        1186           739     4824              540              539"
            ],
            "text/html": [
              "\n",
              "  <div id=\"df-f840892c-6811-40db-943d-35321e8a7091\">\n",
              "    <div class=\"colab-df-container\">\n",
              "      <div>\n",
              "<style scoped>\n",
              "    .dataframe tbody tr th:only-of-type {\n",
              "        vertical-align: middle;\n",
              "    }\n",
              "\n",
              "    .dataframe tbody tr th {\n",
              "        vertical-align: top;\n",
              "    }\n",
              "\n",
              "    .dataframe thead th {\n",
              "        text-align: right;\n",
              "    }\n",
              "</style>\n",
              "<table border=\"1\" class=\"dataframe\">\n",
              "  <thead>\n",
              "    <tr style=\"text-align: right;\">\n",
              "      <th></th>\n",
              "      <th>course_title</th>\n",
              "      <th>difficulty_level</th>\n",
              "      <th>duration</th>\n",
              "      <th>skills</th>\n",
              "      <th>instructors</th>\n",
              "      <th>description</th>\n",
              "      <th>rating</th>\n",
              "      <th>offered_by</th>\n",
              "      <th>language</th>\n",
              "      <th>syllabus_heading</th>\n",
              "      <th>syllabus_details</th>\n",
              "    </tr>\n",
              "  </thead>\n",
              "  <tbody>\n",
              "    <tr>\n",
              "      <th>count</th>\n",
              "      <td>6134</td>\n",
              "      <td>4736</td>\n",
              "      <td>6096</td>\n",
              "      <td>6636</td>\n",
              "      <td>6636</td>\n",
              "      <td>6635</td>\n",
              "      <td>4651</td>\n",
              "      <td>6636</td>\n",
              "      <td>6636</td>\n",
              "      <td>6636</td>\n",
              "      <td>6636</td>\n",
              "    </tr>\n",
              "    <tr>\n",
              "      <th>unique</th>\n",
              "      <td>6117</td>\n",
              "      <td>3</td>\n",
              "      <td>85</td>\n",
              "      <td>2990</td>\n",
              "      <td>3159</td>\n",
              "      <td>6126</td>\n",
              "      <td>21</td>\n",
              "      <td>261</td>\n",
              "      <td>21</td>\n",
              "      <td>5943</td>\n",
              "      <td>5440</td>\n",
              "    </tr>\n",
              "    <tr>\n",
              "      <th>top</th>\n",
              "      <td>Leadership</td>\n",
              "      <td>Beginner Level</td>\n",
              "      <td>Approx. 12 hours to complete</td>\n",
              "      <td>[]</td>\n",
              "      <td>[]</td>\n",
              "      <td>We help millions of organizations empower thei...</td>\n",
              "      <td>4.8\\nstars</td>\n",
              "      <td>Google Cloud</td>\n",
              "      <td>English</td>\n",
              "      <td>[]</td>\n",
              "      <td>[]</td>\n",
              "    </tr>\n",
              "    <tr>\n",
              "      <th>freq</th>\n",
              "      <td>3</td>\n",
              "      <td>3057</td>\n",
              "      <td>330</td>\n",
              "      <td>3437</td>\n",
              "      <td>504</td>\n",
              "      <td>502</td>\n",
              "      <td>1186</td>\n",
              "      <td>739</td>\n",
              "      <td>4824</td>\n",
              "      <td>540</td>\n",
              "      <td>539</td>\n",
              "    </tr>\n",
              "  </tbody>\n",
              "</table>\n",
              "</div>\n",
              "      <button class=\"colab-df-convert\" onclick=\"convertToInteractive('df-f840892c-6811-40db-943d-35321e8a7091')\"\n",
              "              title=\"Convert this dataframe to an interactive table.\"\n",
              "              style=\"display:none;\">\n",
              "        \n",
              "  <svg xmlns=\"http://www.w3.org/2000/svg\" height=\"24px\"viewBox=\"0 0 24 24\"\n",
              "       width=\"24px\">\n",
              "    <path d=\"M0 0h24v24H0V0z\" fill=\"none\"/>\n",
              "    <path d=\"M18.56 5.44l.94 2.06.94-2.06 2.06-.94-2.06-.94-.94-2.06-.94 2.06-2.06.94zm-11 1L8.5 8.5l.94-2.06 2.06-.94-2.06-.94L8.5 2.5l-.94 2.06-2.06.94zm10 10l.94 2.06.94-2.06 2.06-.94-2.06-.94-.94-2.06-.94 2.06-2.06.94z\"/><path d=\"M17.41 7.96l-1.37-1.37c-.4-.4-.92-.59-1.43-.59-.52 0-1.04.2-1.43.59L10.3 9.45l-7.72 7.72c-.78.78-.78 2.05 0 2.83L4 21.41c.39.39.9.59 1.41.59.51 0 1.02-.2 1.41-.59l7.78-7.78 2.81-2.81c.8-.78.8-2.07 0-2.86zM5.41 20L4 18.59l7.72-7.72 1.47 1.35L5.41 20z\"/>\n",
              "  </svg>\n",
              "      </button>\n",
              "      \n",
              "  <style>\n",
              "    .colab-df-container {\n",
              "      display:flex;\n",
              "      flex-wrap:wrap;\n",
              "      gap: 12px;\n",
              "    }\n",
              "\n",
              "    .colab-df-convert {\n",
              "      background-color: #E8F0FE;\n",
              "      border: none;\n",
              "      border-radius: 50%;\n",
              "      cursor: pointer;\n",
              "      display: none;\n",
              "      fill: #1967D2;\n",
              "      height: 32px;\n",
              "      padding: 0 0 0 0;\n",
              "      width: 32px;\n",
              "    }\n",
              "\n",
              "    .colab-df-convert:hover {\n",
              "      background-color: #E2EBFA;\n",
              "      box-shadow: 0px 1px 2px rgba(60, 64, 67, 0.3), 0px 1px 3px 1px rgba(60, 64, 67, 0.15);\n",
              "      fill: #174EA6;\n",
              "    }\n",
              "\n",
              "    [theme=dark] .colab-df-convert {\n",
              "      background-color: #3B4455;\n",
              "      fill: #D2E3FC;\n",
              "    }\n",
              "\n",
              "    [theme=dark] .colab-df-convert:hover {\n",
              "      background-color: #434B5C;\n",
              "      box-shadow: 0px 1px 3px 1px rgba(0, 0, 0, 0.15);\n",
              "      filter: drop-shadow(0px 1px 2px rgba(0, 0, 0, 0.3));\n",
              "      fill: #FFFFFF;\n",
              "    }\n",
              "  </style>\n",
              "\n",
              "      <script>\n",
              "        const buttonEl =\n",
              "          document.querySelector('#df-f840892c-6811-40db-943d-35321e8a7091 button.colab-df-convert');\n",
              "        buttonEl.style.display =\n",
              "          google.colab.kernel.accessAllowed ? 'block' : 'none';\n",
              "\n",
              "        async function convertToInteractive(key) {\n",
              "          const element = document.querySelector('#df-f840892c-6811-40db-943d-35321e8a7091');\n",
              "          const dataTable =\n",
              "            await google.colab.kernel.invokeFunction('convertToInteractive',\n",
              "                                                     [key], {});\n",
              "          if (!dataTable) return;\n",
              "\n",
              "          const docLinkHtml = 'Like what you see? Visit the ' +\n",
              "            '<a target=\"_blank\" href=https://colab.research.google.com/notebooks/data_table.ipynb>data table notebook</a>'\n",
              "            + ' to learn more about interactive tables.';\n",
              "          element.innerHTML = '';\n",
              "          dataTable['output_type'] = 'display_data';\n",
              "          await google.colab.output.renderOutput(dataTable, element);\n",
              "          const docLink = document.createElement('div');\n",
              "          docLink.innerHTML = docLinkHtml;\n",
              "          element.appendChild(docLink);\n",
              "        }\n",
              "      </script>\n",
              "    </div>\n",
              "  </div>\n",
              "  "
            ]
          },
          "metadata": {},
          "execution_count": 6
        }
      ]
    },
    {
      "cell_type": "code",
      "source": [
        "coursedata.columns"
      ],
      "metadata": {
        "colab": {
          "base_uri": "https://localhost:8080/"
        },
        "id": "-ARVaq8W-qok",
        "outputId": "3958e338-ca57-4c74-b613-5e07f61aedda"
      },
      "execution_count": null,
      "outputs": [
        {
          "output_type": "execute_result",
          "data": {
            "text/plain": [
              "Index(['course_title', 'difficulty_level', 'duration', 'skills', 'instructors', 'description', 'rating', 'offered_by', 'language', 'syllabus_heading', 'syllabus_details'], dtype='object')"
            ]
          },
          "metadata": {},
          "execution_count": 7
        }
      ]
    },
    {
      "cell_type": "code",
      "source": [
        "coursedata.dtypes"
      ],
      "metadata": {
        "colab": {
          "base_uri": "https://localhost:8080/"
        },
        "id": "wX_iQkqH-s7H",
        "outputId": "d3472eba-9726-47db-a829-5e7108d10839"
      },
      "execution_count": null,
      "outputs": [
        {
          "output_type": "execute_result",
          "data": {
            "text/plain": [
              "course_title        object\n",
              "difficulty_level    object\n",
              "duration            object\n",
              "skills              object\n",
              "instructors         object\n",
              "description         object\n",
              "rating              object\n",
              "offered_by          object\n",
              "language            object\n",
              "syllabus_heading    object\n",
              "syllabus_details    object\n",
              "dtype: object"
            ]
          },
          "metadata": {},
          "execution_count": 8
        }
      ]
    },
    {
      "cell_type": "markdown",
      "source": [
        "### Data Preprocessing"
      ],
      "metadata": {
        "id": "uzC7Ab-7--kd"
      }
    },
    {
      "cell_type": "code",
      "source": [
        "coursedata['difficulty_level'].value_counts()"
      ],
      "metadata": {
        "colab": {
          "base_uri": "https://localhost:8080/"
        },
        "id": "aSE0HHGy9azp",
        "outputId": "b72937aa-cbc0-495b-bb43-82f817b89edc"
      },
      "execution_count": null,
      "outputs": [
        {
          "output_type": "execute_result",
          "data": {
            "text/plain": [
              "Beginner Level        3057\n",
              "Intermediate Level    1489\n",
              "Advanced Level         190\n",
              "Name: difficulty_level, dtype: int64"
            ]
          },
          "metadata": {},
          "execution_count": 9
        }
      ]
    },
    {
      "cell_type": "code",
      "source": [
        "coursedata.shape"
      ],
      "metadata": {
        "colab": {
          "base_uri": "https://localhost:8080/"
        },
        "id": "gThmZHX6_vgT",
        "outputId": "a2183859-7763-4014-9621-48c4ec6a2083"
      },
      "execution_count": null,
      "outputs": [
        {
          "output_type": "execute_result",
          "data": {
            "text/plain": [
              "(6636, 11)"
            ]
          },
          "metadata": {},
          "execution_count": 10
        }
      ]
    },
    {
      "cell_type": "code",
      "source": [
        "#Replace NAN values intially with \"0\"\n",
        "#Extracting hours \n",
        "#Replaces \"0\" with median value\n",
        "coursedata['duration'].fillna(\"0\",inplace=True)\n",
        "coursedata['duration'].value_counts().sum()"
      ],
      "metadata": {
        "colab": {
          "base_uri": "https://localhost:8080/"
        },
        "id": "qQLqoxoSAFVI",
        "outputId": "6bc4048f-8913-44ce-d4a5-aeb38ec1abe4"
      },
      "execution_count": null,
      "outputs": [
        {
          "output_type": "execute_result",
          "data": {
            "text/plain": [
              "6636"
            ]
          },
          "metadata": {},
          "execution_count": 11
        }
      ]
    },
    {
      "cell_type": "code",
      "source": [
        "hours = coursedata['duration'].astype('str').str.extractall('(\\d+)').unstack().sum(axis=1).astype(int)\n",
        "coursedata['duration'] = hours\n",
        "coursedata.head()"
      ],
      "metadata": {
        "colab": {
          "base_uri": "https://localhost:8080/",
          "height": 476
        },
        "id": "EOYD0e0u9tL6",
        "outputId": "dee225fb-aa8f-4705-899a-0b8bfe4a273a"
      },
      "execution_count": null,
      "outputs": [
        {
          "output_type": "execute_result",
          "data": {
            "text/plain": [
              "                                      course_title difficulty_level  duration                                             skills                       instructors                                        description      rating                                  offered_by language                                   syllabus_heading                                   syllabus_details\n",
              "0                 Cloud Computing Concepts, Part 1   Beginner Level        23  ['Distributed Algorithm', 'Distributed Computi...                ['Indranil Gupta']  Cloud computing systems today, whether open-so...  4.4\\nstars  University of Illinois at Urbana-Champaign  English  ['Week 1: Orientation, Introduction to Clouds,...  ['This course is oriented towards learners wit...\n",
              "1                  The Challenges of Global Health   Beginner Level        20                                                 []                ['Dr. David Boyd']  What are the world’s major health challenges? ...  4.8\\nstars                             Duke University  English  ['Getting Started', 'Basic Concepts in Global ...  ['Start here! ', 'This module covers some of t...\n",
              "2            Digital Marketing Analytics in Theory   Beginner Level        20  ['Digital Marketing', 'Data Collection', 'Anal...                 ['Kevin Hartman']  Successfully marketing brands today requires a...  4.5\\nstars  University of Illinois at Urbana-Champaign  English  ['Course Overview and The Day The Geeks Took O...  ['In the orientation, you will become familiar...\n",
              "3  Digital Product Management: Modern Fundamentals   Beginner Level        11  ['Product/Market Fit', 'Product Management', '...                    ['Alex Cowan']  Not so long ago, the job of product manager wa...  4.7\\nstars                      University of Virginia  English  ['Achieving Focus and #Winning', \"Using Today'...  ['As a product manager, you and your team will...\n",
              "4                             The Nature of Genius   Beginner Level        28  ['Creativity', 'Art', 'History', 'Psychology',...  ['Craig Wright\\nTOP INSTRUCTOR']  Today \"genius\" is all around us. Celebrities, ...         NaN                             Yale University  English  ['Genius Defined,   Genius Denied ,  Genius an...  ['In Section 1 of Module 1 we determine, jokin..."
            ],
            "text/html": [
              "\n",
              "  <div id=\"df-facbd0d9-44de-42eb-8632-064d9f065391\">\n",
              "    <div class=\"colab-df-container\">\n",
              "      <div>\n",
              "<style scoped>\n",
              "    .dataframe tbody tr th:only-of-type {\n",
              "        vertical-align: middle;\n",
              "    }\n",
              "\n",
              "    .dataframe tbody tr th {\n",
              "        vertical-align: top;\n",
              "    }\n",
              "\n",
              "    .dataframe thead th {\n",
              "        text-align: right;\n",
              "    }\n",
              "</style>\n",
              "<table border=\"1\" class=\"dataframe\">\n",
              "  <thead>\n",
              "    <tr style=\"text-align: right;\">\n",
              "      <th></th>\n",
              "      <th>course_title</th>\n",
              "      <th>difficulty_level</th>\n",
              "      <th>duration</th>\n",
              "      <th>skills</th>\n",
              "      <th>instructors</th>\n",
              "      <th>description</th>\n",
              "      <th>rating</th>\n",
              "      <th>offered_by</th>\n",
              "      <th>language</th>\n",
              "      <th>syllabus_heading</th>\n",
              "      <th>syllabus_details</th>\n",
              "    </tr>\n",
              "  </thead>\n",
              "  <tbody>\n",
              "    <tr>\n",
              "      <th>0</th>\n",
              "      <td>Cloud Computing Concepts, Part 1</td>\n",
              "      <td>Beginner Level</td>\n",
              "      <td>23</td>\n",
              "      <td>['Distributed Algorithm', 'Distributed Computi...</td>\n",
              "      <td>['Indranil Gupta']</td>\n",
              "      <td>Cloud computing systems today, whether open-so...</td>\n",
              "      <td>4.4\\nstars</td>\n",
              "      <td>University of Illinois at Urbana-Champaign</td>\n",
              "      <td>English</td>\n",
              "      <td>['Week 1: Orientation, Introduction to Clouds,...</td>\n",
              "      <td>['This course is oriented towards learners wit...</td>\n",
              "    </tr>\n",
              "    <tr>\n",
              "      <th>1</th>\n",
              "      <td>The Challenges of Global Health</td>\n",
              "      <td>Beginner Level</td>\n",
              "      <td>20</td>\n",
              "      <td>[]</td>\n",
              "      <td>['Dr. David Boyd']</td>\n",
              "      <td>What are the world’s major health challenges? ...</td>\n",
              "      <td>4.8\\nstars</td>\n",
              "      <td>Duke University</td>\n",
              "      <td>English</td>\n",
              "      <td>['Getting Started', 'Basic Concepts in Global ...</td>\n",
              "      <td>['Start here! ', 'This module covers some of t...</td>\n",
              "    </tr>\n",
              "    <tr>\n",
              "      <th>2</th>\n",
              "      <td>Digital Marketing Analytics in Theory</td>\n",
              "      <td>Beginner Level</td>\n",
              "      <td>20</td>\n",
              "      <td>['Digital Marketing', 'Data Collection', 'Anal...</td>\n",
              "      <td>['Kevin Hartman']</td>\n",
              "      <td>Successfully marketing brands today requires a...</td>\n",
              "      <td>4.5\\nstars</td>\n",
              "      <td>University of Illinois at Urbana-Champaign</td>\n",
              "      <td>English</td>\n",
              "      <td>['Course Overview and The Day The Geeks Took O...</td>\n",
              "      <td>['In the orientation, you will become familiar...</td>\n",
              "    </tr>\n",
              "    <tr>\n",
              "      <th>3</th>\n",
              "      <td>Digital Product Management: Modern Fundamentals</td>\n",
              "      <td>Beginner Level</td>\n",
              "      <td>11</td>\n",
              "      <td>['Product/Market Fit', 'Product Management', '...</td>\n",
              "      <td>['Alex Cowan']</td>\n",
              "      <td>Not so long ago, the job of product manager wa...</td>\n",
              "      <td>4.7\\nstars</td>\n",
              "      <td>University of Virginia</td>\n",
              "      <td>English</td>\n",
              "      <td>['Achieving Focus and #Winning', \"Using Today'...</td>\n",
              "      <td>['As a product manager, you and your team will...</td>\n",
              "    </tr>\n",
              "    <tr>\n",
              "      <th>4</th>\n",
              "      <td>The Nature of Genius</td>\n",
              "      <td>Beginner Level</td>\n",
              "      <td>28</td>\n",
              "      <td>['Creativity', 'Art', 'History', 'Psychology',...</td>\n",
              "      <td>['Craig Wright\\nTOP INSTRUCTOR']</td>\n",
              "      <td>Today \"genius\" is all around us. Celebrities, ...</td>\n",
              "      <td>NaN</td>\n",
              "      <td>Yale University</td>\n",
              "      <td>English</td>\n",
              "      <td>['Genius Defined,   Genius Denied ,  Genius an...</td>\n",
              "      <td>['In Section 1 of Module 1 we determine, jokin...</td>\n",
              "    </tr>\n",
              "  </tbody>\n",
              "</table>\n",
              "</div>\n",
              "      <button class=\"colab-df-convert\" onclick=\"convertToInteractive('df-facbd0d9-44de-42eb-8632-064d9f065391')\"\n",
              "              title=\"Convert this dataframe to an interactive table.\"\n",
              "              style=\"display:none;\">\n",
              "        \n",
              "  <svg xmlns=\"http://www.w3.org/2000/svg\" height=\"24px\"viewBox=\"0 0 24 24\"\n",
              "       width=\"24px\">\n",
              "    <path d=\"M0 0h24v24H0V0z\" fill=\"none\"/>\n",
              "    <path d=\"M18.56 5.44l.94 2.06.94-2.06 2.06-.94-2.06-.94-.94-2.06-.94 2.06-2.06.94zm-11 1L8.5 8.5l.94-2.06 2.06-.94-2.06-.94L8.5 2.5l-.94 2.06-2.06.94zm10 10l.94 2.06.94-2.06 2.06-.94-2.06-.94-.94-2.06-.94 2.06-2.06.94z\"/><path d=\"M17.41 7.96l-1.37-1.37c-.4-.4-.92-.59-1.43-.59-.52 0-1.04.2-1.43.59L10.3 9.45l-7.72 7.72c-.78.78-.78 2.05 0 2.83L4 21.41c.39.39.9.59 1.41.59.51 0 1.02-.2 1.41-.59l7.78-7.78 2.81-2.81c.8-.78.8-2.07 0-2.86zM5.41 20L4 18.59l7.72-7.72 1.47 1.35L5.41 20z\"/>\n",
              "  </svg>\n",
              "      </button>\n",
              "      \n",
              "  <style>\n",
              "    .colab-df-container {\n",
              "      display:flex;\n",
              "      flex-wrap:wrap;\n",
              "      gap: 12px;\n",
              "    }\n",
              "\n",
              "    .colab-df-convert {\n",
              "      background-color: #E8F0FE;\n",
              "      border: none;\n",
              "      border-radius: 50%;\n",
              "      cursor: pointer;\n",
              "      display: none;\n",
              "      fill: #1967D2;\n",
              "      height: 32px;\n",
              "      padding: 0 0 0 0;\n",
              "      width: 32px;\n",
              "    }\n",
              "\n",
              "    .colab-df-convert:hover {\n",
              "      background-color: #E2EBFA;\n",
              "      box-shadow: 0px 1px 2px rgba(60, 64, 67, 0.3), 0px 1px 3px 1px rgba(60, 64, 67, 0.15);\n",
              "      fill: #174EA6;\n",
              "    }\n",
              "\n",
              "    [theme=dark] .colab-df-convert {\n",
              "      background-color: #3B4455;\n",
              "      fill: #D2E3FC;\n",
              "    }\n",
              "\n",
              "    [theme=dark] .colab-df-convert:hover {\n",
              "      background-color: #434B5C;\n",
              "      box-shadow: 0px 1px 3px 1px rgba(0, 0, 0, 0.15);\n",
              "      filter: drop-shadow(0px 1px 2px rgba(0, 0, 0, 0.3));\n",
              "      fill: #FFFFFF;\n",
              "    }\n",
              "  </style>\n",
              "\n",
              "      <script>\n",
              "        const buttonEl =\n",
              "          document.querySelector('#df-facbd0d9-44de-42eb-8632-064d9f065391 button.colab-df-convert');\n",
              "        buttonEl.style.display =\n",
              "          google.colab.kernel.accessAllowed ? 'block' : 'none';\n",
              "\n",
              "        async function convertToInteractive(key) {\n",
              "          const element = document.querySelector('#df-facbd0d9-44de-42eb-8632-064d9f065391');\n",
              "          const dataTable =\n",
              "            await google.colab.kernel.invokeFunction('convertToInteractive',\n",
              "                                                     [key], {});\n",
              "          if (!dataTable) return;\n",
              "\n",
              "          const docLinkHtml = 'Like what you see? Visit the ' +\n",
              "            '<a target=\"_blank\" href=https://colab.research.google.com/notebooks/data_table.ipynb>data table notebook</a>'\n",
              "            + ' to learn more about interactive tables.';\n",
              "          element.innerHTML = '';\n",
              "          dataTable['output_type'] = 'display_data';\n",
              "          await google.colab.output.renderOutput(dataTable, element);\n",
              "          const docLink = document.createElement('div');\n",
              "          docLink.innerHTML = docLinkHtml;\n",
              "          element.appendChild(docLink);\n",
              "        }\n",
              "      </script>\n",
              "    </div>\n",
              "  </div>\n",
              "  "
            ]
          },
          "metadata": {},
          "execution_count": 12
        }
      ]
    },
    {
      "cell_type": "code",
      "source": [
        "coursedata['duration'].shape"
      ],
      "metadata": {
        "colab": {
          "base_uri": "https://localhost:8080/"
        },
        "id": "lXox962TFr5K",
        "outputId": "c20e966d-b16f-4b47-a4b8-496f4fd4000c"
      },
      "execution_count": null,
      "outputs": [
        {
          "output_type": "execute_result",
          "data": {
            "text/plain": [
              "(6636,)"
            ]
          },
          "metadata": {},
          "execution_count": 13
        }
      ]
    },
    {
      "cell_type": "code",
      "source": [
        "print(coursedata['duration'].median())"
      ],
      "metadata": {
        "colab": {
          "base_uri": "https://localhost:8080/"
        },
        "id": "XwZoIylF_sxP",
        "outputId": "ab0a9e16-7867-455a-b04b-174e6aa83f35"
      },
      "execution_count": null,
      "outputs": [
        {
          "output_type": "stream",
          "name": "stdout",
          "text": [
            "13.0\n"
          ]
        }
      ]
    },
    {
      "cell_type": "code",
      "source": [
        "# coursedata['duration'].value_counts()"
      ],
      "metadata": {
        "id": "P80nLbkGB_jj"
      },
      "execution_count": null,
      "outputs": []
    },
    {
      "cell_type": "code",
      "source": [
        "\n",
        "coursedata['duration']=coursedata['duration'].replace(0,int(coursedata['duration'].median()))\n",
        "coursedata.head()"
      ],
      "metadata": {
        "colab": {
          "base_uri": "https://localhost:8080/",
          "height": 476
        },
        "id": "w1-6uvr3BazM",
        "outputId": "46a83c86-ef0b-4798-c608-eaf294b33ca4"
      },
      "execution_count": null,
      "outputs": [
        {
          "output_type": "execute_result",
          "data": {
            "text/plain": [
              "                                      course_title difficulty_level  duration                                             skills                       instructors                                        description      rating                                  offered_by language                                   syllabus_heading                                   syllabus_details\n",
              "0                 Cloud Computing Concepts, Part 1   Beginner Level        23  ['Distributed Algorithm', 'Distributed Computi...                ['Indranil Gupta']  Cloud computing systems today, whether open-so...  4.4\\nstars  University of Illinois at Urbana-Champaign  English  ['Week 1: Orientation, Introduction to Clouds,...  ['This course is oriented towards learners wit...\n",
              "1                  The Challenges of Global Health   Beginner Level        20                                                 []                ['Dr. David Boyd']  What are the world’s major health challenges? ...  4.8\\nstars                             Duke University  English  ['Getting Started', 'Basic Concepts in Global ...  ['Start here! ', 'This module covers some of t...\n",
              "2            Digital Marketing Analytics in Theory   Beginner Level        20  ['Digital Marketing', 'Data Collection', 'Anal...                 ['Kevin Hartman']  Successfully marketing brands today requires a...  4.5\\nstars  University of Illinois at Urbana-Champaign  English  ['Course Overview and The Day The Geeks Took O...  ['In the orientation, you will become familiar...\n",
              "3  Digital Product Management: Modern Fundamentals   Beginner Level        11  ['Product/Market Fit', 'Product Management', '...                    ['Alex Cowan']  Not so long ago, the job of product manager wa...  4.7\\nstars                      University of Virginia  English  ['Achieving Focus and #Winning', \"Using Today'...  ['As a product manager, you and your team will...\n",
              "4                             The Nature of Genius   Beginner Level        28  ['Creativity', 'Art', 'History', 'Psychology',...  ['Craig Wright\\nTOP INSTRUCTOR']  Today \"genius\" is all around us. Celebrities, ...         NaN                             Yale University  English  ['Genius Defined,   Genius Denied ,  Genius an...  ['In Section 1 of Module 1 we determine, jokin..."
            ],
            "text/html": [
              "\n",
              "  <div id=\"df-0799d667-9350-4d74-97bb-c8c5d9914f9a\">\n",
              "    <div class=\"colab-df-container\">\n",
              "      <div>\n",
              "<style scoped>\n",
              "    .dataframe tbody tr th:only-of-type {\n",
              "        vertical-align: middle;\n",
              "    }\n",
              "\n",
              "    .dataframe tbody tr th {\n",
              "        vertical-align: top;\n",
              "    }\n",
              "\n",
              "    .dataframe thead th {\n",
              "        text-align: right;\n",
              "    }\n",
              "</style>\n",
              "<table border=\"1\" class=\"dataframe\">\n",
              "  <thead>\n",
              "    <tr style=\"text-align: right;\">\n",
              "      <th></th>\n",
              "      <th>course_title</th>\n",
              "      <th>difficulty_level</th>\n",
              "      <th>duration</th>\n",
              "      <th>skills</th>\n",
              "      <th>instructors</th>\n",
              "      <th>description</th>\n",
              "      <th>rating</th>\n",
              "      <th>offered_by</th>\n",
              "      <th>language</th>\n",
              "      <th>syllabus_heading</th>\n",
              "      <th>syllabus_details</th>\n",
              "    </tr>\n",
              "  </thead>\n",
              "  <tbody>\n",
              "    <tr>\n",
              "      <th>0</th>\n",
              "      <td>Cloud Computing Concepts, Part 1</td>\n",
              "      <td>Beginner Level</td>\n",
              "      <td>23</td>\n",
              "      <td>['Distributed Algorithm', 'Distributed Computi...</td>\n",
              "      <td>['Indranil Gupta']</td>\n",
              "      <td>Cloud computing systems today, whether open-so...</td>\n",
              "      <td>4.4\\nstars</td>\n",
              "      <td>University of Illinois at Urbana-Champaign</td>\n",
              "      <td>English</td>\n",
              "      <td>['Week 1: Orientation, Introduction to Clouds,...</td>\n",
              "      <td>['This course is oriented towards learners wit...</td>\n",
              "    </tr>\n",
              "    <tr>\n",
              "      <th>1</th>\n",
              "      <td>The Challenges of Global Health</td>\n",
              "      <td>Beginner Level</td>\n",
              "      <td>20</td>\n",
              "      <td>[]</td>\n",
              "      <td>['Dr. David Boyd']</td>\n",
              "      <td>What are the world’s major health challenges? ...</td>\n",
              "      <td>4.8\\nstars</td>\n",
              "      <td>Duke University</td>\n",
              "      <td>English</td>\n",
              "      <td>['Getting Started', 'Basic Concepts in Global ...</td>\n",
              "      <td>['Start here! ', 'This module covers some of t...</td>\n",
              "    </tr>\n",
              "    <tr>\n",
              "      <th>2</th>\n",
              "      <td>Digital Marketing Analytics in Theory</td>\n",
              "      <td>Beginner Level</td>\n",
              "      <td>20</td>\n",
              "      <td>['Digital Marketing', 'Data Collection', 'Anal...</td>\n",
              "      <td>['Kevin Hartman']</td>\n",
              "      <td>Successfully marketing brands today requires a...</td>\n",
              "      <td>4.5\\nstars</td>\n",
              "      <td>University of Illinois at Urbana-Champaign</td>\n",
              "      <td>English</td>\n",
              "      <td>['Course Overview and The Day The Geeks Took O...</td>\n",
              "      <td>['In the orientation, you will become familiar...</td>\n",
              "    </tr>\n",
              "    <tr>\n",
              "      <th>3</th>\n",
              "      <td>Digital Product Management: Modern Fundamentals</td>\n",
              "      <td>Beginner Level</td>\n",
              "      <td>11</td>\n",
              "      <td>['Product/Market Fit', 'Product Management', '...</td>\n",
              "      <td>['Alex Cowan']</td>\n",
              "      <td>Not so long ago, the job of product manager wa...</td>\n",
              "      <td>4.7\\nstars</td>\n",
              "      <td>University of Virginia</td>\n",
              "      <td>English</td>\n",
              "      <td>['Achieving Focus and #Winning', \"Using Today'...</td>\n",
              "      <td>['As a product manager, you and your team will...</td>\n",
              "    </tr>\n",
              "    <tr>\n",
              "      <th>4</th>\n",
              "      <td>The Nature of Genius</td>\n",
              "      <td>Beginner Level</td>\n",
              "      <td>28</td>\n",
              "      <td>['Creativity', 'Art', 'History', 'Psychology',...</td>\n",
              "      <td>['Craig Wright\\nTOP INSTRUCTOR']</td>\n",
              "      <td>Today \"genius\" is all around us. Celebrities, ...</td>\n",
              "      <td>NaN</td>\n",
              "      <td>Yale University</td>\n",
              "      <td>English</td>\n",
              "      <td>['Genius Defined,   Genius Denied ,  Genius an...</td>\n",
              "      <td>['In Section 1 of Module 1 we determine, jokin...</td>\n",
              "    </tr>\n",
              "  </tbody>\n",
              "</table>\n",
              "</div>\n",
              "      <button class=\"colab-df-convert\" onclick=\"convertToInteractive('df-0799d667-9350-4d74-97bb-c8c5d9914f9a')\"\n",
              "              title=\"Convert this dataframe to an interactive table.\"\n",
              "              style=\"display:none;\">\n",
              "        \n",
              "  <svg xmlns=\"http://www.w3.org/2000/svg\" height=\"24px\"viewBox=\"0 0 24 24\"\n",
              "       width=\"24px\">\n",
              "    <path d=\"M0 0h24v24H0V0z\" fill=\"none\"/>\n",
              "    <path d=\"M18.56 5.44l.94 2.06.94-2.06 2.06-.94-2.06-.94-.94-2.06-.94 2.06-2.06.94zm-11 1L8.5 8.5l.94-2.06 2.06-.94-2.06-.94L8.5 2.5l-.94 2.06-2.06.94zm10 10l.94 2.06.94-2.06 2.06-.94-2.06-.94-.94-2.06-.94 2.06-2.06.94z\"/><path d=\"M17.41 7.96l-1.37-1.37c-.4-.4-.92-.59-1.43-.59-.52 0-1.04.2-1.43.59L10.3 9.45l-7.72 7.72c-.78.78-.78 2.05 0 2.83L4 21.41c.39.39.9.59 1.41.59.51 0 1.02-.2 1.41-.59l7.78-7.78 2.81-2.81c.8-.78.8-2.07 0-2.86zM5.41 20L4 18.59l7.72-7.72 1.47 1.35L5.41 20z\"/>\n",
              "  </svg>\n",
              "      </button>\n",
              "      \n",
              "  <style>\n",
              "    .colab-df-container {\n",
              "      display:flex;\n",
              "      flex-wrap:wrap;\n",
              "      gap: 12px;\n",
              "    }\n",
              "\n",
              "    .colab-df-convert {\n",
              "      background-color: #E8F0FE;\n",
              "      border: none;\n",
              "      border-radius: 50%;\n",
              "      cursor: pointer;\n",
              "      display: none;\n",
              "      fill: #1967D2;\n",
              "      height: 32px;\n",
              "      padding: 0 0 0 0;\n",
              "      width: 32px;\n",
              "    }\n",
              "\n",
              "    .colab-df-convert:hover {\n",
              "      background-color: #E2EBFA;\n",
              "      box-shadow: 0px 1px 2px rgba(60, 64, 67, 0.3), 0px 1px 3px 1px rgba(60, 64, 67, 0.15);\n",
              "      fill: #174EA6;\n",
              "    }\n",
              "\n",
              "    [theme=dark] .colab-df-convert {\n",
              "      background-color: #3B4455;\n",
              "      fill: #D2E3FC;\n",
              "    }\n",
              "\n",
              "    [theme=dark] .colab-df-convert:hover {\n",
              "      background-color: #434B5C;\n",
              "      box-shadow: 0px 1px 3px 1px rgba(0, 0, 0, 0.15);\n",
              "      filter: drop-shadow(0px 1px 2px rgba(0, 0, 0, 0.3));\n",
              "      fill: #FFFFFF;\n",
              "    }\n",
              "  </style>\n",
              "\n",
              "      <script>\n",
              "        const buttonEl =\n",
              "          document.querySelector('#df-0799d667-9350-4d74-97bb-c8c5d9914f9a button.colab-df-convert');\n",
              "        buttonEl.style.display =\n",
              "          google.colab.kernel.accessAllowed ? 'block' : 'none';\n",
              "\n",
              "        async function convertToInteractive(key) {\n",
              "          const element = document.querySelector('#df-0799d667-9350-4d74-97bb-c8c5d9914f9a');\n",
              "          const dataTable =\n",
              "            await google.colab.kernel.invokeFunction('convertToInteractive',\n",
              "                                                     [key], {});\n",
              "          if (!dataTable) return;\n",
              "\n",
              "          const docLinkHtml = 'Like what you see? Visit the ' +\n",
              "            '<a target=\"_blank\" href=https://colab.research.google.com/notebooks/data_table.ipynb>data table notebook</a>'\n",
              "            + ' to learn more about interactive tables.';\n",
              "          element.innerHTML = '';\n",
              "          dataTable['output_type'] = 'display_data';\n",
              "          await google.colab.output.renderOutput(dataTable, element);\n",
              "          const docLink = document.createElement('div');\n",
              "          docLink.innerHTML = docLinkHtml;\n",
              "          element.appendChild(docLink);\n",
              "        }\n",
              "      </script>\n",
              "    </div>\n",
              "  </div>\n",
              "  "
            ]
          },
          "metadata": {},
          "execution_count": 16
        }
      ]
    },
    {
      "cell_type": "code",
      "source": [
        "coursedata['duration'].value_counts()"
      ],
      "metadata": {
        "colab": {
          "base_uri": "https://localhost:8080/"
        },
        "id": "X33t708QCE9y",
        "outputId": "265c6eb4-9fc8-4a5c-8052-c4ba57b1f71e"
      },
      "execution_count": null,
      "outputs": [
        {
          "output_type": "execute_result",
          "data": {
            "text/plain": [
              "13     859\n",
              "12     330\n",
              "10     329\n",
              "9      314\n",
              "11     311\n",
              "15     297\n",
              "14     289\n",
              "8      277\n",
              "16     243\n",
              "7      236\n",
              "6      230\n",
              "18     230\n",
              "19     212\n",
              "17     209\n",
              "20     202\n",
              "22     161\n",
              "5      158\n",
              "21     147\n",
              "2      141\n",
              "4      138\n",
              "23     125\n",
              "25     114\n",
              "24     100\n",
              "27      96\n",
              "3       96\n",
              "26      94\n",
              "28      76\n",
              "29      63\n",
              "33      54\n",
              "31      51\n",
              "32      47\n",
              "30      47\n",
              "35      34\n",
              "1       30\n",
              "34      27\n",
              "40      27\n",
              "38      25\n",
              "37      21\n",
              "47      17\n",
              "42      15\n",
              "36      15\n",
              "46      12\n",
              "41      10\n",
              "39      10\n",
              "44       9\n",
              "43       9\n",
              "45       9\n",
              "54       7\n",
              "49       7\n",
              "66       6\n",
              "53       5\n",
              "60       5\n",
              "55       4\n",
              "56       4\n",
              "71       4\n",
              "48       3\n",
              "59       3\n",
              "65       3\n",
              "50       3\n",
              "93       2\n",
              "69       2\n",
              "51       2\n",
              "72       2\n",
              "57       2\n",
              "73       2\n",
              "63       2\n",
              "61       2\n",
              "67       2\n",
              "76       2\n",
              "81       1\n",
              "58       1\n",
              "96       1\n",
              "104      1\n",
              "80       1\n",
              "68       1\n",
              "90       1\n",
              "64       1\n",
              "78       1\n",
              "106      1\n",
              "85       1\n",
              "88       1\n",
              "310      1\n",
              "62       1\n",
              "70       1\n",
              "127      1\n",
              "Name: duration, dtype: int64"
            ]
          },
          "metadata": {},
          "execution_count": 17
        }
      ]
    },
    {
      "cell_type": "code",
      "source": [
        "coursedata['difficulty_level'].isnull().sum()"
      ],
      "metadata": {
        "colab": {
          "base_uri": "https://localhost:8080/"
        },
        "id": "XtdTsF0WNuz0",
        "outputId": "2849e917-6c31-41b6-8763-4b3c39a7570f"
      },
      "execution_count": null,
      "outputs": [
        {
          "output_type": "execute_result",
          "data": {
            "text/plain": [
              "1900"
            ]
          },
          "metadata": {},
          "execution_count": 18
        }
      ]
    },
    {
      "cell_type": "code",
      "source": [
        "#@title\n",
        "#Replacing blank values of difficulty level with Unknown \n",
        "coursedata[\"difficulty_level\"].fillna(\"Unknown\", inplace = True)\n",
        "coursedata[\"difficulty_level\"].value_counts()"
      ],
      "metadata": {
        "colab": {
          "base_uri": "https://localhost:8080/"
        },
        "id": "2W1wPhoJPKxG",
        "outputId": "53467715-48e6-4ca0-c6b7-1d9e46b8b9ef"
      },
      "execution_count": null,
      "outputs": [
        {
          "output_type": "execute_result",
          "data": {
            "text/plain": [
              "Beginner Level        3057\n",
              "Unknown               1900\n",
              "Intermediate Level    1489\n",
              "Advanced Level         190\n",
              "Name: difficulty_level, dtype: int64"
            ]
          },
          "metadata": {},
          "execution_count": 19
        }
      ]
    },
    {
      "cell_type": "code",
      "source": [
        "diff_lvl_dict = {'Beginner Level':1 , 'Intermediate Level':2, 'Advanced Level':3, 'Unknown':0}\n",
        "coursedata['numeric_difficulty_lvl'] = coursedata.difficulty_level.map(diff_lvl_dict)\n",
        "coursedata['numeric_difficulty_lvl'].value_counts()"
      ],
      "metadata": {
        "colab": {
          "base_uri": "https://localhost:8080/"
        },
        "id": "Q5UoBh4bOr-t",
        "outputId": "258cb1ab-25e0-4df0-805c-23111dac3caf"
      },
      "execution_count": null,
      "outputs": [
        {
          "output_type": "execute_result",
          "data": {
            "text/plain": [
              "1    3057\n",
              "0    1900\n",
              "2    1489\n",
              "3     190\n",
              "Name: numeric_difficulty_lvl, dtype: int64"
            ]
          },
          "metadata": {},
          "execution_count": 20
        }
      ]
    },
    {
      "cell_type": "code",
      "source": [
        "coursedata.head()"
      ],
      "metadata": {
        "colab": {
          "base_uri": "https://localhost:8080/",
          "height": 528
        },
        "id": "B8RnYKyzPEEF",
        "outputId": "c2982a13-de88-4c55-fb7f-8f8ac3a40293"
      },
      "execution_count": null,
      "outputs": [
        {
          "output_type": "execute_result",
          "data": {
            "text/plain": [
              "                                      course_title difficulty_level  duration                                             skills                       instructors                                        description      rating                                  offered_by language                                   syllabus_heading                                   syllabus_details  numeric_difficulty_lvl\n",
              "0                 Cloud Computing Concepts, Part 1   Beginner Level        23  ['Distributed Algorithm', 'Distributed Computi...                ['Indranil Gupta']  Cloud computing systems today, whether open-so...  4.4\\nstars  University of Illinois at Urbana-Champaign  English  ['Week 1: Orientation, Introduction to Clouds,...  ['This course is oriented towards learners wit...                       1\n",
              "1                  The Challenges of Global Health   Beginner Level        20                                                 []                ['Dr. David Boyd']  What are the world’s major health challenges? ...  4.8\\nstars                             Duke University  English  ['Getting Started', 'Basic Concepts in Global ...  ['Start here! ', 'This module covers some of t...                       1\n",
              "2            Digital Marketing Analytics in Theory   Beginner Level        20  ['Digital Marketing', 'Data Collection', 'Anal...                 ['Kevin Hartman']  Successfully marketing brands today requires a...  4.5\\nstars  University of Illinois at Urbana-Champaign  English  ['Course Overview and The Day The Geeks Took O...  ['In the orientation, you will become familiar...                       1\n",
              "3  Digital Product Management: Modern Fundamentals   Beginner Level        11  ['Product/Market Fit', 'Product Management', '...                    ['Alex Cowan']  Not so long ago, the job of product manager wa...  4.7\\nstars                      University of Virginia  English  ['Achieving Focus and #Winning', \"Using Today'...  ['As a product manager, you and your team will...                       1\n",
              "4                             The Nature of Genius   Beginner Level        28  ['Creativity', 'Art', 'History', 'Psychology',...  ['Craig Wright\\nTOP INSTRUCTOR']  Today \"genius\" is all around us. Celebrities, ...         NaN                             Yale University  English  ['Genius Defined,   Genius Denied ,  Genius an...  ['In Section 1 of Module 1 we determine, jokin...                       1"
            ],
            "text/html": [
              "\n",
              "  <div id=\"df-03adbc5a-875b-4279-b14b-aa8f2d489a42\">\n",
              "    <div class=\"colab-df-container\">\n",
              "      <div>\n",
              "<style scoped>\n",
              "    .dataframe tbody tr th:only-of-type {\n",
              "        vertical-align: middle;\n",
              "    }\n",
              "\n",
              "    .dataframe tbody tr th {\n",
              "        vertical-align: top;\n",
              "    }\n",
              "\n",
              "    .dataframe thead th {\n",
              "        text-align: right;\n",
              "    }\n",
              "</style>\n",
              "<table border=\"1\" class=\"dataframe\">\n",
              "  <thead>\n",
              "    <tr style=\"text-align: right;\">\n",
              "      <th></th>\n",
              "      <th>course_title</th>\n",
              "      <th>difficulty_level</th>\n",
              "      <th>duration</th>\n",
              "      <th>skills</th>\n",
              "      <th>instructors</th>\n",
              "      <th>description</th>\n",
              "      <th>rating</th>\n",
              "      <th>offered_by</th>\n",
              "      <th>language</th>\n",
              "      <th>syllabus_heading</th>\n",
              "      <th>syllabus_details</th>\n",
              "      <th>numeric_difficulty_lvl</th>\n",
              "    </tr>\n",
              "  </thead>\n",
              "  <tbody>\n",
              "    <tr>\n",
              "      <th>0</th>\n",
              "      <td>Cloud Computing Concepts, Part 1</td>\n",
              "      <td>Beginner Level</td>\n",
              "      <td>23</td>\n",
              "      <td>['Distributed Algorithm', 'Distributed Computi...</td>\n",
              "      <td>['Indranil Gupta']</td>\n",
              "      <td>Cloud computing systems today, whether open-so...</td>\n",
              "      <td>4.4\\nstars</td>\n",
              "      <td>University of Illinois at Urbana-Champaign</td>\n",
              "      <td>English</td>\n",
              "      <td>['Week 1: Orientation, Introduction to Clouds,...</td>\n",
              "      <td>['This course is oriented towards learners wit...</td>\n",
              "      <td>1</td>\n",
              "    </tr>\n",
              "    <tr>\n",
              "      <th>1</th>\n",
              "      <td>The Challenges of Global Health</td>\n",
              "      <td>Beginner Level</td>\n",
              "      <td>20</td>\n",
              "      <td>[]</td>\n",
              "      <td>['Dr. David Boyd']</td>\n",
              "      <td>What are the world’s major health challenges? ...</td>\n",
              "      <td>4.8\\nstars</td>\n",
              "      <td>Duke University</td>\n",
              "      <td>English</td>\n",
              "      <td>['Getting Started', 'Basic Concepts in Global ...</td>\n",
              "      <td>['Start here! ', 'This module covers some of t...</td>\n",
              "      <td>1</td>\n",
              "    </tr>\n",
              "    <tr>\n",
              "      <th>2</th>\n",
              "      <td>Digital Marketing Analytics in Theory</td>\n",
              "      <td>Beginner Level</td>\n",
              "      <td>20</td>\n",
              "      <td>['Digital Marketing', 'Data Collection', 'Anal...</td>\n",
              "      <td>['Kevin Hartman']</td>\n",
              "      <td>Successfully marketing brands today requires a...</td>\n",
              "      <td>4.5\\nstars</td>\n",
              "      <td>University of Illinois at Urbana-Champaign</td>\n",
              "      <td>English</td>\n",
              "      <td>['Course Overview and The Day The Geeks Took O...</td>\n",
              "      <td>['In the orientation, you will become familiar...</td>\n",
              "      <td>1</td>\n",
              "    </tr>\n",
              "    <tr>\n",
              "      <th>3</th>\n",
              "      <td>Digital Product Management: Modern Fundamentals</td>\n",
              "      <td>Beginner Level</td>\n",
              "      <td>11</td>\n",
              "      <td>['Product/Market Fit', 'Product Management', '...</td>\n",
              "      <td>['Alex Cowan']</td>\n",
              "      <td>Not so long ago, the job of product manager wa...</td>\n",
              "      <td>4.7\\nstars</td>\n",
              "      <td>University of Virginia</td>\n",
              "      <td>English</td>\n",
              "      <td>['Achieving Focus and #Winning', \"Using Today'...</td>\n",
              "      <td>['As a product manager, you and your team will...</td>\n",
              "      <td>1</td>\n",
              "    </tr>\n",
              "    <tr>\n",
              "      <th>4</th>\n",
              "      <td>The Nature of Genius</td>\n",
              "      <td>Beginner Level</td>\n",
              "      <td>28</td>\n",
              "      <td>['Creativity', 'Art', 'History', 'Psychology',...</td>\n",
              "      <td>['Craig Wright\\nTOP INSTRUCTOR']</td>\n",
              "      <td>Today \"genius\" is all around us. Celebrities, ...</td>\n",
              "      <td>NaN</td>\n",
              "      <td>Yale University</td>\n",
              "      <td>English</td>\n",
              "      <td>['Genius Defined,   Genius Denied ,  Genius an...</td>\n",
              "      <td>['In Section 1 of Module 1 we determine, jokin...</td>\n",
              "      <td>1</td>\n",
              "    </tr>\n",
              "  </tbody>\n",
              "</table>\n",
              "</div>\n",
              "      <button class=\"colab-df-convert\" onclick=\"convertToInteractive('df-03adbc5a-875b-4279-b14b-aa8f2d489a42')\"\n",
              "              title=\"Convert this dataframe to an interactive table.\"\n",
              "              style=\"display:none;\">\n",
              "        \n",
              "  <svg xmlns=\"http://www.w3.org/2000/svg\" height=\"24px\"viewBox=\"0 0 24 24\"\n",
              "       width=\"24px\">\n",
              "    <path d=\"M0 0h24v24H0V0z\" fill=\"none\"/>\n",
              "    <path d=\"M18.56 5.44l.94 2.06.94-2.06 2.06-.94-2.06-.94-.94-2.06-.94 2.06-2.06.94zm-11 1L8.5 8.5l.94-2.06 2.06-.94-2.06-.94L8.5 2.5l-.94 2.06-2.06.94zm10 10l.94 2.06.94-2.06 2.06-.94-2.06-.94-.94-2.06-.94 2.06-2.06.94z\"/><path d=\"M17.41 7.96l-1.37-1.37c-.4-.4-.92-.59-1.43-.59-.52 0-1.04.2-1.43.59L10.3 9.45l-7.72 7.72c-.78.78-.78 2.05 0 2.83L4 21.41c.39.39.9.59 1.41.59.51 0 1.02-.2 1.41-.59l7.78-7.78 2.81-2.81c.8-.78.8-2.07 0-2.86zM5.41 20L4 18.59l7.72-7.72 1.47 1.35L5.41 20z\"/>\n",
              "  </svg>\n",
              "      </button>\n",
              "      \n",
              "  <style>\n",
              "    .colab-df-container {\n",
              "      display:flex;\n",
              "      flex-wrap:wrap;\n",
              "      gap: 12px;\n",
              "    }\n",
              "\n",
              "    .colab-df-convert {\n",
              "      background-color: #E8F0FE;\n",
              "      border: none;\n",
              "      border-radius: 50%;\n",
              "      cursor: pointer;\n",
              "      display: none;\n",
              "      fill: #1967D2;\n",
              "      height: 32px;\n",
              "      padding: 0 0 0 0;\n",
              "      width: 32px;\n",
              "    }\n",
              "\n",
              "    .colab-df-convert:hover {\n",
              "      background-color: #E2EBFA;\n",
              "      box-shadow: 0px 1px 2px rgba(60, 64, 67, 0.3), 0px 1px 3px 1px rgba(60, 64, 67, 0.15);\n",
              "      fill: #174EA6;\n",
              "    }\n",
              "\n",
              "    [theme=dark] .colab-df-convert {\n",
              "      background-color: #3B4455;\n",
              "      fill: #D2E3FC;\n",
              "    }\n",
              "\n",
              "    [theme=dark] .colab-df-convert:hover {\n",
              "      background-color: #434B5C;\n",
              "      box-shadow: 0px 1px 3px 1px rgba(0, 0, 0, 0.15);\n",
              "      filter: drop-shadow(0px 1px 2px rgba(0, 0, 0, 0.3));\n",
              "      fill: #FFFFFF;\n",
              "    }\n",
              "  </style>\n",
              "\n",
              "      <script>\n",
              "        const buttonEl =\n",
              "          document.querySelector('#df-03adbc5a-875b-4279-b14b-aa8f2d489a42 button.colab-df-convert');\n",
              "        buttonEl.style.display =\n",
              "          google.colab.kernel.accessAllowed ? 'block' : 'none';\n",
              "\n",
              "        async function convertToInteractive(key) {\n",
              "          const element = document.querySelector('#df-03adbc5a-875b-4279-b14b-aa8f2d489a42');\n",
              "          const dataTable =\n",
              "            await google.colab.kernel.invokeFunction('convertToInteractive',\n",
              "                                                     [key], {});\n",
              "          if (!dataTable) return;\n",
              "\n",
              "          const docLinkHtml = 'Like what you see? Visit the ' +\n",
              "            '<a target=\"_blank\" href=https://colab.research.google.com/notebooks/data_table.ipynb>data table notebook</a>'\n",
              "            + ' to learn more about interactive tables.';\n",
              "          element.innerHTML = '';\n",
              "          dataTable['output_type'] = 'display_data';\n",
              "          await google.colab.output.renderOutput(dataTable, element);\n",
              "          const docLink = document.createElement('div');\n",
              "          docLink.innerHTML = docLinkHtml;\n",
              "          element.appendChild(docLink);\n",
              "        }\n",
              "      </script>\n",
              "    </div>\n",
              "  </div>\n",
              "  "
            ]
          },
          "metadata": {},
          "execution_count": 21
        }
      ]
    },
    {
      "cell_type": "code",
      "source": [
        "coursedata.info()"
      ],
      "metadata": {
        "id": "8Auxdln7PeU6",
        "colab": {
          "base_uri": "https://localhost:8080/"
        },
        "outputId": "36986e8c-05ac-4d2c-abae-6311341397de"
      },
      "execution_count": null,
      "outputs": [
        {
          "output_type": "stream",
          "name": "stdout",
          "text": [
            "<class 'pandas.core.frame.DataFrame'>\n",
            "RangeIndex: 6636 entries, 0 to 6635\n",
            "Data columns (total 12 columns):\n",
            " #   Column                  Non-Null Count  Dtype \n",
            "---  ------                  --------------  ----- \n",
            " 0   course_title            6134 non-null   object\n",
            " 1   difficulty_level        6636 non-null   object\n",
            " 2   duration                6636 non-null   int64 \n",
            " 3   skills                  6636 non-null   object\n",
            " 4   instructors             6636 non-null   object\n",
            " 5   description             6635 non-null   object\n",
            " 6   rating                  4651 non-null   object\n",
            " 7   offered_by              6636 non-null   object\n",
            " 8   language                6636 non-null   object\n",
            " 9   syllabus_heading        6636 non-null   object\n",
            " 10  syllabus_details        6636 non-null   object\n",
            " 11  numeric_difficulty_lvl  6636 non-null   int64 \n",
            "dtypes: int64(2), object(10)\n",
            "memory usage: 622.2+ KB\n"
          ]
        }
      ]
    },
    {
      "cell_type": "code",
      "source": [
        "#Course Duration Distribution throughout the data\n",
        "#Rating Distribution throughout the data\n",
        "import seaborn as sns\n",
        "plt.figure(figsize=(15,10)) \n",
        "sns.countplot(x='duration', data=coursedata)\n",
        "plt.xlabel('Course Duration')\n",
        "plt.xticks(rotation=90)\n",
        "plt.ylabel('Number of Courses')\n",
        "plt.title('NUMBER OF COURSES FOR DIFFERENT DURATION')"
      ],
      "metadata": {
        "colab": {
          "base_uri": "https://localhost:8080/",
          "height": 648
        },
        "id": "IscUtU9ZAoSi",
        "outputId": "31d5461f-85a9-4bf6-b968-570e94cdc93c"
      },
      "execution_count": null,
      "outputs": [
        {
          "output_type": "execute_result",
          "data": {
            "text/plain": [
              "Text(0.5, 1.0, 'NUMBER OF COURSES FOR DIFFERENT DURATION')"
            ]
          },
          "metadata": {},
          "execution_count": 23
        },
        {
          "output_type": "display_data",
          "data": {
            "text/plain": [
              "<Figure size 1080x720 with 1 Axes>"
            ],
            "image/png": "[encoded data removed]"
          },
          "metadata": {
            "needs_background": "light"
          }
        }
      ]
    },
    {
      "cell_type": "code",
      "source": [
        "def label_race (row):\n",
        "   if row['duration'] <= 10 :\n",
        "      return 'Short Course Duration'\n",
        "   if row['duration'] > 10 and row['duration'] <= 35 :\n",
        "      return 'Medium Course  Duration'\n",
        "   if row['duration'] >35 and row['duration'] <=70 :\n",
        "      return 'Long Course Duration'\n",
        "   if row['duration'] >70  :\n",
        "      return 'Very Long Course Duration'"
      ],
      "metadata": {
        "id": "BdUy517IBI_K"
      },
      "execution_count": null,
      "outputs": []
    },
    {
      "cell_type": "code",
      "source": [
        "coursedata['duration_label'] = coursedata.apply (lambda row: label_race(row), axis=1)"
      ],
      "metadata": {
        "id": "4rv4zZuTBSg_"
      },
      "execution_count": null,
      "outputs": []
    },
    {
      "cell_type": "code",
      "source": [
        "coursedata[\"duration_label\"].value_counts()"
      ],
      "metadata": {
        "colab": {
          "base_uri": "https://localhost:8080/"
        },
        "id": "6_PzqQitBa26",
        "outputId": "e878328e-3d36-4429-81cb-4602c96d7bda"
      },
      "execution_count": null,
      "outputs": [
        {
          "output_type": "execute_result",
          "data": {
            "text/plain": [
              "Medium Course  Duration      4418\n",
              "Short Course Duration        1949\n",
              "Long Course Duration          246\n",
              "Very Long Course Duration      23\n",
              "Name: duration_label, dtype: int64"
            ]
          },
          "metadata": {},
          "execution_count": 26
        }
      ]
    },
    {
      "cell_type": "code",
      "source": [
        "coursedata.info()"
      ],
      "metadata": {
        "colab": {
          "base_uri": "https://localhost:8080/"
        },
        "id": "703laNEWBed5",
        "outputId": "a3092800-2ebc-49ea-8bd0-98488a43d0c4"
      },
      "execution_count": null,
      "outputs": [
        {
          "output_type": "stream",
          "name": "stdout",
          "text": [
            "<class 'pandas.core.frame.DataFrame'>\n",
            "RangeIndex: 6636 entries, 0 to 6635\n",
            "Data columns (total 13 columns):\n",
            " #   Column                  Non-Null Count  Dtype \n",
            "---  ------                  --------------  ----- \n",
            " 0   course_title            6134 non-null   object\n",
            " 1   difficulty_level        6636 non-null   object\n",
            " 2   duration                6636 non-null   int64 \n",
            " 3   skills                  6636 non-null   object\n",
            " 4   instructors             6636 non-null   object\n",
            " 5   description             6635 non-null   object\n",
            " 6   rating                  4651 non-null   object\n",
            " 7   offered_by              6636 non-null   object\n",
            " 8   language                6636 non-null   object\n",
            " 9   syllabus_heading        6636 non-null   object\n",
            " 10  syllabus_details        6636 non-null   object\n",
            " 11  numeric_difficulty_lvl  6636 non-null   int64 \n",
            " 12  duration_label          6636 non-null   object\n",
            "dtypes: int64(2), object(11)\n",
            "memory usage: 674.1+ KB\n"
          ]
        }
      ]
    },
    {
      "cell_type": "code",
      "source": [
        "coursedata.head()"
      ],
      "metadata": {
        "colab": {
          "base_uri": "https://localhost:8080/",
          "height": 634
        },
        "id": "54zIl1jYBghG",
        "outputId": "ff5fd852-a6e3-4a27-bffa-daa8334f1258"
      },
      "execution_count": null,
      "outputs": [
        {
          "output_type": "execute_result",
          "data": {
            "text/plain": [
              "                                      course_title difficulty_level  duration                                             skills                       instructors                                        description      rating                                  offered_by language                                   syllabus_heading                                   syllabus_details  numeric_difficulty_lvl           duration_label\n",
              "0                 Cloud Computing Concepts, Part 1   Beginner Level        23  ['Distributed Algorithm', 'Distributed Computi...                ['Indranil Gupta']  Cloud computing systems today, whether open-so...  4.4\\nstars  University of Illinois at Urbana-Champaign  English  ['Week 1: Orientation, Introduction to Clouds,...  ['This course is oriented towards learners wit...                       1  Medium Course  Duration\n",
              "1                  The Challenges of Global Health   Beginner Level        20                                                 []                ['Dr. David Boyd']  What are the world’s major health challenges? ...  4.8\\nstars                             Duke University  English  ['Getting Started', 'Basic Concepts in Global ...  ['Start here! ', 'This module covers some of t...                       1  Medium Course  Duration\n",
              "2            Digital Marketing Analytics in Theory   Beginner Level        20  ['Digital Marketing', 'Data Collection', 'Anal...                 ['Kevin Hartman']  Successfully marketing brands today requires a...  4.5\\nstars  University of Illinois at Urbana-Champaign  English  ['Course Overview and The Day The Geeks Took O...  ['In the orientation, you will become familiar...                       1  Medium Course  Duration\n",
              "3  Digital Product Management: Modern Fundamentals   Beginner Level        11  ['Product/Market Fit', 'Product Management', '...                    ['Alex Cowan']  Not so long ago, the job of product manager wa...  4.7\\nstars                      University of Virginia  English  ['Achieving Focus and #Winning', \"Using Today'...  ['As a product manager, you and your team will...                       1  Medium Course  Duration\n",
              "4                             The Nature of Genius   Beginner Level        28  ['Creativity', 'Art', 'History', 'Psychology',...  ['Craig Wright\\nTOP INSTRUCTOR']  Today \"genius\" is all around us. Celebrities, ...         NaN                             Yale University  English  ['Genius Defined,   Genius Denied ,  Genius an...  ['In Section 1 of Module 1 we determine, jokin...                       1  Medium Course  Duration"
            ],
            "text/html": [
              "\n",
              "  <div id=\"df-c820d699-2057-45a1-96f9-38361e1fef1d\">\n",
              "    <div class=\"colab-df-container\">\n",
              "      <div>\n",
              "<style scoped>\n",
              "    .dataframe tbody tr th:only-of-type {\n",
              "        vertical-align: middle;\n",
              "    }\n",
              "\n",
              "    .dataframe tbody tr th {\n",
              "        vertical-align: top;\n",
              "    }\n",
              "\n",
              "    .dataframe thead th {\n",
              "        text-align: right;\n",
              "    }\n",
              "</style>\n",
              "<table border=\"1\" class=\"dataframe\">\n",
              "  <thead>\n",
              "    <tr style=\"text-align: right;\">\n",
              "      <th></th>\n",
              "      <th>course_title</th>\n",
              "      <th>difficulty_level</th>\n",
              "      <th>duration</th>\n",
              "      <th>skills</th>\n",
              "      <th>instructors</th>\n",
              "      <th>description</th>\n",
              "      <th>rating</th>\n",
              "      <th>offered_by</th>\n",
              "      <th>language</th>\n",
              "      <th>syllabus_heading</th>\n",
              "      <th>syllabus_details</th>\n",
              "      <th>numeric_difficulty_lvl</th>\n",
              "      <th>duration_label</th>\n",
              "    </tr>\n",
              "  </thead>\n",
              "  <tbody>\n",
              "    <tr>\n",
              "      <th>0</th>\n",
              "      <td>Cloud Computing Concepts, Part 1</td>\n",
              "      <td>Beginner Level</td>\n",
              "      <td>23</td>\n",
              "      <td>['Distributed Algorithm', 'Distributed Computi...</td>\n",
              "      <td>['Indranil Gupta']</td>\n",
              "      <td>Cloud computing systems today, whether open-so...</td>\n",
              "      <td>4.4\\nstars</td>\n",
              "      <td>University of Illinois at Urbana-Champaign</td>\n",
              "      <td>English</td>\n",
              "      <td>['Week 1: Orientation, Introduction to Clouds,...</td>\n",
              "      <td>['This course is oriented towards learners wit...</td>\n",
              "      <td>1</td>\n",
              "      <td>Medium Course  Duration</td>\n",
              "    </tr>\n",
              "    <tr>\n",
              "      <th>1</th>\n",
              "      <td>The Challenges of Global Health</td>\n",
              "      <td>Beginner Level</td>\n",
              "      <td>20</td>\n",
              "      <td>[]</td>\n",
              "      <td>['Dr. David Boyd']</td>\n",
              "      <td>What are the world’s major health challenges? ...</td>\n",
              "      <td>4.8\\nstars</td>\n",
              "      <td>Duke University</td>\n",
              "      <td>English</td>\n",
              "      <td>['Getting Started', 'Basic Concepts in Global ...</td>\n",
              "      <td>['Start here! ', 'This module covers some of t...</td>\n",
              "      <td>1</td>\n",
              "      <td>Medium Course  Duration</td>\n",
              "    </tr>\n",
              "    <tr>\n",
              "      <th>2</th>\n",
              "      <td>Digital Marketing Analytics in Theory</td>\n",
              "      <td>Beginner Level</td>\n",
              "      <td>20</td>\n",
              "      <td>['Digital Marketing', 'Data Collection', 'Anal...</td>\n",
              "      <td>['Kevin Hartman']</td>\n",
              "      <td>Successfully marketing brands today requires a...</td>\n",
              "      <td>4.5\\nstars</td>\n",
              "      <td>University of Illinois at Urbana-Champaign</td>\n",
              "      <td>English</td>\n",
              "      <td>['Course Overview and The Day The Geeks Took O...</td>\n",
              "      <td>['In the orientation, you will become familiar...</td>\n",
              "      <td>1</td>\n",
              "      <td>Medium Course  Duration</td>\n",
              "    </tr>\n",
              "    <tr>\n",
              "      <th>3</th>\n",
              "      <td>Digital Product Management: Modern Fundamentals</td>\n",
              "      <td>Beginner Level</td>\n",
              "      <td>11</td>\n",
              "      <td>['Product/Market Fit', 'Product Management', '...</td>\n",
              "      <td>['Alex Cowan']</td>\n",
              "      <td>Not so long ago, the job of product manager wa...</td>\n",
              "      <td>4.7\\nstars</td>\n",
              "      <td>University of Virginia</td>\n",
              "      <td>English</td>\n",
              "      <td>['Achieving Focus and #Winning', \"Using Today'...</td>\n",
              "      <td>['As a product manager, you and your team will...</td>\n",
              "      <td>1</td>\n",
              "      <td>Medium Course  Duration</td>\n",
              "    </tr>\n",
              "    <tr>\n",
              "      <th>4</th>\n",
              "      <td>The Nature of Genius</td>\n",
              "      <td>Beginner Level</td>\n",
              "      <td>28</td>\n",
              "      <td>['Creativity', 'Art', 'History', 'Psychology',...</td>\n",
              "      <td>['Craig Wright\\nTOP INSTRUCTOR']</td>\n",
              "      <td>Today \"genius\" is all around us. Celebrities, ...</td>\n",
              "      <td>NaN</td>\n",
              "      <td>Yale University</td>\n",
              "      <td>English</td>\n",
              "      <td>['Genius Defined,   Genius Denied ,  Genius an...</td>\n",
              "      <td>['In Section 1 of Module 1 we determine, jokin...</td>\n",
              "      <td>1</td>\n",
              "      <td>Medium Course  Duration</td>\n",
              "    </tr>\n",
              "  </tbody>\n",
              "</table>\n",
              "</div>\n",
              "      <button class=\"colab-df-convert\" onclick=\"convertToInteractive('df-c820d699-2057-45a1-96f9-38361e1fef1d')\"\n",
              "              title=\"Convert this dataframe to an interactive table.\"\n",
              "              style=\"display:none;\">\n",
              "        \n",
              "  <svg xmlns=\"http://www.w3.org/2000/svg\" height=\"24px\"viewBox=\"0 0 24 24\"\n",
              "       width=\"24px\">\n",
              "    <path d=\"M0 0h24v24H0V0z\" fill=\"none\"/>\n",
              "    <path d=\"M18.56 5.44l.94 2.06.94-2.06 2.06-.94-2.06-.94-.94-2.06-.94 2.06-2.06.94zm-11 1L8.5 8.5l.94-2.06 2.06-.94-2.06-.94L8.5 2.5l-.94 2.06-2.06.94zm10 10l.94 2.06.94-2.06 2.06-.94-2.06-.94-.94-2.06-.94 2.06-2.06.94z\"/><path d=\"M17.41 7.96l-1.37-1.37c-.4-.4-.92-.59-1.43-.59-.52 0-1.04.2-1.43.59L10.3 9.45l-7.72 7.72c-.78.78-.78 2.05 0 2.83L4 21.41c.39.39.9.59 1.41.59.51 0 1.02-.2 1.41-.59l7.78-7.78 2.81-2.81c.8-.78.8-2.07 0-2.86zM5.41 20L4 18.59l7.72-7.72 1.47 1.35L5.41 20z\"/>\n",
              "  </svg>\n",
              "      </button>\n",
              "      \n",
              "  <style>\n",
              "    .colab-df-container {\n",
              "      display:flex;\n",
              "      flex-wrap:wrap;\n",
              "      gap: 12px;\n",
              "    }\n",
              "\n",
              "    .colab-df-convert {\n",
              "      background-color: #E8F0FE;\n",
              "      border: none;\n",
              "      border-radius: 50%;\n",
              "      cursor: pointer;\n",
              "      display: none;\n",
              "      fill: #1967D2;\n",
              "      height: 32px;\n",
              "      padding: 0 0 0 0;\n",
              "      width: 32px;\n",
              "    }\n",
              "\n",
              "    .colab-df-convert:hover {\n",
              "      background-color: #E2EBFA;\n",
              "      box-shadow: 0px 1px 2px rgba(60, 64, 67, 0.3), 0px 1px 3px 1px rgba(60, 64, 67, 0.15);\n",
              "      fill: #174EA6;\n",
              "    }\n",
              "\n",
              "    [theme=dark] .colab-df-convert {\n",
              "      background-color: #3B4455;\n",
              "      fill: #D2E3FC;\n",
              "    }\n",
              "\n",
              "    [theme=dark] .colab-df-convert:hover {\n",
              "      background-color: #434B5C;\n",
              "      box-shadow: 0px 1px 3px 1px rgba(0, 0, 0, 0.15);\n",
              "      filter: drop-shadow(0px 1px 2px rgba(0, 0, 0, 0.3));\n",
              "      fill: #FFFFFF;\n",
              "    }\n",
              "  </style>\n",
              "\n",
              "      <script>\n",
              "        const buttonEl =\n",
              "          document.querySelector('#df-c820d699-2057-45a1-96f9-38361e1fef1d button.colab-df-convert');\n",
              "        buttonEl.style.display =\n",
              "          google.colab.kernel.accessAllowed ? 'block' : 'none';\n",
              "\n",
              "        async function convertToInteractive(key) {\n",
              "          const element = document.querySelector('#df-c820d699-2057-45a1-96f9-38361e1fef1d');\n",
              "          const dataTable =\n",
              "            await google.colab.kernel.invokeFunction('convertToInteractive',\n",
              "                                                     [key], {});\n",
              "          if (!dataTable) return;\n",
              "\n",
              "          const docLinkHtml = 'Like what you see? Visit the ' +\n",
              "            '<a target=\"_blank\" href=https://colab.research.google.com/notebooks/data_table.ipynb>data table notebook</a>'\n",
              "            + ' to learn more about interactive tables.';\n",
              "          element.innerHTML = '';\n",
              "          dataTable['output_type'] = 'display_data';\n",
              "          await google.colab.output.renderOutput(dataTable, element);\n",
              "          const docLink = document.createElement('div');\n",
              "          docLink.innerHTML = docLinkHtml;\n",
              "          element.appendChild(docLink);\n",
              "        }\n",
              "      </script>\n",
              "    </div>\n",
              "  </div>\n",
              "  "
            ]
          },
          "metadata": {},
          "execution_count": 28
        }
      ]
    },
    {
      "cell_type": "code",
      "source": [
        "import nltk\n",
        "nltk.download('words')"
      ],
      "metadata": {
        "colab": {
          "base_uri": "https://localhost:8080/"
        },
        "id": "lu2jt7EQMi6W",
        "outputId": "4edd0ae3-95c3-4f57-bf15-90f8bd786b71"
      },
      "execution_count": null,
      "outputs": [
        {
          "output_type": "stream",
          "name": "stderr",
          "text": [
            "[nltk_data] Downloading package words to /root/nltk_data...\n",
            "[nltk_data]   Unzipping corpora/words.zip.\n"
          ]
        },
        {
          "output_type": "execute_result",
          "data": {
            "text/plain": [
              "True"
            ]
          },
          "metadata": {},
          "execution_count": 29
        }
      ]
    },
    {
      "cell_type": "code",
      "source": [
        "coursedata['combined_text'] = \" CaliRollB \" + coursedata[\"course_title\"] + \" CaliRollA \" + coursedata[\"difficulty_level\"] +  coursedata[\"skills\"] +  coursedata[\"instructors\"] +  \\\n",
        "                              coursedata[\"description\"] +  coursedata[\"offered_by\"] +  coursedata[\"language\"] +  coursedata[\"syllabus_heading\"] +  \\\n",
        "                              coursedata[\"syllabus_details\"] +  coursedata[\"duration_label\"]\n",
        "coursedata['combined_text'][0]"
      ],
      "metadata": {
        "colab": {
          "base_uri": "https://localhost:8080/",
          "height": 123
        },
        "id": "0P8k4bhvBifX",
        "outputId": "88359974-6012-4f00-cac1-d53537cb7daa"
      },
      "execution_count": null,
      "outputs": [
        {
          "output_type": "execute_result",
          "data": {
            "text/plain": [
              "' CaliRollB Cloud Computing Concepts, Part 1 CaliRollA Beginner Level[\\'Distributed Algorithm\\', \\'Distributed Computing\\', \\'C++\\', \\'Cloud Computing\\'][\\'Indranil Gupta\\']Cloud computing systems today, whether open-source or used inside companies, are built using a common set of core techniques, algorithms, and design philosophies – all centered around distributed systems. Learn about such fundamental distributed computing \"concepts\" for cloud computing. Some of these concepts include: clouds, MapReduce, key-value/NoSQL stores, classical distributed algorithms, widely-used distributed algorithms, scalability, trending areas, and much, much more! \\n \\nKnow how these systems work from the inside out. Get your hands dirty using these concepts with provided homework exercises. In the programming assignments, implement some of these concepts in template code (programs) provided in the C++ programming language. Prior experience with C++ is required.\\n \\nThe course also features interviews with leading researchers and managers, from both industry and academia. The University of Illinois at Urbana-Champaign is a world leader in research, teaching and public engagement, distinguished by the breadth of its programs, broad academic excellence, and internationally renowned faculty and alumni. Illinois serves the world by creating knowledge, preparing students for lives of impact, and finding solutions to critical societal needs. This course is oriented towards learners with similar backgrounds as juniors and seniors in a CS undergraduate curriculum. Since learners come from various backgrounds, it is critical you view this lecture AND pass the prerequisite test. This will ensure you have many of the assumed prerequisite pieces of knowledge required to enjoy this course. Lesson 1: This module teaches how the multicast problem is solved by using epidemic/gossip protocols. It also teaches analysis of such protocols. Lesson 2: This module covers the design of failure detectors, a key component in any distributed system. Membership protocols, which use failure detectors as components, are also covered. Lesson 3: This module covers Grid computing, an important precursor to cloud computing. P2P systems: This module teaches the detailed design of two classes of peer to peer systems: (a) popular ones including Napster, Gnutella, FastTrack, and BitTorrent; and (b) efficient ones including distributed hash tables (Chord, Pastry, and Kelips). Besides focusing on design, the module also analyzes these systems in detail. Lesson 1: This module motivates and teaches the design of key-value/NoSQL storage/database systems. We cover the design of two major industry systems: Apache Cassandra and HBase. We also cover the famous CAP theorem. Lesson 2: Distributed systems are asynchronous, which makes clocks at different machines hard to synchronize. This module first covers various clock synchronization algorithms, and then covers ways of tagging events with causal timestamps that avoid synchronizing clocks. These classical algorithms were invented decades ago, yet are used widely in today’s cloud systems.  The Cloud Computing Specialization takes you on a tour through cloud computing systems. We start in in the middle layer with Cloud Computing Concepts covering core distributed systems concepts used inside clouds, move to the upper layer of Cloud Applications and finally to the lower layer of Cloud Networking. We conclude with a project that allows you to apply the skills you\\'ve learned throughout the courses. University of Illinois at Urbana-ChampaignEnglish[\\'Week 1: Orientation, Introduction to Clouds, MapReduce \\', \\'Week 2: Gossip, Membership, and Grids\\', \\'Week 3: P2P Systems\\', \\'Week 4: Key-Value Stores, Time, and Ordering\\', \\'Week 5: Classical Distributed Algorithms\\'][\\'This course is oriented towards learners with similar backgrounds as juniors and seniors in a CS undergraduate curriculum. Since learners come from various backgrounds, it is critical you view this lecture AND pass the prerequisite test. This will ensure you have many of the assumed prerequisite pieces of knowledge required to enjoy this course. \\', \\'Lesson 1: This module teaches how the multicast problem is solved by using epidemic/gossip protocols. It also teaches analysis of such protocols. Lesson 2: This module covers the design of failure detectors, a key component in any distributed system. Membership protocols, which use failure detectors as components, are also covered. Lesson 3: This module covers Grid computing, an important precursor to cloud computing.\\', \\'P2P systems: This module teaches the detailed design of two classes of peer to peer systems: (a) popular ones including Napster, Gnutella, FastTrack, and BitTorrent; and (b) efficient ones including distributed hash tables (Chord, Pastry, and Kelips). Besides focusing on design, the module also analyzes these systems in detail.\\', \\'Lesson 1: This module motivates and teaches the design of key-value/NoSQL storage/database systems. We cover the design of two major industry systems: Apache Cassandra and HBase. We also cover the famous CAP theorem.  Lesson 2: Distributed systems are asynchronous, which makes clocks at different machines hard to synchronize. This module first covers various clock synchronization algorithms, and then covers ways of tagging events with causal timestamps that avoid synchronizing clocks. These classical algorithms were invented decades ago, yet are used widely in today’s cloud systems.\\', \\'Lesson 1: This module covers how to calculate a distributed snapshot, leveraging causality again to circumvent the synchronization problem. Lesson 2: This lecture teaches how to order multicasts in any distributed system. Algorithms for assigning timestamp tags to multicasts using various flavors of ordering – FIFO, Causal, and Total – are covered. The module also covers virtual synchrony, a paradigm that combines reliable multicasts with membership views.  Lesson 3: Consensus is one of the most important problems in a distributed system, enabling multiple machines to agree. This module uses Paxos, one of the most popular consensus solutions used in the industry today. Paxos is not perfect because consensus cannot be solved completely – an optional lecture presents the famous FLP proof of impossibility of consensus. \\']Medium Course  Duration'"
            ],
            "application/vnd.google.colaboratory.intrinsic+json": {
              "type": "string"
            }
          },
          "metadata": {},
          "execution_count": 30
        }
      ]
    },
    {
      "cell_type": "code",
      "source": [
        "coursedata['combined_text'][0]"
      ],
      "metadata": {
        "colab": {
          "base_uri": "https://localhost:8080/",
          "height": 123
        },
        "id": "ntaOOzTyKBcX",
        "outputId": "6d0008ce-da94-4343-f598-c552de25e45c"
      },
      "execution_count": null,
      "outputs": [
        {
          "output_type": "execute_result",
          "data": {
            "text/plain": [
              "' CaliRollB Cloud Computing Concepts, Part 1 CaliRollA Beginner Level[\\'Distributed Algorithm\\', \\'Distributed Computing\\', \\'C++\\', \\'Cloud Computing\\'][\\'Indranil Gupta\\']Cloud computing systems today, whether open-source or used inside companies, are built using a common set of core techniques, algorithms, and design philosophies – all centered around distributed systems. Learn about such fundamental distributed computing \"concepts\" for cloud computing. Some of these concepts include: clouds, MapReduce, key-value/NoSQL stores, classical distributed algorithms, widely-used distributed algorithms, scalability, trending areas, and much, much more! \\n \\nKnow how these systems work from the inside out. Get your hands dirty using these concepts with provided homework exercises. In the programming assignments, implement some of these concepts in template code (programs) provided in the C++ programming language. Prior experience with C++ is required.\\n \\nThe course also features interviews with leading researchers and managers, from both industry and academia. The University of Illinois at Urbana-Champaign is a world leader in research, teaching and public engagement, distinguished by the breadth of its programs, broad academic excellence, and internationally renowned faculty and alumni. Illinois serves the world by creating knowledge, preparing students for lives of impact, and finding solutions to critical societal needs. This course is oriented towards learners with similar backgrounds as juniors and seniors in a CS undergraduate curriculum. Since learners come from various backgrounds, it is critical you view this lecture AND pass the prerequisite test. This will ensure you have many of the assumed prerequisite pieces of knowledge required to enjoy this course. Lesson 1: This module teaches how the multicast problem is solved by using epidemic/gossip protocols. It also teaches analysis of such protocols. Lesson 2: This module covers the design of failure detectors, a key component in any distributed system. Membership protocols, which use failure detectors as components, are also covered. Lesson 3: This module covers Grid computing, an important precursor to cloud computing. P2P systems: This module teaches the detailed design of two classes of peer to peer systems: (a) popular ones including Napster, Gnutella, FastTrack, and BitTorrent; and (b) efficient ones including distributed hash tables (Chord, Pastry, and Kelips). Besides focusing on design, the module also analyzes these systems in detail. Lesson 1: This module motivates and teaches the design of key-value/NoSQL storage/database systems. We cover the design of two major industry systems: Apache Cassandra and HBase. We also cover the famous CAP theorem. Lesson 2: Distributed systems are asynchronous, which makes clocks at different machines hard to synchronize. This module first covers various clock synchronization algorithms, and then covers ways of tagging events with causal timestamps that avoid synchronizing clocks. These classical algorithms were invented decades ago, yet are used widely in today’s cloud systems.  The Cloud Computing Specialization takes you on a tour through cloud computing systems. We start in in the middle layer with Cloud Computing Concepts covering core distributed systems concepts used inside clouds, move to the upper layer of Cloud Applications and finally to the lower layer of Cloud Networking. We conclude with a project that allows you to apply the skills you\\'ve learned throughout the courses. University of Illinois at Urbana-ChampaignEnglish[\\'Week 1: Orientation, Introduction to Clouds, MapReduce \\', \\'Week 2: Gossip, Membership, and Grids\\', \\'Week 3: P2P Systems\\', \\'Week 4: Key-Value Stores, Time, and Ordering\\', \\'Week 5: Classical Distributed Algorithms\\'][\\'This course is oriented towards learners with similar backgrounds as juniors and seniors in a CS undergraduate curriculum. Since learners come from various backgrounds, it is critical you view this lecture AND pass the prerequisite test. This will ensure you have many of the assumed prerequisite pieces of knowledge required to enjoy this course. \\', \\'Lesson 1: This module teaches how the multicast problem is solved by using epidemic/gossip protocols. It also teaches analysis of such protocols. Lesson 2: This module covers the design of failure detectors, a key component in any distributed system. Membership protocols, which use failure detectors as components, are also covered. Lesson 3: This module covers Grid computing, an important precursor to cloud computing.\\', \\'P2P systems: This module teaches the detailed design of two classes of peer to peer systems: (a) popular ones including Napster, Gnutella, FastTrack, and BitTorrent; and (b) efficient ones including distributed hash tables (Chord, Pastry, and Kelips). Besides focusing on design, the module also analyzes these systems in detail.\\', \\'Lesson 1: This module motivates and teaches the design of key-value/NoSQL storage/database systems. We cover the design of two major industry systems: Apache Cassandra and HBase. We also cover the famous CAP theorem.  Lesson 2: Distributed systems are asynchronous, which makes clocks at different machines hard to synchronize. This module first covers various clock synchronization algorithms, and then covers ways of tagging events with causal timestamps that avoid synchronizing clocks. These classical algorithms were invented decades ago, yet are used widely in today’s cloud systems.\\', \\'Lesson 1: This module covers how to calculate a distributed snapshot, leveraging causality again to circumvent the synchronization problem. Lesson 2: This lecture teaches how to order multicasts in any distributed system. Algorithms for assigning timestamp tags to multicasts using various flavors of ordering – FIFO, Causal, and Total – are covered. The module also covers virtual synchrony, a paradigm that combines reliable multicasts with membership views.  Lesson 3: Consensus is one of the most important problems in a distributed system, enabling multiple machines to agree. This module uses Paxos, one of the most popular consensus solutions used in the industry today. Paxos is not perfect because consensus cannot be solved completely – an optional lecture presents the famous FLP proof of impossibility of consensus. \\']Medium Course  Duration'"
            ],
            "application/vnd.google.colaboratory.intrinsic+json": {
              "type": "string"
            }
          },
          "metadata": {},
          "execution_count": 31
        }
      ]
    },
    {
      "cell_type": "markdown",
      "source": [
        "#Data Cleaning"
      ],
      "metadata": {
        "id": "FzxvMlIHSUN-"
      }
    },
    {
      "cell_type": "code",
      "source": [
        "#Importing Necessary Libraries for Text Processing\n",
        "import nltk\n",
        "from nltk.corpus import stopwords\n",
        "from nltk.stem.porter import PorterStemmer\n",
        "#from wordcloud import WordCloud,STOPWORDS\n",
        "from nltk.stem import WordNetLemmatizer\n",
        "from nltk.tokenize import word_tokenize\n",
        "import re,string\n",
        "from keras.preprocessing import text, sequence\n",
        "from sklearn.metrics import classification_report,confusion_matrix,accuracy_score\n",
        "from sklearn.model_selection import train_test_split\n",
        "from string import punctuation\n",
        "import keras\n",
        "from keras.models import Sequential\n",
        "import tensorflow as tf\n",
        "from tensorflow.keras.preprocessing.text import Tokenizer\n",
        "from tensorflow.keras.preprocessing.sequence import pad_sequences"
      ],
      "metadata": {
        "id": "5YQIisaiDpcP"
      },
      "execution_count": null,
      "outputs": []
    },
    {
      "cell_type": "code",
      "source": [
        "#Downloading Stopwords\n",
        "nltk.download('stopwords')"
      ],
      "metadata": {
        "colab": {
          "base_uri": "https://localhost:8080/"
        },
        "id": "b565dRCTFKZa",
        "outputId": "06e8295a-19d2-4081-a42e-a4113bffbc8a"
      },
      "execution_count": null,
      "outputs": [
        {
          "output_type": "stream",
          "name": "stderr",
          "text": [
            "[nltk_data] Downloading package stopwords to /root/nltk_data...\n",
            "[nltk_data]   Unzipping corpora/stopwords.zip.\n"
          ]
        },
        {
          "output_type": "execute_result",
          "data": {
            "text/plain": [
              "True"
            ]
          },
          "metadata": {},
          "execution_count": 33
        }
      ]
    },
    {
      "cell_type": "code",
      "source": [
        "#Load English Stop Words\n",
        "stopword = stopwords.words('english')\n",
        "print(\"Stopwords:\",stopword)"
      ],
      "metadata": {
        "colab": {
          "base_uri": "https://localhost:8080/"
        },
        "id": "68rvEog5FOt5",
        "outputId": "1b218b19-64f8-4a8c-a53c-47c51456d3f8"
      },
      "execution_count": null,
      "outputs": [
        {
          "output_type": "stream",
          "name": "stdout",
          "text": [
            "Stopwords: ['i', 'me', 'my', 'myself', 'we', 'our', 'ours', 'ourselves', 'you', \"you're\", \"you've\", \"you'll\", \"you'd\", 'your', 'yours', 'yourself', 'yourselves', 'he', 'him', 'his', 'himself', 'she', \"she's\", 'her', 'hers', 'herself', 'it', \"it's\", 'its', 'itself', 'they', 'them', 'their', 'theirs', 'themselves', 'what', 'which', 'who', 'whom', 'this', 'that', \"that'll\", 'these', 'those', 'am', 'is', 'are', 'was', 'were', 'be', 'been', 'being', 'have', 'has', 'had', 'having', 'do', 'does', 'did', 'doing', 'a', 'an', 'the', 'and', 'but', 'if', 'or', 'because', 'as', 'until', 'while', 'of', 'at', 'by', 'for', 'with', 'about', 'against', 'between', 'into', 'through', 'during', 'before', 'after', 'above', 'below', 'to', 'from', 'up', 'down', 'in', 'out', 'on', 'off', 'over', 'under', 'again', 'further', 'then', 'once', 'here', 'there', 'when', 'where', 'why', 'how', 'all', 'any', 'both', 'each', 'few', 'more', 'most', 'other', 'some', 'such', 'no', 'nor', 'not', 'only', 'own', 'same', 'so', 'than', 'too', 'very', 's', 't', 'can', 'will', 'just', 'don', \"don't\", 'should', \"should've\", 'now', 'd', 'll', 'm', 'o', 're', 've', 'y', 'ain', 'aren', \"aren't\", 'couldn', \"couldn't\", 'didn', \"didn't\", 'doesn', \"doesn't\", 'hadn', \"hadn't\", 'hasn', \"hasn't\", 'haven', \"haven't\", 'isn', \"isn't\", 'ma', 'mightn', \"mightn't\", 'mustn', \"mustn't\", 'needn', \"needn't\", 'shan', \"shan't\", 'shouldn', \"shouldn't\", 'wasn', \"wasn't\", 'weren', \"weren't\", 'won', \"won't\", 'wouldn', \"wouldn't\"]\n"
          ]
        }
      ]
    },
    {
      "cell_type": "code",
      "source": [
        "#Clean Function\n",
        "def clean_text(twee):\n",
        "    #Remove URL\n",
        "    twee = re.sub(r'https?://\\S+|www\\.\\S+', \" \", twee)\n",
        "\n",
        "    #Remove Mentions\n",
        "    twee = re.sub(r'@\\w+',' ',twee)\n",
        "\n",
        "    #Remove Punctuation\n",
        "    twee= re.sub(r'[^\\w\\s\\d\\$]',' ',twee)\n",
        "\n",
        "    #Remove Digits\n",
        "    twee = re.sub(r'\\d+', ' ', twee)\n",
        "\n",
        "    #Remove HTML tags\n",
        "    twee = re.sub('r<.*?>',' ', twee)\n",
        "\n",
        "    #Remove Hastags\n",
        "    twee = re.sub(r'#\\w+', ' ', twee)\n",
        "\n",
        "    #Remove Stop Words \n",
        "    twee = twee.split()\n",
        "    #twee = \" \".join(twee)\n",
        "    \n",
        "    twee = \" \".join([word for word in twee if not word in stopword])\n",
        "\n",
        "    return twee"
      ],
      "metadata": {
        "id": "6OgRNZbIFR-v"
      },
      "execution_count": null,
      "outputs": []
    },
    {
      "cell_type": "code",
      "source": [
        "#Applying Tweet Clean Function to Both Files\n",
        "coursedata['clean_combined_text'] = coursedata['combined_text'].astype(str).apply(lambda x: clean_text(x))"
      ],
      "metadata": {
        "id": "ZpxdxiWkFXJ2"
      },
      "execution_count": null,
      "outputs": []
    },
    {
      "cell_type": "code",
      "source": [
        "coursedata['combined_text'][0]"
      ],
      "metadata": {
        "colab": {
          "base_uri": "https://localhost:8080/",
          "height": 123
        },
        "id": "HnTIgp8fFnZb",
        "outputId": "c39a07b6-a3f9-436b-f99d-53b4887699ae"
      },
      "execution_count": null,
      "outputs": [
        {
          "output_type": "execute_result",
          "data": {
            "text/plain": [
              "' CaliRollB Cloud Computing Concepts, Part 1 CaliRollA Beginner Level[\\'Distributed Algorithm\\', \\'Distributed Computing\\', \\'C++\\', \\'Cloud Computing\\'][\\'Indranil Gupta\\']Cloud computing systems today, whether open-source or used inside companies, are built using a common set of core techniques, algorithms, and design philosophies – all centered around distributed systems. Learn about such fundamental distributed computing \"concepts\" for cloud computing. Some of these concepts include: clouds, MapReduce, key-value/NoSQL stores, classical distributed algorithms, widely-used distributed algorithms, scalability, trending areas, and much, much more! \\n \\nKnow how these systems work from the inside out. Get your hands dirty using these concepts with provided homework exercises. In the programming assignments, implement some of these concepts in template code (programs) provided in the C++ programming language. Prior experience with C++ is required.\\n \\nThe course also features interviews with leading researchers and managers, from both industry and academia. The University of Illinois at Urbana-Champaign is a world leader in research, teaching and public engagement, distinguished by the breadth of its programs, broad academic excellence, and internationally renowned faculty and alumni. Illinois serves the world by creating knowledge, preparing students for lives of impact, and finding solutions to critical societal needs. This course is oriented towards learners with similar backgrounds as juniors and seniors in a CS undergraduate curriculum. Since learners come from various backgrounds, it is critical you view this lecture AND pass the prerequisite test. This will ensure you have many of the assumed prerequisite pieces of knowledge required to enjoy this course. Lesson 1: This module teaches how the multicast problem is solved by using epidemic/gossip protocols. It also teaches analysis of such protocols. Lesson 2: This module covers the design of failure detectors, a key component in any distributed system. Membership protocols, which use failure detectors as components, are also covered. Lesson 3: This module covers Grid computing, an important precursor to cloud computing. P2P systems: This module teaches the detailed design of two classes of peer to peer systems: (a) popular ones including Napster, Gnutella, FastTrack, and BitTorrent; and (b) efficient ones including distributed hash tables (Chord, Pastry, and Kelips). Besides focusing on design, the module also analyzes these systems in detail. Lesson 1: This module motivates and teaches the design of key-value/NoSQL storage/database systems. We cover the design of two major industry systems: Apache Cassandra and HBase. We also cover the famous CAP theorem. Lesson 2: Distributed systems are asynchronous, which makes clocks at different machines hard to synchronize. This module first covers various clock synchronization algorithms, and then covers ways of tagging events with causal timestamps that avoid synchronizing clocks. These classical algorithms were invented decades ago, yet are used widely in today’s cloud systems.  The Cloud Computing Specialization takes you on a tour through cloud computing systems. We start in in the middle layer with Cloud Computing Concepts covering core distributed systems concepts used inside clouds, move to the upper layer of Cloud Applications and finally to the lower layer of Cloud Networking. We conclude with a project that allows you to apply the skills you\\'ve learned throughout the courses. University of Illinois at Urbana-ChampaignEnglish[\\'Week 1: Orientation, Introduction to Clouds, MapReduce \\', \\'Week 2: Gossip, Membership, and Grids\\', \\'Week 3: P2P Systems\\', \\'Week 4: Key-Value Stores, Time, and Ordering\\', \\'Week 5: Classical Distributed Algorithms\\'][\\'This course is oriented towards learners with similar backgrounds as juniors and seniors in a CS undergraduate curriculum. Since learners come from various backgrounds, it is critical you view this lecture AND pass the prerequisite test. This will ensure you have many of the assumed prerequisite pieces of knowledge required to enjoy this course. \\', \\'Lesson 1: This module teaches how the multicast problem is solved by using epidemic/gossip protocols. It also teaches analysis of such protocols. Lesson 2: This module covers the design of failure detectors, a key component in any distributed system. Membership protocols, which use failure detectors as components, are also covered. Lesson 3: This module covers Grid computing, an important precursor to cloud computing.\\', \\'P2P systems: This module teaches the detailed design of two classes of peer to peer systems: (a) popular ones including Napster, Gnutella, FastTrack, and BitTorrent; and (b) efficient ones including distributed hash tables (Chord, Pastry, and Kelips). Besides focusing on design, the module also analyzes these systems in detail.\\', \\'Lesson 1: This module motivates and teaches the design of key-value/NoSQL storage/database systems. We cover the design of two major industry systems: Apache Cassandra and HBase. We also cover the famous CAP theorem.  Lesson 2: Distributed systems are asynchronous, which makes clocks at different machines hard to synchronize. This module first covers various clock synchronization algorithms, and then covers ways of tagging events with causal timestamps that avoid synchronizing clocks. These classical algorithms were invented decades ago, yet are used widely in today’s cloud systems.\\', \\'Lesson 1: This module covers how to calculate a distributed snapshot, leveraging causality again to circumvent the synchronization problem. Lesson 2: This lecture teaches how to order multicasts in any distributed system. Algorithms for assigning timestamp tags to multicasts using various flavors of ordering – FIFO, Causal, and Total – are covered. The module also covers virtual synchrony, a paradigm that combines reliable multicasts with membership views.  Lesson 3: Consensus is one of the most important problems in a distributed system, enabling multiple machines to agree. This module uses Paxos, one of the most popular consensus solutions used in the industry today. Paxos is not perfect because consensus cannot be solved completely – an optional lecture presents the famous FLP proof of impossibility of consensus. \\']Medium Course  Duration'"
            ],
            "application/vnd.google.colaboratory.intrinsic+json": {
              "type": "string"
            }
          },
          "metadata": {},
          "execution_count": 37
        }
      ]
    },
    {
      "cell_type": "code",
      "source": [
        "coursedata['clean_combined_text'][0]"
      ],
      "metadata": {
        "colab": {
          "base_uri": "https://localhost:8080/",
          "height": 123
        },
        "id": "oNnI70_vGD2M",
        "outputId": "54e2351e-fa9d-43c8-a930-2008e69ae963"
      },
      "execution_count": null,
      "outputs": [
        {
          "output_type": "execute_result",
          "data": {
            "text/plain": [
              "'CaliRollB Cloud Computing Concepts Part CaliRollA Beginner Level Distributed Algorithm Distributed Computing C Cloud Computing Indranil Gupta Cloud computing systems today whether open source used inside companies built using common set core techniques algorithms design philosophies centered around distributed systems Learn fundamental distributed computing concepts cloud computing Some concepts include clouds MapReduce key value NoSQL stores classical distributed algorithms widely used distributed algorithms scalability trending areas much much Know systems work inside Get hands dirty using concepts provided homework exercises In programming assignments implement concepts template code programs provided C programming language Prior experience C required The course also features interviews leading researchers managers industry academia The University Illinois Urbana Champaign world leader research teaching public engagement distinguished breadth programs broad academic excellence internationally renowned faculty alumni Illinois serves world creating knowledge preparing students lives impact finding solutions critical societal needs This course oriented towards learners similar backgrounds juniors seniors CS undergraduate curriculum Since learners come various backgrounds critical view lecture AND pass prerequisite test This ensure many assumed prerequisite pieces knowledge required enjoy course Lesson This module teaches multicast problem solved using epidemic gossip protocols It also teaches analysis protocols Lesson This module covers design failure detectors key component distributed system Membership protocols use failure detectors components also covered Lesson This module covers Grid computing important precursor cloud computing P P systems This module teaches detailed design two classes peer peer systems popular ones including Napster Gnutella FastTrack BitTorrent b efficient ones including distributed hash tables Chord Pastry Kelips Besides focusing design module also analyzes systems detail Lesson This module motivates teaches design key value NoSQL storage database systems We cover design two major industry systems Apache Cassandra HBase We also cover famous CAP theorem Lesson Distributed systems asynchronous makes clocks different machines hard synchronize This module first covers various clock synchronization algorithms covers ways tagging events causal timestamps avoid synchronizing clocks These classical algorithms invented decades ago yet used widely today cloud systems The Cloud Computing Specialization takes tour cloud computing systems We start middle layer Cloud Computing Concepts covering core distributed systems concepts used inside clouds move upper layer Cloud Applications finally lower layer Cloud Networking We conclude project allows apply skills learned throughout courses University Illinois Urbana ChampaignEnglish Week Orientation Introduction Clouds MapReduce Week Gossip Membership Grids Week P P Systems Week Key Value Stores Time Ordering Week Classical Distributed Algorithms This course oriented towards learners similar backgrounds juniors seniors CS undergraduate curriculum Since learners come various backgrounds critical view lecture AND pass prerequisite test This ensure many assumed prerequisite pieces knowledge required enjoy course Lesson This module teaches multicast problem solved using epidemic gossip protocols It also teaches analysis protocols Lesson This module covers design failure detectors key component distributed system Membership protocols use failure detectors components also covered Lesson This module covers Grid computing important precursor cloud computing P P systems This module teaches detailed design two classes peer peer systems popular ones including Napster Gnutella FastTrack BitTorrent b efficient ones including distributed hash tables Chord Pastry Kelips Besides focusing design module also analyzes systems detail Lesson This module motivates teaches design key value NoSQL storage database systems We cover design two major industry systems Apache Cassandra HBase We also cover famous CAP theorem Lesson Distributed systems asynchronous makes clocks different machines hard synchronize This module first covers various clock synchronization algorithms covers ways tagging events causal timestamps avoid synchronizing clocks These classical algorithms invented decades ago yet used widely today cloud systems Lesson This module covers calculate distributed snapshot leveraging causality circumvent synchronization problem Lesson This lecture teaches order multicasts distributed system Algorithms assigning timestamp tags multicasts using various flavors ordering FIFO Causal Total covered The module also covers virtual synchrony paradigm combines reliable multicasts membership views Lesson Consensus one important problems distributed system enabling multiple machines agree This module uses Paxos one popular consensus solutions used industry today Paxos perfect consensus cannot solved completely optional lecture presents famous FLP proof impossibility consensus Medium Course Duration'"
            ],
            "application/vnd.google.colaboratory.intrinsic+json": {
              "type": "string"
            }
          },
          "metadata": {},
          "execution_count": 38
        }
      ]
    },
    {
      "cell_type": "code",
      "source": [
        "coursedata2 = coursedata[coursedata.clean_combined_text.map(lambda x: x.isascii())]"
      ],
      "metadata": {
        "id": "mXUoKuM4HGf7"
      },
      "execution_count": null,
      "outputs": []
    },
    {
      "cell_type": "code",
      "source": [
        "coursedata2['clean_combined_text'][0]"
      ],
      "metadata": {
        "id": "q-pQMrUiGHDZ",
        "colab": {
          "base_uri": "https://localhost:8080/",
          "height": 123
        },
        "outputId": "26737ab9-0ac4-49e8-8b97-dd88af900fa4"
      },
      "execution_count": null,
      "outputs": [
        {
          "output_type": "execute_result",
          "data": {
            "text/plain": [
              "'CaliRollB Cloud Computing Concepts Part CaliRollA Beginner Level Distributed Algorithm Distributed Computing C Cloud Computing Indranil Gupta Cloud computing systems today whether open source used inside companies built using common set core techniques algorithms design philosophies centered around distributed systems Learn fundamental distributed computing concepts cloud computing Some concepts include clouds MapReduce key value NoSQL stores classical distributed algorithms widely used distributed algorithms scalability trending areas much much Know systems work inside Get hands dirty using concepts provided homework exercises In programming assignments implement concepts template code programs provided C programming language Prior experience C required The course also features interviews leading researchers managers industry academia The University Illinois Urbana Champaign world leader research teaching public engagement distinguished breadth programs broad academic excellence internationally renowned faculty alumni Illinois serves world creating knowledge preparing students lives impact finding solutions critical societal needs This course oriented towards learners similar backgrounds juniors seniors CS undergraduate curriculum Since learners come various backgrounds critical view lecture AND pass prerequisite test This ensure many assumed prerequisite pieces knowledge required enjoy course Lesson This module teaches multicast problem solved using epidemic gossip protocols It also teaches analysis protocols Lesson This module covers design failure detectors key component distributed system Membership protocols use failure detectors components also covered Lesson This module covers Grid computing important precursor cloud computing P P systems This module teaches detailed design two classes peer peer systems popular ones including Napster Gnutella FastTrack BitTorrent b efficient ones including distributed hash tables Chord Pastry Kelips Besides focusing design module also analyzes systems detail Lesson This module motivates teaches design key value NoSQL storage database systems We cover design two major industry systems Apache Cassandra HBase We also cover famous CAP theorem Lesson Distributed systems asynchronous makes clocks different machines hard synchronize This module first covers various clock synchronization algorithms covers ways tagging events causal timestamps avoid synchronizing clocks These classical algorithms invented decades ago yet used widely today cloud systems The Cloud Computing Specialization takes tour cloud computing systems We start middle layer Cloud Computing Concepts covering core distributed systems concepts used inside clouds move upper layer Cloud Applications finally lower layer Cloud Networking We conclude project allows apply skills learned throughout courses University Illinois Urbana ChampaignEnglish Week Orientation Introduction Clouds MapReduce Week Gossip Membership Grids Week P P Systems Week Key Value Stores Time Ordering Week Classical Distributed Algorithms This course oriented towards learners similar backgrounds juniors seniors CS undergraduate curriculum Since learners come various backgrounds critical view lecture AND pass prerequisite test This ensure many assumed prerequisite pieces knowledge required enjoy course Lesson This module teaches multicast problem solved using epidemic gossip protocols It also teaches analysis protocols Lesson This module covers design failure detectors key component distributed system Membership protocols use failure detectors components also covered Lesson This module covers Grid computing important precursor cloud computing P P systems This module teaches detailed design two classes peer peer systems popular ones including Napster Gnutella FastTrack BitTorrent b efficient ones including distributed hash tables Chord Pastry Kelips Besides focusing design module also analyzes systems detail Lesson This module motivates teaches design key value NoSQL storage database systems We cover design two major industry systems Apache Cassandra HBase We also cover famous CAP theorem Lesson Distributed systems asynchronous makes clocks different machines hard synchronize This module first covers various clock synchronization algorithms covers ways tagging events causal timestamps avoid synchronizing clocks These classical algorithms invented decades ago yet used widely today cloud systems Lesson This module covers calculate distributed snapshot leveraging causality circumvent synchronization problem Lesson This lecture teaches order multicasts distributed system Algorithms assigning timestamp tags multicasts using various flavors ordering FIFO Causal Total covered The module also covers virtual synchrony paradigm combines reliable multicasts membership views Lesson Consensus one important problems distributed system enabling multiple machines agree This module uses Paxos one popular consensus solutions used industry today Paxos perfect consensus cannot solved completely optional lecture presents famous FLP proof impossibility consensus Medium Course Duration'"
            ],
            "application/vnd.google.colaboratory.intrinsic+json": {
              "type": "string"
            }
          },
          "metadata": {},
          "execution_count": 40
        }
      ]
    },
    {
      "cell_type": "code",
      "source": [
        "coursedata2.head()"
      ],
      "metadata": {
        "id": "wciQ3MJaHWj5",
        "colab": {
          "base_uri": "https://localhost:8080/",
          "height": 634
        },
        "outputId": "cbd66dc3-29bc-4f41-d230-30eee07cb034"
      },
      "execution_count": null,
      "outputs": [
        {
          "output_type": "execute_result",
          "data": {
            "text/plain": [
              "                                      course_title difficulty_level  duration                                             skills                       instructors                                        description      rating                                  offered_by language                                   syllabus_heading                                   syllabus_details  numeric_difficulty_lvl           duration_label                                      combined_text                                clean_combined_text\n",
              "0                 Cloud Computing Concepts, Part 1   Beginner Level        23  ['Distributed Algorithm', 'Distributed Computi...                ['Indranil Gupta']  Cloud computing systems today, whether open-so...  4.4\\nstars  University of Illinois at Urbana-Champaign  English  ['Week 1: Orientation, Introduction to Clouds,...  ['This course is oriented towards learners wit...                       1  Medium Course  Duration   CaliRollB Cloud Computing Concepts, Part 1 Ca...  CaliRollB Cloud Computing Concepts Part CaliRo...\n",
              "1                  The Challenges of Global Health   Beginner Level        20                                                 []                ['Dr. David Boyd']  What are the world’s major health challenges? ...  4.8\\nstars                             Duke University  English  ['Getting Started', 'Basic Concepts in Global ...  ['Start here! ', 'This module covers some of t...                       1  Medium Course  Duration   CaliRollB The Challenges of Global Health Cal...  CaliRollB The Challenges Global Health CaliRol...\n",
              "2            Digital Marketing Analytics in Theory   Beginner Level        20  ['Digital Marketing', 'Data Collection', 'Anal...                 ['Kevin Hartman']  Successfully marketing brands today requires a...  4.5\\nstars  University of Illinois at Urbana-Champaign  English  ['Course Overview and The Day The Geeks Took O...  ['In the orientation, you will become familiar...                       1  Medium Course  Duration   CaliRollB Digital Marketing Analytics in Theo...  CaliRollB Digital Marketing Analytics Theory C...\n",
              "3  Digital Product Management: Modern Fundamentals   Beginner Level        11  ['Product/Market Fit', 'Product Management', '...                    ['Alex Cowan']  Not so long ago, the job of product manager wa...  4.7\\nstars                      University of Virginia  English  ['Achieving Focus and #Winning', \"Using Today'...  ['As a product manager, you and your team will...                       1  Medium Course  Duration   CaliRollB Digital Product Management: Modern ...  CaliRollB Digital Product Management Modern Fu...\n",
              "4                             The Nature of Genius   Beginner Level        28  ['Creativity', 'Art', 'History', 'Psychology',...  ['Craig Wright\\nTOP INSTRUCTOR']  Today \"genius\" is all around us. Celebrities, ...         NaN                             Yale University  English  ['Genius Defined,   Genius Denied ,  Genius an...  ['In Section 1 of Module 1 we determine, jokin...                       1  Medium Course  Duration   CaliRollB The Nature of Genius CaliRollA Begi...  CaliRollB The Nature Genius CaliRollA Beginner..."
            ],
            "text/html": [
              "\n",
              "  <div id=\"df-9fb07e35-b53f-4405-b19f-360893e2f514\">\n",
              "    <div class=\"colab-df-container\">\n",
              "      <div>\n",
              "<style scoped>\n",
              "    .dataframe tbody tr th:only-of-type {\n",
              "        vertical-align: middle;\n",
              "    }\n",
              "\n",
              "    .dataframe tbody tr th {\n",
              "        vertical-align: top;\n",
              "    }\n",
              "\n",
              "    .dataframe thead th {\n",
              "        text-align: right;\n",
              "    }\n",
              "</style>\n",
              "<table border=\"1\" class=\"dataframe\">\n",
              "  <thead>\n",
              "    <tr style=\"text-align: right;\">\n",
              "      <th></th>\n",
              "      <th>course_title</th>\n",
              "      <th>difficulty_level</th>\n",
              "      <th>duration</th>\n",
              "      <th>skills</th>\n",
              "      <th>instructors</th>\n",
              "      <th>description</th>\n",
              "      <th>rating</th>\n",
              "      <th>offered_by</th>\n",
              "      <th>language</th>\n",
              "      <th>syllabus_heading</th>\n",
              "      <th>syllabus_details</th>\n",
              "      <th>numeric_difficulty_lvl</th>\n",
              "      <th>duration_label</th>\n",
              "      <th>combined_text</th>\n",
              "      <th>clean_combined_text</th>\n",
              "    </tr>\n",
              "  </thead>\n",
              "  <tbody>\n",
              "    <tr>\n",
              "      <th>0</th>\n",
              "      <td>Cloud Computing Concepts, Part 1</td>\n",
              "      <td>Beginner Level</td>\n",
              "      <td>23</td>\n",
              "      <td>['Distributed Algorithm', 'Distributed Computi...</td>\n",
              "      <td>['Indranil Gupta']</td>\n",
              "      <td>Cloud computing systems today, whether open-so...</td>\n",
              "      <td>4.4\\nstars</td>\n",
              "      <td>University of Illinois at Urbana-Champaign</td>\n",
              "      <td>English</td>\n",
              "      <td>['Week 1: Orientation, Introduction to Clouds,...</td>\n",
              "      <td>['This course is oriented towards learners wit...</td>\n",
              "      <td>1</td>\n",
              "      <td>Medium Course  Duration</td>\n",
              "      <td>CaliRollB Cloud Computing Concepts, Part 1 Ca...</td>\n",
              "      <td>CaliRollB Cloud Computing Concepts Part CaliRo...</td>\n",
              "    </tr>\n",
              "    <tr>\n",
              "      <th>1</th>\n",
              "      <td>The Challenges of Global Health</td>\n",
              "      <td>Beginner Level</td>\n",
              "      <td>20</td>\n",
              "      <td>[]</td>\n",
              "      <td>['Dr. David Boyd']</td>\n",
              "      <td>What are the world’s major health challenges? ...</td>\n",
              "      <td>4.8\\nstars</td>\n",
              "      <td>Duke University</td>\n",
              "      <td>English</td>\n",
              "      <td>['Getting Started', 'Basic Concepts in Global ...</td>\n",
              "      <td>['Start here! ', 'This module covers some of t...</td>\n",
              "      <td>1</td>\n",
              "      <td>Medium Course  Duration</td>\n",
              "      <td>CaliRollB The Challenges of Global Health Cal...</td>\n",
              "      <td>CaliRollB The Challenges Global Health CaliRol...</td>\n",
              "    </tr>\n",
              "    <tr>\n",
              "      <th>2</th>\n",
              "      <td>Digital Marketing Analytics in Theory</td>\n",
              "      <td>Beginner Level</td>\n",
              "      <td>20</td>\n",
              "      <td>['Digital Marketing', 'Data Collection', 'Anal...</td>\n",
              "      <td>['Kevin Hartman']</td>\n",
              "      <td>Successfully marketing brands today requires a...</td>\n",
              "      <td>4.5\\nstars</td>\n",
              "      <td>University of Illinois at Urbana-Champaign</td>\n",
              "      <td>English</td>\n",
              "      <td>['Course Overview and The Day The Geeks Took O...</td>\n",
              "      <td>['In the orientation, you will become familiar...</td>\n",
              "      <td>1</td>\n",
              "      <td>Medium Course  Duration</td>\n",
              "      <td>CaliRollB Digital Marketing Analytics in Theo...</td>\n",
              "      <td>CaliRollB Digital Marketing Analytics Theory C...</td>\n",
              "    </tr>\n",
              "    <tr>\n",
              "      <th>3</th>\n",
              "      <td>Digital Product Management: Modern Fundamentals</td>\n",
              "      <td>Beginner Level</td>\n",
              "      <td>11</td>\n",
              "      <td>['Product/Market Fit', 'Product Management', '...</td>\n",
              "      <td>['Alex Cowan']</td>\n",
              "      <td>Not so long ago, the job of product manager wa...</td>\n",
              "      <td>4.7\\nstars</td>\n",
              "      <td>University of Virginia</td>\n",
              "      <td>English</td>\n",
              "      <td>['Achieving Focus and #Winning', \"Using Today'...</td>\n",
              "      <td>['As a product manager, you and your team will...</td>\n",
              "      <td>1</td>\n",
              "      <td>Medium Course  Duration</td>\n",
              "      <td>CaliRollB Digital Product Management: Modern ...</td>\n",
              "      <td>CaliRollB Digital Product Management Modern Fu...</td>\n",
              "    </tr>\n",
              "    <tr>\n",
              "      <th>4</th>\n",
              "      <td>The Nature of Genius</td>\n",
              "      <td>Beginner Level</td>\n",
              "      <td>28</td>\n",
              "      <td>['Creativity', 'Art', 'History', 'Psychology',...</td>\n",
              "      <td>['Craig Wright\\nTOP INSTRUCTOR']</td>\n",
              "      <td>Today \"genius\" is all around us. Celebrities, ...</td>\n",
              "      <td>NaN</td>\n",
              "      <td>Yale University</td>\n",
              "      <td>English</td>\n",
              "      <td>['Genius Defined,   Genius Denied ,  Genius an...</td>\n",
              "      <td>['In Section 1 of Module 1 we determine, jokin...</td>\n",
              "      <td>1</td>\n",
              "      <td>Medium Course  Duration</td>\n",
              "      <td>CaliRollB The Nature of Genius CaliRollA Begi...</td>\n",
              "      <td>CaliRollB The Nature Genius CaliRollA Beginner...</td>\n",
              "    </tr>\n",
              "  </tbody>\n",
              "</table>\n",
              "</div>\n",
              "      <button class=\"colab-df-convert\" onclick=\"convertToInteractive('df-9fb07e35-b53f-4405-b19f-360893e2f514')\"\n",
              "              title=\"Convert this dataframe to an interactive table.\"\n",
              "              style=\"display:none;\">\n",
              "        \n",
              "  <svg xmlns=\"http://www.w3.org/2000/svg\" height=\"24px\"viewBox=\"0 0 24 24\"\n",
              "       width=\"24px\">\n",
              "    <path d=\"M0 0h24v24H0V0z\" fill=\"none\"/>\n",
              "    <path d=\"M18.56 5.44l.94 2.06.94-2.06 2.06-.94-2.06-.94-.94-2.06-.94 2.06-2.06.94zm-11 1L8.5 8.5l.94-2.06 2.06-.94-2.06-.94L8.5 2.5l-.94 2.06-2.06.94zm10 10l.94 2.06.94-2.06 2.06-.94-2.06-.94-.94-2.06-.94 2.06-2.06.94z\"/><path d=\"M17.41 7.96l-1.37-1.37c-.4-.4-.92-.59-1.43-.59-.52 0-1.04.2-1.43.59L10.3 9.45l-7.72 7.72c-.78.78-.78 2.05 0 2.83L4 21.41c.39.39.9.59 1.41.59.51 0 1.02-.2 1.41-.59l7.78-7.78 2.81-2.81c.8-.78.8-2.07 0-2.86zM5.41 20L4 18.59l7.72-7.72 1.47 1.35L5.41 20z\"/>\n",
              "  </svg>\n",
              "      </button>\n",
              "      \n",
              "  <style>\n",
              "    .colab-df-container {\n",
              "      display:flex;\n",
              "      flex-wrap:wrap;\n",
              "      gap: 12px;\n",
              "    }\n",
              "\n",
              "    .colab-df-convert {\n",
              "      background-color: #E8F0FE;\n",
              "      border: none;\n",
              "      border-radius: 50%;\n",
              "      cursor: pointer;\n",
              "      display: none;\n",
              "      fill: #1967D2;\n",
              "      height: 32px;\n",
              "      padding: 0 0 0 0;\n",
              "      width: 32px;\n",
              "    }\n",
              "\n",
              "    .colab-df-convert:hover {\n",
              "      background-color: #E2EBFA;\n",
              "      box-shadow: 0px 1px 2px rgba(60, 64, 67, 0.3), 0px 1px 3px 1px rgba(60, 64, 67, 0.15);\n",
              "      fill: #174EA6;\n",
              "    }\n",
              "\n",
              "    [theme=dark] .colab-df-convert {\n",
              "      background-color: #3B4455;\n",
              "      fill: #D2E3FC;\n",
              "    }\n",
              "\n",
              "    [theme=dark] .colab-df-convert:hover {\n",
              "      background-color: #434B5C;\n",
              "      box-shadow: 0px 1px 3px 1px rgba(0, 0, 0, 0.15);\n",
              "      filter: drop-shadow(0px 1px 2px rgba(0, 0, 0, 0.3));\n",
              "      fill: #FFFFFF;\n",
              "    }\n",
              "  </style>\n",
              "\n",
              "      <script>\n",
              "        const buttonEl =\n",
              "          document.querySelector('#df-9fb07e35-b53f-4405-b19f-360893e2f514 button.colab-df-convert');\n",
              "        buttonEl.style.display =\n",
              "          google.colab.kernel.accessAllowed ? 'block' : 'none';\n",
              "\n",
              "        async function convertToInteractive(key) {\n",
              "          const element = document.querySelector('#df-9fb07e35-b53f-4405-b19f-360893e2f514');\n",
              "          const dataTable =\n",
              "            await google.colab.kernel.invokeFunction('convertToInteractive',\n",
              "                                                     [key], {});\n",
              "          if (!dataTable) return;\n",
              "\n",
              "          const docLinkHtml = 'Like what you see? Visit the ' +\n",
              "            '<a target=\"_blank\" href=https://colab.research.google.com/notebooks/data_table.ipynb>data table notebook</a>'\n",
              "            + ' to learn more about interactive tables.';\n",
              "          element.innerHTML = '';\n",
              "          dataTable['output_type'] = 'display_data';\n",
              "          await google.colab.output.renderOutput(dataTable, element);\n",
              "          const docLink = document.createElement('div');\n",
              "          docLink.innerHTML = docLinkHtml;\n",
              "          element.appendChild(docLink);\n",
              "        }\n",
              "      </script>\n",
              "    </div>\n",
              "  </div>\n",
              "  "
            ]
          },
          "metadata": {},
          "execution_count": 41
        }
      ]
    },
    {
      "cell_type": "code",
      "source": [
        "coursedata2['clean_combined_text'].value_counts()"
      ],
      "metadata": {
        "colab": {
          "base_uri": "https://localhost:8080/"
        },
        "id": "NuY73aZT5nUN",
        "outputId": "79c01577-ec4e-480e-df64-f28e80fb264e"
      },
      "execution_count": null,
      "outputs": [
        {
          "output_type": "execute_result",
          "data": {
            "text/plain": [
              "nan                                                                                                                                                                                                                                                                                                                                                                                                                                                                                                                                                                                                                                                                                                                                                                                                                                                                                                                                                                                                                                                                                                                                                                                                                                                                                                                                                                                                                                                                                                                                                                                                                                                                                                                                                                                                                                                                                                                                                                                                                                                                                                                                                                                                                                                                                                                                                                                                                                                                                                                                                                                                                                                                                                                                                                                                                                                                                                                                                                                                                                                                                                                                                                                                                                                                                                                                                                                                                                                                                                                                                                                                                                                                                                                                                                                                                                                                                                                                                                                                                                                                                                                                                                                                                                                                                                                                                                                                                                                                                                                                                                                                                                                                                                                                                                                                                                                                                                                                                                                                                                                                                                                                                                                                                                                                                                                                                                                                                                                                                                                                                                                                                                                                                                                                                                                                                                                                                                                                                                                                                                                                                                                                                                                                                                                                                                                                                                                                                                                                                                                                                                                                                                                                                                                                                                                                                                                                                                                                                                                                                                                                                                                                                                                                                                                                                                                                                                                                                                                                                                                                                                                                                                                                                                                                                                                                                                                                                                                                                                                                                                                                                                                                                                                                                                                      503\n",
              "CaliRollB Introduction Negotiation A Strategic Playbook Becoming Principled Persuasive Negotiator CaliRollA Unknown Game Theory Negotiation Collaboration Principled Negotiation Barry Nalebuff nTOP INSTRUCTOR This course help better negotiator Unlike many negotiation courses develop framework analyzing shaping negotiations This framework allow make principled arguments persuade others It allow see beneath surface apparent conflicts uncover underlying interests You leave course better able predict interpret shape behavior face competitive situations For years Yale University inspired minds inspire world Based New Haven Connecticut Yale brings people ideas together positive impact around globe A research university focuses students encourages learning essential way life Yale place connection creativity innovation among cultures across disciplines I promised course help better smarter strategic negotiator To begin laying foundation negotiation theory pie Over years I discovered even experienced negotiators tend lack framework grounds approach negotiation While folks try bully way larger share people make arguments sound fair But sounds fair often sound fair side Their criteria fair may biased favor The theory pie useful depend side taking It provides principles change way approach negotiations course life It allow make arguments persuade others That I teaching first You got theory Now let use I show pie framework applies mini cases caselets The Merger Case considers synergy gains merger shared two parties While still stylized case see directly applies real merger negotiations Start By Asking shares salary negotiation done one students provides chance introduce idea one reservation value BATNA You also learn best never say We end week first interactive exercise Ultimatum Game Here opportunity negotiate fellow classmates You also first mastery quiz course I tried make much learning opportunity test ability apply concepts presented The Zincit case provides opportunity discuss wide ranging set topics including prepare negotiation making ultimatums alternating removals avoiding regret expanding pie dealing someone different perspective world Our second case study difficult Here party hidden information privy Much like real life neither party enough information figure solution Sharing revealing information thus becomes critical part negotiation What party share What keep This case provides opportunity discuss critical questions around revealing information along negotiation tactics make first offer first offer look like respond threats Yale UniversityEnglish Introduction What Pie Negotiation Caselets Zincit Case Outpsider Case Advanced Topics Linda Babcock Ask It Herb Cohen You Can Negotiate Anything John McCall MacBain The Consummate Dealmaker Acknowledgments Further Readings I promised course help better smarter strategic negotiator To begin laying foundation negotiation theory pie Over years I discovered even experienced negotiators tend lack framework grounds approach negotiation While folks try bully way larger share people make arguments sound fair But sounds fair often sound fair side Their criteria fair may biased favor The theory pie useful depend side taking It provides principles change way approach negotiations course life It allow make arguments persuade others That I teaching first You got theory Now let use I show pie framework applies mini cases caselets The Merger Case considers synergy gains merger shared two parties While still stylized case see directly applies real merger negotiations Start By Asking shares salary negotiation done one students provides chance introduce idea one reservation value BATNA You also learn best never say We end week first interactive exercise Ultimatum Game Here opportunity negotiate fellow classmates You also first mastery quiz course I tried make much learning opportunity test ability apply concepts presented The Zincit case provides opportunity discuss wide ranging set topics including prepare negotiation making ultimatums alternating removals avoiding regret expanding pie dealing someone different perspective world Our second case study difficult Here party hidden information privy Much like real life neither party enough information figure solution Sharing revealing information thus becomes critical part negotiation What party share What keep This case provides opportunity discuss critical questions around revealing information along negotiation tactics make first offer first offer look like respond threats This module collection short lessons We cover everything negotiating power negotiating email There test taking detour showing game theory approach use negotiation help kids better standardized tests I end key lessons I learned taxi ride went wrong way In module joined Professor Linda Babcock James M Walton Professor Economics Carnegie Mellon University world renowned expert negotiation Her specialty role gender differences negotiation She coauthor many well cited journal articles two award winning books Women Don Ask Ask It In series presentations Linda puts dollars cents value asking shows prepare ask The value material women We learn better prepare negotiation soft style hard substance aim high without crashing As bonus section Ayana Ledford Founding Executive Director PROGRESS Carnegie Mellon University explains teaching negotiation teens life skill In module joined Herb Cohen Herb negotiation sensei fortunate insights He author two classics negotiation You Can Negotiate Anything Negotiate This In John purchased classified advertising magazine Montreal called Auto Hebdo first would become worldwide portfolio Auto Trader Buy Sell classified ad papers Over next twenty years purchased papers websites literally around world China Russia Poland Australia Columbia Sweden Hungary Italy Canada Argentina Brazil He sold business bought back took public ultimately maximized shareholder value selling whole business five pieces He philanthropist focused education I known John years ever since classmates Oxford And I front row seat dealmaking I served board company Trader Classified Media His papers buying selling comes buying selling one better He exemplifies principled negotiation You special treat Long Course Duration                                                                                                                                                                                                                                                                                                                                                                                                                                                                                                                                                                                                                                                                                                                                                                                                                                                                                                                                                                                                                                                                                                                                                                                                                                                                                                                                                                                                                                                                                                                                                                                                                                                                                                                          1\n",
              "CaliRollB Negotiation skills Negotiate resolve conflict CaliRollA Beginner Level Dr Andrew Heys Modern organisations characterised increasingly higher levels uncertainty complexity diversity In current globalised work environment manage power politics persistently influence organisational decision making Being savvy organisational politics nous negotiate resolve conflict critical capability managers levels This course develop negotiation conflict resolution skills crucial becoming positive influence organisation Via structured learning activities video lectures quizzes discussion prompts written assessments conceptualise measure power politics analyse develop strategies influencing stakeholders learn act integrity purpose playing politics Macquarie ranked among top one per cent universities world star QS rating recognised producing graduates among sought professionals world Since foundation years ago aspired different type university one focused fostering collaboration students academics industry society Negotiation conflict resolution long considered important skills managers Now future work comes focus mastery negotiation conflict resolution along superior interpersonal skills cultural competencies emotional intelligence seen many essential These relating skills define resilient leaders support sustainable organisations distinctive feature healthy inclusive communities This week explore concepts central fields negotiation conflict resolution You learn recognise negotiation opportunities arise differentiate negotiation conflict resolution situations analyse plan intervention well prepared begin interact counterpart others locked conflict What causes negotiation breakdowns escalations conflict Are disagreements difficult conversations problems work something avoided Or human conflict inevitable indeed necessary feature healthy organisations societies This week examine core principles used address social conflict across range different contexts interpersonal situations workplace conflict also conflict communities You learn common reasons deadlocks difficulties emerge negotiations sometimes stall even break The renowned th century psychologist Erik Erikson said know patience see others Eriksen words ring true negotiators crucial negotiators come know hot buttons self aware values biases beliefs effect certain behaviours This week introduced several methods self assessment help gain self awareness One tools help identify called conflict style By completing self assessment students become aware consider likely implications preferred conflict styles interpersonal effectiveness To add context aid discussion review several organisational cases highlight lack self awareness lead unresolved organisational conflicts serious consequences individuals organisations Within every situation labelled negotiation often exist number subordinate negotiations must successfully navigated achieve successful outcome In addition stated negotiation agenda topic centre discussion identify two negotiations Firstly negotiation takes place around parties current future relationship secondly negotiation takes place around process followed While subordinate negotiations clearly important often largely ignored negotiators planning In week session learn called three negotiations content process relationship You learn identify process problems negotiation bring stalled negotiation back track You learn build trust negotiation preserve enhance relationship negotiation counterparts without compromising interests The ability influence without force coercion important organization levels Modern managers must master art persuasive communication adapt needs audience construct good narrative inspire audience act Communicate Impact They must learn design negotiate informal complex agreements diverse workplace cultures Negotiate Resolve Conflict Macquarie UniversityEnglish Resolving conflicts negotiating agreements new world work Theories conflict pathways resolution Building using skillset Moving knowing The three negotiations Content process relationship When context matters negotiating across cultural divide Coping complexity From multi party negotiation conflict transformation Negotiation conflict resolution long considered important skills managers Now future work comes focus mastery negotiation conflict resolution along superior interpersonal skills cultural competencies emotional intelligence seen many essential These relating skills define resilient leaders support sustainable organisations distinctive feature healthy inclusive communities This week explore concepts central fields negotiation conflict resolution You learn recognise negotiation opportunities arise differentiate negotiation conflict resolution situations analyse plan intervention well prepared begin interact counterpart others locked conflict What causes negotiation breakdowns escalations conflict Are disagreements difficult conversations problems work something avoided Or human conflict inevitable indeed necessary feature healthy organisations societies This week examine core principles used address social conflict across range different contexts interpersonal situations workplace conflict also conflict communities You learn common reasons deadlocks difficulties emerge negotiations sometimes stall even break The renowned th century psychologist Erik Erikson said know patience see others Eriksen words ring true negotiators crucial negotiators come know hot buttons self aware values biases beliefs effect certain behaviours This week introduced several methods self assessment help gain self awareness One tools help identify called conflict style By completing self assessment students become aware consider likely implications preferred conflict styles interpersonal effectiveness To add context aid discussion review several organisational cases highlight lack self awareness lead unresolved organisational conflicts serious consequences individuals organisations Within every situation labelled negotiation often exist number subordinate negotiations must successfully navigated achieve successful outcome In addition stated negotiation agenda topic centre discussion identify two negotiations Firstly negotiation takes place around parties current future relationship secondly negotiation takes place around process followed While subordinate negotiations clearly important often largely ignored negotiators planning In week session learn called three negotiations content process relationship You learn identify process problems negotiation bring stalled negotiation back track You learn build trust negotiation preserve enhance relationship negotiation counterparts without compromising interests How negotiators adjust approach working across cultural divide We address critical question culture week look number key issues faced negotiators working across cultures You learn cultural values manifest different expectations communication differences negotiation You learn read room subtle messages You also learn concept saving face negotiation importance especially Asian countries adjust style account cultural differences ambiguous situations How cope complexity negotiation conflict resolution What makes certain situations complex difficult resolve others To answer questions consider following issues length time involved number issues review number parties involved invested particular outcome This week learn makes certain situations complex deal complexity We study role sequencing negotiation breaking large negotiation series sequence smaller negotiations also learn approach called D negotiation holistic negotiation strategy emphasized happens away table changing context seen crucial variables influencing final outcome This week also study complex conflicts redefined reframed ultimately transformed exciting new direction field conflict resolution Medium Course Duration      1\n",
              "CaliRollB Network Analysis Marketing Analytics CaliRollA Intermediate Level Python Programming Network Analysis Text Datasets Marketing Analytics Social Network Chris J Vargo Scott Bradley Network analysis long standing methodology used understand relationships words actors broader networks exist This course covers network analysis pertains marketing data specifically text datasets social networks Learners walk conceptual overview network analysis dive real world datasets instructor led tutorials Python The course concludes major project CU Boulder dynamic community scholars learners one spectacular college campuses country As one U S public institutions prestigious Association American Universities AAU proud tradition academic excellence five Nobel laureates members prestigious academic academies In module learn key concepts network analysis key terminology including semantic social networks We also survey common network analyses marketing In module learn networks prepared common data formats represent networks We learn differences different network calculations networks presented visually In module learn parse tweet JSON extract mentions text load connections edge lists visualize network Google Colab In module learn parse tweet JSON process text features load connections edge lists visualize network Google Colab Marketing data complex dimensions make analysis difficult Large unstructured datasets often big extract qualitative insights Marketing datasets also often involve relational connected involve networks This specialization tackles advanced advertising marketing analytics three advanced methods aimed solving problems text classification text topic modeling semantic network analysis Each key area involves deep dive leading computer science methods aimed solving methods using Python This specialization taken academic credit part CU Boulder Master Science Data Science MS DS degree offered Coursera platform The MS DS interdisciplinary degree brings together faculty CU Boulder departments Applied Mathematics Computer Science Information Science others With performance based admissions application process MS DS ideal individuals broad range undergraduate education professional experience computer science information science mathematics statistics Learn MS DS program Colorado BoulderEnglish Network Analysis Introduction Terminology Network Analysis Data Structures Calculations Preparing Visualizing Social Networks Preparing Visualizing Semantic Networks In module learn key concepts network analysis key terminology including semantic social networks We also survey common network analyses marketing In module learn networks prepared common data formats represent networks We learn differences different network calculations networks presented visually In module learn parse tweet JSON extract mentions text load connections edge lists visualize network Google Colab In module learn parse tweet JSON process text features load connections edge lists visualize network Google Colab Short Course Duration                                                                                                                                                                                                                                                                                                                                                                                                                                                                                                                                                                                                                                                                                                                                                                                                                                                                                                                                                                                                                                                                                                                                                                                                                                                                                                                                                                                                                                                                                                                                                                                                                                                                                                                                                                                                                                                                                                                                                                                                                                                                                                                                                                                                                                                                                                                                                                                                                                                                                                                                                                                                                                                                                                                                                                                                                                                                                                                                                                                                                                                                                                                                                                                                                                                                                                                                                                                                                                                                                                                                                                                                                                                                                                                                                                                                                                                                                                                                                                                                                                                                                                                                                                                                                                                                                                                                                                                                                                                                                                                                                                                                                                                                                                                                                                                                                                                                                                                                                                                                                                                                                     1\n",
              "CaliRollB Network Analysis Systems Biology CaliRollA Intermediate Level Avi Ma ayan PhD An introduction data integration statistical methods used contemporary Systems Biology Bioinformatics Systems Pharmacology research The course covers methods process raw data genome wide mRNA expression studies microarrays RNA seq including data normalization differential expression clustering enrichment analysis network construction The course contains practical tutorials using tools setting pipelines also covers mathematics behind methods applied within tools The course mostly appropriate beginning graduate students advanced undergraduates majoring fields biology math physics chemistry computer science biomedical electrical engineering The course useful researchers encounter large datasets research The course presents software tools developed Ma ayan Laboratory Icahn School Medicine Mount Sinai also freely available data analysis visualization tools The ultimate aim course enable participants utilize methods presented course analyzing data projects For participants work field course introduces current research challenges faced field computational systems biology The Icahn School Medicine Mount Sinai New York City leader medical scientific training education biomedical research patient care The Introduction Complex Systems module discusses complex systems leads idea cell considered complex system complex agent living complex environment like us The Introduction Biology Engineers module provides introduction central topics cell molecular biology background field This comprehensive coverage cell molecular biology The goal provide entry point motivate interested field coming disciplines begin studying biology In Topological Network Evolution Models module provide several lectures historical perspective network analysis systems biology The focus silico network evolution models These simple computational models based rules create networks similar topology molecular networks observed biological systems The Types Biological Networks module various types networks typically constructed analyzed systems biology systems pharmacology This lecture ends idea functional association networks FANs Following lecture lectures discuss construct FANs use networks analyzing gene lists This set lectures Data Processing Identifying Differentially Expressed Genes module first discusses data normalization methods several lectures devoted explaining problem identifying differentially expressed genes focus understanding inner workings new method developed Ma ayan Laboratory called Characteristic Direction Design systems level experiments using appropriate cutting edge techniques collect big data analyze interpret small big data sets quantitatively The Systems Biology Specialization covers concepts methodologies used systems level analysis biomedical systems Successful participants learn use experimental computational mathematical methods systems biology design practical systems level frameworks address questions variety biomedical fields In final Capstone Project students apply methods learned five courses specialization work research project Icahn School Medicine Mount SinaiEnglish Course Overview Introductions Topological Network Evolution Models Types Biological Networks Data Processing Identifying Differentially Expressed Genes Gene Set Enrichment Network Analyses Deep Sequencing Data Processing Analysis Principal Component Analysis Self Organizing Maps Network Based Clustering Hierarchical Clustering Resources Data Integration Crowdsourcing Microtasks Megatasks Final Exam The Introduction Complex Systems module discusses complex systems leads idea cell considered complex system complex agent living complex environment like us The Introduction Biology Engineers module provides introduction central topics cell molecular biology background field This comprehensive coverage cell molecular biology The goal provide entry point motivate interested field coming disciplines begin studying biology In Topological Network Evolution Models module provide several lectures historical perspective network analysis systems biology The focus silico network evolution models These simple computational models based rules create networks similar topology molecular networks observed biological systems The Types Biological Networks module various types networks typically constructed analyzed systems biology systems pharmacology This lecture ends idea functional association networks FANs Following lecture lectures discuss construct FANs use networks analyzing gene lists This set lectures Data Processing Identifying Differentially Expressed Genes module first discusses data normalization methods several lectures devoted explaining problem identifying differentially expressed genes focus understanding inner workings new method developed Ma ayan Laboratory called Characteristic Direction In Gene Set Enrichment Network Analyses module emphasis tools developed Ma ayan Laboratory analyze gene sets Several tools discussed including Enrichr GEO Enrichr Expression Kinases DrugPairSeeker In addition one lecture devoted method call enrichment vector clustering developed two lectures describe popular gene set enrichment analysis GSEA method improved method developed called principal angle enrichment analysis PAEA A set lectures Deep Sequencing Data Processing Analysis module cover basic steps popular pipelines analyze RNA seq ChIP seq data going raw data gene lists figures These lectures also cover UNIX Linux commands programming elements R popular freely available statistical software Note since lectures developed recorded Fall possible better tools used since field rapidly advancing This module devoted various method clustering principal component analysis self organizing maps network based clustering hierarchical clustering The theory behind methods analysis covered detail followed practical demonstration methods applications using R MATLAB The lectures Resources Data Integration module various types networks typically constructed analyzed systems biology systems pharmacology These lectures start idea functional association networks FANs Following lecture several lectures discuss construct FANs various resources use networks analyzing gene lists well construct puzzle used connect genomic data phenotypic data The final set lectures presents idea crowdsourcing MOOCs provide opportunity work together projects difficult complete alone microtasks compete implementing best algorithms solve hard problems megatasks You opportunity participate various crowdsourcing projects microtasks megatasks These projects designed specifically course The final exam consists multiple choice questions topics covered modules course Some questions may require perform analysis methods learned throughout course new datasets Medium Course Duration                                                                                                                                                                                                                                                                                                                                                                                                                                                                                                                                                                                                                                                                                                                                                                                                                                                                                                                                                                                                                                                                                            1\n",
              "                                                                                                                                                                                                                                                                                                                                                                                                                                                                                                                                                                                                                                                                                                                                                                                                                                                                                                                                                                                                                                                                                                                                                                                                                                                                                                                                                                                                                                                                                                                                                                                                                                                                                                                                                                                                                                                                                                                                                                                                                                                                                                                                                                                                                                                                                                                                                                                                                                                                                                                                                                                                                                                                                                                                                                                                                                                                                                                                                                                                                                                                                                                                                                                                                                                                                                                                                                                                                                                                                                                                                                                                                                                                                                                                                                                                                                                                                                                                                                                                                                                                                                                                                                                                                                                                                                                                                                                                                                                                                                                                                                                                                                                                                                                                                                                                                                                                                                                                                                                                                                                                                                                                                                                                                                                                                                                                                                                                                                                                                                                                                                                                                                                                                                                                                                                                                                                                                                                                                                                                                                                                                                                                                                                                                                                                                                                                                                                                                                                                                                                                                                                                                                                                                                                                                                                                                                                                                                                                                                                                                                                                                                                                                                                                                                                                                                                                                                                                                                                                                                                                                                                                                                                                                                                                                                                                                                                                                                                                                                                                                                                                                                                                                                                                                                                        ... \n",
              "CaliRollB Enhance Writing Adverb Clauses CaliRollA Intermediate Level Meg Parker nTOP INSTRUCTOR If struggle express complex ideas English worry This course lead step step journey advanced writing In first part course learn basic information adverb clauses Then dive categories ideas adverb clauses express practice using subordinating conjunctions many grammar words start adverb clauses At end course learn use varied types sentences writing show learned writing paragraph We compare final paragraph one write beginning course see difference adverb clauses make Since University California Irvine combined strengths major research university bounty incomparable Southern California location UCI unyielding commitment rigorous academics cutting edge research leadership character development makes campus driving force innovation discovery serves local national global communities many ways This week start learning adverb clauses write paragraph Why Because end course going compare write able write learned adverb clauses Welcome Week This week examine common connecting words called subordinating conjunctions We specifically focus conjunctions time place cause contrast You watch lesson videos videos give guided practice using types adverb clauses correctly At step practice check answers complete quizzes test knowledge Finally apply learned writing complex sentences adverb clauses This week continue exploration meaning use adverb clauses First learn clauses condition common everyday language fluent English speakers After conditional clauses learn common mistakes adverb clauses knowledge help check edit writing write conditional sentences discussion post By end week learned need know order successfully write adjective clauses last part course Good luck This week focus writing First learn writing variety sentence structures Then write paragraph routine You Week going show everything learned sentence types adverb clauses After writing compare week writing Week writing able see much advanced writing thanks adverb clauses Finally finish evaluating another learner use adverb clauses You worked hard time see results effort Congratulations This specialization English learners want write greater sentence complexity Through three courses learn identify adverb adjective noun clauses avoid making common mistakes associated type You also learn use three types complex sentences express ideas sophisticated ways University California IrvineEnglish Introduction Adverb Clauses Meaning Use Adverb Clauses Part Meaning Use Adverb Clauses Part Adverb Clause Your Writing This week start learning adverb clauses write paragraph Why Because end course going compare write able write learned adverb clauses After writing start learning new lessons You learn identify adverb clauses create sentences punctuate correctly commas For lesson learn videos practice exercises take quiz check understanding n nAre ready There lot learn let get started Welcome Week This week examine common connecting words called subordinating conjunctions We specifically focus conjunctions time place cause contrast You watch lesson videos videos give guided practice using types adverb clauses correctly At step practice check answers complete quizzes test knowledge Finally apply learned writing complex sentences adverb clauses We go step step feel confident using new adverb clauses Let get started This week continue exploration meaning use adverb clauses First learn clauses condition common everyday language fluent English speakers After conditional clauses learn common mistakes adverb clauses knowledge help check edit writing write conditional sentences discussion post By end week learned need know order successfully write adjective clauses last part course Good luck This week focus writing First learn writing variety sentence structures Then write paragraph routine You Week going show everything learned sentence types adverb clauses After writing compare week writing Week writing able see much advanced writing thanks adverb clauses Finally finish evaluating another learner use adverb clauses You worked hard time see results effort Congratulations Medium Course Duration                                                                                                                                                                                                                                                                                                                                                                                                                                                                                                                                                                                                                                                                                                                                                                                                                                                                                                                                                                                                                                                                                                                                                                                                                                                                                                                                                                                                                                                                                                                                                                                                                                                                                                                                                                                                                                                                                                                                                                                                                                                                                                                                                                                                                                                                                                                                                                                                                                                                                                                                                                                                                                                                                                                                                                                                                                                                                                                                                                                                                                                                                                                                                                                                                                                                                                                                                                                                                                                                                                                                                                                                                                                                                                                                                                                                                                                                                                           1\n",
              "CaliRollB Enhance Writing Noun Clauses CaliRollA Intermediate Level Meg Parker nTOP INSTRUCTOR This course designed hold hand step step basic concepts noun clauses way end goal writing paragraph varied noun clauses With individual lesson watch introductory guided practice videos give tips writing noun clauses complete independent practice exercises check answers short quizzes For several assignments throughout course practice writing noun clauses first individual sentences within paragraph By end course able see exactly much writing improved compare Week Week writing No matter use English daily life course inspire use noun clauses writing speaking Since University California Irvine combined strengths major research university bounty incomparable Southern California location UCI unyielding commitment rigorous academics cutting edge research leadership character development makes campus driving force innovation discovery serves local national global communities many ways Let launch exciting world noun clauses This week start writing opinion paragraph compare final paragraph end course This earlier paragraph purely serves point comparison need perfect After writing learn differentiate among noun phrases noun clauses clauses focus analyzing roles noun clauses within sentence whole By end week understand noun clause basics necessary first step exploring many types noun clauses learn Week Let get started You solid understanding noun clauses work let build This week focus writing noun clauses starting question words whether For watch introductory guided practice videos give tips independent practice exercises After practice check answers take short quiz Finally show learned writing sentences week noun clauses By end week feel much confident writing variety noun clauses Ready Let Let take noun clauses notch This week examine one last type noun clauses words whenever wherever whoever Then learn avoid learners common mistakes After lesson practice take quiz check understanding Finally transition topic writing lesson ways noun clauses used writing opinions read sample opinion piece By end week tools tackle Week challenge writing opinion paragraph Now time show learned noun clauses opinion writing First I give pointers writing fantastic opinion paragraph variety noun clauses After write compare week Week paragraphs discussion post reflect writing improved throughout course Finally submit paragraph evaluate another learner paragraph use noun clauses By end week clearly see hard work noun clauses really paid This specialization English learners want write greater sentence complexity Through three courses learn identify adverb adjective noun clauses avoid making common mistakes associated type You also learn use three types complex sentences express ideas sophisticated ways University California IrvineEnglish Introduction Noun Clauses More Noun Clauses Preparing Write Using Noun Clauses Writing Noun Clauses Let launch exciting world noun clauses This week start writing opinion paragraph compare final paragraph end course This earlier paragraph purely serves point comparison need perfect After writing learn differentiate among noun phrases noun clauses clauses focus analyzing roles noun clauses within sentence whole By end week understand noun clause basics necessary first step exploring many types noun clauses learn Week Let get started You solid understanding noun clauses work let build This week focus writing noun clauses starting question words whether For watch introductory guided practice videos give tips independent practice exercises After practice check answers take short quiz Finally show learned writing sentences week noun clauses By end week feel much confident writing variety noun clauses Ready Let Let take noun clauses notch This week examine one last type noun clauses words whenever wherever whoever Then learn avoid learners common mistakes After lesson practice take quiz check understanding Finally transition topic writing lesson ways noun clauses used writing opinions read sample opinion piece By end week tools tackle Week challenge writing opinion paragraph Now time show learned noun clauses opinion writing First I give pointers writing fantastic opinion paragraph variety noun clauses After write compare week Week paragraphs discussion post reflect writing improved throughout course Finally submit paragraph evaluate another learner paragraph use noun clauses By end week clearly see hard work noun clauses really paid Medium Course Duration                                                                                                                                                                                                                                                                                                                                                                                                                                                                                                                                                                                                                                                                                                                                                                                                                                                                                                                                                                                                                                                                                                                                                                                                                                                                                                                                                                                                                                                                                                                                                                                                                                                                                                                                                                                                                                                                                                                                                                                                                                                                                                                                                                                                                                                                                                                                                                                                                                                                                                                                                                                                                                                                                                                                                                                                                                                                                                                                                                                                                                                                                                                                                                                                                                                                                                                                                                                                                                                                                                                                               1\n",
              "CaliRollB Enjoyable Econometrics CaliRollA Beginner Level Philip Hans Franses The goal MOOC show econometric methods often needed answer questions A question comes first data collected finally model method comes Depending data however happen methods need adapted For example first look two variables later may need look three Or data missing And data counts like number newspaper articles citing someone matters may change But modifications always come last considered relevant Erasmus University top ranked international research university based Rotterdam Netherlands Our academic teaching research focuses four areas health wealth culture governance Erasmus University Rotterdam make happen In week introduced MOOC Enjoyable Econometrics This week covers basic statistics like distributions correlations tests You introduced concepts real life examples Simple regression focus week real life examples help apply knowledge This week ends test check mastered content first three weeks This week covers topic multiple regression introduced examples practice Erasmus University RotterdamEnglish Introduction Basic statistics Simple regression Multiple regression Variants multiple regression New cases new techniques In week introduced MOOC Enjoyable Econometrics This week covers basic statistics like distributions correlations tests You introduced concepts real life examples Simple regression focus week real life examples help apply knowledge This week ends test check mastered content first three weeks This week covers topic multiple regression introduced examples practice In week encounter different variants multiple regression illustrated examples The last week MOOC focuses real life cases require advanced econometric methods Short Course Duration                                                                                                                                                                                                                                                                                                                                                                                                                                                                                                                                                                                                                                                                                                                                                                                                                                                                                                                                                                                                                                                                                                                                                                                                                                                                                                                                                                                                                                                                                                                                                                                                                                                                                                                                                                                                                                                                                                                                                                                                                                                                                                                                                                                                                                                                                                                                                                                                                                                                                                                                                                                                                                                                                                                                                                                                                                                                                                                                                                                                                                                                                                                                                                                                                                                                                                                                                                                                                                                                                                                                                                                                                                                                                                                                                                                                                                                                                                                                                                                                                                                                                                                                                                                                                                                                                                                                                                                                                                                                                                                                                                                                                                                                                                                                                                                                                                                                                                                                                                                                                                                                                                                                                                                                                                                                                                                                                                                                                                                                                                                                                                                                                                                                                                                                                                                                                                                                                                                                                                                                                                                                                                                                                                                                                                                                                                                                                                                                                            1\n",
              "CaliRollB Enterprise Business Requirements Driven Cloud CaliRollA Intermediate Level Cloud Platforms Cloud Infrastructure Cloud Management Cloud Computing Cloud Applications Jennifer James Understand end customers business drivers business requirements cloud Learn cloud services considerations support business requirements Intel portfolio M cloud transformation journey This course part Intel Cloud Business Professional Specialization Completion specialization offers badge via Credly Building Business Value Modern Data Platform This lesson describes modern data platform value adopting cloud forward cloud first business model Duration minutes The M Cloud Transformation In lesson Intel Intel partner CloudGenera describe Ms cloud transformation strategies allow enterprise develop effective cloud infrastructure Duration minutes Business Success Cloud Native Intel Architecture This lesson discusses Intel architecture differentiated provides business value cloud native world Duration minutes Successful Cloud Deployments using Intel Optimizations This lesson describes areas Intel Optimizations help improve cloud deployments solution performance Duration minutes The Intel Developer Zone offers tools information enable cross platform app development platform technology information code samples peer expertise order help developers innovate succeed Join communities Internet Things Artificial Intelligence Virtual Reality Persistent Memory Game Dev download tools access dev kits share ideas like minded developers participate hackathons contests roadshows local events This lesson describes modern data platform value adopting cloud forward cloud first business model Duration minutes In lesson Intel Intel partner CloudGenera describe Ms cloud transformation strategies allow enterprise develop effective cloud infrastructure Duration minutes This lesson discusses Intel architecture differentiated provides business value cloud native world Duration minutes This lesson describes areas Intel Optimizations help improve cloud deployments solution performance Duration minutes Understanding business aspects cloud key organization using backbone products services Take cloud acumen next level able better sell address cloud related issues This depth curriculum covers variety relevant topics seasoned cloud professional including assessing organization enterprise needs guiding customers practical solutions Learn intricacies importance critical topics including workload placement strategies cloud architecture offerings cloud financial operations pricing information IntelEnglish Building Business Value Modern Data Platform The M Cloud Transformation Business Success Cloud Native Intel Architecture Successful Cloud Deployments using Intel Optimizations This lesson describes modern data platform value adopting cloud forward cloud first business model Duration minutes In lesson Intel Intel partner CloudGenera describe Ms cloud transformation strategies allow enterprise develop effective cloud infrastructure Duration minutes This lesson discusses Intel architecture differentiated provides business value cloud native world Duration minutes This lesson describes areas Intel Optimizations help improve cloud deployments solution performance Duration minutes Short Course Duration                                                                                                                                                                                                                                                                                                                                                                                                                                                                                                                                                                                                                                                                                                                                                                                                                                                                                                                                                                                                                                                                                                                                                                                                                                                                                                                                                                                                                                                                                                                                                                                                                                                                                                                                                                                                                                                                                                                                                                                                                                                                                                                                                                                                                                                                                                                                                                                                                                                                                                                                                                                                                                                                                                                                                                                                                                                                                                                                                                                                                                                                                                                                                                                                                                                                                                                                                                                                                                                                                                                                                                                                                                                                                                                                                                                                                                                                                                                                                                                                                                                                                                                                                                                                                                                                                                                                                                                                                                                                                                                                                                                                                                                                                                                                                                                                                         1\n",
              "CaliRollB z OS System Services Structure CaliRollA Intermediate Level Jeff Bisti This course presents structure control blocks z OS BCP system services It prepares new z OS system programmer identify potential bottlenecks performance problems perform initial error symptom gathering identify opportunities requirements tailoring z OS system This course also provides prerequisite information needed training specialized areas system measurement tuning system problem determination IBM global leader business transformation open hybrid cloud platform AI serving clients countries around world Today Fortune Companies rely IBM Cloud run business IBM Watson enterprise AI hard work engagements IBM also one world vital corporate research organizations consecutive years patent leadership Above guided principles trust transparency support inclusive society IBM committed responsible technology innovator force good world This unit sets stage remainder course The major functions z OS system reviewed emphasis relationships components The use control blocks z OS system introduced basic IBM z System instruction execution interrupt handling described This unit presents occurs initialization base control program z OS It also discusses control system programmer customization Initial Program Load IPL process control operator IPL process z OS BCP provides task management supervisor services order enable sharing system resources maximize work processed given time z OS IBM z System provide architectural foundation allows greater flexibility design options development application programs needs extend beyond boundaries single address space This unit examines hardware software facilities enable program interact programs executing address spaces use data data spaces IBMEnglish Introduction Operating environment initialization Task Management Addressability Input Output Supervisor Storage Management Recovery termination manager This unit sets stage remainder course The major functions z OS system reviewed emphasis relationships components The use control blocks z OS system introduced basic IBM z System instruction execution interrupt handling described This unit presents occurs initialization base control program z OS It also discusses control system programmer customization Initial Program Load IPL process control operator IPL process z OS BCP provides task management supervisor services order enable sharing system resources maximize work processed given time A solid understanding services necessary perform many system programmer activities Examples include identifying bottlenecks determining status wait state failure occurs z OS IBM z System provide architectural foundation allows greater flexibility design options development application programs needs extend beyond boundaries single address space This unit examines hardware software facilities enable program interact programs executing address spaces use data data spaces One primary functions computing system processing data Much data processed exists external processor storage might tape DASD volume might entered terminal The handling data requires services software hardware channel subsystem devices attached Understanding roles software hardware handling I O requests necessary determining configure hardware tune I O configuration analyzing I O related problems One major resources available users z OS system storage Programs executing system whether user applications z OS system routines vying storage Each areas storage however limited resource use availability must managed maintain program integrity This managing storage z OS handled three storage managers virtual real auxiliary In unit gain understanding areas storage assigned used managed necessary determining much storage required installation This also required tuning system make efficient use storage analyzing storage related failures The resolution errors often requires analysis information produced time failure The responsibility recovery termination manager RTM gather failure indications interface system application error recovery routines generate failure documentation Understanding function recovery termination manager recovery routines helpful analyzing failure documentation determining tune system control documentation produced Short Course Duration                                                                                                                                                                                                                                                                                                                                                                                                                                                                                                                                                                                                                                                                                                                                                                                                                                                                                                                                                                                                                                                                                                                                                                                                                                                                                                                                                                                                                                                                                                                                                                                                                                                                                                                                                                                                                                                                                                                                                                                                                                                                                                                                                                                                                                                                                                                                                                                                                                                                                                                                                                                                                                                                                                                                                                                                                                                                                                                                                                                                                                                                                                                                                                                                                                                                                                                                                                                                                                                                                                                                                                                                                                                                                                                                                                1\n",
              "Name: clean_combined_text, Length: 3867, dtype: int64"
            ]
          },
          "metadata": {},
          "execution_count": 67
        }
      ]
    },
    {
      "cell_type": "code",
      "source": [
        "coursedata2.shape"
      ],
      "metadata": {
        "colab": {
          "base_uri": "https://localhost:8080/"
        },
        "id": "MbJLxU-R8d-y",
        "outputId": "66b8744a-5062-466c-b61f-6e00f7733c9a"
      },
      "execution_count": null,
      "outputs": [
        {
          "output_type": "execute_result",
          "data": {
            "text/plain": [
              "(3190, 15)"
            ]
          },
          "metadata": {},
          "execution_count": 81
        }
      ]
    },
    {
      "cell_type": "code",
      "source": [
        "coursedata2 = coursedata2.dropna()"
      ],
      "metadata": {
        "id": "JV2LK7VH5x0l"
      },
      "execution_count": null,
      "outputs": []
    },
    {
      "cell_type": "code",
      "source": [
        "course_text = coursedata2[['clean_combined_text']]\n",
        "course_text['index'] = course_text.index\n",
        "documents = course_text"
      ],
      "metadata": {
        "colab": {
          "base_uri": "https://localhost:8080/"
        },
        "id": "R07hxCavGeQ-",
        "outputId": "5d86d7cb-227b-46ee-a350-fc8d50535cb8"
      },
      "execution_count": null,
      "outputs": [
        {
          "output_type": "stream",
          "name": "stderr",
          "text": [
            "/usr/local/lib/python3.7/dist-packages/ipykernel_launcher.py:2: SettingWithCopyWarning: \n",
            "A value is trying to be set on a copy of a slice from a DataFrame.\n",
            "Try using .loc[row_indexer,col_indexer] = value instead\n",
            "\n",
            "See the caveats in the documentation: https://pandas.pydata.org/pandas-docs/stable/user_guide/indexing.html#returning-a-view-versus-a-copy\n",
            "  \n"
          ]
        }
      ]
    },
    {
      "cell_type": "code",
      "source": [
        "documents"
      ],
      "metadata": {
        "colab": {
          "base_uri": "https://localhost:8080/",
          "height": 424
        },
        "id": "gBGQnLKHiBKG",
        "outputId": "20245555-33f5-40f6-c4b6-00612967c30c"
      },
      "execution_count": null,
      "outputs": [
        {
          "output_type": "execute_result",
          "data": {
            "text/plain": [
              "                                    clean_combined_text  index\n",
              "0     CaliRollB Cloud Computing Concepts Part CaliRo...      0\n",
              "1     CaliRollB The Challenges Global Health CaliRol...      1\n",
              "2     CaliRollB Digital Marketing Analytics Theory C...      2\n",
              "3     CaliRollB Digital Product Management Modern Fu...      3\n",
              "7     CaliRollB Grow Your Business Goldman Sachs Wom...      7\n",
              "...                                                 ...    ...\n",
              "6611  CaliRollB Introduction XR VR AR MR Foundations...   6611\n",
              "6616  CaliRollB Global Adolescent Health CaliRollA B...   6616\n",
              "6617  CaliRollB The Science Training Young Athletes ...   6617\n",
              "6622  CaliRollB Getting Started Mainframe z OS Comma...   6622\n",
              "6634  CaliRollB IBM z OS Rexx Programming CaliRollA ...   6634\n",
              "\n",
              "[3190 rows x 2 columns]"
            ],
            "text/html": [
              "\n",
              "  <div id=\"df-c47d97a6-610e-4109-9ee8-d486a03f59c9\">\n",
              "    <div class=\"colab-df-container\">\n",
              "      <div>\n",
              "<style scoped>\n",
              "    .dataframe tbody tr th:only-of-type {\n",
              "        vertical-align: middle;\n",
              "    }\n",
              "\n",
              "    .dataframe tbody tr th {\n",
              "        vertical-align: top;\n",
              "    }\n",
              "\n",
              "    .dataframe thead th {\n",
              "        text-align: right;\n",
              "    }\n",
              "</style>\n",
              "<table border=\"1\" class=\"dataframe\">\n",
              "  <thead>\n",
              "    <tr style=\"text-align: right;\">\n",
              "      <th></th>\n",
              "      <th>clean_combined_text</th>\n",
              "      <th>index</th>\n",
              "    </tr>\n",
              "  </thead>\n",
              "  <tbody>\n",
              "    <tr>\n",
              "      <th>0</th>\n",
              "      <td>CaliRollB Cloud Computing Concepts Part CaliRo...</td>\n",
              "      <td>0</td>\n",
              "    </tr>\n",
              "    <tr>\n",
              "      <th>1</th>\n",
              "      <td>CaliRollB The Challenges Global Health CaliRol...</td>\n",
              "      <td>1</td>\n",
              "    </tr>\n",
              "    <tr>\n",
              "      <th>2</th>\n",
              "      <td>CaliRollB Digital Marketing Analytics Theory C...</td>\n",
              "      <td>2</td>\n",
              "    </tr>\n",
              "    <tr>\n",
              "      <th>3</th>\n",
              "      <td>CaliRollB Digital Product Management Modern Fu...</td>\n",
              "      <td>3</td>\n",
              "    </tr>\n",
              "    <tr>\n",
              "      <th>7</th>\n",
              "      <td>CaliRollB Grow Your Business Goldman Sachs Wom...</td>\n",
              "      <td>7</td>\n",
              "    </tr>\n",
              "    <tr>\n",
              "      <th>...</th>\n",
              "      <td>...</td>\n",
              "      <td>...</td>\n",
              "    </tr>\n",
              "    <tr>\n",
              "      <th>6611</th>\n",
              "      <td>CaliRollB Introduction XR VR AR MR Foundations...</td>\n",
              "      <td>6611</td>\n",
              "    </tr>\n",
              "    <tr>\n",
              "      <th>6616</th>\n",
              "      <td>CaliRollB Global Adolescent Health CaliRollA B...</td>\n",
              "      <td>6616</td>\n",
              "    </tr>\n",
              "    <tr>\n",
              "      <th>6617</th>\n",
              "      <td>CaliRollB The Science Training Young Athletes ...</td>\n",
              "      <td>6617</td>\n",
              "    </tr>\n",
              "    <tr>\n",
              "      <th>6622</th>\n",
              "      <td>CaliRollB Getting Started Mainframe z OS Comma...</td>\n",
              "      <td>6622</td>\n",
              "    </tr>\n",
              "    <tr>\n",
              "      <th>6634</th>\n",
              "      <td>CaliRollB IBM z OS Rexx Programming CaliRollA ...</td>\n",
              "      <td>6634</td>\n",
              "    </tr>\n",
              "  </tbody>\n",
              "</table>\n",
              "<p>3190 rows × 2 columns</p>\n",
              "</div>\n",
              "      <button class=\"colab-df-convert\" onclick=\"convertToInteractive('df-c47d97a6-610e-4109-9ee8-d486a03f59c9')\"\n",
              "              title=\"Convert this dataframe to an interactive table.\"\n",
              "              style=\"display:none;\">\n",
              "        \n",
              "  <svg xmlns=\"http://www.w3.org/2000/svg\" height=\"24px\"viewBox=\"0 0 24 24\"\n",
              "       width=\"24px\">\n",
              "    <path d=\"M0 0h24v24H0V0z\" fill=\"none\"/>\n",
              "    <path d=\"M18.56 5.44l.94 2.06.94-2.06 2.06-.94-2.06-.94-.94-2.06-.94 2.06-2.06.94zm-11 1L8.5 8.5l.94-2.06 2.06-.94-2.06-.94L8.5 2.5l-.94 2.06-2.06.94zm10 10l.94 2.06.94-2.06 2.06-.94-2.06-.94-.94-2.06-.94 2.06-2.06.94z\"/><path d=\"M17.41 7.96l-1.37-1.37c-.4-.4-.92-.59-1.43-.59-.52 0-1.04.2-1.43.59L10.3 9.45l-7.72 7.72c-.78.78-.78 2.05 0 2.83L4 21.41c.39.39.9.59 1.41.59.51 0 1.02-.2 1.41-.59l7.78-7.78 2.81-2.81c.8-.78.8-2.07 0-2.86zM5.41 20L4 18.59l7.72-7.72 1.47 1.35L5.41 20z\"/>\n",
              "  </svg>\n",
              "      </button>\n",
              "      \n",
              "  <style>\n",
              "    .colab-df-container {\n",
              "      display:flex;\n",
              "      flex-wrap:wrap;\n",
              "      gap: 12px;\n",
              "    }\n",
              "\n",
              "    .colab-df-convert {\n",
              "      background-color: #E8F0FE;\n",
              "      border: none;\n",
              "      border-radius: 50%;\n",
              "      cursor: pointer;\n",
              "      display: none;\n",
              "      fill: #1967D2;\n",
              "      height: 32px;\n",
              "      padding: 0 0 0 0;\n",
              "      width: 32px;\n",
              "    }\n",
              "\n",
              "    .colab-df-convert:hover {\n",
              "      background-color: #E2EBFA;\n",
              "      box-shadow: 0px 1px 2px rgba(60, 64, 67, 0.3), 0px 1px 3px 1px rgba(60, 64, 67, 0.15);\n",
              "      fill: #174EA6;\n",
              "    }\n",
              "\n",
              "    [theme=dark] .colab-df-convert {\n",
              "      background-color: #3B4455;\n",
              "      fill: #D2E3FC;\n",
              "    }\n",
              "\n",
              "    [theme=dark] .colab-df-convert:hover {\n",
              "      background-color: #434B5C;\n",
              "      box-shadow: 0px 1px 3px 1px rgba(0, 0, 0, 0.15);\n",
              "      filter: drop-shadow(0px 1px 2px rgba(0, 0, 0, 0.3));\n",
              "      fill: #FFFFFF;\n",
              "    }\n",
              "  </style>\n",
              "\n",
              "      <script>\n",
              "        const buttonEl =\n",
              "          document.querySelector('#df-c47d97a6-610e-4109-9ee8-d486a03f59c9 button.colab-df-convert');\n",
              "        buttonEl.style.display =\n",
              "          google.colab.kernel.accessAllowed ? 'block' : 'none';\n",
              "\n",
              "        async function convertToInteractive(key) {\n",
              "          const element = document.querySelector('#df-c47d97a6-610e-4109-9ee8-d486a03f59c9');\n",
              "          const dataTable =\n",
              "            await google.colab.kernel.invokeFunction('convertToInteractive',\n",
              "                                                     [key], {});\n",
              "          if (!dataTable) return;\n",
              "\n",
              "          const docLinkHtml = 'Like what you see? Visit the ' +\n",
              "            '<a target=\"_blank\" href=https://colab.research.google.com/notebooks/data_table.ipynb>data table notebook</a>'\n",
              "            + ' to learn more about interactive tables.';\n",
              "          element.innerHTML = '';\n",
              "          dataTable['output_type'] = 'display_data';\n",
              "          await google.colab.output.renderOutput(dataTable, element);\n",
              "          const docLink = document.createElement('div');\n",
              "          docLink.innerHTML = docLinkHtml;\n",
              "          element.appendChild(docLink);\n",
              "        }\n",
              "      </script>\n",
              "    </div>\n",
              "  </div>\n",
              "  "
            ]
          },
          "metadata": {},
          "execution_count": 84
        }
      ]
    },
    {
      "cell_type": "code",
      "source": [
        "course_clean_1 = documents['clean_combined_text'].reset_index(drop=True)"
      ],
      "metadata": {
        "id": "3OJrYmeoGeX9"
      },
      "execution_count": null,
      "outputs": []
    },
    {
      "cell_type": "code",
      "source": [
        "course_clean_1"
      ],
      "metadata": {
        "colab": {
          "base_uri": "https://localhost:8080/"
        },
        "id": "QJg_v7eliELC",
        "outputId": "69f5ceda-2722-462c-899f-5828e78b3343"
      },
      "execution_count": null,
      "outputs": [
        {
          "output_type": "execute_result",
          "data": {
            "text/plain": [
              "0       CaliRollB Cloud Computing Concepts Part CaliRo...\n",
              "1       CaliRollB The Challenges Global Health CaliRol...\n",
              "2       CaliRollB Digital Marketing Analytics Theory C...\n",
              "3       CaliRollB Digital Product Management Modern Fu...\n",
              "4       CaliRollB Grow Your Business Goldman Sachs Wom...\n",
              "                              ...                        \n",
              "3185    CaliRollB Introduction XR VR AR MR Foundations...\n",
              "3186    CaliRollB Global Adolescent Health CaliRollA B...\n",
              "3187    CaliRollB The Science Training Young Athletes ...\n",
              "3188    CaliRollB Getting Started Mainframe z OS Comma...\n",
              "3189    CaliRollB IBM z OS Rexx Programming CaliRollA ...\n",
              "Name: clean_combined_text, Length: 3190, dtype: object"
            ]
          },
          "metadata": {},
          "execution_count": 86
        }
      ]
    },
    {
      "cell_type": "code",
      "source": [
        "course_clean = course_clean_1"
      ],
      "metadata": {
        "id": "b1B5QV72iRnl"
      },
      "execution_count": null,
      "outputs": []
    },
    {
      "cell_type": "code",
      "source": [
        "\n",
        "with open('course_clean_1.pkl','wb') as file:\n",
        "  pickle.dump(course_clean_1,file)"
      ],
      "metadata": {
        "id": "B16YdjQkOwc2"
      },
      "execution_count": null,
      "outputs": []
    },
    {
      "cell_type": "code",
      "source": [
        "#def text_one_liner(books_list):\n",
        "#    for x in range(len(books_list)):\n",
        "#        books_list[x] = books_list[x].replace('\\n', ' ')\n",
        "#    return books_list\n",
        "\n",
        "#course_clean = text_one_liner(course_clean_1)"
      ],
      "metadata": {
        "id": "SYOBImKxQ4DS"
      },
      "execution_count": null,
      "outputs": []
    },
    {
      "cell_type": "code",
      "source": [
        "len(course_clean)"
      ],
      "metadata": {
        "colab": {
          "base_uri": "https://localhost:8080/"
        },
        "id": "TZd1mqXGQEX0",
        "outputId": "0f586aae-2c56-41f6-a44b-a3650808dc0b"
      },
      "execution_count": null,
      "outputs": [
        {
          "output_type": "execute_result",
          "data": {
            "text/plain": [
              "3190"
            ]
          },
          "metadata": {},
          "execution_count": 88
        }
      ]
    },
    {
      "cell_type": "code",
      "source": [
        "#documents['clean_combined_text']"
      ],
      "metadata": {
        "id": "iUObvUljo0OW"
      },
      "execution_count": null,
      "outputs": []
    },
    {
      "cell_type": "code",
      "source": [
        "import gensim\n",
        "from gensim.utils import simple_preprocess\n",
        "from gensim.parsing.preprocessing import STOPWORDS\n",
        "from nltk.stem import WordNetLemmatizer, SnowballStemmer\n",
        "from nltk.stem.porter import *\n",
        "import numpy as np\n",
        "np.random.seed(2018)\n",
        "import nltk\n",
        "nltk.download('wordnet')"
      ],
      "metadata": {
        "colab": {
          "base_uri": "https://localhost:8080/"
        },
        "id": "rofzmBFcGeci",
        "outputId": "237ae696-72e4-41cb-ee63-695e6abf7f80"
      },
      "execution_count": null,
      "outputs": [
        {
          "output_type": "stream",
          "name": "stderr",
          "text": [
            "[nltk_data] Downloading package wordnet to /root/nltk_data...\n",
            "[nltk_data]   Package wordnet is already up-to-date!\n"
          ]
        },
        {
          "output_type": "execute_result",
          "data": {
            "text/plain": [
              "True"
            ]
          },
          "metadata": {},
          "execution_count": 89
        }
      ]
    },
    {
      "cell_type": "code",
      "source": [
        "import nltk\n",
        "nltk.download('omw-1.4')"
      ],
      "metadata": {
        "colab": {
          "base_uri": "https://localhost:8080/"
        },
        "id": "tcOApavdI7sw",
        "outputId": "fd591114-0b52-4a6b-9bbd-10c8f8834a75"
      },
      "execution_count": null,
      "outputs": [
        {
          "output_type": "stream",
          "name": "stderr",
          "text": [
            "[nltk_data] Downloading package omw-1.4 to /root/nltk_data...\n",
            "[nltk_data]   Package omw-1.4 is already up-to-date!\n"
          ]
        },
        {
          "output_type": "execute_result",
          "data": {
            "text/plain": [
              "True"
            ]
          },
          "metadata": {},
          "execution_count": 90
        }
      ]
    },
    {
      "cell_type": "code",
      "source": [
        "def lemmatize_stemming(text):\n",
        "    return text #stemmer.stem(WordNetLemmatizer().lemmatize(text, pos='v'))\n",
        "def preprocess(text):\n",
        "    result = []\n",
        "    for token in gensim.utils.simple_preprocess(text):\n",
        "        if token not in gensim.parsing.preprocessing.STOPWORDS and len(token) > 3:\n",
        "            result.append(lemmatize_stemming(token))\n",
        "    return result"
      ],
      "metadata": {
        "id": "rW4L2Mb2Gegq"
      },
      "execution_count": null,
      "outputs": []
    },
    {
      "cell_type": "code",
      "source": [
        "processed_docs = course_clean.map(preprocess)\n",
        "processed_docs[:10]"
      ],
      "metadata": {
        "colab": {
          "base_uri": "https://localhost:8080/"
        },
        "id": "6z3hInPKGekv",
        "outputId": "656ad1fd-f44d-48b1-c05b-4e908b87f315"
      },
      "execution_count": null,
      "outputs": [
        {
          "output_type": "execute_result",
          "data": {
            "text/plain": [
              "0    [calirollb, cloud, computing, concepts, caliro...\n",
              "1    [calirollb, challenges, global, health, caliro...\n",
              "2    [calirollb, digital, marketing, analytics, the...\n",
              "3    [calirollb, digital, product, management, mode...\n",
              "4    [calirollb, grow, business, goldman, sachs, wo...\n",
              "5    [calirollb, fundamentals, negotiation, goldman...\n",
              "6    [calirollb, fundamentals, business, finance, g...\n",
              "7    [calirollb, fundamentals, leadership, goldman,...\n",
              "8    [calirollb, fundamentals, customers, competiti...\n",
              "9    [calirollb, fundamentals, financial, planning,...\n",
              "Name: clean_combined_text, dtype: object"
            ]
          },
          "metadata": {},
          "execution_count": 92
        }
      ]
    },
    {
      "cell_type": "code",
      "source": [
        "with open('processed_docs.pkl','wb') as file:\n",
        "  pickle.dump(processed_docs,file)"
      ],
      "metadata": {
        "id": "5qPoY-pJNNpx"
      },
      "execution_count": null,
      "outputs": []
    },
    {
      "cell_type": "markdown",
      "source": [
        "#TF-IDF\n",
        "Create a dictionary from ‘processed_docs’ containing the number of times a word appears in the training set."
      ],
      "metadata": {
        "id": "rpAKgcbfS_Yp"
      }
    },
    {
      "cell_type": "code",
      "source": [
        "dictionary = gensim.corpora.Dictionary(processed_docs)\n",
        "count = 0\n",
        "for k, v in dictionary.iteritems():\n",
        "    print(k, v)\n",
        "    count += 1\n",
        "    if count > 10:\n",
        "        break"
      ],
      "metadata": {
        "colab": {
          "base_uri": "https://localhost:8080/"
        },
        "id": "S9tYTKvGI2n3",
        "outputId": "6b698aeb-30a9-4553-bb39-ca1dbab892da"
      },
      "execution_count": null,
      "outputs": [
        {
          "output_type": "stream",
          "name": "stdout",
          "text": [
            "0 academia\n",
            "1 academic\n",
            "2 agree\n",
            "3 algorithm\n",
            "4 algorithms\n",
            "5 allows\n",
            "6 alumni\n",
            "7 analysis\n",
            "8 analyzes\n",
            "9 apache\n",
            "10 applications\n"
          ]
        }
      ]
    },
    {
      "cell_type": "markdown",
      "source": [
        "Filter out tokens that appear in\n",
        "\n",
        "*   Less than 15 documents (absolute number) or\n",
        "*   more than 0.5 documents (fraction of total corpus size, not absolute number)\n",
        "*   after the above two steps, keep only the first 100000 most frequent tokens."
      ],
      "metadata": {
        "id": "v9JTx1n1TQNn"
      }
    },
    {
      "cell_type": "code",
      "source": [
        "#dictionary.filter_extremes(no_below=2, no_above=0.5, keep_n=100000)"
      ],
      "metadata": {
        "id": "IwbNOoWfKb7M"
      },
      "execution_count": null,
      "outputs": []
    },
    {
      "cell_type": "code",
      "source": [
        "bow_corpus = [dictionary.doc2bow(doc) for doc in processed_docs]\n",
        "bow_corpus[3000]"
      ],
      "metadata": {
        "colab": {
          "base_uri": "https://localhost:8080/"
        },
        "id": "lfP-kSn8Ki7p",
        "outputId": "19219eb7-fb8b-4983-cbba-8edee5223dcd"
      },
      "execution_count": null,
      "outputs": [
        {
          "output_type": "execute_result",
          "data": {
            "text/plain": [
              "[(19, 1),\n",
              " (25, 1),\n",
              " (26, 1),\n",
              " (49, 1),\n",
              " (53, 4),\n",
              " (58, 1),\n",
              " (71, 1),\n",
              " (79, 1),\n",
              " (92, 1),\n",
              " (115, 1),\n",
              " (124, 1),\n",
              " (130, 1),\n",
              " (139, 1),\n",
              " (153, 1),\n",
              " (173, 1),\n",
              " (184, 1),\n",
              " (216, 3),\n",
              " (224, 2),\n",
              " (236, 1),\n",
              " (301, 1),\n",
              " (316, 1),\n",
              " (317, 2),\n",
              " (319, 1),\n",
              " (348, 1),\n",
              " (384, 1),\n",
              " (396, 1),\n",
              " (405, 1),\n",
              " (420, 2),\n",
              " (429, 1),\n",
              " (446, 2),\n",
              " (449, 1),\n",
              " (454, 4),\n",
              " (524, 2),\n",
              " (575, 1),\n",
              " (625, 1),\n",
              " (648, 1),\n",
              " (668, 1),\n",
              " (827, 1),\n",
              " (943, 1),\n",
              " (962, 1),\n",
              " (963, 1),\n",
              " (981, 1),\n",
              " (1004, 1),\n",
              " (1143, 1),\n",
              " (1167, 1),\n",
              " (1171, 1),\n",
              " (1198, 1),\n",
              " (1261, 2),\n",
              " (1269, 3),\n",
              " (1275, 1),\n",
              " (1309, 1),\n",
              " (1500, 4),\n",
              " (1653, 1),\n",
              " (1665, 1),\n",
              " (1670, 1),\n",
              " (1695, 1),\n",
              " (1802, 1),\n",
              " (1902, 2),\n",
              " (2110, 1),\n",
              " (2120, 1),\n",
              " (2313, 1),\n",
              " (2382, 1),\n",
              " (2733, 1),\n",
              " (2766, 1),\n",
              " (2788, 2),\n",
              " (2797, 1),\n",
              " (2854, 1),\n",
              " (3459, 1),\n",
              " (3653, 1),\n",
              " (3817, 1),\n",
              " (3892, 1),\n",
              " (4020, 1),\n",
              " (4052, 1),\n",
              " (4057, 1),\n",
              " (4069, 1),\n",
              " (4232, 2),\n",
              " (4402, 1),\n",
              " (4694, 1),\n",
              " (5484, 1),\n",
              " (6073, 1),\n",
              " (6074, 1),\n",
              " (6177, 3),\n",
              " (6187, 1),\n",
              " (6648, 1),\n",
              " (6655, 1),\n",
              " (6658, 1),\n",
              " (7037, 1),\n",
              " (7051, 1),\n",
              " (7944, 1),\n",
              " (8059, 9),\n",
              " (8073, 1),\n",
              " (8091, 1),\n",
              " (8669, 1),\n",
              " (9812, 3),\n",
              " (14970, 1),\n",
              " (16347, 1),\n",
              " (23770, 1),\n",
              " (27165, 1)]"
            ]
          },
          "metadata": {},
          "execution_count": 97
        }
      ]
    },
    {
      "cell_type": "code",
      "source": [
        "bow_doc_4310 = bow_corpus[3000]\n",
        "for i in range(len(bow_doc_4310)):\n",
        "    print(\"Word {} (\\\"{}\\\") appears {} time.\".format(bow_doc_4310[i][0], \n",
        "                                               dictionary[bow_doc_4310[i][0]], \n",
        "bow_doc_4310[i][1]))"
      ],
      "metadata": {
        "colab": {
          "base_uri": "https://localhost:8080/"
        },
        "id": "bMls-wBaKmkR",
        "outputId": "84629989-6f9d-45a2-c2eb-9d08913ba931"
      },
      "execution_count": null,
      "outputs": [
        {
          "output_type": "stream",
          "name": "stdout",
          "text": [
            "Word 19 (\"beginner\") appears 1 time.\n",
            "Word 25 (\"calirolla\") appears 1 time.\n",
            "Word 26 (\"calirollb\") appears 1 time.\n",
            "Word 49 (\"concepts\") appears 1 time.\n",
            "Word 53 (\"course\") appears 4 time.\n",
            "Word 58 (\"covers\") appears 1 time.\n",
            "Word 71 (\"duration\") appears 1 time.\n",
            "Word 79 (\"excellence\") appears 1 time.\n",
            "Word 92 (\"fundamental\") appears 1 time.\n",
            "Word 115 (\"introduction\") appears 1 time.\n",
            "Word 124 (\"leading\") appears 1 time.\n",
            "Word 130 (\"level\") appears 1 time.\n",
            "Word 139 (\"medium\") appears 1 time.\n",
            "Word 153 (\"optional\") appears 1 time.\n",
            "Word 173 (\"problems\") appears 1 time.\n",
            "Word 184 (\"research\") appears 1 time.\n",
            "Word 216 (\"time\") appears 3 time.\n",
            "Word 224 (\"university\") appears 2 time.\n",
            "Word 236 (\"world\") appears 1 time.\n",
            "Word 301 (\"provide\") appears 1 time.\n",
            "Word 316 (\"understand\") appears 1 time.\n",
            "Word 317 (\"understanding\") appears 2 time.\n",
            "Word 319 (\"videos\") appears 1 time.\n",
            "Word 348 (\"complementary\") appears 1 time.\n",
            "Word 384 (\"framework\") appears 1 time.\n",
            "Word 396 (\"information\") appears 1 time.\n",
            "Word 405 (\"learning\") appears 1 time.\n",
            "Word 420 (\"modern\") appears 2 time.\n",
            "Word 429 (\"overview\") appears 1 time.\n",
            "Word 446 (\"science\") appears 2 time.\n",
            "Word 449 (\"series\") appears 1 time.\n",
            "Word 454 (\"space\") appears 4 time.\n",
            "Word 524 (\"general\") appears 2 time.\n",
            "Word 575 (\"note\") appears 1 time.\n",
            "Word 625 (\"thinking\") appears 1 time.\n",
            "Word 648 (\"choose\") appears 1 time.\n",
            "Word 668 (\"free\") appears 1 time.\n",
            "Word 827 (\"feel\") appears 1 time.\n",
            "Word 943 (\"construction\") appears 1 time.\n",
            "Word 962 (\"generation\") appears 1 time.\n",
            "Word 963 (\"geometry\") appears 1 time.\n",
            "Word 981 (\"past\") appears 1 time.\n",
            "Word 1004 (\"technology\") appears 1 time.\n",
            "Word 1143 (\"result\") appears 1 time.\n",
            "Word 1167 (\"years\") appears 1 time.\n",
            "Word 1171 (\"assignment\") appears 1 time.\n",
            "Word 1198 (\"international\") appears 1 time.\n",
            "Word 1261 (\"matter\") appears 2 time.\n",
            "Word 1269 (\"physics\") appears 3 time.\n",
            "Word 1275 (\"questions\") appears 1 time.\n",
            "Word 1309 (\"deeper\") appears 1 time.\n",
            "Word 1500 (\"special\") appears 4 time.\n",
            "Word 1653 (\"known\") appears 1 time.\n",
            "Word 1665 (\"pursuit\") appears 1 time.\n",
            "Word 1670 (\"relative\") appears 1 time.\n",
            "Word 1695 (\"evolution\") appears 1 time.\n",
            "Word 1802 (\"response\") appears 1 time.\n",
            "Word 1902 (\"century\") appears 2 time.\n",
            "Word 2110 (\"related\") appears 1 time.\n",
            "Word 2120 (\"watch\") appears 1 time.\n",
            "Word 2313 (\"mechanics\") appears 1 time.\n",
            "Word 2382 (\"origin\") appears 1 time.\n",
            "Word 2733 (\"length\") appears 1 time.\n",
            "Word 2766 (\"wang\") appears 1 time.\n",
            "Word 2788 (\"energy\") appears 2 time.\n",
            "Word 2797 (\"levels\") appears 1 time.\n",
            "Word 2854 (\"educating\") appears 1 time.\n",
            "Word 3459 (\"dynamic\") appears 1 time.\n",
            "Word 3653 (\"transformation\") appears 1 time.\n",
            "Word 3817 (\"asia\") appears 1 time.\n",
            "Word 3892 (\"advance\") appears 1 time.\n",
            "Word 4020 (\"paradigms\") appears 1 time.\n",
            "Word 4052 (\"hong\") appears 1 time.\n",
            "Word 4057 (\"kong\") appears 1 time.\n",
            "Word 4069 (\"objective\") appears 1 time.\n",
            "Word 4232 (\"universe\") appears 2 time.\n",
            "Word 4402 (\"momentum\") appears 1 time.\n",
            "Word 4694 (\"understood\") appears 1 time.\n",
            "Word 5484 (\"particles\") appears 1 time.\n",
            "Word 6073 (\"emerge\") appears 1 time.\n",
            "Word 6074 (\"entropy\") appears 1 time.\n",
            "Word 6177 (\"cosmology\") appears 3 time.\n",
            "Word 6187 (\"gravity\") appears 1 time.\n",
            "Word 6648 (\"hkust\") appears 1 time.\n",
            "Word 6655 (\"relentless\") appears 1 time.\n",
            "Word 6658 (\"runners\") appears 1 time.\n",
            "Word 7037 (\"curves\") appears 1 time.\n",
            "Word 7051 (\"unified\") appears 1 time.\n",
            "Word 7944 (\"absolute\") appears 1 time.\n",
            "Word 8059 (\"relativity\") appears 9 time.\n",
            "Word 8073 (\"emerged\") appears 1 time.\n",
            "Word 8091 (\"fate\") appears 1 time.\n",
            "Word 8669 (\"quantum\") appears 1 time.\n",
            "Word 9812 (\"spacetime\") appears 3 time.\n",
            "Word 14970 (\"curvature\") appears 1 time.\n",
            "Word 16347 (\"lorentz\") appears 1 time.\n",
            "Word 23770 (\"observers\") appears 1 time.\n",
            "Word 27165 (\"simultaneity\") appears 1 time.\n"
          ]
        }
      ]
    },
    {
      "cell_type": "code",
      "source": [
        "from gensim import corpora, models\n",
        "tfidf = models.TfidfModel(bow_corpus)\n",
        "corpus_tfidf = tfidf[bow_corpus]\n",
        "from pprint import pprint\n",
        "for doc in corpus_tfidf:\n",
        "    pprint(doc)\n",
        "    break"
      ],
      "metadata": {
        "colab": {
          "base_uri": "https://localhost:8080/"
        },
        "id": "HN-iY-uJ9Qbx",
        "outputId": "93442408-e8f1-4a9c-a06c-96a927e99fcc"
      },
      "execution_count": null,
      "outputs": [
        {
          "output_type": "stream",
          "name": "stdout",
          "text": [
            "[(0, 0.025279235088450543),\n",
            " (1, 0.007424820929714573),\n",
            " (2, 0.028529141522810313),\n",
            " (3, 0.020869386840328897),\n",
            " (4, 0.14421723155962857),\n",
            " (5, 0.017879192637467428),\n",
            " (6, 0.014243588345844105),\n",
            " (7, 0.01627167716748426),\n",
            " (8, 0.06907573760065587),\n",
            " (9, 0.057785574270938424),\n",
            " (10, 0.009550121530161855),\n",
            " (11, 0.0066082058341978495),\n",
            " (12, 0.014669173896139993),\n",
            " (13, 0.0425080297370977),\n",
            " (14, 0.016702704478361582),\n",
            " (15, 0.06221747476366473),\n",
            " (16, 0.06819786316938767),\n",
            " (17, 0.03672175251873881),\n",
            " (18, 0.09947454697844448),\n",
            " (19, 0.004834555830897672),\n",
            " (20, 0.10265545246668198),\n",
            " (21, 0.018432764777910095),\n",
            " (22, 0.013968924130498672),\n",
            " (23, 0.018149959721788313),\n",
            " (24, 0.02142295898077157),\n",
            " (27, 0.08217675138367504),\n",
            " (28, 0.08971430175770827),\n",
            " (29, 0.035009348625016735),\n",
            " (30, 0.02352900974444924),\n",
            " (31, 0.019492288580486),\n",
            " (32, 0.06907573760065587),\n",
            " (33, 0.0425080297370977),\n",
            " (34, 0.035758385274934856),\n",
            " (35, 0.10069629830087866),\n",
            " (36, 0.07985686775615129),\n",
            " (37, 0.16435350276735008),\n",
            " (38, 0.1738191744672232),\n",
            " (39, 0.10106499972256322),\n",
            " (40, 0.014511102008361216),\n",
            " (41, 0.023859581043190366),\n",
            " (42, 0.030867079922938006),\n",
            " (43, 0.009890125100754698),\n",
            " (44, 0.012460288687925033),\n",
            " (45, 0.02739872211097371),\n",
            " (46, 0.04319775970717998),\n",
            " (47, 0.025828783483930296),\n",
            " (48, 0.20993872039294587),\n",
            " (49, 0.04284171138952313),\n",
            " (50, 0.019934276415310006),\n",
            " (51, 0.13321054153436343),\n",
            " (52, 0.025005688946684614),\n",
            " (54, 0.006716184538481957),\n",
            " (55, 0.039788057193130916),\n",
            " (56, 0.04370975904085179),\n",
            " (57, 0.020660775816887418),\n",
            " (58, 0.11503854583192702),\n",
            " (59, 0.008791836293203667),\n",
            " (60, 0.031080458688534356),\n",
            " (61, 0.04380668605665104),\n",
            " (62, 0.040052963774372556),\n",
            " (63, 0.04722011253950281),\n",
            " (64, 0.09133072769433784),\n",
            " (65, 0.04152845265419604),\n",
            " (66, 0.15579086819379834),\n",
            " (67, 0.011599313473085534),\n",
            " (68, 0.03607215777039668),\n",
            " (69, 0.017493494780203876),\n",
            " (70, 0.37668361346242113),\n",
            " (72, 0.03753342158905204),\n",
            " (73, 0.024390060359009556),\n",
            " (74, 0.015593456687389751),\n",
            " (75, 0.04261664811192602),\n",
            " (76, 0.03335044501640897),\n",
            " (77, 0.06169805030066811),\n",
            " (78, 0.037381942033384984),\n",
            " (79, 0.01002366662550623),\n",
            " (80, 0.01781326390034489),\n",
            " (81, 0.007367418439260683),\n",
            " (82, 0.011516030790160389),\n",
            " (83, 0.09793175554939028),\n",
            " (84, 0.08009666740113215),\n",
            " (85, 0.10265545246668198),\n",
            " (86, 0.012929593818968101),\n",
            " (87, 0.05132772623334099),\n",
            " (88, 0.009092718494517803),\n",
            " (89, 0.015233668041322847),\n",
            " (90, 0.04433828212619729),\n",
            " (91, 0.03933083342213191),\n",
            " (92, 0.012279100406073093),\n",
            " (93, 0.10265545246668198),\n",
            " (94, 0.14075363395565801),\n",
            " (95, 0.05421897495510028),\n",
            " (96, 0.039928433878075646),\n",
            " (97, 0.035518585629954004),\n",
            " (98, 0.013193746840734),\n",
            " (99, 0.03335044501640897),\n",
            " (100, 0.06221747476366473),\n",
            " (101, 0.0850160594741954),\n",
            " (102, 0.031108737381832365),\n",
            " (103, 0.05403940746147314),\n",
            " (104, 0.008960857480126294),\n",
            " (105, 0.013068072310844153),\n",
            " (106, 0.021594763714569264),\n",
            " (107, 0.04433828212619729),\n",
            " (108, 0.010934083665829137),\n",
            " (109, 0.023659332240152778),\n",
            " (110, 0.04433828212619729),\n",
            " (111, 0.04083801993865765),\n",
            " (112, 0.06987565999030104),\n",
            " (113, 0.0166478587404348),\n",
            " (114, 0.018469015965442658),\n",
            " (115, 0.005657344655702627),\n",
            " (116, 0.07214431554079336),\n",
            " (117, 0.10265545246668198),\n",
            " (118, 0.10265545246668198),\n",
            " (119, 0.010349997959946055),\n",
            " (120, 0.013122151033472139),\n",
            " (121, 0.011577263853790029),\n",
            " (122, 0.0809089686540948),\n",
            " (123, 0.009408539805314175),\n",
            " (124, 0.008681599714979399),\n",
            " (125, 0.0020949525206563195),\n",
            " (126, 0.010845720214822666),\n",
            " (127, 0.030008688925886786),\n",
            " (128, 0.0743161024589217),\n",
            " (129, 0.20735392063450983),\n",
            " (130, 0.001442130455600726),\n",
            " (131, 0.028354827435250755),\n",
            " (132, 0.013502566742639449),\n",
            " (133, 0.024390060359009556),\n",
            " (134, 0.07317018107702866),\n",
            " (135, 0.023478568179594532),\n",
            " (136, 0.027206575144738808),\n",
            " (137, 0.01712984916754498),\n",
            " (138, 0.06519002106006812),\n",
            " (139, 0.0027207568429050526),\n",
            " (140, 0.13175595908372784),\n",
            " (141, 0.024577193443851134),\n",
            " (142, 0.05423602952387272),\n",
            " (143, 0.07001869725003347),\n",
            " (144, 0.07985686775615129),\n",
            " (145, 0.15398317870002295),\n",
            " (146, 0.013370705728247938),\n",
            " (147, 0.0938357559704387),\n",
            " (148, 0.010111019021095615),\n",
            " (149, 0.01998021211088791),\n",
            " (150, 0.09413851339845974),\n",
            " (151, 0.08639551941435995),\n",
            " (152, 0.014206274067625028),\n",
            " (153, 0.020263017167009695),\n",
            " (154, 0.011516030790160389),\n",
            " (155, 0.07985686775615129),\n",
            " (156, 0.01872872819694096),\n",
            " (157, 0.03977734002140566),\n",
            " (158, 0.02618965212877345),\n",
            " (159, 0.04722011253950281),\n",
            " (160, 0.10265545246668198),\n",
            " (161, 0.0938357559704387),\n",
            " (162, 0.05638250659672975),\n",
            " (163, 0.024390060359009556),\n",
            " (164, 0.03293898977093196),\n",
            " (165, 0.046429539530618694),\n",
            " (166, 0.049861836487823136),\n",
            " (167, 0.07985686775615129),\n",
            " (168, 0.014689211916480035),\n",
            " (169, 0.110193698772737),\n",
            " (170, 0.018999495281261845),\n",
            " (171, 0.018081179957865373),\n",
            " (172, 0.036961372285219486),\n",
            " (173, 0.010289406395303463),\n",
            " (174, 0.021823754957084558),\n",
            " (175, 0.019280474577858902),\n",
            " (176, 0.008092996225220661),\n",
            " (177, 0.031108737381832365),\n",
            " (178, 0.15430903382450786),\n",
            " (179, 0.03109470911335651),\n",
            " (180, 0.007354732360882496),\n",
            " (181, 0.02683283231673434),\n",
            " (182, 0.01447219016719039),\n",
            " (183, 0.03400737069469017),\n",
            " (184, 0.0034354025537481807),\n",
            " (185, 0.019798426423880487),\n",
            " (186, 0.021779803880651805),\n",
            " (187, 0.07985686775615129),\n",
            " (188, 0.014187698678666783),\n",
            " (189, 0.038400416043259514),\n",
            " (190, 0.004911776732785177),\n",
            " (191, 0.038947717048449584),\n",
            " (192, 0.01715937156947025),\n",
            " (193, 0.021217729355921335),\n",
            " (194, 0.08783545497819828),\n",
            " (195, 0.01839671898064401),\n",
            " (196, 0.0044538765636227134),\n",
            " (197, 0.009843102963575136),\n",
            " (198, 0.040818556007660045),\n",
            " (199, 0.06275900893230649),\n",
            " (200, 0.0038489675874052408),\n",
            " (201, 0.13301484637859187),\n",
            " (202, 0.0938357559704387),\n",
            " (203, 0.0938357559704387),\n",
            " (204, 0.05132772623334099),\n",
            " (205, 0.19500177286162157),\n",
            " (206, 0.043437844799604865),\n",
            " (207, 0.08867656425239458),\n",
            " (208, 0.035009348625016735),\n",
            " (209, 0.017651370528873958),\n",
            " (210, 0.1735407030364527),\n",
            " (211, 0.0108566987614618),\n",
            " (212, 0.008944565368281475),\n",
            " (213, 0.028529141522810313),\n",
            " (214, 0.027514846458213383),\n",
            " (215, 0.055403469823110646),\n",
            " (216, 0.007883007982118294),\n",
            " (217, 0.05132772623334099),\n",
            " (218, 0.0938357559704387),\n",
            " (219, 0.041522046101545876),\n",
            " (220, 0.024672865415131338),\n",
            " (221, 0.02739872211097371),\n",
            " (222, 0.039928433878075646),\n",
            " (223, 0.02402010234823631),\n",
            " (224, 0.004079499729139259),\n",
            " (225, 0.03226867919559423),\n",
            " (226, 0.038984577160972),\n",
            " (227, 0.016593481775230876),\n",
            " (228, 0.044966839617022476),\n",
            " (229, 0.03127979066596329),\n",
            " (230, 0.02284261302603174),\n",
            " (231, 0.019535130939007467),\n",
            " (232, 0.016459330847878394),\n",
            " (233, 0.0363331556217747),\n",
            " (234, 0.06342046177394935),\n",
            " (235, 0.005701170772973971),\n",
            " (236, 0.0042677627377136745)]\n"
          ]
        }
      ]
    },
    {
      "cell_type": "code",
      "source": [],
      "metadata": {
        "id": "eOgwUnYh9QoO"
      },
      "execution_count": null,
      "outputs": []
    },
    {
      "cell_type": "code",
      "source": [
        "with open('tfidf.pkl','wb') as file:\n",
        "  pickle.dump(tfidf,file)"
      ],
      "metadata": {
        "id": "5sYgicYG9Que"
      },
      "execution_count": null,
      "outputs": []
    },
    {
      "cell_type": "code",
      "source": [],
      "metadata": {
        "id": "QT-PK7K99QzO"
      },
      "execution_count": null,
      "outputs": []
    },
    {
      "cell_type": "code",
      "source": [],
      "metadata": {
        "id": "JlNBHxKR9Q5H"
      },
      "execution_count": null,
      "outputs": []
    },
    {
      "cell_type": "code",
      "source": [],
      "metadata": {
        "id": "Lohu5Amk9REG"
      },
      "execution_count": null,
      "outputs": []
    },
    {
      "cell_type": "markdown",
      "source": [
        "#Topic Number"
      ],
      "metadata": {
        "id": "wHjzbIX2JUaG"
      }
    },
    {
      "cell_type": "code",
      "source": [
        "!pip install --upgrade gensim"
      ],
      "metadata": {
        "colab": {
          "base_uri": "https://localhost:8080/"
        },
        "id": "HTEwMi3eLWnO",
        "outputId": "fd6f7374-7149-41d5-f4ec-3440090626ac"
      },
      "execution_count": null,
      "outputs": [
        {
          "output_type": "stream",
          "name": "stdout",
          "text": [
            "Looking in indexes: https://pypi.org/simple, https://us-python.pkg.dev/colab-wheels/public/simple/\n",
            "Requirement already satisfied: gensim in /usr/local/lib/python3.7/dist-packages (4.2.0)\n",
            "Requirement already satisfied: smart-open>=1.8.1 in /usr/local/lib/python3.7/dist-packages (from gensim) (5.2.1)\n",
            "Requirement already satisfied: numpy>=1.17.0 in /usr/local/lib/python3.7/dist-packages (from gensim) (1.21.6)\n",
            "Requirement already satisfied: scipy>=0.18.1 in /usr/local/lib/python3.7/dist-packages (from gensim) (1.7.3)\n"
          ]
        }
      ]
    },
    {
      "cell_type": "code",
      "source": [
        "from gensim import corpora, models, similarities\n",
        "import random\n",
        "import os\n",
        "from gensim.models import CoherenceModel\n",
        "from gensim.models.nmf import Nmf as GensimNmf\n",
        "coherence_val = []\n",
        "topicnums = [1,5,10,15,20,25,30,35,40,45,50,55,60,65,70]\n",
        "project_folder = os.getcwd()\n",
        "\n",
        "nmfmodels_tfidf = {}\n",
        "for i in topicnums:\n",
        "    random.seed(42)\n",
        "    if not os.path.exists(project_folder+'/drive/MyDrive/NMF Notebooks with Coherence/nmf_models_tfidf/nmfmodels_tfidf'+str(i)+'.nmf'):\n",
        "        %time nmfmodels_tfidf[i] = GensimNmf(corpus=corpus_tfidf,num_topics=i,id2word=dictionary,chunksize=2000,passes=5,kappa=.1,minimum_probability=0.01,w_max_iter=300,w_stop_condition=0.0001,h_max_iter=100,h_stop_condition=0.001,eval_every=10,normalize=True,random_state=42)\n",
        "        nmfmodels_tfidf[i].save(project_folder+'/drive/MyDrive/NMF Notebooks with Coherence/nmf_models_tfidf/nmfmodels_tfidf'+str(i)+'.nmf')\n",
        "        print('nmfmodels_tfidf{}.nmf created.'.format(i))\n",
        "        coherence_model_nmf = CoherenceModel(model=nmfmodels_tfidf[i], texts=processed_docs, dictionary=dictionary, coherence='c_v')\n",
        "        coherence_nmf = coherence_model_nmf.get_coherence()\n",
        "        print('Coherence Score: ', coherence_nmf)\n",
        "        coherence_val.append(coherence_nmf)\n",
        "    else: \n",
        "        print('nmfmodels_tfidf{}.nmf already exists.'.format(i))\n",
        "\n"
      ],
      "metadata": {
        "colab": {
          "base_uri": "https://localhost:8080/"
        },
        "id": "BKk3aMclJYx0",
        "outputId": "eafca7ea-2740-49db-c247-986c1c5ba580"
      },
      "execution_count": null,
      "outputs": [
        {
          "output_type": "stream",
          "name": "stdout",
          "text": [
            "CPU times: user 18.2 s, sys: 3.36 s, total: 21.6 s\n",
            "Wall time: 18.7 s\n",
            "nmfmodels_tfidf1.nmf created.\n",
            "Coherence Score:  0.31841834139848707\n",
            "CPU times: user 22.7 s, sys: 5.74 s, total: 28.5 s\n",
            "Wall time: 25.9 s\n",
            "nmfmodels_tfidf5.nmf created.\n",
            "Coherence Score:  0.4105278287908991\n",
            "CPU times: user 29.4 s, sys: 8.89 s, total: 38.3 s\n",
            "Wall time: 29.4 s\n",
            "nmfmodels_tfidf10.nmf created.\n",
            "Coherence Score:  0.49153594607207846\n",
            "CPU times: user 33.6 s, sys: 11.9 s, total: 45.5 s\n",
            "Wall time: 29.9 s\n",
            "nmfmodels_tfidf15.nmf created.\n",
            "Coherence Score:  0.542077169253483\n",
            "CPU times: user 41.9 s, sys: 14.7 s, total: 56.6 s\n",
            "Wall time: 39.1 s\n",
            "nmfmodels_tfidf20.nmf created.\n",
            "Coherence Score:  0.5394696946117653\n",
            "CPU times: user 48.3 s, sys: 19.5 s, total: 1min 7s\n",
            "Wall time: 43.6 s\n",
            "nmfmodels_tfidf25.nmf created.\n",
            "Coherence Score:  0.4934419161135633\n",
            "CPU times: user 59 s, sys: 21.7 s, total: 1min 20s\n",
            "Wall time: 52.2 s\n",
            "nmfmodels_tfidf30.nmf created.\n",
            "Coherence Score:  0.5022046832042941\n",
            "CPU times: user 1min 4s, sys: 24.9 s, total: 1min 29s\n",
            "Wall time: 55 s\n",
            "nmfmodels_tfidf35.nmf created.\n",
            "Coherence Score:  0.5112089170637588\n",
            "CPU times: user 1min 6s, sys: 26.5 s, total: 1min 33s\n",
            "Wall time: 56.6 s\n",
            "nmfmodels_tfidf40.nmf created.\n",
            "Coherence Score:  0.47410936853095703\n",
            "CPU times: user 1min 22s, sys: 33.9 s, total: 1min 56s\n",
            "Wall time: 1min 12s\n",
            "nmfmodels_tfidf45.nmf created.\n",
            "Coherence Score:  0.4772485200472614\n",
            "CPU times: user 1min 32s, sys: 36.4 s, total: 2min 8s\n",
            "Wall time: 1min 19s\n",
            "nmfmodels_tfidf50.nmf created.\n",
            "Coherence Score:  0.45436004720503\n",
            "CPU times: user 1min 44s, sys: 42.4 s, total: 2min 26s\n",
            "Wall time: 1min 27s\n",
            "nmfmodels_tfidf55.nmf created.\n",
            "Coherence Score:  0.4607039219688699\n",
            "CPU times: user 1min 47s, sys: 44.4 s, total: 2min 31s\n",
            "Wall time: 1min 31s\n",
            "nmfmodels_tfidf60.nmf created.\n",
            "Coherence Score:  0.44747326874166365\n",
            "CPU times: user 1min 58s, sys: 49.3 s, total: 2min 47s\n",
            "Wall time: 1min 41s\n",
            "nmfmodels_tfidf65.nmf created.\n",
            "Coherence Score:  0.4464744671682984\n",
            "CPU times: user 2min 16s, sys: 53.6 s, total: 3min 9s\n",
            "Wall time: 1min 52s\n",
            "nmfmodels_tfidf70.nmf created.\n",
            "Coherence Score:  0.4373479458161871\n"
          ]
        }
      ]
    },
    {
      "cell_type": "code",
      "source": [
        "import pickle\n",
        "nmf_topics = {}\n",
        "for i in topicnums:\n",
        "    nmf_model = GensimNmf.load(project_folder+'/drive/MyDrive/NMF Notebooks with Coherence/nmf_models_tfidf/nmfmodels_tfidf'+str(i)+'.nmf')\n",
        "    nmf_topics_string = nmf_model.show_topics(i)\n",
        "    nmf_topics[i] = [\"\".join([c if c.isalpha() else \" \" for c in topic[1]]).split() for topic in nmf_topics_string]\n",
        "\n",
        "pickle.dump(nmf_topics,open(project_folder+'/drive/MyDrive/NMF Notebooks with Coherence/nmf_models_tfidf/pub_nmf_tfidf_topics.pkl','wb'))"
      ],
      "metadata": {
        "id": "IsxBI09uJY1V"
      },
      "execution_count": null,
      "outputs": []
    },
    {
      "cell_type": "code",
      "source": [
        "import matplotlib.pyplot as plt\n",
        "#coherence_val, topicnums\n",
        "plt.scatter(topicnums, coherence_val)\n",
        "plt.show()"
      ],
      "metadata": {
        "colab": {
          "base_uri": "https://localhost:8080/",
          "height": 266
        },
        "id": "fFXmxN8rm1zL",
        "outputId": "52dff045-560e-45b0-c32c-91ba7995a7df"
      },
      "execution_count": null,
      "outputs": [
        {
          "output_type": "display_data",
          "data": {
            "text/plain": [
              "<Figure size 432x288 with 1 Axes>"
            ],
            "image/png": "[encoded data removed]"
          },
          "metadata": {
            "needs_background": "light"
          }
        }
      ]
    },
    {
      "cell_type": "markdown",
      "source": [
        "#Optimal Model"
      ],
      "metadata": {
        "id": "jqwbqJvfUXor"
      }
    },
    {
      "cell_type": "code",
      "source": [
        "num_topics = 15\n",
        "nmf_model_final = GensimNmf.load(project_folder+'/drive/MyDrive/NMF Notebooks with Coherence/nmf_models_tfidf/nmfmodels_tfidf'+str(num_topics)+'.nmf')"
      ],
      "metadata": {
        "id": "vvVb3qf8OrGS"
      },
      "execution_count": null,
      "outputs": []
    },
    {
      "cell_type": "code",
      "source": [
        "from pprint import pprint\n",
        "top_topics = nmf_model_final.top_topics(corpus_tfidf, topn=10)\n",
        "\n",
        "avg_topic_coherence = sum([t[1] for t in top_topics]) / num_topics\n",
        "print('Average topic coherence: %.4f.' % avg_topic_coherence)\n",
        "\n",
        "counter = 0\n",
        "for topic in top_topics:\n",
        "    print('Topic {}:'.format(counter))\n",
        "    counter += 1\n",
        "    pprint(topic)\n",
        "    \n",
        "pickle.dump(nmf_topics,open(project_folder+'/drive/MyDrive/NMF Notebooks with Coherence/nmf_models_tfidf/pub_nmf_tfidf_topics.pkl','wb'))"
      ],
      "metadata": {
        "colab": {
          "base_uri": "https://localhost:8080/"
        },
        "id": "n1B48pDDOrKS",
        "outputId": "b1f1dc26-de49-4aa7-c787-148e4dc3fcb3"
      },
      "execution_count": null,
      "outputs": [
        {
          "output_type": "stream",
          "name": "stdout",
          "text": [
            "Average topic coherence: -2.4406.\n",
            "Topic 0:\n",
            "([(0.04520676687537608, 'cloud'),\n",
            "  (0.02706266155503959, 'security'),\n",
            "  (0.020992462712879585, 'amazon'),\n",
            "  (0.01404226666486435, 'services'),\n",
            "  (0.012477767309863908, 'network'),\n",
            "  (0.012401554980931857, 'computing'),\n",
            "  (0.009980875905216463, 'applications'),\n",
            "  (0.009663229427591595, 'infrastructure'),\n",
            "  (0.009614900227897653, 'google'),\n",
            "  (0.009407223657898483, 'networking')],\n",
            " -1.3857293698317432)\n",
            "Topic 1:\n",
            "([(0.03261082346638622, 'project'),\n",
            "  (0.02835956891464547, 'cybersecurity'),\n",
            "  (0.016697102717404416, 'capstone'),\n",
            "  (0.01445704893283448, 'science'),\n",
            "  (0.012939712636922023, 'projects'),\n",
            "  (0.010701674659051419, 'analysis'),\n",
            "  (0.010213288889904767, 'data'),\n",
            "  (0.010042823847299532, 'visualization'),\n",
            "  (0.00948713151608974, 'engineering'),\n",
            "  (0.008637818495576335, 'systems')],\n",
            " -1.6899061705197163)\n",
            "Topic 2:\n",
            "([(0.013196132545236666, 'business'),\n",
            "  (0.012878416669887403, 'risk'),\n",
            "  (0.012462291468312715, 'value'),\n",
            "  (0.011798643709262178, 'financial'),\n",
            "  (0.011023809529986656, 'market'),\n",
            "  (0.008069087887458653, 'strategy'),\n",
            "  (0.007987917838595768, 'markets'),\n",
            "  (0.007334255056404339, 'pricing'),\n",
            "  (0.007326497233748353, 'finance'),\n",
            "  (0.006877171810413213, 'customer')],\n",
            " -1.7566356398022827)\n",
            "Topic 3:\n",
            "([(0.03261064661343337, 'python'),\n",
            "  (0.009861746359515536, 'models'),\n",
            "  (0.008435144861309158, 'statistical'),\n",
            "  (0.00825677458486388, 'probability'),\n",
            "  (0.007856305852019201, 'statistics'),\n",
            "  (0.00783896181092926, 'functions'),\n",
            "  (0.007838274124089328, 'model'),\n",
            "  (0.007234319160629481, 'test'),\n",
            "  (0.007112996032550607, 'testing'),\n",
            "  (0.0069547222497590286, 'tensorflow')],\n",
            " -1.8828642099410842)\n",
            "Topic 4:\n",
            "([(0.005153914788264777, 'climate'),\n",
            "  (0.004416173016769075, 'change'),\n",
            "  (0.0037614685497397186, 'social'),\n",
            "  (0.0037294532223308926, 'module'),\n",
            "  (0.0033456434681120115, 'china'),\n",
            "  (0.002997892579973878, 'strategy'),\n",
            "  (0.0027951279548377793, 'policy'),\n",
            "  (0.0027108914871539634, 'school'),\n",
            "  (0.0025404228862148078, 'management'),\n",
            "  (0.0024631472402216205, 'scientific')],\n",
            " -1.9099490191716972)\n",
            "Topic 5:\n",
            "([(0.0585775070769301, 'data'),\n",
            "  (0.01759936146122695, 'database'),\n",
            "  (0.017031790497401972, 'machine'),\n",
            "  (0.010781507803946074, 'databases'),\n",
            "  (0.008912967052711013, 'relational'),\n",
            "  (0.00859461415589528, 'learning'),\n",
            "  (0.00742459684178485, 'language'),\n",
            "  (0.007224257800690599, 'predictive'),\n",
            "  (0.007216066397215963, 'tables'),\n",
            "  (0.007198241093718602, 'analytics')],\n",
            " -1.9440356893878263)\n",
            "Topic 6:\n",
            "([(0.018301646064031483, 'healthcare'),\n",
            "  (0.01648497239671912, 'care'),\n",
            "  (0.015688020772051035, 'health'),\n",
            "  (0.008681287274603232, 'patient'),\n",
            "  (0.00797412417006918, 'quality'),\n",
            "  (0.007317449193711125, 'lesson'),\n",
            "  (0.006489294474361611, 'clinical'),\n",
            "  (0.006153678622774061, 'patients'),\n",
            "  (0.005217763793286751, 'medical'),\n",
            "  (0.004840557231293286, 'manufacturing')],\n",
            " -1.9932270814680388)\n",
            "Topic 7:\n",
            "([(0.0318161141366016, 'data'),\n",
            "  (0.027284814002307298, 'machine'),\n",
            "  (0.026790526829327595, 'azure'),\n",
            "  (0.012934274090428773, 'microsoft'),\n",
            "  (0.011321223140056638, 'learning'),\n",
            "  (0.010529591807362827, 'regression'),\n",
            "  (0.009603898013411567, 'analytics'),\n",
            "  (0.00959596183230667, 'algorithms'),\n",
            "  (0.009583676382775021, 'neural'),\n",
            "  (0.009092281719689878, 'exam')],\n",
            " -2.0111631339099225)\n",
            "Topic 8:\n",
            "([(0.009513476600229553, 'leadership'),\n",
            "  (0.007894628076972469, 'able'),\n",
            "  (0.007459348407226381, 'team'),\n",
            "  (0.007320649893132347, 'problem'),\n",
            "  (0.007105094742184951, 'sales'),\n",
            "  (0.006389342348285506, 'thinking'),\n",
            "  (0.005859318304597784, 'problems'),\n",
            "  (0.005701741902196559, 'skills'),\n",
            "  (0.005420877021832114, 'culture'),\n",
            "  (0.0051882667367941625, 'energy')],\n",
            " -2.098644120715834)\n",
            "Topic 9:\n",
            "([(0.020811789114591316, 'design'),\n",
            "  (0.012373394732131768, 'user'),\n",
            "  (0.01010278743389618, 'software'),\n",
            "  (0.009270418376295424, 'javascript'),\n",
            "  (0.008693314174029696, 'code'),\n",
            "  (0.007285061043958491, 'unit'),\n",
            "  (0.007009522858063585, 'programming'),\n",
            "  (0.0067754830813816025, 'html'),\n",
            "  (0.005999266331902713, 'systems'),\n",
            "  (0.005994392373151547, 'linux')],\n",
            " -2.099893700491099)\n",
            "Topic 10:\n",
            "([(0.05925714791674733, 'cloud'),\n",
            "  (0.04415464206473506, 'google'),\n",
            "  (0.010980311142244693, 'blockchain'),\n",
            "  (0.007721491084029809, 'service'),\n",
            "  (0.00748920517961293, 'services'),\n",
            "  (0.007134155035975986, 'infrastructure'),\n",
            "  (0.006613617401508203, 'training'),\n",
            "  (0.006395097858619533, 'computing'),\n",
            "  (0.00636875223005945, 'bigquery'),\n",
            "  (0.006123396053571362, 'technology')],\n",
            " -2.14872307162664)\n",
            "Topic 11:\n",
            "([(0.021287899588801607, 'week'),\n",
            "  (0.01169451465448643, 'digital'),\n",
            "  (0.010476094992613176, 'english'),\n",
            "  (0.00754903096391677, 'online'),\n",
            "  (0.006229296571516289, 'privacy'),\n",
            "  (0.0059180906207754215, 'teaching'),\n",
            "  (0.005880969778244758, 'writing'),\n",
            "  (0.005670567256226522, 'communication'),\n",
            "  (0.005533437544852391, 'presentation'),\n",
            "  (0.005250917885068596, 'content')],\n",
            " -2.186341109135904)\n",
            "Topic 12:\n",
            "([(0.023920129688382124, 'accounting'),\n",
            "  (0.023564721700854333, 'financial'),\n",
            "  (0.011162930195800062, 'excel'),\n",
            "  (0.010527320465461114, 'music'),\n",
            "  (0.010335339028389344, 'statements'),\n",
            "  (0.00877982808984049, 'product'),\n",
            "  (0.00788140479452128, 'week'),\n",
            "  (0.007599125807987438, 'statement'),\n",
            "  (0.007102013597553581, 'cash'),\n",
            "  (0.006876764304918991, 'sheet')],\n",
            " -2.2805622049465772)\n",
            "Topic 13:\n",
            "([(0.10440839075227784, 'marketing'),\n",
            "  (0.02686073973211263, 'digital'),\n",
            "  (0.025209342172601117, 'media'),\n",
            "  (0.019419587644623287, 'meta'),\n",
            "  (0.018619952095090188, 'blockchain'),\n",
            "  (0.015067488405636466, 'analytics'),\n",
            "  (0.013399670854699479, 'campaign'),\n",
            "  (0.01216632911578063, 'advertising'),\n",
            "  (0.010156380394447653, 'brand'),\n",
            "  (0.009629947878573483, 'consumers')],\n",
            " -3.229992990740684)\n",
            "Topic 14:\n",
            "([(0.016890586146154147, 'health'),\n",
            "  (0.011922455831740824, 'game'),\n",
            "  (0.006308359954458119, 'games'),\n",
            "  (0.006064612230334849, 'azure'),\n",
            "  (0.005889938222035968, 'regression'),\n",
            "  (0.005060154854854162, 'social'),\n",
            "  (0.00466342636896377, 'unity'),\n",
            "  (0.0040830227918929015, 'creative'),\n",
            "  (0.003982807404151974, 'creativity'),\n",
            "  (0.0038886249846515853, 'food')],\n",
            " -7.991299790251921)\n"
          ]
        }
      ]
    },
    {
      "cell_type": "code",
      "source": [
        "corpus_nmf_model = nmf_model_final[corpus_tfidf]\n",
        "for article in corpus_nmf_model[0]:\n",
        "    print(article)"
      ],
      "metadata": {
        "colab": {
          "base_uri": "https://localhost:8080/"
        },
        "id": "fUdx_sWcOrOY",
        "outputId": "e20ef0ab-789e-4526-f7e6-565ba0206690"
      },
      "execution_count": null,
      "outputs": [
        {
          "output_type": "stream",
          "name": "stdout",
          "text": [
            "(0, 0.044727680106661595)\n",
            "(1, 0.04890066022423583)\n",
            "(2, 0.21052998176921583)\n",
            "(3, 0.05341623935164988)\n",
            "(4, 0.1352206741098339)\n",
            "(5, 0.04930080625928264)\n",
            "(6, 0.059260085197652676)\n",
            "(8, 0.037401086425410145)\n",
            "(9, 0.013488348275633895)\n",
            "(10, 0.09037351353973398)\n",
            "(11, 0.04324692247491721)\n",
            "(12, 0.027751983543346088)\n",
            "(13, 0.14781927255893745)\n",
            "(14, 0.034702076243147785)\n"
          ]
        }
      ]
    },
    {
      "cell_type": "code",
      "source": [
        "#Recommendet System"
      ],
      "metadata": {
        "id": "M8_5qwDsOrRt"
      },
      "execution_count": null,
      "outputs": []
    },
    {
      "cell_type": "code",
      "source": [
        "index = similarities.MatrixSimilarity(nmf_model_final[corpus_tfidf])"
      ],
      "metadata": {
        "colab": {
          "base_uri": "https://localhost:8080/"
        },
        "id": "hI_58gf9VSTo",
        "outputId": "2e301efc-4cc6-4694-87f5-fffe9f3aeccf"
      },
      "execution_count": null,
      "outputs": [
        {
          "output_type": "stream",
          "name": "stderr",
          "text": [
            "WARNING:gensim.similarities.docsim:scanning corpus to determine the number of features (consider setting `num_features` explicitly)\n"
          ]
        }
      ]
    },
    {
      "cell_type": "code",
      "source": [
        "with open('index.pkl','wb') as file:\n",
        "  pickle.dump(index,file)"
      ],
      "metadata": {
        "id": "0SZthSmcOTjB"
      },
      "execution_count": null,
      "outputs": []
    },
    {
      "cell_type": "code",
      "source": [
        "unseen_document = 'Machine Learning'"
      ],
      "metadata": {
        "id": "Prge44jbEB7X"
      },
      "execution_count": null,
      "outputs": []
    },
    {
      "cell_type": "code",
      "source": [
        "bow_vector = dictionary.doc2bow(preprocess(unseen_document)) \n",
        "tfidf_vector = tfidf[bow_vector]\n",
        "tfidf_vector_ordered = sorted(tfidf_vector, key=lambda x: x[1], reverse=True)\n",
        "print(tfidf_vector_ordered[:10])\n",
        "\n",
        "#bow_vector_ordered = sorted(bow_vector, key=lambda x: x[1], reverse=True)\n",
        "#print(bow_vector_ordered[:10])"
      ],
      "metadata": {
        "id": "4T4RahS3eFAs",
        "colab": {
          "base_uri": "https://localhost:8080/"
        },
        "outputId": "707c7bc5-322a-4921-a7c9-f5ca3e82c2ac"
      },
      "execution_count": null,
      "outputs": [
        {
          "output_type": "stream",
          "name": "stdout",
          "text": [
            "[(2561, 0.9536691529084148), (405, 0.30085735289493354)]\n"
          ]
        }
      ]
    },
    {
      "cell_type": "code",
      "source": [
        "nmf_vector_other = nmf_model_final[tfidf_vector_ordered]\n",
        "#lda_vector_other = lda_model_final[bow_vector_ordered]\n",
        "print(nmf_vector_other)"
      ],
      "metadata": {
        "id": "7nkK0MtBeFDy",
        "colab": {
          "base_uri": "https://localhost:8080/"
        },
        "outputId": "7f300285-39d8-4bef-d54e-552fb6571445"
      },
      "execution_count": null,
      "outputs": [
        {
          "output_type": "stream",
          "name": "stdout",
          "text": [
            "[(5, 0.6839548357212218), (6, 0.03176464044090103), (14, 0.28082366161418654)]\n"
          ]
        }
      ]
    },
    {
      "cell_type": "code",
      "source": [
        "sims = index[nmf_vector_other]\n",
        "sims = list(enumerate(sims))\n",
        "recommendation_scores_1 = []\n",
        "\n"
      ],
      "metadata": {
        "id": "932aS00wn125"
      },
      "execution_count": null,
      "outputs": []
    },
    {
      "cell_type": "code",
      "source": [
        "len(sims)"
      ],
      "metadata": {
        "colab": {
          "base_uri": "https://localhost:8080/"
        },
        "id": "AF4oNaEsn2rs",
        "outputId": "27c67b79-b250-4fb5-ec74-1eee470a6c16"
      },
      "execution_count": null,
      "outputs": [
        {
          "output_type": "execute_result",
          "data": {
            "text/plain": [
              "3190"
            ]
          },
          "metadata": {},
          "execution_count": 164
        }
      ]
    },
    {
      "cell_type": "code",
      "source": [
        "len(course_clean)"
      ],
      "metadata": {
        "colab": {
          "base_uri": "https://localhost:8080/"
        },
        "id": "yk-j7gR1oGYH",
        "outputId": "a3ba2bb3-bbb8-48c4-ab02-c13035b62d76"
      },
      "execution_count": null,
      "outputs": [
        {
          "output_type": "execute_result",
          "data": {
            "text/plain": [
              "3190"
            ]
          },
          "metadata": {},
          "execution_count": 165
        }
      ]
    },
    {
      "cell_type": "code",
      "source": [
        "for sim in sims:\n",
        "    course_num = sim[0]\n",
        "    recommendation_score_1 = [course_clean[course_num], sim[1]]\n",
        "    recommendation_scores_1.append(recommendation_score_1)\n",
        "\n",
        "#recommendation_2 = recommendation_scores_1\n",
        "recommendation_2 = sorted(recommendation_scores_1, key=lambda x: x[1], reverse=True)\n",
        "\n",
        "print(\"Your book's most prominant topic is:\")\n",
        "print(nmf_model_final.print_topic(max(nmf_vector_other, key=lambda item: item[1])[0]))\n",
        "print('-----')\n",
        "print('Here are your recommendations for your book.')\n",
        "display(recommendation_2[:11])"
      ],
      "metadata": {
        "id": "HOLIWXZPeFGa",
        "colab": {
          "base_uri": "https://localhost:8080/",
          "height": 1000
        },
        "outputId": "bcf6e5a6-8b5a-41dd-e975-dc67864df066"
      },
      "execution_count": null,
      "outputs": [
        {
          "output_type": "stream",
          "name": "stdout",
          "text": [
            "Your book's most prominant topic is:\n",
            "0.032*\"data\" + 0.027*\"machine\" + 0.027*\"azure\" + 0.013*\"microsoft\" + 0.011*\"learning\" + 0.011*\"regression\" + 0.010*\"analytics\" + 0.010*\"algorithms\" + 0.010*\"neural\" + 0.009*\"exam\"\n",
            "-----\n",
            "Here are your recommendations for your book.\n"
          ]
        },
        {
          "output_type": "display_data",
          "data": {
            "text/plain": [
              "[['CaliRollB Machine Learning Introduction Everyone CaliRollA Beginner Level Deep Learning Artificial Intelligence AI Machine Learning Reinforcement Learning Machine Learning Model Lifecycle Aije Egwaikhide Yasmine Hemmati This three module course introduces machine learning data science everyone foundational understanding machine learning models You learn history machine learning applications machine learning machine learning model lifecycle tools machine learning You also learn supervised versus unsupervised learning classification regression evaluating machine learning models Our labs give hands experience machine learning data science concepts You develop concrete machine learning skills well create final project demonstrating proficiency IBM global leader business transformation open hybrid cloud platform AI serving clients countries around world Today Fortune Companies rely IBM Cloud run business IBM Watson enterprise AI hard work engagements IBM also one world vital corporate research organizations consecutive years patent leadership Above guided principles trust transparency support inclusive society IBM committed responsible technology innovator force good world Welcome world machine learning Machine learning branch artificial intelligence AI computer science focuses use data algorithms imitate way humans learn gradually improving accuracy Machine learning important component growing field data science Using statistical methods algorithms trained make classifications predictions uncovering key insights within data mining projects These insights subsequently drive decision making within applications businesses ideally impacting key growth metrics As big data continues expand grow market demand data scientists increase requiring assist identification relevant business questions subsequently data answer In module explore fundamental concepts behind machine learning You learn differentiate AI machine deep learning Further also explore importance requirements process lifecycle machine learning product Machine learning hot topic everyone trying understand With amount information machine learning get quickly overwhelmed IBM Skills NetworkEnglish Machine Learning Everyone Machine Learning Topics Optional Honors Final Project Welcome world machine learning Machine learning branch artificial intelligence AI computer science focuses use data algorithms imitate way humans learn gradually improving accuracy n nMachine learning important component growing field data science Using statistical methods algorithms trained make classifications predictions uncovering key insights within data mining projects These insights subsequently drive decision making within applications businesses ideally impacting key growth metrics As big data continues expand grow market demand data scientists increase requiring assist identification relevant business questions subsequently data answer n nIn module explore fundamental concepts behind machine learning You learn differentiate AI machine deep learning Further also explore importance requirements process lifecycle machine learning product Machine learning hot topic everyone trying understand With amount information machine learning get quickly overwhelmed In module explore important topics machine learning need know You dive supervised unsupervised learning classification deep reinforcement learning well regression Further learn evaluate machine learning model Short Course Duration',\n",
              "  0.954265],\n",
              " ['CaliRollB Microsoft Azure Machine Learning Data Scientists CaliRollA Intermediate Level Machine Learning Supervised Learning Regression Analysis regression Microsoft Machine learning core artificial intelligence many modern applications services depend predictive machine learning models Training machine learning model iterative process requires time compute resources Automated machine learning help make easier In course learn use Azure Machine Learning create publish models without writing code This second course five course program prepares take DP Designing Implementing Data Science Solution Azurecertification exam The certification exam opportunity prove knowledge expertise operate machine learning solutions cloud scale using Azure Machine Learning This specialization teaches leverage existing knowledge Python machine learning manage data ingestion preparation model training deployment machine learning solution monitoring Microsoft Azure Each course teaches concepts skills measured exam This Specialization intended data scientists existing knowledge Python machine learning frameworks like Scikit Learn PyTorch Tensorflow want build operate machine learning solutions cloud It teaches data scientists create end end solutions Microsoft Azure Students learn manage Azure resources machine learning run experiments train models deploy operationalize machine learning solutions implement responsible machine learning They also learn use Azure Databricks explore prepare model data integrate Databricks machine learning processes Azure Machine Learning Our goal Microsoft empower every individual organization planet achieve In next revolution digital transformation growth driven technology Our integrated cloud approach creates unmatched platform digital transformation We address real world needs customers seamlessly integrating Microsoft Dynamics LinkedIn GitHub Microsoft Power Platform Azure unlock business value every organization large enterprises family run businesses The backbone foundation Azure Training machine learning model iterative process requires time compute resources Automated machine learning help make easier In module learn identify different kinds machine learning model use automated machine learning capability Azure Machine Learning train deploy predictive model Regression supervised machine learning technique used predict numeric values module learn create regression models using Azure Machine Learning designer Classification supervised machine learning technique used predict categories classes In module learn create classification models using Azure Machine Learning designer Clustering unsupervised machine learning technique used group similar entities based features In module learn create clustering models using Azure Machine Learning designer This Professional Certificate intended data scientists existing knowledge Python machine learning frameworks like Scikit Learn PyTorch Tensorflow want build operate machine learning solutions cloud This Professional Certificate teaches learners create end end solutions Microsoft Azure They learn manage Azure resources machine learning run experiments train models deploy operationalize machine learning solutions implement responsible machine learning They also learn use Azure Databricks explore prepare model data integrate Databricks machine learning processes Azure Machine Learning This program consists courses help prepare take Exam DP Designing Implementing Data Science Solution Azure The certification exam opportunity prove knowledge expertise operate machine learning solutions cloud scale using Azure Machine Learning This Professional Certificate teaches leverage existing knowledge Python machine learning manage data ingestion preparation model training deployment machine learning solution monitoring Microsoft Azure Each course teaches concepts skills measured exam By end program ready take DP Designing Implementing Data Science Solution Azure MicrosoftEnglish Use Automated Machine Learning Azure Machine Learning Create Regression Model Azure Machine Learning Designer Create Classification Model Azure AI Create Clustering Model Azure AI Training machine learning model iterative process requires time compute resources Automated machine learning help make easier In module learn identify different kinds machine learning model use automated machine learning capability Azure Machine Learning train deploy predictive model Regression supervised machine learning technique used predict numeric values module learn create regression models using Azure Machine Learning designer Classification supervised machine learning technique used predict categories classes In module learn create classification models using Azure Machine Learning designer Clustering unsupervised machine learning technique used group similar entities based features In module learn create clustering models using Azure Machine Learning designer Medium Course Duration',\n",
              "  0.9424134],\n",
              " ['CaliRollB Data Warehousing Microsoft Azure Synapse Analytics CaliRollA Intermediate Level Design Modern Data Warehouse using Azure Synapse Analytics Optimize secure data warehouse Design multidimensional schema optimize analytical workloads Manage data warehouse Microsoft In course explore tools techniques used work Modern Data Warehouses productively securely within Azure Synapse Analytics You learn Azure Synapse Analytics enables build Data Warehouses using modern architecture patterns common schema implemented data warehouse You learn best practices need adopt load data data warehouse techniques use optimize query performance within Azure Synapse Analytics Our goal Microsoft empower every individual organization planet achieve In next revolution digital transformation growth driven technology Our integrated cloud approach creates unmatched platform digital transformation We address real world needs customers seamlessly integrating Microsoft Dynamics LinkedIn GitHub Microsoft Power Platform Azure unlock business value every organization large enterprises family run businesses The backbone foundation Azure In module learn Azure Synapse Analytics enables build Data Warehouses using modern architecture patterns In module learn common schema implemented data warehouse In module learn best practices need adopt load data data warehouse techniques use optimize query performance within Azure Synapse Analytics In module learn integrate SQL Apache Spark pools Azure Synapse Analytics You also learn language capabilities available create data warehouses Azure Synapse Analytics This Professional Certificate intended data engineers developers want demonstrate expertise designing implementing data solutions use Microsoft Azure data services anyone interested preparing Exam DP Data Engineering Microsoft Azure This Professional Certificate help develop expertise designing implementing data solutions use Microsoft Azure data services You learn integrate transform consolidate data various structured unstructured data systems structures suitable building analytics solutions use Microsoft Azure data services This program consists courses help prepare take Exam DP Data Engineering Microsoft Azure Each course teaches concepts skills measured exam By end Professional Certificate ready take sign Exam DP Data Engineering Microsoft Azure MicrosoftEnglish Design Modern Data Warehouse using Azure Synapse Analytics Design multidimensional schema optimize analytical workloads Data loading querying Azure Synapse Analytics Integrating pools developer tools Azure Synapse Analytics Manage optimize secure data warehouse Practice Exam Work Data Warehouses using Azure Synapse Analytics In module learn Azure Synapse Analytics enables build Data Warehouses using modern architecture patterns In module learn common schema implemented data warehouse In module learn best practices need adopt load data data warehouse techniques use optimize query performance within Azure Synapse Analytics In module learn integrate SQL Apache Spark pools Azure Synapse Analytics You also learn language capabilities available create data warehouses Azure Synapse Analytics In module learn manage monitor Azure Synapse Analytics You learn analyze information used optimize data warehouse Azure Synapse Analytics approach implement security protect data Azure Synapse Analytics In module take practice exam covers key skills measured Exam DP Data Engineering Microsoft Azure Medium Course Duration',\n",
              "  0.9285275],\n",
              " ['CaliRollB Data Integration Microsoft Azure Data Factory CaliRollA Intermediate Level Create data pipelines cloud Manage data pipelines cloud Integrate data scale Azure Synapse Pipeline Integrate data scale Azure Data Factory Microsoft In course learn create manage data pipelines cloud using Azure Data Factory This course part Specialization intended Data engineers developers want demonstrate expertise designing implementing data solutions use Microsoft Azure data services It ideal anyone interested preparing DP Data Engineering Microsoft Azure exam beta This third course program courses help prepare take exam expertise designing implementing data solutions use Microsoft Azure data services The Data Engineering Microsoft Azure exam opportunity prove knowledge expertise integrating transforming consolidating data various structured unstructured data systems structures suitable building analytics solutions use Microsoft Azure data services Each course teaches concepts skills measured exam By end Specialization ready take sign Exam DP Data Engineering Microsoft Azure beta Our goal Microsoft empower every individual organization planet achieve In next revolution digital transformation growth driven technology Our integrated cloud approach creates unmatched platform digital transformation We address real world needs customers seamlessly integrating Microsoft Dynamics LinkedIn GitHub Microsoft Power Platform Azure unlock business value every organization large enterprises family run businesses The backbone foundation Azure Describe core components Azure Data Factory enable create large scale data ingestion solutions cloud Describe various methods used ingest data various data stores using Azure Data Factory Perform common data transformation cleansing activities within Azure Data Factory without using code Implement Slowly Changing Dimension using Azure Data Factory Azure Synapse Pipelines Use Azure Data Factory orchestrate large scale data movement using Azure Data Platform Machine Learning technologies This Professional Certificate intended data engineers developers want demonstrate expertise designing implementing data solutions use Microsoft Azure data services anyone interested preparing Exam DP Data Engineering Microsoft Azure This Professional Certificate help develop expertise designing implementing data solutions use Microsoft Azure data services You learn integrate transform consolidate data various structured unstructured data systems structures suitable building analytics solutions use Microsoft Azure data services This program consists courses help prepare take Exam DP Data Engineering Microsoft Azure Each course teaches concepts skills measured exam By end Professional Certificate ready take sign Exam DP Data Engineering Microsoft Azure MicrosoftEnglish Integrate data Azure Data Factory Azure Synapse Pipeline Petabyte scale ingestion Azure Data Factory Azure Synapse Pipeline Perform code free transformation scale Azure Data Factory Azure Synapse Pipeline Orchestrate data movement transformation Azure Data Factory Azure Synapse Pipeline Execute existing SSIS packages Azure Data Factory Azure Synapse Pipeline Operationalize Azure Data Factory Azure Synapse Pipeline Receive data Azure Data Share transforming Azure Data Factory Course Practice Exam Describe core components Azure Data Factory enable create large scale data ingestion solutions cloud Describe various methods used ingest data various data stores using Azure Data Factory Perform common data transformation cleansing activities within Azure Data Factory without using code Implement Slowly Changing Dimension using Azure Data Factory Azure Synapse Pipelines Use Azure Data Factory orchestrate large scale data movement using Azure Data Platform Machine Learning technologies Integrate SQL Server Integration Services packages Azure Data Factory solution Publish Azure Data Factory work different environments Ingest data Azure Data Share Azure Data Factory pipelines build automated ingestion pipelines Practice Exam Data integration scale Azure Data Factory Azure Synapse Pipeline Medium Course Duration',\n",
              "  0.92733854],\n",
              " ['CaliRollB Perform data science Azure Databricks CaliRollA Intermediate Level Perform machine learning Azure Databricks Work User Defined Function UDF Azure databricks Work DataFrames Azure databricks Use Azure Databricks Apache Spark notebook process large amounts data Build query Delta Lake Microsoft In course learn harness power Apache Spark powerful clusters running Azure Databricks platform run data science workloads cloud This fourth course five course program prepares take DP Designing Implementing Data Science Solution Azurec ertification exam The certification exam opportunity prove knowledge expertise operate machine learning solutions cloud scale using Azure Machine Learning This specialization teaches leverage existing knowledge Python machine learning manage data ingestion preparation model training deployment machine learning solution monitoring Microsoft Azure Each course teaches concepts skills measured exam This Specialization intended data scientists existing knowledge Python machine learning frameworks like Scikit Learn PyTorch Tensorflow want build operate machine learning solutions cloud It teaches data scientists create end end solutions Microsoft Azure Students learn manage Azure resources machine learning run experiments train models deploy operationalize machine learning solutions implement responsible machine learning They also learn use Azure Databricks explore prepare model data integrate Databricks machine learning processes Azure Machine Learning Our goal Microsoft empower every individual organization planet achieve In next revolution digital transformation growth driven technology Our integrated cloud approach creates unmatched platform digital transformation We address real world needs customers seamlessly integrating Microsoft Dynamics LinkedIn GitHub Microsoft Power Platform Azure unlock business value every organization large enterprises family run businesses The backbone foundation Azure In module discover capabilities Azure Databricks Apache Spark notebook processing huge files You come understand Azure Databricks platform identify types tasks well suited Apache Spark You also introduced architecture Azure Databricks Spark Cluster Spark Jobs Azure Databricks supports day day data handling functions reads writes queries In module work large amounts data multiple sources different raw formats You also learn use DataFrame Column Class Azure Databricks apply column level transformations sorts filters aggregations You also use advanced DataFrame functions operations manipulate data apply aggregates perform date time operations Azure Databricks Azure Databricks supports range built SQL functions however sometimes write custom function known User Defined Function UDF In module learn register invoke UDFs You also learn use Delta Lake create append upsert data Apache Spark tables taking advantage built reliability optimizations In module learn use PySpark machine learning package build key components machine learning workflows include exploratory data analysis model training model evaluation You also learn build pipelines common data featurization tasks This Professional Certificate intended data scientists existing knowledge Python machine learning frameworks like Scikit Learn PyTorch Tensorflow want build operate machine learning solutions cloud This Professional Certificate teaches learners create end end solutions Microsoft Azure They learn manage Azure resources machine learning run experiments train models deploy operationalize machine learning solutions implement responsible machine learning They also learn use Azure Databricks explore prepare model data integrate Databricks machine learning processes Azure Machine Learning This program consists courses help prepare take Exam DP Designing Implementing Data Science Solution Azure The certification exam opportunity prove knowledge expertise operate machine learning solutions cloud scale using Azure Machine Learning This Professional Certificate teaches leverage existing knowledge Python machine learning manage data ingestion preparation model training deployment machine learning solution monitoring Microsoft Azure Each course teaches concepts skills measured exam By end program ready take DP Designing Implementing Data Science Solution Azure MicrosoftEnglish Introduction Azure Databricks Working data Azure Databricks Processing data Azure Databricks Get started Databricks machine learning Manage machine learning lifecycles fine tune models Train distributed neural network serve models Azure Machine Learning In module discover capabilities Azure Databricks Apache Spark notebook processing huge files You come understand Azure Databricks platform identify types tasks well suited Apache Spark You also introduced architecture Azure Databricks Spark Cluster Spark Jobs Azure Databricks supports day day data handling functions reads writes queries In module work large amounts data multiple sources different raw formats You also learn use DataFrame Column Class Azure Databricks apply column level transformations sorts filters aggregations You also use advanced DataFrame functions operations manipulate data apply aggregates perform date time operations Azure Databricks Azure Databricks supports range built SQL functions however sometimes write custom function known User Defined Function UDF In module learn register invoke UDFs You also learn use Delta Lake create append upsert data Apache Spark tables taking advantage built reliability optimizations In module learn use PySpark machine learning package build key components machine learning workflows include exploratory data analysis model training model evaluation You also learn build pipelines common data featurization tasks In module learn use MLflow track machine learning experiments use modules Spark machine learning library hyperparameter tuning model selection In module learn use Uber Horovod framework along Petastorm library run distributed deep learning training jobs Spark using training datasets Apache Parquet format You also learn use MLflow Azure Machine Learning service register package deploy trained model Azure Container Instance Azure Kubernetes Service scoring web service Medium Course Duration',\n",
              "  0.9272194],\n",
              " ['CaliRollB Build Operate Machine Learning Solutions Azure CaliRollA Intermediate Level Work Data Compute Azure Machine Learning Use Azure Machine Learning SDK train model Select models protect sensitive data Orchestrate pipelines deploy real time machine learning services Azure Machine Learning Deploy batch inference pipelines tune hyperparameters Azure Machine Learning Microsoft Azure Machine Learning cloud platform training deploying managing monitoring machine learning models In course learn use Azure Machine Learning Python SDK create manage enterprise ready ML solutions This third course five course program prepares take DP Designing Implementing Data Science Solution Azurecertification exam The certification exam opportunity prove knowledge expertise operate machine learning solutions cloud scale using Azure Machine Learning This specialization teaches leverage existing knowledge Python machine learning manage data ingestion preparation model training deployment machine learning solution monitoring Microsoft Azure Each course teaches concepts skills measured exam This Specialization intended data scientists existing knowledge Python machine learning frameworks like Scikit Learn PyTorch Tensorflow want build operate machine learning solutions cloud It teaches data scientists create end end solutions Microsoft Azure Students learn manage Azure resources machine learning run experiments train models deploy operationalize machine learning solutions implement responsible machine learning They also learn use Azure Databricks explore prepare model data integrate Databricks machine learning processes Azure Machine Learning Our goal Microsoft empower every individual organization planet achieve In next revolution digital transformation growth driven technology Our integrated cloud approach creates unmatched platform digital transformation We address real world needs customers seamlessly integrating Microsoft Dynamics LinkedIn GitHub Microsoft Power Platform Azure unlock business value every organization large enterprises family run businesses The backbone foundation Azure Azure Machine Learning provides cloud based platform training deploying managing machine learning models In module learn provision Azure Machine Learning workspace You use tools interfaces work Azure Machine Learning run code based experiments Azure Machine Learning workspace finally learn use Azure Machine Learning train model register workspace Data foundation machine learning In module learn work datastores datasets Azure Machine Learning enabling build scalable cloud based model training solutions You also learn use cloud compute Azure Machine Learning run training experiments scale Orchestrating machine learning training pipelines key element DevOps machine learning In module learn create publish run pipelines train models Azure Machine Learning You also learn register deploy ML models Azure Machine Learning service Machine learning models often used generate predictions large numbers observations batch process You accomplish using Azure Machine Learning publish batch inference pipeline You also leverage cloud scale experiments choose optimal hyperparameter values model training This Professional Certificate intended data scientists existing knowledge Python machine learning frameworks like Scikit Learn PyTorch Tensorflow want build operate machine learning solutions cloud This Professional Certificate teaches learners create end end solutions Microsoft Azure They learn manage Azure resources machine learning run experiments train models deploy operationalize machine learning solutions implement responsible machine learning They also learn use Azure Databricks explore prepare model data integrate Databricks machine learning processes Azure Machine Learning This program consists courses help prepare take Exam DP Designing Implementing Data Science Solution Azure The certification exam opportunity prove knowledge expertise operate machine learning solutions cloud scale using Azure Machine Learning This Professional Certificate teaches leverage existing knowledge Python machine learning manage data ingestion preparation model training deployment machine learning solution monitoring Microsoft Azure Each course teaches concepts skills measured exam By end program ready take DP Designing Implementing Data Science Solution Azure MicrosoftEnglish Use Azure Machine Learning SDK train model Work Data Compute Azure Machine Learning Orchestrate pipelines deploy real time machine learning services Azure Machine Learning Deploy batch inference pipelines tune hyperparameters Azure Machine Learning Select models protect sensitive data Monitor machine learning deployments Azure Machine Learning provides cloud based platform training deploying managing machine learning models In module learn provision Azure Machine Learning workspace You use tools interfaces work Azure Machine Learning run code based experiments Azure Machine Learning workspace finally learn use Azure Machine Learning train model register workspace Data foundation machine learning In module learn work datastores datasets Azure Machine Learning enabling build scalable cloud based model training solutions You also learn use cloud compute Azure Machine Learning run training experiments scale Orchestrating machine learning training pipelines key element DevOps machine learning In module learn create publish run pipelines train models Azure Machine Learning You also learn register deploy ML models Azure Machine Learning service Machine learning models often used generate predictions large numbers observations batch process You accomplish using Azure Machine Learning publish batch inference pipeline You also leverage cloud scale experiments choose optimal hyperparameter values model training In module learn use automated machine learning Azure Machine Learning find best model data You learn differential privacy leading edge approach enables useful analysis protecting individually identifiable data values You also learn factors influence predictions models make Machine learning models often encapsulate unintentional bias results unfairness In module learn use Fairlearn Azure Machine Learning detect mitigate unfairness models You learn use telemetry understand machine learning model used deployed production Finally learn monitor data drift ensure model continues predict accurately Medium Course Duration',\n",
              "  0.926329],\n",
              " ['CaliRollB Data Engineering MS Azure Synapse Apache Spark Pools CaliRollA Intermediate Level Ingest data using Apache Spark Notebooks Azure Synapse Analytics Transform data using DataFrames Apache Spark Pools Azure Synapse Analytics Monitor manage data engineering workloads Apache Spark Azure Synapse Analytics Integrate SQL Apache Spark pools Azure Synapse Analytics Microsoft In course learn perform data engineering Azure Synapse Apache Spark Pools enable boost performance big data analytic applications memory cluster computing You learn differentiate Apache Spark Azure Databricks HDInsight SQL Pools understand use cases data engineering Apache Spark Azure Synapse Analytics You also learn ingest data using Apache Spark Notebooks Azure Synapse Analytics transform data using DataFrames Apache Spark Pools Azure Synapse Analytics You integrate SQL Apache Spark pools Azure Synapse Analytics You also learn monitor manage data engineering workloads Apache Spark Azure Synapse Analytics This course part Specialization intended Data engineers developers want demonstrate expertise designing implementing data solutions use Microsoft Azure data services anyone interested preparing Exam DP Data Engineering Microsoft Azure beta You take practice exam covers key skills measured certification exam This sixth course program courses help prepare take exam expertise designing implementing data solutions use Microsoft Azure data services The Data Engineering Microsoft Azure exam opportunity prove knowledge expertise integrating transforming consolidating data various structured unstructured data systems structures suitable building analytics solutions use Microsoft Azure data services Each course teaches concepts skills measured exam By end Specialization ready take sign Exam DP Data Engineering Microsoft Azure beta Our goal Microsoft empower every individual organization planet achieve In next revolution digital transformation growth driven technology Our integrated cloud approach creates unmatched platform digital transformation We address real world needs customers seamlessly integrating Microsoft Dynamics LinkedIn GitHub Microsoft Power Platform Azure unlock business value every organization large enterprises family run businesses The backbone foundation Azure In module learn differentiate Apache Spark Azure Databricks HDInsight SQL Pools You also learn ingest data using Apache Spark Notebooks Azure Synapse Analytics transform data using DataFrames Apache Spark Pools Azure Synapse Analytics Integrate SQL Apach Spark pools Azure Synapse Analytics Monitor manage data engineering workloads Apache Spark Azure Synapse Analytics Practice Exam Perform data engineering Azure Synapse Apache Spark Pools This Professional Certificate intended data engineers developers want demonstrate expertise designing implementing data solutions use Microsoft Azure data services anyone interested preparing Exam DP Data Engineering Microsoft Azure This Professional Certificate help develop expertise designing implementing data solutions use Microsoft Azure data services You learn integrate transform consolidate data various structured unstructured data systems structures suitable building analytics solutions use Microsoft Azure data services This program consists courses help prepare take Exam DP Data Engineering Microsoft Azure Each course teaches concepts skills measured exam By end Professional Certificate ready take sign Exam DP Data Engineering Microsoft Azure MicrosoftEnglish Big Data Engineering Query pools manage workloads Azure Synapse Analytics Practice Exam Perform data engineering Azure Synapse Apache Spark Pools In module learn differentiate Apache Spark Azure Databricks HDInsight SQL Pools You also learn ingest data using Apache Spark Notebooks Azure Synapse Analytics transform data using DataFrames Apache Spark Pools Azure Synapse Analytics Integrate SQL Apach Spark pools Azure Synapse Analytics Monitor manage data engineering workloads Apache Spark Azure Synapse Analytics Practice Exam Perform data engineering Azure Synapse Apache Spark Pools Short Course Duration',\n",
              "  0.9262802],\n",
              " ['CaliRollB Microsoft Azure Machine Learning CaliRollA Beginner Level Describe capabilities code machine learning Azure Machine Learning studio Identify core tasks creating machine learning solution Describe core machine learning concepts Identify common machine learning types Microsoft Machine learning core artificial intelligence many modern applications services depend predictive machine learning models Training machine learning model iterative process requires time compute resources Automated machine learning help make easier In course learn use Azure Machine Learning create publish models without writing code This course help prepare Exam AI Microsoft Azure AI Fundamentals This second course five course program prepares take AI certification exam This course teaches core concepts skills assessed AI fundamentals exam domains This beginner course suitable IT personnel beginning work Microsoft Azure want learn Microsoft Azure offerings get hands experience product Microsoft Azure AI Fundamentals used prepare Azure role based certifications like Microsoft Azure Data Scientist Associate Microsoft Azure AI Engineer Associate prerequisite This course intended candidates technical non technical backgrounds Data science software engineering experience required however general programming knowledge experience would beneficial To successful course need basic computer literacy proficiency English language You familiar basic computing concepts terminology general technology concepts including concepts machine learning artificial intelligence Our goal Microsoft empower every individual organization planet achieve In next revolution digital transformation growth driven technology Our integrated cloud approach creates unmatched platform digital transformation We address real world needs customers seamlessly integrating Microsoft Dynamics LinkedIn GitHub Microsoft Power Platform Azure unlock business value every organization large enterprises family run businesses The backbone foundation Azure Training machine learning model iterative process requires time compute resources Automated machine learning help make easier In module learn identify different kinds machine learning model use automated machine learning capability Azure Machine Learning train deploy predictive model Regression supervised machine learning technique used predict numeric values module learn create regression models using Azure Machine Learning designer Classification supervised machine learning technique used predict categories classes In module learn create classification models using Azure Machine Learning designer Clustering unsupervised machine learning technique used group similar entities based features In module learn create clustering models using Azure Machine Learning designer This Specialization intended anyone interested preparing Certified AI Microsoft Azure AI Fundamentals Exam This program consists courses help prepare take certification exam You acquire foundational knowledge core concepts related artificial intelligence AI services Microsoft Azure used create AI solutions This program opportunity demonstrate knowledge common ML AI workloads implement Azure By end program ready take sign AI exam The AI Fundamentals exam opportunity demonstrate knowledge create AI solutions Microsft Azure Each course teaches core concepts skills measured exam Azure AI Fundamentals used prepare Azure role based certifications like Azure Data Scientist Associate Azure AI Engineer Associate prerequisite This Specialization prepare take AI Microsoft Azure AI Fundamentals exam Upon completion Specialization offered discount Microsoft Azure AI Fundamentals Certification Exam redeemed Pearson Vue Microsoft proctor exam site Limited discount vouchers available first come first serve basis Coursera Microsoft may end offer time MicrosoftEnglish Use Automated Machine Learning Azure Machine Learning Create Regression Model Azure Machine Learning Designer Create Classification Model Azure AI Create Clustering Model Azure AI Training machine learning model iterative process requires time compute resources Automated machine learning help make easier In module learn identify different kinds machine learning model use automated machine learning capability Azure Machine Learning train deploy predictive model Regression supervised machine learning technique used predict numeric values module learn create regression models using Azure Machine Learning designer Classification supervised machine learning technique used predict categories classes In module learn create classification models using Azure Machine Learning designer Clustering unsupervised machine learning technique used group similar entities based features In module learn create clustering models using Azure Machine Learning designer Medium Course Duration',\n",
              "  0.923581],\n",
              " ['CaliRollB Introduction Applied Machine Learning CaliRollA Intermediate Level Anna Koop This course professionals heard buzz around machine learning want apply machine learning data analysis automation Whether finance medicine engineering business domains course introduce problem definition data preparation machine learning project By end course able clearly define machine learning problem using two approaches You learn survey available data resources identify potential ML applications You learn take business need turn machine learning application You prepare data effective machine learning applications This first course Applied Machine Learning Specialization brought Coursera Alberta Machine Intelligence Institute The Alberta Machine Intelligence Institute Amii home world top talent machine intelligence We Alberta based research institute pushes bounds academic knowledge guides business understanding artificial intelligence machine learning This week learn machine learning ML actually contrast different problem scenarios explore common misconceptions ML You apply knowledge identifying different components essential machine learning business solution This week learn translate business need machine learning problem We walk applied examples get feel makes well defined question QuAM Narrowing question making sure data necessary learn critical ML success This week data You learn data acquisition understand various sources training data We talk much data need pitfalls might arise including ethical issues This week learn Machine Learning Process Lifecycle MLPL After understanding definitions components MLPL analyze application MLPL case study This specialization professionals heard buzz around machine learning want apply machine learning data analysis automation Whether finance medicine engineering business domains specialization set define train maintain successful machine learning application Alberta Machine Intelligence InstituteEnglish Introduction Machine Learning Applications Machine Learning Real World Learning Data Machine Learning Projects This week learn machine learning ML actually contrast different problem scenarios explore common misconceptions ML You apply knowledge identifying different components essential machine learning business solution This week learn translate business need machine learning problem We walk applied examples get feel makes well defined question QuAM Narrowing question making sure data necessary learn critical ML success This week data You learn data acquisition understand various sources training data We talk much data need pitfalls might arise including ethical issues This week learn Machine Learning Process Lifecycle MLPL After understanding definitions components MLPL analyze application MLPL case study Short Course Duration',\n",
              "  0.92352974],\n",
              " ['CaliRollB Prepare DP Data Science Microsoft Azure Exam CaliRollA Intermediate Level Microsoft Microsoft certifications give professional advantage providing globally recognized industry endorsed evidence mastering skills digital cloud businesses In course prepare take DP Azure Data Scientist Associate certification exam You refresh knowledge plan create suitable working environment data science workloads Azure run data experiments train predictive models In addition recap manage optimize deploy machine learning models production You test knowledge practice exam mapped main topics covered DP exam ensuring well prepared certification success You also get detailed overview Microsoft certification program go next career You also get tips tricks testing strategies useful resources information sign DP proctored exam By end course ready sign take DP exam This fifth course five course program prepares take DP Designing Implementing Data Science Solution Azure certification exam The certification exam opportunity prove knowledge expertise operate machine learning solutions cloud scale using Azure Machine Learning This specialization teaches leverage existing knowledge Python machine learning manage data ingestion preparation model training deployment machine learning solution monitoring Microsoft Azure Each course teaches concepts skills measured exam This Specialization intended data scientists existing knowledge Python machine learning frameworks like Scikit Learn PyTorch Tensorflow want build operate machine learning solutions cloud It teaches data scientists create end end solutions Microsoft Azure Students learn manage Azure resources machine learning run experiments train models deploy operationalize machine learning solutions implement responsible machine learning They also learn use Azure Databricks explore prepare model data integrate Databricks machine learning processes Azure Machine Learning Our goal Microsoft empower every individual organization planet achieve In next revolution digital transformation growth driven technology Our integrated cloud approach creates unmatched platform digital transformation We address real world needs customers seamlessly integrating Microsoft Dynamics LinkedIn GitHub Microsoft Power Platform Azure unlock business value every organization large enterprises family run businesses The backbone foundation Azure After completing module understanding Microsoft certification pathways role based certifications jobs careers associated certification You also find prepare proctored exam including topics covered exam exam administered exam strategy tips tricks In module review Course Microsoft Azure Data Scientist Associate specialization In module review Course Microsoft Azure Data Scientist Associate specialization In module review Course Microsoft Azure Data Scientist Associate specialization This Professional Certificate intended data scientists existing knowledge Python machine learning frameworks like Scikit Learn PyTorch Tensorflow want build operate machine learning solutions cloud This Professional Certificate teaches learners create end end solutions Microsoft Azure They learn manage Azure resources machine learning run experiments train models deploy operationalize machine learning solutions implement responsible machine learning They also learn use Azure Databricks explore prepare model data integrate Databricks machine learning processes Azure Machine Learning This program consists courses help prepare take Exam DP Designing Implementing Data Science Solution Azure The certification exam opportunity prove knowledge expertise operate machine learning solutions cloud scale using Azure Machine Learning This Professional Certificate teaches leverage existing knowledge Python machine learning manage data ingestion preparation model training deployment machine learning solution monitoring Microsoft Azure Each course teaches concepts skills measured exam By end program ready take DP Designing Implementing Data Science Solution Azure MicrosoftEnglish Prepare DP Designing implementing Data Science Solution Azure Exam Exam preparation Course Exam preparation Course Exam preparation Course Exam preparation Course Final Practice Exam After completing module understanding Microsoft certification pathways role based certifications jobs careers associated certification You also find prepare proctored exam including topics covered exam exam administered exam strategy tips tricks In module review Course Microsoft Azure Data Scientist Associate specialization In module review Course Microsoft Azure Data Scientist Associate specialization In module review Course Microsoft Azure Data Scientist Associate specialization In module review Course Microsoft Azure Data Scientist Associate specialization In module find core concepts weighted skills measured taking full practice exam Following find book certification exam Short Course Duration',\n",
              "  0.922724],\n",
              " ['CaliRollB Developing AI Applications Azure CaliRollA Advanced Level Python Programming Azure AI models Microsoft Team Data Sciences Process Azure Machine Learning Service Azure Machine Learning Workspace Ronald J Daskevich DCS This course introduces concepts Artificial Intelligence Machine learning We discuss machine learning types tasks machine learning algorithms You explore Python popular programming language machine learning solutions including using scientific ecosystem packages help implement machine learning Next course introduces machine learning tools available Microsoft Azure We review standardized approaches data analytics receive specific guidance Microsoft Team Data Science Approach As go course introduce Microsoft pre trained managed machine learning offered REST API suite cognitive services We implement solutions using computer vision API facial recognition API sentiment analysis calling natural language service Using Azure Machine Learning Service create use Azure Machine Learning Worksace Then train model deploy test model cloud Throughout course perform hands exercises practice new AI skills By end course able create implement deploy machine learning models LearnQuest preferred training partner world leading companies organizations government agencies Our team boasts years experience designing developing delivering full suite industry leading technology education classes training solutions across globe Our trainers equipped expert industry experience unparalleled commitment quality facilitate classes offered various delivery formats clients obtain training need need This module introduces Artificial Intelligence Machine learning Next talk machine learning types tasks This leads discussion machine learning algorithms Finally explore python popular language machine learning solutions share scientific ecosystem packages help implement machine learning By end unit able implement machine learning models least one available python machine learning libraries This module introduces machine learning tools available Microsoft Azure It looks standardized approaches developed help data analytics projects successful Finally gives specific guidance Microsoft Team Data Science Approach include roles tasks involved process The exercise end unit points Microsoft documentation implement process DevOps solution This module introduces Microsoft pretrained managed machine learning offered REST API suite cognitive services We specifically implement solutions using computer vision api facial recognition api sentiment analysis calling natural language service This module introduces capabilities Azure Machine Learning Service We explore create reference ML workspace We talk train machine learning model using Azure ML service We talk purpose role experiments runs models Finally talk LearnQuestEnglish Introduction Artificial Intelligence Standardized AI Processes Azure Resources Azure Cognitive APIs Azure Machine Learning Service Model Training Azure Machine Learning Service Model Management Deployment This module introduces Artificial Intelligence Machine learning Next talk machine learning types tasks This leads discussion machine learning algorithms Finally explore python popular language machine learning solutions share scientific ecosystem packages help implement machine learning By end unit able implement machine learning models least one available python machine learning libraries This module introduces machine learning tools available Microsoft Azure It looks standardized approaches developed help data analytics projects successful Finally gives specific guidance Microsoft Team Data Science Approach include roles tasks involved process The exercise end unit points Microsoft documentation implement process DevOps solution This module introduces Microsoft pretrained managed machine learning offered REST API suite cognitive services We specifically implement solutions using computer vision api facial recognition api sentiment analysis calling natural language service This module introduces capabilities Azure Machine Learning Service We explore create reference ML workspace We talk train machine learning model using Azure ML service We talk purpose role experiments runs models Finally talk Azure resources available train machine learning models Exercises unit include creating workspace building compute target executing training run using Azure ML service This module covers connect workspace Next discuss model registry works register trained model locally workspace training run In addition show steps prepare model deployment including identifying dependencies configuring deployment target building container image Finally deploy trained model webservice test sending JSON objects API Medium Course Duration',\n",
              "  0.9204297]]"
            ]
          },
          "metadata": {}
        }
      ]
    },
    {
      "cell_type": "code",
      "source": [
        "len(recommendation_2)"
      ],
      "metadata": {
        "colab": {
          "base_uri": "https://localhost:8080/"
        },
        "id": "Zy4L5bBO0OGH",
        "outputId": "7a59d0b0-2c09-4f26-82a3-e808d36e266a"
      },
      "execution_count": null,
      "outputs": [
        {
          "output_type": "execute_result",
          "data": {
            "text/plain": [
              "3190"
            ]
          },
          "metadata": {},
          "execution_count": 167
        }
      ]
    },
    {
      "cell_type": "code",
      "source": [
        "coursedata2.head()"
      ],
      "metadata": {
        "colab": {
          "base_uri": "https://localhost:8080/",
          "height": 652
        },
        "id": "5f2v5X_ZJMRx",
        "outputId": "7d00f6dc-aaee-423a-e43e-19c6fe134952"
      },
      "execution_count": null,
      "outputs": [
        {
          "output_type": "execute_result",
          "data": {
            "text/plain": [
              "                                        course_title difficulty_level  duration                                             skills                                        instructors                                        description      rating                                  offered_by language                                   syllabus_heading                                   syllabus_details  numeric_difficulty_lvl           duration_label                                      combined_text                                clean_combined_text\n",
              "0                   Cloud Computing Concepts, Part 1   Beginner Level        23  ['Distributed Algorithm', 'Distributed Computi...                                 ['Indranil Gupta']  Cloud computing systems today, whether open-so...  4.4\\nstars  University of Illinois at Urbana-Champaign  English  ['Week 1: Orientation, Introduction to Clouds,...  ['This course is oriented towards learners wit...                       1  Medium Course  Duration   CaliRollB Cloud Computing Concepts, Part 1 Ca...  CaliRollB Cloud Computing Concepts Part CaliRo...\n",
              "1                    The Challenges of Global Health   Beginner Level        20                                                 []                                 ['Dr. David Boyd']  What are the world’s major health challenges? ...  4.8\\nstars                             Duke University  English  ['Getting Started', 'Basic Concepts in Global ...  ['Start here! ', 'This module covers some of t...                       1  Medium Course  Duration   CaliRollB The Challenges of Global Health Cal...  CaliRollB The Challenges Global Health CaliRol...\n",
              "2              Digital Marketing Analytics in Theory   Beginner Level        20  ['Digital Marketing', 'Data Collection', 'Anal...                                  ['Kevin Hartman']  Successfully marketing brands today requires a...  4.5\\nstars  University of Illinois at Urbana-Champaign  English  ['Course Overview and The Day The Geeks Took O...  ['In the orientation, you will become familiar...                       1  Medium Course  Duration   CaliRollB Digital Marketing Analytics in Theo...  CaliRollB Digital Marketing Analytics Theory C...\n",
              "3    Digital Product Management: Modern Fundamentals   Beginner Level        11  ['Product/Market Fit', 'Product Management', '...                                     ['Alex Cowan']  Not so long ago, the job of product manager wa...  4.7\\nstars                      University of Virginia  English  ['Achieving Focus and #Winning', \"Using Today'...  ['As a product manager, you and your team will...                       1  Medium Course  Duration   CaliRollB Digital Product Management: Modern ...  CaliRollB Digital Product Management Modern Fu...\n",
              "7  Grow Your Business with Goldman Sachs 10,000 W...          Unknown         4  ['Opportunity Identification', 'Strategic Thin...  ['Goldman Sachs 10,000 Women', 'Edward David',...  This free online course is one of 10 courses a...  4.8\\nstars                               Goldman Sachs  English  ['Grow Your Business with Goldman Sachs 10,000...  ['In this course, you will identify one specif...                       0    Short Course Duration   CaliRollB Grow Your Business with Goldman Sac...  CaliRollB Grow Your Business Goldman Sachs Wom..."
            ],
            "text/html": [
              "\n",
              "  <div id=\"df-58cf2229-04ca-40f8-bdff-2159a5947d41\">\n",
              "    <div class=\"colab-df-container\">\n",
              "      <div>\n",
              "<style scoped>\n",
              "    .dataframe tbody tr th:only-of-type {\n",
              "        vertical-align: middle;\n",
              "    }\n",
              "\n",
              "    .dataframe tbody tr th {\n",
              "        vertical-align: top;\n",
              "    }\n",
              "\n",
              "    .dataframe thead th {\n",
              "        text-align: right;\n",
              "    }\n",
              "</style>\n",
              "<table border=\"1\" class=\"dataframe\">\n",
              "  <thead>\n",
              "    <tr style=\"text-align: right;\">\n",
              "      <th></th>\n",
              "      <th>course_title</th>\n",
              "      <th>difficulty_level</th>\n",
              "      <th>duration</th>\n",
              "      <th>skills</th>\n",
              "      <th>instructors</th>\n",
              "      <th>description</th>\n",
              "      <th>rating</th>\n",
              "      <th>offered_by</th>\n",
              "      <th>language</th>\n",
              "      <th>syllabus_heading</th>\n",
              "      <th>syllabus_details</th>\n",
              "      <th>numeric_difficulty_lvl</th>\n",
              "      <th>duration_label</th>\n",
              "      <th>combined_text</th>\n",
              "      <th>clean_combined_text</th>\n",
              "    </tr>\n",
              "  </thead>\n",
              "  <tbody>\n",
              "    <tr>\n",
              "      <th>0</th>\n",
              "      <td>Cloud Computing Concepts, Part 1</td>\n",
              "      <td>Beginner Level</td>\n",
              "      <td>23</td>\n",
              "      <td>['Distributed Algorithm', 'Distributed Computi...</td>\n",
              "      <td>['Indranil Gupta']</td>\n",
              "      <td>Cloud computing systems today, whether open-so...</td>\n",
              "      <td>4.4\\nstars</td>\n",
              "      <td>University of Illinois at Urbana-Champaign</td>\n",
              "      <td>English</td>\n",
              "      <td>['Week 1: Orientation, Introduction to Clouds,...</td>\n",
              "      <td>['This course is oriented towards learners wit...</td>\n",
              "      <td>1</td>\n",
              "      <td>Medium Course  Duration</td>\n",
              "      <td>CaliRollB Cloud Computing Concepts, Part 1 Ca...</td>\n",
              "      <td>CaliRollB Cloud Computing Concepts Part CaliRo...</td>\n",
              "    </tr>\n",
              "    <tr>\n",
              "      <th>1</th>\n",
              "      <td>The Challenges of Global Health</td>\n",
              "      <td>Beginner Level</td>\n",
              "      <td>20</td>\n",
              "      <td>[]</td>\n",
              "      <td>['Dr. David Boyd']</td>\n",
              "      <td>What are the world’s major health challenges? ...</td>\n",
              "      <td>4.8\\nstars</td>\n",
              "      <td>Duke University</td>\n",
              "      <td>English</td>\n",
              "      <td>['Getting Started', 'Basic Concepts in Global ...</td>\n",
              "      <td>['Start here! ', 'This module covers some of t...</td>\n",
              "      <td>1</td>\n",
              "      <td>Medium Course  Duration</td>\n",
              "      <td>CaliRollB The Challenges of Global Health Cal...</td>\n",
              "      <td>CaliRollB The Challenges Global Health CaliRol...</td>\n",
              "    </tr>\n",
              "    <tr>\n",
              "      <th>2</th>\n",
              "      <td>Digital Marketing Analytics in Theory</td>\n",
              "      <td>Beginner Level</td>\n",
              "      <td>20</td>\n",
              "      <td>['Digital Marketing', 'Data Collection', 'Anal...</td>\n",
              "      <td>['Kevin Hartman']</td>\n",
              "      <td>Successfully marketing brands today requires a...</td>\n",
              "      <td>4.5\\nstars</td>\n",
              "      <td>University of Illinois at Urbana-Champaign</td>\n",
              "      <td>English</td>\n",
              "      <td>['Course Overview and The Day The Geeks Took O...</td>\n",
              "      <td>['In the orientation, you will become familiar...</td>\n",
              "      <td>1</td>\n",
              "      <td>Medium Course  Duration</td>\n",
              "      <td>CaliRollB Digital Marketing Analytics in Theo...</td>\n",
              "      <td>CaliRollB Digital Marketing Analytics Theory C...</td>\n",
              "    </tr>\n",
              "    <tr>\n",
              "      <th>3</th>\n",
              "      <td>Digital Product Management: Modern Fundamentals</td>\n",
              "      <td>Beginner Level</td>\n",
              "      <td>11</td>\n",
              "      <td>['Product/Market Fit', 'Product Management', '...</td>\n",
              "      <td>['Alex Cowan']</td>\n",
              "      <td>Not so long ago, the job of product manager wa...</td>\n",
              "      <td>4.7\\nstars</td>\n",
              "      <td>University of Virginia</td>\n",
              "      <td>English</td>\n",
              "      <td>['Achieving Focus and #Winning', \"Using Today'...</td>\n",
              "      <td>['As a product manager, you and your team will...</td>\n",
              "      <td>1</td>\n",
              "      <td>Medium Course  Duration</td>\n",
              "      <td>CaliRollB Digital Product Management: Modern ...</td>\n",
              "      <td>CaliRollB Digital Product Management Modern Fu...</td>\n",
              "    </tr>\n",
              "    <tr>\n",
              "      <th>7</th>\n",
              "      <td>Grow Your Business with Goldman Sachs 10,000 W...</td>\n",
              "      <td>Unknown</td>\n",
              "      <td>4</td>\n",
              "      <td>['Opportunity Identification', 'Strategic Thin...</td>\n",
              "      <td>['Goldman Sachs 10,000 Women', 'Edward David',...</td>\n",
              "      <td>This free online course is one of 10 courses a...</td>\n",
              "      <td>4.8\\nstars</td>\n",
              "      <td>Goldman Sachs</td>\n",
              "      <td>English</td>\n",
              "      <td>['Grow Your Business with Goldman Sachs 10,000...</td>\n",
              "      <td>['In this course, you will identify one specif...</td>\n",
              "      <td>0</td>\n",
              "      <td>Short Course Duration</td>\n",
              "      <td>CaliRollB Grow Your Business with Goldman Sac...</td>\n",
              "      <td>CaliRollB Grow Your Business Goldman Sachs Wom...</td>\n",
              "    </tr>\n",
              "  </tbody>\n",
              "</table>\n",
              "</div>\n",
              "      <button class=\"colab-df-convert\" onclick=\"convertToInteractive('df-58cf2229-04ca-40f8-bdff-2159a5947d41')\"\n",
              "              title=\"Convert this dataframe to an interactive table.\"\n",
              "              style=\"display:none;\">\n",
              "        \n",
              "  <svg xmlns=\"http://www.w3.org/2000/svg\" height=\"24px\"viewBox=\"0 0 24 24\"\n",
              "       width=\"24px\">\n",
              "    <path d=\"M0 0h24v24H0V0z\" fill=\"none\"/>\n",
              "    <path d=\"M18.56 5.44l.94 2.06.94-2.06 2.06-.94-2.06-.94-.94-2.06-.94 2.06-2.06.94zm-11 1L8.5 8.5l.94-2.06 2.06-.94-2.06-.94L8.5 2.5l-.94 2.06-2.06.94zm10 10l.94 2.06.94-2.06 2.06-.94-2.06-.94-.94-2.06-.94 2.06-2.06.94z\"/><path d=\"M17.41 7.96l-1.37-1.37c-.4-.4-.92-.59-1.43-.59-.52 0-1.04.2-1.43.59L10.3 9.45l-7.72 7.72c-.78.78-.78 2.05 0 2.83L4 21.41c.39.39.9.59 1.41.59.51 0 1.02-.2 1.41-.59l7.78-7.78 2.81-2.81c.8-.78.8-2.07 0-2.86zM5.41 20L4 18.59l7.72-7.72 1.47 1.35L5.41 20z\"/>\n",
              "  </svg>\n",
              "      </button>\n",
              "      \n",
              "  <style>\n",
              "    .colab-df-container {\n",
              "      display:flex;\n",
              "      flex-wrap:wrap;\n",
              "      gap: 12px;\n",
              "    }\n",
              "\n",
              "    .colab-df-convert {\n",
              "      background-color: #E8F0FE;\n",
              "      border: none;\n",
              "      border-radius: 50%;\n",
              "      cursor: pointer;\n",
              "      display: none;\n",
              "      fill: #1967D2;\n",
              "      height: 32px;\n",
              "      padding: 0 0 0 0;\n",
              "      width: 32px;\n",
              "    }\n",
              "\n",
              "    .colab-df-convert:hover {\n",
              "      background-color: #E2EBFA;\n",
              "      box-shadow: 0px 1px 2px rgba(60, 64, 67, 0.3), 0px 1px 3px 1px rgba(60, 64, 67, 0.15);\n",
              "      fill: #174EA6;\n",
              "    }\n",
              "\n",
              "    [theme=dark] .colab-df-convert {\n",
              "      background-color: #3B4455;\n",
              "      fill: #D2E3FC;\n",
              "    }\n",
              "\n",
              "    [theme=dark] .colab-df-convert:hover {\n",
              "      background-color: #434B5C;\n",
              "      box-shadow: 0px 1px 3px 1px rgba(0, 0, 0, 0.15);\n",
              "      filter: drop-shadow(0px 1px 2px rgba(0, 0, 0, 0.3));\n",
              "      fill: #FFFFFF;\n",
              "    }\n",
              "  </style>\n",
              "\n",
              "      <script>\n",
              "        const buttonEl =\n",
              "          document.querySelector('#df-58cf2229-04ca-40f8-bdff-2159a5947d41 button.colab-df-convert');\n",
              "        buttonEl.style.display =\n",
              "          google.colab.kernel.accessAllowed ? 'block' : 'none';\n",
              "\n",
              "        async function convertToInteractive(key) {\n",
              "          const element = document.querySelector('#df-58cf2229-04ca-40f8-bdff-2159a5947d41');\n",
              "          const dataTable =\n",
              "            await google.colab.kernel.invokeFunction('convertToInteractive',\n",
              "                                                     [key], {});\n",
              "          if (!dataTable) return;\n",
              "\n",
              "          const docLinkHtml = 'Like what you see? Visit the ' +\n",
              "            '<a target=\"_blank\" href=https://colab.research.google.com/notebooks/data_table.ipynb>data table notebook</a>'\n",
              "            + ' to learn more about interactive tables.';\n",
              "          element.innerHTML = '';\n",
              "          dataTable['output_type'] = 'display_data';\n",
              "          await google.colab.output.renderOutput(dataTable, element);\n",
              "          const docLink = document.createElement('div');\n",
              "          docLink.innerHTML = docLinkHtml;\n",
              "          element.appendChild(docLink);\n",
              "        }\n",
              "      </script>\n",
              "    </div>\n",
              "  </div>\n",
              "  "
            ]
          },
          "metadata": {},
          "execution_count": 168
        }
      ]
    },
    {
      "cell_type": "code",
      "source": [
        "import pickle\n",
        "\n",
        "with open('coursedata2.pkl','wb') as file:\n",
        "  pickle.dump(coursedata2,file)"
      ],
      "metadata": {
        "id": "6Bi-3rkbK3s7"
      },
      "execution_count": null,
      "outputs": []
    },
    {
      "cell_type": "code",
      "source": [
        "#recommendation_2[:1]"
      ],
      "metadata": {
        "id": "rK-ymZvHkyAC"
      },
      "execution_count": null,
      "outputs": []
    },
    {
      "cell_type": "code",
      "source": [
        "recommendation_2 = [x[0] for x in recommendation_2]"
      ],
      "metadata": {
        "id": "TLqEGN9LGkx5"
      },
      "execution_count": null,
      "outputs": []
    },
    {
      "cell_type": "code",
      "source": [
        "#result_df=coursedata2[coursedata2[\"clean_combined_text\"].isin(recommendation_2[:12])]"
      ],
      "metadata": {
        "id": "STY1raOAFuku"
      },
      "execution_count": null,
      "outputs": []
    },
    {
      "cell_type": "code",
      "source": [
        "l=coursedata2[\"clean_combined_text\"]"
      ],
      "metadata": {
        "id": "KuK280Vzm9r0"
      },
      "execution_count": null,
      "outputs": []
    },
    {
      "cell_type": "code",
      "source": [
        "print(l)"
      ],
      "metadata": {
        "colab": {
          "base_uri": "https://localhost:8080/"
        },
        "id": "pOYvYII1nIcv",
        "outputId": "7ba01241-129f-4ead-ac6b-b4f6d77a7707"
      },
      "execution_count": null,
      "outputs": [
        {
          "output_type": "stream",
          "name": "stdout",
          "text": [
            "0       CaliRollB Cloud Computing Concepts Part CaliRo...\n",
            "1       CaliRollB The Challenges Global Health CaliRol...\n",
            "2       CaliRollB Digital Marketing Analytics Theory C...\n",
            "3       CaliRollB Digital Product Management Modern Fu...\n",
            "7       CaliRollB Grow Your Business Goldman Sachs Wom...\n",
            "                              ...                        \n",
            "6611    CaliRollB Introduction XR VR AR MR Foundations...\n",
            "6616    CaliRollB Global Adolescent Health CaliRollA B...\n",
            "6617    CaliRollB The Science Training Young Athletes ...\n",
            "6622    CaliRollB Getting Started Mainframe z OS Comma...\n",
            "6634    CaliRollB IBM z OS Rexx Programming CaliRollA ...\n",
            "Name: clean_combined_text, Length: 3190, dtype: object\n"
          ]
        }
      ]
    },
    {
      "cell_type": "code",
      "source": [
        "ids=[]\n",
        "for each in recommendation_2[:12]:\n",
        "  for key,value in enumerate(l):\n",
        "    if each==value:\n",
        "      ids.append(key)\n",
        "\n",
        "print(ids)\n",
        "\n"
      ],
      "metadata": {
        "colab": {
          "base_uri": "https://localhost:8080/"
        },
        "id": "Dd4OTsVolnuq",
        "outputId": "8185fc45-0f11-4c3b-a3c0-f658b40edd41"
      },
      "execution_count": null,
      "outputs": [
        {
          "output_type": "stream",
          "name": "stdout",
          "text": [
            "[1853, 1991, 802, 266, 2218, 369, 759, 1990, 1842, 2302, 876, 772]\n"
          ]
        }
      ]
    },
    {
      "cell_type": "code",
      "source": [],
      "metadata": {
        "id": "PBDEaVjxlD7G"
      },
      "execution_count": null,
      "outputs": []
    },
    {
      "cell_type": "code",
      "source": [
        "coursedata2.iloc[ids]"
      ],
      "metadata": {
        "colab": {
          "base_uri": "https://localhost:8080/",
          "height": 1000
        },
        "id": "tHi2-WYsnq0R",
        "outputId": "c25230e5-4397-4eb5-ebf3-81336f3aa785"
      },
      "execution_count": null,
      "outputs": [
        {
          "output_type": "execute_result",
          "data": {
            "text/plain": [
              "                                           course_title    difficulty_level  duration                                             skills                             instructors                                        description      rating                              offered_by language                                   syllabus_heading                                   syllabus_details  numeric_difficulty_lvl           duration_label                                      combined_text                                clean_combined_text\n",
              "4113         Machine Learning Introduction for Everyone      Beginner Level         7  ['Deep Learning', 'Artificial Intelligence (AI...  ['Aije Egwaikhide', 'Yasmine Hemmati']  This three-module course introduces machine le...  4.5\\nstars                      IBM Skills Network  English  ['Machine Learning for Everyone', 'Machine Lea...  ['Welcome to the world of machine learning.  '...                       1    Short Course Duration   CaliRollB Machine Learning Introduction for E...  CaliRollB Machine Learning Introduction Everyo...\n",
              "4393  Microsoft Azure Machine Learning for Data Scie...  Intermediate Level        11  ['Machine Learning', 'Supervised Learning', 'R...                           ['Microsoft']  Machine learning is at the core of artificial ...  4.6\\nstars                               Microsoft  English  ['Use Automated Machine Learning in Azure Mach...  [\"Training a machine learning model is an iter...                       2  Medium Course  Duration   CaliRollB Microsoft Azure Machine Learning fo...  CaliRollB Microsoft Azure Machine Learning Dat...\n",
              "1610  Data Warehousing with Microsoft Azure Synapse ...  Intermediate Level        15  ['Design a Modern Data Warehouse using Azure S...                           ['Microsoft']  In this course, you will explore the tools and...  4.4\\nstars                               Microsoft  English  ['Design a Modern Data Warehouse using Azure S...  ['In this module, you will learn how Azure Syn...                       2  Medium Course  Duration   CaliRollB Data Warehousing with Microsoft Azu...  CaliRollB Data Warehousing Microsoft Azure Syn...\n",
              "580   Data Integration with Microsoft Azure Data Fac...  Intermediate Level        16  ['Create data pipelines in the cloud', 'Manage...                           ['Microsoft']  In this course, you will learn how to create a...  3.9\\nstars                               Microsoft  English  ['Integrate data with Azure Data Factory or Az...  ['Describe the core components of Azure Data F...                       2  Medium Course  Duration   CaliRollB Data Integration with Microsoft Azu...  CaliRollB Data Integration Microsoft Azure Dat...\n",
              "4831         Perform data science with Azure Databricks  Intermediate Level        26  ['Perform machine learning with Azure Databric...                           ['Microsoft']  In this course, you will learn how to harness ...  4.0\\nstars                               Microsoft  English  ['Introduction to Azure Databricks', 'Working ...  ['In this module, you will discover the capabi...                       2  Medium Course  Duration   CaliRollB Perform data science with Azure Dat...  CaliRollB Perform data science Azure Databrick...\n",
              "745   Build and Operate Machine Learning Solutions w...  Intermediate Level        31  ['Work with Data and Compute in Azure Machine ...                           ['Microsoft']  Azure Machine Learning is a cloud platform for...  4.6\\nstars                               Microsoft  English  ['Use the Azure Machine Learning SDK to train ...  ['Azure Machine Learning provides a cloud-base...                       2  Medium Course  Duration   CaliRollB Build and Operate Machine Learning ...  CaliRollB Build Operate Machine Learning Solut...\n",
              "1535  Data Engineering with MS Azure Synapse Apache ...  Intermediate Level         7  ['Ingest data using Apache Spark Notebooks in ...                           ['Microsoft']  In this course, you will learn how to perform ...  4.0\\nstars                               Microsoft  English  ['Big Data Engineering', 'Query pools and mana...  ['In this module you will learn how to differe...                       2    Short Course Duration   CaliRollB Data Engineering with MS Azure Syna...  CaliRollB Data Engineering MS Azure Synapse Ap...\n",
              "4392                   Microsoft Azure Machine Learning      Beginner Level        11  ['Describe capabilities of no-code machine lea...                           ['Microsoft']  Machine learning is at the core of artificial ...  4.7\\nstars                               Microsoft  English  ['Use Automated Machine Learning in Azure Mach...  [\"Training a machine learning model is an iter...                       1  Medium Course  Duration   CaliRollB Microsoft Azure Machine Learning Ca...  CaliRollB Microsoft Azure Machine Learning Cal...\n",
              "4098           Introduction to Applied Machine Learning  Intermediate Level         7                                                 []                           ['Anna Koop']  This course is for professionals who have hear...  4.7\\nstars  Alberta Machine Intelligence Institute  English  ['Introduction to Machine Learning Application...  ['This week, you will learn about what machine...                       2    Short Course Duration   CaliRollB Introduction to Applied Machine Lea...  CaliRollB Introduction Applied Machine Learnin...\n",
              "4976  Prepare for DP-100: Data Science on Microsoft ...  Intermediate Level         9                                                 []                           ['Microsoft']  Microsoft certifications give you a profession...  4.6\\nstars                               Microsoft  English  ['Prepare for the DP-100: Designing and implem...  ['After completing this module, you will have ...                       2    Short Course Duration   CaliRollB Prepare for DP-100: Data Science on...  CaliRollB Prepare DP Data Science Microsoft Az...\n",
              "1751                Developing AI Applications on Azure      Advanced Level        16  ['Python Programming', 'Azure AI models', 'Mic...            ['Ronald J. Daskevich, DCS']  This course introduces the concepts of Artific...  4.4\\nstars                              LearnQuest  English  ['Introduction to Artificial Intelligence', 'S...  ['This module introduces Artificial Intelligen...                       3  Medium Course  Duration   CaliRollB Developing AI Applications on Azure...  CaliRollB Developing AI Applications Azure Cal...\n",
              "1562                         Data Processing with Azure  Intermediate Level        13  ['Data Analysis', 'Microsoft Azure', 'Big Data...         ['Samant Bali', 'Kenny Mobley']  This Azure training course is designed to equi...  3.7\\nstars                              LearnQuest  English  ['Section 2 - Creating Pipelines and Activitie...  ['Processing big data in real-time is now an o...                       2  Medium Course  Duration   CaliRollB Data Processing with Azure CaliRoll...  CaliRollB Data Processing Azure CaliRollA Inte..."
            ],
            "text/html": [
              "\n",
              "  <div id=\"df-83644bcf-f342-484e-b252-dccdb4b7274d\">\n",
              "    <div class=\"colab-df-container\">\n",
              "      <div>\n",
              "<style scoped>\n",
              "    .dataframe tbody tr th:only-of-type {\n",
              "        vertical-align: middle;\n",
              "    }\n",
              "\n",
              "    .dataframe tbody tr th {\n",
              "        vertical-align: top;\n",
              "    }\n",
              "\n",
              "    .dataframe thead th {\n",
              "        text-align: right;\n",
              "    }\n",
              "</style>\n",
              "<table border=\"1\" class=\"dataframe\">\n",
              "  <thead>\n",
              "    <tr style=\"text-align: right;\">\n",
              "      <th></th>\n",
              "      <th>course_title</th>\n",
              "      <th>difficulty_level</th>\n",
              "      <th>duration</th>\n",
              "      <th>skills</th>\n",
              "      <th>instructors</th>\n",
              "      <th>description</th>\n",
              "      <th>rating</th>\n",
              "      <th>offered_by</th>\n",
              "      <th>language</th>\n",
              "      <th>syllabus_heading</th>\n",
              "      <th>syllabus_details</th>\n",
              "      <th>numeric_difficulty_lvl</th>\n",
              "      <th>duration_label</th>\n",
              "      <th>combined_text</th>\n",
              "      <th>clean_combined_text</th>\n",
              "    </tr>\n",
              "  </thead>\n",
              "  <tbody>\n",
              "    <tr>\n",
              "      <th>4113</th>\n",
              "      <td>Machine Learning Introduction for Everyone</td>\n",
              "      <td>Beginner Level</td>\n",
              "      <td>7</td>\n",
              "      <td>['Deep Learning', 'Artificial Intelligence (AI...</td>\n",
              "      <td>['Aije Egwaikhide', 'Yasmine Hemmati']</td>\n",
              "      <td>This three-module course introduces machine le...</td>\n",
              "      <td>4.5\\nstars</td>\n",
              "      <td>IBM Skills Network</td>\n",
              "      <td>English</td>\n",
              "      <td>['Machine Learning for Everyone', 'Machine Lea...</td>\n",
              "      <td>['Welcome to the world of machine learning.  '...</td>\n",
              "      <td>1</td>\n",
              "      <td>Short Course Duration</td>\n",
              "      <td>CaliRollB Machine Learning Introduction for E...</td>\n",
              "      <td>CaliRollB Machine Learning Introduction Everyo...</td>\n",
              "    </tr>\n",
              "    <tr>\n",
              "      <th>4393</th>\n",
              "      <td>Microsoft Azure Machine Learning for Data Scie...</td>\n",
              "      <td>Intermediate Level</td>\n",
              "      <td>11</td>\n",
              "      <td>['Machine Learning', 'Supervised Learning', 'R...</td>\n",
              "      <td>['Microsoft']</td>\n",
              "      <td>Machine learning is at the core of artificial ...</td>\n",
              "      <td>4.6\\nstars</td>\n",
              "      <td>Microsoft</td>\n",
              "      <td>English</td>\n",
              "      <td>['Use Automated Machine Learning in Azure Mach...</td>\n",
              "      <td>[\"Training a machine learning model is an iter...</td>\n",
              "      <td>2</td>\n",
              "      <td>Medium Course  Duration</td>\n",
              "      <td>CaliRollB Microsoft Azure Machine Learning fo...</td>\n",
              "      <td>CaliRollB Microsoft Azure Machine Learning Dat...</td>\n",
              "    </tr>\n",
              "    <tr>\n",
              "      <th>1610</th>\n",
              "      <td>Data Warehousing with Microsoft Azure Synapse ...</td>\n",
              "      <td>Intermediate Level</td>\n",
              "      <td>15</td>\n",
              "      <td>['Design a Modern Data Warehouse using Azure S...</td>\n",
              "      <td>['Microsoft']</td>\n",
              "      <td>In this course, you will explore the tools and...</td>\n",
              "      <td>4.4\\nstars</td>\n",
              "      <td>Microsoft</td>\n",
              "      <td>English</td>\n",
              "      <td>['Design a Modern Data Warehouse using Azure S...</td>\n",
              "      <td>['In this module, you will learn how Azure Syn...</td>\n",
              "      <td>2</td>\n",
              "      <td>Medium Course  Duration</td>\n",
              "      <td>CaliRollB Data Warehousing with Microsoft Azu...</td>\n",
              "      <td>CaliRollB Data Warehousing Microsoft Azure Syn...</td>\n",
              "    </tr>\n",
              "    <tr>\n",
              "      <th>580</th>\n",
              "      <td>Data Integration with Microsoft Azure Data Fac...</td>\n",
              "      <td>Intermediate Level</td>\n",
              "      <td>16</td>\n",
              "      <td>['Create data pipelines in the cloud', 'Manage...</td>\n",
              "      <td>['Microsoft']</td>\n",
              "      <td>In this course, you will learn how to create a...</td>\n",
              "      <td>3.9\\nstars</td>\n",
              "      <td>Microsoft</td>\n",
              "      <td>English</td>\n",
              "      <td>['Integrate data with Azure Data Factory or Az...</td>\n",
              "      <td>['Describe the core components of Azure Data F...</td>\n",
              "      <td>2</td>\n",
              "      <td>Medium Course  Duration</td>\n",
              "      <td>CaliRollB Data Integration with Microsoft Azu...</td>\n",
              "      <td>CaliRollB Data Integration Microsoft Azure Dat...</td>\n",
              "    </tr>\n",
              "    <tr>\n",
              "      <th>4831</th>\n",
              "      <td>Perform data science with Azure Databricks</td>\n",
              "      <td>Intermediate Level</td>\n",
              "      <td>26</td>\n",
              "      <td>['Perform machine learning with Azure Databric...</td>\n",
              "      <td>['Microsoft']</td>\n",
              "      <td>In this course, you will learn how to harness ...</td>\n",
              "      <td>4.0\\nstars</td>\n",
              "      <td>Microsoft</td>\n",
              "      <td>English</td>\n",
              "      <td>['Introduction to Azure Databricks', 'Working ...</td>\n",
              "      <td>['In this module, you will discover the capabi...</td>\n",
              "      <td>2</td>\n",
              "      <td>Medium Course  Duration</td>\n",
              "      <td>CaliRollB Perform data science with Azure Dat...</td>\n",
              "      <td>CaliRollB Perform data science Azure Databrick...</td>\n",
              "    </tr>\n",
              "    <tr>\n",
              "      <th>745</th>\n",
              "      <td>Build and Operate Machine Learning Solutions w...</td>\n",
              "      <td>Intermediate Level</td>\n",
              "      <td>31</td>\n",
              "      <td>['Work with Data and Compute in Azure Machine ...</td>\n",
              "      <td>['Microsoft']</td>\n",
              "      <td>Azure Machine Learning is a cloud platform for...</td>\n",
              "      <td>4.6\\nstars</td>\n",
              "      <td>Microsoft</td>\n",
              "      <td>English</td>\n",
              "      <td>['Use the Azure Machine Learning SDK to train ...</td>\n",
              "      <td>['Azure Machine Learning provides a cloud-base...</td>\n",
              "      <td>2</td>\n",
              "      <td>Medium Course  Duration</td>\n",
              "      <td>CaliRollB Build and Operate Machine Learning ...</td>\n",
              "      <td>CaliRollB Build Operate Machine Learning Solut...</td>\n",
              "    </tr>\n",
              "    <tr>\n",
              "      <th>1535</th>\n",
              "      <td>Data Engineering with MS Azure Synapse Apache ...</td>\n",
              "      <td>Intermediate Level</td>\n",
              "      <td>7</td>\n",
              "      <td>['Ingest data using Apache Spark Notebooks in ...</td>\n",
              "      <td>['Microsoft']</td>\n",
              "      <td>In this course, you will learn how to perform ...</td>\n",
              "      <td>4.0\\nstars</td>\n",
              "      <td>Microsoft</td>\n",
              "      <td>English</td>\n",
              "      <td>['Big Data Engineering', 'Query pools and mana...</td>\n",
              "      <td>['In this module you will learn how to differe...</td>\n",
              "      <td>2</td>\n",
              "      <td>Short Course Duration</td>\n",
              "      <td>CaliRollB Data Engineering with MS Azure Syna...</td>\n",
              "      <td>CaliRollB Data Engineering MS Azure Synapse Ap...</td>\n",
              "    </tr>\n",
              "    <tr>\n",
              "      <th>4392</th>\n",
              "      <td>Microsoft Azure Machine Learning</td>\n",
              "      <td>Beginner Level</td>\n",
              "      <td>11</td>\n",
              "      <td>['Describe capabilities of no-code machine lea...</td>\n",
              "      <td>['Microsoft']</td>\n",
              "      <td>Machine learning is at the core of artificial ...</td>\n",
              "      <td>4.7\\nstars</td>\n",
              "      <td>Microsoft</td>\n",
              "      <td>English</td>\n",
              "      <td>['Use Automated Machine Learning in Azure Mach...</td>\n",
              "      <td>[\"Training a machine learning model is an iter...</td>\n",
              "      <td>1</td>\n",
              "      <td>Medium Course  Duration</td>\n",
              "      <td>CaliRollB Microsoft Azure Machine Learning Ca...</td>\n",
              "      <td>CaliRollB Microsoft Azure Machine Learning Cal...</td>\n",
              "    </tr>\n",
              "    <tr>\n",
              "      <th>4098</th>\n",
              "      <td>Introduction to Applied Machine Learning</td>\n",
              "      <td>Intermediate Level</td>\n",
              "      <td>7</td>\n",
              "      <td>[]</td>\n",
              "      <td>['Anna Koop']</td>\n",
              "      <td>This course is for professionals who have hear...</td>\n",
              "      <td>4.7\\nstars</td>\n",
              "      <td>Alberta Machine Intelligence Institute</td>\n",
              "      <td>English</td>\n",
              "      <td>['Introduction to Machine Learning Application...</td>\n",
              "      <td>['This week, you will learn about what machine...</td>\n",
              "      <td>2</td>\n",
              "      <td>Short Course Duration</td>\n",
              "      <td>CaliRollB Introduction to Applied Machine Lea...</td>\n",
              "      <td>CaliRollB Introduction Applied Machine Learnin...</td>\n",
              "    </tr>\n",
              "    <tr>\n",
              "      <th>4976</th>\n",
              "      <td>Prepare for DP-100: Data Science on Microsoft ...</td>\n",
              "      <td>Intermediate Level</td>\n",
              "      <td>9</td>\n",
              "      <td>[]</td>\n",
              "      <td>['Microsoft']</td>\n",
              "      <td>Microsoft certifications give you a profession...</td>\n",
              "      <td>4.6\\nstars</td>\n",
              "      <td>Microsoft</td>\n",
              "      <td>English</td>\n",
              "      <td>['Prepare for the DP-100: Designing and implem...</td>\n",
              "      <td>['After completing this module, you will have ...</td>\n",
              "      <td>2</td>\n",
              "      <td>Short Course Duration</td>\n",
              "      <td>CaliRollB Prepare for DP-100: Data Science on...</td>\n",
              "      <td>CaliRollB Prepare DP Data Science Microsoft Az...</td>\n",
              "    </tr>\n",
              "    <tr>\n",
              "      <th>1751</th>\n",
              "      <td>Developing AI Applications on Azure</td>\n",
              "      <td>Advanced Level</td>\n",
              "      <td>16</td>\n",
              "      <td>['Python Programming', 'Azure AI models', 'Mic...</td>\n",
              "      <td>['Ronald J. Daskevich, DCS']</td>\n",
              "      <td>This course introduces the concepts of Artific...</td>\n",
              "      <td>4.4\\nstars</td>\n",
              "      <td>LearnQuest</td>\n",
              "      <td>English</td>\n",
              "      <td>['Introduction to Artificial Intelligence', 'S...</td>\n",
              "      <td>['This module introduces Artificial Intelligen...</td>\n",
              "      <td>3</td>\n",
              "      <td>Medium Course  Duration</td>\n",
              "      <td>CaliRollB Developing AI Applications on Azure...</td>\n",
              "      <td>CaliRollB Developing AI Applications Azure Cal...</td>\n",
              "    </tr>\n",
              "    <tr>\n",
              "      <th>1562</th>\n",
              "      <td>Data Processing with Azure</td>\n",
              "      <td>Intermediate Level</td>\n",
              "      <td>13</td>\n",
              "      <td>['Data Analysis', 'Microsoft Azure', 'Big Data...</td>\n",
              "      <td>['Samant Bali', 'Kenny Mobley']</td>\n",
              "      <td>This Azure training course is designed to equi...</td>\n",
              "      <td>3.7\\nstars</td>\n",
              "      <td>LearnQuest</td>\n",
              "      <td>English</td>\n",
              "      <td>['Section 2 - Creating Pipelines and Activitie...</td>\n",
              "      <td>['Processing big data in real-time is now an o...</td>\n",
              "      <td>2</td>\n",
              "      <td>Medium Course  Duration</td>\n",
              "      <td>CaliRollB Data Processing with Azure CaliRoll...</td>\n",
              "      <td>CaliRollB Data Processing Azure CaliRollA Inte...</td>\n",
              "    </tr>\n",
              "  </tbody>\n",
              "</table>\n",
              "</div>\n",
              "      <button class=\"colab-df-convert\" onclick=\"convertToInteractive('df-83644bcf-f342-484e-b252-dccdb4b7274d')\"\n",
              "              title=\"Convert this dataframe to an interactive table.\"\n",
              "              style=\"display:none;\">\n",
              "        \n",
              "  <svg xmlns=\"http://www.w3.org/2000/svg\" height=\"24px\"viewBox=\"0 0 24 24\"\n",
              "       width=\"24px\">\n",
              "    <path d=\"M0 0h24v24H0V0z\" fill=\"none\"/>\n",
              "    <path d=\"M18.56 5.44l.94 2.06.94-2.06 2.06-.94-2.06-.94-.94-2.06-.94 2.06-2.06.94zm-11 1L8.5 8.5l.94-2.06 2.06-.94-2.06-.94L8.5 2.5l-.94 2.06-2.06.94zm10 10l.94 2.06.94-2.06 2.06-.94-2.06-.94-.94-2.06-.94 2.06-2.06.94z\"/><path d=\"M17.41 7.96l-1.37-1.37c-.4-.4-.92-.59-1.43-.59-.52 0-1.04.2-1.43.59L10.3 9.45l-7.72 7.72c-.78.78-.78 2.05 0 2.83L4 21.41c.39.39.9.59 1.41.59.51 0 1.02-.2 1.41-.59l7.78-7.78 2.81-2.81c.8-.78.8-2.07 0-2.86zM5.41 20L4 18.59l7.72-7.72 1.47 1.35L5.41 20z\"/>\n",
              "  </svg>\n",
              "      </button>\n",
              "      \n",
              "  <style>\n",
              "    .colab-df-container {\n",
              "      display:flex;\n",
              "      flex-wrap:wrap;\n",
              "      gap: 12px;\n",
              "    }\n",
              "\n",
              "    .colab-df-convert {\n",
              "      background-color: #E8F0FE;\n",
              "      border: none;\n",
              "      border-radius: 50%;\n",
              "      cursor: pointer;\n",
              "      display: none;\n",
              "      fill: #1967D2;\n",
              "      height: 32px;\n",
              "      padding: 0 0 0 0;\n",
              "      width: 32px;\n",
              "    }\n",
              "\n",
              "    .colab-df-convert:hover {\n",
              "      background-color: #E2EBFA;\n",
              "      box-shadow: 0px 1px 2px rgba(60, 64, 67, 0.3), 0px 1px 3px 1px rgba(60, 64, 67, 0.15);\n",
              "      fill: #174EA6;\n",
              "    }\n",
              "\n",
              "    [theme=dark] .colab-df-convert {\n",
              "      background-color: #3B4455;\n",
              "      fill: #D2E3FC;\n",
              "    }\n",
              "\n",
              "    [theme=dark] .colab-df-convert:hover {\n",
              "      background-color: #434B5C;\n",
              "      box-shadow: 0px 1px 3px 1px rgba(0, 0, 0, 0.15);\n",
              "      filter: drop-shadow(0px 1px 2px rgba(0, 0, 0, 0.3));\n",
              "      fill: #FFFFFF;\n",
              "    }\n",
              "  </style>\n",
              "\n",
              "      <script>\n",
              "        const buttonEl =\n",
              "          document.querySelector('#df-83644bcf-f342-484e-b252-dccdb4b7274d button.colab-df-convert');\n",
              "        buttonEl.style.display =\n",
              "          google.colab.kernel.accessAllowed ? 'block' : 'none';\n",
              "\n",
              "        async function convertToInteractive(key) {\n",
              "          const element = document.querySelector('#df-83644bcf-f342-484e-b252-dccdb4b7274d');\n",
              "          const dataTable =\n",
              "            await google.colab.kernel.invokeFunction('convertToInteractive',\n",
              "                                                     [key], {});\n",
              "          if (!dataTable) return;\n",
              "\n",
              "          const docLinkHtml = 'Like what you see? Visit the ' +\n",
              "            '<a target=\"_blank\" href=https://colab.research.google.com/notebooks/data_table.ipynb>data table notebook</a>'\n",
              "            + ' to learn more about interactive tables.';\n",
              "          element.innerHTML = '';\n",
              "          dataTable['output_type'] = 'display_data';\n",
              "          await google.colab.output.renderOutput(dataTable, element);\n",
              "          const docLink = document.createElement('div');\n",
              "          docLink.innerHTML = docLinkHtml;\n",
              "          element.appendChild(docLink);\n",
              "        }\n",
              "      </script>\n",
              "    </div>\n",
              "  </div>\n",
              "  "
            ]
          },
          "metadata": {},
          "execution_count": 195
        }
      ]
    },
    {
      "cell_type": "code",
      "source": [
        "coursedata2.to_csv(\"drive/MyDrive/final_coursera_data.csv\")"
      ],
      "metadata": {
        "id": "fb6zsp1cJq2m"
      },
      "execution_count": null,
      "outputs": []
    },
    {
      "cell_type": "code",
      "source": [],
      "metadata": {
        "id": "Ow5UuNOYanKA"
      },
      "execution_count": null,
      "outputs": []
    },
    {
      "cell_type": "code",
      "source": [],
      "metadata": {
        "id": "Dh2nq0pFanNE"
      },
      "execution_count": null,
      "outputs": []
    },
    {
      "cell_type": "code",
      "source": [],
      "metadata": {
        "id": "4X_RT9l9anQM"
      },
      "execution_count": null,
      "outputs": []
    },
    {
      "cell_type": "code",
      "source": [],
      "metadata": {
        "id": "lrg2dXmpanSz"
      },
      "execution_count": null,
      "outputs": []
    },
    {
      "cell_type": "code",
      "source": [],
      "metadata": {
        "id": "2QNYaowGanVr"
      },
      "execution_count": null,
      "outputs": []
    },
    {
      "cell_type": "code",
      "source": [
        "import pandas as pd\n",
        "recommendation_course_name = pd.DataFrame()\n",
        "recommendation_course_name['course_name'] =recommendation_2"
      ],
      "metadata": {
        "id": "pOMR4hHB0XAD"
      },
      "execution_count": null,
      "outputs": []
    },
    {
      "cell_type": "code",
      "source": [
        "recommendation_course_name"
      ],
      "metadata": {
        "colab": {
          "base_uri": "https://localhost:8080/",
          "height": 424
        },
        "id": "TTuj-6Yp0oTR",
        "outputId": "d541d986-1040-4917-c776-b411cb04dfee"
      },
      "execution_count": null,
      "outputs": [
        {
          "output_type": "execute_result",
          "data": {
            "text/plain": [
              "                                            course_name\n",
              "0     CaliRollB Machine Learning Introduction Everyo...\n",
              "1     CaliRollB Microsoft Azure Machine Learning Dat...\n",
              "2     CaliRollB Data Warehousing Microsoft Azure Syn...\n",
              "3     CaliRollB Data Integration Microsoft Azure Dat...\n",
              "4     CaliRollB Perform data science Azure Databrick...\n",
              "...                                                 ...\n",
              "3185  CaliRollB Keamanan IT Pertahanan terhadap Keja...\n",
              "3186  CaliRollB Reliable Cloud Infrastructure Design...\n",
              "3187  CaliRollB Essential Cloud Infrastructure Found...\n",
              "3188  CaliRollB Social Marketing Capstone Project Ca...\n",
              "3189  CaliRollB Story Narrative Development Video Ga...\n",
              "\n",
              "[3190 rows x 1 columns]"
            ],
            "text/html": [
              "\n",
              "  <div id=\"df-6f815e19-1d9f-48b9-9c6b-a8b7964c0129\">\n",
              "    <div class=\"colab-df-container\">\n",
              "      <div>\n",
              "<style scoped>\n",
              "    .dataframe tbody tr th:only-of-type {\n",
              "        vertical-align: middle;\n",
              "    }\n",
              "\n",
              "    .dataframe tbody tr th {\n",
              "        vertical-align: top;\n",
              "    }\n",
              "\n",
              "    .dataframe thead th {\n",
              "        text-align: right;\n",
              "    }\n",
              "</style>\n",
              "<table border=\"1\" class=\"dataframe\">\n",
              "  <thead>\n",
              "    <tr style=\"text-align: right;\">\n",
              "      <th></th>\n",
              "      <th>course_name</th>\n",
              "    </tr>\n",
              "  </thead>\n",
              "  <tbody>\n",
              "    <tr>\n",
              "      <th>0</th>\n",
              "      <td>CaliRollB Machine Learning Introduction Everyo...</td>\n",
              "    </tr>\n",
              "    <tr>\n",
              "      <th>1</th>\n",
              "      <td>CaliRollB Microsoft Azure Machine Learning Dat...</td>\n",
              "    </tr>\n",
              "    <tr>\n",
              "      <th>2</th>\n",
              "      <td>CaliRollB Data Warehousing Microsoft Azure Syn...</td>\n",
              "    </tr>\n",
              "    <tr>\n",
              "      <th>3</th>\n",
              "      <td>CaliRollB Data Integration Microsoft Azure Dat...</td>\n",
              "    </tr>\n",
              "    <tr>\n",
              "      <th>4</th>\n",
              "      <td>CaliRollB Perform data science Azure Databrick...</td>\n",
              "    </tr>\n",
              "    <tr>\n",
              "      <th>...</th>\n",
              "      <td>...</td>\n",
              "    </tr>\n",
              "    <tr>\n",
              "      <th>3185</th>\n",
              "      <td>CaliRollB Keamanan IT Pertahanan terhadap Keja...</td>\n",
              "    </tr>\n",
              "    <tr>\n",
              "      <th>3186</th>\n",
              "      <td>CaliRollB Reliable Cloud Infrastructure Design...</td>\n",
              "    </tr>\n",
              "    <tr>\n",
              "      <th>3187</th>\n",
              "      <td>CaliRollB Essential Cloud Infrastructure Found...</td>\n",
              "    </tr>\n",
              "    <tr>\n",
              "      <th>3188</th>\n",
              "      <td>CaliRollB Social Marketing Capstone Project Ca...</td>\n",
              "    </tr>\n",
              "    <tr>\n",
              "      <th>3189</th>\n",
              "      <td>CaliRollB Story Narrative Development Video Ga...</td>\n",
              "    </tr>\n",
              "  </tbody>\n",
              "</table>\n",
              "<p>3190 rows × 1 columns</p>\n",
              "</div>\n",
              "      <button class=\"colab-df-convert\" onclick=\"convertToInteractive('df-6f815e19-1d9f-48b9-9c6b-a8b7964c0129')\"\n",
              "              title=\"Convert this dataframe to an interactive table.\"\n",
              "              style=\"display:none;\">\n",
              "        \n",
              "  <svg xmlns=\"http://www.w3.org/2000/svg\" height=\"24px\"viewBox=\"0 0 24 24\"\n",
              "       width=\"24px\">\n",
              "    <path d=\"M0 0h24v24H0V0z\" fill=\"none\"/>\n",
              "    <path d=\"M18.56 5.44l.94 2.06.94-2.06 2.06-.94-2.06-.94-.94-2.06-.94 2.06-2.06.94zm-11 1L8.5 8.5l.94-2.06 2.06-.94-2.06-.94L8.5 2.5l-.94 2.06-2.06.94zm10 10l.94 2.06.94-2.06 2.06-.94-2.06-.94-.94-2.06-.94 2.06-2.06.94z\"/><path d=\"M17.41 7.96l-1.37-1.37c-.4-.4-.92-.59-1.43-.59-.52 0-1.04.2-1.43.59L10.3 9.45l-7.72 7.72c-.78.78-.78 2.05 0 2.83L4 21.41c.39.39.9.59 1.41.59.51 0 1.02-.2 1.41-.59l7.78-7.78 2.81-2.81c.8-.78.8-2.07 0-2.86zM5.41 20L4 18.59l7.72-7.72 1.47 1.35L5.41 20z\"/>\n",
              "  </svg>\n",
              "      </button>\n",
              "      \n",
              "  <style>\n",
              "    .colab-df-container {\n",
              "      display:flex;\n",
              "      flex-wrap:wrap;\n",
              "      gap: 12px;\n",
              "    }\n",
              "\n",
              "    .colab-df-convert {\n",
              "      background-color: #E8F0FE;\n",
              "      border: none;\n",
              "      border-radius: 50%;\n",
              "      cursor: pointer;\n",
              "      display: none;\n",
              "      fill: #1967D2;\n",
              "      height: 32px;\n",
              "      padding: 0 0 0 0;\n",
              "      width: 32px;\n",
              "    }\n",
              "\n",
              "    .colab-df-convert:hover {\n",
              "      background-color: #E2EBFA;\n",
              "      box-shadow: 0px 1px 2px rgba(60, 64, 67, 0.3), 0px 1px 3px 1px rgba(60, 64, 67, 0.15);\n",
              "      fill: #174EA6;\n",
              "    }\n",
              "\n",
              "    [theme=dark] .colab-df-convert {\n",
              "      background-color: #3B4455;\n",
              "      fill: #D2E3FC;\n",
              "    }\n",
              "\n",
              "    [theme=dark] .colab-df-convert:hover {\n",
              "      background-color: #434B5C;\n",
              "      box-shadow: 0px 1px 3px 1px rgba(0, 0, 0, 0.15);\n",
              "      filter: drop-shadow(0px 1px 2px rgba(0, 0, 0, 0.3));\n",
              "      fill: #FFFFFF;\n",
              "    }\n",
              "  </style>\n",
              "\n",
              "      <script>\n",
              "        const buttonEl =\n",
              "          document.querySelector('#df-6f815e19-1d9f-48b9-9c6b-a8b7964c0129 button.colab-df-convert');\n",
              "        buttonEl.style.display =\n",
              "          google.colab.kernel.accessAllowed ? 'block' : 'none';\n",
              "\n",
              "        async function convertToInteractive(key) {\n",
              "          const element = document.querySelector('#df-6f815e19-1d9f-48b9-9c6b-a8b7964c0129');\n",
              "          const dataTable =\n",
              "            await google.colab.kernel.invokeFunction('convertToInteractive',\n",
              "                                                     [key], {});\n",
              "          if (!dataTable) return;\n",
              "\n",
              "          const docLinkHtml = 'Like what you see? Visit the ' +\n",
              "            '<a target=\"_blank\" href=https://colab.research.google.com/notebooks/data_table.ipynb>data table notebook</a>'\n",
              "            + ' to learn more about interactive tables.';\n",
              "          element.innerHTML = '';\n",
              "          dataTable['output_type'] = 'display_data';\n",
              "          await google.colab.output.renderOutput(dataTable, element);\n",
              "          const docLink = document.createElement('div');\n",
              "          docLink.innerHTML = docLinkHtml;\n",
              "          element.appendChild(docLink);\n",
              "        }\n",
              "      </script>\n",
              "    </div>\n",
              "  </div>\n",
              "  "
            ]
          },
          "metadata": {},
          "execution_count": 173
        }
      ]
    },
    {
      "cell_type": "code",
      "source": [],
      "metadata": {
        "id": "p6P1o2stlNdc"
      },
      "execution_count": null,
      "outputs": []
    },
    {
      "cell_type": "code",
      "source": [
        "recommendation_course_name['course_name'][:2]"
      ],
      "metadata": {
        "colab": {
          "base_uri": "https://localhost:8080/"
        },
        "id": "kWimn2TL36GH",
        "outputId": "2adb1dce-7b08-4d07-85e6-e808f7213d16"
      },
      "execution_count": null,
      "outputs": [
        {
          "output_type": "execute_result",
          "data": {
            "text/plain": [
              "0    CaliRollB Machine Learning Introduction Everyo...\n",
              "1    CaliRollB Microsoft Azure Machine Learning Dat...\n",
              "Name: course_name, dtype: object"
            ]
          },
          "metadata": {},
          "execution_count": 174
        }
      ]
    },
    {
      "cell_type": "code",
      "source": [
        "import re\n",
        "try :\n",
        "    # here ; and / are our two markers \n",
        "    # in which string can be found. \n",
        "    marker1 = 'CaliRollB'\n",
        "    marker2 = 'CaliRollA'\n",
        "    regexPattern = marker1 + '(.+?)' + marker2\n",
        "    str_found = re.search(regexPattern, str(recommendation_course_name['course_name'][0])).group(1)\n",
        "except AttributeError:\n",
        "    # Attribute error is expected if string \n",
        "    # is not found between given markers\n",
        "    str_found = ' '\n",
        "print(str_found)"
      ],
      "metadata": {
        "colab": {
          "base_uri": "https://localhost:8080/"
        },
        "id": "_lABl8vP30ww",
        "outputId": "81265f5b-6007-4f39-ecf9-3d5678435998"
      },
      "execution_count": null,
      "outputs": [
        {
          "output_type": "stream",
          "name": "stdout",
          "text": [
            " Machine Learning Introduction Everyone \n"
          ]
        }
      ]
    },
    {
      "cell_type": "code",
      "source": [
        "str_found_list = []\n",
        "for i in range(len(recommendation_course_name)):\n",
        "  try :\n",
        "    # here ; and / are our two markers \n",
        "    # in which string can be found. \n",
        "    marker1 = 'CaliRollB'\n",
        "    marker2 = 'CaliRollA'\n",
        "    regexPattern = marker1 + '(.+?)' + marker2\n",
        "    str_found = re.search(regexPattern, str(recommendation_course_name['course_name'][i])).group(1)\n",
        "  except AttributeError:\n",
        "    # Attribute error is expected if string \n",
        "    # is not found between given markers\n",
        "    str_found = ' '\n",
        "  str_found_list.append(str_found)\n"
      ],
      "metadata": {
        "id": "xvU9Afag06re"
      },
      "execution_count": null,
      "outputs": []
    },
    {
      "cell_type": "code",
      "source": [
        "str_found_list[:5]"
      ],
      "metadata": {
        "colab": {
          "base_uri": "https://localhost:8080/"
        },
        "id": "P7VmrOZJ48_f",
        "outputId": "b806c692-93e4-4dc1-b63e-13ff9cd15251"
      },
      "execution_count": null,
      "outputs": [
        {
          "output_type": "execute_result",
          "data": {
            "text/plain": [
              "[' Machine Learning Introduction Everyone ',\n",
              " ' Microsoft Azure Machine Learning Data Scientists ',\n",
              " ' Data Warehousing Microsoft Azure Synapse Analytics ',\n",
              " ' Data Integration Microsoft Azure Data Factory ',\n",
              " ' Perform data science Azure Databricks ']"
            ]
          },
          "metadata": {},
          "execution_count": 177
        }
      ]
    },
    {
      "cell_type": "code",
      "source": [
        "reco_course_list = pd.DataFrame()\n",
        "reco_course_list['course_name'] = str_found_list"
      ],
      "metadata": {
        "id": "7tNBaBjD4-im"
      },
      "execution_count": null,
      "outputs": []
    },
    {
      "cell_type": "code",
      "source": [
        "reco_course_list[:11]"
      ],
      "metadata": {
        "colab": {
          "base_uri": "https://localhost:8080/",
          "height": 394
        },
        "id": "cFuD9JTh5T4s",
        "outputId": "df49bf07-e832-4a03-c171-988a6bc8c676"
      },
      "execution_count": null,
      "outputs": [
        {
          "output_type": "execute_result",
          "data": {
            "text/plain": [
              "                                          course_name\n",
              "0             Machine Learning Introduction Everyone \n",
              "1    Microsoft Azure Machine Learning Data Scienti...\n",
              "2    Data Warehousing Microsoft Azure Synapse Anal...\n",
              "3      Data Integration Microsoft Azure Data Factory \n",
              "4              Perform data science Azure Databricks \n",
              "5     Build Operate Machine Learning Solutions Azure \n",
              "6    Data Engineering MS Azure Synapse Apache Spar...\n",
              "7                   Microsoft Azure Machine Learning \n",
              "8              Introduction Applied Machine Learning \n",
              "9       Prepare DP Data Science Microsoft Azure Exam \n",
              "10                  Developing AI Applications Azure "
            ],
            "text/html": [
              "\n",
              "  <div id=\"df-d86d6170-51aa-44ae-9655-87eba69cf178\">\n",
              "    <div class=\"colab-df-container\">\n",
              "      <div>\n",
              "<style scoped>\n",
              "    .dataframe tbody tr th:only-of-type {\n",
              "        vertical-align: middle;\n",
              "    }\n",
              "\n",
              "    .dataframe tbody tr th {\n",
              "        vertical-align: top;\n",
              "    }\n",
              "\n",
              "    .dataframe thead th {\n",
              "        text-align: right;\n",
              "    }\n",
              "</style>\n",
              "<table border=\"1\" class=\"dataframe\">\n",
              "  <thead>\n",
              "    <tr style=\"text-align: right;\">\n",
              "      <th></th>\n",
              "      <th>course_name</th>\n",
              "    </tr>\n",
              "  </thead>\n",
              "  <tbody>\n",
              "    <tr>\n",
              "      <th>0</th>\n",
              "      <td>Machine Learning Introduction Everyone</td>\n",
              "    </tr>\n",
              "    <tr>\n",
              "      <th>1</th>\n",
              "      <td>Microsoft Azure Machine Learning Data Scienti...</td>\n",
              "    </tr>\n",
              "    <tr>\n",
              "      <th>2</th>\n",
              "      <td>Data Warehousing Microsoft Azure Synapse Anal...</td>\n",
              "    </tr>\n",
              "    <tr>\n",
              "      <th>3</th>\n",
              "      <td>Data Integration Microsoft Azure Data Factory</td>\n",
              "    </tr>\n",
              "    <tr>\n",
              "      <th>4</th>\n",
              "      <td>Perform data science Azure Databricks</td>\n",
              "    </tr>\n",
              "    <tr>\n",
              "      <th>5</th>\n",
              "      <td>Build Operate Machine Learning Solutions Azure</td>\n",
              "    </tr>\n",
              "    <tr>\n",
              "      <th>6</th>\n",
              "      <td>Data Engineering MS Azure Synapse Apache Spar...</td>\n",
              "    </tr>\n",
              "    <tr>\n",
              "      <th>7</th>\n",
              "      <td>Microsoft Azure Machine Learning</td>\n",
              "    </tr>\n",
              "    <tr>\n",
              "      <th>8</th>\n",
              "      <td>Introduction Applied Machine Learning</td>\n",
              "    </tr>\n",
              "    <tr>\n",
              "      <th>9</th>\n",
              "      <td>Prepare DP Data Science Microsoft Azure Exam</td>\n",
              "    </tr>\n",
              "    <tr>\n",
              "      <th>10</th>\n",
              "      <td>Developing AI Applications Azure</td>\n",
              "    </tr>\n",
              "  </tbody>\n",
              "</table>\n",
              "</div>\n",
              "      <button class=\"colab-df-convert\" onclick=\"convertToInteractive('df-d86d6170-51aa-44ae-9655-87eba69cf178')\"\n",
              "              title=\"Convert this dataframe to an interactive table.\"\n",
              "              style=\"display:none;\">\n",
              "        \n",
              "  <svg xmlns=\"http://www.w3.org/2000/svg\" height=\"24px\"viewBox=\"0 0 24 24\"\n",
              "       width=\"24px\">\n",
              "    <path d=\"M0 0h24v24H0V0z\" fill=\"none\"/>\n",
              "    <path d=\"M18.56 5.44l.94 2.06.94-2.06 2.06-.94-2.06-.94-.94-2.06-.94 2.06-2.06.94zm-11 1L8.5 8.5l.94-2.06 2.06-.94-2.06-.94L8.5 2.5l-.94 2.06-2.06.94zm10 10l.94 2.06.94-2.06 2.06-.94-2.06-.94-.94-2.06-.94 2.06-2.06.94z\"/><path d=\"M17.41 7.96l-1.37-1.37c-.4-.4-.92-.59-1.43-.59-.52 0-1.04.2-1.43.59L10.3 9.45l-7.72 7.72c-.78.78-.78 2.05 0 2.83L4 21.41c.39.39.9.59 1.41.59.51 0 1.02-.2 1.41-.59l7.78-7.78 2.81-2.81c.8-.78.8-2.07 0-2.86zM5.41 20L4 18.59l7.72-7.72 1.47 1.35L5.41 20z\"/>\n",
              "  </svg>\n",
              "      </button>\n",
              "      \n",
              "  <style>\n",
              "    .colab-df-container {\n",
              "      display:flex;\n",
              "      flex-wrap:wrap;\n",
              "      gap: 12px;\n",
              "    }\n",
              "\n",
              "    .colab-df-convert {\n",
              "      background-color: #E8F0FE;\n",
              "      border: none;\n",
              "      border-radius: 50%;\n",
              "      cursor: pointer;\n",
              "      display: none;\n",
              "      fill: #1967D2;\n",
              "      height: 32px;\n",
              "      padding: 0 0 0 0;\n",
              "      width: 32px;\n",
              "    }\n",
              "\n",
              "    .colab-df-convert:hover {\n",
              "      background-color: #E2EBFA;\n",
              "      box-shadow: 0px 1px 2px rgba(60, 64, 67, 0.3), 0px 1px 3px 1px rgba(60, 64, 67, 0.15);\n",
              "      fill: #174EA6;\n",
              "    }\n",
              "\n",
              "    [theme=dark] .colab-df-convert {\n",
              "      background-color: #3B4455;\n",
              "      fill: #D2E3FC;\n",
              "    }\n",
              "\n",
              "    [theme=dark] .colab-df-convert:hover {\n",
              "      background-color: #434B5C;\n",
              "      box-shadow: 0px 1px 3px 1px rgba(0, 0, 0, 0.15);\n",
              "      filter: drop-shadow(0px 1px 2px rgba(0, 0, 0, 0.3));\n",
              "      fill: #FFFFFF;\n",
              "    }\n",
              "  </style>\n",
              "\n",
              "      <script>\n",
              "        const buttonEl =\n",
              "          document.querySelector('#df-d86d6170-51aa-44ae-9655-87eba69cf178 button.colab-df-convert');\n",
              "        buttonEl.style.display =\n",
              "          google.colab.kernel.accessAllowed ? 'block' : 'none';\n",
              "\n",
              "        async function convertToInteractive(key) {\n",
              "          const element = document.querySelector('#df-d86d6170-51aa-44ae-9655-87eba69cf178');\n",
              "          const dataTable =\n",
              "            await google.colab.kernel.invokeFunction('convertToInteractive',\n",
              "                                                     [key], {});\n",
              "          if (!dataTable) return;\n",
              "\n",
              "          const docLinkHtml = 'Like what you see? Visit the ' +\n",
              "            '<a target=\"_blank\" href=https://colab.research.google.com/notebooks/data_table.ipynb>data table notebook</a>'\n",
              "            + ' to learn more about interactive tables.';\n",
              "          element.innerHTML = '';\n",
              "          dataTable['output_type'] = 'display_data';\n",
              "          await google.colab.output.renderOutput(dataTable, element);\n",
              "          const docLink = document.createElement('div');\n",
              "          docLink.innerHTML = docLinkHtml;\n",
              "          element.appendChild(docLink);\n",
              "        }\n",
              "      </script>\n",
              "    </div>\n",
              "  </div>\n",
              "  "
            ]
          },
          "metadata": {},
          "execution_count": 179
        }
      ]
    },
    {
      "cell_type": "markdown",
      "source": [
        "#Visualizations"
      ],
      "metadata": {
        "id": "Zk8U3f_xw7b2"
      }
    },
    {
      "cell_type": "code",
      "source": [
        " nmf_coherence_val_bow = [0.3145802268809088,\n",
        " 0.36577173889027814,\n",
        " 0.4047424314319059,\n",
        " 0.39299576450966084,\n",
        " 0.39927810630680666,\n",
        " 0.43446570869249923,\n",
        " 0.40177867024198843,\n",
        " 0.42990443646470994,\n",
        " 0.4230064145016973,\n",
        " 0.40915120617244655,\n",
        " 0.40433615389521693,\n",
        " 0.41216447426586983,\n",
        " 0.41703859566031354,\n",
        " 0.3885476706064307,\n",
        " 0.40812723874633283]"
      ],
      "metadata": {
        "id": "k9H4Y_8S5WEM"
      },
      "execution_count": null,
      "outputs": []
    },
    {
      "cell_type": "code",
      "source": [
        "nmf_coherence_val_tfidf = [0.31841834139848707, 0.4105278287908991,  0.49153594607207846, 0.542077169253483, 0.5394696946117653, 0.4934419161135633, 0.5022046832042941,  0.5112089170637588,  0.47410936853095703, 0.4772485200472614, 0.45436004720503,\n",
        "        0.4607039219688699,  0.44747326874166365, 0.4464744671682984, 0.4373479458161871]"
      ],
      "metadata": {
        "id": "B-WBl3X7qpWt"
      },
      "execution_count": null,
      "outputs": []
    },
    {
      "cell_type": "code",
      "source": [
        "lda_coherence_val_bow = [0.33154806306597806,\n",
        " 0.3782455582518339,\n",
        " 0.3807397736121928,\n",
        " 0.39567519302099463,\n",
        " 0.41872378270731964,\n",
        " 0.40742145778454963,\n",
        " 0.4399491805082882,\n",
        " 0.4364822755618616,\n",
        " 0.43277472426470204,\n",
        " 0.4443917639405443,\n",
        " 0.4254990038332898,\n",
        " 0.44404542360923477,\n",
        " 0.43690138126678274,\n",
        " 0.4425697122343801,\n",
        " 0.43355401156855333]"
      ],
      "metadata": {
        "id": "XndaSbMZWo2R"
      },
      "execution_count": null,
      "outputs": []
    },
    {
      "cell_type": "code",
      "source": [
        "lda_coherence_val_tfidf =[0.31320522629740977, 0.4865744818541165, 0.5792985478425415, 0.5939631874165244, 0.587187963098512, 0.5874316932143413, 0.567978634324987, 0.5465017870286608, 0.581235620752691, 0.5743271031436911,\n",
        "        0.5502400278779385, 0.5384933731201387, 0.5580239793207259, 0.5468898165426236, 0.5471786254763524]"
      ],
      "metadata": {
        "id": "3WnjnyNGWpDe"
      },
      "execution_count": null,
      "outputs": []
    },
    {
      "cell_type": "code",
      "source": [
        "topicnums = [1,5,10,15,20,25,30,35,40,45,50,55,60,65,70]"
      ],
      "metadata": {
        "id": "VZKv_WU0g6ns"
      },
      "execution_count": null,
      "outputs": []
    },
    {
      "cell_type": "code",
      "source": [
        "import matplotlib.pyplot as plt\n",
        "import numpy as np\n",
        "#coherance_val_bow, coherence_val_tfidf,topicnums\n",
        "plt.plot(topicnums,lda_coherence_val_bow, label = 'LDA + BOW' )\n",
        "plt.plot(topicnums,lda_coherence_val_tfidf, label = 'LDA + TF-IDF' )\n",
        "plt.legend()\n",
        "plt.show()"
      ],
      "metadata": {
        "colab": {
          "base_uri": "https://localhost:8080/",
          "height": 265
        },
        "id": "tsTovgJjoMdb",
        "outputId": "d85ff598-ad65-496a-9843-0fc77ae5c4d1"
      },
      "execution_count": null,
      "outputs": [
        {
          "output_type": "display_data",
          "data": {
            "text/plain": [
              "<Figure size 432x288 with 1 Axes>"
            ],
            "image/png": "[encoded data removed]"
          },
          "metadata": {
            "needs_background": "light"
          }
        }
      ]
    },
    {
      "cell_type": "code",
      "source": [
        "svd_coherence_bow = [0.29506118094227707,\n",
        " 0.32741604257305734,\n",
        " 0.3656936299167354,\n",
        " 0.34821401017361503,\n",
        " 0.31137669858440964,\n",
        " 0.3188558997572673,\n",
        " 0.29178490866273704,\n",
        " 0.28525123340408204,\n",
        " 0.286905309967944,\n",
        " 0.2773425075253943,\n",
        " 0.283770220388404,\n",
        " 0.26903864235318126,\n",
        " 0.27008488163150235,\n",
        " 0.2629146136082968,\n",
        " 0.26170011656740244]"
      ],
      "metadata": {
        "id": "x5xONfQpsOiF"
      },
      "execution_count": null,
      "outputs": []
    },
    {
      "cell_type": "code",
      "source": [
        "svd_coherence_tfidf = [0.3383365364146953,\n",
        " 0.4296995053051453,\n",
        " 0.4513375549894586,\n",
        " 0.3974088635051966,\n",
        " 0.3685745210805211,\n",
        " 0.3469473912663723,\n",
        " 0.346822855482052,\n",
        " 0.346794575584143,\n",
        " 0.36798150325631757,\n",
        " 0.35159586913083174,\n",
        " 0.3435026649681819,\n",
        " 0.34848559224734005,\n",
        " 0.3687433669948111,\n",
        " 0.3741140625039322,\n",
        " 0.37117680408748344]"
      ],
      "metadata": {
        "id": "FkzO_6c8woOc"
      },
      "execution_count": null,
      "outputs": []
    },
    {
      "cell_type": "code",
      "source": [
        "import matplotlib.pyplot as plt\n",
        "import numpy as np\n",
        "#coherance_val_bow, coherence_val_tfidf,topicnums\n",
        "plt.plot(topicnums,svd_coherence_bow, label = 'SVD + BOW' )\n",
        "plt.plot(topicnums,svd_coherence_tfidf, label = 'SVD + TF-IDF' )\n",
        "plt.legend()\n",
        "plt.show()"
      ],
      "metadata": {
        "colab": {
          "base_uri": "https://localhost:8080/",
          "height": 265
        },
        "id": "P2KnNEg9wf2J",
        "outputId": "bbfa5abc-2835-42d4-cf51-c0da20744ae7"
      },
      "execution_count": null,
      "outputs": [
        {
          "output_type": "display_data",
          "data": {
            "text/plain": [
              "<Figure size 432x288 with 1 Axes>"
            ],
            "image/png": "[encoded data removed]"
          },
          "metadata": {
            "needs_background": "light"
          }
        }
      ]
    },
    {
      "cell_type": "code",
      "source": [
        "import matplotlib.pyplot as plt\n",
        "import numpy as np\n",
        "#coherance_val_bow, coherence_val_tfidf,topicnums\n",
        "plt.plot(topicnums,nmf_coherence_val_bow, label = 'NMF + BOW' )\n",
        "plt.plot(topicnums,nmf_coherence_val_tfidf, label = 'NMF + TF-IDF' )\n",
        "plt.legend()\n",
        "plt.show()"
      ],
      "metadata": {
        "colab": {
          "base_uri": "https://localhost:8080/",
          "height": 266
        },
        "id": "u2HwKeioYfGA",
        "outputId": "3757f804-cdb1-40f1-c158-fddb05ae3c3a"
      },
      "execution_count": null,
      "outputs": [
        {
          "output_type": "display_data",
          "data": {
            "text/plain": [
              "<Figure size 432x288 with 1 Axes>"
            ],
            "image/png": "[encoded data removed]"
          },
          "metadata": {
            "needs_background": "light"
          }
        }
      ]
    },
    {
      "cell_type": "code",
      "source": [
        "import matplotlib.pyplot as plt\n",
        "import numpy as np\n",
        "#coherance_val_bow, coherence_val_tfidf,topicnums\n",
        "plt.plot(topicnums,lda_coherence_val_bow, label = 'LDA + BOW' )\n",
        "plt.plot(topicnums,lda_coherence_val_tfidf, label = 'LDA + TF-IDF' )\n",
        "plt.plot(topicnums,svd_coherence_bow, label = 'SVD + BOW' )\n",
        "plt.plot(topicnums,svd_coherence_tfidf, label = 'SVD + TF-IDF' )\n",
        "plt.plot(topicnums,nmf_coherence_val_bow, label = 'NMF + BOW' )\n",
        "plt.plot(topicnums,nmf_coherence_val_tfidf, label = 'NMF + TF-IDF' )\n",
        "\n",
        "plt.legend(loc='center left',bbox_to_anchor =(1,0.5))\n",
        "plt.show()"
      ],
      "metadata": {
        "colab": {
          "base_uri": "https://localhost:8080/",
          "height": 265
        },
        "id": "doAMTg-_wzxM",
        "outputId": "9e949694-c2e0-484e-bc0e-1f1cce74ea13"
      },
      "execution_count": null,
      "outputs": [
        {
          "output_type": "display_data",
          "data": {
            "text/plain": [
              "<Figure size 432x288 with 1 Axes>"
            ],
            "image/png": "[encoded data removed]"
          },
          "metadata": {
            "needs_background": "light"
          }
        }
      ]
    },
    {
      "cell_type": "code",
      "source": [],
      "metadata": {
        "id": "85DMc3sy0E5U"
      },
      "execution_count": null,
      "outputs": []
    }
  ]
}