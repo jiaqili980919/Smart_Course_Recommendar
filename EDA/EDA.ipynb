{
  "nbformat": 4,
  "nbformat_minor": 0,
  "metadata": {
    "colab": {
      "provenance": []
    },
    "kernelspec": {
      "name": "python3",
      "display_name": "Python 3"
    },
    "language_info": {
      "name": "python"
    }
  },
  "cells": [
    {
      "cell_type": "code",
      "metadata": {
        "cellView": "form",
        "id": "ByD8auM1SiXL"
      },
      "source": [
        "#@title #Importing libraries & uploading csv file\n",
        "#Importing libraries & uploading csv file"
      ],
      "execution_count": null,
      "outputs": []
    },
    {
      "cell_type": "code",
      "metadata": {
        "id": "Uy_s0CchO6oV"
      },
      "source": [
        "import pandas as pd\n",
        "import numpy as np\n",
        "import matplotlib.pyplot as plt\n",
        "import re\n",
        "import tensorflow as tf"
      ],
      "execution_count": null,
      "outputs": []
    },
    {
      "cell_type": "code",
      "metadata": {
        "colab": {
          "base_uri": "https://localhost:8080/",
          "height": 74
        },
        "id": "UBHbdfEpQht4",
        "outputId": "2c709a62-7b4e-4fed-8aa1-a4cfd2308520"
      },
      "source": [
        "from google.colab import files \n",
        "uploaded = files.upload()\n",
        "import io \n",
        "data = pd.read_csv(io.BytesIO(uploaded['proj_whole_data.csv'])) "
      ],
      "execution_count": null,
      "outputs": [
        {
          "output_type": "display_data",
          "data": {
            "text/plain": [
              "<IPython.core.display.HTML object>"
            ],
            "text/html": [
              "\n",
              "     <input type=\"file\" id=\"files-d6f06586-ef63-46f1-825a-99e219f61945\" name=\"files[]\" multiple disabled\n",
              "        style=\"border:none\" />\n",
              "     <output id=\"result-d6f06586-ef63-46f1-825a-99e219f61945\">\n",
              "      Upload widget is only available when the cell has been executed in the\n",
              "      current browser session. Please rerun this cell to enable.\n",
              "      </output>\n",
              "      <script>// Copyright 2017 Google LLC\n",
              "//\n",
              "// Licensed under the Apache License, Version 2.0 (the \"License\");\n",
              "// you may not use this file except in compliance with the License.\n",
              "// You may obtain a copy of the License at\n",
              "//\n",
              "//      http://www.apache.org/licenses/LICENSE-2.0\n",
              "//\n",
              "// Unless required by applicable law or agreed to in writing, software\n",
              "// distributed under the License is distributed on an \"AS IS\" BASIS,\n",
              "// WITHOUT WARRANTIES OR CONDITIONS OF ANY KIND, either express or implied.\n",
              "// See the License for the specific language governing permissions and\n",
              "// limitations under the License.\n",
              "\n",
              "/**\n",
              " * @fileoverview Helpers for google.colab Python module.\n",
              " */\n",
              "(function(scope) {\n",
              "function span(text, styleAttributes = {}) {\n",
              "  const element = document.createElement('span');\n",
              "  element.textContent = text;\n",
              "  for (const key of Object.keys(styleAttributes)) {\n",
              "    element.style[key] = styleAttributes[key];\n",
              "  }\n",
              "  return element;\n",
              "}\n",
              "\n",
              "// Max number of bytes which will be uploaded at a time.\n",
              "const MAX_PAYLOAD_SIZE = 100 * 1024;\n",
              "\n",
              "function _uploadFiles(inputId, outputId) {\n",
              "  const steps = uploadFilesStep(inputId, outputId);\n",
              "  const outputElement = document.getElementById(outputId);\n",
              "  // Cache steps on the outputElement to make it available for the next call\n",
              "  // to uploadFilesContinue from Python.\n",
              "  outputElement.steps = steps;\n",
              "\n",
              "  return _uploadFilesContinue(outputId);\n",
              "}\n",
              "\n",
              "// This is roughly an async generator (not supported in the browser yet),\n",
              "// where there are multiple asynchronous steps and the Python side is going\n",
              "// to poll for completion of each step.\n",
              "// This uses a Promise to block the python side on completion of each step,\n",
              "// then passes the result of the previous step as the input to the next step.\n",
              "function _uploadFilesContinue(outputId) {\n",
              "  const outputElement = document.getElementById(outputId);\n",
              "  const steps = outputElement.steps;\n",
              "\n",
              "  const next = steps.next(outputElement.lastPromiseValue);\n",
              "  return Promise.resolve(next.value.promise).then((value) => {\n",
              "    // Cache the last promise value to make it available to the next\n",
              "    // step of the generator.\n",
              "    outputElement.lastPromiseValue = value;\n",
              "    return next.value.response;\n",
              "  });\n",
              "}\n",
              "\n",
              "/**\n",
              " * Generator function which is called between each async step of the upload\n",
              " * process.\n",
              " * @param {string} inputId Element ID of the input file picker element.\n",
              " * @param {string} outputId Element ID of the output display.\n",
              " * @return {!Iterable<!Object>} Iterable of next steps.\n",
              " */\n",
              "function* uploadFilesStep(inputId, outputId) {\n",
              "  const inputElement = document.getElementById(inputId);\n",
              "  inputElement.disabled = false;\n",
              "\n",
              "  const outputElement = document.getElementById(outputId);\n",
              "  outputElement.innerHTML = '';\n",
              "\n",
              "  const pickedPromise = new Promise((resolve) => {\n",
              "    inputElement.addEventListener('change', (e) => {\n",
              "      resolve(e.target.files);\n",
              "    });\n",
              "  });\n",
              "\n",
              "  const cancel = document.createElement('button');\n",
              "  inputElement.parentElement.appendChild(cancel);\n",
              "  cancel.textContent = 'Cancel upload';\n",
              "  const cancelPromise = new Promise((resolve) => {\n",
              "    cancel.onclick = () => {\n",
              "      resolve(null);\n",
              "    };\n",
              "  });\n",
              "\n",
              "  // Wait for the user to pick the files.\n",
              "  const files = yield {\n",
              "    promise: Promise.race([pickedPromise, cancelPromise]),\n",
              "    response: {\n",
              "      action: 'starting',\n",
              "    }\n",
              "  };\n",
              "\n",
              "  cancel.remove();\n",
              "\n",
              "  // Disable the input element since further picks are not allowed.\n",
              "  inputElement.disabled = true;\n",
              "\n",
              "  if (!files) {\n",
              "    return {\n",
              "      response: {\n",
              "        action: 'complete',\n",
              "      }\n",
              "    };\n",
              "  }\n",
              "\n",
              "  for (const file of files) {\n",
              "    const li = document.createElement('li');\n",
              "    li.append(span(file.name, {fontWeight: 'bold'}));\n",
              "    li.append(span(\n",
              "        `(${file.type || 'n/a'}) - ${file.size} bytes, ` +\n",
              "        `last modified: ${\n",
              "            file.lastModifiedDate ? file.lastModifiedDate.toLocaleDateString() :\n",
              "                                    'n/a'} - `));\n",
              "    const percent = span('0% done');\n",
              "    li.appendChild(percent);\n",
              "\n",
              "    outputElement.appendChild(li);\n",
              "\n",
              "    const fileDataPromise = new Promise((resolve) => {\n",
              "      const reader = new FileReader();\n",
              "      reader.onload = (e) => {\n",
              "        resolve(e.target.result);\n",
              "      };\n",
              "      reader.readAsArrayBuffer(file);\n",
              "    });\n",
              "    // Wait for the data to be ready.\n",
              "    let fileData = yield {\n",
              "      promise: fileDataPromise,\n",
              "      response: {\n",
              "        action: 'continue',\n",
              "      }\n",
              "    };\n",
              "\n",
              "    // Use a chunked sending to avoid message size limits. See b/62115660.\n",
              "    let position = 0;\n",
              "    do {\n",
              "      const length = Math.min(fileData.byteLength - position, MAX_PAYLOAD_SIZE);\n",
              "      const chunk = new Uint8Array(fileData, position, length);\n",
              "      position += length;\n",
              "\n",
              "      const base64 = btoa(String.fromCharCode.apply(null, chunk));\n",
              "      yield {\n",
              "        response: {\n",
              "          action: 'append',\n",
              "          file: file.name,\n",
              "          data: base64,\n",
              "        },\n",
              "      };\n",
              "\n",
              "      let percentDone = fileData.byteLength === 0 ?\n",
              "          100 :\n",
              "          Math.round((position / fileData.byteLength) * 100);\n",
              "      percent.textContent = `${percentDone}% done`;\n",
              "\n",
              "    } while (position < fileData.byteLength);\n",
              "  }\n",
              "\n",
              "  // All done.\n",
              "  yield {\n",
              "    response: {\n",
              "      action: 'complete',\n",
              "    }\n",
              "  };\n",
              "}\n",
              "\n",
              "scope.google = scope.google || {};\n",
              "scope.google.colab = scope.google.colab || {};\n",
              "scope.google.colab._files = {\n",
              "  _uploadFiles,\n",
              "  _uploadFilesContinue,\n",
              "};\n",
              "})(self);\n",
              "</script> "
            ]
          },
          "metadata": {}
        },
        {
          "output_type": "stream",
          "name": "stdout",
          "text": [
            "Saving proj_whole_data.csv to proj_whole_data.csv\n"
          ]
        }
      ]
    },
    {
      "cell_type": "code",
      "source": [
        "data1 = data\n",
        "data2 = data"
      ],
      "metadata": {
        "id": "3UHo2YmMp6WE"
      },
      "execution_count": null,
      "outputs": []
    },
    {
      "cell_type": "code",
      "source": [
        "data = data1"
      ],
      "metadata": {
        "id": "InWrj93-rgtQ"
      },
      "execution_count": null,
      "outputs": []
    },
    {
      "cell_type": "code",
      "metadata": {
        "colab": {
          "base_uri": "https://localhost:8080/",
          "height": 372
        },
        "id": "HXcsoKGePnyD",
        "outputId": "3011bf9e-bb1c-4e21-982a-f866fd57ba86"
      },
      "source": [
        "data.head()"
      ],
      "execution_count": null,
      "outputs": [
        {
          "output_type": "execute_result",
          "data": {
            "text/plain": [
              "   Unnamed: 0                      course_title difficulty_level  \\\n",
              "0           0  Cloud Computing Concepts, Part 1   Beginner Level   \n",
              "1           1  Cloud Computing Concepts, Part 1   Beginner Level   \n",
              "2           2  Cloud Computing Concepts, Part 1   Beginner Level   \n",
              "3           3  Cloud Computing Concepts, Part 1   Beginner Level   \n",
              "4           4  Cloud Computing Concepts, Part 1   Beginner Level   \n",
              "\n",
              "                       duration  \\\n",
              "0  Approx. 23 hours to complete   \n",
              "1  Approx. 23 hours to complete   \n",
              "2  Approx. 23 hours to complete   \n",
              "3  Approx. 23 hours to complete   \n",
              "4  Approx. 23 hours to complete   \n",
              "\n",
              "                                              skills         instructors  \\\n",
              "0  ['Distributed Algorithm', 'Distributed Computi...  ['Indranil Gupta']   \n",
              "1  ['Distributed Algorithm', 'Distributed Computi...  ['Indranil Gupta']   \n",
              "2  ['Distributed Algorithm', 'Distributed Computi...  ['Indranil Gupta']   \n",
              "3  ['Distributed Algorithm', 'Distributed Computi...  ['Indranil Gupta']   \n",
              "4  ['Distributed Algorithm', 'Distributed Computi...  ['Indranil Gupta']   \n",
              "\n",
              "                                         description  rating   review_date  \\\n",
              "0  Cloud computing systems today, whether open-so...     3.0  Jun 26, 2017   \n",
              "1  Cloud computing systems today, whether open-so...     1.0  Apr 25, 2018   \n",
              "2  Cloud computing systems today, whether open-so...     3.0  Jul 11, 2017   \n",
              "3  Cloud computing systems today, whether open-so...     4.0   Jun 7, 2019   \n",
              "4  Cloud computing systems today, whether open-so...     5.0   Oct 6, 2016   \n",
              "\n",
              "        user_name                                            reviews  \n",
              "0  By Stephanie B  I found the concepts taught in this course int...  \n",
              "1      By Ehsan M  The educational material do not meet the expec...  \n",
              "2      By Jason N  The programming assignment is very old style C...  \n",
              "3      By Craig K  My experience with this course was mostly posi...  \n",
              "4       By Dave P  This instructor is fantastic.  He is exception...  "
            ],
            "text/html": [
              "\n",
              "  <div id=\"df-d3deecd8-87a4-4996-872f-720b02891c6e\">\n",
              "    <div class=\"colab-df-container\">\n",
              "      <div>\n",
              "<style scoped>\n",
              "    .dataframe tbody tr th:only-of-type {\n",
              "        vertical-align: middle;\n",
              "    }\n",
              "\n",
              "    .dataframe tbody tr th {\n",
              "        vertical-align: top;\n",
              "    }\n",
              "\n",
              "    .dataframe thead th {\n",
              "        text-align: right;\n",
              "    }\n",
              "</style>\n",
              "<table border=\"1\" class=\"dataframe\">\n",
              "  <thead>\n",
              "    <tr style=\"text-align: right;\">\n",
              "      <th></th>\n",
              "      <th>Unnamed: 0</th>\n",
              "      <th>course_title</th>\n",
              "      <th>difficulty_level</th>\n",
              "      <th>duration</th>\n",
              "      <th>skills</th>\n",
              "      <th>instructors</th>\n",
              "      <th>description</th>\n",
              "      <th>rating</th>\n",
              "      <th>review_date</th>\n",
              "      <th>user_name</th>\n",
              "      <th>reviews</th>\n",
              "    </tr>\n",
              "  </thead>\n",
              "  <tbody>\n",
              "    <tr>\n",
              "      <th>0</th>\n",
              "      <td>0</td>\n",
              "      <td>Cloud Computing Concepts, Part 1</td>\n",
              "      <td>Beginner Level</td>\n",
              "      <td>Approx. 23 hours to complete</td>\n",
              "      <td>['Distributed Algorithm', 'Distributed Computi...</td>\n",
              "      <td>['Indranil Gupta']</td>\n",
              "      <td>Cloud computing systems today, whether open-so...</td>\n",
              "      <td>3.0</td>\n",
              "      <td>Jun 26, 2017</td>\n",
              "      <td>By Stephanie B</td>\n",
              "      <td>I found the concepts taught in this course int...</td>\n",
              "    </tr>\n",
              "    <tr>\n",
              "      <th>1</th>\n",
              "      <td>1</td>\n",
              "      <td>Cloud Computing Concepts, Part 1</td>\n",
              "      <td>Beginner Level</td>\n",
              "      <td>Approx. 23 hours to complete</td>\n",
              "      <td>['Distributed Algorithm', 'Distributed Computi...</td>\n",
              "      <td>['Indranil Gupta']</td>\n",
              "      <td>Cloud computing systems today, whether open-so...</td>\n",
              "      <td>1.0</td>\n",
              "      <td>Apr 25, 2018</td>\n",
              "      <td>By Ehsan M</td>\n",
              "      <td>The educational material do not meet the expec...</td>\n",
              "    </tr>\n",
              "    <tr>\n",
              "      <th>2</th>\n",
              "      <td>2</td>\n",
              "      <td>Cloud Computing Concepts, Part 1</td>\n",
              "      <td>Beginner Level</td>\n",
              "      <td>Approx. 23 hours to complete</td>\n",
              "      <td>['Distributed Algorithm', 'Distributed Computi...</td>\n",
              "      <td>['Indranil Gupta']</td>\n",
              "      <td>Cloud computing systems today, whether open-so...</td>\n",
              "      <td>3.0</td>\n",
              "      <td>Jul 11, 2017</td>\n",
              "      <td>By Jason N</td>\n",
              "      <td>The programming assignment is very old style C...</td>\n",
              "    </tr>\n",
              "    <tr>\n",
              "      <th>3</th>\n",
              "      <td>3</td>\n",
              "      <td>Cloud Computing Concepts, Part 1</td>\n",
              "      <td>Beginner Level</td>\n",
              "      <td>Approx. 23 hours to complete</td>\n",
              "      <td>['Distributed Algorithm', 'Distributed Computi...</td>\n",
              "      <td>['Indranil Gupta']</td>\n",
              "      <td>Cloud computing systems today, whether open-so...</td>\n",
              "      <td>4.0</td>\n",
              "      <td>Jun 7, 2019</td>\n",
              "      <td>By Craig K</td>\n",
              "      <td>My experience with this course was mostly posi...</td>\n",
              "    </tr>\n",
              "    <tr>\n",
              "      <th>4</th>\n",
              "      <td>4</td>\n",
              "      <td>Cloud Computing Concepts, Part 1</td>\n",
              "      <td>Beginner Level</td>\n",
              "      <td>Approx. 23 hours to complete</td>\n",
              "      <td>['Distributed Algorithm', 'Distributed Computi...</td>\n",
              "      <td>['Indranil Gupta']</td>\n",
              "      <td>Cloud computing systems today, whether open-so...</td>\n",
              "      <td>5.0</td>\n",
              "      <td>Oct 6, 2016</td>\n",
              "      <td>By Dave P</td>\n",
              "      <td>This instructor is fantastic.  He is exception...</td>\n",
              "    </tr>\n",
              "  </tbody>\n",
              "</table>\n",
              "</div>\n",
              "      <button class=\"colab-df-convert\" onclick=\"convertToInteractive('df-d3deecd8-87a4-4996-872f-720b02891c6e')\"\n",
              "              title=\"Convert this dataframe to an interactive table.\"\n",
              "              style=\"display:none;\">\n",
              "        \n",
              "  <svg xmlns=\"http://www.w3.org/2000/svg\" height=\"24px\"viewBox=\"0 0 24 24\"\n",
              "       width=\"24px\">\n",
              "    <path d=\"M0 0h24v24H0V0z\" fill=\"none\"/>\n",
              "    <path d=\"M18.56 5.44l.94 2.06.94-2.06 2.06-.94-2.06-.94-.94-2.06-.94 2.06-2.06.94zm-11 1L8.5 8.5l.94-2.06 2.06-.94-2.06-.94L8.5 2.5l-.94 2.06-2.06.94zm10 10l.94 2.06.94-2.06 2.06-.94-2.06-.94-.94-2.06-.94 2.06-2.06.94z\"/><path d=\"M17.41 7.96l-1.37-1.37c-.4-.4-.92-.59-1.43-.59-.52 0-1.04.2-1.43.59L10.3 9.45l-7.72 7.72c-.78.78-.78 2.05 0 2.83L4 21.41c.39.39.9.59 1.41.59.51 0 1.02-.2 1.41-.59l7.78-7.78 2.81-2.81c.8-.78.8-2.07 0-2.86zM5.41 20L4 18.59l7.72-7.72 1.47 1.35L5.41 20z\"/>\n",
              "  </svg>\n",
              "      </button>\n",
              "      \n",
              "  <style>\n",
              "    .colab-df-container {\n",
              "      display:flex;\n",
              "      flex-wrap:wrap;\n",
              "      gap: 12px;\n",
              "    }\n",
              "\n",
              "    .colab-df-convert {\n",
              "      background-color: #E8F0FE;\n",
              "      border: none;\n",
              "      border-radius: 50%;\n",
              "      cursor: pointer;\n",
              "      display: none;\n",
              "      fill: #1967D2;\n",
              "      height: 32px;\n",
              "      padding: 0 0 0 0;\n",
              "      width: 32px;\n",
              "    }\n",
              "\n",
              "    .colab-df-convert:hover {\n",
              "      background-color: #E2EBFA;\n",
              "      box-shadow: 0px 1px 2px rgba(60, 64, 67, 0.3), 0px 1px 3px 1px rgba(60, 64, 67, 0.15);\n",
              "      fill: #174EA6;\n",
              "    }\n",
              "\n",
              "    [theme=dark] .colab-df-convert {\n",
              "      background-color: #3B4455;\n",
              "      fill: #D2E3FC;\n",
              "    }\n",
              "\n",
              "    [theme=dark] .colab-df-convert:hover {\n",
              "      background-color: #434B5C;\n",
              "      box-shadow: 0px 1px 3px 1px rgba(0, 0, 0, 0.15);\n",
              "      filter: drop-shadow(0px 1px 2px rgba(0, 0, 0, 0.3));\n",
              "      fill: #FFFFFF;\n",
              "    }\n",
              "  </style>\n",
              "\n",
              "      <script>\n",
              "        const buttonEl =\n",
              "          document.querySelector('#df-d3deecd8-87a4-4996-872f-720b02891c6e button.colab-df-convert');\n",
              "        buttonEl.style.display =\n",
              "          google.colab.kernel.accessAllowed ? 'block' : 'none';\n",
              "\n",
              "        async function convertToInteractive(key) {\n",
              "          const element = document.querySelector('#df-d3deecd8-87a4-4996-872f-720b02891c6e');\n",
              "          const dataTable =\n",
              "            await google.colab.kernel.invokeFunction('convertToInteractive',\n",
              "                                                     [key], {});\n",
              "          if (!dataTable) return;\n",
              "\n",
              "          const docLinkHtml = 'Like what you see? Visit the ' +\n",
              "            '<a target=\"_blank\" href=https://colab.research.google.com/notebooks/data_table.ipynb>data table notebook</a>'\n",
              "            + ' to learn more about interactive tables.';\n",
              "          element.innerHTML = '';\n",
              "          dataTable['output_type'] = 'display_data';\n",
              "          await google.colab.output.renderOutput(dataTable, element);\n",
              "          const docLink = document.createElement('div');\n",
              "          docLink.innerHTML = docLinkHtml;\n",
              "          element.appendChild(docLink);\n",
              "        }\n",
              "      </script>\n",
              "    </div>\n",
              "  </div>\n",
              "  "
            ]
          },
          "metadata": {},
          "execution_count": 6
        }
      ]
    },
    {
      "cell_type": "code",
      "source": [
        "data.columns"
      ],
      "metadata": {
        "colab": {
          "base_uri": "https://localhost:8080/"
        },
        "id": "tSx8Hk_j9RNt",
        "outputId": "badb3d93-6ef9-40ff-d501-88dc4a1ea32a"
      },
      "execution_count": null,
      "outputs": [
        {
          "output_type": "execute_result",
          "data": {
            "text/plain": [
              "Index(['Unnamed: 0', 'course_title', 'difficulty_level', 'duration', 'skills',\n",
              "       'instructors', 'description', 'rating', 'review_date', 'user_name',\n",
              "       'reviews'],\n",
              "      dtype='object')"
            ]
          },
          "metadata": {},
          "execution_count": 7
        }
      ]
    },
    {
      "cell_type": "code",
      "source": [
        "data.shape"
      ],
      "metadata": {
        "colab": {
          "base_uri": "https://localhost:8080/"
        },
        "id": "MYyTuyjp9lKV",
        "outputId": "8c4861b6-b6da-4dd2-eb7f-dd7ffe745edd"
      },
      "execution_count": null,
      "outputs": [
        {
          "output_type": "execute_result",
          "data": {
            "text/plain": [
              "(43225, 11)"
            ]
          },
          "metadata": {},
          "execution_count": 8
        }
      ]
    },
    {
      "cell_type": "code",
      "metadata": {
        "cellView": "form",
        "id": "8M05neQVS5Qn"
      },
      "source": [
        "#@title #Data Preprocessing\n",
        "#Data Preprocessing"
      ],
      "execution_count": null,
      "outputs": []
    },
    {
      "cell_type": "code",
      "source": [
        "data.info()"
      ],
      "metadata": {
        "colab": {
          "base_uri": "https://localhost:8080/"
        },
        "id": "sxBPncpZ9aMz",
        "outputId": "eece404a-1710-4ee1-c859-c7ada3e09621"
      },
      "execution_count": null,
      "outputs": [
        {
          "output_type": "stream",
          "name": "stdout",
          "text": [
            "<class 'pandas.core.frame.DataFrame'>\n",
            "RangeIndex: 43225 entries, 0 to 43224\n",
            "Data columns (total 11 columns):\n",
            " #   Column            Non-Null Count  Dtype  \n",
            "---  ------            --------------  -----  \n",
            " 0   Unnamed: 0        43225 non-null  int64  \n",
            " 1   course_title      42707 non-null  object \n",
            " 2   difficulty_level  31489 non-null  object \n",
            " 3   duration          42670 non-null  object \n",
            " 4   skills            43225 non-null  object \n",
            " 5   instructors       43225 non-null  object \n",
            " 6   description       43222 non-null  object \n",
            " 7   rating            40813 non-null  float64\n",
            " 8   review_date       40813 non-null  object \n",
            " 9   user_name         40813 non-null  object \n",
            " 10  reviews           40288 non-null  object \n",
            "dtypes: float64(1), int64(1), object(9)\n",
            "memory usage: 3.6+ MB\n"
          ]
        }
      ]
    },
    {
      "cell_type": "code",
      "source": [
        "data.describe()"
      ],
      "metadata": {
        "colab": {
          "base_uri": "https://localhost:8080/",
          "height": 300
        },
        "id": "cYZuTtlT9oL1",
        "outputId": "59c90606-3339-48e7-b0f9-d9751a5125d4"
      },
      "execution_count": null,
      "outputs": [
        {
          "output_type": "execute_result",
          "data": {
            "text/plain": [
              "        Unnamed: 0        rating\n",
              "count  43225.00000  40813.000000\n",
              "mean   21612.00000      4.517997\n",
              "std    12478.12703      1.094949\n",
              "min        0.00000      1.000000\n",
              "25%    10806.00000      5.000000\n",
              "50%    21612.00000      5.000000\n",
              "75%    32418.00000      5.000000\n",
              "max    43224.00000      5.000000"
            ],
            "text/html": [
              "\n",
              "  <div id=\"df-468f3ee2-cfee-4071-8fe1-2247148c4c9e\">\n",
              "    <div class=\"colab-df-container\">\n",
              "      <div>\n",
              "<style scoped>\n",
              "    .dataframe tbody tr th:only-of-type {\n",
              "        vertical-align: middle;\n",
              "    }\n",
              "\n",
              "    .dataframe tbody tr th {\n",
              "        vertical-align: top;\n",
              "    }\n",
              "\n",
              "    .dataframe thead th {\n",
              "        text-align: right;\n",
              "    }\n",
              "</style>\n",
              "<table border=\"1\" class=\"dataframe\">\n",
              "  <thead>\n",
              "    <tr style=\"text-align: right;\">\n",
              "      <th></th>\n",
              "      <th>Unnamed: 0</th>\n",
              "      <th>rating</th>\n",
              "    </tr>\n",
              "  </thead>\n",
              "  <tbody>\n",
              "    <tr>\n",
              "      <th>count</th>\n",
              "      <td>43225.00000</td>\n",
              "      <td>40813.000000</td>\n",
              "    </tr>\n",
              "    <tr>\n",
              "      <th>mean</th>\n",
              "      <td>21612.00000</td>\n",
              "      <td>4.517997</td>\n",
              "    </tr>\n",
              "    <tr>\n",
              "      <th>std</th>\n",
              "      <td>12478.12703</td>\n",
              "      <td>1.094949</td>\n",
              "    </tr>\n",
              "    <tr>\n",
              "      <th>min</th>\n",
              "      <td>0.00000</td>\n",
              "      <td>1.000000</td>\n",
              "    </tr>\n",
              "    <tr>\n",
              "      <th>25%</th>\n",
              "      <td>10806.00000</td>\n",
              "      <td>5.000000</td>\n",
              "    </tr>\n",
              "    <tr>\n",
              "      <th>50%</th>\n",
              "      <td>21612.00000</td>\n",
              "      <td>5.000000</td>\n",
              "    </tr>\n",
              "    <tr>\n",
              "      <th>75%</th>\n",
              "      <td>32418.00000</td>\n",
              "      <td>5.000000</td>\n",
              "    </tr>\n",
              "    <tr>\n",
              "      <th>max</th>\n",
              "      <td>43224.00000</td>\n",
              "      <td>5.000000</td>\n",
              "    </tr>\n",
              "  </tbody>\n",
              "</table>\n",
              "</div>\n",
              "      <button class=\"colab-df-convert\" onclick=\"convertToInteractive('df-468f3ee2-cfee-4071-8fe1-2247148c4c9e')\"\n",
              "              title=\"Convert this dataframe to an interactive table.\"\n",
              "              style=\"display:none;\">\n",
              "        \n",
              "  <svg xmlns=\"http://www.w3.org/2000/svg\" height=\"24px\"viewBox=\"0 0 24 24\"\n",
              "       width=\"24px\">\n",
              "    <path d=\"M0 0h24v24H0V0z\" fill=\"none\"/>\n",
              "    <path d=\"M18.56 5.44l.94 2.06.94-2.06 2.06-.94-2.06-.94-.94-2.06-.94 2.06-2.06.94zm-11 1L8.5 8.5l.94-2.06 2.06-.94-2.06-.94L8.5 2.5l-.94 2.06-2.06.94zm10 10l.94 2.06.94-2.06 2.06-.94-2.06-.94-.94-2.06-.94 2.06-2.06.94z\"/><path d=\"M17.41 7.96l-1.37-1.37c-.4-.4-.92-.59-1.43-.59-.52 0-1.04.2-1.43.59L10.3 9.45l-7.72 7.72c-.78.78-.78 2.05 0 2.83L4 21.41c.39.39.9.59 1.41.59.51 0 1.02-.2 1.41-.59l7.78-7.78 2.81-2.81c.8-.78.8-2.07 0-2.86zM5.41 20L4 18.59l7.72-7.72 1.47 1.35L5.41 20z\"/>\n",
              "  </svg>\n",
              "      </button>\n",
              "      \n",
              "  <style>\n",
              "    .colab-df-container {\n",
              "      display:flex;\n",
              "      flex-wrap:wrap;\n",
              "      gap: 12px;\n",
              "    }\n",
              "\n",
              "    .colab-df-convert {\n",
              "      background-color: #E8F0FE;\n",
              "      border: none;\n",
              "      border-radius: 50%;\n",
              "      cursor: pointer;\n",
              "      display: none;\n",
              "      fill: #1967D2;\n",
              "      height: 32px;\n",
              "      padding: 0 0 0 0;\n",
              "      width: 32px;\n",
              "    }\n",
              "\n",
              "    .colab-df-convert:hover {\n",
              "      background-color: #E2EBFA;\n",
              "      box-shadow: 0px 1px 2px rgba(60, 64, 67, 0.3), 0px 1px 3px 1px rgba(60, 64, 67, 0.15);\n",
              "      fill: #174EA6;\n",
              "    }\n",
              "\n",
              "    [theme=dark] .colab-df-convert {\n",
              "      background-color: #3B4455;\n",
              "      fill: #D2E3FC;\n",
              "    }\n",
              "\n",
              "    [theme=dark] .colab-df-convert:hover {\n",
              "      background-color: #434B5C;\n",
              "      box-shadow: 0px 1px 3px 1px rgba(0, 0, 0, 0.15);\n",
              "      filter: drop-shadow(0px 1px 2px rgba(0, 0, 0, 0.3));\n",
              "      fill: #FFFFFF;\n",
              "    }\n",
              "  </style>\n",
              "\n",
              "      <script>\n",
              "        const buttonEl =\n",
              "          document.querySelector('#df-468f3ee2-cfee-4071-8fe1-2247148c4c9e button.colab-df-convert');\n",
              "        buttonEl.style.display =\n",
              "          google.colab.kernel.accessAllowed ? 'block' : 'none';\n",
              "\n",
              "        async function convertToInteractive(key) {\n",
              "          const element = document.querySelector('#df-468f3ee2-cfee-4071-8fe1-2247148c4c9e');\n",
              "          const dataTable =\n",
              "            await google.colab.kernel.invokeFunction('convertToInteractive',\n",
              "                                                     [key], {});\n",
              "          if (!dataTable) return;\n",
              "\n",
              "          const docLinkHtml = 'Like what you see? Visit the ' +\n",
              "            '<a target=\"_blank\" href=https://colab.research.google.com/notebooks/data_table.ipynb>data table notebook</a>'\n",
              "            + ' to learn more about interactive tables.';\n",
              "          element.innerHTML = '';\n",
              "          dataTable['output_type'] = 'display_data';\n",
              "          await google.colab.output.renderOutput(dataTable, element);\n",
              "          const docLink = document.createElement('div');\n",
              "          docLink.innerHTML = docLinkHtml;\n",
              "          element.appendChild(docLink);\n",
              "        }\n",
              "      </script>\n",
              "    </div>\n",
              "  </div>\n",
              "  "
            ]
          },
          "metadata": {},
          "execution_count": 10
        }
      ]
    },
    {
      "cell_type": "code",
      "source": [
        "data.dtypes"
      ],
      "metadata": {
        "colab": {
          "base_uri": "https://localhost:8080/"
        },
        "id": "P5HIxToCqlI9",
        "outputId": "81ca853d-7b75-476d-93e6-c83c466399ed"
      },
      "execution_count": null,
      "outputs": [
        {
          "output_type": "execute_result",
          "data": {
            "text/plain": [
              "Unnamed: 0            int64\n",
              "course_title         object\n",
              "difficulty_level     object\n",
              "duration             object\n",
              "skills               object\n",
              "instructors          object\n",
              "description          object\n",
              "rating              float64\n",
              "review_date          object\n",
              "user_name            object\n",
              "reviews              object\n",
              "dtype: object"
            ]
          },
          "metadata": {},
          "execution_count": 11
        }
      ]
    },
    {
      "cell_type": "code",
      "source": [
        "data['description'][1]"
      ],
      "metadata": {
        "colab": {
          "base_uri": "https://localhost:8080/",
          "height": 123
        },
        "id": "LwE700zk-IqG",
        "outputId": "1e65c2b3-fc7e-40d2-aaef-0e197378f689"
      },
      "execution_count": null,
      "outputs": [
        {
          "output_type": "execute_result",
          "data": {
            "text/plain": [
              "'Cloud computing systems today, whether open-source or used inside companies, are built using a common set of core techniques, algorithms, and design philosophies – all centered around distributed systems. Learn about such fundamental distributed computing \"concepts\" for cloud computing. Some of these concepts include: clouds, MapReduce, key-value/NoSQL stores, classical distributed algorithms, widely-used distributed algorithms, scalability, trending areas, and much, much more! \\n \\nKnow how these systems work from the inside out. Get your hands dirty using these concepts with provided homework exercises. In the programming assignments, implement some of these concepts in template code (programs) provided in the C++ programming language. Prior experience with C++ is required.\\n \\nThe course also features interviews with leading researchers and managers, from both industry and academia. The University of Illinois at Urbana-Champaign is a world leader in research, teaching and public engagement, distinguished by the breadth of its programs, broad academic excellence, and internationally renowned faculty and alumni. Illinois serves the world by creating knowledge, preparing students for lives of impact, and finding solutions to critical societal needs. This course is oriented towards learners with similar backgrounds as juniors and seniors in a CS undergraduate curriculum. Since learners come from various backgrounds, it is critical you view this lecture AND pass the prerequisite test. This will ensure you have many of the assumed prerequisite pieces of knowledge required to enjoy this course. Lesson 1: This module teaches how the multicast problem is solved by using epidemic/gossip protocols. It also teaches analysis of such protocols. Lesson 2: This module covers the design of failure detectors, a key component in any distributed system. Membership protocols, which use failure detectors as components, are also covered. Lesson 3: This module covers Grid computing, an important precursor to cloud computing. P2P systems: This module teaches the detailed design of two classes of peer to peer systems: (a) popular ones including Napster, Gnutella, FastTrack, and BitTorrent; and (b) efficient ones including distributed hash tables (Chord, Pastry, and Kelips). Besides focusing on design, the module also analyzes these systems in detail. Lesson 1: This module motivates and teaches the design of key-value/NoSQL storage/database systems. We cover the design of two major industry systems: Apache Cassandra and HBase. We also cover the famous CAP theorem. Lesson 2: Distributed systems are asynchronous, which makes clocks at different machines hard to synchronize. This module first covers various clock synchronization algorithms, and then covers ways of tagging events with causal timestamps that avoid synchronizing clocks. These classical algorithms were invented decades ago, yet are used widely in today’s cloud systems.  The Cloud Computing Specialization takes you on a tour through cloud computing systems. We start in in the middle layer with Cloud Computing Concepts covering core distributed systems concepts used inside clouds, move to the upper layer of Cloud Applications and finally to the lower layer of Cloud Networking. We conclude with a project that allows you to apply the skills you\\'ve learned throughout the courses. '"
            ],
            "application/vnd.google.colaboratory.intrinsic+json": {
              "type": "string"
            }
          },
          "metadata": {},
          "execution_count": 12
        }
      ]
    },
    {
      "cell_type": "code",
      "source": [
        "data['description'][25]"
      ],
      "metadata": {
        "colab": {
          "base_uri": "https://localhost:8080/",
          "height": 123
        },
        "id": "lp6hAad2-bUO",
        "outputId": "62cebc94-8a12-4f18-dc69-20933000274c"
      },
      "execution_count": null,
      "outputs": [
        {
          "output_type": "execute_result",
          "data": {
            "text/plain": [
              "'What are the world’s major health challenges?  What contributes to them?  What can we do to improve health outcomes and reduce health disparities?   Whether you are new to Global Health, want to take a refresher course, or want to sample Global Health before undertaking undergraduate or graduate study in the field, The Challenge of Global Health is designed to provide a comprehensive but concise foundation for understanding Global Health problems and solutions. \\n\\nTaught by Dr. David Boyd, an award-winning professor at Duke University’s Global Health Institute (https://www.youtube.com/watch?v=SB4xBBzNxVQ), the course combines lectures with videos shot around the world and interviews with some of the world’s foremost Global Health experts. Duke University has about 13,000 undergraduate and graduate students and a world-class faculty helping to expand the frontiers of knowledge. The university has a strong commitment to applying knowledge in service to society, both near its North Carolina campus and around the world. Start here! This module covers some of the most important basic concept that you need to know to understand global health. In particular we will focus on key terminology and the determinants underlying health and disease. This module focuses on examining the causes and distribution of infectious disease, noncommunicable disease, injury/violence/disaster, and MCH (maternal and child health). This module explores the main global health actors, how they work, and what strategies they use to improve global health outcomes and to solve global health problems. '"
            ],
            "application/vnd.google.colaboratory.intrinsic+json": {
              "type": "string"
            }
          },
          "metadata": {},
          "execution_count": 13
        }
      ]
    },
    {
      "cell_type": "code",
      "source": [
        "data = data.drop(['Unnamed: 0'], axis = 1)  "
      ],
      "metadata": {
        "id": "Cd7To4u4-yfG"
      },
      "execution_count": null,
      "outputs": []
    },
    {
      "cell_type": "code",
      "source": [
        "data.shape"
      ],
      "metadata": {
        "colab": {
          "base_uri": "https://localhost:8080/"
        },
        "id": "kQaa1UzLtiwk",
        "outputId": "e0afc112-c7ce-454b-c54c-78a4a1930921"
      },
      "execution_count": null,
      "outputs": [
        {
          "output_type": "execute_result",
          "data": {
            "text/plain": [
              "(43225, 10)"
            ]
          },
          "metadata": {},
          "execution_count": 15
        }
      ]
    },
    {
      "cell_type": "code",
      "source": [
        "data = data.dropna(subset=['duration'])\n",
        "data.shape"
      ],
      "metadata": {
        "colab": {
          "base_uri": "https://localhost:8080/"
        },
        "id": "dC-1HcnPtTCw",
        "outputId": "46091991-de0f-4a1a-a968-83bf40dd9517"
      },
      "execution_count": null,
      "outputs": [
        {
          "output_type": "execute_result",
          "data": {
            "text/plain": [
              "(42670, 10)"
            ]
          },
          "metadata": {},
          "execution_count": 16
        }
      ]
    },
    {
      "cell_type": "code",
      "source": [
        "#Converting duration string to integer\n",
        "hours = data.duration.str.extract('(\\d+)').astype(int)\n",
        "data['duration'] = hours\n",
        "data.head()"
      ],
      "metadata": {
        "colab": {
          "base_uri": "https://localhost:8080/",
          "height": 337
        },
        "id": "7SgGOSGKrebx",
        "outputId": "a5825ff8-62a4-44a8-db5b-d4d148e15389"
      },
      "execution_count": null,
      "outputs": [
        {
          "output_type": "execute_result",
          "data": {
            "text/plain": [
              "                       course_title difficulty_level  duration  \\\n",
              "0  Cloud Computing Concepts, Part 1   Beginner Level        23   \n",
              "1  Cloud Computing Concepts, Part 1   Beginner Level        23   \n",
              "2  Cloud Computing Concepts, Part 1   Beginner Level        23   \n",
              "3  Cloud Computing Concepts, Part 1   Beginner Level        23   \n",
              "4  Cloud Computing Concepts, Part 1   Beginner Level        23   \n",
              "\n",
              "                                              skills         instructors  \\\n",
              "0  ['Distributed Algorithm', 'Distributed Computi...  ['Indranil Gupta']   \n",
              "1  ['Distributed Algorithm', 'Distributed Computi...  ['Indranil Gupta']   \n",
              "2  ['Distributed Algorithm', 'Distributed Computi...  ['Indranil Gupta']   \n",
              "3  ['Distributed Algorithm', 'Distributed Computi...  ['Indranil Gupta']   \n",
              "4  ['Distributed Algorithm', 'Distributed Computi...  ['Indranil Gupta']   \n",
              "\n",
              "                                         description  rating   review_date  \\\n",
              "0  Cloud computing systems today, whether open-so...     3.0  Jun 26, 2017   \n",
              "1  Cloud computing systems today, whether open-so...     1.0  Apr 25, 2018   \n",
              "2  Cloud computing systems today, whether open-so...     3.0  Jul 11, 2017   \n",
              "3  Cloud computing systems today, whether open-so...     4.0   Jun 7, 2019   \n",
              "4  Cloud computing systems today, whether open-so...     5.0   Oct 6, 2016   \n",
              "\n",
              "        user_name                                            reviews  \n",
              "0  By Stephanie B  I found the concepts taught in this course int...  \n",
              "1      By Ehsan M  The educational material do not meet the expec...  \n",
              "2      By Jason N  The programming assignment is very old style C...  \n",
              "3      By Craig K  My experience with this course was mostly posi...  \n",
              "4       By Dave P  This instructor is fantastic.  He is exception...  "
            ],
            "text/html": [
              "\n",
              "  <div id=\"df-bbf6658a-c10f-4bc8-b712-ce31768ad9c0\">\n",
              "    <div class=\"colab-df-container\">\n",
              "      <div>\n",
              "<style scoped>\n",
              "    .dataframe tbody tr th:only-of-type {\n",
              "        vertical-align: middle;\n",
              "    }\n",
              "\n",
              "    .dataframe tbody tr th {\n",
              "        vertical-align: top;\n",
              "    }\n",
              "\n",
              "    .dataframe thead th {\n",
              "        text-align: right;\n",
              "    }\n",
              "</style>\n",
              "<table border=\"1\" class=\"dataframe\">\n",
              "  <thead>\n",
              "    <tr style=\"text-align: right;\">\n",
              "      <th></th>\n",
              "      <th>course_title</th>\n",
              "      <th>difficulty_level</th>\n",
              "      <th>duration</th>\n",
              "      <th>skills</th>\n",
              "      <th>instructors</th>\n",
              "      <th>description</th>\n",
              "      <th>rating</th>\n",
              "      <th>review_date</th>\n",
              "      <th>user_name</th>\n",
              "      <th>reviews</th>\n",
              "    </tr>\n",
              "  </thead>\n",
              "  <tbody>\n",
              "    <tr>\n",
              "      <th>0</th>\n",
              "      <td>Cloud Computing Concepts, Part 1</td>\n",
              "      <td>Beginner Level</td>\n",
              "      <td>23</td>\n",
              "      <td>['Distributed Algorithm', 'Distributed Computi...</td>\n",
              "      <td>['Indranil Gupta']</td>\n",
              "      <td>Cloud computing systems today, whether open-so...</td>\n",
              "      <td>3.0</td>\n",
              "      <td>Jun 26, 2017</td>\n",
              "      <td>By Stephanie B</td>\n",
              "      <td>I found the concepts taught in this course int...</td>\n",
              "    </tr>\n",
              "    <tr>\n",
              "      <th>1</th>\n",
              "      <td>Cloud Computing Concepts, Part 1</td>\n",
              "      <td>Beginner Level</td>\n",
              "      <td>23</td>\n",
              "      <td>['Distributed Algorithm', 'Distributed Computi...</td>\n",
              "      <td>['Indranil Gupta']</td>\n",
              "      <td>Cloud computing systems today, whether open-so...</td>\n",
              "      <td>1.0</td>\n",
              "      <td>Apr 25, 2018</td>\n",
              "      <td>By Ehsan M</td>\n",
              "      <td>The educational material do not meet the expec...</td>\n",
              "    </tr>\n",
              "    <tr>\n",
              "      <th>2</th>\n",
              "      <td>Cloud Computing Concepts, Part 1</td>\n",
              "      <td>Beginner Level</td>\n",
              "      <td>23</td>\n",
              "      <td>['Distributed Algorithm', 'Distributed Computi...</td>\n",
              "      <td>['Indranil Gupta']</td>\n",
              "      <td>Cloud computing systems today, whether open-so...</td>\n",
              "      <td>3.0</td>\n",
              "      <td>Jul 11, 2017</td>\n",
              "      <td>By Jason N</td>\n",
              "      <td>The programming assignment is very old style C...</td>\n",
              "    </tr>\n",
              "    <tr>\n",
              "      <th>3</th>\n",
              "      <td>Cloud Computing Concepts, Part 1</td>\n",
              "      <td>Beginner Level</td>\n",
              "      <td>23</td>\n",
              "      <td>['Distributed Algorithm', 'Distributed Computi...</td>\n",
              "      <td>['Indranil Gupta']</td>\n",
              "      <td>Cloud computing systems today, whether open-so...</td>\n",
              "      <td>4.0</td>\n",
              "      <td>Jun 7, 2019</td>\n",
              "      <td>By Craig K</td>\n",
              "      <td>My experience with this course was mostly posi...</td>\n",
              "    </tr>\n",
              "    <tr>\n",
              "      <th>4</th>\n",
              "      <td>Cloud Computing Concepts, Part 1</td>\n",
              "      <td>Beginner Level</td>\n",
              "      <td>23</td>\n",
              "      <td>['Distributed Algorithm', 'Distributed Computi...</td>\n",
              "      <td>['Indranil Gupta']</td>\n",
              "      <td>Cloud computing systems today, whether open-so...</td>\n",
              "      <td>5.0</td>\n",
              "      <td>Oct 6, 2016</td>\n",
              "      <td>By Dave P</td>\n",
              "      <td>This instructor is fantastic.  He is exception...</td>\n",
              "    </tr>\n",
              "  </tbody>\n",
              "</table>\n",
              "</div>\n",
              "      <button class=\"colab-df-convert\" onclick=\"convertToInteractive('df-bbf6658a-c10f-4bc8-b712-ce31768ad9c0')\"\n",
              "              title=\"Convert this dataframe to an interactive table.\"\n",
              "              style=\"display:none;\">\n",
              "        \n",
              "  <svg xmlns=\"http://www.w3.org/2000/svg\" height=\"24px\"viewBox=\"0 0 24 24\"\n",
              "       width=\"24px\">\n",
              "    <path d=\"M0 0h24v24H0V0z\" fill=\"none\"/>\n",
              "    <path d=\"M18.56 5.44l.94 2.06.94-2.06 2.06-.94-2.06-.94-.94-2.06-.94 2.06-2.06.94zm-11 1L8.5 8.5l.94-2.06 2.06-.94-2.06-.94L8.5 2.5l-.94 2.06-2.06.94zm10 10l.94 2.06.94-2.06 2.06-.94-2.06-.94-.94-2.06-.94 2.06-2.06.94z\"/><path d=\"M17.41 7.96l-1.37-1.37c-.4-.4-.92-.59-1.43-.59-.52 0-1.04.2-1.43.59L10.3 9.45l-7.72 7.72c-.78.78-.78 2.05 0 2.83L4 21.41c.39.39.9.59 1.41.59.51 0 1.02-.2 1.41-.59l7.78-7.78 2.81-2.81c.8-.78.8-2.07 0-2.86zM5.41 20L4 18.59l7.72-7.72 1.47 1.35L5.41 20z\"/>\n",
              "  </svg>\n",
              "      </button>\n",
              "      \n",
              "  <style>\n",
              "    .colab-df-container {\n",
              "      display:flex;\n",
              "      flex-wrap:wrap;\n",
              "      gap: 12px;\n",
              "    }\n",
              "\n",
              "    .colab-df-convert {\n",
              "      background-color: #E8F0FE;\n",
              "      border: none;\n",
              "      border-radius: 50%;\n",
              "      cursor: pointer;\n",
              "      display: none;\n",
              "      fill: #1967D2;\n",
              "      height: 32px;\n",
              "      padding: 0 0 0 0;\n",
              "      width: 32px;\n",
              "    }\n",
              "\n",
              "    .colab-df-convert:hover {\n",
              "      background-color: #E2EBFA;\n",
              "      box-shadow: 0px 1px 2px rgba(60, 64, 67, 0.3), 0px 1px 3px 1px rgba(60, 64, 67, 0.15);\n",
              "      fill: #174EA6;\n",
              "    }\n",
              "\n",
              "    [theme=dark] .colab-df-convert {\n",
              "      background-color: #3B4455;\n",
              "      fill: #D2E3FC;\n",
              "    }\n",
              "\n",
              "    [theme=dark] .colab-df-convert:hover {\n",
              "      background-color: #434B5C;\n",
              "      box-shadow: 0px 1px 3px 1px rgba(0, 0, 0, 0.15);\n",
              "      filter: drop-shadow(0px 1px 2px rgba(0, 0, 0, 0.3));\n",
              "      fill: #FFFFFF;\n",
              "    }\n",
              "  </style>\n",
              "\n",
              "      <script>\n",
              "        const buttonEl =\n",
              "          document.querySelector('#df-bbf6658a-c10f-4bc8-b712-ce31768ad9c0 button.colab-df-convert');\n",
              "        buttonEl.style.display =\n",
              "          google.colab.kernel.accessAllowed ? 'block' : 'none';\n",
              "\n",
              "        async function convertToInteractive(key) {\n",
              "          const element = document.querySelector('#df-bbf6658a-c10f-4bc8-b712-ce31768ad9c0');\n",
              "          const dataTable =\n",
              "            await google.colab.kernel.invokeFunction('convertToInteractive',\n",
              "                                                     [key], {});\n",
              "          if (!dataTable) return;\n",
              "\n",
              "          const docLinkHtml = 'Like what you see? Visit the ' +\n",
              "            '<a target=\"_blank\" href=https://colab.research.google.com/notebooks/data_table.ipynb>data table notebook</a>'\n",
              "            + ' to learn more about interactive tables.';\n",
              "          element.innerHTML = '';\n",
              "          dataTable['output_type'] = 'display_data';\n",
              "          await google.colab.output.renderOutput(dataTable, element);\n",
              "          const docLink = document.createElement('div');\n",
              "          docLink.innerHTML = docLinkHtml;\n",
              "          element.appendChild(docLink);\n",
              "        }\n",
              "      </script>\n",
              "    </div>\n",
              "  </div>\n",
              "  "
            ]
          },
          "metadata": {},
          "execution_count": 17
        }
      ]
    },
    {
      "cell_type": "code",
      "source": [
        "data[\"difficulty_level\"].value_counts()"
      ],
      "metadata": {
        "colab": {
          "base_uri": "https://localhost:8080/"
        },
        "id": "abp6UqJ2vUGG",
        "outputId": "f7fa214a-9d83-480e-8ec2-96f1044289c7"
      },
      "execution_count": null,
      "outputs": [
        {
          "output_type": "execute_result",
          "data": {
            "text/plain": [
              "Beginner Level        20036\n",
              "Intermediate Level    10088\n",
              "Advanced Level         1328\n",
              "Name: difficulty_level, dtype: int64"
            ]
          },
          "metadata": {},
          "execution_count": 18
        }
      ]
    },
    {
      "cell_type": "code",
      "source": [
        "#Replacing blank values of difficulty level with Unknown \n",
        "data[\"difficulty_level\"].fillna(\"Unknown\", inplace = True)\n",
        "data[\"difficulty_level\"].value_counts()"
      ],
      "metadata": {
        "colab": {
          "base_uri": "https://localhost:8080/"
        },
        "id": "IepCtJ6nabfH",
        "outputId": "a5b27b6c-e68d-463e-860e-ef0be448a761"
      },
      "execution_count": null,
      "outputs": [
        {
          "output_type": "execute_result",
          "data": {
            "text/plain": [
              "Beginner Level        20036\n",
              "Unknown               11218\n",
              "Intermediate Level    10088\n",
              "Advanced Level         1328\n",
              "Name: difficulty_level, dtype: int64"
            ]
          },
          "metadata": {},
          "execution_count": 19
        }
      ]
    },
    {
      "cell_type": "code",
      "source": [
        "diff_lvl_dict = {'Beginner Level':1 , 'Intermediate Level':2, 'Advanced Level':3, 'Unknown':0}\n",
        "data['numeric_difficulty_lvl'] = data.difficulty_level.map(diff_lvl_dict)\n",
        "data.head()"
      ],
      "metadata": {
        "colab": {
          "base_uri": "https://localhost:8080/",
          "height": 424
        },
        "id": "xxV7XqMhzAbE",
        "outputId": "91a87f3a-a22e-4815-ba63-e5b502e558b3"
      },
      "execution_count": null,
      "outputs": [
        {
          "output_type": "execute_result",
          "data": {
            "text/plain": [
              "                       course_title difficulty_level  duration  \\\n",
              "0  Cloud Computing Concepts, Part 1   Beginner Level        23   \n",
              "1  Cloud Computing Concepts, Part 1   Beginner Level        23   \n",
              "2  Cloud Computing Concepts, Part 1   Beginner Level        23   \n",
              "3  Cloud Computing Concepts, Part 1   Beginner Level        23   \n",
              "4  Cloud Computing Concepts, Part 1   Beginner Level        23   \n",
              "\n",
              "                                              skills         instructors  \\\n",
              "0  ['Distributed Algorithm', 'Distributed Computi...  ['Indranil Gupta']   \n",
              "1  ['Distributed Algorithm', 'Distributed Computi...  ['Indranil Gupta']   \n",
              "2  ['Distributed Algorithm', 'Distributed Computi...  ['Indranil Gupta']   \n",
              "3  ['Distributed Algorithm', 'Distributed Computi...  ['Indranil Gupta']   \n",
              "4  ['Distributed Algorithm', 'Distributed Computi...  ['Indranil Gupta']   \n",
              "\n",
              "                                         description  rating   review_date  \\\n",
              "0  Cloud computing systems today, whether open-so...     3.0  Jun 26, 2017   \n",
              "1  Cloud computing systems today, whether open-so...     1.0  Apr 25, 2018   \n",
              "2  Cloud computing systems today, whether open-so...     3.0  Jul 11, 2017   \n",
              "3  Cloud computing systems today, whether open-so...     4.0   Jun 7, 2019   \n",
              "4  Cloud computing systems today, whether open-so...     5.0   Oct 6, 2016   \n",
              "\n",
              "        user_name                                            reviews  \\\n",
              "0  By Stephanie B  I found the concepts taught in this course int...   \n",
              "1      By Ehsan M  The educational material do not meet the expec...   \n",
              "2      By Jason N  The programming assignment is very old style C...   \n",
              "3      By Craig K  My experience with this course was mostly posi...   \n",
              "4       By Dave P  This instructor is fantastic.  He is exception...   \n",
              "\n",
              "   numeric_difficulty_lvl  \n",
              "0                       1  \n",
              "1                       1  \n",
              "2                       1  \n",
              "3                       1  \n",
              "4                       1  "
            ],
            "text/html": [
              "\n",
              "  <div id=\"df-ea1996a7-862b-432e-8353-1c099de369f9\">\n",
              "    <div class=\"colab-df-container\">\n",
              "      <div>\n",
              "<style scoped>\n",
              "    .dataframe tbody tr th:only-of-type {\n",
              "        vertical-align: middle;\n",
              "    }\n",
              "\n",
              "    .dataframe tbody tr th {\n",
              "        vertical-align: top;\n",
              "    }\n",
              "\n",
              "    .dataframe thead th {\n",
              "        text-align: right;\n",
              "    }\n",
              "</style>\n",
              "<table border=\"1\" class=\"dataframe\">\n",
              "  <thead>\n",
              "    <tr style=\"text-align: right;\">\n",
              "      <th></th>\n",
              "      <th>course_title</th>\n",
              "      <th>difficulty_level</th>\n",
              "      <th>duration</th>\n",
              "      <th>skills</th>\n",
              "      <th>instructors</th>\n",
              "      <th>description</th>\n",
              "      <th>rating</th>\n",
              "      <th>review_date</th>\n",
              "      <th>user_name</th>\n",
              "      <th>reviews</th>\n",
              "      <th>numeric_difficulty_lvl</th>\n",
              "    </tr>\n",
              "  </thead>\n",
              "  <tbody>\n",
              "    <tr>\n",
              "      <th>0</th>\n",
              "      <td>Cloud Computing Concepts, Part 1</td>\n",
              "      <td>Beginner Level</td>\n",
              "      <td>23</td>\n",
              "      <td>['Distributed Algorithm', 'Distributed Computi...</td>\n",
              "      <td>['Indranil Gupta']</td>\n",
              "      <td>Cloud computing systems today, whether open-so...</td>\n",
              "      <td>3.0</td>\n",
              "      <td>Jun 26, 2017</td>\n",
              "      <td>By Stephanie B</td>\n",
              "      <td>I found the concepts taught in this course int...</td>\n",
              "      <td>1</td>\n",
              "    </tr>\n",
              "    <tr>\n",
              "      <th>1</th>\n",
              "      <td>Cloud Computing Concepts, Part 1</td>\n",
              "      <td>Beginner Level</td>\n",
              "      <td>23</td>\n",
              "      <td>['Distributed Algorithm', 'Distributed Computi...</td>\n",
              "      <td>['Indranil Gupta']</td>\n",
              "      <td>Cloud computing systems today, whether open-so...</td>\n",
              "      <td>1.0</td>\n",
              "      <td>Apr 25, 2018</td>\n",
              "      <td>By Ehsan M</td>\n",
              "      <td>The educational material do not meet the expec...</td>\n",
              "      <td>1</td>\n",
              "    </tr>\n",
              "    <tr>\n",
              "      <th>2</th>\n",
              "      <td>Cloud Computing Concepts, Part 1</td>\n",
              "      <td>Beginner Level</td>\n",
              "      <td>23</td>\n",
              "      <td>['Distributed Algorithm', 'Distributed Computi...</td>\n",
              "      <td>['Indranil Gupta']</td>\n",
              "      <td>Cloud computing systems today, whether open-so...</td>\n",
              "      <td>3.0</td>\n",
              "      <td>Jul 11, 2017</td>\n",
              "      <td>By Jason N</td>\n",
              "      <td>The programming assignment is very old style C...</td>\n",
              "      <td>1</td>\n",
              "    </tr>\n",
              "    <tr>\n",
              "      <th>3</th>\n",
              "      <td>Cloud Computing Concepts, Part 1</td>\n",
              "      <td>Beginner Level</td>\n",
              "      <td>23</td>\n",
              "      <td>['Distributed Algorithm', 'Distributed Computi...</td>\n",
              "      <td>['Indranil Gupta']</td>\n",
              "      <td>Cloud computing systems today, whether open-so...</td>\n",
              "      <td>4.0</td>\n",
              "      <td>Jun 7, 2019</td>\n",
              "      <td>By Craig K</td>\n",
              "      <td>My experience with this course was mostly posi...</td>\n",
              "      <td>1</td>\n",
              "    </tr>\n",
              "    <tr>\n",
              "      <th>4</th>\n",
              "      <td>Cloud Computing Concepts, Part 1</td>\n",
              "      <td>Beginner Level</td>\n",
              "      <td>23</td>\n",
              "      <td>['Distributed Algorithm', 'Distributed Computi...</td>\n",
              "      <td>['Indranil Gupta']</td>\n",
              "      <td>Cloud computing systems today, whether open-so...</td>\n",
              "      <td>5.0</td>\n",
              "      <td>Oct 6, 2016</td>\n",
              "      <td>By Dave P</td>\n",
              "      <td>This instructor is fantastic.  He is exception...</td>\n",
              "      <td>1</td>\n",
              "    </tr>\n",
              "  </tbody>\n",
              "</table>\n",
              "</div>\n",
              "      <button class=\"colab-df-convert\" onclick=\"convertToInteractive('df-ea1996a7-862b-432e-8353-1c099de369f9')\"\n",
              "              title=\"Convert this dataframe to an interactive table.\"\n",
              "              style=\"display:none;\">\n",
              "        \n",
              "  <svg xmlns=\"http://www.w3.org/2000/svg\" height=\"24px\"viewBox=\"0 0 24 24\"\n",
              "       width=\"24px\">\n",
              "    <path d=\"M0 0h24v24H0V0z\" fill=\"none\"/>\n",
              "    <path d=\"M18.56 5.44l.94 2.06.94-2.06 2.06-.94-2.06-.94-.94-2.06-.94 2.06-2.06.94zm-11 1L8.5 8.5l.94-2.06 2.06-.94-2.06-.94L8.5 2.5l-.94 2.06-2.06.94zm10 10l.94 2.06.94-2.06 2.06-.94-2.06-.94-.94-2.06-.94 2.06-2.06.94z\"/><path d=\"M17.41 7.96l-1.37-1.37c-.4-.4-.92-.59-1.43-.59-.52 0-1.04.2-1.43.59L10.3 9.45l-7.72 7.72c-.78.78-.78 2.05 0 2.83L4 21.41c.39.39.9.59 1.41.59.51 0 1.02-.2 1.41-.59l7.78-7.78 2.81-2.81c.8-.78.8-2.07 0-2.86zM5.41 20L4 18.59l7.72-7.72 1.47 1.35L5.41 20z\"/>\n",
              "  </svg>\n",
              "      </button>\n",
              "      \n",
              "  <style>\n",
              "    .colab-df-container {\n",
              "      display:flex;\n",
              "      flex-wrap:wrap;\n",
              "      gap: 12px;\n",
              "    }\n",
              "\n",
              "    .colab-df-convert {\n",
              "      background-color: #E8F0FE;\n",
              "      border: none;\n",
              "      border-radius: 50%;\n",
              "      cursor: pointer;\n",
              "      display: none;\n",
              "      fill: #1967D2;\n",
              "      height: 32px;\n",
              "      padding: 0 0 0 0;\n",
              "      width: 32px;\n",
              "    }\n",
              "\n",
              "    .colab-df-convert:hover {\n",
              "      background-color: #E2EBFA;\n",
              "      box-shadow: 0px 1px 2px rgba(60, 64, 67, 0.3), 0px 1px 3px 1px rgba(60, 64, 67, 0.15);\n",
              "      fill: #174EA6;\n",
              "    }\n",
              "\n",
              "    [theme=dark] .colab-df-convert {\n",
              "      background-color: #3B4455;\n",
              "      fill: #D2E3FC;\n",
              "    }\n",
              "\n",
              "    [theme=dark] .colab-df-convert:hover {\n",
              "      background-color: #434B5C;\n",
              "      box-shadow: 0px 1px 3px 1px rgba(0, 0, 0, 0.15);\n",
              "      filter: drop-shadow(0px 1px 2px rgba(0, 0, 0, 0.3));\n",
              "      fill: #FFFFFF;\n",
              "    }\n",
              "  </style>\n",
              "\n",
              "      <script>\n",
              "        const buttonEl =\n",
              "          document.querySelector('#df-ea1996a7-862b-432e-8353-1c099de369f9 button.colab-df-convert');\n",
              "        buttonEl.style.display =\n",
              "          google.colab.kernel.accessAllowed ? 'block' : 'none';\n",
              "\n",
              "        async function convertToInteractive(key) {\n",
              "          const element = document.querySelector('#df-ea1996a7-862b-432e-8353-1c099de369f9');\n",
              "          const dataTable =\n",
              "            await google.colab.kernel.invokeFunction('convertToInteractive',\n",
              "                                                     [key], {});\n",
              "          if (!dataTable) return;\n",
              "\n",
              "          const docLinkHtml = 'Like what you see? Visit the ' +\n",
              "            '<a target=\"_blank\" href=https://colab.research.google.com/notebooks/data_table.ipynb>data table notebook</a>'\n",
              "            + ' to learn more about interactive tables.';\n",
              "          element.innerHTML = '';\n",
              "          dataTable['output_type'] = 'display_data';\n",
              "          await google.colab.output.renderOutput(dataTable, element);\n",
              "          const docLink = document.createElement('div');\n",
              "          docLink.innerHTML = docLinkHtml;\n",
              "          element.appendChild(docLink);\n",
              "        }\n",
              "      </script>\n",
              "    </div>\n",
              "  </div>\n",
              "  "
            ]
          },
          "metadata": {},
          "execution_count": 20
        }
      ]
    },
    {
      "cell_type": "code",
      "source": [
        "data[\"numeric_difficulty_lvl\"].value_counts()"
      ],
      "metadata": {
        "colab": {
          "base_uri": "https://localhost:8080/"
        },
        "id": "ZZbhiCWSxJM5",
        "outputId": "dd62c5fc-0126-482f-e06d-e51f27fb2cee"
      },
      "execution_count": null,
      "outputs": [
        {
          "output_type": "execute_result",
          "data": {
            "text/plain": [
              "1    20036\n",
              "0    11218\n",
              "2    10088\n",
              "3     1328\n",
              "Name: numeric_difficulty_lvl, dtype: int64"
            ]
          },
          "metadata": {},
          "execution_count": 21
        }
      ]
    },
    {
      "cell_type": "code",
      "source": [
        "#Converting date from string to date format\n",
        "data['review_date'] = pd.to_datetime(data['review_date'])\n",
        "data.head()"
      ],
      "metadata": {
        "colab": {
          "base_uri": "https://localhost:8080/",
          "height": 424
        },
        "id": "BbM3U1tDabhy",
        "outputId": "c2e6e4e6-d12a-413d-9ab1-222e1f021736"
      },
      "execution_count": null,
      "outputs": [
        {
          "output_type": "execute_result",
          "data": {
            "text/plain": [
              "                       course_title difficulty_level  duration  \\\n",
              "0  Cloud Computing Concepts, Part 1   Beginner Level        23   \n",
              "1  Cloud Computing Concepts, Part 1   Beginner Level        23   \n",
              "2  Cloud Computing Concepts, Part 1   Beginner Level        23   \n",
              "3  Cloud Computing Concepts, Part 1   Beginner Level        23   \n",
              "4  Cloud Computing Concepts, Part 1   Beginner Level        23   \n",
              "\n",
              "                                              skills         instructors  \\\n",
              "0  ['Distributed Algorithm', 'Distributed Computi...  ['Indranil Gupta']   \n",
              "1  ['Distributed Algorithm', 'Distributed Computi...  ['Indranil Gupta']   \n",
              "2  ['Distributed Algorithm', 'Distributed Computi...  ['Indranil Gupta']   \n",
              "3  ['Distributed Algorithm', 'Distributed Computi...  ['Indranil Gupta']   \n",
              "4  ['Distributed Algorithm', 'Distributed Computi...  ['Indranil Gupta']   \n",
              "\n",
              "                                         description  rating review_date  \\\n",
              "0  Cloud computing systems today, whether open-so...     3.0  2017-06-26   \n",
              "1  Cloud computing systems today, whether open-so...     1.0  2018-04-25   \n",
              "2  Cloud computing systems today, whether open-so...     3.0  2017-07-11   \n",
              "3  Cloud computing systems today, whether open-so...     4.0  2019-06-07   \n",
              "4  Cloud computing systems today, whether open-so...     5.0  2016-10-06   \n",
              "\n",
              "        user_name                                            reviews  \\\n",
              "0  By Stephanie B  I found the concepts taught in this course int...   \n",
              "1      By Ehsan M  The educational material do not meet the expec...   \n",
              "2      By Jason N  The programming assignment is very old style C...   \n",
              "3      By Craig K  My experience with this course was mostly posi...   \n",
              "4       By Dave P  This instructor is fantastic.  He is exception...   \n",
              "\n",
              "   numeric_difficulty_lvl  \n",
              "0                       1  \n",
              "1                       1  \n",
              "2                       1  \n",
              "3                       1  \n",
              "4                       1  "
            ],
            "text/html": [
              "\n",
              "  <div id=\"df-76a67c02-d386-4c18-aa19-f8c143bf2fbb\">\n",
              "    <div class=\"colab-df-container\">\n",
              "      <div>\n",
              "<style scoped>\n",
              "    .dataframe tbody tr th:only-of-type {\n",
              "        vertical-align: middle;\n",
              "    }\n",
              "\n",
              "    .dataframe tbody tr th {\n",
              "        vertical-align: top;\n",
              "    }\n",
              "\n",
              "    .dataframe thead th {\n",
              "        text-align: right;\n",
              "    }\n",
              "</style>\n",
              "<table border=\"1\" class=\"dataframe\">\n",
              "  <thead>\n",
              "    <tr style=\"text-align: right;\">\n",
              "      <th></th>\n",
              "      <th>course_title</th>\n",
              "      <th>difficulty_level</th>\n",
              "      <th>duration</th>\n",
              "      <th>skills</th>\n",
              "      <th>instructors</th>\n",
              "      <th>description</th>\n",
              "      <th>rating</th>\n",
              "      <th>review_date</th>\n",
              "      <th>user_name</th>\n",
              "      <th>reviews</th>\n",
              "      <th>numeric_difficulty_lvl</th>\n",
              "    </tr>\n",
              "  </thead>\n",
              "  <tbody>\n",
              "    <tr>\n",
              "      <th>0</th>\n",
              "      <td>Cloud Computing Concepts, Part 1</td>\n",
              "      <td>Beginner Level</td>\n",
              "      <td>23</td>\n",
              "      <td>['Distributed Algorithm', 'Distributed Computi...</td>\n",
              "      <td>['Indranil Gupta']</td>\n",
              "      <td>Cloud computing systems today, whether open-so...</td>\n",
              "      <td>3.0</td>\n",
              "      <td>2017-06-26</td>\n",
              "      <td>By Stephanie B</td>\n",
              "      <td>I found the concepts taught in this course int...</td>\n",
              "      <td>1</td>\n",
              "    </tr>\n",
              "    <tr>\n",
              "      <th>1</th>\n",
              "      <td>Cloud Computing Concepts, Part 1</td>\n",
              "      <td>Beginner Level</td>\n",
              "      <td>23</td>\n",
              "      <td>['Distributed Algorithm', 'Distributed Computi...</td>\n",
              "      <td>['Indranil Gupta']</td>\n",
              "      <td>Cloud computing systems today, whether open-so...</td>\n",
              "      <td>1.0</td>\n",
              "      <td>2018-04-25</td>\n",
              "      <td>By Ehsan M</td>\n",
              "      <td>The educational material do not meet the expec...</td>\n",
              "      <td>1</td>\n",
              "    </tr>\n",
              "    <tr>\n",
              "      <th>2</th>\n",
              "      <td>Cloud Computing Concepts, Part 1</td>\n",
              "      <td>Beginner Level</td>\n",
              "      <td>23</td>\n",
              "      <td>['Distributed Algorithm', 'Distributed Computi...</td>\n",
              "      <td>['Indranil Gupta']</td>\n",
              "      <td>Cloud computing systems today, whether open-so...</td>\n",
              "      <td>3.0</td>\n",
              "      <td>2017-07-11</td>\n",
              "      <td>By Jason N</td>\n",
              "      <td>The programming assignment is very old style C...</td>\n",
              "      <td>1</td>\n",
              "    </tr>\n",
              "    <tr>\n",
              "      <th>3</th>\n",
              "      <td>Cloud Computing Concepts, Part 1</td>\n",
              "      <td>Beginner Level</td>\n",
              "      <td>23</td>\n",
              "      <td>['Distributed Algorithm', 'Distributed Computi...</td>\n",
              "      <td>['Indranil Gupta']</td>\n",
              "      <td>Cloud computing systems today, whether open-so...</td>\n",
              "      <td>4.0</td>\n",
              "      <td>2019-06-07</td>\n",
              "      <td>By Craig K</td>\n",
              "      <td>My experience with this course was mostly posi...</td>\n",
              "      <td>1</td>\n",
              "    </tr>\n",
              "    <tr>\n",
              "      <th>4</th>\n",
              "      <td>Cloud Computing Concepts, Part 1</td>\n",
              "      <td>Beginner Level</td>\n",
              "      <td>23</td>\n",
              "      <td>['Distributed Algorithm', 'Distributed Computi...</td>\n",
              "      <td>['Indranil Gupta']</td>\n",
              "      <td>Cloud computing systems today, whether open-so...</td>\n",
              "      <td>5.0</td>\n",
              "      <td>2016-10-06</td>\n",
              "      <td>By Dave P</td>\n",
              "      <td>This instructor is fantastic.  He is exception...</td>\n",
              "      <td>1</td>\n",
              "    </tr>\n",
              "  </tbody>\n",
              "</table>\n",
              "</div>\n",
              "      <button class=\"colab-df-convert\" onclick=\"convertToInteractive('df-76a67c02-d386-4c18-aa19-f8c143bf2fbb')\"\n",
              "              title=\"Convert this dataframe to an interactive table.\"\n",
              "              style=\"display:none;\">\n",
              "        \n",
              "  <svg xmlns=\"http://www.w3.org/2000/svg\" height=\"24px\"viewBox=\"0 0 24 24\"\n",
              "       width=\"24px\">\n",
              "    <path d=\"M0 0h24v24H0V0z\" fill=\"none\"/>\n",
              "    <path d=\"M18.56 5.44l.94 2.06.94-2.06 2.06-.94-2.06-.94-.94-2.06-.94 2.06-2.06.94zm-11 1L8.5 8.5l.94-2.06 2.06-.94-2.06-.94L8.5 2.5l-.94 2.06-2.06.94zm10 10l.94 2.06.94-2.06 2.06-.94-2.06-.94-.94-2.06-.94 2.06-2.06.94z\"/><path d=\"M17.41 7.96l-1.37-1.37c-.4-.4-.92-.59-1.43-.59-.52 0-1.04.2-1.43.59L10.3 9.45l-7.72 7.72c-.78.78-.78 2.05 0 2.83L4 21.41c.39.39.9.59 1.41.59.51 0 1.02-.2 1.41-.59l7.78-7.78 2.81-2.81c.8-.78.8-2.07 0-2.86zM5.41 20L4 18.59l7.72-7.72 1.47 1.35L5.41 20z\"/>\n",
              "  </svg>\n",
              "      </button>\n",
              "      \n",
              "  <style>\n",
              "    .colab-df-container {\n",
              "      display:flex;\n",
              "      flex-wrap:wrap;\n",
              "      gap: 12px;\n",
              "    }\n",
              "\n",
              "    .colab-df-convert {\n",
              "      background-color: #E8F0FE;\n",
              "      border: none;\n",
              "      border-radius: 50%;\n",
              "      cursor: pointer;\n",
              "      display: none;\n",
              "      fill: #1967D2;\n",
              "      height: 32px;\n",
              "      padding: 0 0 0 0;\n",
              "      width: 32px;\n",
              "    }\n",
              "\n",
              "    .colab-df-convert:hover {\n",
              "      background-color: #E2EBFA;\n",
              "      box-shadow: 0px 1px 2px rgba(60, 64, 67, 0.3), 0px 1px 3px 1px rgba(60, 64, 67, 0.15);\n",
              "      fill: #174EA6;\n",
              "    }\n",
              "\n",
              "    [theme=dark] .colab-df-convert {\n",
              "      background-color: #3B4455;\n",
              "      fill: #D2E3FC;\n",
              "    }\n",
              "\n",
              "    [theme=dark] .colab-df-convert:hover {\n",
              "      background-color: #434B5C;\n",
              "      box-shadow: 0px 1px 3px 1px rgba(0, 0, 0, 0.15);\n",
              "      filter: drop-shadow(0px 1px 2px rgba(0, 0, 0, 0.3));\n",
              "      fill: #FFFFFF;\n",
              "    }\n",
              "  </style>\n",
              "\n",
              "      <script>\n",
              "        const buttonEl =\n",
              "          document.querySelector('#df-76a67c02-d386-4c18-aa19-f8c143bf2fbb button.colab-df-convert');\n",
              "        buttonEl.style.display =\n",
              "          google.colab.kernel.accessAllowed ? 'block' : 'none';\n",
              "\n",
              "        async function convertToInteractive(key) {\n",
              "          const element = document.querySelector('#df-76a67c02-d386-4c18-aa19-f8c143bf2fbb');\n",
              "          const dataTable =\n",
              "            await google.colab.kernel.invokeFunction('convertToInteractive',\n",
              "                                                     [key], {});\n",
              "          if (!dataTable) return;\n",
              "\n",
              "          const docLinkHtml = 'Like what you see? Visit the ' +\n",
              "            '<a target=\"_blank\" href=https://colab.research.google.com/notebooks/data_table.ipynb>data table notebook</a>'\n",
              "            + ' to learn more about interactive tables.';\n",
              "          element.innerHTML = '';\n",
              "          dataTable['output_type'] = 'display_data';\n",
              "          await google.colab.output.renderOutput(dataTable, element);\n",
              "          const docLink = document.createElement('div');\n",
              "          docLink.innerHTML = docLinkHtml;\n",
              "          element.appendChild(docLink);\n",
              "        }\n",
              "      </script>\n",
              "    </div>\n",
              "  </div>\n",
              "  "
            ]
          },
          "metadata": {},
          "execution_count": 22
        }
      ]
    },
    {
      "cell_type": "code",
      "source": [
        "data.dtypes"
      ],
      "metadata": {
        "colab": {
          "base_uri": "https://localhost:8080/"
        },
        "id": "sMQjErzax-rN",
        "outputId": "bfca7ed8-dd46-4483-b054-a1129f0902a2"
      },
      "execution_count": null,
      "outputs": [
        {
          "output_type": "execute_result",
          "data": {
            "text/plain": [
              "course_title                      object\n",
              "difficulty_level                  object\n",
              "duration                           int64\n",
              "skills                            object\n",
              "instructors                       object\n",
              "description                       object\n",
              "rating                           float64\n",
              "review_date               datetime64[ns]\n",
              "user_name                         object\n",
              "reviews                           object\n",
              "numeric_difficulty_lvl             int64\n",
              "dtype: object"
            ]
          },
          "metadata": {},
          "execution_count": 23
        }
      ]
    },
    {
      "cell_type": "code",
      "source": [
        "#@title #Data Exploration\n",
        "#Data Exploration"
      ],
      "metadata": {
        "cellView": "form",
        "id": "ZGnfgYCcD34Q"
      },
      "execution_count": null,
      "outputs": []
    },
    {
      "cell_type": "code",
      "source": [
        "data.hist(bins=50, figsize=(12,9))\n",
        "plt.show()"
      ],
      "metadata": {
        "colab": {
          "base_uri": "https://localhost:8080/",
          "height": 553
        },
        "id": "xRNlf1Yqx-1K",
        "outputId": "1491675c-4246-47b5-a8f3-e919eae0e9b5"
      },
      "execution_count": null,
      "outputs": [
        {
          "output_type": "display_data",
          "data": {
            "text/plain": [
              "<Figure size 864x648 with 4 Axes>"
            ],
            "image/png": "[encoded data removed]"
          },
          "metadata": {
            "needs_background": "light"
          }
        }
      ]
    },
    {
      "cell_type": "code",
      "source": [
        "from pandas.plotting import scatter_matrix\n",
        "attributes = [\"duration\", \"rating\", \"review_date\",\"numeric_difficulty_lvl\"]\n",
        "scatter_matrix(data[attributes], figsize=(12, 9), hist_kwds= {'bins': 50})"
      ],
      "metadata": {
        "colab": {
          "base_uri": "https://localhost:8080/",
          "height": 730
        },
        "id": "a4ir9FXd1wiT",
        "outputId": "405186a0-e6d2-41e3-8a99-3102fdc57b07"
      },
      "execution_count": null,
      "outputs": [
        {
          "output_type": "execute_result",
          "data": {
            "text/plain": [
              "array([[<matplotlib.axes._subplots.AxesSubplot object at 0x7fe33a2c1e90>,\n",
              "        <matplotlib.axes._subplots.AxesSubplot object at 0x7fe33a230b10>,\n",
              "        <matplotlib.axes._subplots.AxesSubplot object at 0x7fe33a25b690>],\n",
              "       [<matplotlib.axes._subplots.AxesSubplot object at 0x7fe33a212c90>,\n",
              "        <matplotlib.axes._subplots.AxesSubplot object at 0x7fe33a1d42d0>,\n",
              "        <matplotlib.axes._subplots.AxesSubplot object at 0x7fe33a18b8d0>],\n",
              "       [<matplotlib.axes._subplots.AxesSubplot object at 0x7fe33a142f50>,\n",
              "        <matplotlib.axes._subplots.AxesSubplot object at 0x7fe33a1054d0>,\n",
              "        <matplotlib.axes._subplots.AxesSubplot object at 0x7fe33a105510>]],\n",
              "      dtype=object)"
            ]
          },
          "metadata": {},
          "execution_count": 25
        },
        {
          "output_type": "display_data",
          "data": {
            "text/plain": [
              "<Figure size 864x648 with 9 Axes>"
            ],
            "image/png": "[encoded data removed]"
          },
          "metadata": {
            "needs_background": "light"
          }
        }
      ]
    },
    {
      "cell_type": "code",
      "source": [
        "#Total Unique Courses\n",
        "course = data.groupby(['course_title']).groups.keys()\n",
        "len(course)"
      ],
      "metadata": {
        "colab": {
          "base_uri": "https://localhost:8080/"
        },
        "id": "Tbn0QJ-hDP9E",
        "outputId": "718b791f-231c-41f3-ca72-9064ef32d029"
      },
      "execution_count": null,
      "outputs": [
        {
          "output_type": "execute_result",
          "data": {
            "text/plain": [
              "3788"
            ]
          },
          "metadata": {},
          "execution_count": 26
        }
      ]
    },
    {
      "cell_type": "code",
      "source": [
        "a = data.groupby('course_title')['rating'].sum()\n",
        "top10 = a.nlargest(10)\n",
        "top10"
      ],
      "metadata": {
        "colab": {
          "base_uri": "https://localhost:8080/"
        },
        "id": "PWPy0-M7FiVJ",
        "outputId": "b19c2556-6076-43fc-ce2b-b49e81d1781e"
      },
      "execution_count": null,
      "outputs": [
        {
          "output_type": "execute_result",
          "data": {
            "text/plain": [
              "course_title\n",
              "Corporate Strategy                                                        246.0\n",
              "Cryptography                                                              230.0\n",
              "3-Axis Machining with Autodesk Fusion 360                                 125.0\n",
              "3.- El Cálculo - Modelo Cúbico                                            125.0\n",
              "3D CAD Application                                                        125.0\n",
              "AIDS: Fear and Hope                                                       125.0\n",
              "API Design and Fundamentals of Google Cloud's Apigee API Platform         125.0\n",
              "API Security on Google Cloud's Apigee API Platform                        125.0\n",
              "Accounting Analysis I: The Role of Accounting as an Information System    125.0\n",
              "Accounting: Principles of Financial Accounting                            125.0\n",
              "Name: rating, dtype: float64"
            ]
          },
          "metadata": {},
          "execution_count": 27
        }
      ]
    },
    {
      "cell_type": "code",
      "source": [
        "#Top 10 Courses w.r.t User Ratings\n",
        "top10.plot(kind=\"barh\", figsize=(12,9))\n",
        "plt.title('TOP 10 COURSES WITH MAXIMUM NUMBER OF RATINGS')\n",
        "plt.xlabel('Course Name')\n",
        "plt.ylabel('Number of Ratings')"
      ],
      "metadata": {
        "colab": {
          "base_uri": "https://localhost:8080/",
          "height": 584
        },
        "id": "rFzv4kw5Hi25",
        "outputId": "01d350bd-8d56-4fba-98de-fbe428725573"
      },
      "execution_count": null,
      "outputs": [
        {
          "output_type": "execute_result",
          "data": {
            "text/plain": [
              "Text(0, 0.5, 'Number of Ratings')"
            ]
          },
          "metadata": {},
          "execution_count": 40
        },
        {
          "output_type": "display_data",
          "data": {
            "text/plain": [
              "<Figure size 864x648 with 1 Axes>"
            ],
            "image/png": "[encoded data removed]"
          },
          "metadata": {
            "needs_background": "light"
          }
        }
      ]
    },
    {
      "cell_type": "code",
      "source": [
        "#User Rating Distribution throughout the data\n",
        "import seaborn as sns\n",
        "plt.figure(figsize=(12,9)) \n",
        "sns.countplot(x='rating', data=data)\n",
        "plt.xlabel('Course Rating')\n",
        "plt.ylabel('Number of Courses')\n",
        "plt.title('NUMBER OF COURSES FOR DIFFERENT RATINGS')  "
      ],
      "metadata": {
        "colab": {
          "base_uri": "https://localhost:8080/",
          "height": 584
        },
        "id": "L2rF5Tcf_5mX",
        "outputId": "0170aa20-44f7-4006-cddb-0bb444884fbe"
      },
      "execution_count": null,
      "outputs": [
        {
          "output_type": "execute_result",
          "data": {
            "text/plain": [
              "Text(0.5, 1.0, 'NUMBER OF COURSES FOR DIFFERENT RATINGS')"
            ]
          },
          "metadata": {},
          "execution_count": 29
        },
        {
          "output_type": "display_data",
          "data": {
            "text/plain": [
              "<Figure size 864x648 with 1 Axes>"
            ],
            "image/png": "[encoded data removed]"
          },
          "metadata": {
            "needs_background": "light"
          }
        }
      ]
    },
    {
      "cell_type": "code",
      "source": [
        "#Difficulty Level type Distribution throughout the data\n",
        "ax= data['difficulty_level'].value_counts(ascending=False).plot.pie(figsize=(12, 9))\n",
        "plt.title('COURSE DIFFICULTY TYPE') \n",
        "plt.show()"
      ],
      "metadata": {
        "colab": {
          "base_uri": "https://localhost:8080/",
          "height": 536
        },
        "id": "U0SNOO0O_6Mj",
        "outputId": "520fb3d9-5031-4702-a632-80430b08e0fc"
      },
      "execution_count": null,
      "outputs": [
        {
          "output_type": "display_data",
          "data": {
            "text/plain": [
              "<Figure size 864x648 with 1 Axes>"
            ],
            "image/png": "[encoded data removed]"
          },
          "metadata": {}
        }
      ]
    },
    {
      "cell_type": "code",
      "source": [
        "#Course Duration Distribution throughout the data\n",
        "#Rating Distribution throughout the data\n",
        "import seaborn as sns\n",
        "plt.figure(figsize=(15,10)) \n",
        "sns.countplot(x='duration', data=data)\n",
        "plt.xlabel('Course Duration')\n",
        "plt.xticks(rotation=90)\n",
        "plt.ylabel('Number of Courses')\n",
        "plt.title('NUMBER OF COURSES FOR DIFFERENT DURATION')  "
      ],
      "metadata": {
        "colab": {
          "base_uri": "https://localhost:8080/",
          "height": 647
        },
        "id": "lbd05pzBYCmG",
        "outputId": "cdfe52ec-7efa-4253-d0d8-43449097910f"
      },
      "execution_count": null,
      "outputs": [
        {
          "output_type": "execute_result",
          "data": {
            "text/plain": [
              "Text(0.5, 1.0, 'NUMBER OF COURSES FOR DIFFERENT DURATION')"
            ]
          },
          "metadata": {},
          "execution_count": 32
        },
        {
          "output_type": "display_data",
          "data": {
            "text/plain": [
              "<Figure size 1080x720 with 1 Axes>"
            ],
            "image/png": "[encoded data removed]"
          },
          "metadata": {
            "needs_background": "light"
          }
        }
      ]
    },
    {
      "cell_type": "code",
      "source": [
        "def label_race (row):\n",
        "   if row['duration'] <= 10 :\n",
        "      return 'Short Course Duration'\n",
        "   if row['duration'] > 10 and row['duration'] <= 35 :\n",
        "      return 'Medium Course  Duration'\n",
        "   if row['duration'] >35 and row['duration'] <=70 :\n",
        "      return 'Long Course Duration'\n",
        "   if row['duration'] >70  :\n",
        "      return 'Very Long Course Duration'"
      ],
      "metadata": {
        "id": "Jg-pLUnkewrf"
      },
      "execution_count": null,
      "outputs": []
    },
    {
      "cell_type": "code",
      "source": [
        "data['duration_label'] = data.apply (lambda row: label_race(row), axis=1)"
      ],
      "metadata": {
        "id": "uzBjxEZV8n7H"
      },
      "execution_count": null,
      "outputs": []
    },
    {
      "cell_type": "code",
      "source": [
        "data[\"duration_label\"].value_counts()"
      ],
      "metadata": {
        "colab": {
          "base_uri": "https://localhost:8080/"
        },
        "id": "K9-47s9yiEhQ",
        "outputId": "ed3893d5-9f5b-4131-cd0a-7e9a4f43700e"
      },
      "execution_count": null,
      "outputs": [
        {
          "output_type": "execute_result",
          "data": {
            "text/plain": [
              "Medium Course  Duration      27922\n",
              "Short Course Duration        12646\n",
              "Long Course Duration          1899\n",
              "Very Long Course Duration      203\n",
              "Name: duration_label, dtype: int64"
            ]
          },
          "metadata": {},
          "execution_count": 35
        }
      ]
    },
    {
      "cell_type": "code",
      "source": [
        "plt.figure(figsize=(15,10))\n",
        "g = sns.countplot(data[\"difficulty_level\"] ,hue=data[\"duration_label\"])\n",
        "plt.xlabel('Course Difficulty Levels')\n",
        "plt.ylabel('Number of Courses')\n",
        "plt.title(\"NUMBER OF COURSES WITH THEIR DIFFICULTY LEVELS & DURATION\")\n",
        "\n"
      ],
      "metadata": {
        "colab": {
          "base_uri": "https://localhost:8080/",
          "height": 693
        },
        "id": "umPq9UPxdWA7",
        "outputId": "2d3d1807-74c1-440a-8113-b407ede4a087"
      },
      "execution_count": null,
      "outputs": [
        {
          "output_type": "stream",
          "name": "stderr",
          "text": [
            "/usr/local/lib/python3.7/dist-packages/seaborn/_decorators.py:43: FutureWarning: Pass the following variable as a keyword arg: x. From version 0.12, the only valid positional argument will be `data`, and passing other arguments without an explicit keyword will result in an error or misinterpretation.\n",
            "  FutureWarning\n"
          ]
        },
        {
          "output_type": "execute_result",
          "data": {
            "text/plain": [
              "Text(0.5, 1.0, 'NUMBER OF COURSES WITH THEIR DIFFICULTY LEVELS & DURATION')"
            ]
          },
          "metadata": {},
          "execution_count": 36
        },
        {
          "output_type": "display_data",
          "data": {
            "text/plain": [
              "<Figure size 1080x720 with 1 Axes>"
            ],
            "image/png": "[encoded data removed]"
          },
          "metadata": {
            "needs_background": "light"
          }
        }
      ]
    },
    {
      "cell_type": "code",
      "source": [
        "#Sentiment Analysis based on VADER\n",
        "import nltk\n",
        "nltk.download('vader_lexicon')\n",
        "from nltk.sentiment.vader import SentimentIntensityAnalyzer\n",
        "\n",
        "sid = SentimentIntensityAnalyzer()"
      ],
      "metadata": {
        "colab": {
          "base_uri": "https://localhost:8080/"
        },
        "id": "hOkGoiFX_6UX",
        "outputId": "909d4d05-9d66-4c4d-99c9-3c12a91ca3f4"
      },
      "execution_count": null,
      "outputs": [
        {
          "output_type": "stream",
          "name": "stderr",
          "text": [
            "[nltk_data] Downloading package vader_lexicon to /root/nltk_data...\n"
          ]
        }
      ]
    },
    {
      "cell_type": "code",
      "source": [
        "data.info()"
      ],
      "metadata": {
        "colab": {
          "base_uri": "https://localhost:8080/"
        },
        "id": "qg4I0GU-ALJU",
        "outputId": "33733c72-4157-4326-e7a4-d08a2cfbd63f"
      },
      "execution_count": null,
      "outputs": [
        {
          "output_type": "stream",
          "name": "stdout",
          "text": [
            "<class 'pandas.core.frame.DataFrame'>\n",
            "Int64Index: 42670 entries, 0 to 43224\n",
            "Data columns (total 12 columns):\n",
            " #   Column                  Non-Null Count  Dtype         \n",
            "---  ------                  --------------  -----         \n",
            " 0   course_title            42670 non-null  object        \n",
            " 1   difficulty_level        42670 non-null  object        \n",
            " 2   duration                42670 non-null  int64         \n",
            " 3   skills                  42670 non-null  object        \n",
            " 4   instructors             42670 non-null  object        \n",
            " 5   description             42670 non-null  object        \n",
            " 6   rating                  40813 non-null  float64       \n",
            " 7   review_date             40813 non-null  datetime64[ns]\n",
            " 8   user_name               40813 non-null  object        \n",
            " 9   reviews                 40288 non-null  object        \n",
            " 10  numeric_difficulty_lvl  42670 non-null  int64         \n",
            " 11  duration_label          42670 non-null  object        \n",
            "dtypes: datetime64[ns](1), float64(1), int64(2), object(8)\n",
            "memory usage: 5.2+ MB\n"
          ]
        }
      ]
    },
    {
      "cell_type": "code",
      "source": [
        "data['scores'] = data['reviews'].apply(lambda reviews: sid.polarity_scores(str(reviews)))"
      ],
      "metadata": {
        "id": "c_pZ9JAH_pqr"
      },
      "execution_count": null,
      "outputs": []
    },
    {
      "cell_type": "code",
      "source": [
        "data['compound']  = data['scores'].apply(lambda score_dict: score_dict['compound'])"
      ],
      "metadata": {
        "id": "1k15IHDn_pt7"
      },
      "execution_count": null,
      "outputs": []
    },
    {
      "cell_type": "code",
      "source": [
        "data['review polarity'] = data['compound'].apply(lambda c: 'pos' if c >=0 else 'neg')\n",
        "\n",
        "data.head()"
      ],
      "metadata": {
        "colab": {
          "base_uri": "https://localhost:8080/",
          "height": 808
        },
        "id": "-zoRLnEw_pwh",
        "outputId": "a4f24deb-8895-4d7b-b097-437fd02a65ab"
      },
      "execution_count": null,
      "outputs": [
        {
          "output_type": "execute_result",
          "data": {
            "text/plain": [
              "                       course_title difficulty_level  duration  \\\n",
              "0  Cloud Computing Concepts, Part 1   Beginner Level        23   \n",
              "1  Cloud Computing Concepts, Part 1   Beginner Level        23   \n",
              "2  Cloud Computing Concepts, Part 1   Beginner Level        23   \n",
              "3  Cloud Computing Concepts, Part 1   Beginner Level        23   \n",
              "4  Cloud Computing Concepts, Part 1   Beginner Level        23   \n",
              "\n",
              "                                              skills         instructors  \\\n",
              "0  ['Distributed Algorithm', 'Distributed Computi...  ['Indranil Gupta']   \n",
              "1  ['Distributed Algorithm', 'Distributed Computi...  ['Indranil Gupta']   \n",
              "2  ['Distributed Algorithm', 'Distributed Computi...  ['Indranil Gupta']   \n",
              "3  ['Distributed Algorithm', 'Distributed Computi...  ['Indranil Gupta']   \n",
              "4  ['Distributed Algorithm', 'Distributed Computi...  ['Indranil Gupta']   \n",
              "\n",
              "                                         description  rating review_date  \\\n",
              "0  Cloud computing systems today, whether open-so...     3.0  2017-06-26   \n",
              "1  Cloud computing systems today, whether open-so...     1.0  2018-04-25   \n",
              "2  Cloud computing systems today, whether open-so...     3.0  2017-07-11   \n",
              "3  Cloud computing systems today, whether open-so...     4.0  2019-06-07   \n",
              "4  Cloud computing systems today, whether open-so...     5.0  2016-10-06   \n",
              "\n",
              "        user_name                                            reviews  \\\n",
              "0  By Stephanie B  I found the concepts taught in this course int...   \n",
              "1      By Ehsan M  The educational material do not meet the expec...   \n",
              "2      By Jason N  The programming assignment is very old style C...   \n",
              "3      By Craig K  My experience with this course was mostly posi...   \n",
              "4       By Dave P  This instructor is fantastic.  He is exception...   \n",
              "\n",
              "   numeric_difficulty_lvl           duration_label  \\\n",
              "0                       1  Medium Course  Duration   \n",
              "1                       1  Medium Course  Duration   \n",
              "2                       1  Medium Course  Duration   \n",
              "3                       1  Medium Course  Duration   \n",
              "4                       1  Medium Course  Duration   \n",
              "\n",
              "                                              scores  compound review polarity  \n",
              "0  {'neg': 0.0, 'neu': 0.901, 'pos': 0.099, 'comp...    0.9014             pos  \n",
              "1  {'neg': 0.0, 'neu': 0.984, 'pos': 0.016, 'comp...    0.0387             pos  \n",
              "2  {'neg': 0.057, 'neu': 0.814, 'pos': 0.129, 'co...    0.6258             pos  \n",
              "3  {'neg': 0.0, 'neu': 0.797, 'pos': 0.203, 'comp...    0.9042             pos  \n",
              "4  {'neg': 0.0, 'neu': 0.612, 'pos': 0.388, 'comp...    0.9377             pos  "
            ],
            "text/html": [
              "\n",
              "  <div id=\"df-a483f728-1995-4e33-9adf-f47123b35149\">\n",
              "    <div class=\"colab-df-container\">\n",
              "      <div>\n",
              "<style scoped>\n",
              "    .dataframe tbody tr th:only-of-type {\n",
              "        vertical-align: middle;\n",
              "    }\n",
              "\n",
              "    .dataframe tbody tr th {\n",
              "        vertical-align: top;\n",
              "    }\n",
              "\n",
              "    .dataframe thead th {\n",
              "        text-align: right;\n",
              "    }\n",
              "</style>\n",
              "<table border=\"1\" class=\"dataframe\">\n",
              "  <thead>\n",
              "    <tr style=\"text-align: right;\">\n",
              "      <th></th>\n",
              "      <th>course_title</th>\n",
              "      <th>difficulty_level</th>\n",
              "      <th>duration</th>\n",
              "      <th>skills</th>\n",
              "      <th>instructors</th>\n",
              "      <th>description</th>\n",
              "      <th>rating</th>\n",
              "      <th>review_date</th>\n",
              "      <th>user_name</th>\n",
              "      <th>reviews</th>\n",
              "      <th>numeric_difficulty_lvl</th>\n",
              "      <th>duration_label</th>\n",
              "      <th>scores</th>\n",
              "      <th>compound</th>\n",
              "      <th>review polarity</th>\n",
              "    </tr>\n",
              "  </thead>\n",
              "  <tbody>\n",
              "    <tr>\n",
              "      <th>0</th>\n",
              "      <td>Cloud Computing Concepts, Part 1</td>\n",
              "      <td>Beginner Level</td>\n",
              "      <td>23</td>\n",
              "      <td>['Distributed Algorithm', 'Distributed Computi...</td>\n",
              "      <td>['Indranil Gupta']</td>\n",
              "      <td>Cloud computing systems today, whether open-so...</td>\n",
              "      <td>3.0</td>\n",
              "      <td>2017-06-26</td>\n",
              "      <td>By Stephanie B</td>\n",
              "      <td>I found the concepts taught in this course int...</td>\n",
              "      <td>1</td>\n",
              "      <td>Medium Course  Duration</td>\n",
              "      <td>{'neg': 0.0, 'neu': 0.901, 'pos': 0.099, 'comp...</td>\n",
              "      <td>0.9014</td>\n",
              "      <td>pos</td>\n",
              "    </tr>\n",
              "    <tr>\n",
              "      <th>1</th>\n",
              "      <td>Cloud Computing Concepts, Part 1</td>\n",
              "      <td>Beginner Level</td>\n",
              "      <td>23</td>\n",
              "      <td>['Distributed Algorithm', 'Distributed Computi...</td>\n",
              "      <td>['Indranil Gupta']</td>\n",
              "      <td>Cloud computing systems today, whether open-so...</td>\n",
              "      <td>1.0</td>\n",
              "      <td>2018-04-25</td>\n",
              "      <td>By Ehsan M</td>\n",
              "      <td>The educational material do not meet the expec...</td>\n",
              "      <td>1</td>\n",
              "      <td>Medium Course  Duration</td>\n",
              "      <td>{'neg': 0.0, 'neu': 0.984, 'pos': 0.016, 'comp...</td>\n",
              "      <td>0.0387</td>\n",
              "      <td>pos</td>\n",
              "    </tr>\n",
              "    <tr>\n",
              "      <th>2</th>\n",
              "      <td>Cloud Computing Concepts, Part 1</td>\n",
              "      <td>Beginner Level</td>\n",
              "      <td>23</td>\n",
              "      <td>['Distributed Algorithm', 'Distributed Computi...</td>\n",
              "      <td>['Indranil Gupta']</td>\n",
              "      <td>Cloud computing systems today, whether open-so...</td>\n",
              "      <td>3.0</td>\n",
              "      <td>2017-07-11</td>\n",
              "      <td>By Jason N</td>\n",
              "      <td>The programming assignment is very old style C...</td>\n",
              "      <td>1</td>\n",
              "      <td>Medium Course  Duration</td>\n",
              "      <td>{'neg': 0.057, 'neu': 0.814, 'pos': 0.129, 'co...</td>\n",
              "      <td>0.6258</td>\n",
              "      <td>pos</td>\n",
              "    </tr>\n",
              "    <tr>\n",
              "      <th>3</th>\n",
              "      <td>Cloud Computing Concepts, Part 1</td>\n",
              "      <td>Beginner Level</td>\n",
              "      <td>23</td>\n",
              "      <td>['Distributed Algorithm', 'Distributed Computi...</td>\n",
              "      <td>['Indranil Gupta']</td>\n",
              "      <td>Cloud computing systems today, whether open-so...</td>\n",
              "      <td>4.0</td>\n",
              "      <td>2019-06-07</td>\n",
              "      <td>By Craig K</td>\n",
              "      <td>My experience with this course was mostly posi...</td>\n",
              "      <td>1</td>\n",
              "      <td>Medium Course  Duration</td>\n",
              "      <td>{'neg': 0.0, 'neu': 0.797, 'pos': 0.203, 'comp...</td>\n",
              "      <td>0.9042</td>\n",
              "      <td>pos</td>\n",
              "    </tr>\n",
              "    <tr>\n",
              "      <th>4</th>\n",
              "      <td>Cloud Computing Concepts, Part 1</td>\n",
              "      <td>Beginner Level</td>\n",
              "      <td>23</td>\n",
              "      <td>['Distributed Algorithm', 'Distributed Computi...</td>\n",
              "      <td>['Indranil Gupta']</td>\n",
              "      <td>Cloud computing systems today, whether open-so...</td>\n",
              "      <td>5.0</td>\n",
              "      <td>2016-10-06</td>\n",
              "      <td>By Dave P</td>\n",
              "      <td>This instructor is fantastic.  He is exception...</td>\n",
              "      <td>1</td>\n",
              "      <td>Medium Course  Duration</td>\n",
              "      <td>{'neg': 0.0, 'neu': 0.612, 'pos': 0.388, 'comp...</td>\n",
              "      <td>0.9377</td>\n",
              "      <td>pos</td>\n",
              "    </tr>\n",
              "  </tbody>\n",
              "</table>\n",
              "</div>\n",
              "      <button class=\"colab-df-convert\" onclick=\"convertToInteractive('df-a483f728-1995-4e33-9adf-f47123b35149')\"\n",
              "              title=\"Convert this dataframe to an interactive table.\"\n",
              "              style=\"display:none;\">\n",
              "        \n",
              "  <svg xmlns=\"http://www.w3.org/2000/svg\" height=\"24px\"viewBox=\"0 0 24 24\"\n",
              "       width=\"24px\">\n",
              "    <path d=\"M0 0h24v24H0V0z\" fill=\"none\"/>\n",
              "    <path d=\"M18.56 5.44l.94 2.06.94-2.06 2.06-.94-2.06-.94-.94-2.06-.94 2.06-2.06.94zm-11 1L8.5 8.5l.94-2.06 2.06-.94-2.06-.94L8.5 2.5l-.94 2.06-2.06.94zm10 10l.94 2.06.94-2.06 2.06-.94-2.06-.94-.94-2.06-.94 2.06-2.06.94z\"/><path d=\"M17.41 7.96l-1.37-1.37c-.4-.4-.92-.59-1.43-.59-.52 0-1.04.2-1.43.59L10.3 9.45l-7.72 7.72c-.78.78-.78 2.05 0 2.83L4 21.41c.39.39.9.59 1.41.59.51 0 1.02-.2 1.41-.59l7.78-7.78 2.81-2.81c.8-.78.8-2.07 0-2.86zM5.41 20L4 18.59l7.72-7.72 1.47 1.35L5.41 20z\"/>\n",
              "  </svg>\n",
              "      </button>\n",
              "      \n",
              "  <style>\n",
              "    .colab-df-container {\n",
              "      display:flex;\n",
              "      flex-wrap:wrap;\n",
              "      gap: 12px;\n",
              "    }\n",
              "\n",
              "    .colab-df-convert {\n",
              "      background-color: #E8F0FE;\n",
              "      border: none;\n",
              "      border-radius: 50%;\n",
              "      cursor: pointer;\n",
              "      display: none;\n",
              "      fill: #1967D2;\n",
              "      height: 32px;\n",
              "      padding: 0 0 0 0;\n",
              "      width: 32px;\n",
              "    }\n",
              "\n",
              "    .colab-df-convert:hover {\n",
              "      background-color: #E2EBFA;\n",
              "      box-shadow: 0px 1px 2px rgba(60, 64, 67, 0.3), 0px 1px 3px 1px rgba(60, 64, 67, 0.15);\n",
              "      fill: #174EA6;\n",
              "    }\n",
              "\n",
              "    [theme=dark] .colab-df-convert {\n",
              "      background-color: #3B4455;\n",
              "      fill: #D2E3FC;\n",
              "    }\n",
              "\n",
              "    [theme=dark] .colab-df-convert:hover {\n",
              "      background-color: #434B5C;\n",
              "      box-shadow: 0px 1px 3px 1px rgba(0, 0, 0, 0.15);\n",
              "      filter: drop-shadow(0px 1px 2px rgba(0, 0, 0, 0.3));\n",
              "      fill: #FFFFFF;\n",
              "    }\n",
              "  </style>\n",
              "\n",
              "      <script>\n",
              "        const buttonEl =\n",
              "          document.querySelector('#df-a483f728-1995-4e33-9adf-f47123b35149 button.colab-df-convert');\n",
              "        buttonEl.style.display =\n",
              "          google.colab.kernel.accessAllowed ? 'block' : 'none';\n",
              "\n",
              "        async function convertToInteractive(key) {\n",
              "          const element = document.querySelector('#df-a483f728-1995-4e33-9adf-f47123b35149');\n",
              "          const dataTable =\n",
              "            await google.colab.kernel.invokeFunction('convertToInteractive',\n",
              "                                                     [key], {});\n",
              "          if (!dataTable) return;\n",
              "\n",
              "          const docLinkHtml = 'Like what you see? Visit the ' +\n",
              "            '<a target=\"_blank\" href=https://colab.research.google.com/notebooks/data_table.ipynb>data table notebook</a>'\n",
              "            + ' to learn more about interactive tables.';\n",
              "          element.innerHTML = '';\n",
              "          dataTable['output_type'] = 'display_data';\n",
              "          await google.colab.output.renderOutput(dataTable, element);\n",
              "          const docLink = document.createElement('div');\n",
              "          docLink.innerHTML = docLinkHtml;\n",
              "          element.appendChild(docLink);\n",
              "        }\n",
              "      </script>\n",
              "    </div>\n",
              "  </div>\n",
              "  "
            ]
          },
          "metadata": {},
          "execution_count": 45
        }
      ]
    },
    {
      "cell_type": "code",
      "source": [
        "data['review polarity'].value_counts()"
      ],
      "metadata": {
        "colab": {
          "base_uri": "https://localhost:8080/"
        },
        "id": "Dj4DbPlq_pzK",
        "outputId": "660c50d3-4333-4e6f-be02-d92225bbf0ac"
      },
      "execution_count": null,
      "outputs": [
        {
          "output_type": "execute_result",
          "data": {
            "text/plain": [
              "pos    38326\n",
              "neg     4344\n",
              "Name: review polarity, dtype: int64"
            ]
          },
          "metadata": {},
          "execution_count": 46
        }
      ]
    },
    {
      "cell_type": "code",
      "source": [
        "#Difficulty Level type Distribution throughout the data\n",
        "ax= data['review polarity'].value_counts(ascending=False).plot.pie(figsize=(15, 10))\n",
        "plt.title('USER REVIEW TYPE') \n",
        "plt.show()"
      ],
      "metadata": {
        "colab": {
          "base_uri": "https://localhost:8080/",
          "height": 591
        },
        "id": "2g3LxF84FF0a",
        "outputId": "35d778db-6756-4c86-f63d-5af003591ee9"
      },
      "execution_count": null,
      "outputs": [
        {
          "output_type": "display_data",
          "data": {
            "text/plain": [
              "<Figure size 1080x720 with 1 Axes>"
            ],
            "image/png": "[encoded data removed]"
          },
          "metadata": {}
        }
      ]
    },
    {
      "cell_type": "code",
      "source": [
        "plt.figure(figsize=(15,10))\n",
        "g = sns.countplot(data[\"duration_label\"] ,hue=data[\"review polarity\"])\n",
        "plt.xlabel('Course Polarity')\n",
        "plt.ylabel('Number of Courses')\n",
        "plt.title(\"NUMBER OF COURSES WITH THEIR REVIEW POLARITY & DURATION LEVELS\")\n"
      ],
      "metadata": {
        "colab": {
          "base_uri": "https://localhost:8080/",
          "height": 693
        },
        "id": "nIhYPHBUCELg",
        "outputId": "891456a9-1498-4b05-eeaa-6ae675157327"
      },
      "execution_count": null,
      "outputs": [
        {
          "output_type": "stream",
          "name": "stderr",
          "text": [
            "/usr/local/lib/python3.7/dist-packages/seaborn/_decorators.py:43: FutureWarning: Pass the following variable as a keyword arg: x. From version 0.12, the only valid positional argument will be `data`, and passing other arguments without an explicit keyword will result in an error or misinterpretation.\n",
            "  FutureWarning\n"
          ]
        },
        {
          "output_type": "execute_result",
          "data": {
            "text/plain": [
              "Text(0.5, 1.0, 'NUMBER OF COURSES WITH THEIR REVIEW POLARITY & DURATION LEVELS')"
            ]
          },
          "metadata": {},
          "execution_count": 50
        },
        {
          "output_type": "display_data",
          "data": {
            "text/plain": [
              "<Figure size 1080x720 with 1 Axes>"
            ],
            "image/png": "[encoded data removed]"
          },
          "metadata": {
            "needs_background": "light"
          }
        }
      ]
    },
    {
      "cell_type": "code",
      "metadata": {
        "id": "i1OpGC-oraQW",
        "colab": {
          "base_uri": "https://localhost:8080/",
          "height": 693
        },
        "outputId": "3adaf415-7d34-4e18-ad4b-cd1adbabf59e"
      },
      "source": [
        "plt.figure(figsize=(15,10))\n",
        "g = sns.countplot(data[\"rating\"] ,hue=data[\"review polarity\"])\n",
        "plt.xlabel('Course Polarity')\n",
        "plt.ylabel('Number of Courses')\n",
        "plt.title(\"NUMBER OF COURSES WITH THEIR REVIEW POLARITY & RATING LEVELS\")\n"
      ],
      "execution_count": null,
      "outputs": [
        {
          "output_type": "stream",
          "name": "stderr",
          "text": [
            "/usr/local/lib/python3.7/dist-packages/seaborn/_decorators.py:43: FutureWarning: Pass the following variable as a keyword arg: x. From version 0.12, the only valid positional argument will be `data`, and passing other arguments without an explicit keyword will result in an error or misinterpretation.\n",
            "  FutureWarning\n"
          ]
        },
        {
          "output_type": "execute_result",
          "data": {
            "text/plain": [
              "Text(0.5, 1.0, 'NUMBER OF COURSES WITH THEIR REVIEW POLARITY & RATING LEVELS')"
            ]
          },
          "metadata": {},
          "execution_count": 51
        },
        {
          "output_type": "display_data",
          "data": {
            "text/plain": [
              "<Figure size 1080x720 with 1 Axes>"
            ],
            "image/png": "[encoded data removed]"
          },
          "metadata": {
            "needs_background": "light"
          }
        }
      ]
    },
    {
      "cell_type": "code",
      "metadata": {
        "id": "yssT2FriraUG",
        "colab": {
          "base_uri": "https://localhost:8080/",
          "height": 693
        },
        "outputId": "57b11b11-7aca-4d67-e1cb-d5e8b8562e4c"
      },
      "source": [
        "plt.figure(figsize=(15,10))\n",
        "g = sns.countplot(data[\"difficulty_level\"] ,hue=data[\"review polarity\"])\n",
        "plt.xlabel('Course Polarity')\n",
        "plt.ylabel('Number of Courses')\n",
        "plt.title(\"NUMBER OF COURSES WITH THEIR REVIEW POLARITY & DIFFICULTY LEVELS\")"
      ],
      "execution_count": null,
      "outputs": [
        {
          "output_type": "stream",
          "name": "stderr",
          "text": [
            "/usr/local/lib/python3.7/dist-packages/seaborn/_decorators.py:43: FutureWarning: Pass the following variable as a keyword arg: x. From version 0.12, the only valid positional argument will be `data`, and passing other arguments without an explicit keyword will result in an error or misinterpretation.\n",
            "  FutureWarning\n"
          ]
        },
        {
          "output_type": "execute_result",
          "data": {
            "text/plain": [
              "Text(0.5, 1.0, 'NUMBER OF COURSES WITH THEIR REVIEW POLARITY & DIFFICULTY LEVELS')"
            ]
          },
          "metadata": {},
          "execution_count": 52
        },
        {
          "output_type": "display_data",
          "data": {
            "text/plain": [
              "<Figure size 1080x720 with 1 Axes>"
            ],
            "image/png": "[encoded data removed]"
          },
          "metadata": {
            "needs_background": "light"
          }
        }
      ]
    },
    {
      "cell_type": "code",
      "source": [],
      "metadata": {
        "id": "L7uSXU5BGPan"
      },
      "execution_count": null,
      "outputs": []
    }
  ]
}