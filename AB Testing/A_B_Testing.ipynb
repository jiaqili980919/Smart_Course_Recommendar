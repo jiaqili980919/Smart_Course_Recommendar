{
  "nbformat": 4,
  "nbformat_minor": 0,
  "metadata": {
    "colab": {
      "provenance": []
    },
    "kernelspec": {
      "name": "python3",
      "display_name": "Python 3"
    },
    "language_info": {
      "name": "python"
    }
  },
  "cells": [
    {
      "cell_type": "code",
      "execution_count": 3,
      "metadata": {
        "id": "Hv0dIV87CdZj"
      },
      "outputs": [],
      "source": [
        "# import lib\n",
        "import pandas as pd\n",
        "from scipy.stats import ttest_ind, ttest_ind_from_stats\n",
        "from scipy.special import stdtr"
      ]
    },
    {
      "cell_type": "code",
      "source": [
        "# read data \n",
        "df_test = pd.read_csv('/content/CTR_recommendation_sys - Sheet2.csv') "
      ],
      "metadata": {
        "id": "-W-x52Z3DP5r"
      },
      "execution_count": 5,
      "outputs": []
    },
    {
      "cell_type": "code",
      "source": [
        "t, p = ttest_ind(df_test['NMF+TF-IDF(project1)'], df_test['LDA+BOW(project3)'], equal_var=False)\n",
        "print(\"ttest_ind: t = %g  p = %g\" % (t, p))"
      ],
      "metadata": {
        "colab": {
          "base_uri": "https://localhost:8080/"
        },
        "id": "AcPIOxtsDVU3",
        "outputId": "426b1c78-a41c-4e58-e992-a6e6143d65c6"
      },
      "execution_count": 6,
      "outputs": [
        {
          "output_type": "stream",
          "name": "stdout",
          "text": [
            "ttest_ind: t = -2.69934  p = 0.00909367\n"
          ]
        }
      ]
    },
    {
      "cell_type": "code",
      "source": [
        "# Calculate Means of CTR in both groups\n",
        "NMF_TF_IDF_Mean = df_test['NMF+TF-IDF(project1)'].mean()\n",
        "LDA_BOW_Mean = df_test['LDA+BOW(project3)'].mean()"
      ],
      "metadata": {
        "id": "ZvvjswFADyR4"
      },
      "execution_count": 7,
      "outputs": []
    },
    {
      "cell_type": "code",
      "source": [
        "# Print out Means of CTR in both groups\n",
        "print('Mean of CTR in Control Group', NMF_TF_IDF_Mean)\n",
        "print('Mean of CTR in Experiment Group', LDA_BOW_Mean)"
      ],
      "metadata": {
        "colab": {
          "base_uri": "https://localhost:8080/"
        },
        "id": "qurn3DbWEL0A",
        "outputId": "913ed363-c79e-405e-c9db-d5f39fdf8391"
      },
      "execution_count": 8,
      "outputs": [
        {
          "output_type": "stream",
          "name": "stdout",
          "text": [
            "Mean of CTR in Control Group 0.36666666666666664\n",
            "Mean of CTR in Experiment Group 0.7\n"
          ]
        }
      ]
    },
    {
      "cell_type": "code",
      "source": [
        "# Histogram graph of CTR in Control Group\n",
        "import matplotlib.pyplot as plt\n",
        "df_test['NMF+TF-IDF(project1)'].hist()\n",
        "plt.show()"
      ],
      "metadata": {
        "colab": {
          "base_uri": "https://localhost:8080/",
          "height": 265
        },
        "id": "SaIAWCpCEwlT",
        "outputId": "b1ab9802-7ba8-459b-ddbf-2bda62d8f5bf"
      },
      "execution_count": 9,
      "outputs": [
        {
          "output_type": "display_data",
          "data": {
            "text/plain": [
              "<Figure size 432x288 with 1 Axes>"
            ],
            "image/png": "[encoded data removed]"
          },
          "metadata": {
            "needs_background": "light"
          }
        }
      ]
    },
    {
      "cell_type": "code",
      "source": [
        "df_test['LDA+BOW(project3)'].hist()\n",
        "plt.show()"
      ],
      "metadata": {
        "colab": {
          "base_uri": "https://localhost:8080/",
          "height": 265
        },
        "id": "tUjk2jDrE8ZG",
        "outputId": "c885052c-110b-4da5-ee5a-17c561b12669"
      },
      "execution_count": 10,
      "outputs": [
        {
          "output_type": "display_data",
          "data": {
            "text/plain": [
              "<Figure size 432x288 with 1 Axes>"
            ],
            "image/png": "[encoded data removed]"
          },
          "metadata": {
            "needs_background": "light"
          }
        }
      ]
    },
    {
      "cell_type": "code",
      "source": [],
      "metadata": {
        "id": "3CqTMpLuFCZb"
      },
      "execution_count": null,
      "outputs": []
    }
  ]
}